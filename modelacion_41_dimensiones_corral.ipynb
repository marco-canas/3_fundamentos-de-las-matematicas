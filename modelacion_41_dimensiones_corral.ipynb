{
  "nbformat": 4,
  "nbformat_minor": 0,
  "metadata": {
    "colab": {
      "provenance": [],
      "collapsed_sections": [],
      "include_colab_link": true
    },
    "kernelspec": {
      "name": "python3",
      "display_name": "Python 3"
    },
    "language_info": {
      "name": "python"
    }
  },
  "cells": [
    {
      "cell_type": "markdown",
      "metadata": {
        "id": "view-in-github",
        "colab_type": "text"
      },
      "source": [
        "<a href=\"https://colab.research.google.com/github/marco-canas/fundamentos-de-las-matematicas/blob/main/modelacion_41_dimensiones_corral.ipynb\" target=\"_parent\"><img src=\"https://colab.research.google.com/assets/colab-badge.svg\" alt=\"Open In Colab\"/></a>"
      ]
    },
    {
      "cell_type": "markdown",
      "source": [
        "<table align=\"center\">  <td>    <a href=\"https://colab.research.google.com/drive/1eCQXK-5MuDUwoQXznTKw1bm1W1uDgFfH#scrollTo=BEfAoCDmedaX\"_parent\"><img src=\"https://colab.research.google.com/assets/colab-badge.svg\" alt=\"Open In Colab\"/></a>  </td></table>"
      ],
      "metadata": {
        "id": "BEfAoCDmedaX"
      }
    },
    {
      "cell_type": "markdown",
      "source": [
        "# [Video de apoyo a la lectura](https://www.youtube.com/watch?v=RWtmrkc1LZI)\n"
      ],
      "metadata": {
        "id": "jJurbu6G0Q53"
      }
    },
    {
      "cell_type": "markdown",
      "source": [
        "## Dimensión de un jardín"
      ],
      "metadata": {
        "id": "PHDIh8cDAcrb"
      }
    },
    {
      "cell_type": "markdown",
      "source": [
        "### Un granjero tienen un terreno rectangular para un jardín, rodeado por una cerca de $200$ metros. Determine la **_longitud_** y la **_anchura_** del jardín si el **_área_** es de $2400$ metros cuadrados.  \n",
        " "
      ],
      "metadata": {
        "id": "3Kbdio7Ucos3"
      }
    },
    {
      "cell_type": "markdown",
      "source": [
        "### **Recopilación de datos**:\n",
        "- La figura es un rectangulo entonce debemos tener en cuenta que:\n",
        "\n",
        "   Área$= lw$\n",
        "\n",
        "   Perimetro$= 2 l + 2 w$\n",
        "   \n",
        "   dónde $l$ es la longitud y $w$ es el ancho del rectángulo\n",
        "- Datos redactados:\n",
        "  \n",
        "  Total de la cerca$=200$\n",
        "\n",
        "  A$=2400$\n",
        "\n",
        "  P$=200$\n",
        "\n",
        "- Incognitasplanteadas:\n",
        "\n",
        "  $l=?$  \n",
        "\n",
        "  $w=?$"
      ],
      "metadata": {
        "id": "97iGF-6UeTvV"
      }
    },
    {
      "cell_type": "markdown",
      "source": [
        "### **Modelo:**\n",
        "\n",
        "$$ 2400= lw $$ \n",
        "\n",
        "$$ 200 = 2l+2w $$\n",
        "\n"
      ],
      "metadata": {
        "id": "KXFqlwufkKS-"
      }
    },
    {
      "cell_type": "code",
      "source": [
        "from sympy import *\n",
        "l,w = var('x,w')\n",
        "eq1 = Eq(2400, l*w)\n",
        "eq2 = Eq(200, 2*l+2*w)\n",
        "solve([eq1, eq2], (l,w))"
      ],
      "metadata": {
        "colab": {
          "base_uri": "https://localhost:8080/"
        },
        "id": "aJAi53kyVhk1",
        "outputId": "f28a4d77-d444-42ac-ddda-739069e45371"
      },
      "execution_count": null,
      "outputs": [
        {
          "output_type": "execute_result",
          "data": {
            "text/plain": [
              "[(40, 60), (60, 40)]"
            ]
          },
          "metadata": {},
          "execution_count": 3
        }
      ]
    },
    {
      "cell_type": "markdown",
      "source": [
        "Usaremos una sola variable que en éste caso será $l$\n",
        "\n",
        "$l=2400/w$, $2l=200-(2w)$"
      ],
      "metadata": {
        "id": "wvdSuIePVVfU"
      }
    },
    {
      "cell_type": "markdown",
      "source": [
        "### Para hacer éste proceso usaremos Symbolab, en el siguiente link encontraremos dicho proceso paso a paso:\n",
        "\n",
        "https://es.symbolab.com/solver/step-by-step/l%3D%5Cfrac%7B2400%7D%7Bw%7D%2C%202l%3D200-%5Cleft(2w%5Cright)?or=input"
      ],
      "metadata": {
        "id": "8lCDIz7zltHb"
      }
    },
    {
      "cell_type": "markdown",
      "source": [
        "#### Por lo tanto, las soluciones para $l=2400/w$, $2l=200-(2w)$ son:\n",
        "\n",
        "- $w=40, l=60$ \n",
        "- $w=60, l=40$\n",
        "\n",
        "Como es una figura rectangular $l>w$, entonces usaremos la primera opción que es $w=40, l=60$."
      ],
      "metadata": {
        "id": "qhyhxw91pTJ2"
      }
    },
    {
      "cell_type": "markdown",
      "source": [
        "#### Reemplazaremos valores y demostremos:\n"
      ],
      "metadata": {
        "id": "c89WYa_UqpN-"
      }
    },
    {
      "cell_type": "code",
      "source": [
        "from sympy import *\n",
        "l = var('60')\n",
        "w = var('40')\n",
        "ecuacion = Eq(l,2400/w)\n",
        "ecuacion "
      ],
      "metadata": {
        "colab": {
          "base_uri": "https://localhost:8080/",
          "height": 51
        },
        "id": "TznahfsxrP3n",
        "outputId": "305d9d34-fe83-45b6-a63f-78ec3a5f0edd"
      },
      "execution_count": null,
      "outputs": [
        {
          "output_type": "execute_result",
          "data": {
            "text/plain": [
              "Eq(60, 2400/40)"
            ],
            "text/latex": "$\\displaystyle 60 = \\frac{2400}{40}$"
          },
          "metadata": {},
          "execution_count": 33
        }
      ]
    },
    {
      "cell_type": "code",
      "source": [
        "solve(ecuacion,l)"
      ],
      "metadata": {
        "colab": {
          "base_uri": "https://localhost:8080/"
        },
        "id": "DzraWYFpr1TH",
        "outputId": "9f0cefdc-8879-46c2-cf10-c63cff086c5d"
      },
      "execution_count": null,
      "outputs": [
        {
          "output_type": "execute_result",
          "data": {
            "text/plain": [
              "[2400/40]"
            ]
          },
          "metadata": {},
          "execution_count": 34
        }
      ]
    },
    {
      "cell_type": "code",
      "source": [
        "2400/40"
      ],
      "metadata": {
        "colab": {
          "base_uri": "https://localhost:8080/"
        },
        "id": "K6y8zkLotPDA",
        "outputId": "92cc67e0-a3e4-4d37-8895-a8d374af01d2"
      },
      "execution_count": null,
      "outputs": [
        {
          "output_type": "execute_result",
          "data": {
            "text/plain": [
              "60.0"
            ]
          },
          "metadata": {},
          "execution_count": 10
        }
      ]
    },
    {
      "cell_type": "code",
      "source": [
        "solve(ecuacion, w)"
      ],
      "metadata": {
        "colab": {
          "base_uri": "https://localhost:8080/"
        },
        "id": "X4ONaQVUxHz0",
        "outputId": "ec6cce51-14cd-4937-eec8-d5c8769c0ebd"
      },
      "execution_count": null,
      "outputs": [
        {
          "output_type": "execute_result",
          "data": {
            "text/plain": [
              "[2400/60]"
            ]
          },
          "metadata": {},
          "execution_count": 35
        }
      ]
    },
    {
      "cell_type": "code",
      "source": [
        "2400/60"
      ],
      "metadata": {
        "colab": {
          "base_uri": "https://localhost:8080/"
        },
        "id": "Vw6nVES_xL2h",
        "outputId": "0c614b09-eecf-4bb3-c2e6-a6e194610cd5"
      },
      "execution_count": null,
      "outputs": [
        {
          "output_type": "execute_result",
          "data": {
            "text/plain": [
              "40.0"
            ]
          },
          "metadata": {},
          "execution_count": 36
        }
      ]
    },
    {
      "cell_type": "code",
      "source": [
        "from sympy import *\n",
        "ecuacion = Eq(60,2400/40)\n",
        "ecuacion "
      ],
      "metadata": {
        "colab": {
          "base_uri": "https://localhost:8080/",
          "height": 37
        },
        "id": "w5MoSo4pyOQn",
        "outputId": "5df0cf0f-7e7a-405f-d452-7920f8279408"
      },
      "execution_count": null,
      "outputs": [
        {
          "output_type": "execute_result",
          "data": {
            "text/plain": [
              "True"
            ],
            "text/latex": "$\\displaystyle \\text{True}$"
          },
          "metadata": {},
          "execution_count": 46
        }
      ]
    },
    {
      "cell_type": "code",
      "source": [
        "from sympy import *\n",
        "l = var('60')\n",
        "w = var('40')\n",
        "ecuacion = Eq(2*l, 200-(2*w))\n",
        "ecuacion "
      ],
      "metadata": {
        "colab": {
          "base_uri": "https://localhost:8080/",
          "height": 37
        },
        "id": "Hwgz30luxZrI",
        "outputId": "89fda97c-8348-400c-be6c-6b2e82adc7fc"
      },
      "execution_count": null,
      "outputs": [
        {
          "output_type": "execute_result",
          "data": {
            "text/plain": [
              "Eq(2*60, 200 - 2*40)"
            ],
            "text/latex": "$\\displaystyle 2 \\cdot 60 = 200 - 2 \\cdot 40$"
          },
          "metadata": {},
          "execution_count": 40
        }
      ]
    },
    {
      "cell_type": "code",
      "source": [
        "solve(ecuacion, l)"
      ],
      "metadata": {
        "colab": {
          "base_uri": "https://localhost:8080/"
        },
        "id": "4rr8pWHGxiDP",
        "outputId": "7de43fd5-feab-4131-9d7d-d3b50fc6fd7e"
      },
      "execution_count": null,
      "outputs": [
        {
          "output_type": "execute_result",
          "data": {
            "text/plain": [
              "[100 - 40]"
            ]
          },
          "metadata": {},
          "execution_count": 41
        }
      ]
    },
    {
      "cell_type": "code",
      "source": [
        "100-40"
      ],
      "metadata": {
        "colab": {
          "base_uri": "https://localhost:8080/"
        },
        "id": "31zH_7hNxllA",
        "outputId": "8b7086cb-aef9-48ba-d01f-2244b0ba95e9"
      },
      "execution_count": null,
      "outputs": [
        {
          "output_type": "execute_result",
          "data": {
            "text/plain": [
              "60"
            ]
          },
          "metadata": {},
          "execution_count": 42
        }
      ]
    },
    {
      "cell_type": "code",
      "source": [
        "solve(ecuacion, w)"
      ],
      "metadata": {
        "colab": {
          "base_uri": "https://localhost:8080/"
        },
        "id": "MKJ2IHbdyAIh",
        "outputId": "6aac6772-c627-49b3-8d13-fcf10ee3abd9"
      },
      "execution_count": null,
      "outputs": [
        {
          "output_type": "execute_result",
          "data": {
            "text/plain": [
              "[100 - 60]"
            ]
          },
          "metadata": {},
          "execution_count": 44
        }
      ]
    },
    {
      "cell_type": "code",
      "source": [
        "100-60"
      ],
      "metadata": {
        "colab": {
          "base_uri": "https://localhost:8080/"
        },
        "id": "4Grf5qsByDg2",
        "outputId": "1e137a9d-3890-4a7e-ef01-5fa789768afd"
      },
      "execution_count": null,
      "outputs": [
        {
          "output_type": "execute_result",
          "data": {
            "text/plain": [
              "40"
            ]
          },
          "metadata": {},
          "execution_count": 2
        }
      ]
    },
    {
      "cell_type": "code",
      "source": [
        "from sympy import *\n",
        "ecuacion = Eq(2*60, 200-(2*40))\n",
        "ecuacion "
      ],
      "metadata": {
        "colab": {
          "base_uri": "https://localhost:8080/",
          "height": 37
        },
        "id": "1KB2fx42yYF6",
        "outputId": "84b63df3-7b53-4fe3-b1d3-0684930dd014"
      },
      "execution_count": null,
      "outputs": [
        {
          "output_type": "execute_result",
          "data": {
            "text/plain": [
              "True"
            ],
            "text/latex": "$\\displaystyle \\text{True}$"
          },
          "metadata": {},
          "execution_count": 47
        }
      ]
    }
  ]
}