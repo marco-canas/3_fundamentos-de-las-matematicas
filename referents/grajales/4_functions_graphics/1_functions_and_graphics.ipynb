{
 "cells": [
  {
   "attachments": {},
   "cell_type": "markdown",
   "id": "dc06dec7",
   "metadata": {
    "slideshow": {
     "slide_type": "slide"
    }
   },
   "source": [
    "<table align=\"left\">\n",
    "  <td>\n",
    "    <a href=\"https://colab.research.google.com/github/marco-canas/2_calculo_I/blob/main/referents/grajales/4_funciones_graficas/1_functions_and_graphics.ipynb\" target=\"_parent\"><img src=\"https://colab.research.google.com/assets/colab-badge.svg\" alt=\"Open In Colab\"/></a>\n",
    "  </td>\n",
    "</table>"
   ]
  },
  {
   "attachments": {},
   "cell_type": "markdown",
   "id": "dc6fb32f",
   "metadata": {},
   "source": [
    "Un reconocimiento muy muy especial a mi hermosa hermana Yorlady Albany Cañas Campillo, quien me ha enseñado, honestidad, dedicación, seriedad, buenos hábitos, y seguridad al hablar. \n",
    "\n",
    "<img src = 'https://github.com/marco-canas/2_calculo_I/blob/main/images/yorla_marco_2022_07_20.jpg?raw=true' width = 600>"
   ]
  },
  {
   "attachments": {},
   "cell_type": "markdown",
   "id": "e0c5b198",
   "metadata": {
    "slideshow": {
     "slide_type": "slide"
    }
   },
   "source": [
    "### [Video de apoyo a la lectura interactiva y experimental de este cuaderno]()"
   ]
  },
  {
   "attachments": {},
   "cell_type": "markdown",
   "id": "41e82203",
   "metadata": {
    "slideshow": {
     "slide_type": "slide"
    }
   },
   "source": [
    "## [Vínculo al programa del curso:  ](https://github.com/marco-canas/2_calculo_I)\n",
    "\n",
    "* Todos los profesores debemos proponer objetivos de formación\n",
    "* Propuesta de evaluación \n",
    "* Y propuesta de metodología: enfoque pedagógico de aula invertida. \n",
    "* Y propuesta de bibliografía: Lina Grajales: Matemáticas I para ciencias económicas. "
   ]
  },
  {
   "attachments": {},
   "cell_type": "markdown",
   "id": "d11ab06d",
   "metadata": {
    "slideshow": {
     "slide_type": "slide"
    }
   },
   "source": [
    "Un reconocimiento a mis estudiantes que han construido conmigo este saber pedagógico:\n",
    "\n",
    "<img src = 'https://github.com/marco-canas/2_calculo_I/blob/main/images/student_images/emotiva_20230616.jpg?raw=true' width = 600> \n",
    "\n"
   ]
  },
  {
   "attachments": {},
   "cell_type": "markdown",
   "id": "5e3936d8",
   "metadata": {
    "slideshow": {
     "slide_type": "slide"
    }
   },
   "source": [
    "# Llamar a lista o tomar asistencia con python o llamar el equipo para la tarea con video y cuaderno Jupyter sobre medición indirecta de grandes alturas con imágenes"
   ]
  },
  {
   "cell_type": "code",
   "execution_count": 6,
   "id": "7604880f",
   "metadata": {
    "slideshow": {
     "slide_type": "slide"
    }
   },
   "outputs": [],
   "source": [
    "def crear_lista_estudiantes(ubicacion_lista):\n",
    "    \"\"\"\n",
    "    \"\"\"\n",
    "    import pandas as pd     \n",
    "    grupo_df = pd.read_csv(ubicacion_lista, sep = ';') \n",
    "    # cuando el .csv file proviene de un .xlsx file, debe utilizarse sep = ';'\n",
    "    lista_estudiantes = list(grupo_df.nombre.values)\n",
    "    return lista_estudiantes "
   ]
  },
  {
   "cell_type": "code",
   "execution_count": 7,
   "id": "a359c096",
   "metadata": {
    "slideshow": {
     "slide_type": "slide"
    }
   },
   "outputs": [],
   "source": [
    "#llamar a lista o tomar registro de asistencia a clase\n",
    "def llamar_estudiantes_a_participar():\n",
    "    import numpy as np \n",
    "    from random import choice\n",
    "    if len(lista_estudiantes) != 0:\n",
    "        estudiante = choice(lista_estudiantes)\n",
    "        lista_estudiantes.remove(estudiante)\n",
    "        return print(estudiante)\n",
    "    else:\n",
    "        print('Todos los estudiantes han participado.\\n \\\n",
    "               Muchas gracias y Felicitaciones')"
   ]
  },
  {
   "cell_type": "code",
   "execution_count": 8,
   "id": "37ae00fb",
   "metadata": {
    "slideshow": {
     "slide_type": "slide"
    }
   },
   "outputs": [],
   "source": [
    "ubicacion_lista='https://raw.githubusercontent.com/marco-canas/groups_list/main/math_I.csv'\n",
    "lista_estudiantes = crear_lista_estudiantes(ubicacion_lista)"
   ]
  },
  {
   "cell_type": "code",
   "execution_count": 9,
   "id": "33f85aea",
   "metadata": {
    "scrolled": true,
    "slideshow": {
     "slide_type": "slide"
    }
   },
   "outputs": [
    {
     "name": "stdout",
     "output_type": "stream",
     "text": [
      "maria_isabel_campillo_garcia\n"
     ]
    }
   ],
   "source": [
    "llamar_estudiantes_a_participar()"
   ]
  },
  {
   "attachments": {},
   "cell_type": "markdown",
   "id": "ca46c23b",
   "metadata": {
    "slideshow": {
     "slide_type": "slide"
    }
   },
   "source": [
    "# Modelo general de clase: [aula invertida](https://www3.gobiernodecanarias.org/medusa/ecoescuela/pedagotic/aprendizaje-invertido-flipped-classroom/)\n",
    "\n",
    "## Definición y características de este modelo"
   ]
  },
  {
   "attachments": {},
   "cell_type": "markdown",
   "id": "d2b0e776",
   "metadata": {
    "slideshow": {
     "slide_type": "slide"
    }
   },
   "source": [
    "## ¿Qué es?  \n",
    "\n",
    "Flipped Learning o aprendizaje invertido es un enfoque pedagógico en el que:  \n",
    "\n",
    "* la instrucción directa se realiza fuera del aula y \n",
    "* se utiliza el tiempo de clase para llevar a cabo actividades que impliquen el desarrollo de procesos cognitivos de mayor complejidad, en las que son necesarias la ayuda y la experiencia del docente."
   ]
  },
  {
   "attachments": {},
   "cell_type": "markdown",
   "id": "5fc4f731",
   "metadata": {
    "slideshow": {
     "slide_type": "slide"
    }
   },
   "source": [
    "## ¿Para qué sirve?  \n",
    "\n",
    "Mejora el proceso de enseñanza-aprendizaje realizando,   \n",
    "\n",
    "* fuera del aula, actividades de aprendizaje sencillas   \n",
    "  * (leer las notas de clase, \n",
    "  * observar, \n",
    "  * memorizar, \n",
    "  * resumir, etc.) y, \n",
    "* en el aula, actividades más complejas (razonar, examinar, priorizar, argumentar, proponer, etc.) que requieren la interacción entre iguales y la ayuda del docente como facilitador."
   ]
  },
  {
   "attachments": {},
   "cell_type": "markdown",
   "id": "b42472d6",
   "metadata": {
    "slideshow": {
     "slide_type": "slide"
    }
   },
   "source": [
    "<img src = 'https://github.com/marco-canas/7_didactica_ciencia_datos/blob/main/4_images/atributos_aprendizaje_invertido.png?raw=true'>"
   ]
  },
  {
   "attachments": {},
   "cell_type": "markdown",
   "id": "8cee33b3",
   "metadata": {
    "slideshow": {
     "slide_type": "slide"
    }
   },
   "source": [
    "# Proceso Flipped Learning"
   ]
  },
  {
   "attachments": {},
   "cell_type": "markdown",
   "id": "9c61b8b5",
   "metadata": {
    "slideshow": {
     "slide_type": "slide"
    }
   },
   "source": [
    "## Fuera del Aula"
   ]
  },
  {
   "attachments": {},
   "cell_type": "markdown",
   "id": "fe20721d",
   "metadata": {
    "slideshow": {
     "slide_type": "slide"
    }
   },
   "source": [
    "### Docente:"
   ]
  },
  {
   "attachments": {},
   "cell_type": "markdown",
   "id": "5b022dc9",
   "metadata": {
    "slideshow": {
     "slide_type": "slide"
    }
   },
   "source": [
    "* Diseña y planea el proceso de enseñanza-aprendizaje del aula, integrando estrategias, modelos de enseñanza y metodologías (aprendizaje basado en proyectos, aprendizaje cooperativo y colaborativo,…).  \n",
    "\n",
    "* Diseña y planea actividades que se realizarán fuera del aula (ver vídeos, cumplimentar cuestionarios,…).  \n",
    "\n",
    "* Selecciona e integra la tecnología en actividades de aprendizaje activo.  \n",
    "\n",
    "* Diseña actividades de evaluación que promuevan el aprendizaje del alumnado."
   ]
  },
  {
   "attachments": {},
   "cell_type": "markdown",
   "id": "467fb978",
   "metadata": {
    "slideshow": {
     "slide_type": "slide"
    }
   },
   "source": [
    "### Alumnado:"
   ]
  },
  {
   "attachments": {},
   "cell_type": "markdown",
   "id": "87d6d661",
   "metadata": {
    "slideshow": {
     "slide_type": "slide"
    }
   },
   "source": [
    "* Accede, cuantas veces necesite, a las actividades facilitadas por el profesorado.\n",
    "* Realiza las actividades propuestas."
   ]
  },
  {
   "attachments": {},
   "cell_type": "markdown",
   "id": "93cd48b6",
   "metadata": {
    "slideshow": {
     "slide_type": "slide"
    }
   },
   "source": [
    "## En el Aula"
   ]
  },
  {
   "attachments": {},
   "cell_type": "markdown",
   "id": "79ea8675",
   "metadata": {
    "slideshow": {
     "slide_type": "slide"
    }
   },
   "source": [
    "### Docente:"
   ]
  },
  {
   "attachments": {},
   "cell_type": "markdown",
   "id": "d4d6f829",
   "metadata": {
    "slideshow": {
     "slide_type": "slide"
    }
   },
   "source": [
    "* Guía y facilita los procesos de aprendizaje, atendiendo a la diversidad.\n",
    "* Retroalimenta el desempeño de los equipos/grupos y del alumnado individualmente.\n",
    "* Genera espacios para la coevaluación y autoevaluación."
   ]
  },
  {
   "attachments": {},
   "cell_type": "markdown",
   "id": "7178794c",
   "metadata": {
    "slideshow": {
     "slide_type": "slide"
    }
   },
   "source": [
    "### Alumnado:"
   ]
  },
  {
   "attachments": {},
   "cell_type": "markdown",
   "id": "88d1c0f7",
   "metadata": {
    "slideshow": {
     "slide_type": "slide"
    }
   },
   "source": [
    "* Realiza las actividades (debates, exposiciones orales, informes, diario de aprendizaje, cuaderno de trabajo cooperativo,…).\n",
    "* Recibe retroalimentación inmediata del profesorado y de sus compañeros y compañeras.\n",
    "* Accede, si fuera necesario, a las actividades previas facilitadas por el profesorado."
   ]
  },
  {
   "attachments": {},
   "cell_type": "markdown",
   "id": "7dbfc4b9",
   "metadata": {
    "slideshow": {
     "slide_type": "slide"
    }
   },
   "source": [
    "## Ventajas de Flipped Learning  \n",
    "\n",
    "1. Incrementa el compromiso del alumnado porque éste se hace corresponsable de su aprendizaje y participa en él de forma activa mediante actividades de cooperación y colaboración en clase.  \n",
    "\n",
    "2. Permite que el alumnado aprenda a su propio ritmo, ya que tiene la posibilidad de acceder al material facilitado por el profesorado en cualquier momento y en cualquier lugar, todas las veces que necesite."
   ]
  },
  {
   "attachments": {},
   "cell_type": "markdown",
   "id": "79c35435",
   "metadata": {
    "slideshow": {
     "slide_type": "slide"
    }
   },
   "source": [
    "## Fomento de la lectura literaria asociada a Ingeniería agropecuaria y licenciatura en Matemáticas y las ciencias económicas. \n"
   ]
  },
  {
   "attachments": {},
   "cell_type": "markdown",
   "id": "aa8e8d9f",
   "metadata": {},
   "source": [
    "\n",
    "### DAR DESDE EL CORAZÓN  \n",
    "La esencia de la comunicación no violenta  \n",
    "Lo que quiero en la vida es compasión,*\n",
    "una corriente que fluya entre los demás y yo,\n",
    "basada en un mutuo dar desde el corazón.\n",
    "[MARSHALL ROSENBERG](https://udeaeduco-my.sharepoint.com/:b:/g/personal/marco_canas_udea_edu_co/Efb_5fC50D5JnA4BzTKzgsIB9UeMjgs1kCU-sROZDlWTGw?e=gjRMdZ)\n"
   ]
  },
  {
   "attachments": {},
   "cell_type": "markdown",
   "id": "e4910d65",
   "metadata": {},
   "source": [
    "\n",
    "### Introducción  \n",
    "\n",
    "Como estoy plenamente convencido de que forma parte intrínseca de nuestra naturaleza sentirnos satisfechos cuando damos y recibimos algo de manera compasiva o solidaria, hay dos preguntas que me han preocupado durante la mayor parte de mi vida. "
   ]
  },
  {
   "attachments": {},
   "cell_type": "markdown",
   "id": "b0503081",
   "metadata": {},
   "source": [
    "* ¿Qué ocurre que nos desconecta de nuestra naturaleza solidaria y nos lleva a comportarnos de manera violenta y abusiva?   \n",
    "\n",
    "Y a la inversa, \n",
    "\n",
    "* ¿por qué algunas personas son consecuentes con esta actitud solidaria incluso en las circunstancias más adversas?\n"
   ]
  },
  {
   "attachments": {},
   "cell_type": "markdown",
   "id": "fe4be42a",
   "metadata": {},
   "source": [
    "Mi preocupación por estas preguntas se remonta a mi infancia, al verano de\n",
    "1943, cuando mi familia se mudó a Detroit (Michigan). Dos semanas después de\n",
    "haber llegado, un incidente en un parque público desencadenó un enfrentamiento racial. "
   ]
  },
  {
   "attachments": {},
   "cell_type": "markdown",
   "id": "af66ae2e",
   "metadata": {},
   "source": [
    "Durante los días que siguieron al hecho fueron asesinadas más de cuarenta personas. El barrio donde vivíamos estaba situado en el centro mismo del estallido de violencia, lo cual nos obligó a permanecer tres días encerrados en nuestra casa.\n"
   ]
  },
  {
   "attachments": {},
   "cell_type": "markdown",
   "id": "bdf61c02",
   "metadata": {},
   "source": [
    "Cuando terminaron los disturbios y empezaron las clases, descubrí que un apellido puede ser tan peligroso como el color de la piel. "
   ]
  },
  {
   "attachments": {},
   "cell_type": "markdown",
   "id": "a8aed6b7",
   "metadata": {},
   "source": [
    "El primer día, cuando el maestro pronunció mi nombre, dos chicos me miraron fijamente y murmuraron\n",
    "entre dientes: «¿Eres un kike?», dijeron. "
   ]
  },
  {
   "attachments": {},
   "cell_type": "markdown",
   "id": "e70b97ca",
   "metadata": {},
   "source": [
    "No conocía la palabra ni sabía que algunas personas la usan de manera despectiva para referirse a los judíos. "
   ]
  },
  {
   "attachments": {},
   "cell_type": "markdown",
   "id": "4e37d77e",
   "metadata": {},
   "source": [
    "A la salida de clase, los dos chicos me estaban esperando y, de un empujón, me derribaron al\n",
    "suelo y me dieron una paliza.\n"
   ]
  },
  {
   "attachments": {},
   "cell_type": "markdown",
   "id": "cbfa8a82",
   "metadata": {},
   "source": [
    "Desde aquel verano del año 1943, he estado analizando las dos preguntas que a lo largo de este libro, como en toda su obra sobre comunicación no violenta, Marshall Rosenberg utiliza con frecuencia el término \"compasión\". "
   ]
  },
  {
   "attachments": {},
   "cell_type": "markdown",
   "id": "1e246f01",
   "metadata": {},
   "source": [
    "Lo hace apelando al profundo impulso de humanidad común que existe en los seres humanos cuando nos comunicamos sin violencia. "
   ]
  },
  {
   "attachments": {},
   "cell_type": "markdown",
   "id": "ef2bd8a8",
   "metadata": {},
   "source": [
    "Este significado se\n",
    "diferencia del uso habitual en castellano que asocia la compasión con la conmiseración y la lástima\n",
    "frente al sufrimiento de los demás. (N. de la T.)\n"
   ]
  },
  {
   "attachments": {},
   "cell_type": "markdown",
   "id": "96775931",
   "metadata": {
    "slideshow": {
     "slide_type": "slide"
    }
   },
   "source": [
    "## Título de la clase: Funciones y sus gráficas\n",
    "\n",
    "Este tema se encuentra en la página 173 del libro de Lina Grajales: [Matemáticas I para ciencias económicas](https://udeaeduco-my.sharepoint.com/:b:/g/personal/marco_canas_udea_edu_co/ETMKmMhO6_1EoQRmSZICfj8BBvqhkCN9FU2Z5-XeTaX3Yg?e=cQcTUp). "
   ]
  },
  {
   "attachments": {},
   "cell_type": "markdown",
   "id": "1d38dd4e",
   "metadata": {
    "slideshow": {
     "slide_type": "slide"
    }
   },
   "source": [
    "### Objetivo de aprendizaje (Enunciar, de manera corta sencilla y clara para todos los asistentes)\n",
    "\n",
    "* Conocer los 30 modelos matemáticos más usuales y a visualizar su comportamiento en gráficos bidimensionales\n",
    "\n",
    "* Aprender a describir las cualidades de un modelo, a partir de su representación gráfica. "
   ]
  },
  {
   "attachments": {},
   "cell_type": "markdown",
   "id": "ca7261b1",
   "metadata": {
    "slideshow": {
     "slide_type": "slide"
    }
   },
   "source": [
    "## Establecimiento de prerrequisitos conceptuales para alcanzar el objetivo de aprendizaje trazado.   \n",
    "\n",
    "(Elabore una lista de preguntas al rededor de los conceptos que consideres necesarios para empezar la clase).  \n",
    "\n",
    "1. Álgebra básica: Debes estar familiarizado con operaciones aritméticas, resolución de ecuaciones lineales y cuadráticas, factorización, simplificación de expresiones algebraicas, entre otros.\n",
    "2. Geometría\n",
    "3. Trogonometría: "
   ]
  },
  {
   "attachments": {},
   "cell_type": "markdown",
   "id": "2298e976",
   "metadata": {
    "slideshow": {
     "slide_type": "slide"
    }
   },
   "source": [
    "# Para el diseño de la clase tenga en cuenta algunos problemas de aprendizaje"
   ]
  },
  {
   "attachments": {},
   "cell_type": "markdown",
   "id": "523d3acf",
   "metadata": {
    "slideshow": {
     "slide_type": "slide"
    }
   },
   "source": [
    "Los problemas de aprendizaje alrededor de los conceptos de función y su gráfica en cálculo diferencial pueden surgir debido a la complejidad inherente del tema y la necesidad de comprender múltiples conceptos relacionados. Aquí tienes una lista de posibles problemas de aprendizaje que los estudiantes pueden enfrentar:\n"
   ]
  },
  {
   "attachments": {},
   "cell_type": "markdown",
   "id": "b578cbfd",
   "metadata": {},
   "source": [
    "\n",
    "1. **Confusión en la notación**: Los estudiantes pueden tener dificultades para entender y manejar la notación matemática utilizada en funciones y sus gráficas, como la notación f(x), g(x), y(x), etc.\n",
    "\n",
    "2. **Identificación incorrecta del dominio y rango**: Comprender el dominio y rango de una función puede ser complicado, especialmente cuando se trata de funciones más complejas con restricciones.\n"
   ]
  },
  {
   "attachments": {},
   "cell_type": "markdown",
   "id": "ff78c381",
   "metadata": {},
   "source": [
    "\n",
    "3. **Dificultades en la graficación de funciones**: Los estudiantes pueden tener problemas al representar gráficamente funciones que involucran varias transformaciones, como traslaciones y dilataciones.\n"
   ]
  },
  {
   "attachments": {},
   "cell_type": "markdown",
   "id": "068823fe",
   "metadata": {},
   "source": [
    "\n",
    "4. **Entender el concepto de límite**: Comprender el concepto de límite y su interpretación geométrica puede ser desafiante, especialmente cuando se trata de límites infinitos o asintotas.\n",
    "\n",
    "5. **Errores en la derivación**: Los estudiantes pueden cometer errores al derivar funciones, ya sea por olvidar reglas de derivación o aplicar incorrectamente la regla de la cadena.\n",
    "\n",
    "6. **Dificultades en la identificación de puntos críticos**: Encontrar puntos críticos (máximos, mínimos y puntos de inflexión) de una función puede ser complicado, especialmente cuando hay puntos donde la derivada no existe.\n",
    "\n",
    "7. **Problemas en la interpretación de gráficas de derivadas**: Los estudiantes pueden tener dificultades para interpretar y entender el significado de las gráficas de las derivadas de una función.\n",
    "\n",
    "8. **Confusión entre derivadas y tasas de cambio**: Entender la relación entre las derivadas y las tasas de cambio puede ser un desafío para algunos estudiantes.\n"
   ]
  },
  {
   "attachments": {},
   "cell_type": "markdown",
   "id": "8f2c15b2",
   "metadata": {},
   "source": [
    "\n",
    "9. **Desafíos en la resolución de problemas de optimización**: Resolver problemas de optimización utilizando derivadas puede ser difícil para los estudiantes, especialmente al establecer la función objetivo y las restricciones correctamente.\n",
    "\n",
    "10. **Aplicación incorrecta de reglas de derivación**: Los estudiantes pueden aplicar incorrectamente las reglas de derivación a funciones más complejas, como funciones trigonométricas o exponenciales.\n",
    "\n",
    "Para abordar estos problemas de aprendizaje, es fundamental que los estudiantes trabajen en la comprensión profunda de los conceptos fundamentales, practiquen con una variedad de ejercicios y busquen la ayuda de tutores o profesores cuando sea necesario. El cálculo diferencial puede ser desafiante, pero con dedicación y práctica, los estudiantes pueden adquirir una comprensión sólida de las funciones y sus gráficas."
   ]
  },
  {
   "attachments": {},
   "cell_type": "markdown",
   "id": "c9951b04",
   "metadata": {},
   "source": [
    "## Cuestionario para realizar labores de memorización, observación y síntesis de la información (Además de diagnóstico)\n",
    "\n",
    "1. ¿?\n",
    "2. ¿?\n",
    "3. ¿?\n",
    "4. ¿?\n",
    "5. ¿?"
   ]
  },
  {
   "attachments": {},
   "cell_type": "markdown",
   "id": "a40a4704",
   "metadata": {
    "slideshow": {
     "slide_type": "slide"
    }
   },
   "source": [
    "## Secuencia conceptual introductoria a la clase"
   ]
  },
  {
   "attachments": {},
   "cell_type": "markdown",
   "id": "cf143cc8",
   "metadata": {},
   "source": [
    "## Introducción\n"
   ]
  },
  {
   "attachments": {},
   "cell_type": "markdown",
   "id": "dc92e245",
   "metadata": {},
   "source": [
    "Prácticamente en todos los fenómenos económicos observamos que una cantidad depende de otra.\n"
   ]
  },
  {
   "attachments": {},
   "cell_type": "markdown",
   "id": "c8fe7075",
   "metadata": {},
   "source": [
    "Por ejemplo,   \n",
    "\n",
    "* el costo de enviar un paquete por correo depende de su peso, \n",
    "* la demanda de un bien depende de su precio. "
   ]
  },
  {
   "attachments": {},
   "cell_type": "markdown",
   "id": "dbb4fea3",
   "metadata": {},
   "source": [
    "Todos estos son ejemplos de funciones. "
   ]
  },
  {
   "attachments": {},
   "cell_type": "markdown",
   "id": "7fb8aa7e",
   "metadata": {},
   "source": [
    "El concepto más importante en todas las matemáticas es el de función.\n"
   ]
  },
  {
   "attachments": {},
   "cell_type": "markdown",
   "id": "5159c539",
   "metadata": {},
   "source": [
    "# Defonición del concepto de relación"
   ]
  },
  {
   "attachments": {},
   "cell_type": "markdown",
   "id": "51050f17",
   "metadata": {},
   "source": [
    "Sean $X$ e $Y$ dos subconjuntos de $\\mathbb{R}$, una relación entre estos dos subconjuntos es un conjunto de\n",
    "pares ordenados de la forma $(x, y)$ con $x \\in X \\wedge y \\in Y$. "
   ]
  },
  {
   "attachments": {},
   "cell_type": "markdown",
   "id": "e2d57eb6",
   "metadata": {},
   "source": [
    "El conjunto $X$ es dominio de la relación y el conjunto $Y$ es el recorrido (rango).\n"
   ]
  },
  {
   "attachments": {},
   "cell_type": "markdown",
   "id": "8f71c4e6",
   "metadata": {},
   "source": [
    "Ejemplo 16.1  \n",
    "Sean  \n",
    "$$ X = {2,4,6,8,10} $$\n",
    "$$ Y = {1,2,3,4,5} $$ \n",
    "\n",
    "Una relación entre $X$ y $Y$ puede ser:\n",
    "\n",
    "$$ R = \\{ (2, 1), (4,2), (6,3), (8,4), (10, 5)\\} $$"
   ]
  },
  {
   "attachments": {},
   "cell_type": "markdown",
   "id": "2c4f211a",
   "metadata": {},
   "source": [
    "### [video hasta aquí](https://www.youtube.com/watch?v=cxP4LUU1ER8)"
   ]
  },
  {
   "cell_type": "code",
   "execution_count": 1,
   "id": "8e6a890a",
   "metadata": {},
   "outputs": [
    {
     "data": {
      "image/png": "[encoded data removed]",
      "text/plain": [
       "<Figure size 640x480 with 1 Axes>"
      ]
     },
     "metadata": {},
     "output_type": "display_data"
    }
   ],
   "source": [
    "import matplotlib.pyplot as plt\n",
    "from matplotlib_venn import venn2\n",
    "\n",
    "# Definir los elementos del dominio y rango\n",
    "dominio = {'A', 'B', 'C', 'D'}\n",
    "rango = {'a', 'b', 'c', 'd'}\n",
    "\n",
    "# Crear el diagrama de Venn\n",
    "venn_diagram = venn2(subsets=(dominio, rango), set_labels=('Dominio', 'Rango'))\n",
    "\n",
    "# Personalizar el diagrama (opcional)\n",
    "venn_diagram.get_label_by_id('10').set_text(', '.join(dominio - rango))\n",
    "venn_diagram.get_label_by_id('01').set_text(', '.join(rango - dominio))\n",
    "\n",
    "# Mostrar el diagrama\n",
    "plt.title(\"Diagrama de Venn de la Función\")\n",
    "plt.show()\n"
   ]
  },
  {
   "cell_type": "code",
   "execution_count": 4,
   "id": "8c1ed06e",
   "metadata": {},
   "outputs": [
    {
     "data": {
      "image/png": "[encoded data removed]",
      "text/plain": [
       "<Figure size 640x480 with 1 Axes>"
      ]
     },
     "metadata": {},
     "output_type": "display_data"
    }
   ],
   "source": [
    "import matplotlib.pyplot as plt\n",
    "from matplotlib_venn import venn2\n",
    "\n",
    "# Definir los elementos del dominio y rango\n",
    "dominio = {'A', 'B', 'C', 'D'}\n",
    "rango = {'a', 'b', 'c', 'd'}\n",
    "\n",
    "# Crear el diagrama de Venn\n",
    "venn_diagram = venn2(subsets=(dominio, rango), set_labels=('Dominio', 'Rango'))\n",
    "\n",
    "# Personalizar el diagrama (opcional)\n",
    "venn_diagram.get_label_by_id('10').set_text(', '.join(dominio - rango))\n",
    "venn_diagram.get_label_by_id('01').set_text(', '.join(rango - dominio))\n",
    "\n",
    "# Agregar flechas que representen la regla de asignación de la función\n",
    "arrow_props = dict(arrowstyle=\"-|>\", linewidth=1.5, color='gray')\n",
    "plt.annotate('', xy=venn_diagram.get_label_by_id('10').get_position(), xytext=(0.5, 0.7),\n",
    "             arrowprops=arrow_props)\n",
    "plt.annotate('', xy=venn_diagram.get_label_by_id('01').get_position(), xytext=(0.8, 0.7),\n",
    "             arrowprops=arrow_props)\n",
    "\n",
    "# Etiquetar las flechas\n",
    "plt.text(0.48, 0.75, 'Función', fontsize=12, color='gray')\n",
    "plt.text(0.78, 0.75, 'Función', fontsize=12, color='gray')\n",
    "\n",
    "# Mostrar el diagrama\n",
    "plt.title(\"Diagrama de Venn de la Función\")\n",
    "plt.show()\n"
   ]
  },
  {
   "attachments": {},
   "cell_type": "markdown",
   "id": "dde3c686",
   "metadata": {},
   "source": [
    "En este ejemplo la relación se puede definir como:  \n",
    "\n",
    "$$ y = f(x) = \\frac{x}{2}, \\quad \\text{ con } \\quad  x = 2, 4, 6, 8, 10 $$ "
   ]
  },
  {
   "attachments": {},
   "cell_type": "markdown",
   "id": "69cd6dbc",
   "metadata": {},
   "source": [
    "Y se observa que a cada $x \\in X$ le corresponde un único $y \\in Y$. "
   ]
  },
  {
   "attachments": {},
   "cell_type": "markdown",
   "id": "c126e199",
   "metadata": {},
   "source": [
    "En este caso se dice que la relación es una función, de modo que se escribe $y = f(x)$. "
   ]
  },
  {
   "attachments": {},
   "cell_type": "markdown",
   "id": "e0f46468",
   "metadata": {},
   "source": [
    "La variable 𝑥𝑥𝑥𝑥 se denomina variable independiente y la variable 𝑦𝑦𝑦𝑦 se conoce como la variable dependiente. En términos sencillos, una función es un tipo especial de relación que expresa cómo una cantidad —la salida (𝑦𝑦𝑦𝑦)— depende de otra cantidad —la entrada (𝑥𝑥𝑥𝑥)—.\n"
   ]
  },
  {
   "attachments": {},
   "cell_type": "markdown",
   "id": "5fb8d39c",
   "metadata": {},
   "source": [
    "Esquemáticamente una función se entiende de la siguiente forma. La función es una máquina que\n",
    "a cualquier $x \\in \\mathbb{R}$ le hace el proceso $f$."
   ]
  },
  {
   "cell_type": "code",
   "execution_count": 6,
   "id": "d5ec38c7",
   "metadata": {},
   "outputs": [
    {
     "data": {
      "image/png": "[encoded data removed]",
      "text/plain": [
       "<Figure size 640x480 with 1 Axes>"
      ]
     },
     "metadata": {},
     "output_type": "display_data"
    }
   ],
   "source": [
    "import matplotlib.pyplot as plt\n",
    "\n",
    "# Función que queremos representar (puedes cambiarla según tus necesidades)\n",
    "def funcion(x):\n",
    "    return x**2\n",
    "\n",
    "# Rango de valores para x (dominio de la función)\n",
    "x_vals = range(-5, 6)\n",
    "\n",
    "# Crear la figura y los ejes\n",
    "fig, ax = plt.subplots()\n",
    "\n",
    "# Dibujar la entrada (x) y la salida (f(x)) para cada valor en el dominio\n",
    "for x in x_vals:\n",
    "    # Coordenadas de la entrada (x) y la salida (f(x))\n",
    "    entrada = (x, 1)\n",
    "    salida = (x, funcion(x))\n",
    "    \n",
    "    # Dibujar la caja que representa la entrada (x)\n",
    "    ax.add_patch(plt.Rectangle((entrada[0] - 0.2, entrada[1] - 0.2), 0.4, 0.4, color='lightblue'))\n",
    "    \n",
    "    # Dibujar el círculo que representa la salida (f(x))\n",
    "    ax.add_patch(plt.Circle(salida, 0.2, color='lightgreen'))\n",
    "    \n",
    "    # Dibujar la flecha que representa la transformación de x a f(x)\n",
    "    ax.arrow(entrada[0], entrada[1], 0, salida[1] - entrada[1], head_width=0.15, head_length=0.1, fc='black', ec='black')\n",
    "\n",
    "# Etiquetar los ejes\n",
    "ax.text(0, -0.5, 'Dominio (x)', ha='center')\n",
    "ax.text(0, funcion(5) + 0.5, 'Rango (f(x))', ha='center')\n",
    "\n",
    "# Eliminar ejes\n",
    "ax.set_axis_off()\n",
    "\n",
    "# Mostrar la figura\n",
    "plt.show()\n"
   ]
  },
  {
   "attachments": {},
   "cell_type": "markdown",
   "id": "68b5e4d9",
   "metadata": {},
   "source": [
    "Para expresar la dependencia de 𝑦𝑦𝑦𝑦 con respecto a $x$, se especifica una fórmula que muestra lo que debe hacerse con la entrada para obtener la salida, y se denota así:  \n",
    "\n",
    "$$ y = f(x). $$ "
   ]
  },
  {
   "attachments": {},
   "cell_type": "markdown",
   "id": "445bb157",
   "metadata": {},
   "source": [
    "## Ejemplo 16.2  \n",
    " \n",
    "Si una cantidad de dinero $A = 1000$ se deposita al $5\\%$ de interés anual durante $t$ años, entonces la $5𝒕𝒕𝒕𝒕$ cantidad después de los 𝑡𝑡𝑡𝑡 años completos será $𝐾𝐾𝐾𝐾 = 1000 �1 + 100 � $. Así, para cada valor de $𝑡𝑡𝑡𝑡$ hay uno de $𝐾𝐾𝐾𝐾$, por lo que se dice que 𝐾𝐾𝐾𝐾 es una función de 𝑡𝑡𝑡𝑡 y se escribe: $𝐾𝐾𝐾𝐾 = 𝑓𝑓𝑓𝑓(𝑡𝑡𝑡𝑡)$."
   ]
  },
  {
   "cell_type": "code",
   "execution_count": null,
   "id": "b9ba1ae3",
   "metadata": {},
   "outputs": [],
   "source": []
  },
  {
   "cell_type": "code",
   "execution_count": null,
   "id": "d6010f6c",
   "metadata": {},
   "outputs": [],
   "source": []
  },
  {
   "cell_type": "code",
   "execution_count": null,
   "id": "f4f40a83",
   "metadata": {},
   "outputs": [],
   "source": []
  },
  {
   "cell_type": "code",
   "execution_count": null,
   "id": "3cac9e46",
   "metadata": {},
   "outputs": [],
   "source": []
  },
  {
   "cell_type": "code",
   "execution_count": null,
   "id": "c6cfd7d0",
   "metadata": {},
   "outputs": [],
   "source": []
  },
  {
   "cell_type": "code",
   "execution_count": null,
   "id": "6b05d62b",
   "metadata": {},
   "outputs": [],
   "source": []
  },
  {
   "attachments": {},
   "cell_type": "markdown",
   "id": "12cb2994",
   "metadata": {
    "slideshow": {
     "slide_type": "slide"
    }
   },
   "source": []
  },
  {
   "attachments": {},
   "cell_type": "markdown",
   "id": "1ccfb67e",
   "metadata": {
    "slideshow": {
     "slide_type": "slide"
    }
   },
   "source": [
    "# Visualizaciones tabulares y gráficas"
   ]
  },
  {
   "attachments": {},
   "cell_type": "markdown",
   "id": "0631fb05",
   "metadata": {
    "slideshow": {
     "slide_type": "slide"
    }
   },
   "source": [
    "## Visualización gráfica con plotly"
   ]
  },
  {
   "cell_type": "code",
   "execution_count": 2,
   "id": "d1bff0f9",
   "metadata": {
    "slideshow": {
     "slide_type": "slide"
    }
   },
   "outputs": [],
   "source": [
    "import pandas as pd\n",
    "X = []\n",
    "Y = [] \n",
    "tabla = pd.DataFrame({'anchos del cuadrado':X, 'volumenes respectivos':Y})"
   ]
  },
  {
   "cell_type": "code",
   "execution_count": 3,
   "id": "6009af5a",
   "metadata": {
    "slideshow": {
     "slide_type": "slide"
    }
   },
   "outputs": [
    {
     "data": {
      "application/vnd.plotly.v1+json": {
       "config": {
        "plotlyServerURL": "https://plot.ly"
       },
       "data": [
        {
         "hovertemplate": "anchos del cuadrado=%{x}<br>volumenes respectivos=%{y}<extra></extra>",
         "legendgroup": "",
         "marker": {
          "color": "#636efa",
          "symbol": "circle"
         },
         "mode": "markers",
         "name": "",
         "orientation": "v",
         "showlegend": false,
         "type": "scatter",
         "x": [],
         "xaxis": "x",
         "y": [],
         "yaxis": "y"
        }
       ],
       "layout": {
        "legend": {
         "tracegroupgap": 0
        },
        "template": {
         "data": {
          "bar": [
           {
            "error_x": {
             "color": "#2a3f5f"
            },
            "error_y": {
             "color": "#2a3f5f"
            },
            "marker": {
             "line": {
              "color": "#E5ECF6",
              "width": 0.5
             },
             "pattern": {
              "fillmode": "overlay",
              "size": 10,
              "solidity": 0.2
             }
            },
            "type": "bar"
           }
          ],
          "barpolar": [
           {
            "marker": {
             "line": {
              "color": "#E5ECF6",
              "width": 0.5
             },
             "pattern": {
              "fillmode": "overlay",
              "size": 10,
              "solidity": 0.2
             }
            },
            "type": "barpolar"
           }
          ],
          "carpet": [
           {
            "aaxis": {
             "endlinecolor": "#2a3f5f",
             "gridcolor": "white",
             "linecolor": "white",
             "minorgridcolor": "white",
             "startlinecolor": "#2a3f5f"
            },
            "baxis": {
             "endlinecolor": "#2a3f5f",
             "gridcolor": "white",
             "linecolor": "white",
             "minorgridcolor": "white",
             "startlinecolor": "#2a3f5f"
            },
            "type": "carpet"
           }
          ],
          "choropleth": [
           {
            "colorbar": {
             "outlinewidth": 0,
             "ticks": ""
            },
            "type": "choropleth"
           }
          ],
          "contour": [
           {
            "colorbar": {
             "outlinewidth": 0,
             "ticks": ""
            },
            "colorscale": [
             [
              0,
              "#0d0887"
             ],
             [
              0.1111111111111111,
              "#46039f"
             ],
             [
              0.2222222222222222,
              "#7201a8"
             ],
             [
              0.3333333333333333,
              "#9c179e"
             ],
             [
              0.4444444444444444,
              "#bd3786"
             ],
             [
              0.5555555555555556,
              "#d8576b"
             ],
             [
              0.6666666666666666,
              "#ed7953"
             ],
             [
              0.7777777777777778,
              "#fb9f3a"
             ],
             [
              0.8888888888888888,
              "#fdca26"
             ],
             [
              1,
              "#f0f921"
             ]
            ],
            "type": "contour"
           }
          ],
          "contourcarpet": [
           {
            "colorbar": {
             "outlinewidth": 0,
             "ticks": ""
            },
            "type": "contourcarpet"
           }
          ],
          "heatmap": [
           {
            "colorbar": {
             "outlinewidth": 0,
             "ticks": ""
            },
            "colorscale": [
             [
              0,
              "#0d0887"
             ],
             [
              0.1111111111111111,
              "#46039f"
             ],
             [
              0.2222222222222222,
              "#7201a8"
             ],
             [
              0.3333333333333333,
              "#9c179e"
             ],
             [
              0.4444444444444444,
              "#bd3786"
             ],
             [
              0.5555555555555556,
              "#d8576b"
             ],
             [
              0.6666666666666666,
              "#ed7953"
             ],
             [
              0.7777777777777778,
              "#fb9f3a"
             ],
             [
              0.8888888888888888,
              "#fdca26"
             ],
             [
              1,
              "#f0f921"
             ]
            ],
            "type": "heatmap"
           }
          ],
          "heatmapgl": [
           {
            "colorbar": {
             "outlinewidth": 0,
             "ticks": ""
            },
            "colorscale": [
             [
              0,
              "#0d0887"
             ],
             [
              0.1111111111111111,
              "#46039f"
             ],
             [
              0.2222222222222222,
              "#7201a8"
             ],
             [
              0.3333333333333333,
              "#9c179e"
             ],
             [
              0.4444444444444444,
              "#bd3786"
             ],
             [
              0.5555555555555556,
              "#d8576b"
             ],
             [
              0.6666666666666666,
              "#ed7953"
             ],
             [
              0.7777777777777778,
              "#fb9f3a"
             ],
             [
              0.8888888888888888,
              "#fdca26"
             ],
             [
              1,
              "#f0f921"
             ]
            ],
            "type": "heatmapgl"
           }
          ],
          "histogram": [
           {
            "marker": {
             "pattern": {
              "fillmode": "overlay",
              "size": 10,
              "solidity": 0.2
             }
            },
            "type": "histogram"
           }
          ],
          "histogram2d": [
           {
            "colorbar": {
             "outlinewidth": 0,
             "ticks": ""
            },
            "colorscale": [
             [
              0,
              "#0d0887"
             ],
             [
              0.1111111111111111,
              "#46039f"
             ],
             [
              0.2222222222222222,
              "#7201a8"
             ],
             [
              0.3333333333333333,
              "#9c179e"
             ],
             [
              0.4444444444444444,
              "#bd3786"
             ],
             [
              0.5555555555555556,
              "#d8576b"
             ],
             [
              0.6666666666666666,
              "#ed7953"
             ],
             [
              0.7777777777777778,
              "#fb9f3a"
             ],
             [
              0.8888888888888888,
              "#fdca26"
             ],
             [
              1,
              "#f0f921"
             ]
            ],
            "type": "histogram2d"
           }
          ],
          "histogram2dcontour": [
           {
            "colorbar": {
             "outlinewidth": 0,
             "ticks": ""
            },
            "colorscale": [
             [
              0,
              "#0d0887"
             ],
             [
              0.1111111111111111,
              "#46039f"
             ],
             [
              0.2222222222222222,
              "#7201a8"
             ],
             [
              0.3333333333333333,
              "#9c179e"
             ],
             [
              0.4444444444444444,
              "#bd3786"
             ],
             [
              0.5555555555555556,
              "#d8576b"
             ],
             [
              0.6666666666666666,
              "#ed7953"
             ],
             [
              0.7777777777777778,
              "#fb9f3a"
             ],
             [
              0.8888888888888888,
              "#fdca26"
             ],
             [
              1,
              "#f0f921"
             ]
            ],
            "type": "histogram2dcontour"
           }
          ],
          "mesh3d": [
           {
            "colorbar": {
             "outlinewidth": 0,
             "ticks": ""
            },
            "type": "mesh3d"
           }
          ],
          "parcoords": [
           {
            "line": {
             "colorbar": {
              "outlinewidth": 0,
              "ticks": ""
             }
            },
            "type": "parcoords"
           }
          ],
          "pie": [
           {
            "automargin": true,
            "type": "pie"
           }
          ],
          "scatter": [
           {
            "fillpattern": {
             "fillmode": "overlay",
             "size": 10,
             "solidity": 0.2
            },
            "type": "scatter"
           }
          ],
          "scatter3d": [
           {
            "line": {
             "colorbar": {
              "outlinewidth": 0,
              "ticks": ""
             }
            },
            "marker": {
             "colorbar": {
              "outlinewidth": 0,
              "ticks": ""
             }
            },
            "type": "scatter3d"
           }
          ],
          "scattercarpet": [
           {
            "marker": {
             "colorbar": {
              "outlinewidth": 0,
              "ticks": ""
             }
            },
            "type": "scattercarpet"
           }
          ],
          "scattergeo": [
           {
            "marker": {
             "colorbar": {
              "outlinewidth": 0,
              "ticks": ""
             }
            },
            "type": "scattergeo"
           }
          ],
          "scattergl": [
           {
            "marker": {
             "colorbar": {
              "outlinewidth": 0,
              "ticks": ""
             }
            },
            "type": "scattergl"
           }
          ],
          "scattermapbox": [
           {
            "marker": {
             "colorbar": {
              "outlinewidth": 0,
              "ticks": ""
             }
            },
            "type": "scattermapbox"
           }
          ],
          "scatterpolar": [
           {
            "marker": {
             "colorbar": {
              "outlinewidth": 0,
              "ticks": ""
             }
            },
            "type": "scatterpolar"
           }
          ],
          "scatterpolargl": [
           {
            "marker": {
             "colorbar": {
              "outlinewidth": 0,
              "ticks": ""
             }
            },
            "type": "scatterpolargl"
           }
          ],
          "scatterternary": [
           {
            "marker": {
             "colorbar": {
              "outlinewidth": 0,
              "ticks": ""
             }
            },
            "type": "scatterternary"
           }
          ],
          "surface": [
           {
            "colorbar": {
             "outlinewidth": 0,
             "ticks": ""
            },
            "colorscale": [
             [
              0,
              "#0d0887"
             ],
             [
              0.1111111111111111,
              "#46039f"
             ],
             [
              0.2222222222222222,
              "#7201a8"
             ],
             [
              0.3333333333333333,
              "#9c179e"
             ],
             [
              0.4444444444444444,
              "#bd3786"
             ],
             [
              0.5555555555555556,
              "#d8576b"
             ],
             [
              0.6666666666666666,
              "#ed7953"
             ],
             [
              0.7777777777777778,
              "#fb9f3a"
             ],
             [
              0.8888888888888888,
              "#fdca26"
             ],
             [
              1,
              "#f0f921"
             ]
            ],
            "type": "surface"
           }
          ],
          "table": [
           {
            "cells": {
             "fill": {
              "color": "#EBF0F8"
             },
             "line": {
              "color": "white"
             }
            },
            "header": {
             "fill": {
              "color": "#C8D4E3"
             },
             "line": {
              "color": "white"
             }
            },
            "type": "table"
           }
          ]
         },
         "layout": {
          "annotationdefaults": {
           "arrowcolor": "#2a3f5f",
           "arrowhead": 0,
           "arrowwidth": 1
          },
          "autotypenumbers": "strict",
          "coloraxis": {
           "colorbar": {
            "outlinewidth": 0,
            "ticks": ""
           }
          },
          "colorscale": {
           "diverging": [
            [
             0,
             "#8e0152"
            ],
            [
             0.1,
             "#c51b7d"
            ],
            [
             0.2,
             "#de77ae"
            ],
            [
             0.3,
             "#f1b6da"
            ],
            [
             0.4,
             "#fde0ef"
            ],
            [
             0.5,
             "#f7f7f7"
            ],
            [
             0.6,
             "#e6f5d0"
            ],
            [
             0.7,
             "#b8e186"
            ],
            [
             0.8,
             "#7fbc41"
            ],
            [
             0.9,
             "#4d9221"
            ],
            [
             1,
             "#276419"
            ]
           ],
           "sequential": [
            [
             0,
             "#0d0887"
            ],
            [
             0.1111111111111111,
             "#46039f"
            ],
            [
             0.2222222222222222,
             "#7201a8"
            ],
            [
             0.3333333333333333,
             "#9c179e"
            ],
            [
             0.4444444444444444,
             "#bd3786"
            ],
            [
             0.5555555555555556,
             "#d8576b"
            ],
            [
             0.6666666666666666,
             "#ed7953"
            ],
            [
             0.7777777777777778,
             "#fb9f3a"
            ],
            [
             0.8888888888888888,
             "#fdca26"
            ],
            [
             1,
             "#f0f921"
            ]
           ],
           "sequentialminus": [
            [
             0,
             "#0d0887"
            ],
            [
             0.1111111111111111,
             "#46039f"
            ],
            [
             0.2222222222222222,
             "#7201a8"
            ],
            [
             0.3333333333333333,
             "#9c179e"
            ],
            [
             0.4444444444444444,
             "#bd3786"
            ],
            [
             0.5555555555555556,
             "#d8576b"
            ],
            [
             0.6666666666666666,
             "#ed7953"
            ],
            [
             0.7777777777777778,
             "#fb9f3a"
            ],
            [
             0.8888888888888888,
             "#fdca26"
            ],
            [
             1,
             "#f0f921"
            ]
           ]
          },
          "colorway": [
           "#636efa",
           "#EF553B",
           "#00cc96",
           "#ab63fa",
           "#FFA15A",
           "#19d3f3",
           "#FF6692",
           "#B6E880",
           "#FF97FF",
           "#FECB52"
          ],
          "font": {
           "color": "#2a3f5f"
          },
          "geo": {
           "bgcolor": "white",
           "lakecolor": "white",
           "landcolor": "#E5ECF6",
           "showlakes": true,
           "showland": true,
           "subunitcolor": "white"
          },
          "hoverlabel": {
           "align": "left"
          },
          "hovermode": "closest",
          "mapbox": {
           "style": "light"
          },
          "paper_bgcolor": "white",
          "plot_bgcolor": "#E5ECF6",
          "polar": {
           "angularaxis": {
            "gridcolor": "white",
            "linecolor": "white",
            "ticks": ""
           },
           "bgcolor": "#E5ECF6",
           "radialaxis": {
            "gridcolor": "white",
            "linecolor": "white",
            "ticks": ""
           }
          },
          "scene": {
           "xaxis": {
            "backgroundcolor": "#E5ECF6",
            "gridcolor": "white",
            "gridwidth": 2,
            "linecolor": "white",
            "showbackground": true,
            "ticks": "",
            "zerolinecolor": "white"
           },
           "yaxis": {
            "backgroundcolor": "#E5ECF6",
            "gridcolor": "white",
            "gridwidth": 2,
            "linecolor": "white",
            "showbackground": true,
            "ticks": "",
            "zerolinecolor": "white"
           },
           "zaxis": {
            "backgroundcolor": "#E5ECF6",
            "gridcolor": "white",
            "gridwidth": 2,
            "linecolor": "white",
            "showbackground": true,
            "ticks": "",
            "zerolinecolor": "white"
           }
          },
          "shapedefaults": {
           "line": {
            "color": "#2a3f5f"
           }
          },
          "ternary": {
           "aaxis": {
            "gridcolor": "white",
            "linecolor": "white",
            "ticks": ""
           },
           "baxis": {
            "gridcolor": "white",
            "linecolor": "white",
            "ticks": ""
           },
           "bgcolor": "#E5ECF6",
           "caxis": {
            "gridcolor": "white",
            "linecolor": "white",
            "ticks": ""
           }
          },
          "title": {
           "x": 0.05
          },
          "xaxis": {
           "automargin": true,
           "gridcolor": "white",
           "linecolor": "white",
           "ticks": "",
           "title": {
            "standoff": 15
           },
           "zerolinecolor": "white",
           "zerolinewidth": 2
          },
          "yaxis": {
           "automargin": true,
           "gridcolor": "white",
           "linecolor": "white",
           "ticks": "",
           "title": {
            "standoff": 15
           },
           "zerolinecolor": "white",
           "zerolinewidth": 2
          }
         }
        },
        "title": {
         "text": "Relación entre $x$ y $y$"
        },
        "xaxis": {
         "anchor": "y",
         "domain": [
          0,
          1
         ],
         "title": {
          "text": "anchos del cuadrado"
         }
        },
        "yaxis": {
         "anchor": "x",
         "domain": [
          0,
          1
         ],
         "title": {
          "text": "volumenes respectivos"
         }
        }
       }
      }
     },
     "metadata": {},
     "output_type": "display_data"
    }
   ],
   "source": [
    "import pandas as pd \n",
    "import plotly.express as px\n",
    "#fig = px.line(tabla,x = tabla.keys()[0], y = tabla.keys()[1], title=r'Relación entre $x$ y $y$')\n",
    "\n",
    "fig = px.scatter(tabla,x = tabla.keys()[0], y = tabla.keys()[1], title=r'Relación entre $x$ y $y$')\n",
    "\n",
    "fig.show()\n",
    "\n",
    "fig.write_html('relacion_entre_x_e_y.html', auto_open=True)"
   ]
  },
  {
   "attachments": {},
   "cell_type": "markdown",
   "id": "bf8d11a1",
   "metadata": {
    "slideshow": {
     "slide_type": "slide"
    }
   },
   "source": [
    "## Mapa conceptual de la clase elaborado en CMapTools"
   ]
  },
  {
   "attachments": {},
   "cell_type": "markdown",
   "id": "aac04d00",
   "metadata": {
    "slideshow": {
     "slide_type": "slide"
    }
   },
   "source": [
    "<img src = ''>"
   ]
  },
  {
   "attachments": {},
   "cell_type": "markdown",
   "id": "740f3401",
   "metadata": {
    "slideshow": {
     "slide_type": "slide"
    }
   },
   "source": [
    "# Componente de manejo de calculadora Casio asociado al objetivo de aprendizaje de esta clase"
   ]
  },
  {
   "attachments": {},
   "cell_type": "markdown",
   "id": "8eecb2d9",
   "metadata": {
    "slideshow": {
     "slide_type": "slide"
    }
   },
   "source": [
    "## Descripción de la calculadora Casio  \n",
    "\n"
   ]
  },
  {
   "cell_type": "code",
   "execution_count": null,
   "id": "3cd72835",
   "metadata": {
    "slideshow": {
     "slide_type": "slide"
    }
   },
   "outputs": [],
   "source": []
  },
  {
   "cell_type": "code",
   "execution_count": null,
   "id": "d8a111c4",
   "metadata": {
    "slideshow": {
     "slide_type": "slide"
    }
   },
   "outputs": [],
   "source": []
  },
  {
   "attachments": {},
   "cell_type": "markdown",
   "id": "8a6f7ef9",
   "metadata": {
    "slideshow": {
     "slide_type": "slide"
    }
   },
   "source": [
    "## Tareas para realizar antes de la clase"
   ]
  },
  {
   "attachments": {},
   "cell_type": "markdown",
   "id": "90cae469",
   "metadata": {
    "slideshow": {
     "slide_type": "slide"
    }
   },
   "source": [
    "1. Ver los videos respectivos []()\n",
    "2. Memorizar las definiciones []()\n",
    "3. Sintetizar o resumir la información en mapas conceptuales. []()\n",
    "4. Tareas para incentivar el uso de la calculadora Casio Para ingenieros y licenciados. "
   ]
  },
  {
   "attachments": {},
   "cell_type": "markdown",
   "id": "fccb447c",
   "metadata": {
    "slideshow": {
     "slide_type": "slide"
    }
   },
   "source": [
    "# Tareas para realizar en clase"
   ]
  },
  {
   "attachments": {},
   "cell_type": "markdown",
   "id": "e5c48edf",
   "metadata": {
    "slideshow": {
     "slide_type": "slide"
    }
   },
   "source": [
    "* Modelación matemática \n",
    "* Trabajo en equipos"
   ]
  },
  {
   "attachments": {},
   "cell_type": "markdown",
   "id": "8b6b0112",
   "metadata": {
    "slideshow": {
     "slide_type": "slide"
    }
   },
   "source": [
    "# Tareas para realizar después de la realización de la clase"
   ]
  },
  {
   "attachments": {},
   "cell_type": "markdown",
   "id": "947460e3",
   "metadata": {
    "slideshow": {
     "slide_type": "slide"
    }
   },
   "source": [
    "* Actividades de memorización: \n",
    "  - escucha reiterada de grabaciones de formulas y resultados científicos. \n",
    "  - relectura de notas. \n",
    "  - ejercicios de mayor complejidad.\n",
    "\n",
    "\n",
    "### No olvide asignar las tareas a los estudiantes a través de Google Colab y compartiendole el cuaderno de asignación a su correo institucional con fecha de entrega. [Google Colab](https://colab.research.google.com/?hl=es)   \n",
    "  "
   ]
  },
  {
   "attachments": {},
   "cell_type": "markdown",
   "id": "d34defb9",
   "metadata": {
    "slideshow": {
     "slide_type": "slide"
    }
   },
   "source": [
    "## Asignación individual de tareas semanales "
   ]
  },
  {
   "attachments": {},
   "cell_type": "markdown",
   "id": "0406f442",
   "metadata": {
    "slideshow": {
     "slide_type": "slide"
    }
   },
   "source": []
  },
  {
   "attachments": {},
   "cell_type": "markdown",
   "id": "ae114e14",
   "metadata": {
    "slideshow": {
     "slide_type": "slide"
    }
   },
   "source": [
    "# Horarios de monitoría y asesoría"
   ]
  },
  {
   "attachments": {},
   "cell_type": "markdown",
   "id": "b1db4b6c",
   "metadata": {
    "slideshow": {
     "slide_type": "slide"
    }
   },
   "source": [
    "## Monitor Manuel\n",
    "\n",
    "Pida su cita a través del correo institucional manuel.serrano1@udea.edu.co"
   ]
  },
  {
   "attachments": {},
   "cell_type": "markdown",
   "id": "39559692",
   "metadata": {
    "slideshow": {
     "slide_type": "slide"
    }
   },
   "source": [
    "Martes y jueves de 8 - 12  \n",
    "Miércoles 10 - 12 y de 2 a 4 PM  \n",
    "Sábado: 8 - 12"
   ]
  },
  {
   "attachments": {},
   "cell_type": "markdown",
   "id": "4537ef79",
   "metadata": {
    "slideshow": {
     "slide_type": "slide"
    }
   },
   "source": [
    "## Monitor Giovanny Reales"
   ]
  },
  {
   "attachments": {},
   "cell_type": "markdown",
   "id": "a54d2914",
   "metadata": {
    "slideshow": {
     "slide_type": "slide"
    }
   },
   "source": [
    "* Lunes a viernes de 6pm a 8pm\n",
    "* Miércoles de 1 pm a 8pm"
   ]
  },
  {
   "attachments": {},
   "cell_type": "markdown",
   "id": "935a5567",
   "metadata": {
    "slideshow": {
     "slide_type": "slide"
    }
   },
   "source": [
    "## Dificultades de aprendizaje detectados durante la clase"
   ]
  },
  {
   "attachments": {},
   "cell_type": "markdown",
   "id": "3bd7500d",
   "metadata": {
    "slideshow": {
     "slide_type": "slide"
    }
   },
   "source": []
  },
  {
   "attachments": {},
   "cell_type": "markdown",
   "id": "fb9402bb",
   "metadata": {
    "slideshow": {
     "slide_type": "slide"
    }
   },
   "source": [
    "## Estrategias propuestas para la solución de las dificultades de aprendizaje detectadas"
   ]
  },
  {
   "attachments": {},
   "cell_type": "markdown",
   "id": "d437294b",
   "metadata": {
    "slideshow": {
     "slide_type": "slide"
    }
   },
   "source": []
  },
  {
   "attachments": {},
   "cell_type": "markdown",
   "id": "d11570a2",
   "metadata": {
    "slideshow": {
     "slide_type": "slide"
    }
   },
   "source": []
  },
  {
   "attachments": {},
   "cell_type": "markdown",
   "id": "236b43fc",
   "metadata": {
    "slideshow": {
     "slide_type": "slide"
    }
   },
   "source": [
    "## Grabaciones en audio para fomentar la capacidad de memorizar enunciados de teoremas y resultados científicos y la capacidad de parafrasear estos resultados. Y así desarrollar memoria muscular para los comandos comunes. "
   ]
  },
  {
   "attachments": {},
   "cell_type": "markdown",
   "id": "319f2ffa",
   "metadata": {
    "slideshow": {
     "slide_type": "slide"
    }
   },
   "source": [
    "Se dispondrá de un lugar en Vocaroo para albergar archivos de audio de fomento a la memorización, enunciación y parafraseo de los resultados científicos, propiedades, reglas, etc. \n",
    "\n",
    "[Vocaroo](https://vocaroo.com/)\n",
    "\n"
   ]
  },
  {
   "attachments": {},
   "cell_type": "markdown",
   "id": "564fa59d",
   "metadata": {
    "slideshow": {
     "slide_type": "slide"
    }
   },
   "source": [
    "### Comparta sus cuadernos y videos, evidencias de su aprendizaje [aquí](https://forms.office.com/Pages/ResponsePage.aspx?id=IefhmYRxjkmK_7KtTlPBwkanXIs1i1FEujpsZgO6dXpUMEMwTEZVMzEwVVBPTElWNVg5OVEyWUhMUy4u)"
   ]
  },
  {
   "attachments": {},
   "cell_type": "markdown",
   "id": "1a1a3e41",
   "metadata": {
    "slideshow": {
     "slide_type": "slide"
    }
   },
   "source": []
  },
  {
   "attachments": {},
   "cell_type": "markdown",
   "id": "44be6d93",
   "metadata": {
    "slideshow": {
     "slide_type": "slide"
    }
   },
   "source": [
    "# Vocabulary "
   ]
  },
  {
   "attachments": {},
   "cell_type": "markdown",
   "id": "35e2484a",
   "metadata": {
    "slideshow": {
     "slide_type": "slide"
    }
   },
   "source": [
    "1. \n",
    "2.  \n",
    "3.  \n",
    "4.  \n",
    "5.  "
   ]
  },
  {
   "attachments": {},
   "cell_type": "markdown",
   "id": "ee46cb9a",
   "metadata": {
    "slideshow": {
     "slide_type": "slide"
    }
   },
   "source": [
    "## Mapa conceptual que vincula los conceptos asoaciados al objetivo de aprendizaje"
   ]
  },
  {
   "attachments": {},
   "cell_type": "markdown",
   "id": "a6b7a17d",
   "metadata": {
    "slideshow": {
     "slide_type": "slide"
    }
   },
   "source": []
  },
  {
   "attachments": {},
   "cell_type": "markdown",
   "id": "0266e3c5",
   "metadata": {
    "slideshow": {
     "slide_type": "slide"
    }
   },
   "source": [
    "## Quiz de 20 minutos para ejercitación y adquisición de habilidades "
   ]
  },
  {
   "attachments": {},
   "cell_type": "markdown",
   "id": "3a1b127f",
   "metadata": {
    "slideshow": {
     "slide_type": "slide"
    }
   },
   "source": [
    "* Pregunta 1: \n",
    "* Pregunta 2: \n",
    "* Pregunta 3: "
   ]
  },
  {
   "attachments": {},
   "cell_type": "markdown",
   "id": "10bce0d0",
   "metadata": {
    "slideshow": {
     "slide_type": "slide"
    }
   },
   "source": [
    "## Referentes   \n",
    "\n",
    "* Grajales Vanegas, L. M., Restrepo Estrada, C. E., Restrepo Ochoa, S. I., & Ruíz De Villalba, F. (2015). Matemáticas I para las ciencias económicas. Recuperado a través de Google Scholar (https://bibliotecadigital.udea.edu.co/bitstream/10495/3010/5/GrajalesLina_2015_MatemticasCienciasEconmicas.pdf)"
   ]
  },
  {
   "attachments": {},
   "cell_type": "markdown",
   "id": "1db3c468",
   "metadata": {
    "slideshow": {
     "slide_type": "slide"
    }
   },
   "source": [
    "* [stewart precálculo](https://udeaeduco-my.sharepoint.com/:b:/g/personal/marco_canas_udea_edu_co/ERHIq62I6qFNrmxy6LZb8ZMBci7kUsyNME1nIh9yCBMJ_w?e=0zMSla)  \n",
    "\n",
    "* [stewart cálculo](https://udeaeduco-my.sharepoint.com/:b:/g/personal/marco_canas_udea_edu_co/EZgXZjAp8QxPqOAim2hs6LcBNPLGjSHf-xwYnUVYkwa04w?e=RZdTCy)  \n",
    "\n",
    "* [larson](https://udeaeduco-my.sharepoint.com/:b:/g/personal/marco_canas_udea_edu_co/ES71ChFeO9ZDhW3TwC5Ijk8BjxUK3Pdqz_fjHxTTFAfIAg?e=VDEjfu)\n",
    "\n",
    "* [uzcategui](https://udeaeduco-my.sharepoint.com/:b:/g/personal/marco_canas_udea_edu_co/ETDikm-lVl1Or8XoEo9oyh0BEti9Zs8le-f0D-dBdtZmbA?e=bBsoyQ)\n",
    "\n",
    "* [Cálculo de Purcell](https://udeaeduco-my.sharepoint.com/:b:/g/personal/marco_canas_udea_edu_co/ES60UB4h-QFFqqRQUFmkpWcBIgoLBJeqTfZjNajWNWSeJA?e=9NxjKJ)\n",
    "\n",
    "* [Recomendación de la UNESCO sobre ciencia abierta](https://unesdoc.unesco.org/ark:/48223/pf0000379949_spa)\n",
    "\n",
    "* [Geron, Aurelien. Hands on Machine Learning](https://udeaeduco-my.sharepoint.com/:b:/g/personal/marco_canas_udea_edu_co/Ecet27yjQzZIlT1Y_Bc2erkBUhbeYuIe6HG8i1FYZRlZww?e=gaOjqk)\n",
    "\n",
    "* [McKinney, West. Python for data Analysis.](https://udeaeduco-my.sharepoint.com/:b:/g/personal/marco_canas_udea_edu_co/EVbi5JIeBl9ErbiUnZfGe8YBhNTnZ8sxTK5hjIOPK4UpGw?e=tfkShe)\n",
    "\n",
    "* [ChatGPT](https://openai.com/blog/chatgpt/) \n",
    "\n",
    "* [Fórmulas más comunes en latex](https://wiki.geogebra.org/es/C%C3%B3digo_LaTeX_para_las_f%C3%B3rmulas_m%C3%A1s_comunes) "
   ]
  },
  {
   "attachments": {},
   "cell_type": "markdown",
   "id": "6b9e56a8",
   "metadata": {
    "slideshow": {
     "slide_type": "slide"
    }
   },
   "source": [
    "### [Evaluamos al profesor Marco Cañas Aquí](https://forms.office.com/Pages/ResponsePage.aspx?id=IefhmYRxjkmK_7KtTlPBwkanXIs1i1FEujpsZgO6dXpUREJPV1kxUk1JV1ozTFJIQVNIQjY5WEY3US4u)"
   ]
  },
  {
   "attachments": {},
   "cell_type": "markdown",
   "id": "071afa04",
   "metadata": {
    "slideshow": {
     "slide_type": "slide"
    }
   },
   "source": [
    "## [Evaluación luego de alcanzar estos objetivos de aprendizaje]()"
   ]
  },
  {
   "attachments": {},
   "cell_type": "markdown",
   "id": "10f43536",
   "metadata": {
    "slideshow": {
     "slide_type": "slide"
    }
   },
   "source": [
    "### Continue su aprendizaje en la siguiente clase a través del siguiente [vínculo]()"
   ]
  },
  {
   "attachments": {},
   "cell_type": "markdown",
   "id": "af751e30",
   "metadata": {
    "slideshow": {
     "slide_type": "slide"
    }
   },
   "source": [
    "# Conjeturas pedagógicas fruto de la aplicación del modelo de aprendizaje invertido y del enfoque hacia la ciencia de datos con python\n",
    "\n",
    "1. Todo cálculo o resultado debe ser interpretado en una línea markdown del cuaderno Jupyter, inmediatamente después de la enunciación del resultado y después de la presentación de una tabla o gráfico bidimensional, de tal menera que el estudiante explicite la comprensión verbal del resultado y las inferencias o estrategias que este resultado le sugieren.  \n",
    "\n",
    "2. Debo colocar las conjeturas pedagógicas, que el uso en el aula de [ChatGPT](https://openai.com/blog/chatgpt/) traiga para la enseñanza y el aprendizaje de las matemáticas. \n",
    "\n",
    "3. Promover ciencia abierta en clase de matemáticas puede ser pidiendo a los estudiantes, tomar nota en clase pero en cuadernos Jupyter y entregar siempre al final de cada clase su cuaderno con todas las notas y experimentaciones de clase replicadas. "
   ]
  },
  {
   "attachments": {},
   "cell_type": "markdown",
   "id": "53cc9115",
   "metadata": {
    "slideshow": {
     "slide_type": "slide"
    }
   },
   "source": [
    "## Agradecimientos  \n",
    "\n",
    "Doy gracias a Dios por la vida de mi Hijo Joseph Cañas Osorio y la madurez que ha alcanzado.\n",
    "\n",
    "Y a mi esposa Yasmira por su apoyo, orientación y acompañamiento. \n",
    "\n",
    "Y hoy 21 de julio de 2023, quiero dar infinitas gracias a mi hermana Yorlady por su disciplina, responsabilidad y alegría. Dios le siga otorgando felicidad y tranquilidad. \n",
    "\n",
    "<img src = 'https://github.com/marco-canas/2_calculo_I/blob/main/images/yorla_marco_2022_07_20.jpg?raw=true'>"
   ]
  },
  {
   "attachments": {},
   "cell_type": "markdown",
   "id": "fce30a6e",
   "metadata": {
    "slideshow": {
     "slide_type": "slide"
    }
   },
   "source": [
    "# Desarrollo de competencias en Python y ciencia de datos"
   ]
  },
  {
   "attachments": {},
   "cell_type": "markdown",
   "id": "cc151e69",
   "metadata": {
    "slideshow": {
     "slide_type": "slide"
    }
   },
   "source": [
    "## [West McKinney. Python for data Analysis](https://udeaeduco-my.sharepoint.com/:b:/g/personal/marco_canas_udea_edu_co/EVbi5JIeBl9ErbiUnZfGe8YBhNTnZ8sxTK5hjIOPK4UpGw?e=tfkShe)"
   ]
  },
  {
   "attachments": {},
   "cell_type": "markdown",
   "id": "2e0a4e73",
   "metadata": {
    "slideshow": {
     "slide_type": "slide"
    }
   },
   "source": [
    "### CHAPTER 2  \n",
    "#### Python Language Basics, IPython, and Jupyter Notebooks  \n",
    "\n"
   ]
  },
  {
   "attachments": {},
   "cell_type": "markdown",
   "id": "ecaa2ca7",
   "metadata": {
    "slideshow": {
     "slide_type": "slide"
    }
   },
   "source": [
    "When I wrote the first edition of this book in 2011 and 2012, there were fewer resources available for learning about doing data analysis in Python. "
   ]
  },
  {
   "attachments": {},
   "cell_type": "markdown",
   "id": "963e527b",
   "metadata": {
    "slideshow": {
     "slide_type": "slide"
    }
   },
   "source": [
    "This was partially a chicken-and-egg problem; many libraries that we now take for granted, like pandas, scikit-learn, and statsmodels, were comparatively immature back then. "
   ]
  },
  {
   "attachments": {},
   "cell_type": "markdown",
   "id": "4eb6ca46",
   "metadata": {
    "slideshow": {
     "slide_type": "slide"
    }
   },
   "source": [
    "In 2017, there is now a growing literature on data science, data analysis, and machine learning, supplementing the prior works on general-purpose scientific computing geared toward computational scientists, physicists, and professionals in other research fields. "
   ]
  },
  {
   "attachments": {},
   "cell_type": "markdown",
   "id": "739da03b",
   "metadata": {
    "slideshow": {
     "slide_type": "slide"
    }
   },
   "source": [
    "There are also excellent books about learning the Python programming language itself and becoming an effective software engineer. "
   ]
  },
  {
   "attachments": {},
   "cell_type": "markdown",
   "id": "e047085b",
   "metadata": {
    "slideshow": {
     "slide_type": "slide"
    }
   },
   "source": [
    "As this book is intended as an introductory text in working with data in Python, I feel it is valuable to have a self-contained overview of some of the most important features of Python’s built-in data structures and libraries from the perspective of data manipulation. "
   ]
  },
  {
   "attachments": {},
   "cell_type": "markdown",
   "id": "15c6e904",
   "metadata": {
    "slideshow": {
     "slide_type": "slide"
    }
   },
   "source": [
    "So, I will only present roughly enough information in this chapter and Chapter 3 to enable you to follow along with the rest of the book."
   ]
  },
  {
   "attachments": {},
   "cell_type": "markdown",
   "id": "6a1533ab",
   "metadata": {
    "slideshow": {
     "slide_type": "slide"
    }
   },
   "source": [
    "In my opinion, it is not necessary to become proficient at building good software in Python to be able to productively do data analysis. "
   ]
  },
  {
   "attachments": {},
   "cell_type": "markdown",
   "id": "f1a1488d",
   "metadata": {
    "slideshow": {
     "slide_type": "slide"
    }
   },
   "source": [
    "I encourage you to use the IPython shell and Jupyter notebooks to experiment with the code examples and to explore the documentation for the various types, functions, and methods. "
   ]
  },
  {
   "attachments": {},
   "cell_type": "markdown",
   "id": "a9ed6389",
   "metadata": {
    "slideshow": {
     "slide_type": "slide"
    }
   },
   "source": [
    "While I’ve made best efforts to present the book material in an incremental form, you may occasionally encounter things that have not yet been fully introduced."
   ]
  },
  {
   "attachments": {},
   "cell_type": "markdown",
   "id": "617153d3",
   "metadata": {
    "slideshow": {
     "slide_type": "slide"
    }
   },
   "source": [
    "Much of this book focuses on table-based analytics and data preparation tools for working with large datasets. In order to use those tools you must often first do some munging to corral messy data into a more nicely tabular (or structured) form. "
   ]
  },
  {
   "attachments": {},
   "cell_type": "markdown",
   "id": "72e2487b",
   "metadata": {
    "slideshow": {
     "slide_type": "fragment"
    }
   },
   "source": [
    "Gran parte de este libro se centra en el análisis basado en tablas y las herramientas de preparación de datos para trabajar con grandes conjuntos de datos. Para usar esas herramientas, a menudo primero debe hacer algo de munging para acorralar los datos desordenados en una forma tabular (o estructurada) más agradable."
   ]
  },
  {
   "attachments": {},
   "cell_type": "markdown",
   "id": "3177be0a",
   "metadata": {
    "slideshow": {
     "slide_type": "slide"
    }
   },
   "source": [
    "Fortunately, Python is an ideal language for rapidly whipping your data into shape. "
   ]
  },
  {
   "attachments": {},
   "cell_type": "markdown",
   "id": "2abc7796",
   "metadata": {
    "slideshow": {
     "slide_type": "slide"
    }
   },
   "source": [
    "The greater your facility with Python the language, the easier it will be for you to prepare new datasets for analysis. "
   ]
  },
  {
   "attachments": {},
   "cell_type": "markdown",
   "id": "b8b54178",
   "metadata": {
    "slideshow": {
     "slide_type": "slide"
    }
   },
   "source": [
    "Some of the tools in this book are best explored from a live IPython or Jupyter session. "
   ]
  },
  {
   "attachments": {},
   "cell_type": "markdown",
   "id": "0f7dca0d",
   "metadata": {
    "slideshow": {
     "slide_type": "slide"
    }
   },
   "source": [
    "Once you learn how to start up IPython and Jupyter, I recommend that you follow along with the examples so you can experiment and try different things. "
   ]
  },
  {
   "attachments": {},
   "cell_type": "markdown",
   "id": "dc66ac81",
   "metadata": {
    "slideshow": {
     "slide_type": "slide"
    }
   },
   "source": [
    "As with any keyboard-driven console-like environment, developing muscle-memory for the common commands is also part of the learning curve. "
   ]
  },
  {
   "attachments": {},
   "cell_type": "markdown",
   "id": "d6aba5c3",
   "metadata": {
    "slideshow": {
     "slide_type": "slide"
    }
   },
   "source": [
    "There are introductory Python concepts that this chapter does not cover, like classes and object-oriented programming, which you may find useful in your foray into data analysis in Python. "
   ]
  },
  {
   "attachments": {},
   "cell_type": "markdown",
   "id": "37aae6e2",
   "metadata": {
    "slideshow": {
     "slide_type": "slide"
    }
   },
   "source": [
    "To deepen your Python language knowledge, I recommend that you supplement this chapter with the official Python tutorial and potentially one of the many excellent books on general-purpose Python programming. Some recommendations to get you started include:  \n",
    "\n",
    "* Python Cookbook, Third Edition, by David Beazley and Brian K. Jones (O’Reilly)\n",
    "* Fluent Python by Luciano Ramalho (O’Reilly)\n",
    "* Effective Python by Brett Slatkin (Pearson)"
   ]
  },
  {
   "attachments": {},
   "cell_type": "markdown",
   "id": "59e8c4b1",
   "metadata": {
    "slideshow": {
     "slide_type": "slide"
    }
   },
   "source": [
    "# [Geron. Hand on Neuronal Networks]()\n",
    "\n",
    "Página 279 del libro. Segunda edición.\n",
    "\n",
    "## Chapter 10. Introduction to Artificial Neural Networks with Keras  "
   ]
  },
  {
   "attachments": {},
   "cell_type": "markdown",
   "id": "bac0783c",
   "metadata": {
    "slideshow": {
     "slide_type": "slide"
    }
   },
   "source": [
    "### Implementing MLPs with Keras"
   ]
  },
  {
   "attachments": {},
   "cell_type": "markdown",
   "id": "09740081",
   "metadata": {
    "slideshow": {
     "slide_type": "slide"
    }
   },
   "source": [
    "Keras is a high-level Deep Learning API that allows you to easily build, train, evaluate, and execute all sorts of neural networks. "
   ]
  },
  {
   "attachments": {},
   "cell_type": "markdown",
   "id": "c4496881",
   "metadata": {
    "slideshow": {
     "slide_type": "slide"
    }
   },
   "source": [
    "Its documentation (or specification) is available at https://keras.io/. "
   ]
  },
  {
   "attachments": {},
   "cell_type": "markdown",
   "id": "6ce046e3",
   "metadata": {
    "slideshow": {
     "slide_type": "slide"
    }
   },
   "source": [
    "The reference implementation, also called Keras, was developed by François Chollet as part of a research project and was released as an open source project in March 2015. "
   ]
  },
  {
   "attachments": {},
   "cell_type": "markdown",
   "id": "307c7712",
   "metadata": {
    "slideshow": {
     "slide_type": "slide"
    }
   },
   "source": [
    "It quickly gained popularity, owing to its ease of use, flexibility, and beautiful design. "
   ]
  },
  {
   "attachments": {},
   "cell_type": "markdown",
   "id": "3d7e450d",
   "metadata": {},
   "source": [
    "To perform the heavy computations required by neural networks, this reference implementation relies on a computation backend. At present, you can choose from three popular open source Deep Learning libraries: TensorFlow, Microsoft Cognitive Toolkit(CNTK), and Theano. "
   ]
  },
  {
   "attachments": {},
   "cell_type": "markdown",
   "id": "834ab342",
   "metadata": {},
   "source": [
    "Therefore, to avoid any confusion, we will refer to this reference implementation as multibackend Keras. Since late 2016, other implementations have been released. "
   ]
  },
  {
   "attachments": {},
   "cell_type": "markdown",
   "id": "570f44cc",
   "metadata": {},
   "source": [
    "You can now run Keras on Apache MXNet, Apple’s Core ML, JavaScript or TypeScript (to run Keras code in a web browser), and PlaidML (which can run on all sorts of GPU devices, not just Nvidia). "
   ]
  },
  {
   "attachments": {},
   "cell_type": "markdown",
   "id": "22b9e053",
   "metadata": {},
   "source": [
    "Moreover, TensorFlow itself now comes bundled with its own Keras implementation, tf.keras. "
   ]
  },
  {
   "attachments": {},
   "cell_type": "markdown",
   "id": "5a66c969",
   "metadata": {},
   "source": [
    "It only supports TensorFlow as the backend, but it has the advantage of offering some very useful extra features (see Figure 10-10): for example, it supports TensorFlow’s Data API, which makes it easy to load and preprocess data efficiently. "
   ]
  },
  {
   "attachments": {},
   "cell_type": "markdown",
   "id": "ffd9156a",
   "metadata": {},
   "source": [
    "For this reason, we will use tf.keras in this book. "
   ]
  },
  {
   "attachments": {},
   "cell_type": "markdown",
   "id": "d9b42bdf",
   "metadata": {},
   "source": [
    "However, in this chapter we will not use any of the TensorFlow-specific features, so the code should run fine on other Keras implementations as well (at least in Python), with only minor modifications, such as changing the imports."
   ]
  },
  {
   "attachments": {},
   "cell_type": "markdown",
   "id": "4c9908ae",
   "metadata": {
    "slideshow": {
     "slide_type": "slide"
    }
   },
   "source": [
    "<img src = 'https://github.com/marco-canas/7_didactica_ciencia_datos/blob/main/referentes/geron/part_2/c_10/images/fig_10_10.png?raw=true'>"
   ]
  },
  {
   "attachments": {},
   "cell_type": "markdown",
   "id": "fda3b750",
   "metadata": {
    "slideshow": {
     "slide_type": "slide"
    }
   },
   "source": [
    "The most popular Deep Learning library, after Keras and TensorFlow, is Facebook’s PyTorch library. "
   ]
  },
  {
   "attachments": {},
   "cell_type": "markdown",
   "id": "b60f9d3c",
   "metadata": {
    "slideshow": {
     "slide_type": "slide"
    }
   },
   "source": [
    "The good news is that its API is quite similar to Keras’s (in part because both APIs were inspired by Scikit-Learn and Chainer), so once you know Keras, it is not difficult to switch to PyTorch, if you ever want to. "
   ]
  },
  {
   "attachments": {},
   "cell_type": "markdown",
   "id": "0c8762f7",
   "metadata": {
    "slideshow": {
     "slide_type": "slide"
    }
   },
   "source": [
    "PyTorch’s popularity grew exponentially in 2018, largely thanks to its simplicity and excellent documentation, which were not TensorFlow 1.x’s main strengths. "
   ]
  },
  {
   "attachments": {},
   "cell_type": "markdown",
   "id": "3597a3b1",
   "metadata": {
    "slideshow": {
     "slide_type": "slide"
    }
   },
   "source": [
    "However, TensorFlow 2 is arguably just as simple as PyTorch, as it has adopted Keras as its official high-level API and its developers have greatly simplified and cleaned up the rest of the\n",
    "API. "
   ]
  },
  {
   "attachments": {},
   "cell_type": "markdown",
   "id": "bd6a9f63",
   "metadata": {
    "slideshow": {
     "slide_type": "slide"
    }
   },
   "source": [
    "The documentation has also been completely reorganized, and it is\n",
    "much easier to find what you need now. Similarly, PyTorch’s main\n",
    "weaknesses (e.g., limited portability and no computation graph analysis)\n",
    "have been largely addressed in PyTorch 1.0. Healthy competition is\n",
    "beneficial to everyone.\n",
    "All right, it’s time to code! As tf.keras is bundled with TensorFlow, let’s\n",
    "start by installing TensorFlow."
   ]
  },
  {
   "attachments": {},
   "cell_type": "markdown",
   "id": "b09c05b6",
   "metadata": {
    "slideshow": {
     "slide_type": "slide"
    }
   },
   "source": [
    "## Installing TensorFlow 2"
   ]
  },
  {
   "attachments": {},
   "cell_type": "markdown",
   "id": "77773ffc",
   "metadata": {
    "slideshow": {
     "slide_type": "slide"
    }
   },
   "source": [
    "Assuming you installed Jupyter and Scikit-Learn by following the\n",
    "installation instructions in Chapter 2, use pip to install TensorFlow. If you\n",
    "created an isolated environment using virtualenv, you first need to activate\n",
    "it:"
   ]
  },
  {
   "cell_type": "code",
   "execution_count": null,
   "id": "fb26a627",
   "metadata": {
    "slideshow": {
     "slide_type": "slide"
    }
   },
   "outputs": [],
   "source": [
    "!cd ML_PATH # Your ML working directory (e.g., $HOME/ml)\n",
    "!source my_env/bin/activate # on Linux or macOS\n",
    "!.\\my_env\\Scripts\\activate # on Windows"
   ]
  },
  {
   "attachments": {},
   "cell_type": "markdown",
   "id": "7bf4f360",
   "metadata": {
    "slideshow": {
     "slide_type": "slide"
    }
   },
   "source": [
    "Next, install TensorFlow 2 (if you are not using a virtualenv, you will need administrator rights, or to add the --user option):"
   ]
  },
  {
   "cell_type": "code",
   "execution_count": null,
   "id": "b8792cdf",
   "metadata": {
    "slideshow": {
     "slide_type": "slide"
    }
   },
   "outputs": [],
   "source": [
    "import tensorflow as tf "
   ]
  },
  {
   "cell_type": "code",
   "execution_count": null,
   "id": "342e2a47",
   "metadata": {},
   "outputs": [],
   "source": []
  },
  {
   "cell_type": "code",
   "execution_count": null,
   "id": "fce10188",
   "metadata": {},
   "outputs": [],
   "source": []
  },
  {
   "cell_type": "code",
   "execution_count": null,
   "id": "62b356f5",
   "metadata": {},
   "outputs": [],
   "source": []
  }
 ],
 "metadata": {
  "celltoolbar": "Slideshow",
  "kernelspec": {
   "display_name": "Python 3 (ipykernel)",
   "language": "python",
   "name": "python3"
  },
  "language_info": {
   "codemirror_mode": {
    "name": "ipython",
    "version": 3
   },
   "file_extension": ".py",
   "mimetype": "text/x-python",
   "name": "python",
   "nbconvert_exporter": "python",
   "pygments_lexer": "ipython3",
   "version": "3.10.11"
  },
  "rise": {
   "enable_chalkboard": true,
   "theme": "sky",
   "transition": "zoom"
  }
 },
 "nbformat": 4,
 "nbformat_minor": 5
}
