{
 "cells": [
  {
   "attachments": {},
   "cell_type": "markdown",
   "id": "dc06dec7",
   "metadata": {
    "slideshow": {
     "slide_type": "slide"
    }
   },
   "source": [
    "<table align=\"left\">\n",
    "  <td>\n",
    "    <a href=\"https://colab.research.google.com/github/marco-canas/2_calculo_I/blob/main/referents/grajales/3_real_numbers/2_evaluacion_quiz_parcial_real_numbers.ipynb\" target=\"_parent\"><img src=\"https://colab.research.google.com/assets/colab-badge.svg\" alt=\"Open In Colab\"/></a>\n",
    "  </td>\n",
    "</table>"
   ]
  },
  {
   "attachments": {},
   "cell_type": "markdown",
   "id": "e0c5b198",
   "metadata": {
    "slideshow": {
     "slide_type": "slide"
    }
   },
   "source": [
    "### [Video de apoyo a la lectura interactiva y experimental de este cuaderno]()"
   ]
  },
  {
   "attachments": {},
   "cell_type": "markdown",
   "id": "41e82203",
   "metadata": {
    "slideshow": {
     "slide_type": "slide"
    }
   },
   "source": [
    "## [Vínculo al programa del curso:  ](https://github.com/marco-canas/2_calculo_I/tree/main)"
   ]
  },
  {
   "attachments": {},
   "cell_type": "markdown",
   "id": "ca46c23b",
   "metadata": {
    "slideshow": {
     "slide_type": "slide"
    }
   },
   "source": [
    "# Modelo general de clase: [aula invertida](https://www3.gobiernodecanarias.org/medusa/ecoescuela/pedagotic/aprendizaje-invertido-flipped-classroom/)\n",
    "\n",
    "## Definición y características de este modelo"
   ]
  },
  {
   "attachments": {},
   "cell_type": "markdown",
   "id": "d2b0e776",
   "metadata": {
    "slideshow": {
     "slide_type": "slide"
    }
   },
   "source": [
    "## ¿Qué es?  \n",
    "\n",
    "Flipped Learning o aprendizaje invertido es un enfoque pedagógico en el que:  \n",
    "\n",
    "* la instrucción directa se realiza fuera del aula y \n",
    "* se utiliza el tiempo de clase para llevar a cabo actividades que impliquen el desarrollo de procesos cognitivos de mayor complejidad, en las que son necesarias la ayuda y la experiencia del docente."
   ]
  },
  {
   "attachments": {},
   "cell_type": "markdown",
   "id": "5fc4f731",
   "metadata": {
    "slideshow": {
     "slide_type": "slide"
    }
   },
   "source": [
    "## ¿Para qué sirve?  \n",
    "\n",
    "Mejora el proceso de enseñanza-aprendizaje realizando,   \n",
    "\n",
    "* fuera del aula, actividades de aprendizaje sencillas (observar, memorizar, resumir, etc.) y, \n",
    "* en el aula, actividades más complejas (razonar, examinar, priorizar, argumentar, proponer, etc.) que requieren la interacción entre iguales y la ayuda del docente como facilitador."
   ]
  },
  {
   "attachments": {},
   "cell_type": "markdown",
   "id": "b42472d6",
   "metadata": {
    "slideshow": {
     "slide_type": "slide"
    }
   },
   "source": [
    "<img src = 'https://github.com/marco-canas/7_didactica_ciencia_datos/blob/main/4_images/atributos_aprendizaje_invertido.png?raw=true'>"
   ]
  },
  {
   "attachments": {},
   "cell_type": "markdown",
   "id": "8cee33b3",
   "metadata": {
    "slideshow": {
     "slide_type": "slide"
    }
   },
   "source": [
    "# Proceso Flipped Learning"
   ]
  },
  {
   "attachments": {},
   "cell_type": "markdown",
   "id": "9c61b8b5",
   "metadata": {
    "slideshow": {
     "slide_type": "slide"
    }
   },
   "source": [
    "## Fuera del Aula"
   ]
  },
  {
   "attachments": {},
   "cell_type": "markdown",
   "id": "fe20721d",
   "metadata": {
    "slideshow": {
     "slide_type": "slide"
    }
   },
   "source": [
    "### Docente:"
   ]
  },
  {
   "attachments": {},
   "cell_type": "markdown",
   "id": "5b022dc9",
   "metadata": {
    "slideshow": {
     "slide_type": "slide"
    }
   },
   "source": [
    "* Diseña y planea el proceso de enseñanza-aprendizaje del aula, integrando estrategias, modelos de enseñanza y metodologías (aprendizaje basado en proyectos, aprendizaje cooperativo y colaborativo,…).  \n",
    "\n",
    "* Diseña y planea actividades que se realizarán fuera del aula (ver vídeos, cumplimentar cuestionarios,…).  \n",
    "\n",
    "* Selecciona e integra la tecnología en actividades de aprendizaje activo.  \n",
    "\n",
    "* Diseña actividades de evaluación que promuevan el aprendizaje del alumnado."
   ]
  },
  {
   "attachments": {},
   "cell_type": "markdown",
   "id": "467fb978",
   "metadata": {
    "slideshow": {
     "slide_type": "slide"
    }
   },
   "source": [
    "### Alumnado:"
   ]
  },
  {
   "attachments": {},
   "cell_type": "markdown",
   "id": "87d6d661",
   "metadata": {
    "slideshow": {
     "slide_type": "slide"
    }
   },
   "source": [
    "* Accede, cuantas veces necesite, a las actividades facilitadas por el profesorado.\n",
    "* Realiza las actividades propuestas."
   ]
  },
  {
   "attachments": {},
   "cell_type": "markdown",
   "id": "93cd48b6",
   "metadata": {
    "slideshow": {
     "slide_type": "slide"
    }
   },
   "source": [
    "## En el Aula"
   ]
  },
  {
   "attachments": {},
   "cell_type": "markdown",
   "id": "79ea8675",
   "metadata": {
    "slideshow": {
     "slide_type": "slide"
    }
   },
   "source": [
    "### Docente:"
   ]
  },
  {
   "attachments": {},
   "cell_type": "markdown",
   "id": "d4d6f829",
   "metadata": {
    "slideshow": {
     "slide_type": "slide"
    }
   },
   "source": [
    "* Guía y facilita los procesos de aprendizaje, atendiendo a la diversidad.\n",
    "* Retroalimenta el desempeño de los equipos/grupos y del alumnado individualmente.\n",
    "* Genera espacios para la coevaluación y autoevaluación."
   ]
  },
  {
   "attachments": {},
   "cell_type": "markdown",
   "id": "7178794c",
   "metadata": {
    "slideshow": {
     "slide_type": "slide"
    }
   },
   "source": [
    "### Alumnado:"
   ]
  },
  {
   "attachments": {},
   "cell_type": "markdown",
   "id": "88d1c0f7",
   "metadata": {
    "slideshow": {
     "slide_type": "slide"
    }
   },
   "source": [
    "* Realiza las actividades (debates, exposiciones orales, informes, diario de aprendizaje, cuaderno de trabajo cooperativo,…).\n",
    "* Recibe retroalimentación inmediata del profesorado y de sus compañeros y compañeras.\n",
    "* Accede, si fuera necesario, a las actividades previas facilitadas por el profesorado."
   ]
  },
  {
   "attachments": {},
   "cell_type": "markdown",
   "id": "7f9be90f",
   "metadata": {
    "slideshow": {
     "slide_type": "slide"
    }
   },
   "source": [
    "# Fomento de la lectura literaria asociada a Ingeniería agropecuaria y licenciatura en Matemáticas"
   ]
  },
  {
   "attachments": {},
   "cell_type": "markdown",
   "id": "1145cd94",
   "metadata": {
    "slideshow": {
     "slide_type": "slide"
    }
   },
   "source": [
    "## Otras formas de comunicación que alienan de la vida "
   ]
  },
  {
   "attachments": {},
   "cell_type": "markdown",
   "id": "0dd2653d",
   "metadata": {
    "slideshow": {
     "slide_type": "fragment"
    }
   },
   "source": [
    "La comunicación de nuestros deseos expresada en forma de exigencias constituye otra forma de lenguaje que bloquea la compasión. "
   ]
  },
  {
   "attachments": {},
   "cell_type": "markdown",
   "id": "e782b66b",
   "metadata": {
    "slideshow": {
     "slide_type": "fragment"
    }
   },
   "source": [
    "Toda exigencia amenaza explícita o implícitamente a la persona que la escucha con la culpa o el castigo, en caso de que no la satisfaga. "
   ]
  },
  {
   "attachments": {},
   "cell_type": "markdown",
   "id": "414e598b",
   "metadata": {
    "slideshow": {
     "slide_type": "fragment"
    }
   },
   "source": [
    "Se trata de una forma de comunicación muy corriente en nuestra cultura, sobre todo por parte de quienes ocupan posiciones de autoridad."
   ]
  },
  {
   "attachments": {},
   "cell_type": "markdown",
   "id": "ec85a421",
   "metadata": {
    "slideshow": {
     "slide_type": "slide"
    }
   },
   "source": [
    "Mis hijos me han dado lecciones muy valiosas en lo que se refiere a las exigencias. "
   ]
  },
  {
   "attachments": {},
   "cell_type": "markdown",
   "id": "2bc38c7c",
   "metadata": {
    "slideshow": {
     "slide_type": "slide"
    }
   },
   "source": [
    "Sin saber muy bien por qué, yo estaba convencido de que, por mi condición de padre, me correspondía exigirles determinadas cosas. "
   ]
  },
  {
   "attachments": {},
   "cell_type": "markdown",
   "id": "04607bcf",
   "metadata": {
    "slideshow": {
     "slide_type": "slide"
    }
   },
   "source": [
    "Pero aprendí que, por mucho que les exigiera que las hicieran, no por eso conseguía mi propósito. "
   ]
  },
  {
   "attachments": {},
   "cell_type": "markdown",
   "id": "3dc94c1c",
   "metadata": {
    "slideshow": {
     "slide_type": "slide"
    }
   },
   "source": [
    "Es una lección de humildad para aquellos de nosotros que creemos que, por el simple hecho de ser padres, maestros o jefes, vamos a cambiar a los demás y conseguir que hagan lo que nosotros queremos. "
   ]
  },
  {
   "attachments": {},
   "cell_type": "markdown",
   "id": "d7c42438",
   "metadata": {
    "slideshow": {
     "slide_type": "slide"
    }
   },
   "source": [
    "A mí, mis hijos me enseñaron que yo no conseguiría que ellos hicieran lo que yo quería. "
   ]
  },
  {
   "attachments": {},
   "cell_type": "markdown",
   "id": "c3186e89",
   "metadata": {
    "slideshow": {
     "slide_type": "slide"
    }
   },
   "source": [
    "Lo máximo que podía conseguir, a través del castigo, era que se arrepintiesen y desearan no haber actuado como lo habían hecho. "
   ]
  },
  {
   "attachments": {},
   "cell_type": "markdown",
   "id": "bfdd380e",
   "metadata": {},
   "source": [
    "Con el tiempo, también me enseñaron que, siempre que yo cometía el error de obligarlos a someterse a mis deseos ante la perspectiva del castigo, ellos disponían de medios para lograr que yo deseara no haber recurrido a ese método."
   ]
  },
  {
   "attachments": {},
   "cell_type": "markdown",
   "id": "5ba963d7",
   "metadata": {
    "slideshow": {
     "slide_type": "slide"
    }
   },
   "source": [
    "Volveremos a examinar este tema cuando aprendamos a diferenciar las peti\u0002ciones de las exigencias, un aspecto muy importante de la CNV."
   ]
  },
  {
   "attachments": {},
   "cell_type": "markdown",
   "id": "33799888",
   "metadata": {
    "slideshow": {
     "slide_type": "slide"
    }
   },
   "source": [
    "La comunicación que aliena de la vida también se relaciona con el concepto de que ciertas acciones merecen recompensa mientras que otras merecen castigo."
   ]
  },
  {
   "attachments": {},
   "cell_type": "markdown",
   "id": "1573cd66",
   "metadata": {
    "slideshow": {
     "slide_type": "slide"
    }
   },
   "source": [
    "Esta idea se expresa en la palabra “merecer”, como en “Él merece castigo por lo que hizo”. "
   ]
  },
  {
   "attachments": {},
   "cell_type": "markdown",
   "id": "f635c655",
   "metadata": {
    "slideshow": {
     "slide_type": "slide"
    }
   },
   "source": [
    "Supone “maldad” por parte de las personas que actúan de determinada manera y requiere castigo para que se arrepientan y cambien su comportamiento."
   ]
  },
  {
   "attachments": {},
   "cell_type": "markdown",
   "id": "f8d4dd7c",
   "metadata": {
    "slideshow": {
     "slide_type": "slide"
    }
   },
   "source": [
    "Creo que interesa a todo el mundo que las personas cambien no para evitar el castigo sino porque consideran que el cambio los beneficia."
   ]
  },
  {
   "attachments": {},
   "cell_type": "markdown",
   "id": "95d96385",
   "metadata": {
    "slideshow": {
     "slide_type": "slide"
    }
   },
   "source": [
    "La mayoría de nosotros crecimos hablando un lenguaje que nos estimula a etiquetar, comparar, exigir y emitir juicios más que a darnos cuenta de lo que esta\u0002mos sintiendo y necesitando. "
   ]
  },
  {
   "attachments": {},
   "cell_type": "markdown",
   "id": "7737422f",
   "metadata": {
    "slideshow": {
     "slide_type": "slide"
    }
   },
   "source": [
    "Creo que la comunicación que aliena de la vida se basa en concepciones de la naturaleza humana que han ejercido su influencia durante varios siglos. "
   ]
  },
  {
   "attachments": {},
   "cell_type": "markdown",
   "id": "731ca5e2",
   "metadata": {
    "slideshow": {
     "slide_type": "slide"
    }
   },
   "source": [
    "Estas concepciones ponen el énfasis en nuestra maldad y en nuestras\n",
    "deficiencias innatas, así como en la necesidad de una educación que controle nuestra\n",
    "naturaleza inherentemente indeseable. "
   ]
  },
  {
   "attachments": {},
   "cell_type": "markdown",
   "id": "7b7b7238",
   "metadata": {},
   "source": [
    "Tal educación con frecuencia nos deja preguntándonos si hay algo incorrecto en cualquier tipo de sentimiento o necesidad que podamos tener. "
   ]
  },
  {
   "attachments": {},
   "cell_type": "markdown",
   "id": "28f376bc",
   "metadata": {},
   "source": [
    "Desde pequeños aprendemos a dejar a un lado lo que sucede en nuestro interior.\n"
   ]
  },
  {
   "attachments": {},
   "cell_type": "markdown",
   "id": "64be2d17",
   "metadata": {},
   "source": [
    "La comunicación que nos aliena de la vida surge de las sociedades jerárquicas o\n",
    "de dominación, y las sustenta. Cuando los pueblos están controlados por un número\n",
    "pequeño de individuos que buscan el beneficio propio, a los reyes, zares, nobles, etc.,\n",
    "les resulta muy útil que las masas se eduquen con una mentalidad de esclavos. "
   ]
  },
  {
   "attachments": {},
   "cell_type": "markdown",
   "id": "25536279",
   "metadata": {},
   "source": [
    "A tal efecto, el lenguaje de lo incorrecto y de expresiones como “deberías” y “tienes que” es totalmente adecuado para ese propósito: cuanto más acostumbramos a las personas a pensar en términos de juicios moralistas que implican lo que está mal o incorrecto, tanto más aprenden a mirar hacia afuera de sí mismos –a las autoridades externas– para encontrar la definición de lo que constituye lo correcto, lo incorrecto, lo bueno y lo malo. "
   ]
  },
  {
   "attachments": {},
   "cell_type": "markdown",
   "id": "be6a9488",
   "metadata": {},
   "source": [
    "Cuando nos ponemos en contacto con\n",
    "nuestros sentimientos y necesidades, los seres humanos dejamos de ser buenos esclavos o subordinados."
   ]
  },
  {
   "attachments": {},
   "cell_type": "markdown",
   "id": "79c35435",
   "metadata": {
    "slideshow": {
     "slide_type": "slide"
    }
   },
   "source": [
    "### Resumen\n"
   ]
  },
  {
   "attachments": {},
   "cell_type": "markdown",
   "id": "c8723078",
   "metadata": {},
   "source": [
    "Disfrutar cuando damos y recibimos con compasión forma parte de nuestra naturaleza. "
   ]
  },
  {
   "attachments": {},
   "cell_type": "markdown",
   "id": "110d3733",
   "metadata": {},
   "source": [
    "Sin embargo, está tan profundamente arraigada en nosotros una serie de formas de «comunicación que aliena de la vida», que eso nos lleva a hablar y a conducirnos de tal modo que herimos a los demás y nos herimos a nosotros mismos. "
   ]
  },
  {
   "attachments": {},
   "cell_type": "markdown",
   "id": "a65b469f",
   "metadata": {},
   "source": [
    "Una forma de comunicación que aliena de la vida consiste en emitir juicios moralistas que presuponen error o maldad en todo aquel que no actúa de acuerdo con nuestro sistema de valores. "
   ]
  },
  {
   "attachments": {},
   "cell_type": "markdown",
   "id": "d4c1cd6a",
   "metadata": {},
   "source": [
    "Otra forma de\n",
    "comunicación que aliena de la vida consiste en el uso de comparaciones, que\n",
    "bloquean la compasión por los demás y por nosotros mismos. La comunica"
   ]
  },
  {
   "attachments": {},
   "cell_type": "markdown",
   "id": "96775931",
   "metadata": {
    "slideshow": {
     "slide_type": "slide"
    }
   },
   "source": [
    "## Título de la clase: Realización de quiz o parcial  \n",
    "\n"
   ]
  },
  {
   "attachments": {},
   "cell_type": "markdown",
   "id": "1d38dd4e",
   "metadata": {
    "slideshow": {
     "slide_type": "slide"
    }
   },
   "source": [
    "### Objetivo de aprendizaje (Enunciar, de manera corta sencilla y clara para todos los asistentes)\n",
    "\n",
    "* Saber la definición de número racional y de número irracional en términos de la representación decimal de un número real. \n",
    "* "
   ]
  },
  {
   "attachments": {},
   "cell_type": "markdown",
   "id": "ca7261b1",
   "metadata": {
    "slideshow": {
     "slide_type": "slide"
    }
   },
   "source": [
    "## Establecimiento de prerrequisitos conceptuales para alcanzar el objetivo de aprendizaje trazado.   \n",
    "\n",
    "(Elabore una lista de preguntas al rededor de los conceptos que consideres necesarios para empezar la clase).  \n",
    "\n",
    "1. \n",
    "2. \n",
    "3. "
   ]
  },
  {
   "attachments": {},
   "cell_type": "markdown",
   "id": "2298e976",
   "metadata": {
    "slideshow": {
     "slide_type": "slide"
    }
   },
   "source": [
    "# Para el diseño de la clase tenga en cuenta algunos problemas de aprendizaje"
   ]
  },
  {
   "cell_type": "code",
   "execution_count": null,
   "id": "523d3acf",
   "metadata": {
    "slideshow": {
     "slide_type": "slide"
    }
   },
   "outputs": [],
   "source": []
  },
  {
   "attachments": {},
   "cell_type": "markdown",
   "id": "a40a4704",
   "metadata": {
    "slideshow": {
     "slide_type": "slide"
    }
   },
   "source": [
    "# Ejemplo de quiz"
   ]
  },
  {
   "cell_type": "code",
   "execution_count": null,
   "id": "1ff0d02b",
   "metadata": {
    "slideshow": {
     "slide_type": "slide"
    }
   },
   "outputs": [],
   "source": [
    "import random\n",
    "\n",
    "def pregunta_1():\n",
    "    print(\"1. ¿Cuál es la derivada de la función f(x) = 3x^2?\")\n",
    "    opciones = [\"a. f'(x) = 6x\", \"b. f'(x) = 3x\", \"c. f'(x) = 2x^2\", \"d. f'(x) = 9x\"]\n",
    "    respuesta_correcta = \"a\"\n",
    "    return opciones, respuesta_correcta\n",
    "\n",
    "def pregunta_2():\n",
    "    print(\"2. ¿Cuál es la integral indefinida de la función f(x) = 4x^3?\")\n",
    "    opciones = [\"a. F(x) = x^4\", \"b. F(x) = 2x^4\", \"c. F(x) = 4x^4\", \"d. F(x) = x^3\"]\n",
    "    respuesta_correcta = \"a\"\n",
    "    return opciones, respuesta_correcta\n",
    "\n",
    "def pregunta_3():\n",
    "    print(\"3. ¿Cuál es la derivada de la función f(x) = sin(x)?\")\n",
    "    opciones = [\"a. f'(x) = cos(x)\", \"b. f'(x) = -sin(x)\", \"c. f'(x) = cos^2(x)\", \"d. f'(x) = 1\"]\n",
    "    respuesta_correcta = \"a\"\n",
    "    return opciones, respuesta_correcta\n",
    "\n",
    "preguntas = [pregunta_1, pregunta_2, pregunta_3]\n",
    "puntuacion_total = 0\n",
    "\n",
    "random.shuffle(preguntas)\n",
    "\n",
    "for indice, pregunta in enumerate(preguntas):\n",
    "    print(f\"Pregunta {indice + 1}:\")\n",
    "    opciones, respuesta_correcta = pregunta()\n",
    "    for opcion in opciones:\n",
    "        print(opcion)\n",
    "    respuesta_usuario = input(\"Selecciona la opción correcta (a, b, c o d): \")\n",
    "    if respuesta_usuario == respuesta_correcta:\n",
    "        puntuacion_total += 1\n",
    "\n",
    "print(f\"Tu puntuación final es: {puntuacion_total}/{len(preguntas)}\")\n"
   ]
  },
  {
   "attachments": {},
   "cell_type": "markdown",
   "id": "e01461ad",
   "metadata": {
    "slideshow": {
     "slide_type": "slide"
    }
   },
   "source": []
  },
  {
   "attachments": {},
   "cell_type": "markdown",
   "id": "981c618a",
   "metadata": {
    "slideshow": {
     "slide_type": "slide"
    }
   },
   "source": [
    "# Ejemplo de parcial"
   ]
  },
  {
   "attachments": {},
   "cell_type": "markdown",
   "id": "c641f979",
   "metadata": {
    "slideshow": {
     "slide_type": "slide"
    }
   },
   "source": [
    "Preguntas posibles en un parcial \n",
    "\n",
    "* ¿Para qué sirven las líneas Markdown?\n",
    "* ¿Para qué sirven las líneas de código?\n",
    "Son para definir variables, mostrar los valores asociadops a las variables, determinar el tipo de una variablñe, hacer operaciones aritméticas. \n",
    "* ¿?\n",
    "* ¿?\n",
    "* ¿?\n",
    "* ¿?"
   ]
  },
  {
   "cell_type": "code",
   "execution_count": null,
   "id": "d3767a77",
   "metadata": {},
   "outputs": [],
   "source": []
  },
  {
   "cell_type": "code",
   "execution_count": null,
   "id": "384af1d4",
   "metadata": {},
   "outputs": [],
   "source": []
  },
  {
   "cell_type": "code",
   "execution_count": null,
   "id": "3fc8d3df",
   "metadata": {
    "slideshow": {
     "slide_type": "slide"
    }
   },
   "outputs": [],
   "source": []
  },
  {
   "cell_type": "code",
   "execution_count": null,
   "id": "3b788bca",
   "metadata": {
    "slideshow": {
     "slide_type": "slide"
    }
   },
   "outputs": [],
   "source": []
  },
  {
   "attachments": {},
   "cell_type": "markdown",
   "id": "75fcb30b",
   "metadata": {},
   "source": [
    "# Tallercito"
   ]
  },
  {
   "attachments": {},
   "cell_type": "markdown",
   "id": "3009509b",
   "metadata": {},
   "source": [
    "Realizar los primeros 10 ejercicios de la página 113 de Lina Grajales. "
   ]
  },
  {
   "cell_type": "code",
   "execution_count": null,
   "id": "b13cee82",
   "metadata": {},
   "outputs": [],
   "source": [
    "-3 <= -15"
   ]
  },
  {
   "cell_type": "code",
   "execution_count": null,
   "id": "853c9d74",
   "metadata": {},
   "outputs": [],
   "source": [
    "import numpy as np "
   ]
  },
  {
   "cell_type": "code",
   "execution_count": null,
   "id": "c0a9aaa1",
   "metadata": {},
   "outputs": [],
   "source": [
    "np.e"
   ]
  },
  {
   "cell_type": "code",
   "execution_count": null,
   "id": "54a61bf5",
   "metadata": {},
   "outputs": [],
   "source": [
    "np.e < 3"
   ]
  },
  {
   "cell_type": "code",
   "execution_count": 4,
   "id": "a15f065e",
   "metadata": {},
   "outputs": [
    {
     "data": {
      "text/plain": [
       "1.4142135623730951"
      ]
     },
     "execution_count": 4,
     "metadata": {},
     "output_type": "execute_result"
    }
   ],
   "source": [
    "np.sqrt(2) # es un  núme irracionbal, es decir, un número de representación infinita, no repetitiva. "
   ]
  },
  {
   "cell_type": "code",
   "execution_count": null,
   "id": "c601de51",
   "metadata": {},
   "outputs": [],
   "source": [
    "1/3 # un terci9o es un número racional, porque su representación decimal es infinita periodica o repetitiva. "
   ]
  },
  {
   "attachments": {},
   "cell_type": "markdown",
   "id": "42214708",
   "metadata": {},
   "source": [
    "<img src = 'https://upload.wikimedia.org/wikipedia/commons/thumb/4/47/N%C3%BAmeros_reales.svg/220px-N%C3%BAmeros_reales.svg.png'>"
   ]
  },
  {
   "attachments": {},
   "cell_type": "markdown",
   "id": "6fb99bf9",
   "metadata": {},
   "source": [
    "<img src = 'https://upload.wikimedia.org/wikipedia/commons/thumb/d/d7/Real_number_line.svg/300px-Real_number_line.svg.png'>"
   ]
  },
  {
   "cell_type": "code",
   "execution_count": null,
   "id": "73d408a3",
   "metadata": {},
   "outputs": [],
   "source": [
    "np.sqrt(2) > 1.41"
   ]
  },
  {
   "cell_type": "code",
   "execution_count": 8,
   "id": "ab778f8c",
   "metadata": {},
   "outputs": [
    {
     "data": {
      "image/png": "[encoded data removed]",
      "text/plain": [
       "<Figure size 640x480 with 1 Axes>"
      ]
     },
     "metadata": {},
     "output_type": "display_data"
    }
   ],
   "source": [
    "import numpy as np \n",
    "import matplotlib.pyplot as plt \n",
    "\n",
    "plt.plot([1.41, np.sqrt(2)], [0,0], 'ro')\n",
    "\n",
    "plt.grid()\n",
    "\n",
    "plt.show()\n",
    "\n"
   ]
  },
  {
   "attachments": {},
   "cell_type": "markdown",
   "id": "aad5b49a",
   "metadata": {},
   "source": [
    "**Conclusiones:**\n",
    "\n",
    "\n",
    "$$ 1.41 \\neq \\sqrt{2} $$\n",
    "\n",
    "$$ 1.41 < \\sqrt{2} $$\n",
    "\n",
    "$$ 1.41 \\approx \\sqrt{2} $$\n",
    "\n",
    "Aquí es donde mueren muchos. "
   ]
  },
  {
   "cell_type": "code",
   "execution_count": 5,
   "id": "de05489d",
   "metadata": {},
   "outputs": [
    {
     "data": {
      "text/plain": [
       "False"
      ]
     },
     "execution_count": 5,
     "metadata": {},
     "output_type": "execute_result"
    }
   ],
   "source": [
    "np.pi == 3.14 # el doble igual en python es para preguntar si son iguales "
   ]
  },
  {
   "cell_type": "code",
   "execution_count": 10,
   "id": "d49f1100",
   "metadata": {},
   "outputs": [
    {
     "data": {
      "text/plain": [
       "True"
      ]
     },
     "execution_count": 10,
     "metadata": {},
     "output_type": "execute_result"
    }
   ],
   "source": [
    "np.pi != 3.14 # signo de admiración + = es el operador de comparación ser diferentes. "
   ]
  },
  {
   "cell_type": "code",
   "execution_count": 21,
   "id": "1d3f8c4f",
   "metadata": {},
   "outputs": [
    {
     "data": {
      "text/plain": [
       "3.141592653589793"
      ]
     },
     "execution_count": 21,
     "metadata": {},
     "output_type": "execute_result"
    }
   ],
   "source": [
    "import math\n",
    "math.pi"
   ]
  },
  {
   "cell_type": "code",
   "execution_count": 22,
   "id": "cc7a378a",
   "metadata": {},
   "outputs": [
    {
     "data": {
      "text/plain": [
       "True"
      ]
     },
     "execution_count": 22,
     "metadata": {},
     "output_type": "execute_result"
    }
   ],
   "source": [
    "math.pi > 3.14"
   ]
  },
  {
   "cell_type": "code",
   "execution_count": 25,
   "id": "2dd1c3ae",
   "metadata": {},
   "outputs": [
    {
     "name": "stdout",
     "output_type": "stream",
     "text": [
      "['/bin/sh: línea 1: 3.14: orden no encontrada']\n"
     ]
    }
   ],
   "source": [
    "import numpy as np\n",
    "\n",
    "# Obtener el valor de pi\n",
    "valor_pi = np.pi\n",
    "\n",
    "# Imprimir el valor de pi\n",
    "print(valor_pi)\n"
   ]
  },
  {
   "attachments": {},
   "cell_type": "markdown",
   "id": "d445bfff",
   "metadata": {},
   "source": [
    "## [Video de apoyo a la solución de los primeros 2 ejercicios del taller sobre números reales](https://www.youtube.com/watch?v=ePtAZyzVzXU)"
   ]
  },
  {
   "attachments": {},
   "cell_type": "markdown",
   "id": "6ad3ba07",
   "metadata": {},
   "source": [
    "# Ejercicio 8 de la página 114 de Lina Grajales: Matemáticas I para ciencias económicas\n",
    "\n",
    "8. Para los siguientes puntos: \n",
    "   * grafique los puntos en el plano coordenado, \n",
    "   * determine la distancia entre ellos y \n",
    "   * determine el punto medio del segmento de recta que los une.\n",
    "   \n",
    "     \n",
    "   a. $(2, 1)$ y $(4; 5)$  \n",
    "   b. $\\left(\\frac{1}{2}, 1 \\right)$ y $(-\\frac{3}{2}, y)$   \n",
    "   c.   \n",
    "   d. "
   ]
  },
  {
   "attachments": {},
   "cell_type": "markdown",
   "id": "bd5c202d",
   "metadata": {},
   "source": [
    "## Solución\n",
    "\n",
    "Empecemos graficando los puntos en el plano. "
   ]
  },
  {
   "cell_type": "code",
   "execution_count": 2,
   "id": "4205e2ae",
   "metadata": {},
   "outputs": [
    {
     "data": {
      "image/png": "[encoded data removed]",
      "text/plain": [
       "<Figure size 640x480 with 1 Axes>"
      ]
     },
     "metadata": {},
     "output_type": "display_data"
    }
   ],
   "source": [
    "import numpy as np\n",
    "import matplotlib.pyplot as plt \n",
    "from sympy import *\n",
    "#from ipywidgets import interact               # librería de cálculo simbólico \n",
    "\n",
    "\n",
    "y = var('y')                      # declaró la variable que va a utilizar en el problema\n",
    "y = -5\n",
    "\n",
    "punto1 = (0.5, 1)\n",
    "punto2 = (-3/2, y)\n",
    "\n",
    "x_coords, y_coords = zip(punto1, punto2)\n",
    "\n",
    "plt.scatter(x_coords, y_coords)\n",
    "plt.grid() \n",
    "\n"
   ]
  },
  {
   "attachments": {},
   "cell_type": "markdown",
   "id": "53be6f16",
   "metadata": {},
   "source": [
    "La segunda componente representada por y significa que el punto no está fijo, y se mueve verticalmente."
   ]
  },
  {
   "attachments": {},
   "cell_type": "markdown",
   "id": "61a0c940",
   "metadata": {},
   "source": [
    "$$ distancia(punto1, punto2) = \\sqrt{(punto1_x-punto2_x)^{2}2+(punto1_y-punto2_y)^{2}} $$"
   ]
  },
  {
   "attachments": {},
   "cell_type": "markdown",
   "id": "50a0929a",
   "metadata": {},
   "source": [
    "$$ distancia(punto1, punto2) = \\sqrt{ \\left( \\frac{1}{2}- \\left( -\\frac{3}{2} \\right) \\right)^{2} + \\left( 1-y\\right)^{2} } $$"
   ]
  },
  {
   "attachments": {},
   "cell_type": "markdown",
   "id": "0fd81f30",
   "metadata": {},
   "source": [
    "$$ distancia(punto1, punto2) = \\sqrt{2^{2} +  (1-y)^{2} } $$"
   ]
  },
  {
   "attachments": {},
   "cell_type": "markdown",
   "id": "5a645d49",
   "metadata": {},
   "source": [
    "$$ distancia(punto1, punto2) = \\sqrt{4 + (1^{2} - 2(1)(y) + y^{2})} $$"
   ]
  },
  {
   "attachments": {},
   "cell_type": "markdown",
   "id": "64f0e564",
   "metadata": {},
   "source": [
    "$$ distancia(punto1, punto2) = \\sqrt{5 - 2y + y^{2}} $$\n",
    "\n",
    "Remplazando $y$ por -5 obtenemos que la distancia entre los puntos dados es: \n",
    "\n",
    "$$ distancia(punto1, punto2) = \\sqrt{5 - 2(-5) + (-5)^{2}} $$\n"
   ]
  },
  {
   "attachments": {},
   "cell_type": "markdown",
   "id": "14088711",
   "metadata": {},
   "source": [
    "$$ distancia(punto1, punto2) = \\sqrt{40} = \\sqrt{4(10)} = \\sqrt{4}\\sqrt{10} = 2\\sqrt{10} $$\n",
    "\n"
   ]
  },
  {
   "attachments": {},
   "cell_type": "markdown",
   "id": "28962e1d",
   "metadata": {},
   "source": [
    "[Video de apoyo para la solución del ejercicio 8.c.](https://www.youtube.com/watch?v=_uQEswAV66g)"
   ]
  },
  {
   "cell_type": "code",
   "execution_count": 3,
   "id": "2daac1aa",
   "metadata": {},
   "outputs": [
    {
     "data": {
      "text/plain": [
       "-0.5"
      ]
     },
     "execution_count": 3,
     "metadata": {},
     "output_type": "execute_result"
    }
   ],
   "source": [
    "Ax = 1/2\n",
    "Bx = -3/2\n",
    "\n",
    "promedio = (Ax+Bx)/2\n",
    "promedio "
   ]
  },
  {
   "cell_type": "code",
   "execution_count": 5,
   "id": "648ee549",
   "metadata": {},
   "outputs": [
    {
     "data": {
      "text/latex": [
       "$\\displaystyle \\frac{y}{2} + \\frac{1}{2}$"
      ],
      "text/plain": [
       "y/2 + 1/2"
      ]
     },
     "execution_count": 5,
     "metadata": {},
     "output_type": "execute_result"
    }
   ],
   "source": [
    "import numpy as np\n",
    "import matplotlib.pyplot as plt \n",
    "from sympy import *\n",
    "#from ipywidgets import interact               # librería de cálculo simbólico \n",
    "\n",
    "\n",
    "y = var('y')                      # declaró la variable que va a utilizar en el problema\n",
    "\n",
    "Ay = 1\n",
    "By = y\n",
    "\n",
    "promedio = (Ay+By)/2\n",
    "promedio "
   ]
  },
  {
   "cell_type": "code",
   "execution_count": 6,
   "id": "57c3edeb",
   "metadata": {},
   "outputs": [
    {
     "data": {
      "text/latex": [
       "$\\displaystyle -2 = \\frac{y}{2} + \\frac{1}{2}$"
      ],
      "text/plain": [
       "Eq(-2, y/2 + 1/2)"
      ]
     },
     "execution_count": 6,
     "metadata": {},
     "output_type": "execute_result"
    }
   ],
   "source": [
    "ecuacion = Eq(-2, promedio)\n",
    "ecuacion"
   ]
  },
  {
   "cell_type": "code",
   "execution_count": 7,
   "id": "fd5fca4e",
   "metadata": {},
   "outputs": [
    {
     "data": {
      "text/plain": [
       "[-5]"
      ]
     },
     "execution_count": 7,
     "metadata": {},
     "output_type": "execute_result"
    }
   ],
   "source": [
    "solve(ecuacion, y)"
   ]
  },
  {
   "attachments": {},
   "cell_type": "markdown",
   "id": "05ac891f",
   "metadata": {},
   "source": [
    "[Qué es el punto medio de un segmento y cómo se determina](https://voca.ro/1hhS1BOQjmnK)"
   ]
  },
  {
   "attachments": {},
   "cell_type": "markdown",
   "id": "b384ed90",
   "metadata": {},
   "source": [
    "$$ \\frac{1}{2} = 0.5 = 50\\% $$\n",
    "\n",
    "$$ \\frac{1}{3} = 0.333... = 33.333...\\% $$\n",
    "\n",
    "$$ \\frac{1}{4} = 0.25 = 25\\% $$"
   ]
  },
  {
   "attachments": {},
   "cell_type": "markdown",
   "id": "a368c9e6",
   "metadata": {},
   "source": [
    "[Video de solución del ejercicio 8](https://www.youtube.com/watch?v=8-ObroHe5UQ)"
   ]
  },
  {
   "attachments": {},
   "cell_type": "markdown",
   "id": "c1a7afb9",
   "metadata": {},
   "source": [
    "# Vocabulary\n",
    "\n",
    "* below: abajo. "
   ]
  },
  {
   "attachments": {},
   "cell_type": "markdown",
   "id": "174bde2a",
   "metadata": {},
   "source": [
    "# Punto 2\n",
    "\n",
    "Exprese en forma de desigualdad  \n",
    "d) la distancia máxima de r a 5 es 4.   \n",
    "\n",
    "Recordemos que la distancia entre dos números reales $a$ y $b$ es: $|a-b|$:\n",
    "\n",
    "$$ dist(a,b) = |a - b| $$\n",
    "\n",
    "$|r-5| \\leq  4$\n"
   ]
  },
  {
   "attachments": {},
   "cell_type": "markdown",
   "id": "512230b1",
   "metadata": {},
   "source": [
    "## [El video asociado a este video lo obtiene aquí](https://www.youtube.com/watch?v=Bh_EYbvqGgM)"
   ]
  },
  {
   "attachments": {},
   "cell_type": "markdown",
   "id": "6a12d0a2",
   "metadata": {},
   "source": [
    "e) m es a lo más 10"
   ]
  },
  {
   "cell_type": "code",
   "execution_count": 1,
   "id": "6260913f",
   "metadata": {},
   "outputs": [
    {
     "data": {
      "text/plain": [
       "True"
      ]
     },
     "execution_count": 1,
     "metadata": {},
     "output_type": "execute_result"
    }
   ],
   "source": [
    "7==7.0"
   ]
  },
  {
   "attachments": {},
   "cell_type": "markdown",
   "id": "6944e969",
   "metadata": {},
   "source": [
    "# ¿Cómo se calcula la distancia entre dos números reales con Python?"
   ]
  },
  {
   "cell_type": "code",
   "execution_count": 3,
   "id": "c917e57c",
   "metadata": {},
   "outputs": [],
   "source": [
    "a = 14\n",
    "b = -20 # hemos creado dos variables de nombres a y b. \n"
   ]
  },
  {
   "cell_type": "code",
   "execution_count": 7,
   "id": "cafe8023",
   "metadata": {},
   "outputs": [
    {
     "data": {
      "text/plain": [
       "34"
      ]
     },
     "execution_count": 7,
     "metadata": {},
     "output_type": "execute_result"
    }
   ],
   "source": [
    "distancia = abs(b - a)\n",
    "\n",
    "distancia "
   ]
  },
  {
   "attachments": {},
   "cell_type": "markdown",
   "id": "600eb673",
   "metadata": {},
   "source": [
    "## [Video de apoyo al calculo de distancia con R y Python](https://www.youtube.com/watch?v=UtAMzBy8HLY)"
   ]
  },
  {
   "attachments": {},
   "cell_type": "markdown",
   "id": "79ccbc32",
   "metadata": {},
   "source": [
    "# 7. Determine $y$ de modo tal que la distancia entre los dos puntos sea 8.  \n",
    "a. $(0; 0)$, $(3; y)$  \n",
    "\n",
    "b. $(5; 1)$, $(5; y)$"
   ]
  },
  {
   "attachments": {},
   "cell_type": "markdown",
   "id": "5b8736f9",
   "metadata": {},
   "source": [
    "Los PDF no permiten editar las f++ormulas matemáticas de los artículos escritos en este Visualizador. "
   ]
  },
  {
   "attachments": {},
   "cell_type": "markdown",
   "id": "fe76d989",
   "metadata": {},
   "source": [
    "## Solución: "
   ]
  },
  {
   "attachments": {},
   "cell_type": "markdown",
   "id": "6ecb669c",
   "metadata": {},
   "source": [
    "La fórmula para calcular distancia en el plano es:  \n",
    "\n",
    "$$ dist(A,B) = \\sqrt{(A_{x}-B_{x})^{2}+(A_{y}-B_{y})^{2}} $$"
   ]
  },
  {
   "cell_type": "code",
   "execution_count": 2,
   "id": "b93927d0",
   "metadata": {},
   "outputs": [],
   "source": [
    "def calcular_distancia_entre_dos_puntos_en_el_plano(A, B): \n",
    "    return ((A[0]-B[0])**2+(A[1]-B[1])**2)**(1/2)"
   ]
  },
  {
   "cell_type": "code",
   "execution_count": 3,
   "id": "57aea86f",
   "metadata": {},
   "outputs": [
    {
     "data": {
      "text/plain": [
       "[-7.00000000000000, 9.00000000000000]"
      ]
     },
     "execution_count": 3,
     "metadata": {},
     "output_type": "execute_result"
    }
   ],
   "source": [
    "from sympy import * \n",
    "y = var('y')\n",
    "ecuacion = Eq(8,calcular_distancia_entre_dos_puntos_en_el_plano((5,1), (5,y)))\n",
    "solve(ecuacion, y)"
   ]
  },
  {
   "cell_type": "code",
   "execution_count": 7,
   "id": "f584b48e",
   "metadata": {},
   "outputs": [
    {
     "data": {
      "image/png": "[encoded data removed]",
      "text/plain": [
       "<Figure size 640x480 with 1 Axes>"
      ]
     },
     "metadata": {},
     "output_type": "display_data"
    }
   ],
   "source": [
    "import matplotlib.pyplot as plt \n",
    "\n",
    "y = 9\n",
    "A = (5,1)\n",
    "B = (5,y)\n",
    "x_coords, y_coords = zip(A,B)\n",
    "\n",
    "plt.scatter(x_coords, y_coords)\n",
    "\n",
    "plt.grid()\n"
   ]
  },
  {
   "attachments": {},
   "cell_type": "markdown",
   "id": "50a08cd2",
   "metadata": {},
   "source": [
    "[Video de apoyo a la solución de este ejercicio](https://www.youtube.com/watch?v=0qVSqoIBDA8)"
   ]
  },
  {
   "cell_type": "code",
   "execution_count": null,
   "id": "7445b88e",
   "metadata": {},
   "outputs": [],
   "source": [
    "#Visualización interactiva con plotly\n",
    "import numpy as np \n",
    "import pandas as pd \n",
    "import plotly.express as px\n",
    "\n",
    "X = np.array([1,2])\n",
    "Y = np.array([1,3])  \n",
    "\n",
    "tabla = pd.DataFrame({'abscisas':X, 'ordenadas':Y})\n",
    "\n",
    "\n",
    "#fig = px.line(tabla,x = tabla.keys()[0], y = tabla.keys()[1], title=r'Relación entre $x$ y $y$')\n",
    "\n",
    "fig = px.scatter(tabla,x = tabla.keys()[0], y = tabla.keys()[1], title=r'Relación entre $x$ y $y$')\n",
    "\n",
    "fig.show()\n",
    "\n",
    "fig.write_html('relacion_entre_x_e_y.html', auto_open=True)"
   ]
  },
  {
   "cell_type": "code",
   "execution_count": null,
   "id": "224c3ae5",
   "metadata": {},
   "outputs": [],
   "source": []
  },
  {
   "attachments": {},
   "cell_type": "markdown",
   "id": "63d19f42",
   "metadata": {
    "slideshow": {
     "slide_type": "slide"
    }
   },
   "source": [
    "# Programa en Python para ingresar registro de las calificaciones en archivo excel"
   ]
  },
  {
   "attachments": {},
   "cell_type": "markdown",
   "id": "e6ff3c98",
   "metadata": {
    "slideshow": {
     "slide_type": "slide"
    }
   },
   "source": [
    "# Desarrollo creciente del programa para gestión de notas\n",
    "\n"
   ]
  },
  {
   "cell_type": "code",
   "execution_count": null,
   "id": "df0cd30a",
   "metadata": {
    "slideshow": {
     "slide_type": "slide"
    }
   },
   "outputs": [],
   "source": [
    "import pandas as pd\n",
    "\n",
    "# Crear DataFrame de ejemplo\n",
    "data = {'Nombre': ['Juan', 'María', 'Pedro', 'Ana']}\n",
    "df = pd.DataFrame(data)\n",
    "\n",
    "# Iterar sobre cada fila del DataFrame\n",
    "for index, row in df.iterrows():\n",
    "    nombre = row['Nombre']\n",
    "    print(nombre)"
   ]
  },
  {
   "cell_type": "code",
   "execution_count": null,
   "id": "b9c187ed",
   "metadata": {},
   "outputs": [],
   "source": [
    "# Desarrollo creciente del programa para gestión de notas\n",
    "import pandas as pd\n",
    "\n",
    "# Ruta del archivo .xlsx\n",
    "archivo_excel = 'ruta/del/archivo.xlsx'\n",
    "\n",
    "# Leer el archivo .xlsx y crear un DataFrame\n",
    "dataframe = pd.read_excel(archivo_excel)\n",
    "\n",
    "# Imprimir el DataFrame\n",
    "print(dataframe)\n"
   ]
  },
  {
   "cell_type": "code",
   "execution_count": null,
   "id": "6f027710",
   "metadata": {
    "slideshow": {
     "slide_type": "slide"
    }
   },
   "outputs": [],
   "source": [
    "import pandas as pd \n",
    "\n",
    "\n",
    "class Estudiante:\n",
    "    def __init__(self, nombre, notas):\n",
    "        self.nombre = nombre\n",
    "        self.notas = notas\n",
    "\n",
    "    def promedio(self):\n",
    "        return sum(self.notas) / len(self.notas)\n",
    "\n",
    "class GestorEstudiantes:\n",
    "    def __init__(self):\n",
    "        self.estudiantes = []\n",
    "\n",
    "    def agregar_estudiante(self, estudiante):\n",
    "        self.estudiantes.append(estudiante)\n",
    "\n",
    "    def obtener_promedio_general(self):\n",
    "        promedios = [estudiante.promedio() for estudiante in self.estudiantes]\n",
    "        return sum(promedios) / len(promedios)\n",
    "\n",
    "    def obtener_promedio_estudiante(self, nombre):\n",
    "        for estudiante in self.estudiantes:\n",
    "            if estudiante.nombre == nombre:\n",
    "                return estudiante.promedio()\n",
    "        return None\n",
    "\n",
    "# Crear el gestor de estudiantes\n",
    "gestor = GestorEstudiantes()\n",
    "\n",
    "# Agregar estudiantes\n",
    "estudiante1 = Estudiante(\"Juan\", [4, 4.2, 3.9])\n",
    "estudiante2 = Estudiante(\"María\", [4, 4.2, 3.9])\n",
    "estudiante3 = Estudiante(\"Pedro\", [4, 4.2, 3.9])\n",
    "gestor.agregar_estudiante(estudiante1)\n",
    "gestor.agregar_estudiante(estudiante2)\n",
    "gestor.agregar_estudiante(estudiante3)\n",
    "\n",
    "# Obtener promedio general\n",
    "promedio_general = gestor.obtener_promedio_general()\n",
    "print(\"Promedio general de todos los estudiantes:\", promedio_general)\n",
    "\n",
    "# Obtener promedio de un estudiante específico\n",
    "nombre_estudiante = \"Juan\"\n",
    "promedio_estudiante = gestor.obtener_promedio_estudiante(nombre_estudiante)\n",
    "if promedio_estudiante is not None:\n",
    "    print(\"Promedio de\", nombre_estudiante + \":\", promedio_estudiante)\n",
    "else:\n",
    "    print(\"No se encontró al estudiante\", nombre_estudiante)\n"
   ]
  },
  {
   "attachments": {},
   "cell_type": "markdown",
   "id": "bf8d11a1",
   "metadata": {
    "slideshow": {
     "slide_type": "slide"
    }
   },
   "source": [
    "## Mapa conceptual de la clase elaborado en CMapTools"
   ]
  },
  {
   "attachments": {},
   "cell_type": "markdown",
   "id": "aac04d00",
   "metadata": {
    "slideshow": {
     "slide_type": "slide"
    }
   },
   "source": [
    "<img src = ''>"
   ]
  },
  {
   "attachments": {},
   "cell_type": "markdown",
   "id": "8a6f7ef9",
   "metadata": {
    "slideshow": {
     "slide_type": "slide"
    }
   },
   "source": [
    "## Tareas para realizar antes de la clase"
   ]
  },
  {
   "attachments": {},
   "cell_type": "markdown",
   "id": "90cae469",
   "metadata": {
    "slideshow": {
     "slide_type": "slide"
    }
   },
   "source": [
    "1. Ver los videos respectivos []()\n",
    "2. Memorizar las definiciones []()\n",
    "3. Sintetizar o resumir la información en mapas conceptuales. []()"
   ]
  },
  {
   "attachments": {},
   "cell_type": "markdown",
   "id": "fccb447c",
   "metadata": {
    "slideshow": {
     "slide_type": "slide"
    }
   },
   "source": [
    "# Tareas para realizar en clase"
   ]
  },
  {
   "attachments": {},
   "cell_type": "markdown",
   "id": "e5c48edf",
   "metadata": {
    "slideshow": {
     "slide_type": "slide"
    }
   },
   "source": [
    "* Modelación matemática \n",
    "* Trabajo en equipos"
   ]
  },
  {
   "attachments": {},
   "cell_type": "markdown",
   "id": "8b6b0112",
   "metadata": {
    "slideshow": {
     "slide_type": "slide"
    }
   },
   "source": [
    "# Tareas para realizar después de la realización de la clase"
   ]
  },
  {
   "attachments": {},
   "cell_type": "markdown",
   "id": "947460e3",
   "metadata": {
    "slideshow": {
     "slide_type": "slide"
    }
   },
   "source": [
    "* Actividades de memorización: \n",
    "  - escucha reiterada de grabaciones de formulas y resultados científicos. \n",
    "  - relectura de notas. \n",
    "  - ejercicios de mayor complejidad. \n",
    "  "
   ]
  },
  {
   "attachments": {},
   "cell_type": "markdown",
   "id": "935a5567",
   "metadata": {
    "slideshow": {
     "slide_type": "slide"
    }
   },
   "source": [
    "## Dificultades de aprendizaje detectados durante la clase"
   ]
  },
  {
   "cell_type": "code",
   "execution_count": null,
   "id": "7d9c6c7f",
   "metadata": {
    "slideshow": {
     "slide_type": "slide"
    }
   },
   "outputs": [],
   "source": []
  },
  {
   "attachments": {},
   "cell_type": "markdown",
   "id": "fb9402bb",
   "metadata": {
    "slideshow": {
     "slide_type": "slide"
    }
   },
   "source": [
    "## Estrategias propuestas para la solución de las dificultades de aprendizaje detectadas"
   ]
  },
  {
   "cell_type": "code",
   "execution_count": null,
   "id": "2dd3bd5c",
   "metadata": {
    "slideshow": {
     "slide_type": "slide"
    }
   },
   "outputs": [],
   "source": []
  },
  {
   "attachments": {},
   "cell_type": "markdown",
   "id": "d11570a2",
   "metadata": {
    "slideshow": {
     "slide_type": "slide"
    }
   },
   "source": [
    "## Cuestionario para realizar labores de memorización y observación,  a la síntesis de la información"
   ]
  },
  {
   "attachments": {},
   "cell_type": "markdown",
   "id": "540f0ec1",
   "metadata": {
    "slideshow": {
     "slide_type": "slide"
    }
   },
   "source": []
  },
  {
   "attachments": {},
   "cell_type": "markdown",
   "id": "236b43fc",
   "metadata": {
    "slideshow": {
     "slide_type": "slide"
    }
   },
   "source": [
    "## Grabaciones en audio para fomentar la capacidad de memorizar enunciados de teoremas y resultados científicos y la capacidad de parafrasear estos resultados. "
   ]
  },
  {
   "attachments": {},
   "cell_type": "markdown",
   "id": "319f2ffa",
   "metadata": {
    "slideshow": {
     "slide_type": "slide"
    }
   },
   "source": [
    "Se dispondrá de un lugar en el drive asociuado al correo institucional de la Universidad Nacional del Profesor Marso para albergar los archivosd de audio de fomento a la memoirización, enunciación y parafraseo de los resultados científicos, prtopiedades, reglas, etc. \n",
    "\n",
    "* [Vocaroo](https://vocaroo.com/)"
   ]
  },
  {
   "attachments": {},
   "cell_type": "markdown",
   "id": "564fa59d",
   "metadata": {
    "slideshow": {
     "slide_type": "slide"
    }
   },
   "source": [
    "### Comparta sus cuadernos y videos, evidencias de su aprendizaje [aquí](https://forms.office.com/Pages/ResponsePage.aspx?id=IefhmYRxjkmK_7KtTlPBwkanXIs1i1FEujpsZgO6dXpUMEMwTEZVMzEwVVBPTElWNVg5OVEyWUhMUy4u)"
   ]
  },
  {
   "cell_type": "code",
   "execution_count": null,
   "id": "5fe498b3",
   "metadata": {
    "slideshow": {
     "slide_type": "slide"
    }
   },
   "outputs": [],
   "source": []
  },
  {
   "attachments": {},
   "cell_type": "markdown",
   "id": "44be6d93",
   "metadata": {
    "slideshow": {
     "slide_type": "slide"
    }
   },
   "source": [
    "# Vocabulary "
   ]
  },
  {
   "cell_type": "code",
   "execution_count": null,
   "id": "99b8dfed",
   "metadata": {
    "slideshow": {
     "slide_type": "slide"
    }
   },
   "outputs": [],
   "source": []
  },
  {
   "attachments": {},
   "cell_type": "markdown",
   "id": "ee46cb9a",
   "metadata": {
    "slideshow": {
     "slide_type": "slide"
    }
   },
   "source": [
    "## Mapa conceptual que vincula los conceptos asoaciados al objetivo de aprendizaje"
   ]
  },
  {
   "cell_type": "code",
   "execution_count": null,
   "id": "bf552488",
   "metadata": {
    "slideshow": {
     "slide_type": "slide"
    }
   },
   "outputs": [],
   "source": []
  },
  {
   "attachments": {},
   "cell_type": "markdown",
   "id": "0266e3c5",
   "metadata": {
    "slideshow": {
     "slide_type": "slide"
    }
   },
   "source": [
    "## Quiz de 5 minutos para ejercitación y adquisición de habilidades "
   ]
  },
  {
   "attachments": {},
   "cell_type": "markdown",
   "id": "3a1b127f",
   "metadata": {
    "slideshow": {
     "slide_type": "slide"
    }
   },
   "source": []
  },
  {
   "attachments": {},
   "cell_type": "markdown",
   "id": "10bce0d0",
   "metadata": {
    "slideshow": {
     "slide_type": "slide"
    }
   },
   "source": [
    "## Referentes \n",
    "\n",
    "* Grajales Vanegas, L. M., Restrepo Estrada, C. E., Restrepo Ochoa, S. I., & Ruíz De Villalba, F. (2015). Matemáticas I para las ciencias económicas. Recuperado a través de Google Scholar (https://bibliotecadigital.udea.edu.co/bitstream/10495/3010/5/GrajalesLina_2015_MatemticasCienciasEconmicas.pdf)\n",
    "\n",
    "[hija de vida de Lina Grajales](https://www.udea.edu.co/wps/wcm/connect/udea/580802a4-85e7-4de1-b6f1-783336f49589/Perfil+-+Lina+Maria+Grajales.pdf?MOD=AJPERES&CVID=nntzxTq)"
   ]
  },
  {
   "attachments": {},
   "cell_type": "markdown",
   "id": "1db3c468",
   "metadata": {
    "slideshow": {
     "slide_type": "slide"
    }
   },
   "source": [
    "* [stewart precálculo](https://udeaeduco-my.sharepoint.com/:b:/g/personal/marco_canas_udea_edu_co/ERHIq62I6qFNrmxy6LZb8ZMBci7kUsyNME1nIh9yCBMJ_w?e=0zMSla)  \n",
    "\n",
    "* [stewart cálculo](https://udeaeduco-my.sharepoint.com/:b:/g/personal/marco_canas_udea_edu_co/EZgXZjAp8QxPqOAim2hs6LcBNPLGjSHf-xwYnUVYkwa04w?e=RZdTCy)  \n",
    "\n",
    "* [larson](https://udeaeduco-my.sharepoint.com/:b:/g/personal/marco_canas_udea_edu_co/ES71ChFeO9ZDhW3TwC5Ijk8BjxUK3Pdqz_fjHxTTFAfIAg?e=VDEjfu)\n",
    "\n",
    "* [uzcategui](https://udeaeduco-my.sharepoint.com/:b:/g/personal/marco_canas_udea_edu_co/ETDikm-lVl1Or8XoEo9oyh0BEti9Zs8le-f0D-dBdtZmbA?e=bBsoyQ)\n",
    "\n",
    "* [Recomendación de la UNESCO sobre ciencia abierta](https://unesdoc.unesco.org/ark:/48223/pf0000379949_spa)  \n",
    "\n",
    "* [chatGPT](https://openai.com/blog/chatgpt)  \n",
    "\n",
    "* Géron, A. (2017). Hands-on machine learning with scikit-learn and tensorflow: Concepts. Tools, and Techniques to build intelligent systems.[Geron, Aurelien. Hands on Machine Learning](https://udeaeduco-my.sharepoint.com/:b:/g/personal/marco_canas_udea_edu_co/Ecet27yjQzZIlT1Y_Bc2erkBUhbeYuIe6HG8i1FYZRlZww?e=dlvZ4v)  \n",
    "\n",
    "* McKinney, W. (2012). Python for data analysis: Data wrangling with Pandas, NumPy, and IPython. \" O'Reilly Media, Inc.\".[Wes Mackinney. ](https://udeaeduco-my.sharepoint.com/:b:/g/personal/marco_canas_udea_edu_co/EVbi5JIeBl9ErbiUnZfGe8YBhNTnZ8sxTK5hjIOPK4UpGw?e=fFclah)"
   ]
  },
  {
   "attachments": {},
   "cell_type": "markdown",
   "id": "6b9e56a8",
   "metadata": {
    "slideshow": {
     "slide_type": "slide"
    }
   },
   "source": [
    "### [Evaluamos al profesor Marco Cañas Aquí](https://forms.office.com/Pages/ResponsePage.aspx?id=IefhmYRxjkmK_7KtTlPBwkanXIs1i1FEujpsZgO6dXpUREJPV1kxUk1JV1ozTFJIQVNIQjY5WEY3US4u)"
   ]
  },
  {
   "attachments": {},
   "cell_type": "markdown",
   "id": "071afa04",
   "metadata": {
    "slideshow": {
     "slide_type": "slide"
    }
   },
   "source": [
    "## [Evaluación luego de alcanzar estos objetivos de aprendizaje]()"
   ]
  },
  {
   "attachments": {},
   "cell_type": "markdown",
   "id": "10f43536",
   "metadata": {
    "slideshow": {
     "slide_type": "slide"
    }
   },
   "source": [
    "### Continue su aprendizaje en la siguiente clase a través del siguiente [vínculo]()"
   ]
  },
  {
   "attachments": {},
   "cell_type": "markdown",
   "id": "af751e30",
   "metadata": {
    "slideshow": {
     "slide_type": "slide"
    }
   },
   "source": [
    "# Conjeturas pedagógicas fruto de la aplicación del modelo de aprendizaje invertido y del enfoque hacia la ciencia de datos con python\n",
    "\n",
    "1. Todo cálculo o resultado debe ser interpretado en una línea markdown del cuaderno Jupyter, inmediatamente después de la enunciación del resultado y después de la presentación de una tabla o gráfico bidimensional, de tal menera que el estudiante explicite la comprensión verbal del resultado y las inferencias o estrategias que este resultado le sugieren.   "
   ]
  },
  {
   "attachments": {},
   "cell_type": "markdown",
   "id": "53cc9115",
   "metadata": {
    "slideshow": {
     "slide_type": "slide"
    }
   },
   "source": [
    "## Agradecimientos  \n",
    "\n",
    "Doy gracias a Dios por la vida de mi Hijo Joseph Cañas Osorio y la madurez que ha alcanzado.\n",
    "\n",
    "Y a mi esposa Yasmira por su apoyo, orientación y acompañamiento. "
   ]
  },
  {
   "attachments": {},
   "cell_type": "markdown",
   "id": "28d61906",
   "metadata": {
    "slideshow": {
     "slide_type": "slide"
    }
   },
   "source": [
    "# [How to integrate openai in Jupyter notebook](https://www.google.com/search?client=firefox-b-d&q=chatgpt+extension+for+jupyter+of+anaconda+prompt#fpstate=ive&vld=cid:4f216dcc,vid:2izXQUoXyjA)"
   ]
  },
  {
   "cell_type": "code",
   "execution_count": null,
   "id": "51380709",
   "metadata": {
    "slideshow": {
     "slide_type": "slide"
    }
   },
   "outputs": [],
   "source": [
    "import openai"
   ]
  },
  {
   "cell_type": "code",
   "execution_count": null,
   "id": "58d714df",
   "metadata": {
    "slideshow": {
     "slide_type": "slide"
    }
   },
   "outputs": [],
   "source": [
    "openai.api_key = 'JosephCanasOsorio1213Yasmira_Barboza'"
   ]
  },
  {
   "cell_type": "code",
   "execution_count": null,
   "id": "1ce86413",
   "metadata": {},
   "outputs": [],
   "source": [
    "def get_gpt_response(prompt):\n",
    "    "
   ]
  },
  {
   "attachments": {},
   "cell_type": "markdown",
   "id": "0f1f3d76",
   "metadata": {
    "slideshow": {
     "slide_type": "slide"
    }
   },
   "source": [
    "# [ChatGPT para Jupyter: la extensión de ChatGPT para Jupyter Notebooks La extensión que todo científico de datos necesita.](https://artificialcorner.com/chatgpt-for-jupyter-the-chatgpt-extension-for-jupyter-notebooks-4eb9ab481bd9)"
   ]
  },
  {
   "attachments": {},
   "cell_type": "markdown",
   "id": "a3f4a119",
   "metadata": {
    "slideshow": {
     "slide_type": "slide"
    }
   },
   "source": [
    "<img src = 'https://miro.medium.com/v2/resize:fit:1100/format:webp/1*n6CsGfhhefORfPXEU3GWGw.png'>"
   ]
  },
  {
   "attachments": {},
   "cell_type": "markdown",
   "id": "73744ee3",
   "metadata": {
    "slideshow": {
     "slide_type": "slide"
    }
   },
   "source": [
    "¡Has oído bien! Puede obtener las funcionalidades de ChatGPT, como formatear, explicar, depurar, completar y revisar el código directamente desde Jupyter Notebook.\n",
    "\n",
    "¡Vamos a sumergirnos en ello!"
   ]
  },
  {
   "attachments": {},
   "cell_type": "markdown",
   "id": "fda6eb06",
   "metadata": {
    "slideshow": {
     "slide_type": "slide"
    }
   },
   "source": [
    "## Cómo instalar la extensión ChatGPT para Jupyter Notebooks"
   ]
  },
  {
   "attachments": {},
   "cell_type": "markdown",
   "id": "5d5d7867",
   "metadata": {
    "slideshow": {
     "slide_type": "slide"
    }
   },
   "source": [
    "En primer lugar, esta es una extensión de navegador impulsada por GPT-4, lo que significa que tenemos que descargar la extensión de la tienda web."
   ]
  },
  {
   "attachments": {},
   "cell_type": "markdown",
   "id": "f6ab96de",
   "metadata": {},
   "source": [
    "Si eres usuario de Chrome, ve a este sitio web e instala la extensión, mientras que si eres un Firefox puedes instalarla localmente siguiendo los pasos aquí.\n",
    "\n",
    "Después de instalar la extensión, abra la ventana de configuración. Debe seleccionar OpenAI API, elegir un modelo que desee usar e insertar su clave OpenAI API, que puede encontrar aquí."
   ]
  }
 ],
 "metadata": {
  "celltoolbar": "Slideshow",
  "kernelspec": {
   "display_name": "Python 3 (ipykernel)",
   "language": "python",
   "name": "python3"
  },
  "language_info": {
   "codemirror_mode": {
    "name": "ipython",
    "version": 3
   },
   "file_extension": ".py",
   "mimetype": "text/x-python",
   "name": "python",
   "nbconvert_exporter": "python",
   "pygments_lexer": "ipython3",
   "version": "3.10.11"
  },
  "rise": {
   "enable_chalkboard": true,
   "theme": "sky",
   "transition": "zoom"
  }
 },
 "nbformat": 4,
 "nbformat_minor": 5
}
