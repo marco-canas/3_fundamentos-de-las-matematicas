{
 "cells": [
  {
   "attachments": {},
   "cell_type": "markdown",
   "metadata": {},
   "source": [
    "# Repaso sobre proporcionalidad directa e inversa (Regla de tres directa, y regla de tres inversa) y la proporcionalidad conjunta"
   ]
  },
  {
   "attachments": {},
   "cell_type": "markdown",
   "metadata": {},
   "source": [
    "### Tarea\n",
    "\n",
    "Hacer todos los primeros 19 ejercicios sobre proporcionalidad del texto precálculo de Stewart.\n",
    "\n"
   ]
  },
  {
   "attachments": {},
   "cell_type": "markdown",
   "metadata": {},
   "source": [
    "## Referentes  \n",
    "\n",
    "* [Precálculo de stewart:](https://udeaeduco-my.sharepoint.com/:b:/g/personal/marco_canas_udea_edu_co/ERHIq62I6qFNrmxy6LZb8ZMBci7kUsyNME1nIh9yCBMJ_w?e=zLxSWb) Busque en el capítulo 1, sección 1.11, página del libro 118 y página del PDF 118 el tema de variaciones. (wow, las páginas del libro y pdf coinciden. Dios está con nosotros)."
   ]
  },
  {
   "cell_type": "code",
   "execution_count": null,
   "metadata": {
    "vscode": {
     "languageId": "plaintext"
    }
   },
   "outputs": [],
   "source": []
  }
 ],
 "metadata": {
  "language_info": {
   "name": "python"
  },
  "orig_nbformat": 4
 },
 "nbformat": 4,
 "nbformat_minor": 2
}
