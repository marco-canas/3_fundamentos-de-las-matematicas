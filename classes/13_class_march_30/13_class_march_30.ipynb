{
 "cells": [
  {
   "cell_type": "markdown",
   "id": "7e1bd9b3",
   "metadata": {
    "slideshow": {
     "slide_type": "slide"
    }
   },
   "source": [
    "<table align=\"left\">\n",
    "  <td>\n",
    "    <a href=\"https://colab.research.google.com/github/marco-canas/1_algebra/blob/main/classes/ciencia_datos/6_class_march_15_quiz_1/5_class_march_15.ipynb\" target=\"_parent\"><img src=\"https://colab.research.google.com/assets/colab-badge.svg\" alt=\"Open In Colab\"/></a>\n",
    "  </td>\n",
    "</table>"
   ]
  },
  {
   "cell_type": "markdown",
   "id": "0f6c74d8",
   "metadata": {
    "slideshow": {
     "slide_type": "slide"
    }
   },
   "source": [
    "## [Video de apoyo a la lectura interactiva y experimental de este cuaderno]()"
   ]
  },
  {
   "cell_type": "markdown",
   "id": "516c1f84",
   "metadata": {
    "slideshow": {
     "slide_type": "slide"
    }
   },
   "source": [
    "Mis estudiantes son la razón de mi actividad docente:\n",
    "\n",
    "<img src = 'https://github.com/marco-canas/3_fundamentos-de-las-matematicas/blob/main/classes/funciones/evaluacion_funciones/lic_math_maezo_28.jpeg?raw=true'>"
   ]
  },
  {
   "cell_type": "markdown",
   "id": "20b24d19",
   "metadata": {
    "slideshow": {
     "slide_type": "slide"
    }
   },
   "source": [
    "# Clase 13 Marzo 30  "
   ]
  },
  {
   "cell_type": "markdown",
   "id": "253babac",
   "metadata": {
    "slideshow": {
     "slide_type": "slide"
    }
   },
   "source": [
    "### Modelo pedagógico de la clase: [Aula invertida](https://www3.gobiernodecanarias.org/medusa/ecoescuela/pedagotic/aprendizaje-invertido-flipped-classroom/)"
   ]
  },
  {
   "cell_type": "markdown",
   "id": "6c905a6e",
   "metadata": {
    "slideshow": {
     "slide_type": "slide"
    }
   },
   "source": [
    "## ¿Qué es?  \n",
    "\n",
    "Flipped Learning o aprendizaje invertido es un enfoque pedagógico en el que la instrucción directa se realiza fuera del aula y se utiliza el tiempo de clase para llevar a cabo actividades que impliquen el desarrollo de procesos cognitivos de mayor complejidad, en las que son necesarias la ayuda y la experiencia del docente."
   ]
  },
  {
   "cell_type": "markdown",
   "id": "72013bf1",
   "metadata": {
    "slideshow": {
     "slide_type": "slide"
    }
   },
   "source": [
    "### Objetivo de aprendizaje  \n",
    "\n",
    "1. Adquirir una metodología para resolver problemas reales o aritméticos que se dejan modelar por ecuaciones de primer grado. "
   ]
  },
  {
   "cell_type": "code",
   "execution_count": null,
   "id": "76d0e26f",
   "metadata": {
    "slideshow": {
     "slide_type": "slide"
    }
   },
   "outputs": [],
   "source": []
  },
  {
   "cell_type": "markdown",
   "id": "0d56707e",
   "metadata": {
    "slideshow": {
     "slide_type": "slide"
    }
   },
   "source": [
    "## Mapa conceptual de la clase"
   ]
  },
  {
   "cell_type": "markdown",
   "id": "f00feaef",
   "metadata": {
    "slideshow": {
     "slide_type": "slide"
    }
   },
   "source": [
    "<img src = ''>"
   ]
  },
  {
   "cell_type": "markdown",
   "id": "97cfd900",
   "metadata": {
    "slideshow": {
     "slide_type": "slide"
    }
   },
   "source": [
    "# Tareas para realizar en clase"
   ]
  },
  {
   "cell_type": "markdown",
   "id": "d59ef37b",
   "metadata": {
    "slideshow": {
     "slide_type": "slide"
    }
   },
   "source": [
    "### Construcción de un modelo lineal aritmético o de un problema aritmético\n",
    "\n",
    "La suma de dos números es 540 y su diferencia es 32. Hallar los números.   \n",
    "\n",
    "Página 132 del Álgebra de Baldor. "
   ]
  },
  {
   "cell_type": "markdown",
   "id": "630509f3",
   "metadata": {
    "slideshow": {
     "slide_type": "slide"
    }
   },
   "source": [
    "## Metodología sugerida para la modelación\n",
    "\n",
    "1. Definición de variables\n",
    "2. Deducción del modelo lineal a través de la representación simbólica del enunciado verbal.\n",
    "3. Solución del modelo por propiedades de uniformidad de las igualdades y las ecuaciones equivalentes o transposición de términos y factores. \n",
    "4. Redacción de la respuesta a la pregunda. \n"
   ]
  },
  {
   "cell_type": "code",
   "execution_count": null,
   "id": "70775f5d",
   "metadata": {
    "slideshow": {
     "slide_type": "slide"
    }
   },
   "outputs": [],
   "source": []
  },
  {
   "cell_type": "code",
   "execution_count": null,
   "id": "730e06e9",
   "metadata": {
    "slideshow": {
     "slide_type": "slide"
    }
   },
   "outputs": [],
   "source": []
  },
  {
   "cell_type": "markdown",
   "id": "1d794427",
   "metadata": {
    "slideshow": {
     "slide_type": "slide"
    }
   },
   "source": [
    "# Tareas para realizar fuera de clase"
   ]
  },
  {
   "cell_type": "markdown",
   "id": "460cd553",
   "metadata": {
    "slideshow": {
     "slide_type": "slide"
    }
   },
   "source": [
    "[Baldor] Página 66 del PDF. Resolver por lo menos diez ejercicios de problemas de aplicación de ecuaciones lineales. "
   ]
  },
  {
   "cell_type": "markdown",
   "id": "39dcfd2a",
   "metadata": {
    "slideshow": {
     "slide_type": "slide"
    }
   },
   "source": [
    "# Horario de Monitoría  \n",
    "\n",
    "ALEXÁNDER ALVAREZ COLORADO <alexander.alvarez1@udea.edu.co>\n",
    "\t\n",
    "\n",
    "Buenas tardes, apreciados profesores. Discúlpenme a los que ya he remitido esta información. Yo soy Alexánder Álvarez, el monitor del curso de Fundamentos en Matemáticas y Fundamentos en Aritmética. Le pido encarecidamente que extiendan esta información a sus estudiantes y en esta medida les inviten a participar de los espacios:\n",
    "\n",
    "Horarios\n",
    "\n",
    "L 11:00 Am - 2:00 Pm (virtual en atención a las regiones)\n",
    "W 8:00 Am - 11:00 Am (Presencial)\n",
    "V 6:00 Pm - 8:00 Pm (Presencial)\n",
    "\n",
    "Lugar\n",
    "\n",
    "El lugar que he dispuesto para dar las monitorias mientras consigo un salón en la facultad es la biblioteca - primer piso, - sala Jorge Luis Borges.\n",
    "\n",
    "Les cuento, también, que durante Semana Santa voy a mantener estos horarios, pero todos de manera virtual. El link de accesoa los encuentros: https://meet.google.com/ode-nzig-wpd\n",
    "\n",
    "\n",
    "Finalmente, quisiera pedirles que me envíen los correos de sus estudiantes como respuesta a este correo.\n",
    "\n",
    "Muchas gracias por su atención, \n",
    "Alexánder Álvarez."
   ]
  },
  {
   "cell_type": "markdown",
   "id": "fb348774",
   "metadata": {
    "slideshow": {
     "slide_type": "slide"
    }
   },
   "source": [
    "## Dificultades de aprendizaje detectados durante la clase"
   ]
  },
  {
   "cell_type": "code",
   "execution_count": null,
   "id": "332224e9",
   "metadata": {
    "slideshow": {
     "slide_type": "slide"
    }
   },
   "outputs": [],
   "source": []
  },
  {
   "cell_type": "markdown",
   "id": "6a5b5200",
   "metadata": {
    "slideshow": {
     "slide_type": "slide"
    }
   },
   "source": [
    "## Estrategias propuestas para la solución de las dificultades de aprendizaje detectadas"
   ]
  },
  {
   "cell_type": "code",
   "execution_count": null,
   "id": "a1362c87",
   "metadata": {
    "slideshow": {
     "slide_type": "slide"
    }
   },
   "outputs": [],
   "source": []
  },
  {
   "cell_type": "markdown",
   "id": "be5e748c",
   "metadata": {
    "slideshow": {
     "slide_type": "slide"
    }
   },
   "source": [
    "## Cuestionario para memorizar"
   ]
  },
  {
   "cell_type": "markdown",
   "id": "bd73de84",
   "metadata": {
    "slideshow": {
     "slide_type": "slide"
    }
   },
   "source": [
    "1. Cuales son los cuatro pasos para resolver un problema de modelación con ecuaciojnes lineales:\n",
    "\n",
    "* Definición de variables\n",
    "* \n"
   ]
  },
  {
   "cell_type": "code",
   "execution_count": null,
   "id": "d2c87b72",
   "metadata": {},
   "outputs": [],
   "source": []
  },
  {
   "cell_type": "markdown",
   "id": "4c444ecf",
   "metadata": {},
   "source": [
    "# Vocabulary"
   ]
  },
  {
   "cell_type": "code",
   "execution_count": null,
   "id": "ed702a4f",
   "metadata": {},
   "outputs": [],
   "source": []
  },
  {
   "cell_type": "markdown",
   "id": "d278c79b",
   "metadata": {
    "slideshow": {
     "slide_type": "slide"
    }
   },
   "source": [
    "## Referentes\n",
    "\n",
    "* [Precálculo de Stewart](https://udeaeduco-my.sharepoint.com/:b:/g/personal/marco_canas_udea_edu_co/ERHIq62I6qFNrmxy6LZb8ZMBci7kUsyNME1nIh9yCBMJ_w?e=cOQjzv)\n",
    "* [Cálculo Stewart](https://udeaeduco-my.sharepoint.com/:b:/g/personal/marco_canas_udea_edu_co/EZgXZjAp8QxPqOAim2hs6LcBNPLGjSHf-xwYnUVYkwa04w?e=k1HOhB)"
   ]
  },
  {
   "cell_type": "markdown",
   "id": "896bf645",
   "metadata": {
    "slideshow": {
     "slide_type": "slide"
    }
   },
   "source": [
    "### [Evaluamos al profesor Marco Cañas Aquí](https://forms.office.com/Pages/ResponsePage.aspx?id=IefhmYRxjkmK_7KtTlPBwkanXIs1i1FEujpsZgO6dXpUREJPV1kxUk1JV1ozTFJIQVNIQjY5WEY3US4u)"
   ]
  },
  {
   "cell_type": "markdown",
   "id": "ef4f9f85",
   "metadata": {
    "slideshow": {
     "slide_type": "slide"
    }
   },
   "source": [
    "### Continue su aprendizaje en la siguiente clase a través del siguiente [vínculo]()"
   ]
  }
 ],
 "metadata": {
  "celltoolbar": "Slideshow",
  "kernelspec": {
   "display_name": "Python 3 (ipykernel)",
   "language": "python",
   "name": "python3"
  },
  "language_info": {
   "codemirror_mode": {
    "name": "ipython",
    "version": 3
   },
   "file_extension": ".py",
   "mimetype": "text/x-python",
   "name": "python",
   "nbconvert_exporter": "python",
   "pygments_lexer": "ipython3",
   "version": "3.9.13"
  },
  "rise": {
   "enable_chalkboard": true,
   "theme": "sky",
   "transition": "zoom"
  }
 },
 "nbformat": 4,
 "nbformat_minor": 5
}
