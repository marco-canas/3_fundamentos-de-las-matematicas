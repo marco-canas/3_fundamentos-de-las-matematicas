{
 "cells": [
  {
   "cell_type": "markdown",
   "id": "7e1bd9b3",
   "metadata": {
    "slideshow": {
     "slide_type": "slide"
    }
   },
   "source": [
    "<table align=\"left\">\n",
    "  <td>\n",
    "    <a href=\"https://colab.research.google.com/github/marco-canas/1_algebra/blob/main/classes/ciencia_datos/6_class_march_15_quiz_1/5_class_march_15.ipynb\" target=\"_parent\"><img src=\"https://colab.research.google.com/assets/colab-badge.svg\" alt=\"Open In Colab\"/></a>\n",
    "  </td>\n",
    "</table>"
   ]
  },
  {
   "cell_type": "markdown",
   "id": "0f6c74d8",
   "metadata": {
    "slideshow": {
     "slide_type": "slide"
    }
   },
   "source": [
    "## [Video de apoyo a la lectura interactiva y experimental de este cuaderno]()"
   ]
  },
  {
   "cell_type": "markdown",
   "id": "516c1f84",
   "metadata": {
    "slideshow": {
     "slide_type": "slide"
    }
   },
   "source": [
    "Mis estudiantes son la razón de mi actividad docente:\n",
    "\n",
    "<img src = 'https://github.com/marco-canas/3_fundamentos-de-las-matematicas/blob/main/classes/funciones/evaluacion_funciones/lic_math_maezo_28.jpeg?raw=true'>"
   ]
  },
  {
   "cell_type": "markdown",
   "id": "20b24d19",
   "metadata": {
    "slideshow": {
     "slide_type": "slide"
    }
   },
   "source": [
    "# Clase 13 Marzo 30  "
   ]
  },
  {
   "cell_type": "markdown",
   "id": "253babac",
   "metadata": {
    "slideshow": {
     "slide_type": "slide"
    }
   },
   "source": [
    "### Modelo pedagógico de la clase: [Aula invertida](https://www3.gobiernodecanarias.org/medusa/ecoescuela/pedagotic/aprendizaje-invertido-flipped-classroom/)"
   ]
  },
  {
   "cell_type": "markdown",
   "id": "8f963f34",
   "metadata": {
    "slideshow": {
     "slide_type": "slide"
    }
   },
   "source": [
    "## ¿Qué es?  \n",
    "\n",
    "Flipped Learning o aprendizaje invertido es un enfoque pedagógico en el que la instrucción directa se realiza fuera del aula y se utiliza el tiempo de clase para llevar a cabo actividades que impliquen el desarrollo de procesos cognitivos de mayor complejidad, en las que son necesarias la ayuda y la experiencia del docente."
   ]
  },
  {
   "cell_type": "markdown",
   "id": "72013bf1",
   "metadata": {
    "slideshow": {
     "slide_type": "slide"
    }
   },
   "source": [
    "### Objetivo de aprendizaje  \n",
    "\n",
    "1. Adquirir una metodología para resolver problemas reales o aritméticos que se dejan modelar por ecuaciones de primer grado. "
   ]
  },
  {
   "cell_type": "code",
   "execution_count": null,
   "id": "76d0e26f",
   "metadata": {
    "slideshow": {
     "slide_type": "slide"
    }
   },
   "outputs": [],
   "source": []
  },
  {
   "cell_type": "markdown",
   "id": "0d56707e",
   "metadata": {
    "slideshow": {
     "slide_type": "slide"
    }
   },
   "source": [
    "## Mapa conceptual de la clase"
   ]
  },
  {
   "cell_type": "markdown",
   "id": "f00feaef",
   "metadata": {
    "slideshow": {
     "slide_type": "slide"
    }
   },
   "source": [
    "<img src = 'https://github.com/marco-canas/3_fundamentos-de-las-matematicas/blob/main/classes/13_class_march_30/metodologia_modelacion.png.jpg?raw=true'>"
   ]
  },
  {
   "cell_type": "markdown",
   "id": "4f0d7b5d",
   "metadata": {
    "slideshow": {
     "slide_type": "slide"
    }
   },
   "source": [
    "# Tareas para realizar antes de la clase"
   ]
  },
  {
   "cell_type": "markdown",
   "id": "5756cc10",
   "metadata": {
    "slideshow": {
     "slide_type": "slide"
    }
   },
   "source": [
    "1. Consultar qué es un ecuación lineal\n",
    "\n",
    "$$ ax + c = 0 $$\n",
    "\n",
    "$a \\neq 0$\n"
   ]
  },
  {
   "cell_type": "markdown",
   "id": "49a35b18",
   "metadata": {
    "slideshow": {
     "slide_type": "slide"
    }
   },
   "source": [
    "2. Vea videos de solución de ecuaciones lineales\n",
    "\n",
    "3. Haga cuadros comparativos de ecuaciones lineales y de ecuaciones que no sean lineales. "
   ]
  },
  {
   "cell_type": "markdown",
   "id": "97cfd900",
   "metadata": {
    "slideshow": {
     "slide_type": "slide"
    }
   },
   "source": [
    "# Tareas para realizar en clase"
   ]
  },
  {
   "cell_type": "markdown",
   "id": "b96ebf82",
   "metadata": {
    "slideshow": {
     "slide_type": "slide"
    }
   },
   "source": [
    "### Construcción de un modelo lineal aritmético o de un problema aritmético\n",
    "\n",
    "La suma de dos números es 540 y su diferencia es 32. Hallar los números.   \n",
    "\n",
    "Página 132 del Álgebra de [Baldor](https://udeaeduco-my.sharepoint.com/:b:/g/personal/marco_canas_udea_edu_co/EQSLJDaZ2spBnXDPnY6VH54BjfLs6h3gbSCC4QWVQT066g?e=IEXON2). "
   ]
  },
  {
   "cell_type": "markdown",
   "id": "a4369f9d",
   "metadata": {
    "slideshow": {
     "slide_type": "slide"
    }
   },
   "source": [
    "## Metodología sugerida para la modelación\n",
    "\n",
    "1. Definición de variables\n",
    "2. Deducción del modelo lineal a través de la representación simbólica del enunciado verbal.\n",
    "3. Solución del modelo por propiedades de uniformidad de las igualdades y las ecuaciones equivalentes o transposición de términos y factores. \n",
    "4. Redacción de la respuesta a la pregunda. \n",
    "5. Realice una verificación de la respuesta obtenida. \n"
   ]
  },
  {
   "cell_type": "markdown",
   "id": "a7e99823",
   "metadata": {
    "slideshow": {
     "slide_type": "slide"
    }
   },
   "source": [
    "## 1. Definición de variables\n",
    "\n",
    "$x$: el mayor de los números\n",
    "\n",
    "$540-x$: es el menor de los números"
   ]
  },
  {
   "cell_type": "markdown",
   "id": "745ce609",
   "metadata": {
    "slideshow": {
     "slide_type": "slide"
    }
   },
   "source": [
    "## 2. Deducción del modelo \n",
    "\n",
    "$$ x - (540 - x) = 32 $$\n",
    "\n",
    "este es el modelo de este problema aritmético. "
   ]
  },
  {
   "cell_type": "markdown",
   "id": "6221fd0a",
   "metadata": {
    "slideshow": {
     "slide_type": "slide"
    }
   },
   "source": [
    "## 3. Resuelva el modelo  \n",
    "\n",
    "$$ x - 540 + x = 32 $$\n",
    "$$ 2x - 540 = 32 $$"
   ]
  },
  {
   "cell_type": "markdown",
   "id": "0e1d0acd",
   "metadata": {
    "slideshow": {
     "slide_type": "slide"
    }
   },
   "source": [
    "$$ 2x = 32 + 540 $$"
   ]
  },
  {
   "cell_type": "markdown",
   "id": "c6cca888",
   "metadata": {
    "slideshow": {
     "slide_type": "slide"
    }
   },
   "source": [
    "$$ 2x = 572 $$"
   ]
  },
  {
   "cell_type": "markdown",
   "id": "8712f98c",
   "metadata": {
    "slideshow": {
     "slide_type": "slide"
    }
   },
   "source": [
    "$$ x = \\frac{572}{2} $$"
   ]
  },
  {
   "cell_type": "markdown",
   "id": "076b2a28",
   "metadata": {
    "slideshow": {
     "slide_type": "slide"
    }
   },
   "source": [
    "$$ x = 286 $$"
   ]
  },
  {
   "cell_type": "code",
   "execution_count": 4,
   "id": "b50fc349",
   "metadata": {
    "slideshow": {
     "slide_type": "slide"
    }
   },
   "outputs": [
    {
     "data": {
      "text/plain": [
       "286.0"
      ]
     },
     "execution_count": 4,
     "metadata": {},
     "output_type": "execute_result"
    }
   ],
   "source": [
    "mayor = 572/2\n",
    "mayor "
   ]
  },
  {
   "cell_type": "code",
   "execution_count": 3,
   "id": "65e5636b",
   "metadata": {
    "slideshow": {
     "slide_type": "slide"
    }
   },
   "outputs": [
    {
     "data": {
      "text/plain": [
       "254.0"
      ]
     },
     "execution_count": 3,
     "metadata": {},
     "output_type": "execute_result"
    }
   ],
   "source": [
    "menor = mayor - 32\n",
    "menor "
   ]
  },
  {
   "cell_type": "markdown",
   "id": "d6d0058b",
   "metadata": {
    "slideshow": {
     "slide_type": "slide"
    }
   },
   "source": [
    "## 4. Redacta la respuesta \n",
    "\n",
    "Los dos números son: 286 y 254. "
   ]
  },
  {
   "cell_type": "markdown",
   "id": "c4f60813",
   "metadata": {},
   "source": [
    "## 5. Verificación\n",
    "\n"
   ]
  },
  {
   "cell_type": "code",
   "execution_count": 5,
   "id": "ec5ee600",
   "metadata": {
    "slideshow": {
     "slide_type": "slide"
    }
   },
   "outputs": [
    {
     "data": {
      "text/plain": [
       "540.0"
      ]
     },
     "execution_count": 5,
     "metadata": {},
     "output_type": "execute_result"
    }
   ],
   "source": [
    "mayor + menor "
   ]
  },
  {
   "cell_type": "markdown",
   "id": "8444f8a5",
   "metadata": {
    "slideshow": {
     "slide_type": "slide"
    }
   },
   "source": [
    "Entonces, la solución encontrada es correcta.  "
   ]
  },
  {
   "cell_type": "markdown",
   "id": "1d794427",
   "metadata": {
    "slideshow": {
     "slide_type": "slide"
    }
   },
   "source": [
    "# Tareas para realizar fuera de clase"
   ]
  },
  {
   "cell_type": "markdown",
   "id": "460cd553",
   "metadata": {
    "slideshow": {
     "slide_type": "slide"
    }
   },
   "source": [
    "[Baldor]() Página 133 del PDF. Resolver los problemas de aplicación de ecuaciones lineales de la página 133 . "
   ]
  },
  {
   "cell_type": "markdown",
   "id": "ddfc8ff5",
   "metadata": {
    "slideshow": {
     "slide_type": "slide"
    }
   },
   "source": [
    "# Horario de Monitoría  \n",
    "\n",
    "ALEXÁNDER ALVAREZ COLORADO <alexander.alvarez1@udea.edu.co>\n",
    "\t\n",
    "\n",
    "Buenas tardes, apreciados profesores. Discúlpenme a los que ya he remitido esta información. Yo soy Alexánder Álvarez, el monitor del curso de Fundamentos en Matemáticas y Fundamentos en Aritmética. Le pido encarecidamente que extiendan esta información a sus estudiantes y en esta medida les inviten a participar de los espacios:\n",
    "\n",
    "Horarios\n",
    "\n",
    "L 11:00 Am - 2:00 Pm (virtual en atención a las regiones)\n",
    "W 8:00 Am - 11:00 Am (Presencial)\n",
    "V 6:00 Pm - 8:00 Pm (Presencial)\n",
    "\n",
    "Lugar\n",
    "\n",
    "El lugar que he dispuesto para dar las monitorias mientras consigo un salón en la facultad es la biblioteca - primer piso, - sala Jorge Luis Borges.\n",
    "\n",
    "Les cuento, también, que durante Semana Santa voy a mantener estos horarios, pero todos de manera virtual. El link de accesoa los encuentros: https://meet.google.com/ode-nzig-wpd\n",
    "\n",
    "\n",
    "Finalmente, quisiera pedirles que me envíen los correos de sus estudiantes como respuesta a este correo.\n",
    "\n",
    "Muchas gracias por su atención, \n",
    "Alexánder Álvarez."
   ]
  },
  {
   "cell_type": "markdown",
   "id": "b23d5c7c",
   "metadata": {
    "slideshow": {
     "slide_type": "slide"
    }
   },
   "source": [
    "## Dificultades de aprendizaje detectados durante la clase"
   ]
  },
  {
   "cell_type": "markdown",
   "id": "51d4e014",
   "metadata": {
    "slideshow": {
     "slide_type": "slide"
    }
   },
   "source": [
    "* Cambiar de representación verbal a algebraica\n",
    "\n",
    "el cuadrado del inverso aditivo de un número:\n",
    "\n",
    "$$ (-x)^{2} $$"
   ]
  },
  {
   "cell_type": "markdown",
   "id": "f8df92fe",
   "metadata": {
    "slideshow": {
     "slide_type": "slide"
    }
   },
   "source": [
    "## Estrategias propuestas para la solución de las dificultades de aprendizaje detectadas"
   ]
  },
  {
   "cell_type": "markdown",
   "id": "61f08e53",
   "metadata": {
    "slideshow": {
     "slide_type": "slide"
    }
   },
   "source": [
    "Estudio cuidadoso de la prelación de las operaciones en una expresión algebraica:\n",
    "\n",
    "1. Realizar lo que esté entre signos de agrupación \n",
    "2. Potenciación\n",
    "3. Multiplicaciones y divisiones\n",
    "4. Sumas y restas. "
   ]
  },
  {
   "cell_type": "markdown",
   "id": "be5e748c",
   "metadata": {
    "slideshow": {
     "slide_type": "slide"
    }
   },
   "source": [
    "## Cuestionario para memorizar"
   ]
  },
  {
   "cell_type": "markdown",
   "id": "bd73de84",
   "metadata": {
    "slideshow": {
     "slide_type": "slide"
    }
   },
   "source": [
    "1. Cuales son los cuatro pasos para resolver un problema de modelación con ecuaciojnes lineales:\n",
    "\n",
    "* Definición de variables\n",
    "* Deducir el modelo \n",
    "* solucionar el modelo\n",
    "* redactar la respuesta\n",
    "* verificar. \n",
    "\n",
    "2. Qués es una ecuación lineal. \n",
    "\n",
    "\n",
    "3. Cuáles son los dos métodos para resolverla. \n",
    "\n"
   ]
  },
  {
   "cell_type": "code",
   "execution_count": null,
   "id": "d2c87b72",
   "metadata": {
    "slideshow": {
     "slide_type": "slide"
    }
   },
   "outputs": [],
   "source": []
  },
  {
   "cell_type": "markdown",
   "id": "4c444ecf",
   "metadata": {
    "slideshow": {
     "slide_type": "slide"
    }
   },
   "source": [
    "# Vocabulary"
   ]
  },
  {
   "cell_type": "markdown",
   "id": "e224a9a1",
   "metadata": {
    "slideshow": {
     "slide_type": "slide"
    }
   },
   "source": [
    "* equation: ecuación. \n",
    "* linear equation: ecuación lineal. "
   ]
  },
  {
   "cell_type": "markdown",
   "id": "d278c79b",
   "metadata": {
    "slideshow": {
     "slide_type": "slide"
    }
   },
   "source": [
    "## Referentes\n",
    "\n",
    "* [Precálculo de Stewart](https://udeaeduco-my.sharepoint.com/:b:/g/personal/marco_canas_udea_edu_co/ERHIq62I6qFNrmxy6LZb8ZMBci7kUsyNME1nIh9yCBMJ_w?e=cOQjzv)\n",
    "* [Cálculo Stewart](https://udeaeduco-my.sharepoint.com/:b:/g/personal/marco_canas_udea_edu_co/EZgXZjAp8QxPqOAim2hs6LcBNPLGjSHf-xwYnUVYkwa04w?e=k1HOhB)\n",
    "\n",
    "* [Baldor](https://udeaeduco-my.sharepoint.com/:b:/g/personal/marco_canas_udea_edu_co/EQSLJDaZ2spBnXDPnY6VH54BjfLs6h3gbSCC4QWVQT066g?e=IEXON2)"
   ]
  },
  {
   "cell_type": "markdown",
   "id": "896bf645",
   "metadata": {
    "slideshow": {
     "slide_type": "slide"
    }
   },
   "source": [
    "### [Evaluamos al profesor Marco Cañas Aquí](https://forms.office.com/Pages/ResponsePage.aspx?id=IefhmYRxjkmK_7KtTlPBwkanXIs1i1FEujpsZgO6dXpUREJPV1kxUk1JV1ozTFJIQVNIQjY5WEY3US4u)"
   ]
  },
  {
   "cell_type": "markdown",
   "id": "ef4f9f85",
   "metadata": {
    "slideshow": {
     "slide_type": "slide"
    }
   },
   "source": [
    "### Continue su aprendizaje en la siguiente clase a través del siguiente [vínculo]()"
   ]
  }
 ],
 "metadata": {
  "celltoolbar": "Slideshow",
  "kernelspec": {
   "display_name": "Python 3 (ipykernel)",
   "language": "python",
   "name": "python3"
  },
  "language_info": {
   "codemirror_mode": {
    "name": "ipython",
    "version": 3
   },
   "file_extension": ".py",
   "mimetype": "text/x-python",
   "name": "python",
   "nbconvert_exporter": "python",
   "pygments_lexer": "ipython3",
   "version": "3.9.13"
  },
  "rise": {
   "enable_chalkboard": true,
   "theme": "sky",
   "transition": "zoom"
  }
 },
 "nbformat": 4,
 "nbformat_minor": 5
}
