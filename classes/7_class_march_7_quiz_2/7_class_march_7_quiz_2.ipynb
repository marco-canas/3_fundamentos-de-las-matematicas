{
 "cells": [
  {
   "cell_type": "markdown",
   "id": "a3e40aa4",
   "metadata": {
    "slideshow": {
     "slide_type": "slide"
    }
   },
   "source": [
    "<table align=\"left\">\n",
    "  <td>\n",
    "    <a href=\"https://colab.research.google.com/github/marco-canas/3_fundamentos-de-las-matematicas/blob/main/clases/6_class_feb_28_funciones_polinomicas/6_class_feb_28_funciones_polinomicas.ipynb\" target=\"_parent\"><img src=\"https://colab.research.google.com/assets/colab-badge.svg\" alt=\"Open In Colab\"/></a>\n",
    "  </td>\n",
    "</table>"
   ]
  },
  {
   "cell_type": "markdown",
   "id": "73df37e6",
   "metadata": {
    "slideshow": {
     "slide_type": "slide"
    }
   },
   "source": [
    "## [Video de apoyo a la lectura de este cuaderno]()"
   ]
  },
  {
   "cell_type": "markdown",
   "id": "a11868c1",
   "metadata": {
    "slideshow": {
     "slide_type": "slide"
    }
   },
   "source": [
    "# Clase 8 de marzo 7 \n",
    "Quiz 2 \n",
    "\n",
    "Los temas a evaluar son las 5 primeras clases. "
   ]
  },
  {
   "cell_type": "markdown",
   "id": "69815ff9",
   "metadata": {
    "slideshow": {
     "slide_type": "slide"
    }
   },
   "source": [
    "### Modelo pedagógico de esta clase es [Aula invertida]()"
   ]
  },
  {
   "cell_type": "markdown",
   "id": "391a62ee",
   "metadata": {
    "slideshow": {
     "slide_type": "slide"
    }
   },
   "source": [
    "<img src = ''>"
   ]
  },
  {
   "cell_type": "markdown",
   "id": "f44eac54",
   "metadata": {
    "slideshow": {
     "slide_type": "slide"
    }
   },
   "source": [
    "## Objetivos de aprendizaje"
   ]
  },
  {
   "cell_type": "markdown",
   "id": "30d1cb14",
   "metadata": {
    "slideshow": {
     "slide_type": "slide"
    }
   },
   "source": [
    "* Resolver problemas de la vida cotidiana y profesional con modelos funcionales"
   ]
  },
  {
   "cell_type": "code",
   "execution_count": null,
   "id": "a524ae9b",
   "metadata": {
    "slideshow": {
     "slide_type": "slide"
    }
   },
   "outputs": [],
   "source": []
  },
  {
   "cell_type": "code",
   "execution_count": null,
   "id": "586d89dc",
   "metadata": {
    "slideshow": {
     "slide_type": "slide"
    }
   },
   "outputs": [],
   "source": []
  },
  {
   "cell_type": "code",
   "execution_count": null,
   "id": "6046933c",
   "metadata": {},
   "outputs": [],
   "source": []
  },
  {
   "cell_type": "code",
   "execution_count": null,
   "id": "6dad913a",
   "metadata": {},
   "outputs": [],
   "source": []
  },
  {
   "cell_type": "markdown",
   "id": "45650647",
   "metadata": {},
   "source": [
    "## Tareas para trabajo fuera de clase\n",
    "\n",
    "1. observación\n",
    "2. memorización \n",
    "3. síntesis"
   ]
  },
  {
   "cell_type": "markdown",
   "id": "bbc216c4",
   "metadata": {},
   "source": [
    "## Referentes  \n",
    "\n",
    "* [stewart](https://udeaeduco-my.sharepoint.com/:b:/g/personal/marco_canas_udea_edu_co/EZgXZjAp8QxPqOAim2hs6LcBNPLGjSHf-xwYnUVYkwa04w?e=z1TOmD) Página 42 "
   ]
  },
  {
   "cell_type": "markdown",
   "id": "abfffa8e",
   "metadata": {},
   "source": [
    "## [Evaluación de la clase del profesor Marco Cañas](https://forms.office.com/Pages/ResponsePage.aspx?id=IefhmYRxjkmK_7KtTlPBwkanXIs1i1FEujpsZgO6dXpUREJPV1kxUk1JV1ozTFJIQVNIQjY5WEY3US4u)"
   ]
  },
  {
   "cell_type": "markdown",
   "id": "82a68d45",
   "metadata": {},
   "source": [
    "## Continue su aprendizaje en esta secuencia didáctica con la siguiente clase a la que puede llegar dando click [aquí]()"
   ]
  }
 ],
 "metadata": {
  "celltoolbar": "Slideshow",
  "kernelspec": {
   "display_name": "Python 3 (ipykernel)",
   "language": "python",
   "name": "python3"
  },
  "language_info": {
   "codemirror_mode": {
    "name": "ipython",
    "version": 3
   },
   "file_extension": ".py",
   "mimetype": "text/x-python",
   "name": "python",
   "nbconvert_exporter": "python",
   "pygments_lexer": "ipython3",
   "version": "3.9.13"
  },
  "rise": {
   "enable_chalkboard": true,
   "theme": "sky",
   "transition": "zoom"
  }
 },
 "nbformat": 4,
 "nbformat_minor": 5
}
