{
 "cells": [
  {
   "attachments": {},
   "cell_type": "markdown",
   "id": "dc06dec7",
   "metadata": {
    "slideshow": {
     "slide_type": "slide"
    }
   },
   "source": [
    "<table align=\"left\">\n",
    "  <td>\n",
    "    <a href=\"https://colab.research.google.com/github/marco-canas/fundamentos_de_las_matematicas/blob/main/classes/2_functions/2_funciones_lineales/2_funciones_lineales.ipynb\" target=\"_parent\"><img src=\"https://colab.research.google.com/assets/colab-badge.svg\" alt=\"Open In Colab\"/></a>\n",
    "  </td>\n",
    "</table>"
   ]
  },
  {
   "attachments": {},
   "cell_type": "markdown",
   "id": "e0c5b198",
   "metadata": {
    "slideshow": {
     "slide_type": "slide"
    }
   },
   "source": [
    "### [Video de apoyo a la lectura interactiva y experimental de este cuaderno](https://www.youtube.com/watch?v=-_xBn_lGhlw)"
   ]
  },
  {
   "attachments": {},
   "cell_type": "markdown",
   "id": "41e82203",
   "metadata": {
    "slideshow": {
     "slide_type": "slide"
    }
   },
   "source": [
    "## [Vínculo al programa del curso:  ]()\n",
    "\n",
    "* Todos los profesores debemos proponer objetivos de formación\n",
    "* Propuesta de evaluación \n",
    "* Y propuesta de metodología\n",
    "* Y propuesta de bibliografía. "
   ]
  },
  {
   "attachments": {},
   "cell_type": "markdown",
   "id": "d11ab06d",
   "metadata": {
    "slideshow": {
     "slide_type": "slide"
    }
   },
   "source": [
    "Un reconocimiento a mis estudiantes que han construido conmigo este saber pedagógico:\n",
    "\n",
    "<img src = ''> \n",
    "\n"
   ]
  },
  {
   "attachments": {},
   "cell_type": "markdown",
   "id": "5e3936d8",
   "metadata": {
    "slideshow": {
     "slide_type": "slide"
    }
   },
   "source": [
    "# Llamar a lista o tomar asistencia con python o llamar el equipo para la tarea con video y cuaderno Jupyter sobre medición indirecta de grandes alturas con imágenes"
   ]
  },
  {
   "cell_type": "code",
   "execution_count": null,
   "id": "7604880f",
   "metadata": {
    "slideshow": {
     "slide_type": "slide"
    }
   },
   "outputs": [],
   "source": [
    "def crear_lista_estudiantes(ubicacion_lista):\n",
    "    \"\"\"\n",
    "    \"\"\"\n",
    "    import pandas as pd     \n",
    "    grupo_df = pd.read_csv(ubicacion_lista, sep = ';') \n",
    "    # cuando el .csv file proviene de un .xlsx file, debe utilizarse sep = ';'\n",
    "    lista_estudiantes = list(grupo_df.nombre.values)\n",
    "    return lista_estudiantes "
   ]
  },
  {
   "cell_type": "code",
   "execution_count": null,
   "id": "a359c096",
   "metadata": {
    "slideshow": {
     "slide_type": "slide"
    }
   },
   "outputs": [],
   "source": [
    "#llamar a lista o tomar registro de asistencia a clase\n",
    "def llamar_estudiantes_a_participar():\n",
    "    import numpy as np \n",
    "    from random import choice\n",
    "    if len(lista_estudiantes) != 0:\n",
    "        estudiante = choice(lista_estudiantes)\n",
    "        lista_estudiantes.remove(estudiante)\n",
    "        return print(estudiante)\n",
    "    else:\n",
    "        print('Todos los estudiantes han participado.\\n \\\n",
    "               Muchas gracias y Felicitaciones')"
   ]
  },
  {
   "cell_type": "code",
   "execution_count": null,
   "id": "37ae00fb",
   "metadata": {
    "slideshow": {
     "slide_type": "slide"
    }
   },
   "outputs": [],
   "source": [
    "ubicacion_lista='https://raw.githubusercontent.com/marco-canas/groups_list/main/1_algebra.csv'\n",
    "lista_estudiantes = crear_lista_estudiantes(ubicacion_lista)"
   ]
  },
  {
   "cell_type": "code",
   "execution_count": null,
   "id": "33f85aea",
   "metadata": {
    "scrolled": true,
    "slideshow": {
     "slide_type": "slide"
    }
   },
   "outputs": [],
   "source": [
    "llamar_estudiantes_a_participar()"
   ]
  },
  {
   "attachments": {},
   "cell_type": "markdown",
   "id": "4f9d8cf9",
   "metadata": {
    "slideshow": {
     "slide_type": "slide"
    }
   },
   "source": [
    "# Modelo general de clase: [aula invertida](https://www3.gobiernodecanarias.org/medusa/ecoescuela/pedagotic/aprendizaje-invertido-flipped-classroom/)"
   ]
  },
  {
   "attachments": {},
   "cell_type": "markdown",
   "id": "ca46c23b",
   "metadata": {
    "slideshow": {
     "slide_type": "fragment"
    }
   },
   "source": [
    "## Definición y características de este [modelo](https://udearroba.udea.edu.co/blog/aprendizaje-invertido-otras-formas-de-ensenar-y-aprender/)  \n",
    "El aprendizaje invertido es un enfoque pedagógico que posibilita trascender del modelo tradicional de enseñanza. "
   ]
  },
  {
   "attachments": {},
   "cell_type": "markdown",
   "id": "760dd3a7",
   "metadata": {},
   "source": [
    "Dicho enfoque hace uso de entornos virtuales, en los cuales el docente dispone de una serie de recursos para abordar la enseñanza de los contenidos. "
   ]
  },
  {
   "attachments": {},
   "cell_type": "markdown",
   "id": "a8272cc0",
   "metadata": {},
   "source": [
    "Uno de los recursos más utilizados es la videoclase, pues permite que los estudiantes puedan escuchar y observar al docente mientras explica una temática, así como demostraciones y procedimientos específicos. "
   ]
  },
  {
   "attachments": {},
   "cell_type": "markdown",
   "id": "a14c85ff",
   "metadata": {},
   "source": [
    "Por tanto, este recurso resulta valioso para los estudiantes, quienes podrán revisarlo en el espacio temporal que deseen y las veces que lo consideren necesario para su aprendizaje. "
   ]
  },
  {
   "attachments": {},
   "cell_type": "markdown",
   "id": "85f6596d",
   "metadata": {},
   "source": [
    "Adicionalmente, es importante que los docentes dispongan las indicaciones o instrucciones -por fuera del aula- en relación con las actividades/prácticas/ejercicios que los estudiantes deben llevar a cabo. "
   ]
  },
  {
   "attachments": {},
   "cell_type": "markdown",
   "id": "e50a6bfd",
   "metadata": {},
   "source": [
    "Por ende, se espera que los estudiantes hagan la revisión de contenidos e indicaciones de manera previa al encuentro sincrónico."
   ]
  },
  {
   "attachments": {},
   "cell_type": "markdown",
   "id": "d2b0e776",
   "metadata": {
    "slideshow": {
     "slide_type": "slide"
    }
   },
   "source": [
    "## ¿Qué es?  \n",
    "\n",
    "Flipped Learning o aprendizaje invertido es un enfoque pedagógico en el que:  \n",
    "\n",
    "* la instrucción directa se realiza fuera del aula y \n",
    "* se utiliza el tiempo de clase para llevar a cabo actividades que impliquen el desarrollo de procesos cognitivos de mayor complejidad, en las que son necesarias la ayuda y la experiencia del docente."
   ]
  },
  {
   "attachments": {},
   "cell_type": "markdown",
   "id": "5fc4f731",
   "metadata": {
    "slideshow": {
     "slide_type": "slide"
    }
   },
   "source": [
    "## ¿Para qué sirve?  \n",
    "\n",
    "Mejora el proceso de enseñanza-aprendizaje realizando,   \n",
    "\n",
    "* fuera del aula, actividades de aprendizaje sencillas (observar, memorizar, resumir, etc.) y, \n",
    "* en el aula, actividades más complejas (razonar, examinar, priorizar, argumentar, proponer, etc.) que requieren la interacción entre iguales y la ayuda del docente como facilitador."
   ]
  },
  {
   "attachments": {},
   "cell_type": "markdown",
   "id": "b42472d6",
   "metadata": {
    "slideshow": {
     "slide_type": "slide"
    }
   },
   "source": [
    "<img src = 'https://github.com/marco-canas/7_didactica_ciencia_datos/blob/main/4_images/atributos_aprendizaje_invertido.png?raw=true'>"
   ]
  },
  {
   "attachments": {},
   "cell_type": "markdown",
   "id": "8cee33b3",
   "metadata": {
    "slideshow": {
     "slide_type": "slide"
    }
   },
   "source": [
    "# Proceso Flipped Learning"
   ]
  },
  {
   "attachments": {},
   "cell_type": "markdown",
   "id": "9c61b8b5",
   "metadata": {
    "slideshow": {
     "slide_type": "slide"
    }
   },
   "source": [
    "## Fuera del Aula"
   ]
  },
  {
   "attachments": {},
   "cell_type": "markdown",
   "id": "fe20721d",
   "metadata": {
    "slideshow": {
     "slide_type": "slide"
    }
   },
   "source": [
    "### Docente:"
   ]
  },
  {
   "attachments": {},
   "cell_type": "markdown",
   "id": "5b022dc9",
   "metadata": {
    "slideshow": {
     "slide_type": "slide"
    }
   },
   "source": [
    "* Diseña y planea el proceso de enseñanza-aprendizaje del aula, integrando estrategias, modelos de enseñanza y metodologías (aprendizaje basado en proyectos, aprendizaje cooperativo y colaborativo,…).  \n",
    "\n",
    "* Diseña y planea actividades que se realizarán fuera del aula (ver vídeos, cumplimentar cuestionarios,…).  \n",
    "\n",
    "* Selecciona e integra la tecnología en actividades de aprendizaje activo.  \n",
    "\n",
    "* Diseña actividades de evaluación que promuevan el aprendizaje del alumnado."
   ]
  },
  {
   "attachments": {},
   "cell_type": "markdown",
   "id": "467fb978",
   "metadata": {
    "slideshow": {
     "slide_type": "slide"
    }
   },
   "source": [
    "### Alumnado:"
   ]
  },
  {
   "attachments": {},
   "cell_type": "markdown",
   "id": "87d6d661",
   "metadata": {
    "slideshow": {
     "slide_type": "slide"
    }
   },
   "source": [
    "* Accede, cuantas veces necesite, a las actividades facilitadas por el profesorado.\n",
    "* Realiza las actividades propuestas."
   ]
  },
  {
   "attachments": {},
   "cell_type": "markdown",
   "id": "93cd48b6",
   "metadata": {
    "slideshow": {
     "slide_type": "slide"
    }
   },
   "source": [
    "## En el Aula"
   ]
  },
  {
   "attachments": {},
   "cell_type": "markdown",
   "id": "79ea8675",
   "metadata": {
    "slideshow": {
     "slide_type": "slide"
    }
   },
   "source": [
    "### Docente:"
   ]
  },
  {
   "attachments": {},
   "cell_type": "markdown",
   "id": "d4d6f829",
   "metadata": {
    "slideshow": {
     "slide_type": "slide"
    }
   },
   "source": [
    "* Guía y facilita los procesos de aprendizaje, atendiendo a la diversidad.\n",
    "* Retroalimenta el desempeño de los equipos/grupos y del alumnado individualmente.\n",
    "* Genera espacios para la coevaluación y autoevaluación."
   ]
  },
  {
   "attachments": {},
   "cell_type": "markdown",
   "id": "7178794c",
   "metadata": {
    "slideshow": {
     "slide_type": "slide"
    }
   },
   "source": [
    "### Alumnado:"
   ]
  },
  {
   "attachments": {},
   "cell_type": "markdown",
   "id": "88d1c0f7",
   "metadata": {
    "slideshow": {
     "slide_type": "slide"
    }
   },
   "source": [
    "* Realiza las actividades (debates, exposiciones orales, informes, diario de aprendizaje, cuaderno de trabajo cooperativo,…).\n",
    "* Recibe retroalimentación inmediata del profesorado y de sus compañeros y compañeras.\n",
    "* Accede, si fuera necesario, a las actividades previas facilitadas por el profesorado."
   ]
  },
  {
   "attachments": {},
   "cell_type": "markdown",
   "id": "7dbfc4b9",
   "metadata": {
    "slideshow": {
     "slide_type": "slide"
    }
   },
   "source": [
    "## Ventajas de Flipped Learning  \n",
    "\n",
    "1. Incrementa el compromiso del alumnado porque éste se hace corresponsable de su aprendizaje y participa en él de forma activa mediante actividades de cooperación y colaboración en clase.  \n",
    "\n",
    "2. Permite que el alumnado aprenda a su propio ritmo, ya que tiene la posibilidad de acceder al material facilitado por el profesorado en cualquier momento y en cualquier lugar, todas las veces que necesite."
   ]
  },
  {
   "attachments": {},
   "cell_type": "markdown",
   "id": "8d97dc80",
   "metadata": {
    "slideshow": {
     "slide_type": "slide"
    }
   },
   "source": [
    "## Fomento de la lectura literaria asociada a Ingeniería agropecuaria y licenciatura en Matemáticas\n",
    "\n",
    "### DAR DESDE EL CORAZÓN\n",
    "#### La esencia de la comunicación no violenta  \n",
    "\n",
    "Lo que quiero en la vida es compasión,  \n",
    "una corriente que fluya entre los demás y yo,\n",
    "basada en un mutuo dar desde el corazón.  \n",
    "\n",
    "[MARSHALL ROSENBERG](https://udeaeduco-my.sharepoint.com/:b:/g/personal/marco_canas_udea_edu_co/Efb_5fC50D5JnA4BzTKzgsIB9UeMjgs1kCU-sROZDlWTGw?e=gjRMdZ)"
   ]
  },
  {
   "attachments": {},
   "cell_type": "markdown",
   "id": "bff96119",
   "metadata": {
    "slideshow": {
     "slide_type": "slide"
    }
   },
   "source": [
    "### Introducción"
   ]
  },
  {
   "attachments": {},
   "cell_type": "markdown",
   "id": "c2ca8f2e",
   "metadata": {
    "slideshow": {
     "slide_type": "slide"
    }
   },
   "source": [
    "Como estoy plenamente convencido de que forma parte intrínseca de nuestra naturaleza sentirnos satisfechos cuando damos y recibimos algo de manera compasiva o solidaria, hay dos preguntas que me han preocupado durante la mayor parte de mi vida. "
   ]
  },
  {
   "attachments": {},
   "cell_type": "markdown",
   "id": "4e4614ff",
   "metadata": {
    "slideshow": {
     "slide_type": "slide"
    }
   },
   "source": [
    "¿Qué ocurre que nos desconecta de nuestra naturaleza solidaria y nos lleva a comportarnos de manera violenta y abusiva?"
   ]
  },
  {
   "attachments": {},
   "cell_type": "markdown",
   "id": "86dee509",
   "metadata": {
    "slideshow": {
     "slide_type": "slide"
    }
   },
   "source": [
    " Y a la inversa, ¿por qué algunas personas son consecuentes con esta actitud solidaria incluso en las circunstancias más adversas?"
   ]
  },
  {
   "attachments": {},
   "cell_type": "markdown",
   "id": "e94f8489",
   "metadata": {
    "slideshow": {
     "slide_type": "slide"
    }
   },
   "source": [
    "Mi preocupación por estas preguntas se remonta a mi infancia, al verano de 1943, cuando mi familia se mudó a Detroit (Michigan)."
   ]
  },
  {
   "attachments": {},
   "cell_type": "markdown",
   "id": "1f6f5f46",
   "metadata": {
    "slideshow": {
     "slide_type": "slide"
    }
   },
   "source": [
    "Dos semanas después de haber llegado, un incidente en un parque público desencadenó un enfrentamiento racial. "
   ]
  },
  {
   "attachments": {},
   "cell_type": "markdown",
   "id": "ade89ed1",
   "metadata": {
    "slideshow": {
     "slide_type": "slide"
    }
   },
   "source": [
    "Durante los días que siguieron al hecho fueron asesinadas más de cuarenta personas. El barrio donde vivíamos estaba situado en el centro mismo del estallido de violencia, lo cual nos obligó a permanecer tres días encerrados en nuestra casa."
   ]
  },
  {
   "attachments": {},
   "cell_type": "markdown",
   "id": "1a43bf35",
   "metadata": {
    "slideshow": {
     "slide_type": "slide"
    }
   },
   "source": [
    "Cuando terminaron los disturbios y empezaron las clases, descubrí que un apellido puede ser tan peligroso como el color de la piel. "
   ]
  },
  {
   "attachments": {},
   "cell_type": "markdown",
   "id": "a73fbc50",
   "metadata": {},
   "source": [
    "El primer día, cuando el maestro pronunció mi nombre, dos chicos me miraron fijamente y murmuraron entre dientes: «¿Eres un kike?», dijeron. "
   ]
  },
  {
   "attachments": {},
   "cell_type": "markdown",
   "id": "2be89d6a",
   "metadata": {
    "slideshow": {
     "slide_type": "slide"
    }
   },
   "source": [
    "No conocía la palabra ni sabía que algunas personas la usan de manera despectiva para referirse a los judíos. "
   ]
  },
  {
   "attachments": {},
   "cell_type": "markdown",
   "id": "eae7d3b9",
   "metadata": {
    "slideshow": {
     "slide_type": "slide"
    }
   },
   "source": [
    "A la salida de clase, los dos chicos me estaban esperando y, de un empujón, me derribaron al suelo y me dieron una paliza."
   ]
  },
  {
   "attachments": {},
   "cell_type": "markdown",
   "id": "93306ead",
   "metadata": {
    "slideshow": {
     "slide_type": "slide"
    }
   },
   "source": [
    "Desde aquel verano del año 1943, he estado analizando las dos preguntas que a lo largo de este libro, como en toda su obra sobre comunicación no violenta, Marshall Rosenberg utiliza con frecuencia el término \"compasión\". "
   ]
  },
  {
   "attachments": {},
   "cell_type": "markdown",
   "id": "bb315608",
   "metadata": {
    "slideshow": {
     "slide_type": "slide"
    }
   },
   "source": [
    "Lo hace apelando al profundo impulso de humanidad común que existe en los seres humanos cuando nos comunicamos sin violencia. "
   ]
  },
  {
   "attachments": {},
   "cell_type": "markdown",
   "id": "79c35435",
   "metadata": {
    "slideshow": {
     "slide_type": "slide"
    }
   },
   "source": [
    "Este significado se diferencia del uso habitual en castellano que asocia la compasión con la conmiseración y la lástima\n",
    "frente al sufrimiento de los demás. (N. de la T.)"
   ]
  },
  {
   "attachments": {},
   "cell_type": "markdown",
   "id": "b39679b3",
   "metadata": {
    "slideshow": {
     "slide_type": "slide"
    }
   },
   "source": [
    "# Los juicios moralistas"
   ]
  },
  {
   "attachments": {},
   "cell_type": "markdown",
   "id": "d4e8cd6b",
   "metadata": {
    "slideshow": {
     "slide_type": "slide"
    }
   },
   "source": [
    "Un tipo de comunicación que aliena de la vida es aquél en el que empleamos juicios moralistas que presuponen una actitud errónea o malvada por parte de aquellas personas que no actúan de acuerdo con nuestros valores. "
   ]
  },
  {
   "attachments": {},
   "cell_type": "markdown",
   "id": "c1ea3dcc",
   "metadata": {
    "slideshow": {
     "slide_type": "slide"
    }
   },
   "source": [
    "Estos juicios se reflejan en comentarios como: «Tu problema es que eres muy egoísta», «Es una perezosa», «Están llenos de prejuicios», «Esto es inapropiado». "
   ]
  },
  {
   "attachments": {},
   "cell_type": "markdown",
   "id": "b9895eef",
   "metadata": {},
   "source": [
    "Echar la culpa a alguien, insultarlo, rebajarlo, ponerle etiquetas, criticarlo, establecer comparaciones\n",
    "y emitir diagnósticos son distintas maneras de formular juicios.\n"
   ]
  },
  {
   "attachments": {},
   "cell_type": "markdown",
   "id": "777cfe78",
   "metadata": {},
   "source": [
    "El poeta sufí Rumi escribió en cierta ocasión: \n",
    "\n",
    "«Más allá de las ideas de actuar bien y actuar mal, se extiende un campo. Allí nos encontraremos»."
   ]
  },
  {
   "attachments": {},
   "cell_type": "markdown",
   "id": "1c785551",
   "metadata": {},
   "source": [
    "Sin embargo, la comunicación que nos aliena de la vida nos atrapa en un mundo de ideas preconcebidas con\n",
    "respecto a lo que está bien y lo que está mal, un mundo hecho de juicios. "
   ]
  },
  {
   "attachments": {},
   "cell_type": "markdown",
   "id": "9b963998",
   "metadata": {},
   "source": [
    "Emplea un lenguaje en\n",
    "el que abundan las palabras que establecen clasificaciones y dicotomías con respecto a las personas y a sus formas de actuar.\n"
   ]
  },
  {
   "attachments": {},
   "cell_type": "markdown",
   "id": "df877532",
   "metadata": {},
   "source": [
    "Cuando utilizamos este lenguaje juzgamos a los demás y su comportamiento y nos\n",
    "centramos en quién es bueno, malo, normal, anormal, responsable, irresponsable,\n",
    "inteligente, ignorante, etcétera.\n",
    "Ciertas formas de comunicación nos alienan de nuestro estado natural de compasión o solidaridad."
   ]
  },
  {
   "attachments": {},
   "cell_type": "markdown",
   "id": "5fc493ad",
   "metadata": {
    "slideshow": {
     "slide_type": "slide"
    }
   },
   "source": [
    "En el mundo de los juicios\n",
    "nuestra preocupación se\n",
    "centra en quién “es” qué."
   ]
  },
  {
   "attachments": {},
   "cell_type": "markdown",
   "id": "23d1cf0a",
   "metadata": {
    "slideshow": {
     "slide_type": "slide"
    }
   },
   "source": [
    "Mucho antes de llegar a la edad adulta, aprendí a comunicarme con los demás de una manera impersonal en la que no necesitaba revelar lo que me estaba pasando internamente. "
   ]
  },
  {
   "attachments": {},
   "cell_type": "markdown",
   "id": "fe92600c",
   "metadata": {
    "slideshow": {
     "slide_type": "slide"
    }
   },
   "source": [
    "Cada vez que me encontraba con personas o hechos que no me gustaban o no comprendía, mi reacción consistía en dictaminar que los equivocados eran ellos. "
   ]
  },
  {
   "attachments": {},
   "cell_type": "markdown",
   "id": "02abdd5f",
   "metadata": {
    "slideshow": {
     "slide_type": "slide"
    }
   },
   "source": [
    "Cuando mis maestros me encomendaban una tarea que yo no tenía ganas de hacer, se convertían a mis ojos en unos «pesados» o unos «imbéciles». "
   ]
  },
  {
   "attachments": {},
   "cell_type": "markdown",
   "id": "9fc2f7f6",
   "metadata": {
    "slideshow": {
     "slide_type": "slide"
    }
   },
   "source": [
    "Cuando estaba manejando y alguien me pasaba por delante, yo reaccionaba llamándolo «idiota». "
   ]
  },
  {
   "attachments": {},
   "cell_type": "markdown",
   "id": "c4231c7a",
   "metadata": {
    "slideshow": {
     "slide_type": "slide"
    }
   },
   "source": [
    "Siempre que empleamos este lenguaje, pensamos y nos comunicamos desde la perspectiva de\n",
    "que algo falla en los demás porque se comportan de una determinada manera o, a veces, de que algo falla en nosotros porque no comprendemos o no responde\u0002mos como nos gustaría. "
   ]
  },
  {
   "attachments": {},
   "cell_type": "markdown",
   "id": "16ce4f69",
   "metadata": {
    "slideshow": {
     "slide_type": "slide"
    }
   },
   "source": [
    "Centramos nuestra atención en clasificar, analizar y determinar niveles de error más que en lo que necesitamos (nosotros y los demás) y no conseguimos. "
   ]
  },
  {
   "attachments": {},
   "cell_type": "markdown",
   "id": "9715eef7",
   "metadata": {
    "slideshow": {
     "slide_type": "slide"
    }
   },
   "source": [
    "En consecuencia, si mi pareja quiere más cariño del que yo le ofrezco, es una persona «dependiente y desvalida». Pero si yo quiero más cariño que el que ella me da, es «distante e insensible». Si mi compañero de trabajo se preocupa más que yo por los detalles, es «quisquilloso y compulsivo». "
   ]
  },
  {
   "attachments": {},
   "cell_type": "markdown",
   "id": "611ca7d1",
   "metadata": {},
   "source": [
    "En cambio,si soy yo quien se preocupa más por los detalles, él es «descuidado y desorganizado».\n",
    "Creo que este tipo de análisis de otros seres humanos no es más que una trágica expresión de nuestros propios valores y necesidades. "
   ]
  },
  {
   "attachments": {},
   "cell_type": "markdown",
   "id": "324825b1",
   "metadata": {},
   "source": [
    "Trágica porque, cuando expresamos nuestros valores y necesidades de esta manera, lo único que conseguimos es potenciar una actitud defensiva y de resistencia en las mismas personas cuya conducta nos molesta. "
   ]
  },
  {
   "attachments": {},
   "cell_type": "markdown",
   "id": "d83f9a67",
   "metadata": {},
   "source": [
    "Y si aceptan actuar en consonancia con nuestra\n",
    "escala de valores porque coinciden en nuestro análisis de su ineptitud, es probable que sólo lo hagan por miedo, culpa o vergüenza.\n"
   ]
  },
  {
   "attachments": {},
   "cell_type": "markdown",
   "id": "bc35f547",
   "metadata": {},
   "source": [
    "Sin embargo, cuando los demás acceden a actuar de acuerdo con nuestros valores y necesidades, no porque lo deseen de corazón, sino porque tienen miedo o se sienten culpables o avergonzados, el precio que nos toca pagar es realmente muy alto. "
   ]
  },
  {
   "attachments": {},
   "cell_type": "markdown",
   "id": "c3cbd1bd",
   "metadata": {},
   "source": [
    "Tarde o temprano vendrán las consecuencias bajo la forma de una falta de buena voluntad por parte de aquellos que responden a nuestros deseos por coerción externa o interna. "
   ]
  },
  {
   "attachments": {},
   "cell_type": "markdown",
   "id": "392580c8",
   "metadata": {},
   "source": [
    "Por otro lado, cuando alguien hace algo por miedo, culpa o vergüenza, también paga un precio de tipo emocional, ya que abrigará un resentimiento contra nosotros al quedar rebajada su autoestima. "
   ]
  },
  {
   "attachments": {},
   "cell_type": "markdown",
   "id": "3f46db65",
   "metadata": {},
   "source": [
    "Además, cada\n",
    "vez que otras personas nos asocien con cualquiera de estos sentimientos, disminuirá la probabilidad de que en el futuro respondan de una manera solidaria a nuestras necesidades y nuestros valores"
   ]
  },
  {
   "attachments": {},
   "cell_type": "markdown",
   "id": "96775931",
   "metadata": {
    "slideshow": {
     "slide_type": "slide"
    }
   },
   "source": [
    "## Título de la clase: Funciones lineales. \n",
    "\n"
   ]
  },
  {
   "attachments": {},
   "cell_type": "markdown",
   "id": "1d38dd4e",
   "metadata": {
    "slideshow": {
     "slide_type": "slide"
    }
   },
   "source": [
    "### Objetivo de aprendizaje (Enunciar, de manera corta sencilla y clara para todos los asistentes)\n",
    "\n",
    "* "
   ]
  },
  {
   "attachments": {},
   "cell_type": "markdown",
   "id": "540f0ec1",
   "metadata": {
    "slideshow": {
     "slide_type": "slide"
    }
   },
   "source": [
    "## Cuestionario para realizar labores de memorización, observación y síntesis de la información (Además de diagnóstico)\n",
    "\n",
    "1. ¿?\n",
    "2. ¿?\n",
    "3. ¿?\n",
    "4. ¿?\n",
    "5. ¿?"
   ]
  },
  {
   "attachments": {},
   "cell_type": "markdown",
   "id": "ca7261b1",
   "metadata": {
    "slideshow": {
     "slide_type": "slide"
    }
   },
   "source": [
    "## Establecimiento de prerrequisitos conceptuales para alcanzar el objetivo de aprendizaje trazado.   \n",
    "\n",
    "(Elabore una lista de preguntas al rededor de los conceptos que consideres necesarios para empezar la clase).  \n",
    "\n",
    "1. \n",
    "2. \n",
    "3. "
   ]
  },
  {
   "attachments": {},
   "cell_type": "markdown",
   "id": "2298e976",
   "metadata": {
    "slideshow": {
     "slide_type": "slide"
    }
   },
   "source": [
    "# Para el diseño de la clase tenga en cuenta algunos problemas de aprendizaje"
   ]
  },
  {
   "cell_type": "markdown",
   "id": "523d3acf",
   "metadata": {
    "slideshow": {
     "slide_type": "slide"
    }
   },
   "source": []
  },
  {
   "attachments": {},
   "cell_type": "markdown",
   "id": "a40a4704",
   "metadata": {
    "slideshow": {
     "slide_type": "slide"
    }
   },
   "source": [
    "## Secuencia conceptual introductoria a la clase"
   ]
  },
  {
   "cell_type": "markdown",
   "id": "269bcec6",
   "metadata": {},
   "source": [
    "# La función lineal de manera interactiva\n",
    "\n",
    "$$ y = f(x) = mx + b $$"
   ]
  },
  {
   "cell_type": "code",
   "execution_count": null,
   "id": "43182550",
   "metadata": {},
   "outputs": [],
   "source": [
    "import  numpy as np \n",
    "import matplotlib.pyplot as plt \n",
    "from ipywidgets import interact \n",
    "\n",
    "def trazar_funcion_lineal(m = 0, b = 0):\n",
    "    plt.figure(figsize = (13,6))\n",
    "    plt.title(r'¿Cómo cambia la linea al cambiar la pendiente $m$ y intercepto $b$?')\n",
    "    plt.axis([-5,5,-10,10]) # rectángulo de visualización\n",
    "    plt.grid(alpha = 0.3)\n",
    "    dominio = np.array([-5,5])\n",
    "    f = lambda x:m*x+b  # definición de la función lineal \n",
    "    rango = f(dominio)\n",
    "    plt.plot(dominio, rango, color = 'red', linewidth = 4.0)\n",
    "    plt.plot([-5,5], [0,0], color = 'blue', alpha = 0.4) # eje x \n",
    "    plt.plot([0,0], [-10, 10], color = 'blue', alpha = 0.4) # eje y\n",
    "    plt.yticks(np.arange(-10,11))\n",
    "\n",
    "interact(trazar_funcion_lineal, m = (0,10), b = (-5, 5))\n",
    "\n",
    "plt.show() "
   ]
  },
  {
   "cell_type": "markdown",
   "id": "d5dcc33b",
   "metadata": {},
   "source": [
    "## Observaciiones fruto de la lectura interactiva\n",
    "\n",
    "### ¿Que cambie el parámetro $m$?\n",
    "\n",
    "Pendiente $m = 0$ significa recta horizontal, y a medida que la pendiente aumenta, la recta se va volviendo más vertical. El parámetro $m$ controla la inclinación de la recta con respecto al eje vertical. \n",
    "\n",
    "Y mayor pendiente o inclinación con respecto al eje $x$ significa mayor velocidad de crecimiento en la función lineal.\n",
    "\n",
    "### ¿Qué cambia el parámetro $b$?\n",
    "\n",
    "$b$ es el intercepto de la recta con el eje $y$ y en una modelación de un fenómeno de evolución, el corte en el eje $y$ significa la condición inicial. \n",
    "\n"
   ]
  },
  {
   "attachments": {},
   "cell_type": "markdown",
   "id": "12cb2994",
   "metadata": {
    "slideshow": {
     "slide_type": "slide"
    }
   },
   "source": [
    "# Regresión lineal "
   ]
  },
  {
   "cell_type": "code",
   "execution_count": 4,
   "id": "5652a086",
   "metadata": {},
   "outputs": [
    {
     "data": {
      "text/html": [
       "<div>\n",
       "<style scoped>\n",
       "    .dataframe tbody tr th:only-of-type {\n",
       "        vertical-align: middle;\n",
       "    }\n",
       "\n",
       "    .dataframe tbody tr th {\n",
       "        vertical-align: top;\n",
       "    }\n",
       "\n",
       "    .dataframe thead th {\n",
       "        text-align: right;\n",
       "    }\n",
       "</style>\n",
       "<table border=\"1\" class=\"dataframe\">\n",
       "  <thead>\n",
       "    <tr style=\"text-align: right;\">\n",
       "      <th></th>\n",
       "      <th>Años</th>\n",
       "      <th>Tasas</th>\n",
       "    </tr>\n",
       "  </thead>\n",
       "  <tbody>\n",
       "    <tr>\n",
       "      <th>0</th>\n",
       "      <td>1950</td>\n",
       "      <td>29.2</td>\n",
       "    </tr>\n",
       "    <tr>\n",
       "      <th>1</th>\n",
       "      <td>1960</td>\n",
       "      <td>26.0</td>\n",
       "    </tr>\n",
       "    <tr>\n",
       "      <th>2</th>\n",
       "      <td>1970</td>\n",
       "      <td>20.0</td>\n",
       "    </tr>\n",
       "    <tr>\n",
       "      <th>3</th>\n",
       "      <td>1980</td>\n",
       "      <td>12.6</td>\n",
       "    </tr>\n",
       "    <tr>\n",
       "      <th>4</th>\n",
       "      <td>1990</td>\n",
       "      <td>9.2</td>\n",
       "    </tr>\n",
       "    <tr>\n",
       "      <th>5</th>\n",
       "      <td>2000</td>\n",
       "      <td>6.9</td>\n",
       "    </tr>\n",
       "  </tbody>\n",
       "</table>\n",
       "</div>"
      ],
      "text/plain": [
       "   Años  Tasas\n",
       "0  1950   29.2\n",
       "1  1960   26.0\n",
       "2  1970   20.0\n",
       "3  1980   12.6\n",
       "4  1990    9.2\n",
       "5  2000    6.9"
      ]
     },
     "execution_count": 4,
     "metadata": {},
     "output_type": "execute_result"
    }
   ],
   "source": [
    "import pandas as pd \n",
    "\n",
    "años = [1950, 1960, 1970, 1980, 1990, 2000]\n",
    "tasas = [29.2, 26.0, 20.0, 12.6, 9.2, 6.9]\n",
    "\n",
    "dic = {'Años':años,'Tasas':tasas}\n",
    "\n",
    "representacion_tabular = pd.DataFrame(dic) \n",
    "representacion_tabular.to_csv('tasas_mortalidad_estados_unidos.csv')\n",
    "representacion_tabular "
   ]
  },
  {
   "cell_type": "code",
   "execution_count": 5,
   "id": "a239aa8b",
   "metadata": {},
   "outputs": [
    {
     "data": {
      "image/png": "[encoded data removed]",
      "text/plain": [
       "<Figure size 640x480 with 1 Axes>"
      ]
     },
     "metadata": {},
     "output_type": "display_data"
    }
   ],
   "source": [
    "import matplotlib.pyplot as plt \n",
    "\n",
    "plt.scatter(años, tasas, color = 'red')\n",
    "\n",
    "plt.title('Regresión lineal')\n",
    "plt.xlabel('Tiempo en años')\n",
    "plt.ylabel('Tasas de mortalidad en porcentaje')\n",
    "\n",
    "plt.grid() \n",
    "\n",
    "plt.savefig('/home/marco/Documentos/docencia/fundamentos_de_las_matematicas/images/tasa_mortalidad_datos.jpg')\n",
    "\n",
    "plt.show()"
   ]
  },
  {
   "cell_type": "code",
   "execution_count": 1,
   "id": "1305c7df",
   "metadata": {},
   "outputs": [
    {
     "data": {
      "image/png": "[encoded data removed]",
      "text/plain": [
       "<Figure size 800x600 with 1 Axes>"
      ]
     },
     "metadata": {},
     "output_type": "display_data"
    }
   ],
   "source": [
    "import numpy as np\n",
    "import matplotlib.pyplot as plt\n",
    "\n",
    "# Datos\n",
    "años = np.array([1950, 1960, 1970, 1980, 1990, 2000])\n",
    "tasas = np.array([29.2, 26.0, 20.0, 12.6, 9.2, 6.9])\n",
    "\n",
    "# Realizar la regresión lineal\n",
    "coeficientes = np.polyfit(años, tasas, 1) # P_{1}(x) = mx + b\n",
    "pendiente, intercepto = coeficientes\n",
    "\n",
    "# Crear una línea de regresión lineal\n",
    "linea_regresion = pendiente * años + intercepto\n",
    "\n",
    "# Crear el gráfico\n",
    "plt.figure(figsize=(8, 6))\n",
    "plt.scatter(años, tasas, label='Datos', color='blue')\n",
    "plt.plot(años, linea_regresion, label='Regresión Lineal', color='red') # modelo lineal \n",
    "plt.xlabel('Año')\n",
    "plt.ylabel('Tasa Mortalidad')\n",
    "plt.title('Regresión Lineal de Tasas de Mortalidad en Estados Unidos')\n",
    "plt.legend()\n",
    "plt.grid(True)\n",
    "\n",
    "# Mostrar el gráfico\n",
    "plt.show()\n"
   ]
  },
  {
   "cell_type": "code",
   "execution_count": null,
   "id": "798c9c60",
   "metadata": {},
   "outputs": [],
   "source": [
    "pendiente # pendiente es la velocidad de cambio"
   ]
  },
  {
   "cell_type": "code",
   "execution_count": null,
   "id": "66b5e5c3",
   "metadata": {},
   "outputs": [],
   "source": [
    "intercepto "
   ]
  },
  {
   "cell_type": "code",
   "execution_count": null,
   "id": "ef9582f6",
   "metadata": {},
   "outputs": [],
   "source": [
    "f= lambda t: pendiente*t+intercepto  # define el modelo como una función de python"
   ]
  },
  {
   "cell_type": "code",
   "execution_count": null,
   "id": "d01093ad",
   "metadata": {},
   "outputs": [],
   "source": [
    "f(2001)"
   ]
  },
  {
   "cell_type": "code",
   "execution_count": null,
   "id": "6c179ec7",
   "metadata": {},
   "outputs": [],
   "source": [
    "from sympy import *\n",
    "t = var('t')\n",
    "solve(Eq(f(t), 0), t)"
   ]
  },
  {
   "cell_type": "markdown",
   "id": "447af985",
   "metadata": {},
   "source": [
    "## Conclusión\n",
    "\n",
    "Se predice que se demorará 10 años para que la tasa de mortalidad infantil en Estados Unidos baje a cero. "
   ]
  },
  {
   "attachments": {},
   "cell_type": "markdown",
   "id": "1ccfb67e",
   "metadata": {
    "slideshow": {
     "slide_type": "slide"
    }
   },
   "source": [
    "# Visualizaciones tabulares y gráficas"
   ]
  },
  {
   "attachments": {},
   "cell_type": "markdown",
   "id": "0631fb05",
   "metadata": {
    "slideshow": {
     "slide_type": "slide"
    }
   },
   "source": [
    "## Visualización gráfica con plotly"
   ]
  },
  {
   "cell_type": "code",
   "execution_count": 2,
   "id": "d1bff0f9",
   "metadata": {
    "slideshow": {
     "slide_type": "slide"
    }
   },
   "outputs": [
    {
     "data": {
      "text/html": [
       "<div>\n",
       "<style scoped>\n",
       "    .dataframe tbody tr th:only-of-type {\n",
       "        vertical-align: middle;\n",
       "    }\n",
       "\n",
       "    .dataframe tbody tr th {\n",
       "        vertical-align: top;\n",
       "    }\n",
       "\n",
       "    .dataframe thead th {\n",
       "        text-align: right;\n",
       "    }\n",
       "</style>\n",
       "<table border=\"1\" class=\"dataframe\">\n",
       "  <thead>\n",
       "    <tr style=\"text-align: right;\">\n",
       "      <th></th>\n",
       "      <th>abscisas</th>\n",
       "      <th>ordenadas</th>\n",
       "    </tr>\n",
       "  </thead>\n",
       "  <tbody>\n",
       "    <tr>\n",
       "      <th>0</th>\n",
       "      <td>1950</td>\n",
       "      <td>29.409524</td>\n",
       "    </tr>\n",
       "    <tr>\n",
       "      <th>1</th>\n",
       "      <td>1960</td>\n",
       "      <td>24.572381</td>\n",
       "    </tr>\n",
       "    <tr>\n",
       "      <th>2</th>\n",
       "      <td>1970</td>\n",
       "      <td>19.735238</td>\n",
       "    </tr>\n",
       "    <tr>\n",
       "      <th>3</th>\n",
       "      <td>1980</td>\n",
       "      <td>14.898095</td>\n",
       "    </tr>\n",
       "    <tr>\n",
       "      <th>4</th>\n",
       "      <td>1990</td>\n",
       "      <td>10.060952</td>\n",
       "    </tr>\n",
       "    <tr>\n",
       "      <th>5</th>\n",
       "      <td>2000</td>\n",
       "      <td>5.223810</td>\n",
       "    </tr>\n",
       "  </tbody>\n",
       "</table>\n",
       "</div>"
      ],
      "text/plain": [
       "   abscisas  ordenadas\n",
       "0      1950  29.409524\n",
       "1      1960  24.572381\n",
       "2      1970  19.735238\n",
       "3      1980  14.898095\n",
       "4      1990  10.060952\n",
       "5      2000   5.223810"
      ]
     },
     "execution_count": 2,
     "metadata": {},
     "output_type": "execute_result"
    }
   ],
   "source": [
    "import numpy as np \n",
    "import pandas as pd \n",
    "\n",
    "\n",
    "tabla = pd.DataFrame({'abscisas':años, 'ordenadas':linea_regresion})\n",
    "tabla "
   ]
  },
  {
   "cell_type": "code",
   "execution_count": 3,
   "id": "6009af5a",
   "metadata": {
    "slideshow": {
     "slide_type": "slide"
    }
   },
   "outputs": [
    {
     "data": {
      "application/vnd.plotly.v1+json": {
       "config": {
        "plotlyServerURL": "https://plot.ly"
       },
       "data": [
        {
         "hovertemplate": "abscisas=%{x}<br>ordenadas=%{y}<extra></extra>",
         "legendgroup": "",
         "marker": {
          "color": "#636efa",
          "symbol": "circle"
         },
         "mode": "markers",
         "name": "",
         "orientation": "v",
         "showlegend": false,
         "type": "scatter",
         "x": [
          1950,
          1960,
          1970,
          1980,
          1990,
          2000
         ],
         "xaxis": "x",
         "y": [
          29.409523809523876,
          24.572380952380968,
          19.735238095238174,
          14.89809523809538,
          10.060952380952585,
          5.223809523809791
         ],
         "yaxis": "y"
        }
       ],
       "layout": {
        "legend": {
         "tracegroupgap": 0
        },
        "template": {
         "data": {
          "bar": [
           {
            "error_x": {
             "color": "#2a3f5f"
            },
            "error_y": {
             "color": "#2a3f5f"
            },
            "marker": {
             "line": {
              "color": "#E5ECF6",
              "width": 0.5
             },
             "pattern": {
              "fillmode": "overlay",
              "size": 10,
              "solidity": 0.2
             }
            },
            "type": "bar"
           }
          ],
          "barpolar": [
           {
            "marker": {
             "line": {
              "color": "#E5ECF6",
              "width": 0.5
             },
             "pattern": {
              "fillmode": "overlay",
              "size": 10,
              "solidity": 0.2
             }
            },
            "type": "barpolar"
           }
          ],
          "carpet": [
           {
            "aaxis": {
             "endlinecolor": "#2a3f5f",
             "gridcolor": "white",
             "linecolor": "white",
             "minorgridcolor": "white",
             "startlinecolor": "#2a3f5f"
            },
            "baxis": {
             "endlinecolor": "#2a3f5f",
             "gridcolor": "white",
             "linecolor": "white",
             "minorgridcolor": "white",
             "startlinecolor": "#2a3f5f"
            },
            "type": "carpet"
           }
          ],
          "choropleth": [
           {
            "colorbar": {
             "outlinewidth": 0,
             "ticks": ""
            },
            "type": "choropleth"
           }
          ],
          "contour": [
           {
            "colorbar": {
             "outlinewidth": 0,
             "ticks": ""
            },
            "colorscale": [
             [
              0,
              "#0d0887"
             ],
             [
              0.1111111111111111,
              "#46039f"
             ],
             [
              0.2222222222222222,
              "#7201a8"
             ],
             [
              0.3333333333333333,
              "#9c179e"
             ],
             [
              0.4444444444444444,
              "#bd3786"
             ],
             [
              0.5555555555555556,
              "#d8576b"
             ],
             [
              0.6666666666666666,
              "#ed7953"
             ],
             [
              0.7777777777777778,
              "#fb9f3a"
             ],
             [
              0.8888888888888888,
              "#fdca26"
             ],
             [
              1,
              "#f0f921"
             ]
            ],
            "type": "contour"
           }
          ],
          "contourcarpet": [
           {
            "colorbar": {
             "outlinewidth": 0,
             "ticks": ""
            },
            "type": "contourcarpet"
           }
          ],
          "heatmap": [
           {
            "colorbar": {
             "outlinewidth": 0,
             "ticks": ""
            },
            "colorscale": [
             [
              0,
              "#0d0887"
             ],
             [
              0.1111111111111111,
              "#46039f"
             ],
             [
              0.2222222222222222,
              "#7201a8"
             ],
             [
              0.3333333333333333,
              "#9c179e"
             ],
             [
              0.4444444444444444,
              "#bd3786"
             ],
             [
              0.5555555555555556,
              "#d8576b"
             ],
             [
              0.6666666666666666,
              "#ed7953"
             ],
             [
              0.7777777777777778,
              "#fb9f3a"
             ],
             [
              0.8888888888888888,
              "#fdca26"
             ],
             [
              1,
              "#f0f921"
             ]
            ],
            "type": "heatmap"
           }
          ],
          "heatmapgl": [
           {
            "colorbar": {
             "outlinewidth": 0,
             "ticks": ""
            },
            "colorscale": [
             [
              0,
              "#0d0887"
             ],
             [
              0.1111111111111111,
              "#46039f"
             ],
             [
              0.2222222222222222,
              "#7201a8"
             ],
             [
              0.3333333333333333,
              "#9c179e"
             ],
             [
              0.4444444444444444,
              "#bd3786"
             ],
             [
              0.5555555555555556,
              "#d8576b"
             ],
             [
              0.6666666666666666,
              "#ed7953"
             ],
             [
              0.7777777777777778,
              "#fb9f3a"
             ],
             [
              0.8888888888888888,
              "#fdca26"
             ],
             [
              1,
              "#f0f921"
             ]
            ],
            "type": "heatmapgl"
           }
          ],
          "histogram": [
           {
            "marker": {
             "pattern": {
              "fillmode": "overlay",
              "size": 10,
              "solidity": 0.2
             }
            },
            "type": "histogram"
           }
          ],
          "histogram2d": [
           {
            "colorbar": {
             "outlinewidth": 0,
             "ticks": ""
            },
            "colorscale": [
             [
              0,
              "#0d0887"
             ],
             [
              0.1111111111111111,
              "#46039f"
             ],
             [
              0.2222222222222222,
              "#7201a8"
             ],
             [
              0.3333333333333333,
              "#9c179e"
             ],
             [
              0.4444444444444444,
              "#bd3786"
             ],
             [
              0.5555555555555556,
              "#d8576b"
             ],
             [
              0.6666666666666666,
              "#ed7953"
             ],
             [
              0.7777777777777778,
              "#fb9f3a"
             ],
             [
              0.8888888888888888,
              "#fdca26"
             ],
             [
              1,
              "#f0f921"
             ]
            ],
            "type": "histogram2d"
           }
          ],
          "histogram2dcontour": [
           {
            "colorbar": {
             "outlinewidth": 0,
             "ticks": ""
            },
            "colorscale": [
             [
              0,
              "#0d0887"
             ],
             [
              0.1111111111111111,
              "#46039f"
             ],
             [
              0.2222222222222222,
              "#7201a8"
             ],
             [
              0.3333333333333333,
              "#9c179e"
             ],
             [
              0.4444444444444444,
              "#bd3786"
             ],
             [
              0.5555555555555556,
              "#d8576b"
             ],
             [
              0.6666666666666666,
              "#ed7953"
             ],
             [
              0.7777777777777778,
              "#fb9f3a"
             ],
             [
              0.8888888888888888,
              "#fdca26"
             ],
             [
              1,
              "#f0f921"
             ]
            ],
            "type": "histogram2dcontour"
           }
          ],
          "mesh3d": [
           {
            "colorbar": {
             "outlinewidth": 0,
             "ticks": ""
            },
            "type": "mesh3d"
           }
          ],
          "parcoords": [
           {
            "line": {
             "colorbar": {
              "outlinewidth": 0,
              "ticks": ""
             }
            },
            "type": "parcoords"
           }
          ],
          "pie": [
           {
            "automargin": true,
            "type": "pie"
           }
          ],
          "scatter": [
           {
            "fillpattern": {
             "fillmode": "overlay",
             "size": 10,
             "solidity": 0.2
            },
            "type": "scatter"
           }
          ],
          "scatter3d": [
           {
            "line": {
             "colorbar": {
              "outlinewidth": 0,
              "ticks": ""
             }
            },
            "marker": {
             "colorbar": {
              "outlinewidth": 0,
              "ticks": ""
             }
            },
            "type": "scatter3d"
           }
          ],
          "scattercarpet": [
           {
            "marker": {
             "colorbar": {
              "outlinewidth": 0,
              "ticks": ""
             }
            },
            "type": "scattercarpet"
           }
          ],
          "scattergeo": [
           {
            "marker": {
             "colorbar": {
              "outlinewidth": 0,
              "ticks": ""
             }
            },
            "type": "scattergeo"
           }
          ],
          "scattergl": [
           {
            "marker": {
             "colorbar": {
              "outlinewidth": 0,
              "ticks": ""
             }
            },
            "type": "scattergl"
           }
          ],
          "scattermapbox": [
           {
            "marker": {
             "colorbar": {
              "outlinewidth": 0,
              "ticks": ""
             }
            },
            "type": "scattermapbox"
           }
          ],
          "scatterpolar": [
           {
            "marker": {
             "colorbar": {
              "outlinewidth": 0,
              "ticks": ""
             }
            },
            "type": "scatterpolar"
           }
          ],
          "scatterpolargl": [
           {
            "marker": {
             "colorbar": {
              "outlinewidth": 0,
              "ticks": ""
             }
            },
            "type": "scatterpolargl"
           }
          ],
          "scatterternary": [
           {
            "marker": {
             "colorbar": {
              "outlinewidth": 0,
              "ticks": ""
             }
            },
            "type": "scatterternary"
           }
          ],
          "surface": [
           {
            "colorbar": {
             "outlinewidth": 0,
             "ticks": ""
            },
            "colorscale": [
             [
              0,
              "#0d0887"
             ],
             [
              0.1111111111111111,
              "#46039f"
             ],
             [
              0.2222222222222222,
              "#7201a8"
             ],
             [
              0.3333333333333333,
              "#9c179e"
             ],
             [
              0.4444444444444444,
              "#bd3786"
             ],
             [
              0.5555555555555556,
              "#d8576b"
             ],
             [
              0.6666666666666666,
              "#ed7953"
             ],
             [
              0.7777777777777778,
              "#fb9f3a"
             ],
             [
              0.8888888888888888,
              "#fdca26"
             ],
             [
              1,
              "#f0f921"
             ]
            ],
            "type": "surface"
           }
          ],
          "table": [
           {
            "cells": {
             "fill": {
              "color": "#EBF0F8"
             },
             "line": {
              "color": "white"
             }
            },
            "header": {
             "fill": {
              "color": "#C8D4E3"
             },
             "line": {
              "color": "white"
             }
            },
            "type": "table"
           }
          ]
         },
         "layout": {
          "annotationdefaults": {
           "arrowcolor": "#2a3f5f",
           "arrowhead": 0,
           "arrowwidth": 1
          },
          "autotypenumbers": "strict",
          "coloraxis": {
           "colorbar": {
            "outlinewidth": 0,
            "ticks": ""
           }
          },
          "colorscale": {
           "diverging": [
            [
             0,
             "#8e0152"
            ],
            [
             0.1,
             "#c51b7d"
            ],
            [
             0.2,
             "#de77ae"
            ],
            [
             0.3,
             "#f1b6da"
            ],
            [
             0.4,
             "#fde0ef"
            ],
            [
             0.5,
             "#f7f7f7"
            ],
            [
             0.6,
             "#e6f5d0"
            ],
            [
             0.7,
             "#b8e186"
            ],
            [
             0.8,
             "#7fbc41"
            ],
            [
             0.9,
             "#4d9221"
            ],
            [
             1,
             "#276419"
            ]
           ],
           "sequential": [
            [
             0,
             "#0d0887"
            ],
            [
             0.1111111111111111,
             "#46039f"
            ],
            [
             0.2222222222222222,
             "#7201a8"
            ],
            [
             0.3333333333333333,
             "#9c179e"
            ],
            [
             0.4444444444444444,
             "#bd3786"
            ],
            [
             0.5555555555555556,
             "#d8576b"
            ],
            [
             0.6666666666666666,
             "#ed7953"
            ],
            [
             0.7777777777777778,
             "#fb9f3a"
            ],
            [
             0.8888888888888888,
             "#fdca26"
            ],
            [
             1,
             "#f0f921"
            ]
           ],
           "sequentialminus": [
            [
             0,
             "#0d0887"
            ],
            [
             0.1111111111111111,
             "#46039f"
            ],
            [
             0.2222222222222222,
             "#7201a8"
            ],
            [
             0.3333333333333333,
             "#9c179e"
            ],
            [
             0.4444444444444444,
             "#bd3786"
            ],
            [
             0.5555555555555556,
             "#d8576b"
            ],
            [
             0.6666666666666666,
             "#ed7953"
            ],
            [
             0.7777777777777778,
             "#fb9f3a"
            ],
            [
             0.8888888888888888,
             "#fdca26"
            ],
            [
             1,
             "#f0f921"
            ]
           ]
          },
          "colorway": [
           "#636efa",
           "#EF553B",
           "#00cc96",
           "#ab63fa",
           "#FFA15A",
           "#19d3f3",
           "#FF6692",
           "#B6E880",
           "#FF97FF",
           "#FECB52"
          ],
          "font": {
           "color": "#2a3f5f"
          },
          "geo": {
           "bgcolor": "white",
           "lakecolor": "white",
           "landcolor": "#E5ECF6",
           "showlakes": true,
           "showland": true,
           "subunitcolor": "white"
          },
          "hoverlabel": {
           "align": "left"
          },
          "hovermode": "closest",
          "mapbox": {
           "style": "light"
          },
          "paper_bgcolor": "white",
          "plot_bgcolor": "#E5ECF6",
          "polar": {
           "angularaxis": {
            "gridcolor": "white",
            "linecolor": "white",
            "ticks": ""
           },
           "bgcolor": "#E5ECF6",
           "radialaxis": {
            "gridcolor": "white",
            "linecolor": "white",
            "ticks": ""
           }
          },
          "scene": {
           "xaxis": {
            "backgroundcolor": "#E5ECF6",
            "gridcolor": "white",
            "gridwidth": 2,
            "linecolor": "white",
            "showbackground": true,
            "ticks": "",
            "zerolinecolor": "white"
           },
           "yaxis": {
            "backgroundcolor": "#E5ECF6",
            "gridcolor": "white",
            "gridwidth": 2,
            "linecolor": "white",
            "showbackground": true,
            "ticks": "",
            "zerolinecolor": "white"
           },
           "zaxis": {
            "backgroundcolor": "#E5ECF6",
            "gridcolor": "white",
            "gridwidth": 2,
            "linecolor": "white",
            "showbackground": true,
            "ticks": "",
            "zerolinecolor": "white"
           }
          },
          "shapedefaults": {
           "line": {
            "color": "#2a3f5f"
           }
          },
          "ternary": {
           "aaxis": {
            "gridcolor": "white",
            "linecolor": "white",
            "ticks": ""
           },
           "baxis": {
            "gridcolor": "white",
            "linecolor": "white",
            "ticks": ""
           },
           "bgcolor": "#E5ECF6",
           "caxis": {
            "gridcolor": "white",
            "linecolor": "white",
            "ticks": ""
           }
          },
          "title": {
           "x": 0.05
          },
          "xaxis": {
           "automargin": true,
           "gridcolor": "white",
           "linecolor": "white",
           "ticks": "",
           "title": {
            "standoff": 15
           },
           "zerolinecolor": "white",
           "zerolinewidth": 2
          },
          "yaxis": {
           "automargin": true,
           "gridcolor": "white",
           "linecolor": "white",
           "ticks": "",
           "title": {
            "standoff": 15
           },
           "zerolinecolor": "white",
           "zerolinewidth": 2
          }
         }
        },
        "title": {
         "text": "Relación entre $x$ y $y$"
        },
        "xaxis": {
         "anchor": "y",
         "domain": [
          0,
          1
         ],
         "title": {
          "text": "abscisas"
         }
        },
        "yaxis": {
         "anchor": "x",
         "domain": [
          0,
          1
         ],
         "title": {
          "text": "ordenadas"
         }
        }
       }
      }
     },
     "metadata": {},
     "output_type": "display_data"
    }
   ],
   "source": [
    "import pandas as pd \n",
    "import plotly.express as px\n",
    "#fig = px.line(tabla,x = tabla.keys()[0], y = tabla.keys()[1], title=r'Relación entre $x$ y $y$')\n",
    "\n",
    "fig = px.scatter(tabla,x = tabla.keys()[0], y = tabla.keys()[1], title=r'Relación entre $x$ y $y$')\n",
    "\n",
    "fig.show()\n",
    "\n",
    "fig.write_html('relacion_entre_x_e_y.html', auto_open=True)"
   ]
  },
  {
   "attachments": {},
   "cell_type": "markdown",
   "id": "bf8d11a1",
   "metadata": {
    "slideshow": {
     "slide_type": "slide"
    }
   },
   "source": [
    "## Mapa conceptual de la clase elaborado en CMapTools"
   ]
  },
  {
   "attachments": {},
   "cell_type": "markdown",
   "id": "aac04d00",
   "metadata": {
    "slideshow": {
     "slide_type": "slide"
    }
   },
   "source": [
    "<img src = ''>"
   ]
  },
  {
   "attachments": {},
   "cell_type": "markdown",
   "id": "740f3401",
   "metadata": {
    "slideshow": {
     "slide_type": "slide"
    }
   },
   "source": [
    "# Componente de manejo de calculadora Casio asociado al objetivo de aprendizaje de esta clase"
   ]
  },
  {
   "attachments": {},
   "cell_type": "markdown",
   "id": "8eecb2d9",
   "metadata": {
    "slideshow": {
     "slide_type": "slide"
    }
   },
   "source": [
    "## Descripción de la calculadora Casio  \n",
    "\n"
   ]
  },
  {
   "cell_type": "code",
   "execution_count": null,
   "id": "3cd72835",
   "metadata": {
    "slideshow": {
     "slide_type": "slide"
    }
   },
   "outputs": [],
   "source": []
  },
  {
   "cell_type": "code",
   "execution_count": null,
   "id": "d8a111c4",
   "metadata": {
    "slideshow": {
     "slide_type": "slide"
    }
   },
   "outputs": [],
   "source": []
  },
  {
   "attachments": {},
   "cell_type": "markdown",
   "id": "8a6f7ef9",
   "metadata": {
    "slideshow": {
     "slide_type": "slide"
    }
   },
   "source": [
    "## Tareas para realizar antes de la clase"
   ]
  },
  {
   "attachments": {},
   "cell_type": "markdown",
   "id": "90cae469",
   "metadata": {
    "slideshow": {
     "slide_type": "slide"
    }
   },
   "source": [
    "1. Ver los videos respectivos []()\n",
    "2. Memorizar las definiciones []()\n",
    "3. Sintetizar o resumir la información en mapas conceptuales. []()\n",
    "4. Tareas para incentivar el uso de la calculadora Casio Para ingenieros y licenciados. "
   ]
  },
  {
   "attachments": {},
   "cell_type": "markdown",
   "id": "fccb447c",
   "metadata": {
    "slideshow": {
     "slide_type": "slide"
    }
   },
   "source": [
    "# Tareas para realizar en clase"
   ]
  },
  {
   "attachments": {},
   "cell_type": "markdown",
   "id": "e5c48edf",
   "metadata": {
    "slideshow": {
     "slide_type": "slide"
    }
   },
   "source": [
    "* Modelación matemática \n",
    "* Trabajo en equipos"
   ]
  },
  {
   "attachments": {},
   "cell_type": "markdown",
   "id": "8b6b0112",
   "metadata": {
    "slideshow": {
     "slide_type": "slide"
    }
   },
   "source": [
    "# Tareas para realizar después de la realización de la clase"
   ]
  },
  {
   "attachments": {},
   "cell_type": "markdown",
   "id": "947460e3",
   "metadata": {
    "slideshow": {
     "slide_type": "slide"
    }
   },
   "source": [
    "* Actividades de memorización: \n",
    "  - escucha reiterada de grabaciones de formulas y resultados científicos. \n",
    "  - relectura de notas. \n",
    "  - ejercicios de mayor complejidad.\n",
    "\n",
    "\n",
    "### No olvide asignar las tareas a los estudiantes a través de Google Colab y compartiendole el cuaderno de asignación a su correo institucional con fecha de entrega. [Google Colab](https://colab.research.google.com/?hl=es)   \n",
    "  "
   ]
  },
  {
   "attachments": {},
   "cell_type": "markdown",
   "id": "d34defb9",
   "metadata": {
    "slideshow": {
     "slide_type": "slide"
    }
   },
   "source": [
    "## Asignación individual de tareas semanales "
   ]
  },
  {
   "attachments": {},
   "cell_type": "markdown",
   "id": "0406f442",
   "metadata": {
    "slideshow": {
     "slide_type": "slide"
    }
   },
   "source": []
  },
  {
   "attachments": {},
   "cell_type": "markdown",
   "id": "8d41fe58",
   "metadata": {
    "slideshow": {
     "slide_type": "slide"
    }
   },
   "source": [
    "# Horario de clases del profesor Marco\n",
    "\n",
    "* Martes y jueves de 10 a 12: Fundamentos de las matemáticas\n",
    "* Martes y jueves de 2 a 4 PM: Fundamentos de la aritmética\n",
    "\n",
    "* Didáctica de la aritmética: Miércoles de 8 - 12\n",
    "\n"
   ]
  },
  {
   "attachments": {},
   "cell_type": "markdown",
   "id": "ae114e14",
   "metadata": {
    "slideshow": {
     "slide_type": "slide"
    }
   },
   "source": [
    "# Horarios de monitoría y asesoría"
   ]
  },
  {
   "attachments": {},
   "cell_type": "markdown",
   "id": "b1db4b6c",
   "metadata": {
    "slideshow": {
     "slide_type": "slide"
    }
   },
   "source": [
    "## Monitor Manuel"
   ]
  },
  {
   "attachments": {},
   "cell_type": "markdown",
   "id": "39559692",
   "metadata": {
    "slideshow": {
     "slide_type": "slide"
    }
   },
   "source": [
    "Martes y jueves de 8 - 12  \n",
    "Miércoles 10 - 12 y de 2 a 4 PM  \n",
    "Sábado: 8 - 12"
   ]
  },
  {
   "attachments": {},
   "cell_type": "markdown",
   "id": "935a5567",
   "metadata": {
    "slideshow": {
     "slide_type": "slide"
    }
   },
   "source": [
    "## Dificultades de aprendizaje detectados durante la clase"
   ]
  },
  {
   "attachments": {},
   "cell_type": "markdown",
   "id": "3bd7500d",
   "metadata": {
    "slideshow": {
     "slide_type": "slide"
    }
   },
   "source": []
  },
  {
   "attachments": {},
   "cell_type": "markdown",
   "id": "fb9402bb",
   "metadata": {
    "slideshow": {
     "slide_type": "slide"
    }
   },
   "source": [
    "## Estrategias propuestas para la solución de las dificultades de aprendizaje detectadas"
   ]
  },
  {
   "attachments": {},
   "cell_type": "markdown",
   "id": "d437294b",
   "metadata": {
    "slideshow": {
     "slide_type": "slide"
    }
   },
   "source": []
  },
  {
   "attachments": {},
   "cell_type": "markdown",
   "id": "d11570a2",
   "metadata": {
    "slideshow": {
     "slide_type": "slide"
    }
   },
   "source": []
  },
  {
   "attachments": {},
   "cell_type": "markdown",
   "id": "319f2ffa",
   "metadata": {
    "slideshow": {
     "slide_type": "slide"
    }
   },
   "source": [
    "## Grabaciones en audio para fomentar la capacidad de memorizar enunciados de teoremas y resultados científicos y la capacidad de parafrasear estos resultados. Y así desarrollar memoria muscular para los comandos comunes. \n",
    "Se dispondrá de un lugar en Vocaroo para albergar archivos de audio de fomento a la memorización, enunciación y parafraseo de los resultados científicos, propiedades, reglas, etc. \n",
    "\n",
    "[Vocaroo](https://vocaroo.com/)\n",
    "\n"
   ]
  },
  {
   "attachments": {},
   "cell_type": "markdown",
   "id": "564fa59d",
   "metadata": {
    "slideshow": {
     "slide_type": "slide"
    }
   },
   "source": [
    "### Comparta sus cuadernos y videos, evidencias de su aprendizaje [aquí](https://forms.office.com/Pages/ResponsePage.aspx?id=IefhmYRxjkmK_7KtTlPBwkanXIs1i1FEujpsZgO6dXpUMEMwTEZVMzEwVVBPTElWNVg5OVEyWUhMUy4u)"
   ]
  },
  {
   "attachments": {},
   "cell_type": "markdown",
   "id": "1a1a3e41",
   "metadata": {
    "slideshow": {
     "slide_type": "slide"
    }
   },
   "source": []
  },
  {
   "attachments": {},
   "cell_type": "markdown",
   "id": "44be6d93",
   "metadata": {
    "slideshow": {
     "slide_type": "slide"
    }
   },
   "source": [
    "# Vocabulary "
   ]
  },
  {
   "attachments": {},
   "cell_type": "markdown",
   "id": "35e2484a",
   "metadata": {
    "slideshow": {
     "slide_type": "slide"
    }
   },
   "source": [
    "1. \n",
    "2.  \n",
    "3.  \n",
    "4.  \n",
    "5.  "
   ]
  },
  {
   "attachments": {},
   "cell_type": "markdown",
   "id": "ee46cb9a",
   "metadata": {
    "slideshow": {
     "slide_type": "slide"
    }
   },
   "source": [
    "## Mapa conceptual que vincula los conceptos asoaciados al objetivo de aprendizaje"
   ]
  },
  {
   "attachments": {},
   "cell_type": "markdown",
   "id": "a6b7a17d",
   "metadata": {
    "slideshow": {
     "slide_type": "slide"
    }
   },
   "source": []
  },
  {
   "attachments": {},
   "cell_type": "markdown",
   "id": "0266e3c5",
   "metadata": {
    "slideshow": {
     "slide_type": "slide"
    }
   },
   "source": [
    "## Quiz de 20 minutos para ejercitación y adquisición de habilidades "
   ]
  },
  {
   "attachments": {},
   "cell_type": "markdown",
   "id": "3a1b127f",
   "metadata": {
    "slideshow": {
     "slide_type": "slide"
    }
   },
   "source": [
    "* Pregunta 1: \n",
    "* Pregunta 2: \n",
    "* Pregunta 3: "
   ]
  },
  {
   "attachments": {},
   "cell_type": "markdown",
   "id": "10bce0d0",
   "metadata": {
    "slideshow": {
     "slide_type": "slide"
    }
   },
   "source": [
    "## Referentes "
   ]
  },
  {
   "attachments": {},
   "cell_type": "markdown",
   "id": "1db3c468",
   "metadata": {
    "slideshow": {
     "slide_type": "slide"
    }
   },
   "source": [
    "* [stewart precálculo](https://udeaeduco-my.sharepoint.com/:b:/g/personal/marco_canas_udea_edu_co/ERHIq62I6qFNrmxy6LZb8ZMBci7kUsyNME1nIh9yCBMJ_w?e=0zMSla)  \n",
    "\n",
    "* [stewart cálculo](https://udeaeduco-my.sharepoint.com/:b:/g/personal/marco_canas_udea_edu_co/EZgXZjAp8QxPqOAim2hs6LcBNPLGjSHf-xwYnUVYkwa04w?e=RZdTCy)  \n",
    "\n",
    "* [larson](https://udeaeduco-my.sharepoint.com/:b:/g/personal/marco_canas_udea_edu_co/ES71ChFeO9ZDhW3TwC5Ijk8BjxUK3Pdqz_fjHxTTFAfIAg?e=VDEjfu)\n",
    "\n",
    "* [uzcategui](https://udeaeduco-my.sharepoint.com/:b:/g/personal/marco_canas_udea_edu_co/ETDikm-lVl1Or8XoEo9oyh0BEti9Zs8le-f0D-dBdtZmbA?e=bBsoyQ)\n",
    "\n",
    "* [Cálculo de Purcell](https://udeaeduco-my.sharepoint.com/:b:/g/personal/marco_canas_udea_edu_co/ES60UB4h-QFFqqRQUFmkpWcBIgoLBJeqTfZjNajWNWSeJA?e=9NxjKJ)\n",
    "\n",
    "* [Recomendación de la UNESCO sobre ciencia abierta](https://unesdoc.unesco.org/ark:/48223/pf0000379949_spa)\n",
    "\n",
    "* [Fórmulas más comunes en latex](https://wiki.geogebra.org/es/C%C3%B3digo_LaTeX_para_las_f%C3%B3rmulas_m%C3%A1s_comunes) \n",
    "\n",
    "* [chatGPT](https://openai.com/blog/chatgpt)  \n",
    "\n",
    "* Géron, A. (2017). Hands-on machine learning with scikit-learn and tensorflow: Concepts. Tools, and Techniques to build intelligent systems.[Geron, Aurelien. Hands on Machine Learning](https://udeaeduco-my.sharepoint.com/:b:/g/personal/marco_canas_udea_edu_co/Ecet27yjQzZIlT1Y_Bc2erkBUhbeYuIe6HG8i1FYZRlZww?e=dlvZ4v)  \n",
    "\n",
    "* McKinney, W. (2012). Python for data analysis: Data wrangling with Pandas, NumPy, and IPython. \" O'Reilly Media, Inc.\".[Wes Mackinney. ](https://udeaeduco-my.sharepoint.com/:b:/g/personal/marco_canas_udea_edu_co/EVbi5JIeBl9ErbiUnZfGe8YBhNTnZ8sxTK5hjIOPK4UpGw?e=fFclah)"
   ]
  },
  {
   "attachments": {},
   "cell_type": "markdown",
   "id": "6b9e56a8",
   "metadata": {
    "slideshow": {
     "slide_type": "slide"
    }
   },
   "source": [
    "### [Evaluamos al profesor Marco Cañas Aquí](https://forms.office.com/Pages/ResponsePage.aspx?id=IefhmYRxjkmK_7KtTlPBwkanXIs1i1FEujpsZgO6dXpUREJPV1kxUk1JV1ozTFJIQVNIQjY5WEY3US4u)"
   ]
  },
  {
   "attachments": {},
   "cell_type": "markdown",
   "id": "071afa04",
   "metadata": {
    "slideshow": {
     "slide_type": "slide"
    }
   },
   "source": [
    "## [Evaluación luego de alcanzar estos objetivos de aprendizaje]()"
   ]
  },
  {
   "attachments": {},
   "cell_type": "markdown",
   "id": "10f43536",
   "metadata": {
    "slideshow": {
     "slide_type": "slide"
    }
   },
   "source": [
    "### Continue su aprendizaje en la siguiente clase a través del siguiente [vínculo]()"
   ]
  },
  {
   "attachments": {},
   "cell_type": "markdown",
   "id": "af751e30",
   "metadata": {
    "slideshow": {
     "slide_type": "slide"
    }
   },
   "source": [
    "# Conjeturas pedagógicas fruto de la aplicación del modelo de aprendizaje invertido y del enfoque hacia la ciencia de datos con python\n",
    "\n",
    "1. Todo cálculo o resultado debe ser interpretado en una línea markdown del cuaderno Jupyter, inmediatamente después de la enunciación del resultado y después de la presentación de una tabla o gráfico bidimensional, de tal menera que el estudiante explicite la comprensión verbal del resultado y las inferencias o estrategias que este resultado le sugieren.  \n",
    "\n",
    "2. Debo colocar las conjeturas pedagógicas, que el uso en el aula de [ChatGPT](https://openai.com/blog/chatgpt/) traiga para la enseñanza y el aprendizaje de las matemáticas. \n",
    "\n",
    "3. Promover ciencia abierta en clase de matemáticas puede ser pidiendo a los estudiantes, tomar nota en clase pero en cuadernos Jupyter y entregar siempre al final de cada clase su cuaderno con todas las notas y experimentaciones de clase replicadas. "
   ]
  },
  {
   "attachments": {},
   "cell_type": "markdown",
   "id": "53cc9115",
   "metadata": {
    "slideshow": {
     "slide_type": "slide"
    }
   },
   "source": [
    "## Agradecimientos  \n",
    "\n",
    "Doy gracias a Dios por la vida de mi Hijo Joseph Cañas Osorio y la madurez que ha alcanzado.\n",
    "\n",
    "Y a mi esposa Yasmira por su apoyo, orientación y acompañamiento. "
   ]
  }
 ],
 "metadata": {
  "celltoolbar": "Slideshow",
  "kernelspec": {
   "display_name": "Python 3 (ipykernel)",
   "language": "python",
   "name": "python3"
  },
  "language_info": {
   "codemirror_mode": {
    "name": "ipython",
    "version": 3
   },
   "file_extension": ".py",
   "mimetype": "text/x-python",
   "name": "python",
   "nbconvert_exporter": "python",
   "pygments_lexer": "ipython3",
   "version": "3.10.12"
  },
  "rise": {
   "enable_chalkboard": true,
   "theme": "sky",
   "transition": "zoom"
  }
 },
 "nbformat": 4,
 "nbformat_minor": 5
}
