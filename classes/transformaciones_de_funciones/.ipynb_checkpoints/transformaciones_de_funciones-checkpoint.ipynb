{
 "cells": [
  {
   "cell_type": "markdown",
   "id": "8b4690cb",
   "metadata": {},
   "source": [
    "<table align=\"left\">\n",
    "  <td>\n",
    "    <a href=\"https://colab.research.google.com/github/marco-canas/1_algebra/blob/main/classes/ciencia_datos/6_class_march_15_quiz_1/5_class_march_15.ipynb\" target=\"_parent\"><img src=\"https://colab.research.google.com/assets/colab-badge.svg\" alt=\"Open In Colab\"/></a>\n",
    "  </td>\n",
    "</table>"
   ]
  },
  {
   "cell_type": "markdown",
   "id": "800e6535",
   "metadata": {},
   "source": [
    "### [Video de apoyo]()"
   ]
  },
  {
   "cell_type": "markdown",
   "id": "78f77eb0",
   "metadata": {},
   "source": [
    "# Transformaciones de funciones"
   ]
  },
  {
   "cell_type": "markdown",
   "id": "1f8708bb",
   "metadata": {},
   "source": [
    "## 1. Movimientos verticales del gráfico de una función\n",
    "\n",
    "Animación con deslizador para que el estudiante aprenda transformaciones del gráfico de funciones"
   ]
  },
  {
   "cell_type": "code",
   "execution_count": null,
   "id": "913c7dce",
   "metadata": {},
   "outputs": [],
   "source": []
  },
  {
   "cell_type": "markdown",
   "id": "f3ee0559",
   "metadata": {},
   "source": [
    "## 2. Movimientos horizontales del gráfico de una función"
   ]
  },
  {
   "cell_type": "code",
   "execution_count": null,
   "id": "240ba61c",
   "metadata": {},
   "outputs": [],
   "source": []
  },
  {
   "cell_type": "markdown",
   "id": "2f443302",
   "metadata": {},
   "source": [
    "## 3. Movimientos dilatación Vertical del gráfico de una función"
   ]
  },
  {
   "cell_type": "code",
   "execution_count": null,
   "id": "8136b2dd",
   "metadata": {},
   "outputs": [],
   "source": []
  },
  {
   "cell_type": "markdown",
   "id": "7dbf7bf5",
   "metadata": {},
   "source": [
    "## 4. Movimientos dilatación horizontal del gráfico de una función"
   ]
  },
  {
   "cell_type": "code",
   "execution_count": null,
   "id": "aeda80e6",
   "metadata": {},
   "outputs": [],
   "source": []
  },
  {
   "cell_type": "code",
   "execution_count": null,
   "id": "5ede4c18",
   "metadata": {},
   "outputs": [],
   "source": []
  },
  {
   "cell_type": "code",
   "execution_count": null,
   "id": "93d08df4",
   "metadata": {},
   "outputs": [],
   "source": []
  },
  {
   "cell_type": "code",
   "execution_count": null,
   "id": "98720ba1",
   "metadata": {},
   "outputs": [],
   "source": []
  }
 ],
 "metadata": {
  "kernelspec": {
   "display_name": "Python 3 (ipykernel)",
   "language": "python",
   "name": "python3"
  },
  "language_info": {
   "codemirror_mode": {
    "name": "ipython",
    "version": 3
   },
   "file_extension": ".py",
   "mimetype": "text/x-python",
   "name": "python",
   "nbconvert_exporter": "python",
   "pygments_lexer": "ipython3",
   "version": "3.9.13"
  }
 },
 "nbformat": 4,
 "nbformat_minor": 5
}
