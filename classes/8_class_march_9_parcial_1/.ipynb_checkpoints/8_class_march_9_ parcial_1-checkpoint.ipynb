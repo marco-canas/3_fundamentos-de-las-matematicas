{
 "cells": [
  {
   "cell_type": "markdown",
   "id": "36708712",
   "metadata": {},
   "source": [
    "<table align=\"left\">\n",
    "  <td>\n",
    "    <a href=\"https://colab.research.google.com/github/marco-canas/3_fundamentos-de-las-matematicas/blob/main/clases/6_class_feb_28_funciones_polinomicas/6_class_feb_28_funciones_polinomicas.ipynb\" target=\"_parent\"><img src=\"https://colab.research.google.com/assets/colab-badge.svg\" alt=\"Open In Colab\"/></a>\n",
    "  </td>\n",
    "</table>"
   ]
  },
  {
   "cell_type": "markdown",
   "id": "b01646e4",
   "metadata": {},
   "source": []
  },
  {
   "cell_type": "markdown",
   "id": "cea41678",
   "metadata": {},
   "source": [
    "# Clase 9 del 9 de marzo. ohhhh qué casualidad. "
   ]
  },
  {
   "cell_type": "markdown",
   "id": "b280b2c8",
   "metadata": {},
   "source": [
    "## Acuerdo evaluativo\n",
    "\n",
    "En el primer parcial se evalun las clase 1 a 5.  Se realiza el 9 de marzo y dura 1.5 horas(duración 1:30). "
   ]
  },
  {
   "cell_type": "markdown",
   "id": "7752e213",
   "metadata": {},
   "source": [
    "Modelo pedagógico de enseñanza: [Aula invertida](https://www3.gobiernodecanarias.org/medusa/ecoescuela/pedagotic/files/2018/11/flipped-classroom.pdf)\n",
    "\n"
   ]
  },
  {
   "cell_type": "code",
   "execution_count": null,
   "id": "8b048b7f",
   "metadata": {},
   "outputs": [],
   "source": []
  },
  {
   "cell_type": "code",
   "execution_count": null,
   "id": "695b9e12",
   "metadata": {},
   "outputs": [],
   "source": []
  },
  {
   "cell_type": "code",
   "execution_count": null,
   "id": "0e773871",
   "metadata": {},
   "outputs": [],
   "source": []
  },
  {
   "cell_type": "markdown",
   "id": "50142b28",
   "metadata": {},
   "source": [
    "## Referentes  \n",
    "\n",
    "* [stewart](https://udeaeduco-my.sharepoint.com/:b:/g/personal/marco_canas_udea_edu_co/EZgXZjAp8QxPqOAim2hs6LcBNPLGjSHf-xwYnUVYkwa04w?e=z1TOmD) Página 42 "
   ]
  },
  {
   "cell_type": "markdown",
   "id": "0a6fb02f",
   "metadata": {},
   "source": [
    "## [Evaluación de la clase del profesor Marco Cañas](https://forms.office.com/Pages/ResponsePage.aspx?id=IefhmYRxjkmK_7KtTlPBwkanXIs1i1FEujpsZgO6dXpUREJPV1kxUk1JV1ozTFJIQVNIQjY5WEY3US4u)"
   ]
  },
  {
   "cell_type": "markdown",
   "id": "d832a0e2",
   "metadata": {},
   "source": [
    "## Continue su aprendizaje en esta secuencia didáctica con la siguiente clase a la que puede llegar dando click [aquí]()"
   ]
  }
 ],
 "metadata": {
  "kernelspec": {
   "display_name": "Python 3 (ipykernel)",
   "language": "python",
   "name": "python3"
  },
  "language_info": {
   "codemirror_mode": {
    "name": "ipython",
    "version": 3
   },
   "file_extension": ".py",
   "mimetype": "text/x-python",
   "name": "python",
   "nbconvert_exporter": "python",
   "pygments_lexer": "ipython3",
   "version": "3.9.13"
  },
  "rise": {
   "enable_chalkboard": true,
   "theme": "sky",
   "transition": "zoom"
  }
 },
 "nbformat": 4,
 "nbformat_minor": 5
}
