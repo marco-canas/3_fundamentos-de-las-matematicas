{
 "cells": [
  {
   "cell_type": "markdown",
   "id": "f8c83612",
   "metadata": {},
   "source": []
  },
  {
   "cell_type": "markdown",
   "id": "102b1e85",
   "metadata": {},
   "source": []
  },
  {
   "cell_type": "markdown",
   "id": "7e0912f0",
   "metadata": {},
   "source": [
    "## Potenciación y radicación en $\\mathbb{R}$"
   ]
  },
  {
   "cell_type": "markdown",
   "id": "4e5699d0",
   "metadata": {},
   "source": []
  },
  {
   "cell_type": "markdown",
   "id": "e29bbdca",
   "metadata": {},
   "source": [
    "## Potenciación de exponente entero positivo"
   ]
  },
  {
   "cell_type": "markdown",
   "id": "ecdb646b",
   "metadata": {},
   "source": [
    "Sea $a \\in \\mathbb{R}^{+}$ distinto uno.   \n",
    "\n",
    "¿qué significa?\n",
    "$$ a^{n} $$\n",
    "\n",
    "cuando $n \\in \\mathbb{Z}^{+}$"
   ]
  },
  {
   "cell_type": "markdown",
   "id": "d3c1accc",
   "metadata": {},
   "source": [
    "$$ a^{n} = \\underbrace{a \\cdot a \\cdot \\cdots a}_{n \\text{ veces}} $$"
   ]
  },
  {
   "cell_type": "markdown",
   "id": "465339d4",
   "metadata": {},
   "source": [
    "## Ejemplo\n",
    "\n",
    "\n",
    "$$ 3^{2} = 3 \\cdot 3 = 9 $$"
   ]
  },
  {
   "cell_type": "markdown",
   "id": "83b317fd",
   "metadata": {},
   "source": [
    "$$ 3^{4} = 3 \\cdot 3 \\cdot 3 \\cdot 3  = 81$$"
   ]
  },
  {
   "cell_type": "markdown",
   "id": "24ee988e",
   "metadata": {},
   "source": [
    "# Potenciación de entero negativo"
   ]
  },
  {
   "cell_type": "markdown",
   "id": "f291c9d5",
   "metadata": {},
   "source": [
    "$$ a^{n} $$ cuando $n$ es un entero negativo:\n",
    "\n",
    "$$ 2^{-1}: \\text{inverso multiplicativo o recíproco} $$\n",
    "\n",
    "$$ 2^{-1} = \\frac{1}{2} = 0.5 $$"
   ]
  },
  {
   "cell_type": "code",
   "execution_count": 1,
   "id": "dd5e728b",
   "metadata": {},
   "outputs": [
    {
     "data": {
      "text/plain": [
       "0.5"
      ]
     },
     "execution_count": 1,
     "metadata": {},
     "output_type": "execute_result"
    }
   ],
   "source": [
    "2**-1"
   ]
  },
  {
   "cell_type": "markdown",
   "id": "3ef11be3",
   "metadata": {},
   "source": [
    "## [Evaluación del profesor](https://forms.office.com/Pages/ResponsePage.aspx?id=IefhmYRxjkmK_7KtTlPBwkanXIs1i1FEujpsZgO6dXpUREJPV1kxUk1JV1ozTFJIQVNIQjY5WEY3US4u)"
   ]
  },
  {
   "cell_type": "code",
   "execution_count": null,
   "id": "462956ef",
   "metadata": {},
   "outputs": [],
   "source": []
  }
 ],
 "metadata": {
  "kernelspec": {
   "display_name": "Python 3 (ipykernel)",
   "language": "python",
   "name": "python3"
  },
  "language_info": {
   "codemirror_mode": {
    "name": "ipython",
    "version": 3
   },
   "file_extension": ".py",
   "mimetype": "text/x-python",
   "name": "python",
   "nbconvert_exporter": "python",
   "pygments_lexer": "ipython3",
   "version": "3.9.13"
  }
 },
 "nbformat": 4,
 "nbformat_minor": 5
}
