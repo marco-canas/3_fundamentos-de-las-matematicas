{
 "cells": [
  {
   "cell_type": "markdown",
   "id": "7e1bd9b3",
   "metadata": {
    "slideshow": {
     "slide_type": "slide"
    }
   },
   "source": [
    "<table align=\"left\">\n",
    "  <td>\n",
    "    <a href=\"https://colab.research.google.com/github/marco-canas/3_fundamentos-de-las-matematicas/blob/main/classes/10_class_march_21/10_class_march_21.ipynb\" target=\"_parent\"><img src=\"https://colab.research.google.com/assets/colab-badge.svg\" alt=\"Open In Colab\"/></a>\n",
    "  </td>\n",
    "</table>"
   ]
  },
  {
   "cell_type": "markdown",
   "id": "0f6c74d8",
   "metadata": {
    "slideshow": {
     "slide_type": "slide"
    }
   },
   "source": [
    "## [Video de apoyo a la lectura interactiva y experimental de este cuaderno]()"
   ]
  },
  {
   "cell_type": "markdown",
   "id": "516c1f84",
   "metadata": {
    "slideshow": {
     "slide_type": "slide"
    }
   },
   "source": [
    "Mis estudiantes son la razón de mi actividad docente:\n",
    "\n",
    "<img src = 'https://github.com/marco-canas/3_fundamentos-de-las-matematicas/blob/main/classes/10_class_march_21/estacion_meteorologica_davis.png?raw=true'>"
   ]
  },
  {
   "cell_type": "markdown",
   "id": "20b24d19",
   "metadata": {
    "slideshow": {
     "slide_type": "slide"
    }
   },
   "source": [
    "# Clase 10 Marzo 21\n",
    "\n",
    "[Programa del curso de fundamentos de las matemáticas](https://udeaeduco-my.sharepoint.com/:w:/g/personal/marco_canas_udea_edu_co/EedNYSILvjFIibovhX53ASYBg7MweXJC5Zi9UlhIXyqdnQ?e=VPcLt0)"
   ]
  },
  {
   "cell_type": "markdown",
   "id": "253babac",
   "metadata": {
    "slideshow": {
     "slide_type": "slide"
    }
   },
   "source": [
    "### Modelo pedagógico de la clase: [Aula invertida](https://www3.gobiernodecanarias.org/medusa/ecoescuela/pedagotic/aprendizaje-invertido-flipped-classroom/)"
   ]
  },
  {
   "cell_type": "markdown",
   "id": "35cb6ec6",
   "metadata": {
    "slideshow": {
     "slide_type": "slide"
    }
   },
   "source": [
    "### ¿Qué es?\n",
    "\n",
    "Flipped Learning o aprendizaje invertido es un enfoque pedagógico en el que la instrucción directa se realiza fuera del aula y se utiliza el tiempo de clase para llevar a cabo actividades que impliquen el desarrollo de procesos cognitivos de mayor complejidad, en las que son necesarias la ayuda y la experiencia del docente."
   ]
  },
  {
   "cell_type": "markdown",
   "id": "72013bf1",
   "metadata": {
    "slideshow": {
     "slide_type": "slide"
    }
   },
   "source": [
    "### Objetivo de aprendizaje  \n",
    "\n",
    "1. Aprender a leer la pendiente de una recta de su gráfico \n",
    "            \n",
    "2. Aprender a leer e interpretar el intersecto con el eje vertical de la recta.             "
   ]
  },
  {
   "cell_type": "markdown",
   "id": "c57e601e",
   "metadata": {
    "slideshow": {
     "slide_type": "slide"
    }
   },
   "source": [
    "## Gráfico de representación de la pendiente y el intersecto con el eje vertical"
   ]
  },
  {
   "cell_type": "code",
   "execution_count": null,
   "id": "eaf907ab",
   "metadata": {},
   "outputs": [],
   "source": []
  },
  {
   "cell_type": "markdown",
   "id": "6cd81831",
   "metadata": {
    "slideshow": {
     "slide_type": "slide"
    }
   },
   "source": [
    "## Contenidos para leer, memorizar y sintetizar fuera de clase"
   ]
  },
  {
   "cell_type": "markdown",
   "id": "7c3ef0d1",
   "metadata": {
    "slideshow": {
     "slide_type": "slide"
    }
   },
   "source": [
    "Consideraciones teóricas y prácticas \n",
    "\n",
    "* Definiciones básicas. \n",
    "\n",
    "* Operaciones con polinomios. \n",
    "\n",
    "* Algoritmo de la división y teorema del residuo. \n",
    "\n",
    "\n",
    "* Criterios de divisibilidad de polinomios. \n",
    "\n",
    "\n",
    "* Teorema fundamental del álgebra. \n",
    "\n",
    "* Ecuaciones, lineales y cuadráticas, y sistemas de ecuaciones. \n",
    "\n",
    "* Inecuaciones "
   ]
  },
  {
   "cell_type": "markdown",
   "id": "6d19dbbd",
   "metadata": {
    "slideshow": {
     "slide_type": "slide"
    }
   },
   "source": [
    "Funciones: \n",
    "* polinómicas, \n",
    "* racionales, \n",
    "* inversas, \n",
    "* logarítmicas, \n",
    "* exponenciales, \n",
    "* trigonométricas, \n",
    "* composición de funciones, \n",
    "* funciones inyectivas, \n",
    "* biyectivas, \n",
    "* sobreyectivas, \n",
    "* simetrías de funciones, \n",
    "* función inversa, \n",
    "* algebraicas, \n",
    "* trascendentes, \n",
    "* especiales: valor Absoluto, \n",
    "* parte entera, \n",
    "* segmentada o por tramos. \n",
    "\n",
    "* Gráficas de funciones, \n",
    "* transformación de gráficas de funciones. \n",
    "\n",
    "tres semanas para este tema. "
   ]
  },
  {
   "cell_type": "markdown",
   "id": "6b7a6038",
   "metadata": {
    "slideshow": {
     "slide_type": "slide"
    }
   },
   "source": [
    "## Animación de funciones polinómicas"
   ]
  },
  {
   "cell_type": "markdown",
   "id": "72da29ba",
   "metadata": {
    "slideshow": {
     "slide_type": "slide"
    }
   },
   "source": [
    "# Las funciones lineales"
   ]
  },
  {
   "cell_type": "markdown",
   "id": "e93aff03",
   "metadata": {
    "slideshow": {
     "slide_type": "slide"
    }
   },
   "source": [
    "### Funciones constantes  \n",
    "\n",
    "Son para modelas que algo no cambia con resécto a otra cosa\n",
    "\n",
    "* Gráficos dispersión: Gráfico de puntos\n",
    "* Gráficos de líneas: Es la unión con segmentos rectílineos de los puntos. \n",
    "\n",
    "\n",
    "$$ y = 2 $$"
   ]
  },
  {
   "cell_type": "markdown",
   "id": "ea9e8494",
   "metadata": {},
   "source": [
    "$$ f(x) = 2 $$"
   ]
  },
  {
   "cell_type": "code",
   "execution_count": null,
   "id": "ddfa8b04",
   "metadata": {},
   "outputs": [],
   "source": []
  },
  {
   "cell_type": "markdown",
   "id": "10de7a76",
   "metadata": {
    "slideshow": {
     "slide_type": "slide"
    }
   },
   "source": [
    "### Situación problemática para modelar"
   ]
  },
  {
   "cell_type": "code",
   "execution_count": 12,
   "id": "bd201a8e",
   "metadata": {
    "slideshow": {
     "slide_type": "slide"
    }
   },
   "outputs": [
    {
     "data": {
      "application/vnd.jupyter.widget-view+json": {
       "model_id": "b7890201acf4465ead6e17009d22eb9d",
       "version_major": 2,
       "version_minor": 0
      },
      "text/plain": [
       "interactive(children=(IntSlider(value=0, description='m', max=0, min=-1), Output()), _dom_classes=('widget-int…"
      ]
     },
     "metadata": {},
     "output_type": "display_data"
    },
    {
     "data": {
      "text/plain": [
       "<function __main__.graficar_funcion_lineal(m=0)>"
      ]
     },
     "execution_count": 12,
     "metadata": {},
     "output_type": "execute_result"
    }
   ],
   "source": [
    "import numpy as np \n",
    "import matplotlib.pyplot as plt \n",
    "from ipywidgets import interact \n",
    "\n",
    "\n",
    "def graficar_funcion_lineal(m = 0): \n",
    "    Tiempo = np.array([0, 1, 2, 3, 4, 5, 6, 7, 8, 9])\n",
    "    Temperatura = np.array([38, 37, 36, 35, 34, 33, 32, 31, 30, 29])\n",
    "    plt.plot(Tiempo, Temperatura, 'ro')\n",
    "    punto1 = [0,36]\n",
    "    punto2 = [0,40]\n",
    "    x_coords, y_coords = zip(punto1, punto2)\n",
    "    plt.plot(x_coords, y_coords, 'g--')\n",
    "    plt.grid() \n",
    "    plt.xticks(np.arange(0,10, 1))\n",
    "    plt.yticks(np.arange(29,39, 1))\n",
    "    \n",
    "    \n",
    "    \n",
    "\n",
    "    \n",
    "interact(graficar_funcion_lineal, m = (-1, 0, 1))    \n"
   ]
  },
  {
   "cell_type": "markdown",
   "id": "5e1983bd",
   "metadata": {
    "slideshow": {
     "slide_type": "slide"
    }
   },
   "source": [
    "$$m = \\frac{y_{2} - y_{1}}{x_{2} - x_{2}} = \\frac{\\text{lo que asciende}}{\\text{lo que avanza}}$$"
   ]
  },
  {
   "cell_type": "markdown",
   "id": "5f3952e0",
   "metadata": {
    "slideshow": {
     "slide_type": "slide"
    }
   },
   "source": [
    "## Curiosidades\n",
    "\n",
    "* Las rectas verticales no son funciones de $x$. ¿Por qué?\n",
    "\n",
    "* Las funciones constantes son funciones polinómicas de grado cero. \n",
    "\n",
    "$$ f(x) = 38x^{0} $$\n",
    "\n",
    "* El intersecto con el eje $y$ es la condición inicial. \n",
    "\n",
    "* Siempre que la tasa de crecimiento sea constante, el gráfico es lineal. "
   ]
  },
  {
   "cell_type": "markdown",
   "id": "d0b67ec9",
   "metadata": {
    "slideshow": {
     "slide_type": "slide"
    }
   },
   "source": [
    "# Gráfica con plotly"
   ]
  },
  {
   "cell_type": "code",
   "execution_count": null,
   "id": "e5b32bc1",
   "metadata": {
    "slideshow": {
     "slide_type": "slide"
    }
   },
   "outputs": [],
   "source": []
  },
  {
   "cell_type": "markdown",
   "id": "2785191a",
   "metadata": {
    "slideshow": {
     "slide_type": "slide"
    }
   },
   "source": [
    "# Gráfica con animation of matplotlib"
   ]
  },
  {
   "cell_type": "markdown",
   "id": "818db405",
   "metadata": {
    "slideshow": {
     "slide_type": "slide"
    }
   },
   "source": [
    "### Animation\n",
    "The easiest way to make a live animation in Matplotlib is to use one of the Animation classes."
   ]
  },
  {
   "cell_type": "code",
   "execution_count": 20,
   "id": "b55252ca",
   "metadata": {
    "slideshow": {
     "slide_type": "slide"
    }
   },
   "outputs": [],
   "source": []
  },
  {
   "cell_type": "code",
   "execution_count": 23,
   "id": "fec053e5",
   "metadata": {
    "slideshow": {
     "slide_type": "slide"
    }
   },
   "outputs": [
    {
     "data": {
      "application/javascript": [
       "/* Put everything inside the global mpl namespace */\n",
       "/* global mpl */\n",
       "window.mpl = {};\n",
       "\n",
       "mpl.get_websocket_type = function () {\n",
       "    if (typeof WebSocket !== 'undefined') {\n",
       "        return WebSocket;\n",
       "    } else if (typeof MozWebSocket !== 'undefined') {\n",
       "        return MozWebSocket;\n",
       "    } else {\n",
       "        alert(\n",
       "            'Your browser does not have WebSocket support. ' +\n",
       "                'Please try Chrome, Safari or Firefox ≥ 6. ' +\n",
       "                'Firefox 4 and 5 are also supported but you ' +\n",
       "                'have to enable WebSockets in about:config.'\n",
       "        );\n",
       "    }\n",
       "};\n",
       "\n",
       "mpl.figure = function (figure_id, websocket, ondownload, parent_element) {\n",
       "    this.id = figure_id;\n",
       "\n",
       "    this.ws = websocket;\n",
       "\n",
       "    this.supports_binary = this.ws.binaryType !== undefined;\n",
       "\n",
       "    if (!this.supports_binary) {\n",
       "        var warnings = document.getElementById('mpl-warnings');\n",
       "        if (warnings) {\n",
       "            warnings.style.display = 'block';\n",
       "            warnings.textContent =\n",
       "                'This browser does not support binary websocket messages. ' +\n",
       "                'Performance may be slow.';\n",
       "        }\n",
       "    }\n",
       "\n",
       "    this.imageObj = new Image();\n",
       "\n",
       "    this.context = undefined;\n",
       "    this.message = undefined;\n",
       "    this.canvas = undefined;\n",
       "    this.rubberband_canvas = undefined;\n",
       "    this.rubberband_context = undefined;\n",
       "    this.format_dropdown = undefined;\n",
       "\n",
       "    this.image_mode = 'full';\n",
       "\n",
       "    this.root = document.createElement('div');\n",
       "    this.root.setAttribute('style', 'display: inline-block');\n",
       "    this._root_extra_style(this.root);\n",
       "\n",
       "    parent_element.appendChild(this.root);\n",
       "\n",
       "    this._init_header(this);\n",
       "    this._init_canvas(this);\n",
       "    this._init_toolbar(this);\n",
       "\n",
       "    var fig = this;\n",
       "\n",
       "    this.waiting = false;\n",
       "\n",
       "    this.ws.onopen = function () {\n",
       "        fig.send_message('supports_binary', { value: fig.supports_binary });\n",
       "        fig.send_message('send_image_mode', {});\n",
       "        if (fig.ratio !== 1) {\n",
       "            fig.send_message('set_device_pixel_ratio', {\n",
       "                device_pixel_ratio: fig.ratio,\n",
       "            });\n",
       "        }\n",
       "        fig.send_message('refresh', {});\n",
       "    };\n",
       "\n",
       "    this.imageObj.onload = function () {\n",
       "        if (fig.image_mode === 'full') {\n",
       "            // Full images could contain transparency (where diff images\n",
       "            // almost always do), so we need to clear the canvas so that\n",
       "            // there is no ghosting.\n",
       "            fig.context.clearRect(0, 0, fig.canvas.width, fig.canvas.height);\n",
       "        }\n",
       "        fig.context.drawImage(fig.imageObj, 0, 0);\n",
       "    };\n",
       "\n",
       "    this.imageObj.onunload = function () {\n",
       "        fig.ws.close();\n",
       "    };\n",
       "\n",
       "    this.ws.onmessage = this._make_on_message_function(this);\n",
       "\n",
       "    this.ondownload = ondownload;\n",
       "};\n",
       "\n",
       "mpl.figure.prototype._init_header = function () {\n",
       "    var titlebar = document.createElement('div');\n",
       "    titlebar.classList =\n",
       "        'ui-dialog-titlebar ui-widget-header ui-corner-all ui-helper-clearfix';\n",
       "    var titletext = document.createElement('div');\n",
       "    titletext.classList = 'ui-dialog-title';\n",
       "    titletext.setAttribute(\n",
       "        'style',\n",
       "        'width: 100%; text-align: center; padding: 3px;'\n",
       "    );\n",
       "    titlebar.appendChild(titletext);\n",
       "    this.root.appendChild(titlebar);\n",
       "    this.header = titletext;\n",
       "};\n",
       "\n",
       "mpl.figure.prototype._canvas_extra_style = function (_canvas_div) {};\n",
       "\n",
       "mpl.figure.prototype._root_extra_style = function (_canvas_div) {};\n",
       "\n",
       "mpl.figure.prototype._init_canvas = function () {\n",
       "    var fig = this;\n",
       "\n",
       "    var canvas_div = (this.canvas_div = document.createElement('div'));\n",
       "    canvas_div.setAttribute(\n",
       "        'style',\n",
       "        'border: 1px solid #ddd;' +\n",
       "            'box-sizing: content-box;' +\n",
       "            'clear: both;' +\n",
       "            'min-height: 1px;' +\n",
       "            'min-width: 1px;' +\n",
       "            'outline: 0;' +\n",
       "            'overflow: hidden;' +\n",
       "            'position: relative;' +\n",
       "            'resize: both;'\n",
       "    );\n",
       "\n",
       "    function on_keyboard_event_closure(name) {\n",
       "        return function (event) {\n",
       "            return fig.key_event(event, name);\n",
       "        };\n",
       "    }\n",
       "\n",
       "    canvas_div.addEventListener(\n",
       "        'keydown',\n",
       "        on_keyboard_event_closure('key_press')\n",
       "    );\n",
       "    canvas_div.addEventListener(\n",
       "        'keyup',\n",
       "        on_keyboard_event_closure('key_release')\n",
       "    );\n",
       "\n",
       "    this._canvas_extra_style(canvas_div);\n",
       "    this.root.appendChild(canvas_div);\n",
       "\n",
       "    var canvas = (this.canvas = document.createElement('canvas'));\n",
       "    canvas.classList.add('mpl-canvas');\n",
       "    canvas.setAttribute('style', 'box-sizing: content-box;');\n",
       "\n",
       "    this.context = canvas.getContext('2d');\n",
       "\n",
       "    var backingStore =\n",
       "        this.context.backingStorePixelRatio ||\n",
       "        this.context.webkitBackingStorePixelRatio ||\n",
       "        this.context.mozBackingStorePixelRatio ||\n",
       "        this.context.msBackingStorePixelRatio ||\n",
       "        this.context.oBackingStorePixelRatio ||\n",
       "        this.context.backingStorePixelRatio ||\n",
       "        1;\n",
       "\n",
       "    this.ratio = (window.devicePixelRatio || 1) / backingStore;\n",
       "\n",
       "    var rubberband_canvas = (this.rubberband_canvas = document.createElement(\n",
       "        'canvas'\n",
       "    ));\n",
       "    rubberband_canvas.setAttribute(\n",
       "        'style',\n",
       "        'box-sizing: content-box; position: absolute; left: 0; top: 0; z-index: 1;'\n",
       "    );\n",
       "\n",
       "    // Apply a ponyfill if ResizeObserver is not implemented by browser.\n",
       "    if (this.ResizeObserver === undefined) {\n",
       "        if (window.ResizeObserver !== undefined) {\n",
       "            this.ResizeObserver = window.ResizeObserver;\n",
       "        } else {\n",
       "            var obs = _JSXTOOLS_RESIZE_OBSERVER({});\n",
       "            this.ResizeObserver = obs.ResizeObserver;\n",
       "        }\n",
       "    }\n",
       "\n",
       "    this.resizeObserverInstance = new this.ResizeObserver(function (entries) {\n",
       "        var nentries = entries.length;\n",
       "        for (var i = 0; i < nentries; i++) {\n",
       "            var entry = entries[i];\n",
       "            var width, height;\n",
       "            if (entry.contentBoxSize) {\n",
       "                if (entry.contentBoxSize instanceof Array) {\n",
       "                    // Chrome 84 implements new version of spec.\n",
       "                    width = entry.contentBoxSize[0].inlineSize;\n",
       "                    height = entry.contentBoxSize[0].blockSize;\n",
       "                } else {\n",
       "                    // Firefox implements old version of spec.\n",
       "                    width = entry.contentBoxSize.inlineSize;\n",
       "                    height = entry.contentBoxSize.blockSize;\n",
       "                }\n",
       "            } else {\n",
       "                // Chrome <84 implements even older version of spec.\n",
       "                width = entry.contentRect.width;\n",
       "                height = entry.contentRect.height;\n",
       "            }\n",
       "\n",
       "            // Keep the size of the canvas and rubber band canvas in sync with\n",
       "            // the canvas container.\n",
       "            if (entry.devicePixelContentBoxSize) {\n",
       "                // Chrome 84 implements new version of spec.\n",
       "                canvas.setAttribute(\n",
       "                    'width',\n",
       "                    entry.devicePixelContentBoxSize[0].inlineSize\n",
       "                );\n",
       "                canvas.setAttribute(\n",
       "                    'height',\n",
       "                    entry.devicePixelContentBoxSize[0].blockSize\n",
       "                );\n",
       "            } else {\n",
       "                canvas.setAttribute('width', width * fig.ratio);\n",
       "                canvas.setAttribute('height', height * fig.ratio);\n",
       "            }\n",
       "            canvas.setAttribute(\n",
       "                'style',\n",
       "                'width: ' + width + 'px; height: ' + height + 'px;'\n",
       "            );\n",
       "\n",
       "            rubberband_canvas.setAttribute('width', width);\n",
       "            rubberband_canvas.setAttribute('height', height);\n",
       "\n",
       "            // And update the size in Python. We ignore the initial 0/0 size\n",
       "            // that occurs as the element is placed into the DOM, which should\n",
       "            // otherwise not happen due to the minimum size styling.\n",
       "            if (fig.ws.readyState == 1 && width != 0 && height != 0) {\n",
       "                fig.request_resize(width, height);\n",
       "            }\n",
       "        }\n",
       "    });\n",
       "    this.resizeObserverInstance.observe(canvas_div);\n",
       "\n",
       "    function on_mouse_event_closure(name) {\n",
       "        return function (event) {\n",
       "            return fig.mouse_event(event, name);\n",
       "        };\n",
       "    }\n",
       "\n",
       "    rubberband_canvas.addEventListener(\n",
       "        'mousedown',\n",
       "        on_mouse_event_closure('button_press')\n",
       "    );\n",
       "    rubberband_canvas.addEventListener(\n",
       "        'mouseup',\n",
       "        on_mouse_event_closure('button_release')\n",
       "    );\n",
       "    rubberband_canvas.addEventListener(\n",
       "        'dblclick',\n",
       "        on_mouse_event_closure('dblclick')\n",
       "    );\n",
       "    // Throttle sequential mouse events to 1 every 20ms.\n",
       "    rubberband_canvas.addEventListener(\n",
       "        'mousemove',\n",
       "        on_mouse_event_closure('motion_notify')\n",
       "    );\n",
       "\n",
       "    rubberband_canvas.addEventListener(\n",
       "        'mouseenter',\n",
       "        on_mouse_event_closure('figure_enter')\n",
       "    );\n",
       "    rubberband_canvas.addEventListener(\n",
       "        'mouseleave',\n",
       "        on_mouse_event_closure('figure_leave')\n",
       "    );\n",
       "\n",
       "    canvas_div.addEventListener('wheel', function (event) {\n",
       "        if (event.deltaY < 0) {\n",
       "            event.step = 1;\n",
       "        } else {\n",
       "            event.step = -1;\n",
       "        }\n",
       "        on_mouse_event_closure('scroll')(event);\n",
       "    });\n",
       "\n",
       "    canvas_div.appendChild(canvas);\n",
       "    canvas_div.appendChild(rubberband_canvas);\n",
       "\n",
       "    this.rubberband_context = rubberband_canvas.getContext('2d');\n",
       "    this.rubberband_context.strokeStyle = '#000000';\n",
       "\n",
       "    this._resize_canvas = function (width, height, forward) {\n",
       "        if (forward) {\n",
       "            canvas_div.style.width = width + 'px';\n",
       "            canvas_div.style.height = height + 'px';\n",
       "        }\n",
       "    };\n",
       "\n",
       "    // Disable right mouse context menu.\n",
       "    this.rubberband_canvas.addEventListener('contextmenu', function (_e) {\n",
       "        event.preventDefault();\n",
       "        return false;\n",
       "    });\n",
       "\n",
       "    function set_focus() {\n",
       "        canvas.focus();\n",
       "        canvas_div.focus();\n",
       "    }\n",
       "\n",
       "    window.setTimeout(set_focus, 100);\n",
       "};\n",
       "\n",
       "mpl.figure.prototype._init_toolbar = function () {\n",
       "    var fig = this;\n",
       "\n",
       "    var toolbar = document.createElement('div');\n",
       "    toolbar.classList = 'mpl-toolbar';\n",
       "    this.root.appendChild(toolbar);\n",
       "\n",
       "    function on_click_closure(name) {\n",
       "        return function (_event) {\n",
       "            return fig.toolbar_button_onclick(name);\n",
       "        };\n",
       "    }\n",
       "\n",
       "    function on_mouseover_closure(tooltip) {\n",
       "        return function (event) {\n",
       "            if (!event.currentTarget.disabled) {\n",
       "                return fig.toolbar_button_onmouseover(tooltip);\n",
       "            }\n",
       "        };\n",
       "    }\n",
       "\n",
       "    fig.buttons = {};\n",
       "    var buttonGroup = document.createElement('div');\n",
       "    buttonGroup.classList = 'mpl-button-group';\n",
       "    for (var toolbar_ind in mpl.toolbar_items) {\n",
       "        var name = mpl.toolbar_items[toolbar_ind][0];\n",
       "        var tooltip = mpl.toolbar_items[toolbar_ind][1];\n",
       "        var image = mpl.toolbar_items[toolbar_ind][2];\n",
       "        var method_name = mpl.toolbar_items[toolbar_ind][3];\n",
       "\n",
       "        if (!name) {\n",
       "            /* Instead of a spacer, we start a new button group. */\n",
       "            if (buttonGroup.hasChildNodes()) {\n",
       "                toolbar.appendChild(buttonGroup);\n",
       "            }\n",
       "            buttonGroup = document.createElement('div');\n",
       "            buttonGroup.classList = 'mpl-button-group';\n",
       "            continue;\n",
       "        }\n",
       "\n",
       "        var button = (fig.buttons[name] = document.createElement('button'));\n",
       "        button.classList = 'mpl-widget';\n",
       "        button.setAttribute('role', 'button');\n",
       "        button.setAttribute('aria-disabled', 'false');\n",
       "        button.addEventListener('click', on_click_closure(method_name));\n",
       "        button.addEventListener('mouseover', on_mouseover_closure(tooltip));\n",
       "\n",
       "        var icon_img = document.createElement('img');\n",
       "        icon_img.src = '_images/' + image + '.png';\n",
       "        icon_img.srcset = '_images/' + image + '_large.png 2x';\n",
       "        icon_img.alt = tooltip;\n",
       "        button.appendChild(icon_img);\n",
       "\n",
       "        buttonGroup.appendChild(button);\n",
       "    }\n",
       "\n",
       "    if (buttonGroup.hasChildNodes()) {\n",
       "        toolbar.appendChild(buttonGroup);\n",
       "    }\n",
       "\n",
       "    var fmt_picker = document.createElement('select');\n",
       "    fmt_picker.classList = 'mpl-widget';\n",
       "    toolbar.appendChild(fmt_picker);\n",
       "    this.format_dropdown = fmt_picker;\n",
       "\n",
       "    for (var ind in mpl.extensions) {\n",
       "        var fmt = mpl.extensions[ind];\n",
       "        var option = document.createElement('option');\n",
       "        option.selected = fmt === mpl.default_extension;\n",
       "        option.innerHTML = fmt;\n",
       "        fmt_picker.appendChild(option);\n",
       "    }\n",
       "\n",
       "    var status_bar = document.createElement('span');\n",
       "    status_bar.classList = 'mpl-message';\n",
       "    toolbar.appendChild(status_bar);\n",
       "    this.message = status_bar;\n",
       "};\n",
       "\n",
       "mpl.figure.prototype.request_resize = function (x_pixels, y_pixels) {\n",
       "    // Request matplotlib to resize the figure. Matplotlib will then trigger a resize in the client,\n",
       "    // which will in turn request a refresh of the image.\n",
       "    this.send_message('resize', { width: x_pixels, height: y_pixels });\n",
       "};\n",
       "\n",
       "mpl.figure.prototype.send_message = function (type, properties) {\n",
       "    properties['type'] = type;\n",
       "    properties['figure_id'] = this.id;\n",
       "    this.ws.send(JSON.stringify(properties));\n",
       "};\n",
       "\n",
       "mpl.figure.prototype.send_draw_message = function () {\n",
       "    if (!this.waiting) {\n",
       "        this.waiting = true;\n",
       "        this.ws.send(JSON.stringify({ type: 'draw', figure_id: this.id }));\n",
       "    }\n",
       "};\n",
       "\n",
       "mpl.figure.prototype.handle_save = function (fig, _msg) {\n",
       "    var format_dropdown = fig.format_dropdown;\n",
       "    var format = format_dropdown.options[format_dropdown.selectedIndex].value;\n",
       "    fig.ondownload(fig, format);\n",
       "};\n",
       "\n",
       "mpl.figure.prototype.handle_resize = function (fig, msg) {\n",
       "    var size = msg['size'];\n",
       "    if (size[0] !== fig.canvas.width || size[1] !== fig.canvas.height) {\n",
       "        fig._resize_canvas(size[0], size[1], msg['forward']);\n",
       "        fig.send_message('refresh', {});\n",
       "    }\n",
       "};\n",
       "\n",
       "mpl.figure.prototype.handle_rubberband = function (fig, msg) {\n",
       "    var x0 = msg['x0'] / fig.ratio;\n",
       "    var y0 = (fig.canvas.height - msg['y0']) / fig.ratio;\n",
       "    var x1 = msg['x1'] / fig.ratio;\n",
       "    var y1 = (fig.canvas.height - msg['y1']) / fig.ratio;\n",
       "    x0 = Math.floor(x0) + 0.5;\n",
       "    y0 = Math.floor(y0) + 0.5;\n",
       "    x1 = Math.floor(x1) + 0.5;\n",
       "    y1 = Math.floor(y1) + 0.5;\n",
       "    var min_x = Math.min(x0, x1);\n",
       "    var min_y = Math.min(y0, y1);\n",
       "    var width = Math.abs(x1 - x0);\n",
       "    var height = Math.abs(y1 - y0);\n",
       "\n",
       "    fig.rubberband_context.clearRect(\n",
       "        0,\n",
       "        0,\n",
       "        fig.canvas.width / fig.ratio,\n",
       "        fig.canvas.height / fig.ratio\n",
       "    );\n",
       "\n",
       "    fig.rubberband_context.strokeRect(min_x, min_y, width, height);\n",
       "};\n",
       "\n",
       "mpl.figure.prototype.handle_figure_label = function (fig, msg) {\n",
       "    // Updates the figure title.\n",
       "    fig.header.textContent = msg['label'];\n",
       "};\n",
       "\n",
       "mpl.figure.prototype.handle_cursor = function (fig, msg) {\n",
       "    fig.rubberband_canvas.style.cursor = msg['cursor'];\n",
       "};\n",
       "\n",
       "mpl.figure.prototype.handle_message = function (fig, msg) {\n",
       "    fig.message.textContent = msg['message'];\n",
       "};\n",
       "\n",
       "mpl.figure.prototype.handle_draw = function (fig, _msg) {\n",
       "    // Request the server to send over a new figure.\n",
       "    fig.send_draw_message();\n",
       "};\n",
       "\n",
       "mpl.figure.prototype.handle_image_mode = function (fig, msg) {\n",
       "    fig.image_mode = msg['mode'];\n",
       "};\n",
       "\n",
       "mpl.figure.prototype.handle_history_buttons = function (fig, msg) {\n",
       "    for (var key in msg) {\n",
       "        if (!(key in fig.buttons)) {\n",
       "            continue;\n",
       "        }\n",
       "        fig.buttons[key].disabled = !msg[key];\n",
       "        fig.buttons[key].setAttribute('aria-disabled', !msg[key]);\n",
       "    }\n",
       "};\n",
       "\n",
       "mpl.figure.prototype.handle_navigate_mode = function (fig, msg) {\n",
       "    if (msg['mode'] === 'PAN') {\n",
       "        fig.buttons['Pan'].classList.add('active');\n",
       "        fig.buttons['Zoom'].classList.remove('active');\n",
       "    } else if (msg['mode'] === 'ZOOM') {\n",
       "        fig.buttons['Pan'].classList.remove('active');\n",
       "        fig.buttons['Zoom'].classList.add('active');\n",
       "    } else {\n",
       "        fig.buttons['Pan'].classList.remove('active');\n",
       "        fig.buttons['Zoom'].classList.remove('active');\n",
       "    }\n",
       "};\n",
       "\n",
       "mpl.figure.prototype.updated_canvas_event = function () {\n",
       "    // Called whenever the canvas gets updated.\n",
       "    this.send_message('ack', {});\n",
       "};\n",
       "\n",
       "// A function to construct a web socket function for onmessage handling.\n",
       "// Called in the figure constructor.\n",
       "mpl.figure.prototype._make_on_message_function = function (fig) {\n",
       "    return function socket_on_message(evt) {\n",
       "        if (evt.data instanceof Blob) {\n",
       "            var img = evt.data;\n",
       "            if (img.type !== 'image/png') {\n",
       "                /* FIXME: We get \"Resource interpreted as Image but\n",
       "                 * transferred with MIME type text/plain:\" errors on\n",
       "                 * Chrome.  But how to set the MIME type?  It doesn't seem\n",
       "                 * to be part of the websocket stream */\n",
       "                img.type = 'image/png';\n",
       "            }\n",
       "\n",
       "            /* Free the memory for the previous frames */\n",
       "            if (fig.imageObj.src) {\n",
       "                (window.URL || window.webkitURL).revokeObjectURL(\n",
       "                    fig.imageObj.src\n",
       "                );\n",
       "            }\n",
       "\n",
       "            fig.imageObj.src = (window.URL || window.webkitURL).createObjectURL(\n",
       "                img\n",
       "            );\n",
       "            fig.updated_canvas_event();\n",
       "            fig.waiting = false;\n",
       "            return;\n",
       "        } else if (\n",
       "            typeof evt.data === 'string' &&\n",
       "            evt.data.slice(0, 21) === 'data:image/png;base64'\n",
       "        ) {\n",
       "            fig.imageObj.src = evt.data;\n",
       "            fig.updated_canvas_event();\n",
       "            fig.waiting = false;\n",
       "            return;\n",
       "        }\n",
       "\n",
       "        var msg = JSON.parse(evt.data);\n",
       "        var msg_type = msg['type'];\n",
       "\n",
       "        // Call the  \"handle_{type}\" callback, which takes\n",
       "        // the figure and JSON message as its only arguments.\n",
       "        try {\n",
       "            var callback = fig['handle_' + msg_type];\n",
       "        } catch (e) {\n",
       "            console.log(\n",
       "                \"No handler for the '\" + msg_type + \"' message type: \",\n",
       "                msg\n",
       "            );\n",
       "            return;\n",
       "        }\n",
       "\n",
       "        if (callback) {\n",
       "            try {\n",
       "                // console.log(\"Handling '\" + msg_type + \"' message: \", msg);\n",
       "                callback(fig, msg);\n",
       "            } catch (e) {\n",
       "                console.log(\n",
       "                    \"Exception inside the 'handler_\" + msg_type + \"' callback:\",\n",
       "                    e,\n",
       "                    e.stack,\n",
       "                    msg\n",
       "                );\n",
       "            }\n",
       "        }\n",
       "    };\n",
       "};\n",
       "\n",
       "// from https://stackoverflow.com/questions/1114465/getting-mouse-location-in-canvas\n",
       "mpl.findpos = function (e) {\n",
       "    //this section is from http://www.quirksmode.org/js/events_properties.html\n",
       "    var targ;\n",
       "    if (!e) {\n",
       "        e = window.event;\n",
       "    }\n",
       "    if (e.target) {\n",
       "        targ = e.target;\n",
       "    } else if (e.srcElement) {\n",
       "        targ = e.srcElement;\n",
       "    }\n",
       "    if (targ.nodeType === 3) {\n",
       "        // defeat Safari bug\n",
       "        targ = targ.parentNode;\n",
       "    }\n",
       "\n",
       "    // pageX,Y are the mouse positions relative to the document\n",
       "    var boundingRect = targ.getBoundingClientRect();\n",
       "    var x = e.pageX - (boundingRect.left + document.body.scrollLeft);\n",
       "    var y = e.pageY - (boundingRect.top + document.body.scrollTop);\n",
       "\n",
       "    return { x: x, y: y };\n",
       "};\n",
       "\n",
       "/*\n",
       " * return a copy of an object with only non-object keys\n",
       " * we need this to avoid circular references\n",
       " * https://stackoverflow.com/a/24161582/3208463\n",
       " */\n",
       "function simpleKeys(original) {\n",
       "    return Object.keys(original).reduce(function (obj, key) {\n",
       "        if (typeof original[key] !== 'object') {\n",
       "            obj[key] = original[key];\n",
       "        }\n",
       "        return obj;\n",
       "    }, {});\n",
       "}\n",
       "\n",
       "mpl.figure.prototype.mouse_event = function (event, name) {\n",
       "    var canvas_pos = mpl.findpos(event);\n",
       "\n",
       "    if (name === 'button_press') {\n",
       "        this.canvas.focus();\n",
       "        this.canvas_div.focus();\n",
       "    }\n",
       "\n",
       "    var x = canvas_pos.x * this.ratio;\n",
       "    var y = canvas_pos.y * this.ratio;\n",
       "\n",
       "    this.send_message(name, {\n",
       "        x: x,\n",
       "        y: y,\n",
       "        button: event.button,\n",
       "        step: event.step,\n",
       "        guiEvent: simpleKeys(event),\n",
       "    });\n",
       "\n",
       "    /* This prevents the web browser from automatically changing to\n",
       "     * the text insertion cursor when the button is pressed.  We want\n",
       "     * to control all of the cursor setting manually through the\n",
       "     * 'cursor' event from matplotlib */\n",
       "    event.preventDefault();\n",
       "    return false;\n",
       "};\n",
       "\n",
       "mpl.figure.prototype._key_event_extra = function (_event, _name) {\n",
       "    // Handle any extra behaviour associated with a key event\n",
       "};\n",
       "\n",
       "mpl.figure.prototype.key_event = function (event, name) {\n",
       "    // Prevent repeat events\n",
       "    if (name === 'key_press') {\n",
       "        if (event.key === this._key) {\n",
       "            return;\n",
       "        } else {\n",
       "            this._key = event.key;\n",
       "        }\n",
       "    }\n",
       "    if (name === 'key_release') {\n",
       "        this._key = null;\n",
       "    }\n",
       "\n",
       "    var value = '';\n",
       "    if (event.ctrlKey && event.key !== 'Control') {\n",
       "        value += 'ctrl+';\n",
       "    }\n",
       "    else if (event.altKey && event.key !== 'Alt') {\n",
       "        value += 'alt+';\n",
       "    }\n",
       "    else if (event.shiftKey && event.key !== 'Shift') {\n",
       "        value += 'shift+';\n",
       "    }\n",
       "\n",
       "    value += 'k' + event.key;\n",
       "\n",
       "    this._key_event_extra(event, name);\n",
       "\n",
       "    this.send_message(name, { key: value, guiEvent: simpleKeys(event) });\n",
       "    return false;\n",
       "};\n",
       "\n",
       "mpl.figure.prototype.toolbar_button_onclick = function (name) {\n",
       "    if (name === 'download') {\n",
       "        this.handle_save(this, null);\n",
       "    } else {\n",
       "        this.send_message('toolbar_button', { name: name });\n",
       "    }\n",
       "};\n",
       "\n",
       "mpl.figure.prototype.toolbar_button_onmouseover = function (tooltip) {\n",
       "    this.message.textContent = tooltip;\n",
       "};\n",
       "\n",
       "///////////////// REMAINING CONTENT GENERATED BY embed_js.py /////////////////\n",
       "// prettier-ignore\n",
       "var _JSXTOOLS_RESIZE_OBSERVER=function(A){var t,i=new WeakMap,n=new WeakMap,a=new WeakMap,r=new WeakMap,o=new Set;function s(e){if(!(this instanceof s))throw new TypeError(\"Constructor requires 'new' operator\");i.set(this,e)}function h(){throw new TypeError(\"Function is not a constructor\")}function c(e,t,i,n){e=0 in arguments?Number(arguments[0]):0,t=1 in arguments?Number(arguments[1]):0,i=2 in arguments?Number(arguments[2]):0,n=3 in arguments?Number(arguments[3]):0,this.right=(this.x=this.left=e)+(this.width=i),this.bottom=(this.y=this.top=t)+(this.height=n),Object.freeze(this)}function d(){t=requestAnimationFrame(d);var s=new WeakMap,p=new Set;o.forEach((function(t){r.get(t).forEach((function(i){var r=t instanceof window.SVGElement,o=a.get(t),d=r?0:parseFloat(o.paddingTop),f=r?0:parseFloat(o.paddingRight),l=r?0:parseFloat(o.paddingBottom),u=r?0:parseFloat(o.paddingLeft),g=r?0:parseFloat(o.borderTopWidth),m=r?0:parseFloat(o.borderRightWidth),w=r?0:parseFloat(o.borderBottomWidth),b=u+f,F=d+l,v=(r?0:parseFloat(o.borderLeftWidth))+m,W=g+w,y=r?0:t.offsetHeight-W-t.clientHeight,E=r?0:t.offsetWidth-v-t.clientWidth,R=b+v,z=F+W,M=r?t.width:parseFloat(o.width)-R-E,O=r?t.height:parseFloat(o.height)-z-y;if(n.has(t)){var k=n.get(t);if(k[0]===M&&k[1]===O)return}n.set(t,[M,O]);var S=Object.create(h.prototype);S.target=t,S.contentRect=new c(u,d,M,O),s.has(i)||(s.set(i,[]),p.add(i)),s.get(i).push(S)}))})),p.forEach((function(e){i.get(e).call(e,s.get(e),e)}))}return s.prototype.observe=function(i){if(i instanceof window.Element){r.has(i)||(r.set(i,new Set),o.add(i),a.set(i,window.getComputedStyle(i)));var n=r.get(i);n.has(this)||n.add(this),cancelAnimationFrame(t),t=requestAnimationFrame(d)}},s.prototype.unobserve=function(i){if(i instanceof window.Element&&r.has(i)){var n=r.get(i);n.has(this)&&(n.delete(this),n.size||(r.delete(i),o.delete(i))),n.size||r.delete(i),o.size||cancelAnimationFrame(t)}},A.DOMRectReadOnly=c,A.ResizeObserver=s,A.ResizeObserverEntry=h,A}; // eslint-disable-line\n",
       "mpl.toolbar_items = [[\"Home\", \"Reset original view\", \"fa fa-home icon-home\", \"home\"], [\"Back\", \"Back to previous view\", \"fa fa-arrow-left icon-arrow-left\", \"back\"], [\"Forward\", \"Forward to next view\", \"fa fa-arrow-right icon-arrow-right\", \"forward\"], [\"\", \"\", \"\", \"\"], [\"Pan\", \"Left button pans, Right button zooms\\nx/y fixes axis, CTRL fixes aspect\", \"fa fa-arrows icon-move\", \"pan\"], [\"Zoom\", \"Zoom to rectangle\\nx/y fixes axis\", \"fa fa-square-o icon-check-empty\", \"zoom\"], [\"\", \"\", \"\", \"\"], [\"Download\", \"Download plot\", \"fa fa-floppy-o icon-save\", \"download\"]];\n",
       "\n",
       "mpl.extensions = [\"eps\", \"jpeg\", \"pgf\", \"pdf\", \"png\", \"ps\", \"raw\", \"svg\", \"tif\"];\n",
       "\n",
       "mpl.default_extension = \"png\";/* global mpl */\n",
       "\n",
       "var comm_websocket_adapter = function (comm) {\n",
       "    // Create a \"websocket\"-like object which calls the given IPython comm\n",
       "    // object with the appropriate methods. Currently this is a non binary\n",
       "    // socket, so there is still some room for performance tuning.\n",
       "    var ws = {};\n",
       "\n",
       "    ws.binaryType = comm.kernel.ws.binaryType;\n",
       "    ws.readyState = comm.kernel.ws.readyState;\n",
       "    function updateReadyState(_event) {\n",
       "        if (comm.kernel.ws) {\n",
       "            ws.readyState = comm.kernel.ws.readyState;\n",
       "        } else {\n",
       "            ws.readyState = 3; // Closed state.\n",
       "        }\n",
       "    }\n",
       "    comm.kernel.ws.addEventListener('open', updateReadyState);\n",
       "    comm.kernel.ws.addEventListener('close', updateReadyState);\n",
       "    comm.kernel.ws.addEventListener('error', updateReadyState);\n",
       "\n",
       "    ws.close = function () {\n",
       "        comm.close();\n",
       "    };\n",
       "    ws.send = function (m) {\n",
       "        //console.log('sending', m);\n",
       "        comm.send(m);\n",
       "    };\n",
       "    // Register the callback with on_msg.\n",
       "    comm.on_msg(function (msg) {\n",
       "        //console.log('receiving', msg['content']['data'], msg);\n",
       "        var data = msg['content']['data'];\n",
       "        if (data['blob'] !== undefined) {\n",
       "            data = {\n",
       "                data: new Blob(msg['buffers'], { type: data['blob'] }),\n",
       "            };\n",
       "        }\n",
       "        // Pass the mpl event to the overridden (by mpl) onmessage function.\n",
       "        ws.onmessage(data);\n",
       "    });\n",
       "    return ws;\n",
       "};\n",
       "\n",
       "mpl.mpl_figure_comm = function (comm, msg) {\n",
       "    // This is the function which gets called when the mpl process\n",
       "    // starts-up an IPython Comm through the \"matplotlib\" channel.\n",
       "\n",
       "    var id = msg.content.data.id;\n",
       "    // Get hold of the div created by the display call when the Comm\n",
       "    // socket was opened in Python.\n",
       "    var element = document.getElementById(id);\n",
       "    var ws_proxy = comm_websocket_adapter(comm);\n",
       "\n",
       "    function ondownload(figure, _format) {\n",
       "        window.open(figure.canvas.toDataURL());\n",
       "    }\n",
       "\n",
       "    var fig = new mpl.figure(id, ws_proxy, ondownload, element);\n",
       "\n",
       "    // Call onopen now - mpl needs it, as it is assuming we've passed it a real\n",
       "    // web socket which is closed, not our websocket->open comm proxy.\n",
       "    ws_proxy.onopen();\n",
       "\n",
       "    fig.parent_element = element;\n",
       "    fig.cell_info = mpl.find_output_cell(\"<div id='\" + id + \"'></div>\");\n",
       "    if (!fig.cell_info) {\n",
       "        console.error('Failed to find cell for figure', id, fig);\n",
       "        return;\n",
       "    }\n",
       "    fig.cell_info[0].output_area.element.on(\n",
       "        'cleared',\n",
       "        { fig: fig },\n",
       "        fig._remove_fig_handler\n",
       "    );\n",
       "};\n",
       "\n",
       "mpl.figure.prototype.handle_close = function (fig, msg) {\n",
       "    var width = fig.canvas.width / fig.ratio;\n",
       "    fig.cell_info[0].output_area.element.off(\n",
       "        'cleared',\n",
       "        fig._remove_fig_handler\n",
       "    );\n",
       "    fig.resizeObserverInstance.unobserve(fig.canvas_div);\n",
       "\n",
       "    // Update the output cell to use the data from the current canvas.\n",
       "    fig.push_to_output();\n",
       "    var dataURL = fig.canvas.toDataURL();\n",
       "    // Re-enable the keyboard manager in IPython - without this line, in FF,\n",
       "    // the notebook keyboard shortcuts fail.\n",
       "    IPython.keyboard_manager.enable();\n",
       "    fig.parent_element.innerHTML =\n",
       "        '<img src=\"' + dataURL + '\" width=\"' + width + '\">';\n",
       "    fig.close_ws(fig, msg);\n",
       "};\n",
       "\n",
       "mpl.figure.prototype.close_ws = function (fig, msg) {\n",
       "    fig.send_message('closing', msg);\n",
       "    // fig.ws.close()\n",
       "};\n",
       "\n",
       "mpl.figure.prototype.push_to_output = function (_remove_interactive) {\n",
       "    // Turn the data on the canvas into data in the output cell.\n",
       "    var width = this.canvas.width / this.ratio;\n",
       "    var dataURL = this.canvas.toDataURL();\n",
       "    this.cell_info[1]['text/html'] =\n",
       "        '<img src=\"' + dataURL + '\" width=\"' + width + '\">';\n",
       "};\n",
       "\n",
       "mpl.figure.prototype.updated_canvas_event = function () {\n",
       "    // Tell IPython that the notebook contents must change.\n",
       "    IPython.notebook.set_dirty(true);\n",
       "    this.send_message('ack', {});\n",
       "    var fig = this;\n",
       "    // Wait a second, then push the new image to the DOM so\n",
       "    // that it is saved nicely (might be nice to debounce this).\n",
       "    setTimeout(function () {\n",
       "        fig.push_to_output();\n",
       "    }, 1000);\n",
       "};\n",
       "\n",
       "mpl.figure.prototype._init_toolbar = function () {\n",
       "    var fig = this;\n",
       "\n",
       "    var toolbar = document.createElement('div');\n",
       "    toolbar.classList = 'btn-toolbar';\n",
       "    this.root.appendChild(toolbar);\n",
       "\n",
       "    function on_click_closure(name) {\n",
       "        return function (_event) {\n",
       "            return fig.toolbar_button_onclick(name);\n",
       "        };\n",
       "    }\n",
       "\n",
       "    function on_mouseover_closure(tooltip) {\n",
       "        return function (event) {\n",
       "            if (!event.currentTarget.disabled) {\n",
       "                return fig.toolbar_button_onmouseover(tooltip);\n",
       "            }\n",
       "        };\n",
       "    }\n",
       "\n",
       "    fig.buttons = {};\n",
       "    var buttonGroup = document.createElement('div');\n",
       "    buttonGroup.classList = 'btn-group';\n",
       "    var button;\n",
       "    for (var toolbar_ind in mpl.toolbar_items) {\n",
       "        var name = mpl.toolbar_items[toolbar_ind][0];\n",
       "        var tooltip = mpl.toolbar_items[toolbar_ind][1];\n",
       "        var image = mpl.toolbar_items[toolbar_ind][2];\n",
       "        var method_name = mpl.toolbar_items[toolbar_ind][3];\n",
       "\n",
       "        if (!name) {\n",
       "            /* Instead of a spacer, we start a new button group. */\n",
       "            if (buttonGroup.hasChildNodes()) {\n",
       "                toolbar.appendChild(buttonGroup);\n",
       "            }\n",
       "            buttonGroup = document.createElement('div');\n",
       "            buttonGroup.classList = 'btn-group';\n",
       "            continue;\n",
       "        }\n",
       "\n",
       "        button = fig.buttons[name] = document.createElement('button');\n",
       "        button.classList = 'btn btn-default';\n",
       "        button.href = '#';\n",
       "        button.title = name;\n",
       "        button.innerHTML = '<i class=\"fa ' + image + ' fa-lg\"></i>';\n",
       "        button.addEventListener('click', on_click_closure(method_name));\n",
       "        button.addEventListener('mouseover', on_mouseover_closure(tooltip));\n",
       "        buttonGroup.appendChild(button);\n",
       "    }\n",
       "\n",
       "    if (buttonGroup.hasChildNodes()) {\n",
       "        toolbar.appendChild(buttonGroup);\n",
       "    }\n",
       "\n",
       "    // Add the status bar.\n",
       "    var status_bar = document.createElement('span');\n",
       "    status_bar.classList = 'mpl-message pull-right';\n",
       "    toolbar.appendChild(status_bar);\n",
       "    this.message = status_bar;\n",
       "\n",
       "    // Add the close button to the window.\n",
       "    var buttongrp = document.createElement('div');\n",
       "    buttongrp.classList = 'btn-group inline pull-right';\n",
       "    button = document.createElement('button');\n",
       "    button.classList = 'btn btn-mini btn-primary';\n",
       "    button.href = '#';\n",
       "    button.title = 'Stop Interaction';\n",
       "    button.innerHTML = '<i class=\"fa fa-power-off icon-remove icon-large\"></i>';\n",
       "    button.addEventListener('click', function (_evt) {\n",
       "        fig.handle_close(fig, {});\n",
       "    });\n",
       "    button.addEventListener(\n",
       "        'mouseover',\n",
       "        on_mouseover_closure('Stop Interaction')\n",
       "    );\n",
       "    buttongrp.appendChild(button);\n",
       "    var titlebar = this.root.querySelector('.ui-dialog-titlebar');\n",
       "    titlebar.insertBefore(buttongrp, titlebar.firstChild);\n",
       "};\n",
       "\n",
       "mpl.figure.prototype._remove_fig_handler = function (event) {\n",
       "    var fig = event.data.fig;\n",
       "    if (event.target !== this) {\n",
       "        // Ignore bubbled events from children.\n",
       "        return;\n",
       "    }\n",
       "    fig.close_ws(fig, {});\n",
       "};\n",
       "\n",
       "mpl.figure.prototype._root_extra_style = function (el) {\n",
       "    el.style.boxSizing = 'content-box'; // override notebook setting of border-box.\n",
       "};\n",
       "\n",
       "mpl.figure.prototype._canvas_extra_style = function (el) {\n",
       "    // this is important to make the div 'focusable\n",
       "    el.setAttribute('tabindex', 0);\n",
       "    // reach out to IPython and tell the keyboard manager to turn it's self\n",
       "    // off when our div gets focus\n",
       "\n",
       "    // location in version 3\n",
       "    if (IPython.notebook.keyboard_manager) {\n",
       "        IPython.notebook.keyboard_manager.register_events(el);\n",
       "    } else {\n",
       "        // location in version 2\n",
       "        IPython.keyboard_manager.register_events(el);\n",
       "    }\n",
       "};\n",
       "\n",
       "mpl.figure.prototype._key_event_extra = function (event, _name) {\n",
       "    // Check for shift+enter\n",
       "    if (event.shiftKey && event.which === 13) {\n",
       "        this.canvas_div.blur();\n",
       "        // select the cell after this one\n",
       "        var index = IPython.notebook.find_cell_index(this.cell_info[0]);\n",
       "        IPython.notebook.select(index + 1);\n",
       "    }\n",
       "};\n",
       "\n",
       "mpl.figure.prototype.handle_save = function (fig, _msg) {\n",
       "    fig.ondownload(fig, null);\n",
       "};\n",
       "\n",
       "mpl.find_output_cell = function (html_output) {\n",
       "    // Return the cell and output element which can be found *uniquely* in the notebook.\n",
       "    // Note - this is a bit hacky, but it is done because the \"notebook_saving.Notebook\"\n",
       "    // IPython event is triggered only after the cells have been serialised, which for\n",
       "    // our purposes (turning an active figure into a static one), is too late.\n",
       "    var cells = IPython.notebook.get_cells();\n",
       "    var ncells = cells.length;\n",
       "    for (var i = 0; i < ncells; i++) {\n",
       "        var cell = cells[i];\n",
       "        if (cell.cell_type === 'code') {\n",
       "            for (var j = 0; j < cell.output_area.outputs.length; j++) {\n",
       "                var data = cell.output_area.outputs[j];\n",
       "                if (data.data) {\n",
       "                    // IPython >= 3 moved mimebundle to data attribute of output\n",
       "                    data = data.data;\n",
       "                }\n",
       "                if (data['text/html'] === html_output) {\n",
       "                    return [cell, data, j];\n",
       "                }\n",
       "            }\n",
       "        }\n",
       "    }\n",
       "};\n",
       "\n",
       "// Register the function which deals with the matplotlib target/channel.\n",
       "// The kernel may be null if the page has been refreshed.\n",
       "if (IPython.notebook.kernel !== null) {\n",
       "    IPython.notebook.kernel.comm_manager.register_target(\n",
       "        'matplotlib',\n",
       "        mpl.mpl_figure_comm\n",
       "    );\n",
       "}\n"
      ],
      "text/plain": [
       "<IPython.core.display.Javascript object>"
      ]
     },
     "metadata": {},
     "output_type": "display_data"
    },
    {
     "data": {
      "text/html": [
       "<img src=\"data:image/png;base64,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\" width=\"640\">"
      ],
      "text/plain": [
       "<IPython.core.display.HTML object>"
      ]
     },
     "metadata": {},
     "output_type": "display_data"
    }
   ],
   "source": [
    "import numpy as np\n",
    "import matplotlib.pyplot as plt\n",
    "from matplotlib.animation import FuncAnimation\n",
    "%matplotlib notebook\n",
    "\n",
    "fig, ax = plt.subplots()\n",
    "xdata, ydata = [], []\n",
    "ln, = ax.plot([], [], 'ro')\n",
    "\n",
    "def init():\n",
    "    ax.set_xlim(0, 6*np.pi)\n",
    "    ax.set_ylim(-1, 1)\n",
    "    return ln,\n",
    "\n",
    "def update(frame):\n",
    "    xdata.append(frame)\n",
    "    ydata.append(np.sin(frame))\n",
    "    ln.set_data(xdata, ydata)\n",
    "    return ln,\n",
    "\n",
    "ani = FuncAnimation(fig, update, frames=np.linspace(0, 6*np.pi, 50), interval = 100, init_func=init, blit=True)\n",
    "plt.show()"
   ]
  },
  {
   "cell_type": "code",
   "execution_count": null,
   "id": "0550931f",
   "metadata": {},
   "outputs": [],
   "source": []
  },
  {
   "cell_type": "code",
   "execution_count": null,
   "id": "d4b4276e",
   "metadata": {},
   "outputs": [],
   "source": []
  },
  {
   "cell_type": "markdown",
   "id": "0d56707e",
   "metadata": {
    "slideshow": {
     "slide_type": "slide"
    }
   },
   "source": [
    "## Mapa conceptual de la clase"
   ]
  },
  {
   "cell_type": "markdown",
   "id": "f00feaef",
   "metadata": {
    "slideshow": {
     "slide_type": "slide"
    }
   },
   "source": [
    "<img src = 'https://github.com/marco-canas/3_fundamentos-de-las-matematicas/blob/main/classes/10_class_march_21/funciones.jpg?raw=true'>"
   ]
  },
  {
   "cell_type": "markdown",
   "id": "97cfd900",
   "metadata": {
    "slideshow": {
     "slide_type": "slide"
    }
   },
   "source": [
    "# Tareas para realizar en clase"
   ]
  },
  {
   "cell_type": "code",
   "execution_count": null,
   "id": "a5bce15e",
   "metadata": {},
   "outputs": [],
   "source": []
  },
  {
   "cell_type": "markdown",
   "id": "1d794427",
   "metadata": {
    "slideshow": {
     "slide_type": "slide"
    }
   },
   "source": [
    "# Tareas para realizar fuera de clase"
   ]
  },
  {
   "cell_type": "markdown",
   "id": "dc8a4fe0",
   "metadata": {
    "slideshow": {
     "slide_type": "slide"
    }
   },
   "source": [
    "Modele graficamente la temperatura en Caucasia para que el decrecimiento sea cuadrático. "
   ]
  },
  {
   "cell_type": "code",
   "execution_count": null,
   "id": "8b144886",
   "metadata": {},
   "outputs": [],
   "source": []
  },
  {
   "cell_type": "code",
   "execution_count": null,
   "id": "b18e19df",
   "metadata": {},
   "outputs": [],
   "source": []
  },
  {
   "cell_type": "markdown",
   "id": "be5e748c",
   "metadata": {
    "slideshow": {
     "slide_type": "slide"
    }
   },
   "source": [
    "## Cuestionario para memorizar"
   ]
  },
  {
   "cell_type": "markdown",
   "id": "bd73de84",
   "metadata": {
    "slideshow": {
     "slide_type": "slide"
    }
   },
   "source": [
    "1. ¿Cuál es la forma general de una función lineal?\n",
    "2. ¿Cuál es la forma general de una función lineal constante?\n",
    "3. ¿Cuando la situación real corresponde a un modelo lineal?\n",
    "\n",
    "cuando la tasa de variación es constante o la pendiente de la curva es constante. "
   ]
  },
  {
   "cell_type": "code",
   "execution_count": null,
   "id": "d2c87b72",
   "metadata": {
    "slideshow": {
     "slide_type": "slide"
    }
   },
   "outputs": [],
   "source": []
  },
  {
   "cell_type": "markdown",
   "id": "4c444ecf",
   "metadata": {
    "slideshow": {
     "slide_type": "slide"
    }
   },
   "source": [
    "# Vocabulary"
   ]
  },
  {
   "cell_type": "markdown",
   "id": "655453f9",
   "metadata": {
    "slideshow": {
     "slide_type": "slide"
    }
   },
   "source": [
    "* scatter: diagrama de dispersión o puntos. "
   ]
  },
  {
   "cell_type": "markdown",
   "id": "d278c79b",
   "metadata": {
    "slideshow": {
     "slide_type": "slide"
    }
   },
   "source": [
    "## Referentes\n",
    "\n",
    "* [Precálculo de Stewart](https://udeaeduco-my.sharepoint.com/:b:/g/personal/marco_canas_udea_edu_co/ERHIq62I6qFNrmxy6LZb8ZMBci7kUsyNME1nIh9yCBMJ_w?e=cOQjzv) Página 173. \n",
    "* [Cálculo Stewart](https://udeaeduco-my.sharepoint.com/:b:/g/personal/marco_canas_udea_edu_co/EZgXZjAp8QxPqOAim2hs6LcBNPLGjSHf-xwYnUVYkwa04w?e=k1HOhB)  \n",
    "\n",
    "* [Documentación de animation of matplotlib:](https://matplotlib.org/stable/api/animation_api.html)"
   ]
  },
  {
   "cell_type": "markdown",
   "id": "896bf645",
   "metadata": {
    "slideshow": {
     "slide_type": "slide"
    }
   },
   "source": [
    "### [Evaluamos al profesor Marco Cañas Aquí](https://forms.office.com/Pages/ResponsePage.aspx?id=IefhmYRxjkmK_7KtTlPBwkanXIs1i1FEujpsZgO6dXpUREJPV1kxUk1JV1ozTFJIQVNIQjY5WEY3US4u)"
   ]
  },
  {
   "cell_type": "markdown",
   "id": "ef4f9f85",
   "metadata": {
    "slideshow": {
     "slide_type": "slide"
    }
   },
   "source": [
    "### Continue su aprendizaje en la siguiente clase a través del siguiente [vínculo](https://github.com/marco-canas/3_fundamentos-de-las-matematicas/blob/main/classes/11_class_march_23/11_class_march_23.ipynb)"
   ]
  },
  {
   "cell_type": "code",
   "execution_count": null,
   "id": "0e91d8f5",
   "metadata": {},
   "outputs": [],
   "source": []
  }
 ],
 "metadata": {
  "celltoolbar": "Slideshow",
  "kernelspec": {
   "display_name": "Python 3 (ipykernel)",
   "language": "python",
   "name": "python3"
  },
  "language_info": {
   "codemirror_mode": {
    "name": "ipython",
    "version": 3
   },
   "file_extension": ".py",
   "mimetype": "text/x-python",
   "name": "python",
   "nbconvert_exporter": "python",
   "pygments_lexer": "ipython3",
   "version": "3.9.13"
  },
  "rise": {
   "enable_chalkboard": true,
   "theme": "sky",
   "transition": "zoom"
  }
 },
 "nbformat": 4,
 "nbformat_minor": 5
}
