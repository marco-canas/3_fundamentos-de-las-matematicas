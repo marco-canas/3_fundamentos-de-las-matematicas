{
 "cells": [
  {
   "cell_type": "markdown",
   "id": "dc06dec7",
   "metadata": {
    "slideshow": {
     "slide_type": "slide"
    }
   },
   "source": [
    "<table align=\"left\">\n",
    "  <td>\n",
    "    <a href=\"https://colab.research.google.com/github/marco-canas/3_fundamentos-de-las-matematicas/blob/main/classes/14_class_april_11/14_class_april_11.ipynb\" target=\"_parent\"><img src=\"https://colab.research.google.com/assets/colab-badge.svg\" alt=\"Open In Colab\"/></a>\n",
    "  </td>\n",
    "</table>"
   ]
  },
  {
   "cell_type": "markdown",
   "id": "e0c5b198",
   "metadata": {
    "slideshow": {
     "slide_type": "slide"
    }
   },
   "source": [
    "### [Video de apoyo a la lectura interactiva y experimental de este cuaderno]()"
   ]
  },
  {
   "cell_type": "markdown",
   "id": "a0228934",
   "metadata": {
    "slideshow": {
     "slide_type": "slide"
    }
   },
   "source": [
    "El servicio docente a mis estudiantes, mi razón de ser: \n",
    "\n",
    "<img src = 'https://github.com/marco-canas/3_fundamentos-de-las-matematicas/blob/main/classes/14_class_april_11/licenciadoa_matematicas_6.jpg?raw=true'>"
   ]
  },
  {
   "cell_type": "markdown",
   "id": "ca46c23b",
   "metadata": {
    "slideshow": {
     "slide_type": "slide"
    }
   },
   "source": [
    "# Modelo general de clase: [aula invertida](https://www3.gobiernodecanarias.org/medusa/ecoescuela/pedagotic/aprendizaje-invertido-flipped-classroom/)\n",
    "\n",
    "## Definición y características de este modelo"
   ]
  },
  {
   "cell_type": "markdown",
   "id": "d2b0e776",
   "metadata": {
    "slideshow": {
     "slide_type": "slide"
    }
   },
   "source": [
    "## ¿Qué es?  \n",
    "\n",
    "Flipped Learning o aprendizaje invertido es un enfoque pedagógico en el que:  \n",
    "\n",
    "* la instrucción directa se realiza fuera del aula y \n",
    "* se utiliza el tiempo de clase para llevar a cabo actividades que impliquen el desarrollo de procesos cognitivos de mayor complejidad, en las que son necesarias la ayuda y la experiencia del docente."
   ]
  },
  {
   "cell_type": "markdown",
   "id": "fe710440",
   "metadata": {
    "slideshow": {
     "slide_type": "slide"
    }
   },
   "source": [
    "## ¿Para qué sirve?  \n",
    "\n",
    "Mejora el proceso de enseñanza-aprendizaje realizando,   \n",
    "\n",
    "* fuera del aula, actividades de aprendizaje sencillas (observar, memorizar, resumir, etc.) y, \n",
    "* en el aula, actividades más complejas (razonar, examinar, priorizar, argumentar, proponer, etc.) que requieren la interacción entre iguales y la ayuda del docente como facilitador."
   ]
  },
  {
   "cell_type": "code",
   "execution_count": null,
   "id": "50cfb100",
   "metadata": {
    "slideshow": {
     "slide_type": "slide"
    }
   },
   "outputs": [],
   "source": []
  },
  {
   "cell_type": "markdown",
   "id": "92fb379e",
   "metadata": {
    "slideshow": {
     "slide_type": "slide"
    }
   },
   "source": [
    "[Programa del curso de Fundamentos de las matemáticas](https://udeaeduco-my.sharepoint.com/:w:/g/personal/marco_canas_udea_edu_co/ER0iHSkdJvVCr1h9Ex1j8dcB3oleakLf59iBDUiJdhaXHA?e=4zVXDY)"
   ]
  },
  {
   "cell_type": "code",
   "execution_count": null,
   "id": "afb465cc",
   "metadata": {},
   "outputs": [],
   "source": []
  },
  {
   "cell_type": "markdown",
   "id": "6c403dcc",
   "metadata": {},
   "source": [
    "# Productos notables "
   ]
  },
  {
   "cell_type": "markdown",
   "id": "1d38dd4e",
   "metadata": {
    "slideshow": {
     "slide_type": "slide"
    }
   },
   "source": [
    "### Objetivo de aprendizaje\n",
    "\n",
    "* Revisión del parcial I que nos proponen como ejemplo de Medellín\n",
    "* Notación científica y porcentajes\n",
    "* Resolver ecuaciones con método gráfico (Página 110 del [precálculo de Stewart](https://udeaeduco-my.sharepoint.com/:b:/g/personal/marco_canas_udea_edu_co/ERHIq62I6qFNrmxy6LZb8ZMBci7kUsyNME1nIh9yCBMJ_w?e=g8W6Pc))\n",
    "\n"
   ]
  },
  {
   "cell_type": "markdown",
   "id": "ca7261b1",
   "metadata": {
    "slideshow": {
     "slide_type": "slide"
    }
   },
   "source": [
    "## Establecimiento de prerrequisitos conceptuales para alcanzar el objetivo de aprendizaje trazado. "
   ]
  },
  {
   "cell_type": "markdown",
   "id": "93d95a58",
   "metadata": {},
   "source": [
    "* El concepto de razon o división como instrumento de comparación y como instrumento para establecer medidad relativas. \n",
    "\n"
   ]
  },
  {
   "cell_type": "markdown",
   "id": "2298e976",
   "metadata": {
    "slideshow": {
     "slide_type": "slide"
    }
   },
   "source": [
    "# Para el diseño de la clase tenga en cuenta algunos problemas de aprendizaje"
   ]
  },
  {
   "cell_type": "code",
   "execution_count": null,
   "id": "523d3acf",
   "metadata": {
    "slideshow": {
     "slide_type": "slide"
    }
   },
   "outputs": [],
   "source": []
  },
  {
   "cell_type": "markdown",
   "id": "5083beac",
   "metadata": {},
   "source": [
    "# Secuencia de clase   \n",
    "\n",
    "1. ¿Qué es en realidad un polinomio?\n",
    "\n",
    "2. ¿Qué es una función polinomial?\n",
    "\n",
    "3. ¿Cómo son sus gráficos?"
   ]
  },
  {
   "cell_type": "markdown",
   "id": "1b226d68",
   "metadata": {},
   "source": [
    "¿Qué es en realidad un polinomio?\n",
    "\n",
    "Es una suma de productos. \n",
    "\n",
    "* ¿Qué son términos semejantes?"
   ]
  },
  {
   "cell_type": "markdown",
   "id": "e408dec1",
   "metadata": {},
   "source": []
  },
  {
   "cell_type": "code",
   "execution_count": null,
   "id": "6cbbf58d",
   "metadata": {},
   "outputs": [],
   "source": []
  },
  {
   "cell_type": "markdown",
   "id": "8a6f7ef9",
   "metadata": {
    "slideshow": {
     "slide_type": "slide"
    }
   },
   "source": [
    "## Tereas para realizar antes de la clase"
   ]
  },
  {
   "cell_type": "code",
   "execution_count": null,
   "id": "96efc3b4",
   "metadata": {
    "slideshow": {
     "slide_type": "slide"
    }
   },
   "outputs": [],
   "source": []
  },
  {
   "cell_type": "markdown",
   "id": "fccb447c",
   "metadata": {
    "slideshow": {
     "slide_type": "slide"
    }
   },
   "source": [
    "# Tareas para realizar en clase"
   ]
  },
  {
   "cell_type": "code",
   "execution_count": null,
   "id": "0b1fd827",
   "metadata": {
    "slideshow": {
     "slide_type": "slide"
    }
   },
   "outputs": [],
   "source": []
  },
  {
   "cell_type": "markdown",
   "id": "8b6b0112",
   "metadata": {
    "slideshow": {
     "slide_type": "slide"
    }
   },
   "source": [
    "# Tareas para realizar después de la realización de la clase"
   ]
  },
  {
   "cell_type": "markdown",
   "id": "c71d76b1",
   "metadata": {
    "slideshow": {
     "slide_type": "slide"
    }
   },
   "source": [
    "Realizar los ejercicios de la sección 1.3, página 32 del Stewart sobre polinomios, productos notables y factorización. \n",
    "\n",
    "Por lo menos realizar 20 ejercicios.\n",
    "\n",
    "\n",
    "Recuerde que son 137 ejercicios. "
   ]
  },
  {
   "cell_type": "code",
   "execution_count": 7,
   "id": "40041bf9",
   "metadata": {},
   "outputs": [
    {
     "name": "stdout",
     "output_type": "stream",
     "text": [
      "Asignaciones guardadas en tarea_seccion_1_3:precalculo_stewart.csv\n"
     ]
    },
    {
     "data": {
      "text/html": [
       "<div>\n",
       "<style scoped>\n",
       "    .dataframe tbody tr th:only-of-type {\n",
       "        vertical-align: middle;\n",
       "    }\n",
       "\n",
       "    .dataframe tbody tr th {\n",
       "        vertical-align: top;\n",
       "    }\n",
       "\n",
       "    .dataframe thead th {\n",
       "        text-align: right;\n",
       "    }\n",
       "</style>\n",
       "<table border=\"1\" class=\"dataframe\">\n",
       "  <thead>\n",
       "    <tr style=\"text-align: right;\">\n",
       "      <th></th>\n",
       "      <th>Student</th>\n",
       "      <th>Exer1</th>\n",
       "      <th>Exer2</th>\n",
       "      <th>Exer3</th>\n",
       "      <th>Exer4</th>\n",
       "      <th>Exer5</th>\n",
       "      <th>Exercise 6</th>\n",
       "      <th>Exercise 7</th>\n",
       "      <th>Exercise 8</th>\n",
       "      <th>Exercise 9</th>\n",
       "      <th>...</th>\n",
       "      <th>Exer11</th>\n",
       "      <th>Exer12</th>\n",
       "      <th>Exer13</th>\n",
       "      <th>Exer14</th>\n",
       "      <th>Exer15</th>\n",
       "      <th>Exer16</th>\n",
       "      <th>Exer17</th>\n",
       "      <th>Exer18</th>\n",
       "      <th>Exer19</th>\n",
       "      <th>exer20</th>\n",
       "    </tr>\n",
       "  </thead>\n",
       "  <tbody>\n",
       "    <tr>\n",
       "      <th>0</th>\n",
       "      <td>ARIAS ARRIETA FREDY</td>\n",
       "      <td>95</td>\n",
       "      <td>45</td>\n",
       "      <td>61</td>\n",
       "      <td>71</td>\n",
       "      <td>57</td>\n",
       "      <td>75</td>\n",
       "      <td>66</td>\n",
       "      <td>92</td>\n",
       "      <td>33</td>\n",
       "      <td>...</td>\n",
       "      <td>131</td>\n",
       "      <td>3</td>\n",
       "      <td>28</td>\n",
       "      <td>80</td>\n",
       "      <td>73</td>\n",
       "      <td>48</td>\n",
       "      <td>35</td>\n",
       "      <td>87</td>\n",
       "      <td>27</td>\n",
       "      <td>117</td>\n",
       "    </tr>\n",
       "    <tr>\n",
       "      <th>1</th>\n",
       "      <td>BOHORQUEZ NAVARRO DINA ESTELA</td>\n",
       "      <td>76</td>\n",
       "      <td>14</td>\n",
       "      <td>79</td>\n",
       "      <td>129</td>\n",
       "      <td>117</td>\n",
       "      <td>87</td>\n",
       "      <td>95</td>\n",
       "      <td>11</td>\n",
       "      <td>44</td>\n",
       "      <td>...</td>\n",
       "      <td>109</td>\n",
       "      <td>1</td>\n",
       "      <td>7</td>\n",
       "      <td>36</td>\n",
       "      <td>62</td>\n",
       "      <td>12</td>\n",
       "      <td>82</td>\n",
       "      <td>26</td>\n",
       "      <td>32</td>\n",
       "      <td>13</td>\n",
       "    </tr>\n",
       "    <tr>\n",
       "      <th>2</th>\n",
       "      <td>CARDONA RAM�REZ SARA PAULINA</td>\n",
       "      <td>79</td>\n",
       "      <td>99</td>\n",
       "      <td>107</td>\n",
       "      <td>15</td>\n",
       "      <td>6</td>\n",
       "      <td>10</td>\n",
       "      <td>69</td>\n",
       "      <td>68</td>\n",
       "      <td>23</td>\n",
       "      <td>...</td>\n",
       "      <td>130</td>\n",
       "      <td>46</td>\n",
       "      <td>51</td>\n",
       "      <td>62</td>\n",
       "      <td>13</td>\n",
       "      <td>11</td>\n",
       "      <td>22</td>\n",
       "      <td>14</td>\n",
       "      <td>125</td>\n",
       "      <td>45</td>\n",
       "    </tr>\n",
       "    <tr>\n",
       "      <th>3</th>\n",
       "      <td>CASTANEDA REINOZA DIEGO</td>\n",
       "      <td>130</td>\n",
       "      <td>98</td>\n",
       "      <td>80</td>\n",
       "      <td>127</td>\n",
       "      <td>59</td>\n",
       "      <td>16</td>\n",
       "      <td>31</td>\n",
       "      <td>69</td>\n",
       "      <td>60</td>\n",
       "      <td>...</td>\n",
       "      <td>109</td>\n",
       "      <td>27</td>\n",
       "      <td>104</td>\n",
       "      <td>120</td>\n",
       "      <td>94</td>\n",
       "      <td>108</td>\n",
       "      <td>46</td>\n",
       "      <td>125</td>\n",
       "      <td>20</td>\n",
       "      <td>12</td>\n",
       "    </tr>\n",
       "    <tr>\n",
       "      <th>4</th>\n",
       "      <td>ESPEJO PEREZ LUIS DAVID</td>\n",
       "      <td>12</td>\n",
       "      <td>16</td>\n",
       "      <td>34</td>\n",
       "      <td>37</td>\n",
       "      <td>76</td>\n",
       "      <td>116</td>\n",
       "      <td>24</td>\n",
       "      <td>102</td>\n",
       "      <td>131</td>\n",
       "      <td>...</td>\n",
       "      <td>60</td>\n",
       "      <td>39</td>\n",
       "      <td>51</td>\n",
       "      <td>36</td>\n",
       "      <td>1</td>\n",
       "      <td>81</td>\n",
       "      <td>117</td>\n",
       "      <td>134</td>\n",
       "      <td>114</td>\n",
       "      <td>47</td>\n",
       "    </tr>\n",
       "    <tr>\n",
       "      <th>5</th>\n",
       "      <td>HERNANDEZ GUERRA FABIAN ALEJANDRO</td>\n",
       "      <td>99</td>\n",
       "      <td>133</td>\n",
       "      <td>78</td>\n",
       "      <td>107</td>\n",
       "      <td>98</td>\n",
       "      <td>105</td>\n",
       "      <td>71</td>\n",
       "      <td>65</td>\n",
       "      <td>87</td>\n",
       "      <td>...</td>\n",
       "      <td>134</td>\n",
       "      <td>29</td>\n",
       "      <td>26</td>\n",
       "      <td>92</td>\n",
       "      <td>44</td>\n",
       "      <td>93</td>\n",
       "      <td>50</td>\n",
       "      <td>11</td>\n",
       "      <td>109</td>\n",
       "      <td>37</td>\n",
       "    </tr>\n",
       "    <tr>\n",
       "      <th>6</th>\n",
       "      <td>HERRERA PAYARES RAFAEL ANTONIO</td>\n",
       "      <td>47</td>\n",
       "      <td>28</td>\n",
       "      <td>1</td>\n",
       "      <td>54</td>\n",
       "      <td>73</td>\n",
       "      <td>36</td>\n",
       "      <td>103</td>\n",
       "      <td>19</td>\n",
       "      <td>31</td>\n",
       "      <td>...</td>\n",
       "      <td>45</td>\n",
       "      <td>26</td>\n",
       "      <td>132</td>\n",
       "      <td>59</td>\n",
       "      <td>14</td>\n",
       "      <td>70</td>\n",
       "      <td>24</td>\n",
       "      <td>55</td>\n",
       "      <td>79</td>\n",
       "      <td>97</td>\n",
       "    </tr>\n",
       "    <tr>\n",
       "      <th>7</th>\n",
       "      <td>LUCAS FLOREZ NAYELIS NATALIA</td>\n",
       "      <td>105</td>\n",
       "      <td>36</td>\n",
       "      <td>118</td>\n",
       "      <td>88</td>\n",
       "      <td>133</td>\n",
       "      <td>58</td>\n",
       "      <td>35</td>\n",
       "      <td>5</td>\n",
       "      <td>38</td>\n",
       "      <td>...</td>\n",
       "      <td>33</td>\n",
       "      <td>121</td>\n",
       "      <td>56</td>\n",
       "      <td>55</td>\n",
       "      <td>92</td>\n",
       "      <td>71</td>\n",
       "      <td>111</td>\n",
       "      <td>77</td>\n",
       "      <td>70</td>\n",
       "      <td>21</td>\n",
       "    </tr>\n",
       "    <tr>\n",
       "      <th>8</th>\n",
       "      <td>MARTINEZ BALLESTEROS VICTOR HUGO</td>\n",
       "      <td>43</td>\n",
       "      <td>133</td>\n",
       "      <td>38</td>\n",
       "      <td>88</td>\n",
       "      <td>99</td>\n",
       "      <td>13</td>\n",
       "      <td>89</td>\n",
       "      <td>92</td>\n",
       "      <td>41</td>\n",
       "      <td>...</td>\n",
       "      <td>23</td>\n",
       "      <td>52</td>\n",
       "      <td>51</td>\n",
       "      <td>57</td>\n",
       "      <td>116</td>\n",
       "      <td>4</td>\n",
       "      <td>131</td>\n",
       "      <td>68</td>\n",
       "      <td>39</td>\n",
       "      <td>114</td>\n",
       "    </tr>\n",
       "    <tr>\n",
       "      <th>9</th>\n",
       "      <td>MARTINEZ MENDOZA JAIR MIGUEL</td>\n",
       "      <td>26</td>\n",
       "      <td>46</td>\n",
       "      <td>84</td>\n",
       "      <td>133</td>\n",
       "      <td>7</td>\n",
       "      <td>103</td>\n",
       "      <td>16</td>\n",
       "      <td>48</td>\n",
       "      <td>90</td>\n",
       "      <td>...</td>\n",
       "      <td>116</td>\n",
       "      <td>91</td>\n",
       "      <td>129</td>\n",
       "      <td>71</td>\n",
       "      <td>93</td>\n",
       "      <td>2</td>\n",
       "      <td>74</td>\n",
       "      <td>68</td>\n",
       "      <td>89</td>\n",
       "      <td>12</td>\n",
       "    </tr>\n",
       "    <tr>\n",
       "      <th>10</th>\n",
       "      <td>MAZO PEREZ SAMUEL</td>\n",
       "      <td>65</td>\n",
       "      <td>37</td>\n",
       "      <td>111</td>\n",
       "      <td>14</td>\n",
       "      <td>75</td>\n",
       "      <td>42</td>\n",
       "      <td>49</td>\n",
       "      <td>66</td>\n",
       "      <td>36</td>\n",
       "      <td>...</td>\n",
       "      <td>31</td>\n",
       "      <td>129</td>\n",
       "      <td>46</td>\n",
       "      <td>73</td>\n",
       "      <td>81</td>\n",
       "      <td>12</td>\n",
       "      <td>83</td>\n",
       "      <td>123</td>\n",
       "      <td>102</td>\n",
       "      <td>91</td>\n",
       "    </tr>\n",
       "    <tr>\n",
       "      <th>11</th>\n",
       "      <td>MONTES DIAZ DIEGO ALEJANDRO</td>\n",
       "      <td>34</td>\n",
       "      <td>111</td>\n",
       "      <td>9</td>\n",
       "      <td>65</td>\n",
       "      <td>57</td>\n",
       "      <td>39</td>\n",
       "      <td>87</td>\n",
       "      <td>61</td>\n",
       "      <td>56</td>\n",
       "      <td>...</td>\n",
       "      <td>7</td>\n",
       "      <td>43</td>\n",
       "      <td>120</td>\n",
       "      <td>110</td>\n",
       "      <td>81</td>\n",
       "      <td>18</td>\n",
       "      <td>115</td>\n",
       "      <td>20</td>\n",
       "      <td>109</td>\n",
       "      <td>112</td>\n",
       "    </tr>\n",
       "    <tr>\n",
       "      <th>12</th>\n",
       "      <td>OCHOA ARRIETA JUAN ANDRES</td>\n",
       "      <td>69</td>\n",
       "      <td>66</td>\n",
       "      <td>107</td>\n",
       "      <td>112</td>\n",
       "      <td>6</td>\n",
       "      <td>8</td>\n",
       "      <td>58</td>\n",
       "      <td>41</td>\n",
       "      <td>80</td>\n",
       "      <td>...</td>\n",
       "      <td>75</td>\n",
       "      <td>56</td>\n",
       "      <td>73</td>\n",
       "      <td>36</td>\n",
       "      <td>26</td>\n",
       "      <td>83</td>\n",
       "      <td>27</td>\n",
       "      <td>47</td>\n",
       "      <td>124</td>\n",
       "      <td>120</td>\n",
       "    </tr>\n",
       "    <tr>\n",
       "      <th>13</th>\n",
       "      <td>RUIZ CARDENAS LUIS MARIO</td>\n",
       "      <td>64</td>\n",
       "      <td>21</td>\n",
       "      <td>45</td>\n",
       "      <td>55</td>\n",
       "      <td>39</td>\n",
       "      <td>29</td>\n",
       "      <td>114</td>\n",
       "      <td>99</td>\n",
       "      <td>8</td>\n",
       "      <td>...</td>\n",
       "      <td>125</td>\n",
       "      <td>78</td>\n",
       "      <td>97</td>\n",
       "      <td>57</td>\n",
       "      <td>96</td>\n",
       "      <td>111</td>\n",
       "      <td>130</td>\n",
       "      <td>107</td>\n",
       "      <td>80</td>\n",
       "      <td>52</td>\n",
       "    </tr>\n",
       "    <tr>\n",
       "      <th>14</th>\n",
       "      <td>SIERRA OLIVEROS OMAR DARIO</td>\n",
       "      <td>62</td>\n",
       "      <td>44</td>\n",
       "      <td>116</td>\n",
       "      <td>112</td>\n",
       "      <td>69</td>\n",
       "      <td>63</td>\n",
       "      <td>110</td>\n",
       "      <td>28</td>\n",
       "      <td>93</td>\n",
       "      <td>...</td>\n",
       "      <td>90</td>\n",
       "      <td>21</td>\n",
       "      <td>50</td>\n",
       "      <td>56</td>\n",
       "      <td>33</td>\n",
       "      <td>80</td>\n",
       "      <td>77</td>\n",
       "      <td>4</td>\n",
       "      <td>126</td>\n",
       "      <td>86</td>\n",
       "    </tr>\n",
       "    <tr>\n",
       "      <th>15</th>\n",
       "      <td>SUAREZ RESTREPO MARIA ANGELICA</td>\n",
       "      <td>112</td>\n",
       "      <td>29</td>\n",
       "      <td>1</td>\n",
       "      <td>13</td>\n",
       "      <td>34</td>\n",
       "      <td>8</td>\n",
       "      <td>36</td>\n",
       "      <td>12</td>\n",
       "      <td>83</td>\n",
       "      <td>...</td>\n",
       "      <td>74</td>\n",
       "      <td>32</td>\n",
       "      <td>87</td>\n",
       "      <td>43</td>\n",
       "      <td>65</td>\n",
       "      <td>86</td>\n",
       "      <td>132</td>\n",
       "      <td>101</td>\n",
       "      <td>76</td>\n",
       "      <td>7</td>\n",
       "    </tr>\n",
       "    <tr>\n",
       "      <th>16</th>\n",
       "      <td>TAMAYO DE LA OSSA SARA</td>\n",
       "      <td>36</td>\n",
       "      <td>70</td>\n",
       "      <td>49</td>\n",
       "      <td>102</td>\n",
       "      <td>93</td>\n",
       "      <td>71</td>\n",
       "      <td>58</td>\n",
       "      <td>119</td>\n",
       "      <td>118</td>\n",
       "      <td>...</td>\n",
       "      <td>56</td>\n",
       "      <td>29</td>\n",
       "      <td>74</td>\n",
       "      <td>44</td>\n",
       "      <td>14</td>\n",
       "      <td>131</td>\n",
       "      <td>112</td>\n",
       "      <td>51</td>\n",
       "      <td>10</td>\n",
       "      <td>134</td>\n",
       "    </tr>\n",
       "  </tbody>\n",
       "</table>\n",
       "<p>17 rows × 21 columns</p>\n",
       "</div>"
      ],
      "text/plain": [
       "                              Student  Exer1  Exer2  Exer3  Exer4  Exer5  \\\n",
       "0                 ARIAS ARRIETA FREDY     95     45     61     71     57   \n",
       "1       BOHORQUEZ NAVARRO DINA ESTELA     76     14     79    129    117   \n",
       "2        CARDONA RAM�REZ SARA PAULINA     79     99    107     15      6   \n",
       "3             CASTANEDA REINOZA DIEGO    130     98     80    127     59   \n",
       "4             ESPEJO PEREZ LUIS DAVID     12     16     34     37     76   \n",
       "5   HERNANDEZ GUERRA FABIAN ALEJANDRO     99    133     78    107     98   \n",
       "6      HERRERA PAYARES RAFAEL ANTONIO     47     28      1     54     73   \n",
       "7        LUCAS FLOREZ NAYELIS NATALIA    105     36    118     88    133   \n",
       "8    MARTINEZ BALLESTEROS VICTOR HUGO     43    133     38     88     99   \n",
       "9        MARTINEZ MENDOZA JAIR MIGUEL     26     46     84    133      7   \n",
       "10                  MAZO PEREZ SAMUEL     65     37    111     14     75   \n",
       "11        MONTES DIAZ DIEGO ALEJANDRO     34    111      9     65     57   \n",
       "12          OCHOA ARRIETA JUAN ANDRES     69     66    107    112      6   \n",
       "13           RUIZ CARDENAS LUIS MARIO     64     21     45     55     39   \n",
       "14         SIERRA OLIVEROS OMAR DARIO     62     44    116    112     69   \n",
       "15     SUAREZ RESTREPO MARIA ANGELICA    112     29      1     13     34   \n",
       "16             TAMAYO DE LA OSSA SARA     36     70     49    102     93   \n",
       "\n",
       "    Exercise 6  Exercise 7  Exercise 8  Exercise 9  ...  Exer11  Exer12  \\\n",
       "0           75          66          92          33  ...     131       3   \n",
       "1           87          95          11          44  ...     109       1   \n",
       "2           10          69          68          23  ...     130      46   \n",
       "3           16          31          69          60  ...     109      27   \n",
       "4          116          24         102         131  ...      60      39   \n",
       "5          105          71          65          87  ...     134      29   \n",
       "6           36         103          19          31  ...      45      26   \n",
       "7           58          35           5          38  ...      33     121   \n",
       "8           13          89          92          41  ...      23      52   \n",
       "9          103          16          48          90  ...     116      91   \n",
       "10          42          49          66          36  ...      31     129   \n",
       "11          39          87          61          56  ...       7      43   \n",
       "12           8          58          41          80  ...      75      56   \n",
       "13          29         114          99           8  ...     125      78   \n",
       "14          63         110          28          93  ...      90      21   \n",
       "15           8          36          12          83  ...      74      32   \n",
       "16          71          58         119         118  ...      56      29   \n",
       "\n",
       "    Exer13  Exer14  Exer15  Exer16  Exer17  Exer18  Exer19  exer20  \n",
       "0       28      80      73      48      35      87      27     117  \n",
       "1        7      36      62      12      82      26      32      13  \n",
       "2       51      62      13      11      22      14     125      45  \n",
       "3      104     120      94     108      46     125      20      12  \n",
       "4       51      36       1      81     117     134     114      47  \n",
       "5       26      92      44      93      50      11     109      37  \n",
       "6      132      59      14      70      24      55      79      97  \n",
       "7       56      55      92      71     111      77      70      21  \n",
       "8       51      57     116       4     131      68      39     114  \n",
       "9      129      71      93       2      74      68      89      12  \n",
       "10      46      73      81      12      83     123     102      91  \n",
       "11     120     110      81      18     115      20     109     112  \n",
       "12      73      36      26      83      27      47     124     120  \n",
       "13      97      57      96     111     130     107      80      52  \n",
       "14      50      56      33      80      77       4     126      86  \n",
       "15      87      43      65      86     132     101      76       7  \n",
       "16      74      44      14     131     112      51      10     134  \n",
       "\n",
       "[17 rows x 21 columns]"
      ]
     },
     "execution_count": 7,
     "metadata": {},
     "output_type": "execute_result"
    }
   ],
   "source": [
    "# asignación de tres ejercicio del taller para quiz\n",
    "\n",
    "import pandas as pd\n",
    "import numpy as np\n",
    "import random\n",
    "import requests\n",
    "np.random.seed(42)\n",
    "# Descargar la lista de  estudiantes y ejercicios\n",
    "students_url = \"https://raw.githubusercontent.com/marco-canas/groups_list/main/fund_math.csv\"\n",
    "exercises = list(range(1, 135))  # Lista de ejercicios del 1 al 83\n",
    "\n",
    "# Cargar la lista de estudiantes\n",
    "students_data = pd.read_csv(students_url)\n",
    "\n",
    "# Crear una lista para almacenar las asignaciones\n",
    "assignments = []\n",
    "\n",
    "# Asignar ejercicios aleatorios a cada estudiante\n",
    "for index, student in students_data.iterrows():\n",
    "    random_exercises = random.sample(exercises, 20)  # Seleccionar 5 ejercicios aleatorios sin repetición\n",
    "    assignments.append([students_data[\"Nombre\"][index], *random_exercises])  # Agregar asignación a la lista\n",
    "\n",
    "# Crear un DataFrame con las asignaciones\n",
    "columns = [\"Student\", \"Exer1\", \"Exer2\", \"Exer3\",\"Exer4\", \"Exer5\", \\\n",
    "           \"Exercise 6\", \"Exercise 7\", \"Exercise 8\", \"Exercise 9\", \"exercise 10\", \\\n",
    "           \"Exer11\", \"Exer12\", \"Exer13\",\"Exer14\", \"Exer15\", \\\n",
    "           \"Exer16\", \"Exer17\", \"Exer18\", \"Exer19\", \"exer20\"\n",
    "            ]\n",
    "assignment_df = pd.DataFrame(assignments, columns=columns)\n",
    "\n",
    "# Guardar el DataFrame en un archivo CSV\n",
    "assignment_csv = \"tarea_seccion_1_3:precalculo_stewart.csv\"\n",
    "assignment_df.to_csv(assignment_csv, index=False)\n",
    "\n",
    "print(\"Asignaciones guardadas en\", assignment_csv)\n",
    "assignment_df"
   ]
  },
  {
   "cell_type": "code",
   "execution_count": 9,
   "id": "54032b83",
   "metadata": {},
   "outputs": [
    {
     "data": {
      "text/latex": [
       "$\\displaystyle 2 x y^{3} \\cdot \\left(9 x - y\\right)$"
      ],
      "text/plain": [
       "2*x*y**3*(9*x - y)"
      ]
     },
     "execution_count": 9,
     "metadata": {},
     "output_type": "execute_result"
    }
   ],
   "source": [
    "from sympy import * \n",
    "\n",
    "x,y,r = var('x,y,r')\n",
    "\n",
    "polinomio = 18*y**3*x**2-2*x*y**4\n",
    "polinomio.factor() \n"
   ]
  },
  {
   "cell_type": "code",
   "execution_count": 10,
   "id": "3709eff5",
   "metadata": {},
   "outputs": [
    {
     "data": {
      "text/latex": [
       "$\\displaystyle 18 x^{2} y^{3} - 2 x y^{4}$"
      ],
      "text/plain": [
       "18*x**2*y**3 - 2*x*y**4"
      ]
     },
     "execution_count": 10,
     "metadata": {},
     "output_type": "execute_result"
    }
   ],
   "source": [
    "nuevo_polinomio = 2*x*y**3*(9*x-y)\n",
    "nuevo_polinomio.expand() "
   ]
  },
  {
   "cell_type": "code",
   "execution_count": null,
   "id": "1b02c6a9",
   "metadata": {},
   "outputs": [],
   "source": []
  },
  {
   "cell_type": "markdown",
   "id": "3686d66f",
   "metadata": {
    "slideshow": {
     "slide_type": "slide"
    }
   },
   "source": [
    "## Dificultades de aprendizaje detectados durante la clase"
   ]
  },
  {
   "cell_type": "markdown",
   "id": "94fa4cae",
   "metadata": {
    "slideshow": {
     "slide_type": "slide"
    }
   },
   "source": [
    "El siguiente meme, describe una dificultas de aprendizaje presente en muchos estudiantes: \n",
    "\n",
    "<img src = 'https://tierradenumeros.com/post/meme-cuadrado-de-una-suma/featured.png'>\n",
    "\n",
    "Es decir, se piensa erroneamente que la potenciación distribuye para sumas. En particular se cree que el cuadradp de una suma es la suma de los cuadrados. \n",
    "\n"
   ]
  },
  {
   "cell_type": "markdown",
   "id": "5f77c510",
   "metadata": {
    "slideshow": {
     "slide_type": "slide"
    }
   },
   "source": [
    "## Estrategias propuestas para la solución de las dificultades de aprendizaje detectadas"
   ]
  },
  {
   "cell_type": "markdown",
   "id": "c4cf1d32",
   "metadata": {
    "slideshow": {
     "slide_type": "slide"
    }
   },
   "source": [
    "* Uso de la interpretación geométrica del cuadrado de una suma. "
   ]
  },
  {
   "cell_type": "markdown",
   "id": "d11570a2",
   "metadata": {
    "slideshow": {
     "slide_type": "slide"
    }
   },
   "source": [
    "## Cuestionario para realizar labores de memorización y observación,  a la síntesis de la información"
   ]
  },
  {
   "cell_type": "markdown",
   "id": "540f0ec1",
   "metadata": {
    "slideshow": {
     "slide_type": "slide"
    }
   },
   "source": [
    "1. ¿Que es un campo?\n",
    "\n",
    "[la grabación de que es un campo]()\n",
    "\n",
    "2. ¿Cómo se multiplican binomios?  \n",
    "\n",
    "3. Enuncie los productos notables\n",
    "\n",
    "\n",
    "\n",
    "\n"
   ]
  },
  {
   "cell_type": "markdown",
   "id": "564fa59d",
   "metadata": {
    "slideshow": {
     "slide_type": "slide"
    }
   },
   "source": [
    "### Comparta sus cuadernos y videos, evidencias de su aprendizaje [aquí](https://forms.office.com/Pages/ResponsePage.aspx?id=IefhmYRxjkmK_7KtTlPBwkanXIs1i1FEujpsZgO6dXpUMEMwTEZVMzEwVVBPTElWNVg5OVEyWUhMUy4u)"
   ]
  },
  {
   "cell_type": "code",
   "execution_count": null,
   "id": "5fe498b3",
   "metadata": {
    "slideshow": {
     "slide_type": "slide"
    }
   },
   "outputs": [],
   "source": []
  },
  {
   "cell_type": "markdown",
   "id": "44be6d93",
   "metadata": {
    "slideshow": {
     "slide_type": "slide"
    }
   },
   "source": [
    "# Vocabulary "
   ]
  },
  {
   "cell_type": "code",
   "execution_count": null,
   "id": "99b8dfed",
   "metadata": {
    "slideshow": {
     "slide_type": "slide"
    }
   },
   "outputs": [],
   "source": []
  },
  {
   "cell_type": "markdown",
   "id": "ee46cb9a",
   "metadata": {
    "slideshow": {
     "slide_type": "slide"
    }
   },
   "source": [
    "## Mapa conceptual que vincula los conceptos asoaciados al objetivo de aprendizaje"
   ]
  },
  {
   "cell_type": "code",
   "execution_count": null,
   "id": "bf552488",
   "metadata": {
    "slideshow": {
     "slide_type": "slide"
    }
   },
   "outputs": [],
   "source": []
  },
  {
   "cell_type": "markdown",
   "id": "0266e3c5",
   "metadata": {
    "slideshow": {
     "slide_type": "slide"
    }
   },
   "source": [
    "## Quiz de 5 minutos para ejercitación y adquisición de habilidades "
   ]
  },
  {
   "cell_type": "markdown",
   "id": "3a1b127f",
   "metadata": {
    "slideshow": {
     "slide_type": "slide"
    }
   },
   "source": []
  },
  {
   "cell_type": "markdown",
   "id": "10bce0d0",
   "metadata": {
    "slideshow": {
     "slide_type": "slide"
    }
   },
   "source": [
    "## Referentes "
   ]
  },
  {
   "cell_type": "markdown",
   "id": "1db3c468",
   "metadata": {
    "slideshow": {
     "slide_type": "slide"
    }
   },
   "source": [
    "* [stewart precálculo](https://udeaeduco-my.sharepoint.com/:b:/g/personal/marco_canas_udea_edu_co/ERHIq62I6qFNrmxy6LZb8ZMBci7kUsyNME1nIh9yCBMJ_w?e=g8W6Pc)\n",
    "* [stewart cálculo]()\n",
    "* [larson]()\n",
    "\n",
    "* []()"
   ]
  },
  {
   "cell_type": "markdown",
   "id": "6b9e56a8",
   "metadata": {
    "slideshow": {
     "slide_type": "slide"
    }
   },
   "source": [
    "### [Evaluamos al profesor Marco Cañas Aquí](https://forms.office.com/Pages/ResponsePage.aspx?id=IefhmYRxjkmK_7KtTlPBwkanXIs1i1FEujpsZgO6dXpUREJPV1kxUk1JV1ozTFJIQVNIQjY5WEY3US4u)"
   ]
  },
  {
   "cell_type": "markdown",
   "id": "8b271a48",
   "metadata": {
    "slideshow": {
     "slide_type": "slide"
    }
   },
   "source": [
    "[evaluación luego de alcanzar estos objetivos de aprendizaje](https://github.com/marco-canas/3_fundamentos-de-las-matematicas/blob/main/evaluation/parcial_1/parcial_1_1.ipynb)"
   ]
  },
  {
   "cell_type": "markdown",
   "id": "10f43536",
   "metadata": {
    "slideshow": {
     "slide_type": "slide"
    }
   },
   "source": [
    "### Continue su aprendizaje en la siguiente clase a través del siguiente [vínculo]()"
   ]
  },
  {
   "cell_type": "code",
   "execution_count": null,
   "id": "5382f883",
   "metadata": {},
   "outputs": [],
   "source": []
  }
 ],
 "metadata": {
  "celltoolbar": "Slideshow",
  "kernelspec": {
   "display_name": "Python 3 (ipykernel)",
   "language": "python",
   "name": "python3"
  },
  "language_info": {
   "codemirror_mode": {
    "name": "ipython",
    "version": 3
   },
   "file_extension": ".py",
   "mimetype": "text/x-python",
   "name": "python",
   "nbconvert_exporter": "python",
   "pygments_lexer": "ipython3",
   "version": "3.10.12"
  },
  "rise": {
   "enable_chalkboard": true,
   "theme": "sky",
   "transition": "zoom"
  }
 },
 "nbformat": 4,
 "nbformat_minor": 5
}
