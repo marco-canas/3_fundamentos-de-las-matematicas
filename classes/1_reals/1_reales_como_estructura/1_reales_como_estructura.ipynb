{
 "cells": [
  {
   "cell_type": "markdown",
   "id": "98cba88d",
   "metadata": {
    "slideshow": {
     "slide_type": "slide"
    }
   },
   "source": [
    "<table align=\"left\">\n",
    "  <td>\n",
    "    <a href=\"https://colab.research.google.com/github/marco-canas/fundamentos_de_las_matematicas/blob/main/classes/1_reals/1_reales_como_estructura/1_reales_como_estructura.ipynb\" target=\"_parent\"><img src=\"https://colab.research.google.com/assets/colab-badge.svg\" alt=\"Open In Colab\"/></a>\n",
    "  </td>\n",
    "</table>"
   ]
  },
  {
   "cell_type": "markdown",
   "id": "5271ad51",
   "metadata": {},
   "source": [
    "Esta clase es un servicio de enseñanza a estos valiosos estudiantes:\n",
    "\n",
    "<img src = 'https://github.com/marco-canas/3_fundamentos-de-las-matematicas/blob/main/images/photos/estudiantes_lic_math_2023-08-01.jpeg?raw=true' width = 700>"
   ]
  },
  {
   "cell_type": "markdown",
   "id": "56fbcb10",
   "metadata": {},
   "source": [
    "# Participación aleatoria en clase"
   ]
  },
  {
   "cell_type": "code",
   "execution_count": null,
   "id": "7cfb8827",
   "metadata": {},
   "outputs": [],
   "source": [
    "import pandas as pd\n",
    "import random\n",
    "\n",
    "# Cargar la lista de estudiantes desde la URL\n",
    "url = 'https://raw.githubusercontent.com/marco-canas/groups_list/main/fund_aritmetica.csv'\n",
    "estudiantes = pd.read_csv(url)\n",
    "\n",
    "# Función para llamar a un estudiante aleatoriamente y registrar su nota de seguimiento\n",
    "def llamar_estudiante():\n",
    "    estudiante_aleatorio = random.choice(estudiantes['Nombre'])\n",
    "    print(f\"Llamando a {estudiante_aleatorio}...\")\n",
    "    \n",
    "    nota_seguimiento = float(input(\"Ingrese la nota de seguimiento para el estudiante (0-5): \"))\n",
    "    \n",
    "    # Validar que la nota esté en el rango correcto (0-5)\n",
    "    if nota_seguimiento < 0 or nota_seguimiento > 5:\n",
    "        print(\"La nota debe estar en el rango de 0 a 5.\")\n",
    "        return\n",
    "    \n",
    "    # Actualizar la nota de seguimiento en el DataFrame\n",
    "    index_estudiante = estudiantes[estudiantes['Nombre'] == estudiante_aleatorio].index\n",
    "    estudiantes.at[index_estudiante, 'Seguimiento'] = nota_seguimiento\n",
    "    \n",
    "    # Guardar el DataFrame actualizado en un archivo CSV\n",
    "    estudiantes.to_csv('calificaciones_fundamentos_aritmetica.csv', index=False)\n",
    "    \n",
    "    print(f\"Nota de seguimiento registrada para {estudiante_aleatorio}: {nota_seguimiento}\")\n",
    "    \n",
    "# Llamar a la función para realizar el proceso\n",
    "llamar_estudiante()\n"
   ]
  },
  {
   "cell_type": "markdown",
   "id": "294ecdc2",
   "metadata": {
    "slideshow": {
     "slide_type": "slide"
    }
   },
   "source": [
    "## [Descripción de la lista de reproducción de apoyo al aprendizaje]()"
   ]
  },
  {
   "cell_type": "markdown",
   "id": "1b425011",
   "metadata": {
    "slideshow": {
     "slide_type": "slide"
    }
   },
   "source": [
    "* la tuplas en python\n",
    "* cómo definir funciones\n",
    "* La documentación de las funciones en Python \n",
    "* el módulo pyplot de la librería matplitlib\n",
    "* el módulo animation de la librería matplotlib\n"
   ]
  },
  {
   "cell_type": "markdown",
   "id": "c963b5fc",
   "metadata": {},
   "source": [
    "# Programa del curso de Fundamentos de las matemáticas y vículo de la página del programa:\n",
    "\n",
    "* [Programa del curso de Fundamentos de las matemáticas en GitHub](https://github.com/marco-canas/3_fundamentos-de-las-matematicas)\n",
    "\n",
    "* [Programa de Licenciatura en matemáticas](https://www.udea.edu.co/wps/portal/udea/web/inicio/unidades-academicas/educacion/oferta-pregrado/licenciatura-matematicas)"
   ]
  },
  {
   "cell_type": "markdown",
   "id": "fef8a4d0",
   "metadata": {
    "slideshow": {
     "slide_type": "slide"
    }
   },
   "source": [
    "# Clase: Números reales"
   ]
  },
  {
   "cell_type": "markdown",
   "id": "afe553bf",
   "metadata": {
    "slideshow": {
     "slide_type": "slide"
    }
   },
   "source": [
    "## Modelo pedagógico de aula invertida"
   ]
  },
  {
   "cell_type": "markdown",
   "id": "7f6b83d7",
   "metadata": {},
   "source": [
    "### ¿Por qué la metodología de cada clase sea de seminario en una metodología de curso de aula invertida?"
   ]
  },
  {
   "cell_type": "markdown",
   "id": "26dfd958",
   "metadata": {},
   "source": [
    "La combinación de la metodología de seminario y el enfoque de enseñanza de aula invertida puede ofrecer una experiencia educativa altamente enriquecedora para los estudiantes. Aquí hay algunas justificaciones para esta combinación:\n"
   ]
  },
  {
   "cell_type": "markdown",
   "id": "81fbc39b",
   "metadata": {},
   "source": [
    "\n",
    "1. Fomenta la participación activa: El enfoque de aula invertida permite que los estudiantes adquieran conocimientos previos antes de la clase, lo que les permite participar más activamente en el seminario. Al llegar a la clase con una comprensión básica del tema, los estudiantes pueden plantear preguntas más profundas, compartir sus puntos de vista y contribuir significativamente a las discusiones.\n"
   ]
  },
  {
   "cell_type": "markdown",
   "id": "4d201736",
   "metadata": {},
   "source": [
    "\n",
    "2. Desarrolla habilidades de investigación y autoaprendizaje: La metodología de aula invertida impulsa a los estudiantes a investigar y aprender por sí mismos antes de la clase. Al realizar esta preparación previa, los estudiantes desarrollan habilidades de investigación y autoaprendizaje, lo que les permite profundizar en el tema y abordar nuevas perspectivas durante el seminario.\n"
   ]
  },
  {
   "cell_type": "markdown",
   "id": "b8afd0d7",
   "metadata": {},
   "source": [
    "\n",
    "3. Fomenta el pensamiento crítico: El seminario es un espacio ideal para el debate y la discusión. Los estudiantes pueden presentar y defender sus ideas, cuestionar las de otros y analizar diferentes puntos de vista. Esta interacción activa fomenta el pensamiento crítico y ayuda a los estudiantes a desarrollar su capacidad para evaluar información y argumentos de manera más profunda.\n"
   ]
  },
  {
   "cell_type": "markdown",
   "id": "c18b9245",
   "metadata": {},
   "source": [
    "\n",
    "4. Facilita el aprendizaje colaborativo: Tanto el enfoque de aula invertida como la metodología de seminario promueven el aprendizaje colaborativo. Los estudiantes trabajan juntos para resolver problemas, discutir conceptos y compartir ideas. Esto fomenta la construcción colectiva del conocimiento y mejora la comprensión del tema a través del intercambio de perspectivas.\n"
   ]
  },
  {
   "cell_type": "markdown",
   "id": "a2cc5c5f",
   "metadata": {},
   "source": [
    "\n",
    "5. Permite un enfoque centrado en el estudiante: Tanto el aula invertida como los seminarios se centran en el estudiante como protagonista de su propio aprendizaje. Los estudiantes tienen la oportunidad de explorar el contenido a su propio ritmo antes de la clase y luego interactuar activamente durante el seminario. Esto los empodera y les brinda un mayor sentido de responsabilidad en su proceso de aprendizaje.\n"
   ]
  },
  {
   "cell_type": "markdown",
   "id": "a0647af0",
   "metadata": {},
   "source": [
    "\n",
    "6. Mejora la retención del conocimiento: Al combinar el estudio previo con la discusión en el seminario, los estudiantes están más involucrados y conectados con el contenido. Esta combinación de enfoques puede mejorar la retención del conocimiento a largo plazo, ya que los estudiantes están más comprometidos y han reflexionado sobre el material antes y después de la clase.\n"
   ]
  },
  {
   "cell_type": "markdown",
   "id": "0bb7ca59",
   "metadata": {},
   "source": [
    "\n",
    "En resumen, la combinación de la metodología de seminario y el enfoque de aula invertida es altamente beneficiosa para el aprendizaje de los estudiantes, ya que promueve la participación activa, el pensamiento crítico, el aprendizaje colaborativo y el desarrollo de habilidades de investigación. Esto crea una experiencia educativa más significativa y enriquecedora para los estudiantes, lo que les ayuda a comprender mejor los conceptos y aplicarlos de manera más efectiva en su formación académica y en su vida profesional."
   ]
  },
  {
   "cell_type": "markdown",
   "id": "e2f09cc6",
   "metadata": {
    "slideshow": {
     "slide_type": "slide"
    }
   },
   "source": [
    "# Título de la clase tipo Seminario: \"Introducción a los Números Reales como Estructura Algebraica de Campo con Python y SymPy\"\n"
   ]
  },
  {
   "cell_type": "markdown",
   "id": "45982d43",
   "metadata": {},
   "source": [
    "# Componente histórico de los números reales"
   ]
  },
  {
   "cell_type": "markdown",
   "id": "595fc884",
   "metadata": {},
   "source": [
    "# Componente epistemológico"
   ]
  },
  {
   "cell_type": "markdown",
   "id": "ba4494b1",
   "metadata": {},
   "source": [
    "\n",
    "$(\\mathbb{R}, +, \\ast)$\n",
    "\n",
    "$a-b := a + (-b)$\n",
    "\n",
    "$$ \\frac{a}{b} = a \\cdot b^{-1} = a \\cdot \\frac{1}{b} $$"
   ]
  },
  {
   "cell_type": "markdown",
   "id": "53469c77",
   "metadata": {},
   "source": [
    "\n",
    "## Descripción del Seminario:\n"
   ]
  },
  {
   "cell_type": "markdown",
   "id": "ea75c827",
   "metadata": {},
   "source": [
    "Este seminario tiene como objetivo proporcionar una introducción práctica a los números reales como estructura algebraica de campo utilizando el lenguaje de programación Python y la librería SymPy. Los participantes aprenderán a utilizar Python para realizar operaciones algebraicas en los números reales y comprenderán cómo estas propiedades se relacionan con la estructura de campo.\n"
   ]
  },
  {
   "cell_type": "markdown",
   "id": "4942f6a6",
   "metadata": {},
   "source": [
    "\n",
    "Duración: 2 horas (puede variar según las necesidades y nivel de conocimiento de los participantes)\n"
   ]
  },
  {
   "cell_type": "markdown",
   "id": "484e55f4",
   "metadata": {},
   "source": [
    "\n",
    "Requisitos previos:\n",
    "- Conocimientos básicos de álgebra y programación en Python.\n",
    "- Tener instalada la librería SymPy en Python (se proporcionará información sobre cómo instalarla antes del seminario).\n",
    "\n",
    "[Video de cómo instalar python y sympy en Google Colaboratory (online) y Visual Studio Code (offline)]()\n"
   ]
  },
  {
   "cell_type": "markdown",
   "id": "5cc464a3",
   "metadata": {},
   "source": [
    "\n",
    "Temario:\n",
    "\n",
    "1. Introducción a los Números Reales y la Estructura de Campo\n",
    "   - Definición de los números reales.\n",
    "   - Propiedades de los números reales como estructura de campo (adición, multiplicación, inversos, distributividad).\n"
   ]
  },
  {
   "cell_type": "markdown",
   "id": "80047568",
   "metadata": {},
   "source": [
    "## [Video de apoyo a la lectura interactiva y experimental de este cuaderno](https://www.youtube.com/watch?v=ouxuFln96DY) "
   ]
  },
  {
   "cell_type": "markdown",
   "id": "f62aeb27",
   "metadata": {},
   "source": [
    "\n",
    "2. Introducción a SymPy\n",
    "   - ¿Qué es SymPy y por qué usarlo para álgebra simbólica?\n",
    "   - Instalación de SymPy y configuración del entorno de trabajo.\n"
   ]
  },
  {
   "cell_type": "markdown",
   "id": "70ac1b03",
   "metadata": {},
   "source": [
    "\n",
    "3. Operaciones Básicas con Números Reales en SymPy\n",
    "   - Suma, resta, multiplicación y división de números reales con SymPy.\n",
    "   - Simplificación y evaluación de expresiones algebraicas.\n"
   ]
  },
  {
   "cell_type": "markdown",
   "id": "806bbd34",
   "metadata": {},
   "source": [
    "\n",
    "4. Propiedades de los Números Reales con SymPy\n",
    "   - Verificación de las propiedades de la estructura de campo usando SymPy.\n",
    "   - Demostraciones algebraicas con SymPy.\n"
   ]
  },
  {
   "cell_type": "markdown",
   "id": "ec432de4",
   "metadata": {},
   "source": [
    "\n",
    "5. Resolución de Ecuaciones en los Números Reales\n",
    "   - Resolución de ecuaciones lineales y cuadráticas con SymPy.\n",
    "   - Interpretación gráfica de las soluciones en el plano cartesiano.\n"
   ]
  },
  {
   "cell_type": "markdown",
   "id": "1d22cc91",
   "metadata": {},
   "source": [
    "\n",
    "6. Aplicaciones Prácticas\n",
    "   - Aplicación de los números reales y SymPy en problemas de ingeniería, ciencias y matemáticas.\n"
   ]
  },
  {
   "cell_type": "markdown",
   "id": "94cdce0c",
   "metadata": {},
   "source": [
    "\n",
    "7. Proyecto Práctico\n",
    "   - Los participantes resolverán un problema que involucre operaciones con números reales utilizando SymPy.\n",
    "   - Presentación y discusión de las soluciones.\n"
   ]
  },
  {
   "cell_type": "markdown",
   "id": "1e385d31",
   "metadata": {},
   "source": [
    "\n",
    "Metodología:\n",
    "- El seminario se llevará a cabo en un entorno virtual que permitirá la interacción con los participantes.\n",
    "- Se proporcionarán ejemplos prácticos y ejercicios para que los participantes puedan aplicar los conceptos aprendidos durante el seminario.\n",
    "- El instructor estará disponible para responder preguntas y brindar asistencia durante todo el seminario.\n"
   ]
  },
  {
   "cell_type": "markdown",
   "id": "772deaed",
   "metadata": {},
   "source": [
    "\n",
    "Nota: La estructura y duración del seminario pueden ajustarse según las necesidades y nivel de conocimiento de los participantes. Además, el enfoque de las aplicaciones prácticas puede personalizarse para adaptarse a las áreas de interés específicas de los asistentes."
   ]
  },
  {
   "cell_type": "markdown",
   "id": "2659041b",
   "metadata": {},
   "source": [
    "# Desarrollo del seminario"
   ]
  },
  {
   "cell_type": "markdown",
   "id": "8dce50fa",
   "metadata": {},
   "source": [
    "1. Introducción a los Números Reales y la Estructura de Campo\n",
    "   - Definición de los números reales.\n",
    "   - Propiedades de los números reales como estructura de campo (adición, multiplicación, inversos, distributividad)."
   ]
  },
  {
   "cell_type": "markdown",
   "id": "361e348d",
   "metadata": {},
   "source": [
    "# Mapa conceptual de los números reales con la librer´ia Networkx de python"
   ]
  },
  {
   "cell_type": "code",
   "execution_count": 1,
   "id": "12e6cf2b",
   "metadata": {},
   "outputs": [
    {
     "data": {
      "image/png": "[encoded data removed]",
      "text/plain": [
       "<Figure size 640x480 with 1 Axes>"
      ]
     },
     "metadata": {},
     "output_type": "display_data"
    }
   ],
   "source": [
    "import networkx as nx\n",
    "import matplotlib.pyplot as plt\n",
    "G = nx.DiGraph()\n",
    "G.add_node(\"Números Reales\")\n",
    "G.add_node(\"Números Racionales\")\n",
    "G.add_node(\"Números Irracionales\")\n",
    "G.add_node(\"Números Enteros\")\n",
    "G.add_node(\"Números Naturales\")\n",
    "\n",
    "G.add_edge(\"Números Reales\", \"Números Racionales\")    # agregar flecha\n",
    "G.add_edge(\"Números Reales\", \"Números Irracionales\")\n",
    "G.add_edge(\"Números Racionales\", \"Números Enteros\")\n",
    "G.add_edge(\"Números Enteros\", \"Números Naturales\")\n",
    "pos = nx.spring_layout(G, seed=42)  # Coloca los nodos utilizando un algoritmo de disposición\n",
    "nx.draw(G, pos, with_labels=True, node_size=3000, font_size=10, font_color='black', node_color='skyblue', arrowsize=20)\n",
    "\n",
    "plt.title(\"Clasificación de los Números Reales\")\n",
    "plt.show()\n",
    "         "
   ]
  },
  {
   "cell_type": "markdown",
   "id": "a1569e67",
   "metadata": {
    "slideshow": {
     "slide_type": "slide"
    }
   },
   "source": [
    "Claro, a continuación te proporcionaré el desarrollo teórico, algunos ejemplos ilustrativos con Python y SymPy, y algunas tareas para el seminario sobre Números Reales como estructura algebraica de campo utilizando Python y SymPy.\n",
    "\n",
    "Desarrollo teórico:\n",
    "\n",
    "1. Definición de los números reales:\n",
    "Los números reales son un conjunto numérico que incluye tanto los números racionales como los irracionales. Pueden representarse en la recta numérica y tienen propiedades algebraicas bien definidas. Los números reales son cerrados bajo las operaciones de adición y multiplicación, lo que significa que la suma y el producto de dos números reales también son números reales.\n",
    "\n",
    "2. Propiedades de los números reales como estructura de campo:\n",
    "   - Adición:\n",
    "      a) Propiedad conmutativa: a + b = b + a\n",
    "      b) Propiedad asociativa: (a + b) + c = a + (b + c)\n",
    "      c) Elemento neutro (cero): a + 0 = 0 + a = a\n",
    "      d) Elemento inverso aditivo: Para cada a, existe un elemento -a tal que a + (-a) = 0\n",
    "      e) Propiedad distributiva sobre la multiplicación: a * (b + c) = a * b + a * c\n",
    "\n",
    "   - Multiplicación:\n",
    "      a) Propiedad conmutativa: a * b = b * a\n",
    "      b) Propiedad asociativa: (a * b) * c = a * (b * c)\n",
    "      c) Elemento neutro (uno): a * 1 = 1 * a = a\n",
    "      d) Elemento inverso multiplicativo: Para cada a ≠ 0, existe un elemento a^(-1) tal que a * a^(-1) = 1\n",
    "      e) Propiedad distributiva sobre la adición: a * (b + c) = a * b + a * c\n",
    "\n",
    "Ejemplos ilustrativos con Python y SymPy:\n",
    "\n",
    "A continuación, te mostraré algunos ejemplos utilizando la biblioteca SymPy en Python para demostrar las propiedades de los números reales como estructura de campo.\n",
    "\n",
    "1. Ejemplo de propiedad conmutativa de la adición:\n"
   ]
  },
  {
   "cell_type": "code",
   "execution_count": null,
   "id": "0c1a0213",
   "metadata": {},
   "outputs": [],
   "source": [
    "import sympy as sp\n",
    "\n",
    "a, b = sp.symbols('a b', real = True)\n",
    "expr = a + b\n",
    "commutative_property = sp.Eq(expr, b + a) \n",
    "# la función Eq() de sympy, sirve también para hacer procesos de verificación\n",
    "print(commutative_property)\n",
    "\n"
   ]
  },
  {
   "cell_type": "markdown",
   "id": "354fe44b",
   "metadata": {},
   "source": [
    "\n",
    "2. Ejemplo de elemento inverso aditivo:\n"
   ]
  },
  {
   "cell_type": "code",
   "execution_count": null,
   "id": "209ab3ed",
   "metadata": {},
   "outputs": [],
   "source": [
    "\n",
    "a = 5\n",
    "inverse_element = sp.Eq(a + (-a), 0)\n",
    "print(inverse_element)\n"
   ]
  },
  {
   "cell_type": "markdown",
   "id": "c53d0b8f",
   "metadata": {},
   "source": [
    "\n",
    "\n",
    "3. Ejemplo de propiedad distributiva sobre la multiplicación:\n"
   ]
  },
  {
   "cell_type": "code",
   "execution_count": null,
   "id": "c9c73799",
   "metadata": {},
   "outputs": [],
   "source": [
    "\n",
    "a, b, c = sp.symbols('a b c')\n",
    "expr1 = a * (b + c)\n",
    "expr2 = a * b + a * c\n",
    "distributive_property = sp.Eq(expr1, expr2)\n",
    "print(distributive_property)\n"
   ]
  },
  {
   "cell_type": "markdown",
   "id": "9e8b365f",
   "metadata": {},
   "source": [
    "\n",
    "\n",
    "Tareas para los estudiantes:\n",
    "\n",
    "1. Utilizar SymPy para demostrar la propiedad asociativa de la adición y la multiplicación para tres números reales a, b y c.  \n",
    "\n",
    "2. Encontrar el inverso multiplicativo de los siguientes números reales utilizando SymPy: 2, -3/5, √2.  \n",
    "\n",
    "3. Crear una función en Python utilizando SymPy que verifique si un número dado pertenece al conjunto de números reales.  \n",
    "\n",
    "4. Investigar sobre los números irracionales y proporcionar ejemplos de al menos tres números irracionales. Luego, demostrar que la suma y el producto de un número irracional con un número racional también es un número irracional utilizando SymPy.  \n",
    "\n",
    "5. Resolver ecuaciones utilizando SymPy que involucren operaciones de adición, multiplicación y propiedades de distributividad de los números reales.  \n",
    "\n",
    "Recuerda que SymPy es una poderosa biblioteca para manipulación simbólica en Python, lo que permite realizar cálculos matemáticos con precisión y demostrar propiedades de manera algebraica. Los ejemplos y tareas proporcionados son solo una muestra de lo que puedes hacer en el seminario sobre números reales como estructura de campo con Python y SymPy. ¡Espero que esta información te sea útil para tu seminario!"
   ]
  },
  {
   "cell_type": "code",
   "execution_count": null,
   "id": "a7fcf5bf",
   "metadata": {
    "slideshow": {
     "slide_type": "slide"
    }
   },
   "outputs": [],
   "source": [
    "1/3"
   ]
  },
  {
   "cell_type": "markdown",
   "id": "c9c6a130",
   "metadata": {},
   "source": [
    "Conclusion: si divido enteros me da resultado de representacion decimal finita o infinita periodica"
   ]
  },
  {
   "cell_type": "code",
   "execution_count": null,
   "id": "9a568bc4",
   "metadata": {
    "slideshow": {
     "slide_type": "slide"
    }
   },
   "outputs": [],
   "source": [
    "13/19"
   ]
  },
  {
   "cell_type": "markdown",
   "id": "f93c30f3",
   "metadata": {
    "slideshow": {
     "slide_type": "slide"
    }
   },
   "source": [
    "Conclusión\n",
    "La palabra racional es de razón y en matemáticas razón es division. Y en este caso división de enteros."
   ]
  },
  {
   "cell_type": "code",
   "execution_count": null,
   "id": "30ce3fa3",
   "metadata": {},
   "outputs": [],
   "source": []
  },
  {
   "cell_type": "code",
   "execution_count": null,
   "id": "584c9baf",
   "metadata": {},
   "outputs": [],
   "source": []
  },
  {
   "cell_type": "code",
   "execution_count": null,
   "id": "022d79fa",
   "metadata": {},
   "outputs": [],
   "source": []
  },
  {
   "cell_type": "markdown",
   "id": "3e304bd2",
   "metadata": {
    "slideshow": {
     "slide_type": "slide"
    }
   },
   "source": [
    "# [Apéndice sobre Plotly](https://plotly.com/python/getting-started/) "
   ]
  },
  {
   "cell_type": "markdown",
   "id": "c5770069",
   "metadata": {
    "slideshow": {
     "slide_type": "slide"
    }
   },
   "source": [
    "# Tareas de fijación de conceptos y adquisición de habilidades"
   ]
  },
  {
   "cell_type": "markdown",
   "id": "fa400586",
   "metadata": {
    "slideshow": {
     "slide_type": "slide"
    }
   },
   "source": [
    "<img src =''> "
   ]
  },
  {
   "cell_type": "markdown",
   "id": "b3fcf153",
   "metadata": {
    "slideshow": {
     "slide_type": "slide"
    }
   },
   "source": [
    "# Evaluación (Ejercicios tipo parcial o tipo quiz)"
   ]
  },
  {
   "cell_type": "code",
   "execution_count": null,
   "id": "23af4107",
   "metadata": {
    "slideshow": {
     "slide_type": "slide"
    }
   },
   "outputs": [],
   "source": []
  },
  {
   "cell_type": "markdown",
   "id": "e2a6d2d2",
   "metadata": {
    "slideshow": {
     "slide_type": "slide"
    }
   },
   "source": [
    "## Referentes  \n",
    "\n",
    "* Geron, A. Math - Differential Calculus: https://github.com/ageron/handson-ml2/blob/master/math_differential_calculus.ipynb\n",
    "\n",
    "* Larson \n",
    "\n",
    "* chat GPT from openAI: https://openai.com/blog/chatgpt/\n",
    "\n",
    "* Getting Started with Plotly in Python : https://plotly.com/python/getting-started/"
   ]
  },
  {
   "cell_type": "markdown",
   "id": "b5a4cdff",
   "metadata": {},
   "source": [
    "### [Evaluamos al profesor Marco Cañas Aquí](https://forms.office.com/Pages/ResponsePage.aspx?id=IefhmYRxjkmK_7KtTlPBwkanXIs1i1FEujpsZgO6dXpUREJPV1kxUk1JV1ozTFJIQVNIQjY5WEY3US4u)"
   ]
  },
  {
   "cell_type": "markdown",
   "id": "fb1c0b36",
   "metadata": {},
   "source": [
    "## La matriz DOFA del grupo de estudiantes de licenciatuara. \n",
    "\n",
    "Fortalezas: Capacidad para preguntar a chatgpt, \n",
    "* Capacidad para entender un algoritmo\n",
    "\n",
    "Debilidades:\n",
    "\n",
    "* Capacidad para comunicar una idea o procedimiento. \n",
    "\n"
   ]
  },
  {
   "cell_type": "markdown",
   "id": "00d7abc6",
   "metadata": {},
   "source": [
    "### Continue su aprendizaje en la siguiente clase a través del siguiente [vínculo]()"
   ]
  },
  {
   "cell_type": "markdown",
   "id": "1c2fddc4",
   "metadata": {},
   "source": []
  }
 ],
 "metadata": {
  "celltoolbar": "Slideshow",
  "kernelspec": {
   "display_name": "Python 3 (ipykernel)",
   "language": "python",
   "name": "python3"
  },
  "language_info": {
   "codemirror_mode": {
    "name": "ipython",
    "version": 3
   },
   "file_extension": ".py",
   "mimetype": "text/x-python",
   "name": "python",
   "nbconvert_exporter": "python",
   "pygments_lexer": "ipython3",
   "version": "3.10.12"
  },
  "rise": {
   "enable_chalkboard": true,
   "theme": "sky"
  }
 },
 "nbformat": 4,
 "nbformat_minor": 5
}
