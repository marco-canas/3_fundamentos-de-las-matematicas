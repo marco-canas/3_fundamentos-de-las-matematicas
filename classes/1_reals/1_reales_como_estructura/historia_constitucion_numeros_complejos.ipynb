{
 "cells": [
  {
   "cell_type": "markdown",
   "metadata": {},
   "source": [
    "<table align=\"left\">\n",
    "  <td>\n",
    "    <a href=\"https://colab.research.google.com/github/marco-canas/fundamentos_de_las_matematicas/blob/main/classes/1_reals/1_reales_como_estructura/historia_constitucion_numeros_complejos.ipynb\" target=\"_parent\"><img src=\"https://colab.research.google.com/assets/colab-badge.svg\" alt=\"Open In Colab\"/></a>\n",
    "  </td>\n",
    "</table>"
   ]
  },
  {
   "cell_type": "markdown",
   "metadata": {},
   "source": [
    "## [Video de apoyo a la lectura de este cuaderno interactivo para lectura experimental](https://www.youtube.com/watch?v=HKvQEa5fVZE)"
   ]
  },
  {
   "cell_type": "markdown",
   "metadata": {},
   "source": [
    "# Historia de la constitución de los números complejos como necesidad de solución de ecuaciones lineales y cuadráticas de coeficientes dados. "
   ]
  },
  {
   "cell_type": "markdown",
   "metadata": {},
   "source": [
    "$$ \\mathbb{N}  \\subset \\mathbb{Z} \\subset \\mathbb{Q} \\cup \\mathbb{Q}^{\\ast} = \\mathbb{R} \\subset \\mathbb{C}$$\n"
   ]
  },
  {
   "cell_type": "markdown",
   "metadata": {},
   "source": [
    "La historia de los números complejos es fascinante y está entrelazada con el desarrollo de las matemáticas a lo largo de los siglos. Comencemos desde los números naturales y sigamos el camino que llevó al descubrimiento de los números complejos en el contexto de la solución de ecuaciones lineales y cuadráticas.\n",
    "\n",
    "### Números Naturales:\n",
    "\n",
    "Desde los tiempos antiguos, los humanos han utilizado números naturales para contar objetos y realizar operaciones básicas.\n",
    "\n",
    "$$ x+2 = 5, \\Rightarrow x = 3 $$\n"
   ]
  },
  {
   "cell_type": "code",
   "execution_count": 5,
   "metadata": {},
   "outputs": [
    {
     "data": {
      "text/plain": [
       "[3]"
      ]
     },
     "execution_count": 5,
     "metadata": {},
     "output_type": "execute_result"
    }
   ],
   "source": [
    "from sympy import *  # sympy realiza clálculo simbólico, es decir, es capaz de sumas x + x\n",
    "x = var(\"x\")\n",
    "\n",
    "solve(Eq(x+2, 5))"
   ]
  },
  {
   "cell_type": "markdown",
   "metadata": {},
   "source": [
    "Pero habian ecuaciones de coeficientes en los naturales, que no tenián solución natural:\n",
    "\n",
    "Tal es el caso de \n",
    "\n",
    "$$ x+1 = 0  \\Rightarrow x = -1 \\notin \\mathbb{N}$$"
   ]
  },
  {
   "cell_type": "markdown",
   "metadata": {},
   "source": [
    "\n",
    "### Números Enteros:\n",
    "\n",
    "Con la necesidad de manejar deudas y créditos, los matemáticos introdujeron los números enteros, que incluyen tanto los números naturales como sus negativos y el cero.\n",
    "\n",
    "$$ \\mathbb{N} \\subset \\mathbb{Z} = \\mathbb{N} \\cup \\{ 0, -1, -2, -3. \\ldots \\} $$\n"
   ]
  },
  {
   "cell_type": "markdown",
   "metadata": {},
   "source": [
    "$$ 2 \\cdot -2  = -4 $$\n",
    "\n",
    "Lo natural en los enteros es que all duplicarlos, me de algo de valor absoluto más grade que el valor absoluto de lo que dupliqué. "
   ]
  },
  {
   "cell_type": "markdown",
   "metadata": {},
   "source": [
    "Luego, para construir una ecuación, de coeficientes enteros, que no tenga solución entera puede ser alguna que no cumpla esta ley. Por ejemplo\n",
    "\n",
    "\n",
    "$$ 2x = 1 \\Rightarrow x = \\frac{1}{2} \\notin \\mathbb{Z}$$"
   ]
  },
  {
   "cell_type": "code",
   "execution_count": 6,
   "metadata": {},
   "outputs": [
    {
     "data": {
      "text/plain": [
       "[1/2]"
      ]
     },
     "execution_count": 6,
     "metadata": {},
     "output_type": "execute_result"
    }
   ],
   "source": [
    "solve(Eq(2*x, 1))"
   ]
  },
  {
   "cell_type": "markdown",
   "metadata": {},
   "source": [
    "\n",
    "### Números Racionales:\n",
    "\n",
    "Los matemáticos griegos como Pitágoras descubrieron que algunas longitudes no podían expresarse como una fracción de números enteros. Este descubrimiento llevó al concepto de números racionales, que son los números que pueden expresarse como fracciones.\n"
   ]
  },
  {
   "cell_type": "code",
   "execution_count": 25,
   "metadata": {},
   "outputs": [
    {
     "data": {
      "text/plain": [
       "[-sqrt(2), sqrt(2)]"
      ]
     },
     "execution_count": 25,
     "metadata": {},
     "output_type": "execute_result"
    }
   ],
   "source": [
    "solve(Eq(x*x, 2)) "
   ]
  },
  {
   "cell_type": "code",
   "execution_count": 26,
   "metadata": {},
   "outputs": [
    {
     "data": {
      "text/latex": [
       "$\\displaystyle 1.4142135623731$"
      ],
      "text/plain": [
       "1.41421356237310"
      ]
     },
     "execution_count": 26,
     "metadata": {},
     "output_type": "execute_result"
    }
   ],
   "source": [
    "sqrt(2).evalf()"
   ]
  },
  {
   "cell_type": "markdown",
   "metadata": {},
   "source": [
    "por lo tanto, las ecuaciones de la forma $x^{2} = p$, a pesar de ser de coeficientes racionales,, no tienen solución racional, siempre que $p$ sea primo. "
   ]
  },
  {
   "cell_type": "markdown",
   "metadata": {},
   "source": [
    "\n",
    "### Números Irracionales:\n",
    "\n",
    "Sin embargo, los griegos también descubrieron que algunas longitudes, como la diagonal de un cuadrado unitario, eran irracionales, lo que significa que no se pueden expresar como una fracción exacta.\n",
    "\n",
    "$$ \\mathbb{Q} \\cup \\mathbb{Q}^{\\ast} $$\n"
   ]
  },
  {
   "cell_type": "markdown",
   "metadata": {},
   "source": [
    "Otra manera de mostrar la necesidad de constitución de los irracionales es tratar de expresar a la diagonal de un cuadrado de lado 1 como racional. Es decir, se quiere mostra que $\\sqrt{2}$, no es racional,. Lo que podemos evidenciar con python, pidiendole una aproximación decimal a raiz de dos, para verificar que esta aproximación decimal no tiene periodicidad:"
   ]
  },
  {
   "cell_type": "code",
   "execution_count": 29,
   "metadata": {},
   "outputs": [
    {
     "data": {
      "text/latex": [
       "$\\displaystyle 1.4142135623731$"
      ],
      "text/plain": [
       "1.41421356237310"
      ]
     },
     "execution_count": 29,
     "metadata": {},
     "output_type": "execute_result"
    }
   ],
   "source": [
    "sqrt(2).evalf()"
   ]
  },
  {
   "cell_type": "code",
   "execution_count": 30,
   "metadata": {},
   "outputs": [],
   "source": [
    "# dibujo de un cuadrado de lado 1\n",
    "import matplotlib.pyplot as plot\n"
   ]
  },
  {
   "cell_type": "markdown",
   "metadata": {},
   "source": [
    "\n",
    "### Números Reales:\n",
    "\n",
    "Con el tiempo, los matemáticos desarrollaron el concepto de números reales para incluir tanto números racionales como irracionales. Los números reales pueden representar todas las longitudes en la recta numérica.\n"
   ]
  },
  {
   "cell_type": "markdown",
   "metadata": {},
   "source": [
    "$$\\mathbb{R} = \\mathbb{Q} \\cup \\mathbb{Q}^{\\ast} $$"
   ]
  },
  {
   "cell_type": "code",
   "execution_count": 21,
   "metadata": {},
   "outputs": [
    {
     "data": {
      "text/plain": [
       "(4, 0, 4)"
      ]
     },
     "execution_count": 21,
     "metadata": {},
     "output_type": "execute_result"
    }
   ],
   "source": [
    "def elevar_al_cuadrado(x):\n",
    "    return x*x\n",
    "\n",
    "elevar_al_cuadrado(-2), elevar_al_cuadrado(0), elevar_al_cuadrado(2)"
   ]
  },
  {
   "cell_type": "markdown",
   "metadata": {},
   "source": [
    "Conclusión, los cuadrados de reales son no negativos.  Esto depende, de que en los reales es válida la ley de los signos para multiplicación. "
   ]
  },
  {
   "cell_type": "markdown",
   "metadata": {},
   "source": [
    "Para justificar la creación de los complejos, consideremos una ecuación que no satisfaga esta ley:\n",
    "\n",
    "$$ x \\cdot x = -1 $$"
   ]
  },
  {
   "cell_type": "code",
   "execution_count": 27,
   "metadata": {},
   "outputs": [
    {
     "data": {
      "text/plain": [
       "[-2*I, 2*I]"
      ]
     },
     "execution_count": 27,
     "metadata": {},
     "output_type": "execute_result"
    }
   ],
   "source": [
    "solve(Eq(x*x, -4))"
   ]
  },
  {
   "cell_type": "code",
   "execution_count": 28,
   "metadata": {},
   "outputs": [
    {
     "data": {
      "text/latex": [
       "$\\displaystyle -4$"
      ],
      "text/plain": [
       "-4"
      ]
     },
     "execution_count": 28,
     "metadata": {},
     "output_type": "execute_result"
    }
   ],
   "source": [
    "(2*I)**2"
   ]
  },
  {
   "cell_type": "markdown",
   "metadata": {},
   "source": [
    "$$ \\mathbb{C} = \\{ a + bi \\mid a,b \\in \\mathbb{R} \\} $$"
   ]
  },
  {
   "cell_type": "markdown",
   "metadata": {},
   "source": [
    "\n",
    "### Ecuaciones Lineales:\n",
    "\n",
    "Cuando los matemáticos comenzaron a resolver ecuaciones lineales, encontraron que casi todas las ecuaciones lineales tenían soluciones en los números reales. Por ejemplo, la ecuación \\(2x + 3 = 0\\) tiene la solución \\(x = -\\frac{3}{2}\\).\n"
   ]
  },
  {
   "cell_type": "markdown",
   "metadata": {},
   "source": [
    "\n",
    "### Ecuaciones Cuadráticas:\n",
    "\n",
    "Sin embargo, cuando se enfrentaron a ecuaciones cuadráticas como \\(x^2 + 1 = 0\\), no podían encontrar soluciones reales. Introdujeron el concepto de números imaginarios para abordar esto.\n"
   ]
  },
  {
   "cell_type": "markdown",
   "metadata": {},
   "source": [
    "\n",
    "### Números Imaginarios:\n",
    "\n",
    "El número imaginario \\(i\\) se define como \\(i^2 = -1\\). Introducir \\(i\\) permite resolver ecuaciones cuadráticas como \\(x^2 + 1 = 0\\). La solución es \\(x = \\pm \\sqrt{-1} = \\pm i\\).\n",
    "\n",
    "### Números Complejos:\n",
    "\n",
    "Finalmente, los matemáticos combinaron números reales y números imaginarios para formar números complejos en la forma \\(a + bi\\), donde \\(a\\) y \\(b\\) son números reales. Los números complejos pueden representarse en un plano complejo, donde el eje horizontal representa la parte real y el eje vertical representa la parte imaginaria.\n",
    "\n",
    "### Solución de Ecuaciones Cuadráticas con Números Complejos:\n",
    "\n",
    "Al utilizar números complejos, todas las ecuaciones cuadráticas tienen soluciones, incluso si las soluciones son números complejos conjugados. Por ejemplo, la ecuación \\(x^2 + 2x + 5 = 0\\) tiene las soluciones complejas \\(x = -1 + 2i\\) y \\(x = -1 - 2i\\).\n",
    "\n",
    "En resumen, los números complejos surgieron como una extensión natural de los números reales para permitir la solución de ecuaciones cuadráticas y proporcionaron una herramienta poderosa en matemáticas y física para describir fenómenos complejos. Este desarrollo ha sido esencial en muchas áreas de la ciencia y las matemáticas modernas."
   ]
  },
  {
   "cell_type": "markdown",
   "metadata": {},
   "source": [
    "# Vocabulary\n",
    "\n",
    "* square root: raíz cuadrada (sqrt)"
   ]
  }
 ],
 "metadata": {
  "kernelspec": {
   "display_name": ".venv",
   "language": "python",
   "name": "python3"
  },
  "language_info": {
   "codemirror_mode": {
    "name": "ipython",
    "version": 3
   },
   "file_extension": ".py",
   "mimetype": "text/x-python",
   "name": "python",
   "nbconvert_exporter": "python",
   "pygments_lexer": "ipython3",
   "version": "3.10.12"
  },
  "orig_nbformat": 4
 },
 "nbformat": 4,
 "nbformat_minor": 2
}
