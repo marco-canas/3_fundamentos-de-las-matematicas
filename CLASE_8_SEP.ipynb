{
  "nbformat": 4,
  "nbformat_minor": 0,
  "metadata": {
    "colab": {
      "provenance": [],
      "authorship_tag": "ABX9TyNBzuWUdrcn9iMzfyjJTswX",
      "include_colab_link": true
    },
    "kernelspec": {
      "name": "python3",
      "display_name": "Python 3"
    },
    "language_info": {
      "name": "python"
    }
  },
  "cells": [
    {
      "cell_type": "markdown",
      "metadata": {
        "id": "view-in-github",
        "colab_type": "text"
      },
      "source": [
        "<a href=\"https://colab.research.google.com/github/marco-canas/fundamentos-de-las-matematicas/blob/main/CLASE_8_SEP.ipynb\" target=\"_parent\"><img src=\"https://colab.research.google.com/assets/colab-badge.svg\" alt=\"Open In Colab\"/></a>"
      ]
    },
    {
      "cell_type": "markdown",
      "source": [
        "<table align=\"center\">\n",
        "  <td>\n",
        "    <a href=\"https://colab.research.google.com/github/marco-canas/didactica_ciencia_datos/blob/main/referentes/geron/part_1/c_4/c_4.ipynb\" target=\"_parent\"><img src=\"https://colab.research.google.com/assets/colab-badge.svg\" alt=\"Open In Colab\"/></a>\n",
        "  </td>\n",
        "</table>"
      ],
      "metadata": {
        "id": "KQxG-ixmxBOp"
      }
    },
    {
      "cell_type": "markdown",
      "source": [
        "# Clase sobre solución gráfica de ecuaciones e inecuaciones "
      ],
      "metadata": {
        "id": "QnfzDTkUs01L"
      }
    },
    {
      "cell_type": "markdown",
      "source": [
        "Ejempo 1\n",
        "\n",
        "Determine un rectangulo de visualización adecuado para graficar \n",
        "\n",
        "$$ y = x^{2} + 3 $$"
      ],
      "metadata": {
        "id": "1Ks1P-8Ws09g"
      }
    },
    {
      "cell_type": "code",
      "source": [
        "import matplotlib.pyplot as plt\n",
        "\n",
        "plt.title('Rectángulo de visualización')\n",
        "\n",
        "plt.plot([-2, -1, 0, 1, 2], [7,4,3,4,7], color = 'orange') \n",
        "plt.scatter([-2, -1, 0, 1, 2], [7,4,3,4,7], color = 'red') "
      ],
      "metadata": {
        "colab": {
          "base_uri": "https://localhost:8080/",
          "height": 299
        },
        "id": "YrRoYeBttTG5",
        "outputId": "01c9aabc-c609-4a1d-b478-be2f3e1e578a"
      },
      "execution_count": 14,
      "outputs": [
        {
          "output_type": "execute_result",
          "data": {
            "text/plain": [
              "<matplotlib.collections.PathCollection at 0x7f27933a63d0>"
            ]
          },
          "metadata": {},
          "execution_count": 14
        },
        {
          "output_type": "display_data",
          "data": {
            "text/plain": [
              "<Figure size 432x288 with 1 Axes>"
            ],
            "image/png": "[encoded data removed]"
          },
          "metadata": {
            "needs_background": "light"
          }
        }
      ]
    },
    {
      "cell_type": "code",
      "source": [],
      "metadata": {
        "id": "f9OUPaX0vTSn"
      },
      "execution_count": null,
      "outputs": []
    }
  ]
}