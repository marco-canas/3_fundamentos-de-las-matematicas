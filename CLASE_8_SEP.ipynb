{
  "nbformat": 4,
  "nbformat_minor": 0,
  "metadata": {
    "colab": {
      "provenance": [],
      "authorship_tag": "ABX9TyNueCC7n+mV0cKfoW3sN0vc",
      "include_colab_link": true
    },
    "kernelspec": {
      "name": "python3",
      "display_name": "Python 3"
    },
    "language_info": {
      "name": "python"
    }
  },
  "cells": [
    {
      "cell_type": "markdown",
      "metadata": {
        "id": "view-in-github",
        "colab_type": "text"
      },
      "source": [
        "<a href=\"https://colab.research.google.com/github/marco-canas/fundamentos-de-las-matematicas/blob/main/CLASE_8_SEP.ipynb\" target=\"_parent\"><img src=\"https://colab.research.google.com/assets/colab-badge.svg\" alt=\"Open In Colab\"/></a>"
      ]
    },
    {
      "cell_type": "markdown",
      "source": [
        "<table align=\"center\">\n",
        "  <td>\n",
        "    <a href=\"https://colab.research.google.com/github/marco-canas/didactica_ciencia_datos/blob/main/referentes/geron/part_1/c_4/c_4.ipynb\" target=\"_parent\"><img src=\"https://colab.research.google.com/assets/colab-badge.svg\" alt=\"Open In Colab\"/></a>\n",
        "  </td>\n",
        "</table>"
      ],
      "metadata": {
        "id": "KQxG-ixmxBOp"
      }
    },
    {
      "cell_type": "markdown",
      "source": [
        "# Clase sobre solución gráfica de ecuaciones e inecuaciones "
      ],
      "metadata": {
        "id": "QnfzDTkUs01L"
      }
    },
    {
      "cell_type": "markdown",
      "source": [
        "Ejempo 1\n",
        "\n",
        "Determine un rectangulo de visualización adecuado para graficar \n",
        "\n",
        "$$ y = x^{2} + 3 $$"
      ],
      "metadata": {
        "id": "1Ks1P-8Ws09g"
      }
    },
    {
      "cell_type": "code",
      "source": [
        "import matplotlib.pyplot as plt\n",
        "\n",
        "plt.title('Rectángulo de visualización')\n",
        "\n",
        "plt.plot([-2, -1, 0, 1, 2], [7,4,3,4,7], color = 'orange') \n",
        "plt.scatter([-2, -1, 0, 1, 2], [7,4,3,4,7], color = 'red') \n",
        "\n",
        "plt.axis([-10,0, 0,15])  # control del rectángulo de visualización"
      ],
      "metadata": {
        "colab": {
          "base_uri": "https://localhost:8080/",
          "height": 299
        },
        "id": "YrRoYeBttTG5",
        "outputId": "469947ed-f0a0-4147-de66-4ba10a54e542"
      },
      "execution_count": 16,
      "outputs": [
        {
          "output_type": "execute_result",
          "data": {
            "text/plain": [
              "(-10.0, 0.0, 0.0, 15.0)"
            ]
          },
          "metadata": {},
          "execution_count": 16
        },
        {
          "output_type": "display_data",
          "data": {
            "text/plain": [
              "<Figure size 432x288 with 1 Axes>"
            ],
            "image/png": "[encoded data removed]"
          },
          "metadata": {
            "needs_background": "light"
          }
        }
      ]
    },
    {
      "cell_type": "code",
      "source": [],
      "metadata": {
        "id": "f9OUPaX0vTSn"
      },
      "execution_count": null,
      "outputs": []
    },
    {
      "cell_type": "markdown",
      "source": [
        "## Tarea\n",
        "\n",
        "Estudiar los ejercicios de la sección 1.9 del steward (Precálculo). Página 109"
      ],
      "metadata": {
        "id": "AzoE-57X6wVM"
      }
    },
    {
      "cell_type": "code",
      "source": [
        "import numpy as np \n",
        "\n",
        "np.random.randint(63)"
      ],
      "metadata": {
        "colab": {
          "base_uri": "https://localhost:8080/"
        },
        "id": "zwNv4vRC7FGv",
        "outputId": "fe0bc422-7c83-48d0-ab56-c1b19db2bff5"
      },
      "execution_count": 32,
      "outputs": [
        {
          "output_type": "execute_result",
          "data": {
            "text/plain": [
              "16"
            ]
          },
          "metadata": {},
          "execution_count": 32
        }
      ]
    },
    {
      "cell_type": "code",
      "source": [],
      "metadata": {
        "id": "xnFcgM5a7-X_"
      },
      "execution_count": null,
      "outputs": []
    }
  ]
}