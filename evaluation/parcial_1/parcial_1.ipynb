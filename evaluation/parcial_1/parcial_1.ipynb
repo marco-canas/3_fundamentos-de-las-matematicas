{
 "cells": [
  {
   "cell_type": "markdown",
   "id": "dc06dec7",
   "metadata": {
    "slideshow": {
     "slide_type": "slide"
    }
   },
   "source": [
    "<table align=\"left\">\n",
    "  <td>\n",
    "    <a href=\"https://colab.research.google.com/github/marco-canas/fundamentos_de_las_matematicas/blob/main/evaluation/parcial_1/parcial_1.ipynb\" target=\"_parent\"><img src=\"https://colab.research.google.com/assets/colab-badge.svg\" alt=\"Open In Colab\"/></a>\n",
    "  </td>\n",
    "</table>"
   ]
  },
  {
   "cell_type": "markdown",
   "id": "e0c5b198",
   "metadata": {
    "slideshow": {
     "slide_type": "slide"
    }
   },
   "source": [
    "### [Video de apoyo a la lectura interactiva y experimental de este cuaderno]()"
   ]
  },
  {
   "cell_type": "markdown",
   "id": "41e82203",
   "metadata": {
    "slideshow": {
     "slide_type": "slide"
    }
   },
   "source": [
    "## [Vínculo al programa del curso:  ]()"
   ]
  },
  {
   "cell_type": "markdown",
   "id": "ca46c23b",
   "metadata": {
    "slideshow": {
     "slide_type": "slide"
    }
   },
   "source": [
    "# Modelo general de clase: [aula invertida](https://www3.gobiernodecanarias.org/medusa/ecoescuela/pedagotic/aprendizaje-invertido-flipped-classroom/)\n",
    "\n",
    "## Definición y características de este modelo"
   ]
  },
  {
   "cell_type": "markdown",
   "id": "d2b0e776",
   "metadata": {
    "slideshow": {
     "slide_type": "slide"
    }
   },
   "source": [
    "## ¿Qué es?  \n",
    "\n",
    "Flipped Learning o aprendizaje invertido es un enfoque pedagógico en el que:  \n",
    "\n",
    "* la instrucción directa se realiza fuera del aula y \n",
    "* se utiliza el tiempo de clase para llevar a cabo actividades que impliquen el desarrollo de procesos cognitivos de mayor complejidad, en las que son necesarias la ayuda y la experiencia del docente."
   ]
  },
  {
   "cell_type": "markdown",
   "id": "5fc4f731",
   "metadata": {
    "slideshow": {
     "slide_type": "slide"
    }
   },
   "source": [
    "## ¿Para qué sirve?  \n",
    "\n",
    "Mejora el proceso de enseñanza-aprendizaje realizando,   \n",
    "\n",
    "* fuera del aula, actividades de aprendizaje sencillas (observar, memorizar, resumir, etc.) y, \n",
    "* en el aula, actividades más complejas (razonar, examinar, priorizar, argumentar, proponer, etc.) que requieren la interacción entre iguales y la ayuda del docente como facilitador."
   ]
  },
  {
   "cell_type": "markdown",
   "id": "b42472d6",
   "metadata": {
    "slideshow": {
     "slide_type": "slide"
    }
   },
   "source": [
    "<img src = 'https://github.com/marco-canas/didactica_ciencia_datos/blob/main/4_images/atributos_aprendizaje_invertido.png?raw=true'>"
   ]
  },
  {
   "cell_type": "markdown",
   "id": "8cee33b3",
   "metadata": {
    "slideshow": {
     "slide_type": "slide"
    }
   },
   "source": [
    "# Proceso Flipped Learning"
   ]
  },
  {
   "cell_type": "markdown",
   "id": "9c61b8b5",
   "metadata": {
    "slideshow": {
     "slide_type": "slide"
    }
   },
   "source": [
    "## Fuera del Aula"
   ]
  },
  {
   "cell_type": "markdown",
   "id": "fe20721d",
   "metadata": {
    "slideshow": {
     "slide_type": "slide"
    }
   },
   "source": [
    "### Docente:"
   ]
  },
  {
   "cell_type": "markdown",
   "id": "5b022dc9",
   "metadata": {
    "slideshow": {
     "slide_type": "slide"
    }
   },
   "source": [
    "* Diseña y planea el proceso de enseñanza-aprendizaje del aula, integrando estrategias, modelos de enseñanza y metodologías (aprendizaje basado en proyectos, aprendizaje cooperativo y colaborativo,…).  \n",
    "\n",
    "* Diseña y planea actividades que se realizarán fuera del aula (ver vídeos, cumplimentar cuestionarios,…).  \n",
    "\n",
    "* Selecciona e integra la tecnología en actividades de aprendizaje activo.  \n",
    "\n",
    "* Diseña actividades de evaluación que promuevan el aprendizaje del alumnado."
   ]
  },
  {
   "cell_type": "markdown",
   "id": "467fb978",
   "metadata": {
    "slideshow": {
     "slide_type": "slide"
    }
   },
   "source": [
    "### Alumnado:"
   ]
  },
  {
   "cell_type": "markdown",
   "id": "87d6d661",
   "metadata": {
    "slideshow": {
     "slide_type": "slide"
    }
   },
   "source": [
    "* Accede, cuantas veces necesite, a las actividades facilitadas por el profesorado.\n",
    "* Realiza las actividades propuestas."
   ]
  },
  {
   "cell_type": "markdown",
   "id": "93cd48b6",
   "metadata": {
    "slideshow": {
     "slide_type": "slide"
    }
   },
   "source": [
    "## En el Aula"
   ]
  },
  {
   "cell_type": "markdown",
   "id": "79ea8675",
   "metadata": {
    "slideshow": {
     "slide_type": "slide"
    }
   },
   "source": [
    "### Docente:"
   ]
  },
  {
   "cell_type": "markdown",
   "id": "d4d6f829",
   "metadata": {
    "slideshow": {
     "slide_type": "slide"
    }
   },
   "source": [
    "* Guía y facilita los procesos de aprendizaje, atendiendo a la diversidad.\n",
    "* Retroalimenta el desempeño de los equipos/grupos y del alumnado individualmente.\n",
    "* Genera espacios para la coevaluación y autoevaluación."
   ]
  },
  {
   "cell_type": "markdown",
   "id": "7178794c",
   "metadata": {
    "slideshow": {
     "slide_type": "slide"
    }
   },
   "source": [
    "### Alumnado:"
   ]
  },
  {
   "cell_type": "markdown",
   "id": "88d1c0f7",
   "metadata": {
    "slideshow": {
     "slide_type": "slide"
    }
   },
   "source": [
    "* Realiza las actividades (debates, exposiciones orales, informes, diario de aprendizaje, cuaderno de trabajo cooperativo,…).\n",
    "* Recibe retroalimentación inmediata del profesorado y de sus compañeros y compañeras.\n",
    "* Accede, si fuera necesario, a las actividades previas facilitadas por el profesorado."
   ]
  },
  {
   "cell_type": "markdown",
   "id": "79c35435",
   "metadata": {
    "slideshow": {
     "slide_type": "slide"
    }
   },
   "source": [
    "## Fomento de la lectura literaria asociada a Ingeniería agropecuaria y licenciatura en Matemáticas\n",
    "\n",
    "John Allen Paulos. El hombre anumérico. El analfabetismo matemático y sus consecuencias. \n",
    "\n",
    "\"Las mates siempre fueron mi asignatura más floja.\" \n",
    "\n",
    "<<Un millón de dólares, mil millones o un billón. No importa cuánto siempre y cuando hagamos algo por resolver el problema.>>\n",
    "\n",
    "<< Jerry y yo no iremos a Europa, con tantos terroristas...>>  \n",
    "\n",
    "El anumerismo, o incapacidad de menejar cómodamente los conceptos fundamentales de número y azar, atormenta a demasiados ciudadanos que, por lo demás, pueden ser perfectamente instruidos.   \n",
    "\n"
   ]
  },
  {
   "cell_type": "markdown",
   "id": "96775931",
   "metadata": {
    "slideshow": {
     "slide_type": "slide"
    }
   },
   "source": [
    "## Título de la clase: Realización parcial  1\n",
    "\n"
   ]
  },
  {
   "cell_type": "markdown",
   "id": "1d38dd4e",
   "metadata": {
    "slideshow": {
     "slide_type": "slide"
    }
   },
   "source": [
    "### Objetivo de aprendizaje (Enunciar, de manera corta sencilla y clara para todos los asistentes)\n",
    "\n",
    "* "
   ]
  },
  {
   "cell_type": "markdown",
   "id": "ca7261b1",
   "metadata": {
    "slideshow": {
     "slide_type": "slide"
    }
   },
   "source": [
    "## Establecimiento de prerrequisitos conceptuales para alcanzar el objetivo de aprendizaje trazado.   \n",
    "\n",
    "(Elabore una lista de preguntas al rededor de los conceptos que consideres necesarios para empezar la clase).  \n",
    "\n",
    "1. \n",
    "2. \n",
    "3. "
   ]
  },
  {
   "cell_type": "markdown",
   "id": "2298e976",
   "metadata": {
    "slideshow": {
     "slide_type": "slide"
    }
   },
   "source": [
    "# Para el diseño de la clase tenga en cuenta algunos problemas de aprendizaje"
   ]
  },
  {
   "cell_type": "code",
   "execution_count": null,
   "id": "523d3acf",
   "metadata": {
    "slideshow": {
     "slide_type": "slide"
    }
   },
   "outputs": [],
   "source": []
  },
  {
   "cell_type": "markdown",
   "id": "a40a4704",
   "metadata": {
    "slideshow": {
     "slide_type": "slide"
    }
   },
   "source": [
    "# Ejemplo de quiz"
   ]
  },
  {
   "cell_type": "markdown",
   "id": "12cb2994",
   "metadata": {
    "slideshow": {
     "slide_type": "slide"
    }
   },
   "source": []
  },
  {
   "cell_type": "markdown",
   "id": "e01461ad",
   "metadata": {
    "slideshow": {
     "slide_type": "slide"
    }
   },
   "source": []
  },
  {
   "cell_type": "markdown",
   "id": "981c618a",
   "metadata": {
    "slideshow": {
     "slide_type": "slide"
    }
   },
   "source": [
    "# Ejemplo de parcialn para realizar el 5 de septiembre"
   ]
  },
  {
   "cell_type": "markdown",
   "id": "c641f979",
   "metadata": {
    "slideshow": {
     "slide_type": "slide"
    }
   },
   "source": []
  },
  {
   "cell_type": "markdown",
   "id": "88c8ab76",
   "metadata": {},
   "source": [
    "# Punto 1. \n",
    "## Comparación de raíces Sin usar calculadora, \n",
    "\n",
    "determine cuál número es más grande:\n"
   ]
  },
  {
   "cell_type": "markdown",
   "id": "50a9c442",
   "metadata": {},
   "source": [
    "$$ 2^{1/2} \\ \\ \\   \\text{o} \\ \\ \\  2^{1/3} $$\n",
    "\n",
    "   \n",
    "Justifique su respuesta utilizando las propiedades de los números reales y de la función exponencial de base 2. "
   ]
  },
  {
   "cell_type": "markdown",
   "id": "d3767a77",
   "metadata": {},
   "source": [
    "# Punto 2\n",
    "\n",
    "## Rapidez de un auto que patina \n",
    "\n",
    "La policía usa la fórmula $s=\\sqrt{30fd}$ para calcular la rapidez $s$ (en mi/h) a la que un auto se desplaza si patina $d$ pies después de aplicar repentinamente los frenos. \n",
    "\n",
    "El número $f$ es el coeficiente de fricción del pavimento, que es una medida de lo “resbaloso” de la carretera. La tabla siguiente da algunos cálculos comunes para $f$.\n"
   ]
  },
  {
   "cell_type": "code",
   "execution_count": 13,
   "id": "16c5f011",
   "metadata": {},
   "outputs": [
    {
     "data": {
      "text/html": [
       "<div>\n",
       "<style scoped>\n",
       "    .dataframe tbody tr th:only-of-type {\n",
       "        vertical-align: middle;\n",
       "    }\n",
       "\n",
       "    .dataframe tbody tr th {\n",
       "        vertical-align: top;\n",
       "    }\n",
       "\n",
       "    .dataframe thead th {\n",
       "        text-align: right;\n",
       "    }\n",
       "</style>\n",
       "<table border=\"1\" class=\"dataframe\">\n",
       "  <thead>\n",
       "    <tr style=\"text-align: right;\">\n",
       "      <th></th>\n",
       "      <th>Asfalto</th>\n",
       "      <th>Concreto</th>\n",
       "      <th>Grava</th>\n",
       "    </tr>\n",
       "  </thead>\n",
       "  <tbody>\n",
       "    <tr>\n",
       "      <th>Seco</th>\n",
       "      <td>1.0</td>\n",
       "      <td>0.8</td>\n",
       "      <td>0.2</td>\n",
       "    </tr>\n",
       "    <tr>\n",
       "      <th>Mojado</th>\n",
       "      <td>0.5</td>\n",
       "      <td>0.4</td>\n",
       "      <td>0.1</td>\n",
       "    </tr>\n",
       "  </tbody>\n",
       "</table>\n",
       "</div>"
      ],
      "text/plain": [
       "        Asfalto  Concreto  Grava\n",
       "Seco        1.0       0.8    0.2\n",
       "Mojado      0.5       0.4    0.1"
      ]
     },
     "execution_count": 13,
     "metadata": {},
     "output_type": "execute_result"
    }
   ],
   "source": [
    "\n",
    "import numpy as np \n",
    "import pandas as pd \n",
    "indices = ['Seco', \"Mojado\"] # familia que indiza\n",
    "asfalto = [1.0, 0.5]\n",
    "concreto = [0.8, 0.4]\n",
    "grava = [0.2, 0.1]\n",
    "diccionario = {'Asfalto': asfalto, 'Concreto':concreto, 'Grava': grava}\n",
    "tabla = pd.DataFrame(diccionario, index = indices)\n",
    "tabla \n"
   ]
  },
  {
   "cell_type": "markdown",
   "id": "59d1fb43",
   "metadata": {},
   "source": [
    "(a) Si un auto patina 65 pies en concreto mojado, ¿cuál era su velocidad cuando se aplicaron los frenos? \n",
    "\n",
    "$$ s = \\sqrt{30fd} $$\n",
    "d = 65\n",
    "f = 0.4\n",
    "\n",
    "s = ??  \n",
    "\n"
   ]
  },
  {
   "cell_type": "code",
   "execution_count": 14,
   "id": "339b3d5b",
   "metadata": {},
   "outputs": [],
   "source": [
    "s = lambda f, d: np.sqrt(30*f*d)"
   ]
  },
  {
   "cell_type": "code",
   "execution_count": 15,
   "id": "b66f9306",
   "metadata": {},
   "outputs": [
    {
     "data": {
      "text/plain": [
       "27.92848008753788"
      ]
     },
     "execution_count": 15,
     "metadata": {},
     "output_type": "execute_result"
    }
   ],
   "source": [
    "s(f = 0.4,  d = 65)"
   ]
  },
  {
   "cell_type": "code",
   "execution_count": 16,
   "id": "bb916ecc",
   "metadata": {},
   "outputs": [
    {
     "data": {
      "text/plain": [
       "27.92848008753788"
      ]
     },
     "execution_count": 16,
     "metadata": {},
     "output_type": "execute_result"
    }
   ],
   "source": [
    "2*np.sqrt(195)"
   ]
  },
  {
   "cell_type": "markdown",
   "id": "36380cb0",
   "metadata": {},
   "source": [
    "\n",
    "\n",
    "(b) Si un auto corre a 50 mi/h, ¿cuánto patinará en asfalto mojado?  \n",
    "\n",
    "s = 50  \n",
    "f = 0.5\n",
    "d = "
   ]
  },
  {
   "cell_type": "code",
   "execution_count": 17,
   "id": "e97592bb",
   "metadata": {},
   "outputs": [
    {
     "data": {
      "text/latex": [
       "$\\displaystyle s = \\sqrt{30} \\sqrt{d f}$"
      ],
      "text/plain": [
       "Eq(s, sqrt(30)*sqrt(d*f))"
      ]
     },
     "execution_count": 17,
     "metadata": {},
     "output_type": "execute_result"
    }
   ],
   "source": [
    "from sympy import * \n",
    "\n",
    "s,f,d = var('s, f, d')\n",
    "\n",
    "ecuacion = Eq(s, sqrt(30*f*d))\n",
    "\n",
    "ecuacion"
   ]
  },
  {
   "cell_type": "code",
   "execution_count": 18,
   "id": "1e181129",
   "metadata": {},
   "outputs": [
    {
     "data": {
      "text/plain": [
       "[166.666666666666]"
      ]
     },
     "execution_count": 18,
     "metadata": {},
     "output_type": "execute_result"
    }
   ],
   "source": [
    "solve(ecuacion.subs({f:0.5, s:50}), d)"
   ]
  },
  {
   "cell_type": "code",
   "execution_count": 12,
   "id": "0f0e6bb3",
   "metadata": {},
   "outputs": [
    {
     "data": {
      "text/plain": [
       "27.386127875258307"
      ]
     },
     "execution_count": 12,
     "metadata": {},
     "output_type": "execute_result"
    }
   ],
   "source": [
    "5*np.sqrt(30)"
   ]
  },
  {
   "cell_type": "markdown",
   "id": "bf87ec2e",
   "metadata": {},
   "source": [
    "## Observaciones  \n",
    "\n",
    "* No despejaron la variable d o no expresaron a $d$ en términos de s y f. "
   ]
  },
  {
   "cell_type": "markdown",
   "id": "384af1d4",
   "metadata": {},
   "source": [
    "## Punto 3\n",
    "Deuda nacional Al mes de julio de 2010, la población de Estados Unidos era de 3.070 ⫻ 10 8 , y la deuda nacional era de 1.320 ⫻ 10 13 dólares. ¿Cuánto era la parte que adeuda\n",
    "cada persona?"
   ]
  },
  {
   "cell_type": "markdown",
   "id": "3fc8d3df",
   "metadata": {
    "slideshow": {
     "slide_type": "slide"
    }
   },
   "source": [
    "# Punto 4\n",
    "## Sumas y productos de números racionales e irracionales \n",
    "\n",
    "Explique por qué la suma, la diferencia y el producto de dos números racionales son números racionales. \n",
    "\n",
    "\n",
    "¿Qué se puede decir de la suma?\n",
    "\n",
    "¿El producto de dos números irracionales necesariamente es irracional? \n"
   ]
  },
  {
   "cell_type": "markdown",
   "id": "aa167db1",
   "metadata": {},
   "source": [
    "## Solución del punto 4 sobre la cerradura o clausuratividad de la suma y la multiplicación en el conjunto de los números irracionales\n",
    "\n"
   ]
  },
  {
   "cell_type": "markdown",
   "id": "dff9882e",
   "metadata": {},
   "source": [
    "La suma en los irracionales no es cerrada\n",
    "\n",
    "$$ \\pi + (-\\pi) = 0$$\n",
    "\n",
    "y cero no es racional, siendo que $\\pi$ y su inverso aditivo si lo son. "
   ]
  },
  {
   "cell_type": "code",
   "execution_count": 11,
   "id": "1b4f8869",
   "metadata": {},
   "outputs": [
    {
     "data": {
      "text/latex": [
       "$\\displaystyle -3.14159265358979$"
      ],
      "text/plain": [
       "-3.14159265358979"
      ]
     },
     "execution_count": 11,
     "metadata": {},
     "output_type": "execute_result"
    }
   ],
   "source": [
    "from sympy import *\n",
    "pi.evalf(), (-pi).evalf()"
   ]
  },
  {
   "cell_type": "code",
   "execution_count": 12,
   "id": "75dc730d",
   "metadata": {},
   "outputs": [
    {
     "data": {
      "text/plain": [
       "3.141592653589793"
      ]
     },
     "execution_count": 12,
     "metadata": {},
     "output_type": "execute_result"
    }
   ],
   "source": [
    "import numpy as np \n",
    "\n",
    "np.pi"
   ]
  },
  {
   "cell_type": "markdown",
   "id": "3b788bca",
   "metadata": {
    "slideshow": {
     "slide_type": "slide"
    }
   },
   "source": [
    "# Punto 5  \n",
    "\n",
    "## Operaciones conmutativa y no conmutativa \n",
    "\n",
    "Hemos visto que la adición y la multiplicación son operaciones conmutativas en el conjunto de los números reales.  \n",
    "\n",
    "\n",
    "(a) ¿La sustracción es conmutativa?\n",
    "(b) ¿La división de números reales diferentes de cero es con-\n",
    "mutativa?"
   ]
  },
  {
   "cell_type": "markdown",
   "id": "292e8c26",
   "metadata": {},
   "source": [
    "## Solución del punto 5 sobre la conmutatividad de la sustracción y la división en R. \n",
    "\n",
    "La sustracción no es una operación conmutativa pues existen pares de números reales, en donde cambiar el orden de operación bajo la resta, cambia el resultado. \n"
   ]
  },
  {
   "cell_type": "code",
   "execution_count": 1,
   "id": "fb5695b2",
   "metadata": {},
   "outputs": [],
   "source": [
    "\n",
    "def restar(a,b):\n",
    "    return a-b\n",
    "\n"
   ]
  },
  {
   "cell_type": "code",
   "execution_count": 2,
   "id": "0322155a",
   "metadata": {},
   "outputs": [
    {
     "data": {
      "text/plain": [
       "-1"
      ]
     },
     "execution_count": 2,
     "metadata": {},
     "output_type": "execute_result"
    }
   ],
   "source": [
    "restar(1,2)"
   ]
  },
  {
   "cell_type": "code",
   "execution_count": 4,
   "id": "0d5498b1",
   "metadata": {},
   "outputs": [
    {
     "data": {
      "text/plain": [
       "1"
      ]
     },
     "execution_count": 4,
     "metadata": {},
     "output_type": "execute_result"
    }
   ],
   "source": [
    "restar(2,1)"
   ]
  },
  {
   "cell_type": "code",
   "execution_count": 5,
   "id": "ebec9ed3",
   "metadata": {},
   "outputs": [
    {
     "data": {
      "text/plain": [
       "True"
      ]
     },
     "execution_count": 5,
     "metadata": {},
     "output_type": "execute_result"
    }
   ],
   "source": [
    "restar(1,2) != restar(2,1)"
   ]
  },
  {
   "cell_type": "markdown",
   "id": "ed4f1aca",
   "metadata": {},
   "source": [
    "**Conclusión**, el la resta de números reales, cambiar el orden de los operandos, en general cambia el resultado, lo que hace que esta operación en R sea noo conmutativa"
   ]
  },
  {
   "cell_type": "markdown",
   "id": "63d19f42",
   "metadata": {
    "slideshow": {
     "slide_type": "slide"
    }
   },
   "source": [
    "# Programa en Python para ingresar registro de las calificaciones en archivo excel"
   ]
  },
  {
   "cell_type": "markdown",
   "id": "bf8d11a1",
   "metadata": {
    "slideshow": {
     "slide_type": "slide"
    }
   },
   "source": [
    "## Mapa conceptual de la clase elaborado en CMapTools"
   ]
  },
  {
   "cell_type": "markdown",
   "id": "aac04d00",
   "metadata": {
    "slideshow": {
     "slide_type": "slide"
    }
   },
   "source": [
    "<img src = ''>"
   ]
  },
  {
   "cell_type": "markdown",
   "id": "8a6f7ef9",
   "metadata": {
    "slideshow": {
     "slide_type": "slide"
    }
   },
   "source": [
    "## Tareas para realizar antes de la clase"
   ]
  },
  {
   "cell_type": "markdown",
   "id": "90cae469",
   "metadata": {
    "slideshow": {
     "slide_type": "slide"
    }
   },
   "source": [
    "1. Ver los videos respectivos []()\n",
    "2. Memorizar las definiciones []()\n",
    "3. Sintetizar o resumir la información en mapas conceptuales. []()"
   ]
  },
  {
   "cell_type": "markdown",
   "id": "fccb447c",
   "metadata": {
    "slideshow": {
     "slide_type": "slide"
    }
   },
   "source": [
    "# Tareas para realizar en clase"
   ]
  },
  {
   "cell_type": "markdown",
   "id": "e5c48edf",
   "metadata": {
    "slideshow": {
     "slide_type": "slide"
    }
   },
   "source": [
    "* Modelación matemática \n",
    "* Trabajo en equipos"
   ]
  },
  {
   "cell_type": "markdown",
   "id": "8b6b0112",
   "metadata": {
    "slideshow": {
     "slide_type": "slide"
    }
   },
   "source": [
    "# Tareas para realizar después de la realización de la clase"
   ]
  },
  {
   "cell_type": "markdown",
   "id": "947460e3",
   "metadata": {
    "slideshow": {
     "slide_type": "slide"
    }
   },
   "source": [
    "* Actividades de memorización: \n",
    "  - escucha reiterada de grabaciones de formulas y resultados científicos. \n",
    "  - relectura de notas. \n",
    "  - ejercicios de mayor complejidad. \n",
    "  "
   ]
  },
  {
   "cell_type": "markdown",
   "id": "935a5567",
   "metadata": {
    "slideshow": {
     "slide_type": "slide"
    }
   },
   "source": [
    "## Dificultades de aprendizaje detectados durante la clase"
   ]
  },
  {
   "cell_type": "code",
   "execution_count": null,
   "id": "7d9c6c7f",
   "metadata": {
    "slideshow": {
     "slide_type": "slide"
    }
   },
   "outputs": [],
   "source": []
  },
  {
   "cell_type": "markdown",
   "id": "fb9402bb",
   "metadata": {
    "slideshow": {
     "slide_type": "slide"
    }
   },
   "source": [
    "## Estrategias propuestas para la solución de las dificultades de aprendizaje detectadas"
   ]
  },
  {
   "cell_type": "code",
   "execution_count": null,
   "id": "2dd3bd5c",
   "metadata": {
    "slideshow": {
     "slide_type": "slide"
    }
   },
   "outputs": [],
   "source": []
  },
  {
   "cell_type": "markdown",
   "id": "d11570a2",
   "metadata": {
    "slideshow": {
     "slide_type": "slide"
    }
   },
   "source": [
    "## Cuestionario para realizar labores de memorización y observación,  a la síntesis de la información"
   ]
  },
  {
   "cell_type": "markdown",
   "id": "540f0ec1",
   "metadata": {
    "slideshow": {
     "slide_type": "slide"
    }
   },
   "source": [
    "Claro, aquí tienes un cuestionario sobre los números reales con la adición y la multiplicación como estructura algebraica. Puedes utilizar este cuestionario para evaluar tu conocimiento o el de otras personas sobre este tema. Las respuestas correctas se encuentran al final.\n",
    "\n",
    "1. ¿Cuál es el conjunto de números reales?\n",
    "\n",
    "2. Define la operación de adición en los números reales.\n",
    "\n",
    "3. Define la operación de multiplicación en los números reales.\n",
    "\n",
    "4. ¿Cuál es el elemento neutro de la adición en los números reales?\n",
    "\n",
    "5. ¿Cuál es el elemento neutro de la multiplicación en los números reales?\n",
    "\n",
    "6. ¿Cuál es la propiedad asociativa en la adición de los números reales?\n",
    "\n",
    "7. ¿Cuál es la propiedad asociativa en la multiplicación de los números reales?\n",
    "\n",
    "8. Menciona la propiedad conmutativa en la adición de los números reales.\n",
    "\n",
    "9. Menciona la propiedad conmutativa en la multiplicación de los números reales.\n",
    "\n",
    "10. ¿Cuál es la propiedad distributiva en relación con la adición y la multiplicación de los números reales?\n",
    "\n",
    "11. Define el opuesto aditivo de un número real.\n",
    "\n",
    "12. Define el inverso multiplicativo de un número real distinto de cero.\n",
    "\n",
    "13. ¿Cómo se denomina un número real que no tiene un inverso multiplicativo?\n",
    "\n",
    "14. ¿Qué significa que un número real sea positivo?\n",
    "\n",
    "15. ¿Qué significa que un número real sea negativo?\n",
    "\n",
    "16. ¿Cuál es la relación entre la adición y la multiplicación en los números reales?\n",
    "\n",
    "17. ¿Cuál es la propiedad del elemento absorbente en relación con la multiplicación de los números reales?\n",
    "\n",
    "18. ¿Qué es un número real irracional? Proporciona un ejemplo.\n",
    "\n",
    "19. ¿Qué es un número real racional? Proporciona un ejemplo.\n",
    "\n",
    "20. ¿Cuál es la diferencia entre un número real y un número complejo?\n",
    "\n",
    "Respuestas:\n",
    "\n",
    "1. El conjunto de números reales es el conjunto que incluye todos los números racionales e irracionales.\n",
    "\n",
    "2. La operación de adición en los números reales es una operación que toma dos números reales y devuelve otro número real como resultado. Se denota como \"+\".\n",
    "\n",
    "3. La operación de multiplicación en los números reales es una operación que toma dos números reales y devuelve otro número real como resultado. Se denota como \"*\".\n",
    "\n",
    "4. El elemento neutro de la adición en los números reales es el número 0.\n",
    "\n",
    "5. El elemento neutro de la multiplicación en los números reales es el número 1.\n",
    "\n",
    "6. La propiedad asociativa en la adición de los números reales establece que para cualquier conjunto de números reales a, b y c, (a + b) + c = a + (b + c).\n",
    "\n",
    "7. La propiedad asociativa en la multiplicación de los números reales establece que para cualquier conjunto de números reales a, b y c, (a * b) * c = a * (b * c).\n",
    "\n",
    "8. La propiedad conmutativa en la adición de los números reales establece que para cualquier conjunto de números reales a y b, a + b = b + a.\n",
    "\n",
    "9. La propiedad conmutativa en la multiplicación de los números reales establece que para cualquier conjunto de números reales a y b, a * b = b * a.\n",
    "\n",
    "10. La propiedad distributiva establece que para cualquier conjunto de números reales a, b y c, a * (b + c) = (a * b) + (a * c).\n",
    "\n",
    "11. El opuesto aditivo de un número real \"a\" es el número real \"-a\" tal que a + (-a) = 0.\n",
    "\n",
    "12. El inverso multiplicativo de un número real distinto de cero \"a\" es el número real \"1/a\" tal que a * (1/a) = 1.\n",
    "\n",
    "13. Un número real que no tiene un inverso multiplicativo se llama un número real nulo o un número real cero.\n",
    "\n",
    "14. Un número real se considera positivo si es mayor que cero (a > 0).\n",
    "\n",
    "15. Un número real se considera negativo si es menor que cero (a < 0).\n",
    "\n",
    "16. La relación entre la adición y la multiplicación en los números reales se describe mediante la propiedad distributiva, que establece cómo se combinan estas dos operaciones.\n",
    "\n",
    "17. El elemento absorbente en relación con la multiplicación en los números reales es el número 0, ya que cualquier número real multiplicado por 0 es igual a 0.\n",
    "\n",
    "18. Un número real irracional es un número que no puede expresarse como una fracción de dos enteros y su decimal no se repite ni termina. Ejemplo: √2.\n",
    "\n",
    "19. Un número real racional es un número que puede expresarse como una fracción de dos enteros. Ejemplo: 3/4.\n",
    "\n",
    "20. Los números complejos incluyen números reales pero también tienen una parte imaginaria distinta de cero. Un número real es simplemente un subconjunto de los números complejos con la parte imaginaria igual a cero."
   ]
  },
  {
   "cell_type": "markdown",
   "id": "236b43fc",
   "metadata": {
    "slideshow": {
     "slide_type": "slide"
    }
   },
   "source": [
    "## Grabaciones en audio para fomentar la capacidad de memorizar enunciados de teoremas y resultados científicos y la capacidad de parafrasear estos resultados. "
   ]
  },
  {
   "cell_type": "markdown",
   "id": "319f2ffa",
   "metadata": {
    "slideshow": {
     "slide_type": "slide"
    }
   },
   "source": [
    "Se dispondrá de un lugar en el drive asociuado al correo institucional de la Universidad Nacional del Profesor Marso para albergar los archivosd de audio de fomento a la memoirización, enunciación y parafraseo de los resultados científicos, prtopiedades, reglas, etc. \n",
    "\n",
    "* Vocaroo"
   ]
  },
  {
   "cell_type": "markdown",
   "id": "564fa59d",
   "metadata": {
    "slideshow": {
     "slide_type": "slide"
    }
   },
   "source": [
    "### Comparta sus cuadernos y videos, evidencias de su aprendizaje [aquí](https://forms.office.com/Pages/ResponsePage.aspx?id=IefhmYRxjkmK_7KtTlPBwkanXIs1i1FEujpsZgO6dXpUMEMwTEZVMzEwVVBPTElWNVg5OVEyWUhMUy4u)"
   ]
  },
  {
   "cell_type": "markdown",
   "id": "44be6d93",
   "metadata": {
    "slideshow": {
     "slide_type": "slide"
    }
   },
   "source": [
    "# Vocabulary \n",
    "\n",
    "* random: aleatorio\n",
    "* fill: rellenar\n",
    "* between: entre\n",
    "* "
   ]
  },
  {
   "cell_type": "markdown",
   "id": "99b8dfed",
   "metadata": {
    "slideshow": {
     "slide_type": "slide"
    }
   },
   "source": []
  },
  {
   "cell_type": "markdown",
   "id": "ee46cb9a",
   "metadata": {
    "slideshow": {
     "slide_type": "slide"
    }
   },
   "source": [
    "## Mapa conceptual que vincula los conceptos asoaciados al objetivo de aprendizaje"
   ]
  },
  {
   "cell_type": "code",
   "execution_count": null,
   "id": "bf552488",
   "metadata": {
    "slideshow": {
     "slide_type": "slide"
    }
   },
   "outputs": [],
   "source": []
  },
  {
   "cell_type": "markdown",
   "id": "0266e3c5",
   "metadata": {
    "slideshow": {
     "slide_type": "slide"
    }
   },
   "source": [
    "## Quiz de 5 minutos para ejercitación y adquisición de habilidades "
   ]
  },
  {
   "cell_type": "markdown",
   "id": "3a1b127f",
   "metadata": {
    "slideshow": {
     "slide_type": "slide"
    }
   },
   "source": []
  },
  {
   "cell_type": "markdown",
   "id": "10bce0d0",
   "metadata": {
    "slideshow": {
     "slide_type": "slide"
    }
   },
   "source": [
    "## Referentes "
   ]
  },
  {
   "cell_type": "markdown",
   "id": "1db3c468",
   "metadata": {
    "slideshow": {
     "slide_type": "slide"
    }
   },
   "source": [
    "* [stewart precálculo](https://udeaeduco-my.sharepoint.com/:b:/g/personal/marco_canas_udea_edu_co/ERHIq62I6qFNrmxy6LZb8ZMBci7kUsyNME1nIh9yCBMJ_w?e=0zMSla)  \n",
    "\n",
    "* [stewart cálculo](https://udeaeduco-my.sharepoint.com/:b:/g/personal/marco_canas_udea_edu_co/EZgXZjAp8QxPqOAim2hs6LcBNPLGjSHf-xwYnUVYkwa04w?e=RZdTCy)  \n",
    "\n",
    "* [larson](https://udeaeduco-my.sharepoint.com/:b:/g/personal/marco_canas_udea_edu_co/ES71ChFeO9ZDhW3TwC5Ijk8BjxUK3Pdqz_fjHxTTFAfIAg?e=VDEjfu)\n",
    "\n",
    "* [uzcategui](https://udeaeduco-my.sharepoint.com/:b:/g/personal/marco_canas_udea_edu_co/ETDikm-lVl1Or8XoEo9oyh0BEti9Zs8le-f0D-dBdtZmbA?e=bBsoyQ)\n",
    "\n",
    "* [Recomendación de la UNESCO sobre ciencia abierta](https://unesdoc.unesco.org/ark:/48223/pf0000379949_spa)"
   ]
  },
  {
   "cell_type": "markdown",
   "id": "6b9e56a8",
   "metadata": {
    "slideshow": {
     "slide_type": "slide"
    }
   },
   "source": [
    "### [Evaluamos al profesor Marco Cañas Aquí](https://forms.office.com/Pages/ResponsePage.aspx?id=IefhmYRxjkmK_7KtTlPBwkanXIs1i1FEujpsZgO6dXpUREJPV1kxUk1JV1ozTFJIQVNIQjY5WEY3US4u)"
   ]
  },
  {
   "cell_type": "markdown",
   "id": "071afa04",
   "metadata": {
    "slideshow": {
     "slide_type": "slide"
    }
   },
   "source": [
    "## [Evaluación luego de alcanzar estos objetivos de aprendizaje]()"
   ]
  },
  {
   "cell_type": "markdown",
   "id": "10f43536",
   "metadata": {
    "slideshow": {
     "slide_type": "slide"
    }
   },
   "source": [
    "### Continue su aprendizaje en la siguiente clase a través del siguiente [vínculo]()"
   ]
  }
 ],
 "metadata": {
  "celltoolbar": "Slideshow",
  "kernelspec": {
   "display_name": "Python 3 (ipykernel)",
   "language": "python",
   "name": "python3"
  },
  "language_info": {
   "codemirror_mode": {
    "name": "ipython",
    "version": 3
   },
   "file_extension": ".py",
   "mimetype": "text/x-python",
   "name": "python",
   "nbconvert_exporter": "python",
   "pygments_lexer": "ipython3",
   "version": "3.10.13"
  },
  "rise": {
   "enable_chalkboard": true,
   "theme": "sky",
   "transition": "zoom"
  }
 },
 "nbformat": 4,
 "nbformat_minor": 5
}
