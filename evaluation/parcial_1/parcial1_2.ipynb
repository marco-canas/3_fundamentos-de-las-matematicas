{
 "cells": [
  {
   "cell_type": "markdown",
   "id": "866c6492",
   "metadata": {
    "slideshow": {
     "slide_type": "slide"
    }
   },
   "source": [
    "<table align=\"left\">\n",
    "  <td>\n",
    "<a href=\"https://colab.research.google.com/github/marco-canas/3_fundamentos-de-las-matematicas/blob/main/evaluation/parcial_1/parcial1_1.ipynb\" target=\"_parent\"><img src=\"https://colab.research.google.com/assets/colab-badge.svg\" alt=\"Open In Colab\"/></a>\n",
    " </td>\n",
    "</table>"
   ]
  },
  {
   "cell_type": "markdown",
   "id": "4409d74d",
   "metadata": {
    "slideshow": {
     "slide_type": "slide"
    }
   },
   "source": []
  },
  {
   "cell_type": "markdown",
   "id": "199e843d",
   "metadata": {
    "slideshow": {
     "slide_type": "slide"
    }
   },
   "source": [
    "# Parcial 1.2\n",
    "\n",
    "53. Problema de mezclas Un joyero tiene cinco anillos, cada uno pesa 18 g, y son de una aleación de 10% de plata y 90% de oro. Decide fundir los anillos y añadir suficiente plata para reducir el contenido de oro a 75%. ¿Cuánta plata debe añadir?"
   ]
  },
  {
   "cell_type": "markdown",
   "id": "4b6b152f",
   "metadata": {
    "slideshow": {
     "slide_type": "slide"
    }
   },
   "source": [
    "1. Construya el modelo que represente esta situación problemática. "
   ]
  },
  {
   "cell_type": "markdown",
   "id": "9894cfbb",
   "metadata": {
    "slideshow": {
     "slide_type": "slide"
    }
   },
   "source": [
    "# Punto\n",
    "\n",
    "Describa un procedimiento geométrico para estimar a $\\sqrt{13}$. "
   ]
  },
  {
   "cell_type": "markdown",
   "id": "8f8207ba",
   "metadata": {
    "slideshow": {
     "slide_type": "slide"
    }
   },
   "source": [
    "$$\\sqrt{13} = \\sqrt{4 + 9} = \\sqrt{2^{2}+3^{2}} $$"
   ]
  },
  {
   "cell_type": "markdown",
   "id": "a6c404f3",
   "metadata": {},
   "source": [
    "## [Video de apoyo](https://www.youtube.com/watch?v=LCi0GNSHmDA)"
   ]
  },
  {
   "cell_type": "code",
   "execution_count": null,
   "id": "6bab91c4",
   "metadata": {},
   "outputs": [],
   "source": []
  }
 ],
 "metadata": {
  "celltoolbar": "Slideshow",
  "kernelspec": {
   "display_name": "Python 3 (ipykernel)",
   "language": "python",
   "name": "python3"
  },
  "language_info": {
   "codemirror_mode": {
    "name": "ipython",
    "version": 3
   },
   "file_extension": ".py",
   "mimetype": "text/x-python",
   "name": "python",
   "nbconvert_exporter": "python",
   "pygments_lexer": "ipython3",
   "version": "3.9.13"
  }
 },
 "nbformat": 4,
 "nbformat_minor": 5
}
