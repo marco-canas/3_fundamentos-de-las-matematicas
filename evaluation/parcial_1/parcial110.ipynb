{
 "cells": [
  {
   "cell_type": "markdown",
   "id": "866c6492",
   "metadata": {
    "slideshow": {
     "slide_type": "slide"
    }
   },
   "source": [
    "<table align=\"left\">\n",
    "  <td>\n",
    "<a href=\"https://colab.research.google.com/github/marco-canas/3_fundamentos-de-las-matematicas/blob/main/evaluation/parcial_1/parcial11.ipynb\" target=\"_parent\"><img src=\"https://colab.research.google.com/assets/colab-badge.svg\" alt=\"Open In Colab\"/></a>\n",
    " </td>\n",
    "</table>"
   ]
  },
  {
   "cell_type": "markdown",
   "id": "4409d74d",
   "metadata": {
    "slideshow": {
     "slide_type": "slide"
    }
   },
   "source": [
    "## [Video de apoyo y orientación]()"
   ]
  },
  {
   "cell_type": "markdown",
   "id": "edcb6ac5",
   "metadata": {
    "slideshow": {
     "slide_type": "slide"
    }
   },
   "source": [
    "### Nombre del estudiante: "
   ]
  },
  {
   "cell_type": "markdown",
   "id": "4d110df5",
   "metadata": {
    "slideshow": {
     "slide_type": "slide"
    }
   },
   "source": [
    "# Objetivo general de formación \n",
    "\n",
    "1. Favorecer el desarrollo de competencias de tipo analítico y sintético, operativo, interpretativo y gráfico, que deben alcanzar los maestros en formación, en los temas propios de las matemáticas y el cálculo.  \n",
    "\n",
    "2. Brindar elementos conceptuales, procedimentales y aplicativos, encaminados al fortalecimiento de conocimientos teóricos y metodológicos en matemáticas o cálculo, para el desarrollo de ideas científicas, necesarias y suficientes, propias de la labor docente.\n",
    "\n"
   ]
  },
  {
   "cell_type": "markdown",
   "id": "c7bb055a",
   "metadata": {},
   "source": [
    "## Punto sobre $\\mathbb{R}$ como campo ordenado y completo y sus operaciones asociadad y las propiedades de ellas. "
   ]
  },
  {
   "cell_type": "markdown",
   "id": "64847468",
   "metadata": {},
   "source": []
  },
  {
   "cell_type": "markdown",
   "id": "199e843d",
   "metadata": {
    "slideshow": {
     "slide_type": "slide"
    }
   },
   "source": [
    "# Parcial 1.2: Modelación\n",
    "\n",
    "53. Problema de mezclas Un joyero tiene cinco anillos, cada uno pesa 18 g, y son de una aleación de 10% de plata y 90% de oro. Decide fundir los anillos y añadir suficiente plata para reducir el contenido de oro a 75%. ¿Cuánta plata debe añadir?"
   ]
  },
  {
   "cell_type": "markdown",
   "id": "4b6b152f",
   "metadata": {
    "slideshow": {
     "slide_type": "slide"
    }
   },
   "source": [
    "1. Construya el modelo que represente esta situación problemática. "
   ]
  },
  {
   "cell_type": "markdown",
   "id": "97f126a1",
   "metadata": {
    "slideshow": {
     "slide_type": "slide"
    }
   },
   "source": [
    "## Punto de visualización y lectura de gráficas de funciones"
   ]
  },
  {
   "cell_type": "markdown",
   "id": "f702c0eb",
   "metadata": {},
   "source": []
  },
  {
   "cell_type": "code",
   "execution_count": null,
   "id": "edbc47f1",
   "metadata": {
    "slideshow": {
     "slide_type": "slide"
    }
   },
   "outputs": [],
   "source": []
  },
  {
   "cell_type": "code",
   "execution_count": null,
   "id": "50748259",
   "metadata": {
    "slideshow": {
     "slide_type": "slide"
    }
   },
   "outputs": [],
   "source": []
  },
  {
   "cell_type": "markdown",
   "id": "f2daf460",
   "metadata": {
    "slideshow": {
     "slide_type": "slide"
    }
   },
   "source": [
    "## Referentes  \n",
    "\n",
    "* [Álgebra simbólica con Sympy:](https://mauriciotejada.com/programacionjulia/%C3%A1lgebra-simb%C3%B3lica.html)"
   ]
  },
  {
   "cell_type": "code",
   "execution_count": null,
   "id": "24dbc307",
   "metadata": {},
   "outputs": [],
   "source": []
  }
 ],
 "metadata": {
  "celltoolbar": "Slideshow",
  "kernelspec": {
   "display_name": "Python 3 (ipykernel)",
   "language": "python",
   "name": "python3"
  },
  "language_info": {
   "codemirror_mode": {
    "name": "ipython",
    "version": 3
   },
   "file_extension": ".py",
   "mimetype": "text/x-python",
   "name": "python",
   "nbconvert_exporter": "python",
   "pygments_lexer": "ipython3",
   "version": "3.9.13"
  }
 },
 "nbformat": 4,
 "nbformat_minor": 5
}
