{
 "cells": [
  {
   "cell_type": "markdown",
   "id": "cf8d7851",
   "metadata": {
    "slideshow": {
     "slide_type": "slide"
    }
   },
   "source": [
    "<table align=\"left\">\n",
    "  <td>\n",
    "<a href=\"https://colab.research.google.com/github/marco-canas/3_fundamentos-de-las-matematicas/blob/main/evaluation/parcial_1/parcial11.ipynb\" target=\"_parent\"><img src=\"https://colab.research.google.com/assets/colab-badge.svg\" alt=\"Open In Colab\"/></a>\n",
    " </td>\n",
    "</table>"
   ]
  },
  {
   "cell_type": "markdown",
   "id": "db90ba08",
   "metadata": {},
   "source": [
    "## [Video de apoyo a la preparación del estilo de evaluación](https://www.youtube.com/watch?v=vsdP5nHAutQ)"
   ]
  },
  {
   "cell_type": "markdown",
   "id": "3fd16491",
   "metadata": {
    "slideshow": {
     "slide_type": "slide"
    }
   },
   "source": [
    "# Parcial 1.1 Ecuaciones, inecuaciones y funciones"
   ]
  },
  {
   "cell_type": "markdown",
   "id": "cfec3ff9",
   "metadata": {
    "slideshow": {
     "slide_type": "slide"
    }
   },
   "source": [
    "### Nombre del estudiante: "
   ]
  },
  {
   "cell_type": "markdown",
   "id": "d642b975",
   "metadata": {
    "slideshow": {
     "slide_type": "slide"
    }
   },
   "source": [
    "# Objetivo general de formación \n",
    "\n",
    "1. Favorecer el desarrollo de competencias de tipo analítico y sintético, operativo, interpretativo y gráfico, que deben alcanzar los maestros en formación, en los temas propios de las matemáticas y el cálculo.  \n",
    "\n",
    "2. Brindar elementos conceptuales, procedimentales y aplicativos, encaminados al fortalecimiento de conocimientos teóricos y metodológicos en matemáticas o cálculo, para el desarrollo de ideas científicas, necesarias y suficientes, propias de la labor docente.\n",
    "\n"
   ]
  },
  {
   "cell_type": "markdown",
   "id": "fd32511f",
   "metadata": {
    "slideshow": {
     "slide_type": "slide"
    }
   },
   "source": [
    "# Punto 1 Los números reales\n",
    "\n",
    "Establezca la propiedad de los números reales que se está usando $7+5 = 5+7$\n",
    "\n",
    "* A: Propiedad conmutativa de la multiplicación\n",
    "* B: Propiedad asociativa de la adición\n",
    "* C. **Propiedad conmutativa de la adición.**  \n",
    "* D. Propiedad distributiva de la multiplicación con respecto a la suma. \n",
    "\n",
    "el orden en los sumandos o términos no altera el resultado de la suma. \n",
    "\n",
    "Recordemos que los miembros de una suma o adición se llaman términos o sumandos. \n"
   ]
  },
  {
   "cell_type": "markdown",
   "id": "bdf76110",
   "metadata": {
    "slideshow": {
     "slide_type": "slide"
    }
   },
   "source": [
    "$(\\mathbb{R}, + , \\cdot)$ es una estructura algebraica de campo. "
   ]
  },
  {
   "cell_type": "markdown",
   "id": "0825d87c",
   "metadata": {
    "slideshow": {
     "slide_type": "slide"
    }
   },
   "source": [
    "### Punto 2 Números irracionales y geometría   \n",
    "\n",
    "Refiérase a la figura siguiente y explique cómo ubicar el punto sobre una\n",
    "recta numérica. ¿Puede localizar mediante un método similar? ¿Y ? Mencione otros números irracionales que\n",
    "se pueden ubicar mediante este modo."
   ]
  },
  {
   "cell_type": "markdown",
   "id": "079d0eeb",
   "metadata": {
    "slideshow": {
     "slide_type": "slide"
    }
   },
   "source": [
    "<img src = 'https://github.com/marco-canas/3_fundamentos-de-las-matematicas/blob/main/evaluation/parcial_1/construccion_geometrica_raiz_2.png?raw=true'>"
   ]
  },
  {
   "cell_type": "markdown",
   "id": "a09e37b4",
   "metadata": {
    "slideshow": {
     "slide_type": "slide"
    }
   },
   "source": [
    "Explicación:\n",
    "\n",
    "1. Trace un triángulo rectángulo de catetos 1 y 1 para así, obtener gracias a \n",
    "\n",
    "$$ c_{1}^{2} + c_{2}^{2} = h^{2} $$\n",
    "\n",
    "2. Traslada la medida de la hipotenusa sobre la recta real utilizando un compás. \n",
    "\n",
    "3. Y así, el punto de corte de el compas con la recta real es la representación geométrica del número irracional $\\sqrt{2}$\n"
   ]
  },
  {
   "cell_type": "markdown",
   "id": "b01fe307",
   "metadata": {
    "slideshow": {
     "slide_type": "slide"
    }
   },
   "source": [
    "Qué otros números irracionales podemos trazar con este método geométrico: \n",
    "\n",
    "Por ejemplo, podemo trazar a $\\sqrt{3}$ \n",
    "$$ (\\sqrt{2})^{2} + 1^{2} = 3 $$\n",
    "\n",
    "entonces la hipotenusa medirá $\\sqrt{3}$. "
   ]
  },
  {
   "cell_type": "code",
   "execution_count": 2,
   "id": "80a2f0f9",
   "metadata": {
    "slideshow": {
     "slide_type": "slide"
    }
   },
   "outputs": [
    {
     "data": {
      "text/plain": [
       "1.4142135623730951"
      ]
     },
     "execution_count": 2,
     "metadata": {},
     "output_type": "execute_result"
    }
   ],
   "source": [
    "2**(1/2) "
   ]
  },
  {
   "cell_type": "markdown",
   "id": "7674e5ad",
   "metadata": {
    "slideshow": {
     "slide_type": "slide"
    }
   },
   "source": [
    "$$ \\sqrt{2} = 2^{1/2} $$"
   ]
  },
  {
   "cell_type": "markdown",
   "id": "766f8130",
   "metadata": {
    "slideshow": {
     "slide_type": "slide"
    }
   },
   "source": [
    "* Cuál es la definición de númnero irracional y diganos por lo menos un conjunto infinito de irracionales que conozca. "
   ]
  },
  {
   "cell_type": "markdown",
   "id": "f1277ef6",
   "metadata": {
    "slideshow": {
     "slide_type": "slide"
    }
   },
   "source": [
    "# Punto 2 (20 puntos)  Utilización de un modelo de caída libre  "
   ]
  },
  {
   "cell_type": "markdown",
   "id": "e5837cf1",
   "metadata": {
    "slideshow": {
     "slide_type": "slide"
    }
   },
   "source": [
    "Suponga que un cuerpo se deja caer desde una altura $h_{0}$ sobre el suelo. Entonces su altura después de $t$ segundos está dada por \n",
    "\n",
    "$$h = - 16t^{2} + h_{0},$$\n",
    "\n",
    "donde $h$ se mide en pies. Use esta información para resolver el problema.  "
   ]
  },
  {
   "cell_type": "markdown",
   "id": "3e9a5730",
   "metadata": {
    "slideshow": {
     "slide_type": "slide"
    }
   },
   "source": [
    "* Identifique el tipo de función $h(t)$ y justifique su respuesta. \n",
    "* "
   ]
  },
  {
   "cell_type": "markdown",
   "id": "f5c7e63e",
   "metadata": {
    "slideshow": {
     "slide_type": "slide"
    }
   },
   "source": [
    "Si una pelota se deja caer desde 288 pies sobre el suelo,  \n",
    "\n",
    "¿cuánto tarda en llegar al nivel del suelo?\n",
    "\n",
    "* Resuelva este interrogante utilizando el gráfico apropiado de $h$ realizado con wolfram o Geogebra. \n",
    "* Luego, constraste su respuesta con la obtenida utilizando métodos analíticos. \n"
   ]
  },
  {
   "cell_type": "markdown",
   "id": "7fbce02a",
   "metadata": {
    "slideshow": {
     "slide_type": "slide"
    }
   },
   "source": [
    "110. Una pelota se deja caer desde lo alto de un edificio de 96 pies de alto.\n",
    "* Identifique a la función $h(t)$\n",
    "* Identifique el gráfico de $h(t)$.     \n",
    "(a) ¿Cuánto tardará la pelota en caer la mitad de la distancia al nivel del suelo? Resuelva este interrogante utilizando el gráfico apropiado de $h$ realizado con wolfram o Geogebra.   \n",
    "Luego, constarste su respuesta con la obtenida utilizando métodos analíticos. \n",
    "(b) ¿Cuánto tardará en caer el suelo?  \n",
    "\n",
    "* Resuelva este interrogante utilizando el gráfico apropiado de $h$ realizado con wolfram o Geogebra.   \n",
    "Luego, contraste su respuesta con la obtenida utilizando métodos analíticos.   "
   ]
  },
  {
   "cell_type": "markdown",
   "id": "f22f0174",
   "metadata": {
    "slideshow": {
     "slide_type": "slide"
    }
   },
   "source": [
    "## Resuelva gráficamente el problema utilizando matplotlib o seaborn"
   ]
  },
  {
   "cell_type": "markdown",
   "id": "3a55bb7e",
   "metadata": {
    "slideshow": {
     "slide_type": "slide"
    }
   },
   "source": [
    "## Resuelva con Geogebra el problema"
   ]
  },
  {
   "cell_type": "code",
   "execution_count": null,
   "id": "e473e053",
   "metadata": {},
   "outputs": [],
   "source": []
  },
  {
   "cell_type": "markdown",
   "id": "cfff53e4",
   "metadata": {
    "slideshow": {
     "slide_type": "slide"
    }
   },
   "source": [
    "## Resuelva con wolfram el problema "
   ]
  },
  {
   "cell_type": "code",
   "execution_count": null,
   "id": "b144383d",
   "metadata": {},
   "outputs": [],
   "source": []
  },
  {
   "cell_type": "markdown",
   "id": "c36b0114",
   "metadata": {
    "slideshow": {
     "slide_type": "slide"
    }
   },
   "source": [
    "## Resuelva analíticamente el problema justificando cada paso realizado"
   ]
  },
  {
   "cell_type": "code",
   "execution_count": null,
   "id": "26680515",
   "metadata": {},
   "outputs": [],
   "source": []
  },
  {
   "cell_type": "markdown",
   "id": "9feec2a4",
   "metadata": {
    "slideshow": {
     "slide_type": "slide"
    }
   },
   "source": [
    "## Resuelva con sympy el problema"
   ]
  },
  {
   "cell_type": "code",
   "execution_count": null,
   "id": "d39de73d",
   "metadata": {},
   "outputs": [],
   "source": []
  },
  {
   "cell_type": "markdown",
   "id": "4a0131c5",
   "metadata": {
    "slideshow": {
     "slide_type": "slide"
    }
   },
   "source": [
    "# Resuelva con symbolab y describa los pasos que esta aplicación le presenta para la solución. "
   ]
  },
  {
   "cell_type": "code",
   "execution_count": null,
   "id": "216f0212",
   "metadata": {
    "slideshow": {
     "slide_type": "slide"
    }
   },
   "outputs": [],
   "source": []
  },
  {
   "cell_type": "markdown",
   "id": "867be656",
   "metadata": {
    "slideshow": {
     "slide_type": "slide"
    }
   },
   "source": [
    "# [Vínculo para formulario de Microsoft Forms para enviar tu examen resuelto](https://forms.office.com/Pages/ResponsePage.aspx?id=IefhmYRxjkmK_7KtTlPBwkanXIs1i1FEujpsZgO6dXpUMDdIOU5WQ1U5VEJLTU5OWlhEOVhWRU1QTS4u)"
   ]
  },
  {
   "cell_type": "code",
   "execution_count": null,
   "id": "95d89047",
   "metadata": {
    "slideshow": {
     "slide_type": "slide"
    }
   },
   "outputs": [],
   "source": []
  },
  {
   "cell_type": "code",
   "execution_count": null,
   "id": "b0d59f7c",
   "metadata": {},
   "outputs": [],
   "source": []
  }
 ],
 "metadata": {
  "celltoolbar": "Slideshow",
  "kernelspec": {
   "display_name": "Python 3 (ipykernel)",
   "language": "python",
   "name": "python3"
  },
  "language_info": {
   "codemirror_mode": {
    "name": "ipython",
    "version": 3
   },
   "file_extension": ".py",
   "mimetype": "text/x-python",
   "name": "python",
   "nbconvert_exporter": "python",
   "pygments_lexer": "ipython3",
   "version": "3.9.13"
  },
  "vscode": {
   "interpreter": {
    "hash": "af153e239d61b5c0d363f35fe8a0509d492506f382d017c98fa3fb49fce70a72"
   }
  }
 },
 "nbformat": 4,
 "nbformat_minor": 5
}
