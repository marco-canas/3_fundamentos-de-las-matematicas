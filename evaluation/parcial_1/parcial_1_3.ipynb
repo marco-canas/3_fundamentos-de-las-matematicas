{
 "cells": [
  {
   "cell_type": "markdown",
   "id": "866c6492",
   "metadata": {
    "slideshow": {
     "slide_type": "slide"
    }
   },
   "source": [
    "<table align=\"left\">\n",
    "  <td>\n",
    "    <a href=\"https://colab.research.google.com/github/marco-canas/2_calculo_I/blob/main/classes/6_class_march_31_parcial_1/6_class_march_31.ipynb\" target=\"_parent\"><img src=\"https://colab.research.google.com/assets/colab-badge.svg\" alt=\"Open In Colab\"/></a>\n",
    "  </td>\n",
    "</table>"
   ]
  },
  {
   "cell_type": "markdown",
   "id": "4409d74d",
   "metadata": {
    "slideshow": {
     "slide_type": "slide"
    }
   },
   "source": [
    "## [Video de apoyo y orientación]()"
   ]
  },
  {
   "cell_type": "markdown",
   "id": "f65b9071",
   "metadata": {
    "slideshow": {
     "slide_type": "slide"
    }
   },
   "source": [
    "### [Programa del curso de Fundamentos de matemáticas](https://udeaeduco-my.sharepoint.com/:w:/g/personal/marco_canas_udea_edu_co/EedNYSILvjFIibovhX53ASYBg7MweXJC5Zi9UlhIXyqdnQ?e=OgG6Mv)"
   ]
  },
  {
   "cell_type": "markdown",
   "id": "199e843d",
   "metadata": {
    "slideshow": {
     "slide_type": "slide"
    }
   },
   "source": [
    "# Parcial 1.3\n",
    "\n",
    "\n",
    "\n",
    "<img src = 'https://github.com/marco-canas/3_fundamentos-de-las-matematicas/blob/main/classes/licenciadoa_matematicas_3.jpg?raw=true'>"
   ]
  },
  {
   "cell_type": "markdown",
   "id": "aa3f358f",
   "metadata": {
    "slideshow": {
     "slide_type": "slide"
    }
   },
   "source": [
    "### Objetivo de la prueba:  \n",
    "recoger información sobre la aprehensión de los conceptos básicos, por parte de los estudiantes, sobre propiedades de los números Reales y sus operaciones, fundamentos algebraicos y productos notables."
   ]
  },
  {
   "cell_type": "markdown",
   "id": "eadc23eb",
   "metadata": {
    "slideshow": {
     "slide_type": "slide"
    }
   },
   "source": [
    "# Primer punto sobre el campo de los números reales"
   ]
  },
  {
   "cell_type": "markdown",
   "id": "d8d1cde6",
   "metadata": {
    "slideshow": {
     "slide_type": "slide"
    }
   },
   "source": [
    "1.  Dé un ejemplo de:  \n",
    "\n",
    " (a) Un número natural  \n",
    " (b) Un entero que no sea número natural  \n",
    " (c) Un número racional que no sea entero  \n",
    " (d) Un número irracional  \n",
    " \n",
    " Tomado de la página 24 del precálculo de [stewart](https://udeaeduco-my.sharepoint.com/:b:/g/personal/marco_canas_udea_edu_co/ERHIq62I6qFNrmxy6LZb8ZMBci7kUsyNME1nIh9yCBMJ_w?e=WnfciT)"
   ]
  },
  {
   "cell_type": "markdown",
   "id": "860040dd",
   "metadata": {
    "slideshow": {
     "slide_type": "slide"
    }
   },
   "source": [
    "# Segundo punto (Potenciación, radicación, ecuaciones, inecuaciones)"
   ]
  },
  {
   "cell_type": "markdown",
   "id": "bf020cd8",
   "metadata": {
    "slideshow": {
     "slide_type": "slide"
    }
   },
   "source": [
    "### APLICACIONES  \n",
    "\n",
    "95. Distancia a la estrella más cercana Proxima Centauri, la estrella más cercana a nuestro sistema solar, está a 4.3 años \n",
    "luz de distancia. Use la información del Ejercicio 81(a) para expresar esta distancia en millas.  \n",
    "\n",
    "96. Velocidad de la luz La velocidad de la luz es de unas 186,000 mi/s. Use la información del Ejercicio 82(a) para hallar \n",
    "cuánto tarda un rayo de luz del Sol en llegar a la Tierra.  \n",
    "\n",
    "97. Volumen de los océanos El promedio de profundidad de los océanos es $3.7 \\times 10^{3}$ m y el área de los océanos es $3.6 \\times 10^{14}$ $m^{2}$  \n",
    "\n",
    "* ¿Cuál es el volumen total del océano en litros? (Un metro cúbico contiene 1000 litros.)  \n",
    "\n",
    "tomada de la página 37 de precálculod e stewart. "
   ]
  },
  {
   "cell_type": "markdown",
   "id": "128dcc32",
   "metadata": {
    "slideshow": {
     "slide_type": "slide"
    }
   },
   "source": [
    "# Tercer punto Factorización - Productos notables"
   ]
  },
  {
   "cell_type": "markdown",
   "id": "59ce1a18",
   "metadata": {
    "slideshow": {
     "slide_type": "slide"
    }
   },
   "source": [
    "## APLICACIONES\n",
    "### 131. Volumen de concreto   \n",
    "\n",
    "Se construye una alcantarilla con grandes capas cilíndricas vaciadas en concreto, como se muestra en la figura. Usando la fórmula para el volumen de un cilindro dada al final de este libro, explique por qué el volumen de la capa cilíndrica es\n",
    "\n",
    "$$ V = \\pi R^{2}h - \\pi r^{2}h $$  \n",
    "\n",
    "Factorice para demostrar que\n",
    "\n",
    "\n",
    "$$ V = 2\\pi \\cdot \\text{radio promedio} \\cdot \\text{altura} \\cdot \\text{grosor} $$\n",
    "\n",
    "Use el diagrama “desenrollado” para explicar por qué esto tiene sentido geométricamente hablando. \n",
    "\n",
    "\n",
    "Tomado de la página 47 del precálculo de stewart"
   ]
  },
  {
   "cell_type": "markdown",
   "id": "dfe0e378",
   "metadata": {
    "slideshow": {
     "slide_type": "slide"
    }
   },
   "source": [
    "<img src = 'https://github.com/marco-canas/3_fundamentos-de-las-matematicas/blob/main/evaluation/parcial_1/cilindros_por_capas.png?raw=true'>"
   ]
  },
  {
   "cell_type": "markdown",
   "id": "c8f4e56a",
   "metadata": {
    "slideshow": {
     "slide_type": "slide"
    }
   },
   "source": [
    "# Punto 4 Simplificación de expresiones racionales"
   ]
  },
  {
   "cell_type": "markdown",
   "id": "ae8604d6",
   "metadata": {
    "slideshow": {
     "slide_type": "slide"
    }
   },
   "source": [
    "## APLICACIONES\n",
    "101. Resistencia eléctrica   \n",
    "\n",
    "Si dos resistores eléctricos con resistencias $R_{1}$ y $R_{2}$ se conectan en paralelo (vea la figura), entonces la resistencia total $R$ está dada por  \n",
    "\n",
    "$$ R = \\frac{1}{\\frac{1}{R_{1}}+\\frac{1}{R_{2}}}  $$   \n",
    "\n",
    "(a) Simplifique $R$ de la expresión.  \n",
    "\n",
    "(b) Si $R_{1} = 10$ ohms y $R_{2}= 20$ ohms, ¿cuál es la resistencia $R$ total? "
   ]
  },
  {
   "cell_type": "markdown",
   "id": "cfba3191",
   "metadata": {
    "slideshow": {
     "slide_type": "slide"
    }
   },
   "source": [
    "# Punto 5 Sobre modelación matemática"
   ]
  },
  {
   "cell_type": "markdown",
   "id": "4b6b152f",
   "metadata": {
    "slideshow": {
     "slide_type": "slide"
    }
   },
   "source": [
    "2. Construya el modelo que represente esta situación problemática. "
   ]
  },
  {
   "cell_type": "markdown",
   "id": "378b6d9e",
   "metadata": {
    "slideshow": {
     "slide_type": "slide"
    }
   },
   "source": [
    "111-112 Q Problemas de cuerpos en caída Use la fórmula \n",
    "$$ h = –16t^{2} + v_{0}t $$\n",
    "\n",
    "que se estudia en el Ejemplo 9 (Página del precálculo de [stewart](https://udeaeduco-my.sharepoint.com/:b:/g/personal/marco_canas_udea_edu_co/ERHIq62I6qFNrmxy6LZb8ZMBci7kUsyNME1nIh9yCBMJ_w?e=WnfciT)).  \n",
    "\n",
    "111. Una pelota se lanza directamente hacia arriba a una velocidad inicial de $v_{0} = 40$ pies/s.\n",
    "(a) ¿Cuándo llega la pelota a una altura de 24 pies?\n",
    "(b) ¿Cuándo llega a una altura de 48 pies?\n",
    "(c) ¿Cuál es la altura máxima alcanzada por la pelota?\n",
    "(d) ¿Cuándo alcanza la pelota el punto más alto de su trayectoria?\n",
    "(e) ¿Cuándo cae al suelo?"
   ]
  },
  {
   "cell_type": "markdown",
   "id": "2e73f488",
   "metadata": {
    "slideshow": {
     "slide_type": "slide"
    }
   },
   "source": [
    "112. ¿Con qué rapidez debe ser lanzada hacia arriba una pelota para que alcance una altura máxima de 100 pies?   \n",
    "\n",
    "**Sugerencia:**   \n",
    "\n",
    "Use el discriminante de la ecuación $16t^{2} - v_{0}t+ h = 0.$"
   ]
  },
  {
   "cell_type": "markdown",
   "id": "6befa924",
   "metadata": {
    "slideshow": {
     "slide_type": "slide"
    }
   },
   "source": [
    "## Referentes  \n",
    "\n",
    "* [Precálculo de Stewart](https://udeaeduco-my.sharepoint.com/:b:/g/personal/marco_canas_udea_edu_co/ERHIq62I6qFNrmxy6LZb8ZMBci7kUsyNME1nIh9yCBMJ_w?e=cOQjzv)\n",
    "* [Cálculo Stewart](https://udeaeduco-my.sharepoint.com/:b:/g/personal/marco_canas_udea_edu_co/EZgXZjAp8QxPqOAim2hs6LcBNPLGjSHf-xwYnUVYkwa04w?e=k1HOhB)\n",
    "\n",
    "* [Cálculo purcell](https://udeaeduco-my.sharepoint.com/:b:/g/personal/marco_canas_udea_edu_co/ES60UB4h-QFFqqRQUFmkpWcBIgoLBJeqTfZjNajWNWSeJA?e=SO4M1M)"
   ]
  },
  {
   "cell_type": "code",
   "execution_count": null,
   "id": "edbc47f1",
   "metadata": {
    "slideshow": {
     "slide_type": "slide"
    }
   },
   "outputs": [],
   "source": []
  }
 ],
 "metadata": {
  "celltoolbar": "Slideshow",
  "kernelspec": {
   "display_name": "Python 3 (ipykernel)",
   "language": "python",
   "name": "python3"
  },
  "language_info": {
   "codemirror_mode": {
    "name": "ipython",
    "version": 3
   },
   "file_extension": ".py",
   "mimetype": "text/x-python",
   "name": "python",
   "nbconvert_exporter": "python",
   "pygments_lexer": "ipython3",
   "version": "3.9.13"
  }
 },
 "nbformat": 4,
 "nbformat_minor": 5
}
