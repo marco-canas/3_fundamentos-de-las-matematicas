{
 "cells": [
  {
   "cell_type": "markdown",
   "id": "cf8d7851",
   "metadata": {
    "slideshow": {
     "slide_type": "slide"
    }
   },
   "source": [
    "<table align=\"left\">\n",
    "  <td>\n",
    "<a href=\"https://colab.research.google.com/github/marco-canas/3_fundamentos-de-las-matematicas/blob/main/evaluation/parcial_1/parcial_1_1.ipynb\" target=\"_parent\"><img src=\"https://colab.research.google.com/assets/colab-badge.svg\" alt=\"Open In Colab\"/></a>\n",
    " </td>\n",
    "</table>"
   ]
  },
  {
   "cell_type": "markdown",
   "id": "4d4cdf4f",
   "metadata": {
    "slideshow": {
     "slide_type": "slide"
    }
   },
   "source": [
    "## [Video de retroalimentación de esta evaluación]()"
   ]
  },
  {
   "cell_type": "markdown",
   "id": "3fd16491",
   "metadata": {
    "slideshow": {
     "slide_type": "slide"
    }
   },
   "source": [
    "# Parcial 1.1 Los números reales, Ecuaciones, inecuaciones y funciones en $\\mathbb{R}$"
   ]
  },
  {
   "cell_type": "markdown",
   "id": "c2942f7f",
   "metadata": {
    "slideshow": {
     "slide_type": "slide"
    }
   },
   "source": [
    "### Nombre del estudiante: "
   ]
  },
  {
   "cell_type": "markdown",
   "id": "d642b975",
   "metadata": {
    "slideshow": {
     "slide_type": "slide"
    }
   },
   "source": [
    "### Objetivo de la prueba:   \n",
    "\n",
    "recoger información sobre la aprehensión de los conceptos básicos, por parte de los estudiantes, sobre propiedades de los números Reales y sus operaciones, fundamentos algebraicos y productos notables, ecuaciones, inecuaciones y funciones."
   ]
  },
  {
   "cell_type": "markdown",
   "id": "917f1538",
   "metadata": {
    "slideshow": {
     "slide_type": "slide"
    }
   },
   "source": [
    "# Primer punto es teórico (10 puntos)"
   ]
  },
  {
   "cell_type": "markdown",
   "id": "ff5f594a",
   "metadata": {
    "slideshow": {
     "slide_type": "slide"
    }
   },
   "source": [
    "1. ¿Que es una ecuación? de al menos un ejemplo\n",
    "\n",
    "\n",
    "2. ¿Qué es una función?\n",
    "\n",
    "\n",
    "3. ¿Cuál es la diferencia entre ecuación y función? \n",
    "\n",
    "\n",
    "\n",
    "4. De la definición completa de $(R, +, \\cdot)$ como campo o cuerpo. Es decir, describa a $R$ desde un punto de vista algebraico.   \n",
    "\n",
    "5. Cuál es la definición de número irracional y diganos por lo menos un conjunto infinito de irracionales que conozca.\n",
    "6. De un ejemplo de una operación que no sea asociativa. (De una justificación verbal)"
   ]
  },
  {
   "cell_type": "markdown",
   "id": "52b4662e",
   "metadata": {
    "slideshow": {
     "slide_type": "slide"
    }
   },
   "source": [
    "# Punto sobre ecuaciones (10 puntos)\n",
    "\n",
    "## La ecuación de lentes  \n",
    "\n",
    "Si $F$ es la longitud focal de un lente convexo y un objeto se coloca a una distancia $x$ desde el lente, entonces su imagen estará a una distancia $y$ del lente, donde $F$, $x$ y $y$ están relacionadas por la ecuación de lentes  \n",
    "\n",
    "$$ \\frac{1}{F}  = \\frac{1}{x} + \\frac{1}{y} $$\n",
    "\n",
    "Suponga que un lente tiene una longitud focal de $4.8\\ cm$ y que la imagen de un objeto está 4 cm más cerca del lente que el \n",
    "objeto mismo. ¿A qué distancia del lente está el objeto?  \n",
    "\n",
    "\n",
    "\n",
    "Tomado de la página 70 del precálculo de Stewart"
   ]
  },
  {
   "cell_type": "markdown",
   "id": "4854ddce",
   "metadata": {
    "slideshow": {
     "slide_type": "slide"
    }
   },
   "source": [
    "# Punto sobre inecuaciones (10 puntos)\n",
    "\n",
    "105. Escalas de temperatura   \n",
    "\n",
    "Use la relación entre $C$ y $F$ dada por  \n",
    "\n",
    "\n",
    "$$ C = \\frac{5}{9}(F - 32) $$\n",
    "\n",
    "para hallar el intervalo en la escala Fahrenheit correspondiente al intervalo de temperatura   \n",
    "\n",
    "$$ 20 \\leq C \\leq 30. $$\n",
    "\n",
    "Tomado de la página 95 del precálculo de stewart. "
   ]
  },
  {
   "cell_type": "markdown",
   "id": "719fd644",
   "metadata": {
    "slideshow": {
     "slide_type": "slide"
    }
   },
   "source": [
    "## Punto de funciones (70 puntos) Modelos con el uso de variaciones (Página 132 del Stewart precálculo)\n",
    "\n",
    "32. Ley de Boyle La presión $P$ de una muestra de gas es directamente proporcional a la temperatura $T$ e inversamente proporcional al volumen $V$.  \n",
    "\n",
    "(a) Escriba una ecuación que exprese la variación.  \n",
    " \n",
    "(b) Encentre la constante de proporcionalidad si $100\\  L$ de gas ejercen una presión de 33.2 kPa a una temperatura de 400 K   \n",
    "\n",
    "(temperatura absoluta medida en la escala Kelvin).  \n",
    "\n",
    "(c) Si la temperatura se aumenta a 500 K y el volumen se disminuye a 80 L, ¿cuál es la presión del gas?\n",
    "\n",
    "Tomado de la página 136 del PDF del precálculo de * [Precálculo de Stewart](https://udeaeduco-my.sharepoint.com/:b:/g/personal/marco_canas_udea_edu_co/ERHIq62I6qFNrmxy6LZb8ZMBci7kUsyNME1nIh9yCBMJ_w?e=cOQjzv)"
   ]
  },
  {
   "cell_type": "markdown",
   "id": "0825d87c",
   "metadata": {
    "slideshow": {
     "slide_type": "slide"
    }
   },
   "source": [
    "## Punto sobre Números irracionales y su representación geométrica en la recta real  \n",
    "\n",
    "Refiérase a la figura siguiente y explique cómo ubicar o representar gráficamente un número irracional sobre la recta numérica.   \n",
    "\n",
    "Mencione otros números irracionales que se pueden ubicar mediante este modo."
   ]
  },
  {
   "cell_type": "markdown",
   "id": "079d0eeb",
   "metadata": {
    "slideshow": {
     "slide_type": "slide"
    }
   },
   "source": [
    "<img src = 'https://github.com/marco-canas/3_fundamentos-de-las-matematicas/blob/main/evaluation/parcial_1/construccion_geometrica_raiz_2.png?raw=true'>"
   ]
  },
  {
   "cell_type": "markdown",
   "id": "f1277ef6",
   "metadata": {
    "slideshow": {
     "slide_type": "slide"
    }
   },
   "source": [
    "# Punto 2 (40 puntos)  Utilización de un modelo de caída libre  "
   ]
  },
  {
   "cell_type": "markdown",
   "id": "9ae51a4d",
   "metadata": {
    "slideshow": {
     "slide_type": "slide"
    }
   },
   "source": [
    "Suponga que un cuerpo se deja caer desde una altura $h_{0}$ sobre el suelo. Entonces su altura después de $t$ segundos está dada por \n",
    "\n",
    "$$h = h_{0} - 16t^{2}, \\ \\ \\ \\ \\quad \\text{este es un modelo cuadrático}$$\n",
    "\n",
    "donde $h$ se mide en pies. "
   ]
  },
  {
   "cell_type": "markdown",
   "id": "7dd77cb1",
   "metadata": {
    "slideshow": {
     "slide_type": "slide"
    }
   },
   "source": [
    "# Animación de altura contra tiermpo con plotly"
   ]
  },
  {
   "cell_type": "code",
   "execution_count": null,
   "id": "be25cb42",
   "metadata": {
    "slideshow": {
     "slide_type": "slide"
    }
   },
   "outputs": [],
   "source": [
    "import pandas as pd \n",
    "import plotly.express as px\n",
    "fig = px.line(tabla,x = tabla.keys()[0], y = tabla.keys()[1],\\\n",
    "              title=r'Relación entre $x$ y $y$')\n",
    "\n",
    "\n",
    "fig.show()\n",
    "\n",
    "fig.write_html('relacion_entre_x_e_y.html', auto_open=True)"
   ]
  },
  {
   "cell_type": "markdown",
   "id": "e5837cf1",
   "metadata": {
    "slideshow": {
     "slide_type": "slide"
    }
   },
   "source": [
    "Use esta información para resolver el problema.  "
   ]
  },
  {
   "cell_type": "markdown",
   "id": "3e9a5730",
   "metadata": {
    "slideshow": {
     "slide_type": "slide"
    }
   },
   "source": [
    "* Identifique el tipo de función $h(t)$ y justifique su respuesta. \n",
    "* calcule $h(0)$ y de una interpretación de este valor de la función.\n",
    "* resuelva la ecuación $h(t) = 0$ y describa verbalmente el significado de esta solucion. "
   ]
  },
  {
   "cell_type": "markdown",
   "id": "7fbce02a",
   "metadata": {
    "slideshow": {
     "slide_type": "slide"
    }
   },
   "source": [
    "110. Una pelota se deja caer desde lo alto de un edificio de 96 pies de alto.\n",
    "* Identifique a la función $h(t)$\n",
    "* Identifique el gráfico de $h(t)$.     \n",
    "(a) ¿Cuánto tardará la pelota en caer la mitad de la distancia al nivel del suelo? Resuelva este interrogante utilizando el gráfico apropiado de $h$ realizado con wolfram o Geogebra.   \n",
    "Luego, constarste su respuesta con la obtenida utilizando métodos analíticos. \n",
    "(b) ¿Cuánto tardará en caer el suelo?  \n",
    "\n",
    "* Resuelva este interrogante utilizando el gráfico apropiado de $h$ realizado con wolfram o Geogebra.   \n",
    "Luego, contraste su respuesta con la obtenida utilizando métodos analíticos.   "
   ]
  },
  {
   "cell_type": "markdown",
   "id": "f22f0174",
   "metadata": {
    "slideshow": {
     "slide_type": "slide"
    }
   },
   "source": [
    "## Resuelva gráficamente el problema utilizando matplotlib o seaborn"
   ]
  },
  {
   "cell_type": "markdown",
   "id": "3a55bb7e",
   "metadata": {
    "slideshow": {
     "slide_type": "slide"
    }
   },
   "source": [
    "## Resuelva con Geogebra el problema"
   ]
  },
  {
   "cell_type": "markdown",
   "id": "cfff53e4",
   "metadata": {
    "slideshow": {
     "slide_type": "slide"
    }
   },
   "source": [
    "## Resuelva con [Wolfram Alpha](https://www.wolframalpha.com/) el problema "
   ]
  },
  {
   "cell_type": "markdown",
   "id": "c36b0114",
   "metadata": {
    "slideshow": {
     "slide_type": "slide"
    }
   },
   "source": [
    "## Resuelva analíticamente el problema justificando cada paso realizado"
   ]
  },
  {
   "cell_type": "markdown",
   "id": "9feec2a4",
   "metadata": {
    "slideshow": {
     "slide_type": "slide"
    }
   },
   "source": [
    "## Resuelva con sympy el problema"
   ]
  },
  {
   "cell_type": "markdown",
   "id": "4a0131c5",
   "metadata": {
    "slideshow": {
     "slide_type": "slide"
    }
   },
   "source": [
    "# Resuelva con symbolab y describa los pasos que esta aplicación le presenta para la solución. "
   ]
  },
  {
   "cell_type": "code",
   "execution_count": null,
   "id": "216f0212",
   "metadata": {
    "slideshow": {
     "slide_type": "slide"
    }
   },
   "outputs": [],
   "source": []
  },
  {
   "cell_type": "markdown",
   "id": "f137d6f0",
   "metadata": {
    "slideshow": {
     "slide_type": "slide"
    }
   },
   "source": [
    "## Referentes  \n",
    "\n",
    "* [Precálculo de Stewart](https://udeaeduco-my.sharepoint.com/:b:/g/personal/marco_canas_udea_edu_co/ERHIq62I6qFNrmxy6LZb8ZMBci7kUsyNME1nIh9yCBMJ_w?e=cOQjzv)\n",
    "* [Cálculo Stewart](https://udeaeduco-my.sharepoint.com/:b:/g/personal/marco_canas_udea_edu_co/EZgXZjAp8QxPqOAim2hs6LcBNPLGjSHf-xwYnUVYkwa04w?e=k1HOhB)\n",
    "\n",
    "* [Cálculo purcell](https://udeaeduco-my.sharepoint.com/:b:/g/personal/marco_canas_udea_edu_co/ES60UB4h-QFFqqRQUFmkpWcBIgoLBJeqTfZjNajWNWSeJA?e=SO4M1M)"
   ]
  },
  {
   "cell_type": "markdown",
   "id": "d90e6996",
   "metadata": {
    "slideshow": {
     "slide_type": "slide"
    }
   },
   "source": []
  }
 ],
 "metadata": {
  "celltoolbar": "Slideshow",
  "kernelspec": {
   "display_name": "Python 3 (ipykernel)",
   "language": "python",
   "name": "python3"
  },
  "language_info": {
   "codemirror_mode": {
    "name": "ipython",
    "version": 3
   },
   "file_extension": ".py",
   "mimetype": "text/x-python",
   "name": "python",
   "nbconvert_exporter": "python",
   "pygments_lexer": "ipython3",
   "version": "3.9.13"
  },
  "rise": {
   "enable_chalkboard": true,
   "theme": "sky",
   "transition": "zoom"
  },
  "vscode": {
   "interpreter": {
    "hash": "af153e239d61b5c0d363f35fe8a0509d492506f382d017c98fa3fb49fce70a72"
   }
  }
 },
 "nbformat": 4,
 "nbformat_minor": 5
}
