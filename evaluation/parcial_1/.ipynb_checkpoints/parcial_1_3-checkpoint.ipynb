{
 "cells": [
  {
   "cell_type": "markdown",
   "id": "866c6492",
   "metadata": {
    "slideshow": {
     "slide_type": "slide"
    }
   },
   "source": [
    "<table align=\"left\">\n",
    "  <td>\n",
    "    <a href=\"https://colab.research.google.com/github/marco-canas/2_calculo_I/blob/main/classes/6_class_march_31_parcial_1/6_class_march_31.ipynb\" target=\"_parent\"><img src=\"https://colab.research.google.com/assets/colab-badge.svg\" alt=\"Open In Colab\"/></a>\n",
    "  </td>\n",
    "</table>"
   ]
  },
  {
   "cell_type": "markdown",
   "id": "4409d74d",
   "metadata": {
    "slideshow": {
     "slide_type": "slide"
    }
   },
   "source": [
    "## [Video de apoyo y orientación]()"
   ]
  },
  {
   "cell_type": "markdown",
   "id": "1a5522c0",
   "metadata": {
    "slideshow": {
     "slide_type": "slide"
    }
   },
   "source": [
    "### [Programa del curso de Fundamentos de matemáticas](https://udeaeduco-my.sharepoint.com/:w:/g/personal/marco_canas_udea_edu_co/EedNYSILvjFIibovhX53ASYBg7MweXJC5Zi9UlhIXyqdnQ?e=OgG6Mv)"
   ]
  },
  {
   "cell_type": "markdown",
   "id": "199e843d",
   "metadata": {
    "slideshow": {
     "slide_type": "slide"
    }
   },
   "source": [
    "# Parcial 1.3\n",
    "\n",
    "\n",
    "\n",
    "<img src = ''>"
   ]
  },
  {
   "cell_type": "markdown",
   "id": "ca2d671f",
   "metadata": {
    "slideshow": {
     "slide_type": "slide"
    }
   },
   "source": [
    "# Primer punto sobre el campo de los números reales"
   ]
  },
  {
   "cell_type": "markdown",
   "id": "04dd0bf4",
   "metadata": {
    "slideshow": {
     "slide_type": "slide"
    }
   },
   "source": [
    "1.  Dé un ejemplo de:  \n",
    "\n",
    " (a) Un número natural  \n",
    " (b) Un entero que no sea número natural  \n",
    " (c) Un número racional que no sea entero  \n",
    " (d) Un número irracional  \n",
    " \n",
    " Tomado de la página 24 del precálculo de [stewart](https://udeaeduco-my.sharepoint.com/:b:/g/personal/marco_canas_udea_edu_co/ERHIq62I6qFNrmxy6LZb8ZMBci7kUsyNME1nIh9yCBMJ_w?e=WnfciT)"
   ]
  },
  {
   "cell_type": "markdown",
   "id": "c1d1abdf",
   "metadata": {
    "slideshow": {
     "slide_type": "slide"
    }
   },
   "source": [
    "# Segundo punto (Potenciación, radicación, ecuaciones, inecuaciones)"
   ]
  },
  {
   "cell_type": "markdown",
   "id": "e9ad4cfe",
   "metadata": {
    "slideshow": {
     "slide_type": "slide"
    }
   },
   "source": [
    "APLICACIONES\n",
    "95. Distancia a la estrella más cercana Proxima Centauri, \n",
    "la estrella más cercana a nuestro sistema solar, está a 4.3 años \n",
    "luz de distancia. Use la información del Ejercicio 81(a) para ex\u0002presar esta distancia en millas.\n",
    "96. Velocidad de la luz La velocidad de la luz es de unas \n",
    "186,000 mi/s. Use la información del Ejercicio 82(a) para hallar \n",
    "cuánto tarda un rayo de luz del Sol en llegar a la Tierra.\n",
    "97. Volumen de los océanos El promedio de profundidad de \n",
    "los océanos es 3.7 \t 103\n",
    " m y el área de los océanos es 3.6 \t\n",
    "1014 m2\n",
    ". ¿Cuál es el volumen total del océano en litros? (Un \n",
    "metro cúbico contiene 1000 litros.)\n",
    "\n",
    "tomada de la página 37 de precálculod e stewart. "
   ]
  },
  {
   "cell_type": "markdown",
   "id": "3c0c0944",
   "metadata": {
    "slideshow": {
     "slide_type": "slide"
    }
   },
   "source": [
    "# Tercer punto "
   ]
  },
  {
   "cell_type": "markdown",
   "id": "e8fd7cae",
   "metadata": {
    "slideshow": {
     "slide_type": "slide"
    }
   },
   "source": [
    "## APLICACIONES\n",
    "### 131. Volumen de concreto   \n",
    "\n",
    "Se construye una alcantarilla con grandes capas cilíndricas vaciadas en concreto, como se muestra en la fi gura. Usando la fórmula para el volumen de un ci\u0002lindro dada al fi nal de este libro, explique por qué el volumen \n",
    "de la capa cilíndrica es\n",
    "V pR\n",
    "2\n",
    "h pr\n",
    "2\n",
    "h\n",
    " Factorice para demostrar que\n",
    "V \u0002 2π \u0006 radio promedio \u0006 altura \u0006 grosor\n",
    " Use el diagrama “desenrollado” para explicar por qué esto \n",
    "tiene sentido geométricamente hablando. \n",
    "\n",
    "\n",
    "Tomado de la página 47 del precálculo de stewart"
   ]
  },
  {
   "cell_type": "markdown",
   "id": "e80c10bf",
   "metadata": {
    "slideshow": {
     "slide_type": "slide"
    }
   },
   "source": [
    "<img src = ''>"
   ]
  },
  {
   "cell_type": "code",
   "execution_count": null,
   "id": "b3f73468",
   "metadata": {},
   "outputs": [],
   "source": []
  },
  {
   "cell_type": "markdown",
   "id": "9dcd9136",
   "metadata": {
    "slideshow": {
     "slide_type": "slide"
    }
   },
   "source": [
    "# Punto 5 Sobre modelación matemática"
   ]
  },
  {
   "cell_type": "markdown",
   "id": "4b6b152f",
   "metadata": {
    "slideshow": {
     "slide_type": "slide"
    }
   },
   "source": [
    "2. Construya el modelo que represente esta situación problemática. "
   ]
  },
  {
   "cell_type": "code",
   "execution_count": null,
   "id": "9b67d69c",
   "metadata": {
    "slideshow": {
     "slide_type": "slide"
    }
   },
   "outputs": [],
   "source": []
  },
  {
   "cell_type": "code",
   "execution_count": null,
   "id": "cf71ddbc",
   "metadata": {
    "slideshow": {
     "slide_type": "slide"
    }
   },
   "outputs": [],
   "source": []
  },
  {
   "cell_type": "code",
   "execution_count": null,
   "id": "edbc47f1",
   "metadata": {
    "slideshow": {
     "slide_type": "slide"
    }
   },
   "outputs": [],
   "source": []
  }
 ],
 "metadata": {
  "celltoolbar": "Slideshow",
  "kernelspec": {
   "display_name": "Python 3 (ipykernel)",
   "language": "python",
   "name": "python3"
  },
  "language_info": {
   "codemirror_mode": {
    "name": "ipython",
    "version": 3
   },
   "file_extension": ".py",
   "mimetype": "text/x-python",
   "name": "python",
   "nbconvert_exporter": "python",
   "pygments_lexer": "ipython3",
   "version": "3.9.13"
  }
 },
 "nbformat": 4,
 "nbformat_minor": 5
}
