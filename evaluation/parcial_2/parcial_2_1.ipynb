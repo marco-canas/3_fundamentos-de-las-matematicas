{
 "cells": [
  {
   "cell_type": "markdown",
   "id": "c961df4b",
   "metadata": {
    "slideshow": {
     "slide_type": "slide"
    }
   },
   "source": [
    "<table align=\"left\">\n",
    "  <td>\n",
    "<a href=\"https://colab.research.google.com/github/marco-canas/fundamentos-de-las-matematicas/blob/main/clases/3_funciones/peces.ipynb\" target=\"_parent\"><img src=\"https://colab.research.google.com/assets/colab-badge.svg\" alt=\"Open In Colab\"/></a>\n",
    " </td>\n",
    "</table>"
   ]
  },
  {
   "cell_type": "markdown",
   "id": "0e5e9436",
   "metadata": {
    "slideshow": {
     "slide_type": "slide"
    }
   },
   "source": [
    "# Parcial 2 Tema 1"
   ]
  },
  {
   "cell_type": "markdown",
   "id": "65b362a2",
   "metadata": {
    "slideshow": {
     "slide_type": "slide"
    }
   },
   "source": [
    "### Fecha de aplicación:  Octubre 20"
   ]
  },
  {
   "cell_type": "markdown",
   "id": "61558557",
   "metadata": {
    "slideshow": {
     "slide_type": "slide"
    }
   },
   "source": [
    "## Temas a evaluar:  \n",
    "\n",
    "* Modelación utilizando funciones y el concepto de límite"
   ]
  },
  {
   "cell_type": "markdown",
   "id": "b10891cf",
   "metadata": {
    "slideshow": {
     "slide_type": "slide"
    }
   },
   "source": [
    "## Ejemplo de parcial 2"
   ]
  },
  {
   "cell_type": "markdown",
   "id": "3ff16207",
   "metadata": {
    "slideshow": {
     "slide_type": "slide"
    }
   },
   "source": [
    "## Modelado con funciones"
   ]
  },
  {
   "cell_type": "markdown",
   "id": "da2f5d1a",
   "metadata": {
    "slideshow": {
     "slide_type": "slide"
    }
   },
   "source": [
    "Empezamos con una situación práctica que ilustra el proceso de modelado."
   ]
  },
  {
   "cell_type": "markdown",
   "id": "1b0f454e",
   "metadata": {
    "slideshow": {
     "slide_type": "slide"
    }
   },
   "source": [
    "### E J E M P LO 1 Modelar el volumen de una caja"
   ]
  },
  {
   "cell_type": "markdown",
   "id": "cabd44ee",
   "metadata": {
    "slideshow": {
     "slide_type": "slide"
    }
   },
   "source": [
    "Una compañía productora de cereales para desayuno fabrica cajas para envasar sus productos.\n",
    "Por razones estéticas, la caja debe tener las siguientes proporciones:   \n",
    "\n",
    "su ancho es el triple de su profundidad, y su altura es 5 veces su profundidad.  \n",
    "\n",
    "(a) Encuentre una función que modele el volumen de la caja en términos de su profundidad.  \n",
    "(b) Encuentre el volumen de la caja si su profundidad es 1.5 pulg.  \n",
    "(c) ¿Para qué profundidad tendrá un volumen de 90 pulg3?  \n",
    "(d) ¿Para qué profundidad tendrá un volumen mayor a 60 pulg3?  "
   ]
  },
  {
   "cell_type": "markdown",
   "id": "984ffb24",
   "metadata": {
    "slideshow": {
     "slide_type": "slide"
    }
   },
   "source": [
    "## Instalar una cerca en un jardín"
   ]
  },
  {
   "cell_type": "markdown",
   "id": "9ba1d550",
   "metadata": {
    "slideshow": {
     "slide_type": "slide"
    }
   },
   "source": [
    "Una jardinera tiene 140 pies de malla para instalar una cerca en un jardín rectangular de\n",
    "hortalizas.\n",
    "(a) Encuentre una función que modele el área del jardín que ella pueda cercar.\n",
    "(b) ¿Para qué rango de anchos el área es mayor a 825 pies2?\n",
    "(c) ¿Puede ella cercar un jardín con área de 1250 pies2?\n",
    "(d) Encuentre las dimensiones del área más grande que ella pueda cercar."
   ]
  },
  {
   "cell_type": "code",
   "execution_count": null,
   "id": "8fb48a8d",
   "metadata": {
    "slideshow": {
     "slide_type": "slide"
    }
   },
   "outputs": [],
   "source": []
  },
  {
   "cell_type": "code",
   "execution_count": null,
   "id": "17804a0c",
   "metadata": {
    "slideshow": {
     "slide_type": "slide"
    }
   },
   "outputs": [],
   "source": []
  },
  {
   "cell_type": "code",
   "execution_count": null,
   "id": "4d452f8d",
   "metadata": {},
   "outputs": [],
   "source": []
  },
  {
   "cell_type": "code",
   "execution_count": null,
   "id": "620a20bc",
   "metadata": {},
   "outputs": [],
   "source": []
  },
  {
   "cell_type": "code",
   "execution_count": null,
   "id": "d9d606d9",
   "metadata": {},
   "outputs": [],
   "source": []
  },
  {
   "cell_type": "code",
   "execution_count": null,
   "id": "5810b076",
   "metadata": {},
   "outputs": [],
   "source": []
  }
 ],
 "metadata": {
  "celltoolbar": "Slideshow",
  "kernelspec": {
   "display_name": "Python 3 (ipykernel)",
   "language": "python",
   "name": "python3"
  },
  "language_info": {
   "codemirror_mode": {
    "name": "ipython",
    "version": 3
   },
   "file_extension": ".py",
   "mimetype": "text/x-python",
   "name": "python",
   "nbconvert_exporter": "python",
   "pygments_lexer": "ipython3",
   "version": "3.9.12"
  }
 },
 "nbformat": 4,
 "nbformat_minor": 5
}
