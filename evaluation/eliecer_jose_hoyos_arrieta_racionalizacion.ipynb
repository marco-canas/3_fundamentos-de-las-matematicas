{
  "nbformat": 4,
  "nbformat_minor": 0,
  "metadata": {
    "colab": {
      "provenance": []
    },
    "kernelspec": {
      "name": "python3",
      "display_name": "Python 3"
    },
    "language_info": {
      "name": "python"
    }
  },
  "cells": [
    {
      "cell_type": "markdown",
      "source": [
        "racionalice el denominador de la siguiente fraccion, describiendo el proceso y justificando a partir de las propiedades de campo de los numeros reales.\n",
        "\n",
        "\n",
        "$$ \\frac{1}{\\sqrt{2}}$$"
      ],
      "metadata": {
        "id": "3YNrz3Qu9_Hv"
      }
    },
    {
      "cell_type": "markdown",
      "source": [
        "#el sentido o proposito del proceso de racionalización\n",
        "\n",
        "\n",
        "uno de los propositos de la racionalizacion de fracciones es poder estimar el cociente que ellas representan. Dado que es muy dificil cuando el divisor tiene raices. Es mejor dividir por divisores sin radicales."
      ],
      "metadata": {
        "id": "wYn-Wdyq_WG6"
      }
    },
    {
      "cell_type": "markdown",
      "source": [
        "#solución\n",
        "\n",
        "\n",
        "\n",
        "#$$ \\frac{1}{\\sqrt{2}}\\cdot \\frac{\\sqrt{2}}{\\sqrt{2}}= \\frac{\\sqrt{2}}{2}= \\frac{1}{2} \\sqrt{2} ≈ 0.7 $$\n",
        "\n",
        "\n",
        "\n",
        "\n"
      ],
      "metadata": {
        "id": "u4zKkf9JAnrX"
      }
    },
    {
      "cell_type": "code",
      "source": [
        "from sympy import sqrt, simplify, count_ops, oo\n",
        "root = 1/sqrt(2)\n",
        "root"
      ],
      "metadata": {
        "colab": {
          "base_uri": "https://localhost:8080/",
          "height": 55
        },
        "id": "yDv4vwj2-rfS",
        "outputId": "959458b0-b979-4200-831f-6097d4dbfb80"
      },
      "execution_count": null,
      "outputs": [
        {
          "output_type": "execute_result",
          "data": {
            "text/plain": [
              "sqrt(2)/2"
            ],
            "text/latex": "$\\displaystyle \\frac{\\sqrt{2}}{2}$"
          },
          "metadata": {},
          "execution_count": 1
        }
      ]
    },
    {
      "cell_type": "markdown",
      "source": [],
      "metadata": {
        "id": "VqmzVzVtChWn"
      }
    }
  ]
}