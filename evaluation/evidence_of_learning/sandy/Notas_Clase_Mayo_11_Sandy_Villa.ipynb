{
  "nbformat": 4,
  "nbformat_minor": 0,
  "metadata": {
    "colab": {
      "provenance": []
    },
    "kernelspec": {
      "name": "python3",
      "display_name": "Python 3"
    },
    "language_info": {
      "name": "python"
    }
  },
  "cells": [
    {
      "cell_type": "markdown",
      "source": [
        "${a-b}\\neq{b-a}$"
      ],
      "metadata": {
        "id": "vWTNgJUqUWkD"
      }
    },
    {
      "cell_type": "code",
      "source": [
        "#Ejemplo\n",
        "a=5\n",
        "b=3\n",
        "\n",
        "a-b==b-a"
      ],
      "metadata": {
        "colab": {
          "base_uri": "https://localhost:8080/"
        },
        "id": "o8NbYoZKUk0B",
        "outputId": "8e9deda4-ebc4-4df5-915a-6fd371fa50ee"
      },
      "execution_count": null,
      "outputs": [
        {
          "output_type": "execute_result",
          "data": {
            "text/plain": [
              "False"
            ]
          },
          "metadata": {},
          "execution_count": 1
        }
      ]
    },
    {
      "cell_type": "markdown",
      "source": [
        "$a-b=-(b-a)$\n"
      ],
      "metadata": {
        "id": "s2ERPVbKU2pD"
      }
    },
    {
      "cell_type": "code",
      "source": [
        "#Ejemplo\n",
        "a=5\n",
        "b=3\n",
        "\n",
        "a-b==-(b-a)"
      ],
      "metadata": {
        "colab": {
          "base_uri": "https://localhost:8080/"
        },
        "id": "ifdYD90VU7oq",
        "outputId": "067352ab-4900-4ac4-8dda-c4f41282385b"
      },
      "execution_count": null,
      "outputs": [
        {
          "output_type": "execute_result",
          "data": {
            "text/plain": [
              "True"
            ]
          },
          "metadata": {},
          "execution_count": 2
        }
      ]
    },
    {
      "cell_type": "markdown",
      "source": [
        "## **Solución del parcial**"
      ],
      "metadata": {
        "id": "zBkFhDThfZyg"
      }
    },
    {
      "cell_type": "markdown",
      "source": [
        "1.   Factorice\n",
        "\n",
        "\n",
        "$$x^{4}+4x^{2}+16$$\n"
      ],
      "metadata": {
        "id": "F6Kr27W7enKS"
      }
    },
    {
      "cell_type": "code",
      "source": [
        "from sympy import *\n",
        "x = symbols('x')\n",
        "factor(x**4+4*x**2+16)"
      ],
      "metadata": {
        "colab": {
          "base_uri": "https://localhost:8080/",
          "height": 38
        },
        "id": "qFIyVL4AeviL",
        "outputId": "a775d2b1-975c-4fca-90f2-fe23de464ac1"
      },
      "execution_count": null,
      "outputs": [
        {
          "output_type": "execute_result",
          "data": {
            "text/plain": [
              "(x**2 - 2*x + 4)*(x**2 + 2*x + 4)"
            ],
            "text/latex": "$\\displaystyle \\left(x^{2} - 2 x + 4\\right) \\left(x^{2} + 2 x + 4\\right)$"
          },
          "metadata": {},
          "execution_count": 6
        }
      ]
    }
  ]
}