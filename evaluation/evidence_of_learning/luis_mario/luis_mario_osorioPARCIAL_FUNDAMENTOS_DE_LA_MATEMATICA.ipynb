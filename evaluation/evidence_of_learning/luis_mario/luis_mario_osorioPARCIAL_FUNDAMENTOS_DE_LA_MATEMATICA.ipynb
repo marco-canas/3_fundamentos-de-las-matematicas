{
  "nbformat": 4,
  "nbformat_minor": 0,
  "metadata": {
    "colab": {
      "provenance": []
    },
    "kernelspec": {
      "name": "python3",
      "display_name": "Python 3"
    },
    "language_info": {
      "name": "python"
    }
  },
  "cells": [
    {
      "cell_type": "markdown",
      "source": [
        "## PARCIAL  FUNDAMENTOS DE LA MATEMATICA"
      ],
      "metadata": {
        "id": "L2jWMQ-voNh6"
      }
    },
    {
      "cell_type": "markdown",
      "source": [
        "## ESTUDIANTE LUIS MARIO OSORIO ACEVEDO \n",
        "LIC. MATEMATICAS "
      ],
      "metadata": {
        "id": "bEKLhs9-Dfsd"
      }
    },
    {
      "cell_type": "markdown",
      "source": [
        "# 1. Para factorizar el trinomio $x^2+7x+10$, buscamos dos enteros.\n",
        "cuyo producto sea $10$ y cuya suma sea $7$.\n",
        "Estos enteros son $5$ y $2$, de modo que el trinomio se\n",
        "factoriza como?.\n",
        "para responder esta ultima pregunta le pediremos a sympy que nos ayude."
      ],
      "metadata": {
        "id": "F8DEtCiOdZ43"
      }
    },
    {
      "cell_type": "code",
      "execution_count": null,
      "metadata": {
        "id": "ffR7xduocvMv"
      },
      "outputs": [],
      "source": [
        "import sympy as sp\n",
        "from sympy import factor"
      ]
    },
    {
      "cell_type": "markdown",
      "source": [
        "el siguiente paso a realizar es definir las variables del trinomio \n",
        "\n",
        "$$b= 7$$   $$c= 10$$"
      ],
      "metadata": {
        "id": "HMztvMZOeZSc"
      }
    },
    {
      "cell_type": "code",
      "source": [
        "b = 7 \n",
        "c = 10"
      ],
      "metadata": {
        "id": "DB2R0NRIeN-F"
      },
      "execution_count": null,
      "outputs": []
    },
    {
      "cell_type": "code",
      "source": [
        "x = sp.symbols('x')\n",
        "sp.factor(x**2 + b*x + c)\n"
      ],
      "metadata": {
        "colab": {
          "base_uri": "https://localhost:8080/",
          "height": 38
        },
        "id": "723dFUT8e3qf",
        "outputId": "575ae1d8-517b-45d1-9430-57aad724c913"
      },
      "execution_count": null,
      "outputs": [
        {
          "output_type": "execute_result",
          "data": {
            "text/plain": [
              "(x + 2)*(x + 5)"
            ],
            "text/latex": "$\\displaystyle \\left(x + 2\\right) \\left(x + 5\\right)$"
          },
          "metadata": {},
          "execution_count": 6
        }
      ]
    },
    {
      "cell_type": "markdown",
      "source": [
        "en conclusion y como respuesta podemos decir que el trinomio $x^2+7x+10$ se factoriza de la siguiente manera $(x+2)(x+5)$."
      ],
      "metadata": {
        "id": "1W7sQRDsgZrg"
      }
    },
    {
      "cell_type": "markdown",
      "source": [
        "## 2. La fórmula de productos notables para la “suma de un cuadrado”\n",
        "es $(A + B)^2$ = $a^2+2ab+b^2$.\n",
        "Por tanto, $(2x + 3)^2$ .   para evaluar este producto notable utilizaremos las funciones de google colab.\n",
        "\n",
        "primero debemos definir las variables $a = 2$ y $b = 3$\n",
        "\n",
        "luego dar el valor de $x$  en este caso x es simplemente una variable o un simbolo que puede representar cualquier cosa. ya sea (numero o cosa)."
      ],
      "metadata": {
        "id": "XRnD9Yciicy0"
      }
    },
    {
      "cell_type": "code",
      "source": [
        "a = 2\n",
        "b = 3\n",
        "\n",
        "x= sp.symbols('x')\n",
        "\n"
      ],
      "metadata": {
        "id": "8UHW_otge2YV"
      },
      "execution_count": null,
      "outputs": []
    },
    {
      "cell_type": "markdown",
      "source": [
        "ahora le pediremos a google colab que nos resuelva este producto notable que es una multiplicacion de un binomio por si mismo.\n",
        "\n",
        "$$x*x + x*ab +x*ba + b*b$$  "
      ],
      "metadata": {
        "id": "KEUhEZpZlIDF"
      }
    },
    {
      "cell_type": "code",
      "source": [
        "resultado = sp.expand((a*x+b)**2)"
      ],
      "metadata": {
        "id": "ANxE2w9De2fI"
      },
      "execution_count": null,
      "outputs": []
    },
    {
      "cell_type": "code",
      "source": [
        "print(resultado)"
      ],
      "metadata": {
        "colab": {
          "base_uri": "https://localhost:8080/"
        },
        "id": "wyVrOf9Vl3nT",
        "outputId": "6c99fffd-074b-48d6-fab7-5d6b95ffd20c"
      },
      "execution_count": null,
      "outputs": [
        {
          "output_type": "stream",
          "name": "stdout",
          "text": [
            "4*x**2 + 12*x + 9\n"
          ]
        }
      ]
    },
    {
      "cell_type": "markdown",
      "source": [
        "podemos ver que sympy nos resolvio el producto notable de forma matematica pero tambien lo podemos representar de la siguiente forma.\n",
        "\n",
        "$$4x^2+12x+9$$"
      ],
      "metadata": {
        "id": "P4WaZB0GnF5T"
      }
    },
    {
      "cell_type": "markdown",
      "source": [
        "## 3. segun el polinomio que se muestre debe decir el tipo, el grado y los terminos que tenga este polinomio.\n",
        " \n",
        " "
      ],
      "metadata": {
        "id": "7EGBVWpkteKT"
      }
    },
    {
      "cell_type": "code",
      "source": [
        "import matplotlib.pyplot as plt\n",
        "import pandas as pd\n"
      ],
      "metadata": {
        "id": "RpTX61LkmDGA"
      },
      "execution_count": null,
      "outputs": []
    },
    {
      "cell_type": "code",
      "source": [
        "data = {'polinomio': ['x**2-3x+7','sqrt(2x)-sqrt(3)', '2*x**5+4*x**2'], 'tipo': ['','',''], 'grado': ['','',''], 'terminos': ['','','']}\n",
        "\n",
        "df = pd.DataFrame(data)"
      ],
      "metadata": {
        "id": "BRCyZ1WSnCgY"
      },
      "execution_count": null,
      "outputs": []
    },
    {
      "cell_type": "code",
      "source": [
        "df"
      ],
      "metadata": {
        "colab": {
          "base_uri": "https://localhost:8080/",
          "height": 143
        },
        "id": "qGWFmXRunC_L",
        "outputId": "f3495f94-9eac-441c-e2a5-ed59c25c436c"
      },
      "execution_count": null,
      "outputs": [
        {
          "output_type": "execute_result",
          "data": {
            "text/plain": [
              "          polinomio tipo grado terminos\n",
              "0         x**2-3x+7                    \n",
              "1  sqrt(2x)-sqrt(3)                    \n",
              "2     2*x**5+4*x**2                    "
            ],
            "text/html": [
              "\n",
              "  <div id=\"df-480ea449-9984-4880-8086-0f88537ce9f5\">\n",
              "    <div class=\"colab-df-container\">\n",
              "      <div>\n",
              "<style scoped>\n",
              "    .dataframe tbody tr th:only-of-type {\n",
              "        vertical-align: middle;\n",
              "    }\n",
              "\n",
              "    .dataframe tbody tr th {\n",
              "        vertical-align: top;\n",
              "    }\n",
              "\n",
              "    .dataframe thead th {\n",
              "        text-align: right;\n",
              "    }\n",
              "</style>\n",
              "<table border=\"1\" class=\"dataframe\">\n",
              "  <thead>\n",
              "    <tr style=\"text-align: right;\">\n",
              "      <th></th>\n",
              "      <th>polinomio</th>\n",
              "      <th>tipo</th>\n",
              "      <th>grado</th>\n",
              "      <th>terminos</th>\n",
              "    </tr>\n",
              "  </thead>\n",
              "  <tbody>\n",
              "    <tr>\n",
              "      <th>0</th>\n",
              "      <td>x**2-3x+7</td>\n",
              "      <td></td>\n",
              "      <td></td>\n",
              "      <td></td>\n",
              "    </tr>\n",
              "    <tr>\n",
              "      <th>1</th>\n",
              "      <td>sqrt(2x)-sqrt(3)</td>\n",
              "      <td></td>\n",
              "      <td></td>\n",
              "      <td></td>\n",
              "    </tr>\n",
              "    <tr>\n",
              "      <th>2</th>\n",
              "      <td>2*x**5+4*x**2</td>\n",
              "      <td></td>\n",
              "      <td></td>\n",
              "      <td></td>\n",
              "    </tr>\n",
              "  </tbody>\n",
              "</table>\n",
              "</div>\n",
              "      <button class=\"colab-df-convert\" onclick=\"convertToInteractive('df-480ea449-9984-4880-8086-0f88537ce9f5')\"\n",
              "              title=\"Convert this dataframe to an interactive table.\"\n",
              "              style=\"display:none;\">\n",
              "        \n",
              "  <svg xmlns=\"http://www.w3.org/2000/svg\" height=\"24px\"viewBox=\"0 0 24 24\"\n",
              "       width=\"24px\">\n",
              "    <path d=\"M0 0h24v24H0V0z\" fill=\"none\"/>\n",
              "    <path d=\"M18.56 5.44l.94 2.06.94-2.06 2.06-.94-2.06-.94-.94-2.06-.94 2.06-2.06.94zm-11 1L8.5 8.5l.94-2.06 2.06-.94-2.06-.94L8.5 2.5l-.94 2.06-2.06.94zm10 10l.94 2.06.94-2.06 2.06-.94-2.06-.94-.94-2.06-.94 2.06-2.06.94z\"/><path d=\"M17.41 7.96l-1.37-1.37c-.4-.4-.92-.59-1.43-.59-.52 0-1.04.2-1.43.59L10.3 9.45l-7.72 7.72c-.78.78-.78 2.05 0 2.83L4 21.41c.39.39.9.59 1.41.59.51 0 1.02-.2 1.41-.59l7.78-7.78 2.81-2.81c.8-.78.8-2.07 0-2.86zM5.41 20L4 18.59l7.72-7.72 1.47 1.35L5.41 20z\"/>\n",
              "  </svg>\n",
              "      </button>\n",
              "      \n",
              "  <style>\n",
              "    .colab-df-container {\n",
              "      display:flex;\n",
              "      flex-wrap:wrap;\n",
              "      gap: 12px;\n",
              "    }\n",
              "\n",
              "    .colab-df-convert {\n",
              "      background-color: #E8F0FE;\n",
              "      border: none;\n",
              "      border-radius: 50%;\n",
              "      cursor: pointer;\n",
              "      display: none;\n",
              "      fill: #1967D2;\n",
              "      height: 32px;\n",
              "      padding: 0 0 0 0;\n",
              "      width: 32px;\n",
              "    }\n",
              "\n",
              "    .colab-df-convert:hover {\n",
              "      background-color: #E2EBFA;\n",
              "      box-shadow: 0px 1px 2px rgba(60, 64, 67, 0.3), 0px 1px 3px 1px rgba(60, 64, 67, 0.15);\n",
              "      fill: #174EA6;\n",
              "    }\n",
              "\n",
              "    [theme=dark] .colab-df-convert {\n",
              "      background-color: #3B4455;\n",
              "      fill: #D2E3FC;\n",
              "    }\n",
              "\n",
              "    [theme=dark] .colab-df-convert:hover {\n",
              "      background-color: #434B5C;\n",
              "      box-shadow: 0px 1px 3px 1px rgba(0, 0, 0, 0.15);\n",
              "      filter: drop-shadow(0px 1px 2px rgba(0, 0, 0, 0.3));\n",
              "      fill: #FFFFFF;\n",
              "    }\n",
              "  </style>\n",
              "\n",
              "      <script>\n",
              "        const buttonEl =\n",
              "          document.querySelector('#df-480ea449-9984-4880-8086-0f88537ce9f5 button.colab-df-convert');\n",
              "        buttonEl.style.display =\n",
              "          google.colab.kernel.accessAllowed ? 'block' : 'none';\n",
              "\n",
              "        async function convertToInteractive(key) {\n",
              "          const element = document.querySelector('#df-480ea449-9984-4880-8086-0f88537ce9f5');\n",
              "          const dataTable =\n",
              "            await google.colab.kernel.invokeFunction('convertToInteractive',\n",
              "                                                     [key], {});\n",
              "          if (!dataTable) return;\n",
              "\n",
              "          const docLinkHtml = 'Like what you see? Visit the ' +\n",
              "            '<a target=\"_blank\" href=https://colab.research.google.com/notebooks/data_table.ipynb>data table notebook</a>'\n",
              "            + ' to learn more about interactive tables.';\n",
              "          element.innerHTML = '';\n",
              "          dataTable['output_type'] = 'display_data';\n",
              "          await google.colab.output.renderOutput(dataTable, element);\n",
              "          const docLink = document.createElement('div');\n",
              "          docLink.innerHTML = docLinkHtml;\n",
              "          element.appendChild(docLink);\n",
              "        }\n",
              "      </script>\n",
              "    </div>\n",
              "  </div>\n",
              "  "
            ]
          },
          "metadata": {},
          "execution_count": 29
        }
      ]
    },
    {
      "cell_type": "markdown",
      "source": [
        "Para completar este cuadro con la informacion que nos pide, debemos llenar el codigo con los datos de cada polinomio. o sea el tipo, el grado, y los terminos que este tenga. "
      ],
      "metadata": {
        "id": "j9bvtsp82wRS"
      }
    },
    {
      "cell_type": "code",
      "source": [
        "data = {'polinomio': ['x**2-3x+7','sqrt(2x)-sqrt(3)', '2*x**5+4*x**2'], 'tipo': ['trinomio','binomio','binomio'], 'grado': ['2','1','5'], 'terminos': ['3','2','2']}\n",
        "\n",
        "df = pd.DataFrame(data)"
      ],
      "metadata": {
        "id": "BY28-Zgq2kwR"
      },
      "execution_count": null,
      "outputs": []
    },
    {
      "cell_type": "code",
      "source": [
        "df"
      ],
      "metadata": {
        "colab": {
          "base_uri": "https://localhost:8080/",
          "height": 143
        },
        "id": "1Xtmzl0D3ZqI",
        "outputId": "15e34e92-e87f-4bba-c62e-81091d0d6ca5"
      },
      "execution_count": null,
      "outputs": [
        {
          "output_type": "execute_result",
          "data": {
            "text/plain": [
              "          polinomio      tipo grado terminos\n",
              "0         x**2-3x+7  trinomio     2        3\n",
              "1  sqrt(2x)-sqrt(3)   binomio     1        2\n",
              "2     2*x**5+4*x**2   binomio     5        2"
            ],
            "text/html": [
              "\n",
              "  <div id=\"df-2ab286df-8792-4097-a7de-63f4449828d3\">\n",
              "    <div class=\"colab-df-container\">\n",
              "      <div>\n",
              "<style scoped>\n",
              "    .dataframe tbody tr th:only-of-type {\n",
              "        vertical-align: middle;\n",
              "    }\n",
              "\n",
              "    .dataframe tbody tr th {\n",
              "        vertical-align: top;\n",
              "    }\n",
              "\n",
              "    .dataframe thead th {\n",
              "        text-align: right;\n",
              "    }\n",
              "</style>\n",
              "<table border=\"1\" class=\"dataframe\">\n",
              "  <thead>\n",
              "    <tr style=\"text-align: right;\">\n",
              "      <th></th>\n",
              "      <th>polinomio</th>\n",
              "      <th>tipo</th>\n",
              "      <th>grado</th>\n",
              "      <th>terminos</th>\n",
              "    </tr>\n",
              "  </thead>\n",
              "  <tbody>\n",
              "    <tr>\n",
              "      <th>0</th>\n",
              "      <td>x**2-3x+7</td>\n",
              "      <td>trinomio</td>\n",
              "      <td>2</td>\n",
              "      <td>3</td>\n",
              "    </tr>\n",
              "    <tr>\n",
              "      <th>1</th>\n",
              "      <td>sqrt(2x)-sqrt(3)</td>\n",
              "      <td>binomio</td>\n",
              "      <td>1</td>\n",
              "      <td>2</td>\n",
              "    </tr>\n",
              "    <tr>\n",
              "      <th>2</th>\n",
              "      <td>2*x**5+4*x**2</td>\n",
              "      <td>binomio</td>\n",
              "      <td>5</td>\n",
              "      <td>2</td>\n",
              "    </tr>\n",
              "  </tbody>\n",
              "</table>\n",
              "</div>\n",
              "      <button class=\"colab-df-convert\" onclick=\"convertToInteractive('df-2ab286df-8792-4097-a7de-63f4449828d3')\"\n",
              "              title=\"Convert this dataframe to an interactive table.\"\n",
              "              style=\"display:none;\">\n",
              "        \n",
              "  <svg xmlns=\"http://www.w3.org/2000/svg\" height=\"24px\"viewBox=\"0 0 24 24\"\n",
              "       width=\"24px\">\n",
              "    <path d=\"M0 0h24v24H0V0z\" fill=\"none\"/>\n",
              "    <path d=\"M18.56 5.44l.94 2.06.94-2.06 2.06-.94-2.06-.94-.94-2.06-.94 2.06-2.06.94zm-11 1L8.5 8.5l.94-2.06 2.06-.94-2.06-.94L8.5 2.5l-.94 2.06-2.06.94zm10 10l.94 2.06.94-2.06 2.06-.94-2.06-.94-.94-2.06-.94 2.06-2.06.94z\"/><path d=\"M17.41 7.96l-1.37-1.37c-.4-.4-.92-.59-1.43-.59-.52 0-1.04.2-1.43.59L10.3 9.45l-7.72 7.72c-.78.78-.78 2.05 0 2.83L4 21.41c.39.39.9.59 1.41.59.51 0 1.02-.2 1.41-.59l7.78-7.78 2.81-2.81c.8-.78.8-2.07 0-2.86zM5.41 20L4 18.59l7.72-7.72 1.47 1.35L5.41 20z\"/>\n",
              "  </svg>\n",
              "      </button>\n",
              "      \n",
              "  <style>\n",
              "    .colab-df-container {\n",
              "      display:flex;\n",
              "      flex-wrap:wrap;\n",
              "      gap: 12px;\n",
              "    }\n",
              "\n",
              "    .colab-df-convert {\n",
              "      background-color: #E8F0FE;\n",
              "      border: none;\n",
              "      border-radius: 50%;\n",
              "      cursor: pointer;\n",
              "      display: none;\n",
              "      fill: #1967D2;\n",
              "      height: 32px;\n",
              "      padding: 0 0 0 0;\n",
              "      width: 32px;\n",
              "    }\n",
              "\n",
              "    .colab-df-convert:hover {\n",
              "      background-color: #E2EBFA;\n",
              "      box-shadow: 0px 1px 2px rgba(60, 64, 67, 0.3), 0px 1px 3px 1px rgba(60, 64, 67, 0.15);\n",
              "      fill: #174EA6;\n",
              "    }\n",
              "\n",
              "    [theme=dark] .colab-df-convert {\n",
              "      background-color: #3B4455;\n",
              "      fill: #D2E3FC;\n",
              "    }\n",
              "\n",
              "    [theme=dark] .colab-df-convert:hover {\n",
              "      background-color: #434B5C;\n",
              "      box-shadow: 0px 1px 3px 1px rgba(0, 0, 0, 0.15);\n",
              "      filter: drop-shadow(0px 1px 2px rgba(0, 0, 0, 0.3));\n",
              "      fill: #FFFFFF;\n",
              "    }\n",
              "  </style>\n",
              "\n",
              "      <script>\n",
              "        const buttonEl =\n",
              "          document.querySelector('#df-2ab286df-8792-4097-a7de-63f4449828d3 button.colab-df-convert');\n",
              "        buttonEl.style.display =\n",
              "          google.colab.kernel.accessAllowed ? 'block' : 'none';\n",
              "\n",
              "        async function convertToInteractive(key) {\n",
              "          const element = document.querySelector('#df-2ab286df-8792-4097-a7de-63f4449828d3');\n",
              "          const dataTable =\n",
              "            await google.colab.kernel.invokeFunction('convertToInteractive',\n",
              "                                                     [key], {});\n",
              "          if (!dataTable) return;\n",
              "\n",
              "          const docLinkHtml = 'Like what you see? Visit the ' +\n",
              "            '<a target=\"_blank\" href=https://colab.research.google.com/notebooks/data_table.ipynb>data table notebook</a>'\n",
              "            + ' to learn more about interactive tables.';\n",
              "          element.innerHTML = '';\n",
              "          dataTable['output_type'] = 'display_data';\n",
              "          await google.colab.output.renderOutput(dataTable, element);\n",
              "          const docLink = document.createElement('div');\n",
              "          docLink.innerHTML = docLinkHtml;\n",
              "          element.appendChild(docLink);\n",
              "        }\n",
              "      </script>\n",
              "    </div>\n",
              "  </div>\n",
              "  "
            ]
          },
          "metadata": {},
          "execution_count": 31
        }
      ]
    },
    {
      "cell_type": "markdown",
      "source": [
        "## EL CUADRO SE COMPLETA DE LA FORMA QUE TENEMOS ARRIBA."
      ],
      "metadata": {
        "id": "kXLZ-d3C3gI6"
      }
    },
    {
      "cell_type": "markdown",
      "source": [
        "## 4. 136. Factorización de $A^n − 1$ Verifique estas fórmulas al expandir y simplificar el lado derecho.\n",
        "\n",
        "$A^2-1 =(A - 1)(A + 1)$  \n",
        "$A^3-1 =(A - 1)(A^2+A+1)$  \n",
        "$A^4-1 =(A - 1)(A^3+A^2+A+1)$\n",
        "\n",
        "Con base en el patrón mostrado en esta lista, ¿cómo piensa usted\n",
        "que sería posible factorizar $A^5-1$? Verifique su conjetura.\n",
        "Ahora generalice el patrón que haya observado para obtener\n",
        "una fórmula de factorización para $A^n-1$, donde n es un entero\n",
        "positivo."
      ],
      "metadata": {
        "id": "sngv9a0H3a-m"
      }
    },
    {
      "cell_type": "code",
      "source": [
        "a= sp.symbols('a')\n",
        "b = 1\n",
        "\n",
        "\n",
        "n= sp.symbols('n')"
      ],
      "metadata": {
        "id": "oAd0dAhs4EWX"
      },
      "execution_count": null,
      "outputs": []
    },
    {
      "cell_type": "markdown",
      "source": [
        "verificamos con ayuda de sympy que las formulas que nos dieron eran correctas \n",
        "1. formula "
      ],
      "metadata": {
        "id": "zvJi7IGU-vul"
      }
    },
    {
      "cell_type": "code",
      "source": [
        "sp.factor(a**2 - b)"
      ],
      "metadata": {
        "colab": {
          "base_uri": "https://localhost:8080/",
          "height": 38
        },
        "id": "b7PJ28nl4Ev_",
        "outputId": "07240e5c-bc6e-4696-fafb-1d9e3b00c55a"
      },
      "execution_count": null,
      "outputs": [
        {
          "output_type": "execute_result",
          "data": {
            "text/plain": [
              "(a - 1)*(a + 1)"
            ],
            "text/latex": "$\\displaystyle \\left(a - 1\\right) \\left(a + 1\\right)$"
          },
          "metadata": {},
          "execution_count": 34
        }
      ]
    },
    {
      "cell_type": "markdown",
      "source": [
        "2. segunda formula "
      ],
      "metadata": {
        "id": "g_Fo1RDn_BWu"
      }
    },
    {
      "cell_type": "code",
      "source": [
        "sp.factor(a**3 - b)"
      ],
      "metadata": {
        "colab": {
          "base_uri": "https://localhost:8080/",
          "height": 38
        },
        "id": "0qnZMpOm4E3E",
        "outputId": "78fcca7b-f003-446c-d974-b47cbf6f1eb3"
      },
      "execution_count": null,
      "outputs": [
        {
          "output_type": "execute_result",
          "data": {
            "text/plain": [
              "(a - 1)*(a**2 + a + 1)"
            ],
            "text/latex": "$\\displaystyle \\left(a - 1\\right) \\left(a^{2} + a + 1\\right)$"
          },
          "metadata": {},
          "execution_count": 35
        }
      ]
    },
    {
      "cell_type": "markdown",
      "source": [
        "3. tercera formula"
      ],
      "metadata": {
        "id": "PlD6sNhQ_E7S"
      }
    },
    {
      "cell_type": "code",
      "source": [
        "sp.factor(a**4 - b)"
      ],
      "metadata": {
        "colab": {
          "base_uri": "https://localhost:8080/",
          "height": 38
        },
        "id": "MP2NsAGK9_FV",
        "outputId": "b25d47c1-1ce5-4a0f-dc5e-050bc102606e"
      },
      "execution_count": null,
      "outputs": [
        {
          "output_type": "execute_result",
          "data": {
            "text/plain": [
              "(a - 1)*(a + 1)*(a**2 + 1)"
            ],
            "text/latex": "$\\displaystyle \\left(a - 1\\right) \\left(a + 1\\right) \\left(a^{2} + 1\\right)$"
          },
          "metadata": {},
          "execution_count": 36
        }
      ]
    },
    {
      "cell_type": "code",
      "source": [
        "resultado = (a+b)*(a**2+b)\n",
        "\n",
        "sp.expand(resultado)"
      ],
      "metadata": {
        "colab": {
          "base_uri": "https://localhost:8080/",
          "height": 38
        },
        "id": "PKLwOHaV-Dgb",
        "outputId": "5e259f46-86e1-4aa9-a70f-fb72c7203ae6"
      },
      "execution_count": null,
      "outputs": [
        {
          "output_type": "execute_result",
          "data": {
            "text/plain": [
              "a**3 + a**2 + a + 1"
            ],
            "text/latex": "$\\displaystyle a^{3} + a^{2} + a + 1$"
          },
          "metadata": {},
          "execution_count": 37
        }
      ]
    },
    {
      "cell_type": "code",
      "source": [
        "(a-b)*(a**3+a**2+a+b)"
      ],
      "metadata": {
        "colab": {
          "base_uri": "https://localhost:8080/",
          "height": 38
        },
        "id": "NjMfOvv0-mxv",
        "outputId": "0e3acbc1-7f66-4460-9ddd-2bf391efc68c"
      },
      "execution_count": null,
      "outputs": [
        {
          "output_type": "execute_result",
          "data": {
            "text/plain": [
              "(a - 1)*(a**3 + a**2 + a + 1)"
            ],
            "text/latex": "$\\displaystyle \\left(a - 1\\right) \\left(a^{3} + a^{2} + a + 1\\right)$"
          },
          "metadata": {},
          "execution_count": 38
        }
      ]
    },
    {
      "cell_type": "markdown",
      "source": [
        "4. suponemos que segun con las formulas que ya nos dieron va a suceder los mismo para $A^5-1$, entonces \n",
        "\n",
        "$$A^5-1= (A-1)(A^4+A^3+A^2+A+1)$$\n",
        "\n",
        "y le pedimos a sympy que nos ayude a probar si esto es verdad."
      ],
      "metadata": {
        "id": "TNGrW-Na_zjT"
      }
    },
    {
      "cell_type": "code",
      "source": [
        "sp.factor(a**5 - b)"
      ],
      "metadata": {
        "colab": {
          "base_uri": "https://localhost:8080/",
          "height": 38
        },
        "id": "hbFpmizU_rZl",
        "outputId": "32a5612e-4e2d-4256-b1db-9ae58b859744"
      },
      "execution_count": null,
      "outputs": [
        {
          "output_type": "execute_result",
          "data": {
            "text/plain": [
              "(a - 1)*(a**4 + a**3 + a**2 + a + 1)"
            ],
            "text/latex": "$\\displaystyle \\left(a - 1\\right) \\left(a^{4} + a^{3} + a^{2} + a + 1\\right)$"
          },
          "metadata": {},
          "execution_count": 39
        }
      ]
    },
    {
      "cell_type": "markdown",
      "source": [
        "En conclusion podemos decir que esta condicion si se cumple para $A^5-1$, y ahora vamos a probar una formula para \n",
        "\n",
        "$$A^n-1$$.\n",
        "teniendo en cuenta las anteriores formulas podemos generalizarlo de la siguiente forma.\n",
        "\n",
        "$$A^n-1= (A-1)(A^{n-1}+A^{n-2}+A^{n-3}+...+A+1)$$"
      ],
      "metadata": {
        "id": "OV8Fd4ilAxza"
      }
    },
    {
      "cell_type": "code",
      "source": [],
      "metadata": {
        "id": "qBb7N0CmAmyR"
      },
      "execution_count": null,
      "outputs": []
    },
    {
      "cell_type": "code",
      "source": [],
      "metadata": {
        "id": "9bGrKp4PAnA7"
      },
      "execution_count": null,
      "outputs": []
    }
  ]
}