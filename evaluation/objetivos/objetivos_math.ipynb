{
 "cells": [
  {
   "cell_type": "markdown",
   "id": "cdd32fa8",
   "metadata": {
    "slideshow": {
     "slide_type": "slide"
    }
   },
   "source": [
    "<table align=\"left\">\n",
    "  <td>\n",
    "<a href=\"https://colab.research.google.com/github/marco-canas/3_fundamentos-de-las-matematicas/blob/main/evaluation/objetivos/objetivos_math.ipynb\" target=\"_parent\"><img src=\"https://colab.research.google.com/assets/colab-badge.svg\" alt=\"Open In Colab\"/></a>\n",
    " </td>\n",
    "</table>"
   ]
  },
  {
   "cell_type": "markdown",
   "id": "24617060",
   "metadata": {
    "slideshow": {
     "slide_type": "slide"
    }
   },
   "source": [
    "# Objetivos de formación del núcleo de pensamiento variacional"
   ]
  },
  {
   "cell_type": "markdown",
   "id": "f0f8c27c",
   "metadata": {
    "slideshow": {
     "slide_type": "slide"
    }
   },
   "source": [
    "# UNIVERSIDAD DE ANTIOQUIA\n",
    "## FACULTAD DE EDUCACIÓN\n",
    "### LICENCIATURA EN MATEMÁTICAS\n",
    "\n",
    "#### NÚCLEO DE PENSAMIENTO VARIACIONAL\n"
   ]
  },
  {
   "cell_type": "markdown",
   "id": "00dc957b",
   "metadata": {
    "slideshow": {
     "slide_type": "slide"
    }
   },
   "source": [
    "# Propuestas de objetivo general\n",
    "\n",
    "Favorecer el desarrollo de competencias de tipo analítico y sintético, operativo, interpretativo y gráfico, que deben alcanzar los maestros en formación, en los temas propios de las matemáticas y el cálculo.\n",
    "Brindar elementos conceptuales, procedimentales y aplicativos, encaminados al fortalecimiento de conocimientos teóricos y metodológicos en matemáticas o cálculo, para el desarrollo de ideas científicas, necesarias y suficientes, propias de la labor docente.\n",
    "\n"
   ]
  },
  {
   "cell_type": "markdown",
   "id": "61354d40",
   "metadata": {
    "slideshow": {
     "slide_type": "slide"
    }
   },
   "source": [
    "## Para tener presente"
   ]
  },
  {
   "cell_type": "markdown",
   "id": "08853420",
   "metadata": {
    "slideshow": {
     "slide_type": "slide"
    }
   },
   "source": [
    "Fundamentos de Matemáticas.\n",
    "El curso se desarrolla alrededor de la pregunta ¿Cuáles son los conceptos de la matemática básica que un futuro profesor debe estudiar durante su formación inicial para desarrollar las ideas científicas, necesarias y suficientes, propias de su labor docente? A través del tiempo del desarrollo del curso se tratan múltiples situaciones y problemas que conducen a los estudiantes a encontrar respuestas propias a la pregunta inicial.\n",
    "\n",
    "Cálculo Diferencial.\n",
    "Brindar los elementos conceptuales encaminados a fortalecer los conocimientos teóricos en matemáticas y a encontrar relaciones entre tales conocimientos y fenómenos naturales determinísticos en los cuales se presentan cambios y variación.\n",
    "\n",
    "Cálculo Integral.\n",
    "Favorecer el desarrollo de competencias de tipo analítico y sintético, operativo, interpretativo y gráfico que deben alcanzar los maestros en formación, en los temas propios del cálculo infinitesimal, particularmente del cálculo integral.\n",
    "\n",
    "Cálculo en varias variables.\n",
    "Desarrollar en el estudiante competencias de tipo analítica y sintética, operativa, interpretativa y gráfica en diversos tópicos del cálculo infinitesimal relacionados con los conceptos de función multivariada, límites de funciones multivariadas, diferenciación parcial y total, integración múltiple, y ecuaciones diferenciales, motivados por el análisis de problemas que modelan fenómenos del mundo real."
   ]
  },
  {
   "cell_type": "markdown",
   "id": "f1a90465",
   "metadata": {
    "slideshow": {
     "slide_type": "slide"
    }
   },
   "source": [
    "### Didáctica del álgebra.  \n",
    "\n",
    "Construir unos referentes teóricos y metodológicos básicos que posibiliten el diseño de situaciones didácticas para su uso en el aula y contribuyan a la reflexión sobre el desarrollo de pensamiento algebraico escolar en diferentes contextos."
   ]
  },
  {
   "cell_type": "markdown",
   "id": "b8f37398",
   "metadata": {
    "slideshow": {
     "slide_type": "slide"
    }
   },
   "source": [
    "### Geometría vectorial y álgebra lineal."
   ]
  },
  {
   "cell_type": "markdown",
   "id": "8122c85a",
   "metadata": {
    "slideshow": {
     "slide_type": "slide"
    }
   },
   "source": [
    "* Promover en los docentes en formación el desarrollo de aspectos conceptuales, procedimentales y aplicativos propios de la geometría y el álgebra.\n",
    "•Potenciar en los estudiantes las capacidades de abstracción y deducción a través de los problemas y aplicaciones propias de la Geometría Vectorial y del Álgebra Lineal.\n",
    "•Enfatizar en el uso de las herramientas matemáticas por su eficacia para describir cuantitativa y cualitativamente, mediante procedimientos geométricos y algebraicos, las magnitudes correspondientes a diferentes fenómenos físicos."
   ]
  },
  {
   "cell_type": "markdown",
   "id": "3ca7e722",
   "metadata": {
    "slideshow": {
     "slide_type": "slide"
    }
   },
   "source": [
    "# Propuesta de evaluación"
   ]
  },
  {
   "cell_type": "markdown",
   "id": "0113ee75",
   "metadata": {
    "slideshow": {
     "slide_type": "slide"
    }
   },
   "source": [
    "60% parciales. "
   ]
  },
  {
   "cell_type": "markdown",
   "id": "c2054a8b",
   "metadata": {
    "slideshow": {
     "slide_type": "slide"
    }
   },
   "source": [
    "seguimiento del 15%: seis pruebas cortas y eliminamos dos. "
   ]
  },
  {
   "cell_type": "markdown",
   "id": "89101518",
   "metadata": {
    "slideshow": {
     "slide_type": "slide"
    }
   },
   "source": [
    "5% de autoevaluación. "
   ]
  },
  {
   "cell_type": "markdown",
   "id": "5758c8bc",
   "metadata": {},
   "source": [
    "20% de trabajo final: Modelación computacional con Python"
   ]
  },
  {
   "cell_type": "code",
   "execution_count": null,
   "id": "aa063c21",
   "metadata": {},
   "outputs": [],
   "source": []
  },
  {
   "cell_type": "code",
   "execution_count": null,
   "id": "fc5461ef",
   "metadata": {},
   "outputs": [],
   "source": []
  },
  {
   "cell_type": "code",
   "execution_count": null,
   "id": "44f33302",
   "metadata": {},
   "outputs": [],
   "source": []
  }
 ],
 "metadata": {
  "celltoolbar": "Slideshow",
  "kernelspec": {
   "display_name": "Python 3 (ipykernel)",
   "language": "python",
   "name": "python3"
  },
  "language_info": {
   "codemirror_mode": {
    "name": "ipython",
    "version": 3
   },
   "file_extension": ".py",
   "mimetype": "text/x-python",
   "name": "python",
   "nbconvert_exporter": "python",
   "pygments_lexer": "ipython3",
   "version": "3.9.13"
  },
  "rise": {
   "scroll": true,
   "theme": "sky"
  }
 },
 "nbformat": 4,
 "nbformat_minor": 5
}
