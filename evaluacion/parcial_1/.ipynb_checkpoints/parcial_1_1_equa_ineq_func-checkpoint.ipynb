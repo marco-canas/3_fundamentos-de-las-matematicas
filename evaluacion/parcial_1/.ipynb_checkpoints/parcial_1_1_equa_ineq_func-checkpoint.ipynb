{
 "cells": [
  {
   "cell_type": "markdown",
   "id": "cf8d7851",
   "metadata": {
    "slideshow": {
     "slide_type": "slide"
    }
   },
   "source": [
    "<table align=\"left\">\n",
    "  <td>\n",
    "<a href=\"https://colab.research.google.com/github/marco-canas/fundamentos-de-las-matematicas/blob/main/clases/modelado.ipynb\" target=\"_parent\"><img src=\"https://colab.research.google.com/assets/colab-badge.svg\" alt=\"Open In Colab\"/></a>\n",
    " </td>\n",
    "</table>"
   ]
  },
  {
   "cell_type": "markdown",
   "id": "3fd16491",
   "metadata": {
    "slideshow": {
     "slide_type": "slide"
    }
   },
   "source": [
    "# Parcial 1.1 Ecuaciones, inecuaciones y funciones"
   ]
  },
  {
   "cell_type": "markdown",
   "id": "f1277ef6",
   "metadata": {
    "slideshow": {
     "slide_type": "slide"
    }
   },
   "source": [
    "## 109-110 Problemas de cuerpos en caída  "
   ]
  },
  {
   "cell_type": "markdown",
   "id": "e5837cf1",
   "metadata": {
    "slideshow": {
     "slide_type": "slide"
    }
   },
   "source": [
    "Suponga que un cuerpo se deja caer desde una altura h0 sobre el suelo. Entonces su altura después de $t$ segundos está dada por \n",
    "\n",
    "$$h = - 16t^{2} + h_{0},$$\n",
    "\n",
    "donde $h$ se mide en pies. Use esta información para resolver el problema.  "
   ]
  },
  {
   "cell_type": "markdown",
   "id": "f5c7e63e",
   "metadata": {
    "slideshow": {
     "slide_type": "slide"
    }
   },
   "source": [
    "109. Si una pelota se deja caer desde 288 pies sobre el suelo,\n",
    "¿cuánto tarda en llegar al nivel del suelo?\n",
    "\n",
    "* Resuelva este interrogante utilizando el gráfico apropiado de $h$ realizado con wolfram o Geogebra. \n",
    "Luego, constraste su respuesta con la obtenida utilizando métodos analíticos. \n"
   ]
  },
  {
   "cell_type": "markdown",
   "id": "7fbce02a",
   "metadata": {
    "slideshow": {
     "slide_type": "slide"
    }
   },
   "source": [
    "110. Una pelota se deja caer desde lo alto de un edificio de 96 pies de alto.\n",
    "* Identifique a la función $h(t)$\n",
    "* Identifique el gráfico de $h(t)$.   \n",
    "(a) ¿Cuánto tardará la pelota en caer la mitad de la distancia al nivel del suelo? Resuelva este interrogante utilizando el gráfico apropiado de $h$ realizado con wolfram o Geogebra. \n",
    "Luego, constarste su respuesta con la obtenida utilizando métodos analíticos. \n",
    "(b) ¿Cuánto tardará en caer el suelo?\n",
    "\n",
    "* Resuelva este interrogante utilizando el gráfico apropiado de $h$ realizado con wolfram o Geogebra. \n",
    "Luego, contraste su respuesta con la obtenida utilizando métodos analíticos. "
   ]
  },
  {
   "cell_type": "markdown",
   "id": "f22f0174",
   "metadata": {
    "slideshow": {
     "slide_type": "slide"
    }
   },
   "source": [
    "## Resuelva gráficamente el problema utilizando matplotlib o seaborn"
   ]
  },
  {
   "cell_type": "markdown",
   "id": "3a55bb7e",
   "metadata": {
    "slideshow": {
     "slide_type": "slide"
    }
   },
   "source": [
    "## Resuelva con Geogebra el problema"
   ]
  },
  {
   "cell_type": "markdown",
   "id": "cfff53e4",
   "metadata": {
    "slideshow": {
     "slide_type": "slide"
    }
   },
   "source": [
    "## Resuelva con wolfram el problema "
   ]
  },
  {
   "cell_type": "markdown",
   "id": "c36b0114",
   "metadata": {
    "slideshow": {
     "slide_type": "slide"
    }
   },
   "source": [
    "## Resuelva analíticamente el problema justificando cada paso realizado"
   ]
  },
  {
   "cell_type": "markdown",
   "id": "9feec2a4",
   "metadata": {
    "slideshow": {
     "slide_type": "slide"
    }
   },
   "source": [
    "## Resuelva con sympy el problema"
   ]
  },
  {
   "cell_type": "markdown",
   "id": "4a0131c5",
   "metadata": {
    "slideshow": {
     "slide_type": "slide"
    }
   },
   "source": [
    "# Resuelva con symbolab y describa los pasos que esta aplicación le presenta para la solución. "
   ]
  },
  {
   "cell_type": "code",
   "execution_count": null,
   "id": "216f0212",
   "metadata": {
    "slideshow": {
     "slide_type": "slide"
    }
   },
   "outputs": [],
   "source": []
  },
  {
   "cell_type": "markdown",
   "id": "867be656",
   "metadata": {
    "slideshow": {
     "slide_type": "slide"
    }
   },
   "source": [
    "# [Vínculo para formulario de Microsoft Forms para enviar tu examen resuelto](https://forms.office.com/Pages/ResponsePage.aspx?id=IefhmYRxjkmK_7KtTlPBwkanXIs1i1FEujpsZgO6dXpUMDdIOU5WQ1U5VEJLTU5OWlhEOVhWRU1QTS4u)"
   ]
  },
  {
   "cell_type": "code",
   "execution_count": null,
   "id": "95d89047",
   "metadata": {},
   "outputs": [],
   "source": []
  },
  {
   "cell_type": "code",
   "execution_count": null,
   "id": "3994b50c",
   "metadata": {},
   "outputs": [],
   "source": []
  }
 ],
 "metadata": {
  "celltoolbar": "Slideshow",
  "kernelspec": {
   "display_name": "Python 3 (ipykernel)",
   "language": "python",
   "name": "python3"
  },
  "language_info": {
   "codemirror_mode": {
    "name": "ipython",
    "version": 3
   },
   "file_extension": ".py",
   "mimetype": "text/x-python",
   "name": "python",
   "nbconvert_exporter": "python",
   "pygments_lexer": "ipython3",
   "version": "3.9.12"
  }
 },
 "nbformat": 4,
 "nbformat_minor": 5
}
