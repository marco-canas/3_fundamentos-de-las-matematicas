{
 "cells": [
  {
   "cell_type": "markdown",
   "id": "add09b43",
   "metadata": {
    "slideshow": {
     "slide_type": "slide"
    }
   },
   "source": [
    "<table align=\"left\">\n",
    "  <td>\n",
    "<a href=\"https://colab.research.google.com/github/marco-canas/fundamentos-de-las-matematicas/blob/main/clases/modelado.ipynb\" target=\"_parent\"><img src=\"https://colab.research.google.com/assets/colab-badge.svg\" alt=\"Open In Colab\"/></a>\n",
    " </td>\n",
    "</table>"
   ]
  },
  {
   "cell_type": "markdown",
   "id": "d4b0d652",
   "metadata": {
    "slideshow": {
     "slide_type": "slide"
    }
   },
   "source": [
    "# Parcial 1.1 Ecuaciones, inecuaciones y funciones"
   ]
  },
  {
   "cell_type": "markdown",
   "id": "262b9306",
   "metadata": {
    "slideshow": {
     "slide_type": "slide"
    }
   },
   "source": [
    "## 109-110 Problemas de cuerpos en caída  "
   ]
  },
  {
   "cell_type": "markdown",
   "id": "25fcf0d7",
   "metadata": {
    "slideshow": {
     "slide_type": "slide"
    }
   },
   "source": [
    "Suponga que un cuerpo se deja caer desde una altura h0 sobre el suelo. Entonces\n",
    "su altura después de $t$ segundos está dada por $h = - 16t^{2} + h_{0}$, donde\n",
    "$h$ se mide en pies. Use esta información para resolver el problema.  "
   ]
  },
  {
   "cell_type": "markdown",
   "id": "14026e0c",
   "metadata": {
    "slideshow": {
     "slide_type": "slide"
    }
   },
   "source": [
    "109. Si una pelota se deja caer desde 288 pies sobre el suelo,\n",
    "¿cuánto tarda en llegar al nivel del suelo?\n",
    "110. Una pelota se deja caer desde lo alto de un edificio de 96 pies\n",
    "de alto.\n",
    "(a) ¿Cuánto tardará la pelota en caer la mitad de la distancia\n",
    "al nivel del suelo?\n",
    "(b) ¿Cuánto tardará en caer el suelo?"
   ]
  },
  {
   "cell_type": "markdown",
   "id": "b5fe71dd",
   "metadata": {
    "slideshow": {
     "slide_type": "slide"
    }
   },
   "source": [
    "## Resuelva gráficamente el problema"
   ]
  },
  {
   "cell_type": "markdown",
   "id": "efc9768a",
   "metadata": {
    "slideshow": {
     "slide_type": "slide"
    }
   },
   "source": [
    "## Resuelva analíticamente el problema"
   ]
  },
  {
   "cell_type": "markdown",
   "id": "fa00feb7",
   "metadata": {
    "slideshow": {
     "slide_type": "slide"
    }
   },
   "source": [
    "## Resuelva con sympy el problema"
   ]
  },
  {
   "cell_type": "markdown",
   "id": "e4241fee",
   "metadata": {
    "slideshow": {
     "slide_type": "slide"
    }
   },
   "source": [
    "## Resuelva con Geogebra el problema"
   ]
  },
  {
   "cell_type": "markdown",
   "id": "8a9bf259",
   "metadata": {
    "slideshow": {
     "slide_type": "slide"
    }
   },
   "source": [
    "## Resuelva con wolfram el problema "
   ]
  },
  {
   "cell_type": "code",
   "execution_count": null,
   "id": "72e7bef2",
   "metadata": {
    "slideshow": {
     "slide_type": "slide"
    }
   },
   "outputs": [],
   "source": []
  },
  {
   "cell_type": "code",
   "execution_count": null,
   "id": "2bb85c57",
   "metadata": {},
   "outputs": [],
   "source": []
  },
  {
   "cell_type": "code",
   "execution_count": null,
   "id": "0e1f367f",
   "metadata": {},
   "outputs": [],
   "source": []
  },
  {
   "cell_type": "code",
   "execution_count": null,
   "id": "ae59761c",
   "metadata": {},
   "outputs": [],
   "source": []
  },
  {
   "cell_type": "code",
   "execution_count": null,
   "id": "586641d9",
   "metadata": {},
   "outputs": [],
   "source": []
  }
 ],
 "metadata": {
  "celltoolbar": "Slideshow",
  "kernelspec": {
   "display_name": "Python 3 (ipykernel)",
   "language": "python",
   "name": "python3"
  },
  "language_info": {
   "codemirror_mode": {
    "name": "ipython",
    "version": 3
   },
   "file_extension": ".py",
   "mimetype": "text/x-python",
   "name": "python",
   "nbconvert_exporter": "python",
   "pygments_lexer": "ipython3",
   "version": "3.9.12"
  }
 },
 "nbformat": 4,
 "nbformat_minor": 5
}
