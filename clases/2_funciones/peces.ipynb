{
 "cells": [
  {
   "cell_type": "markdown",
   "id": "bb097269",
   "metadata": {
    "slideshow": {
     "slide_type": "slide"
    }
   },
   "source": [
    "<table align=\"left\">\n",
    "  <td>\n",
    "<a href=\"https://colab.research.google.com/github/marco-canas/fundamentos-de-las-matematicas/blob/main/clases/modelado.ipynb\" target=\"_parent\"><img src=\"https://colab.research.google.com/assets/colab-badge.svg\" alt=\"Open In Colab\"/></a>\n",
    " </td>\n",
    "</table>"
   ]
  },
  {
   "cell_type": "markdown",
   "id": "dd9b9713",
   "metadata": {
    "slideshow": {
     "slide_type": "slide"
    }
   },
   "source": [
    "# Ejermplo 2 de modelación con funciones"
   ]
  },
  {
   "cell_type": "markdown",
   "id": "722c45d8",
   "metadata": {
    "slideshow": {
     "slide_type": "slide"
    }
   },
   "source": [
    "### Población de peces "
   ]
  },
  {
   "cell_type": "markdown",
   "id": "6661fb20",
   "metadata": {
    "slideshow": {
     "slide_type": "slide"
    }
   },
   "source": [
    "La población de peces de cierto\n",
    "lago sube y baja de acuerdo con la fórmula\n",
    "\n",
    "$$ F(t) = 1000(30 + 17t – t^{2}) $$\n",
    "\n",
    "Aquí $F$ es el número de peces en el tiempo $t$, donde $t$ se mide en años desde el 1 de enero de 2002, cuando la población de peces se estimó por primera vez.  "
   ]
  },
  {
   "cell_type": "markdown",
   "id": "64b12cf2",
   "metadata": {
    "slideshow": {
     "slide_type": "slide"
    }
   },
   "source": [
    "(a) ¿En qué fecha la población de peces será otra vez la\n",
    "misma de como era el 1 de enero de 2002?\n",
    "(b) ¿Antes de qué fecha habrán muerto todos los peces del lago?"
   ]
  },
  {
   "cell_type": "code",
   "execution_count": null,
   "id": "4a1e2aa5",
   "metadata": {
    "slideshow": {
     "slide_type": "slide"
    }
   },
   "outputs": [],
   "source": []
  },
  {
   "cell_type": "code",
   "execution_count": null,
   "id": "f6c4ebf7",
   "metadata": {
    "slideshow": {
     "slide_type": "slide"
    }
   },
   "outputs": [],
   "source": []
  },
  {
   "cell_type": "code",
   "execution_count": null,
   "id": "639cea62",
   "metadata": {},
   "outputs": [],
   "source": []
  },
  {
   "cell_type": "code",
   "execution_count": null,
   "id": "035cc902",
   "metadata": {},
   "outputs": [],
   "source": []
  }
 ],
 "metadata": {
  "celltoolbar": "Slideshow",
  "kernelspec": {
   "display_name": "Python 3 (ipykernel)",
   "language": "python",
   "name": "python3"
  },
  "language_info": {
   "codemirror_mode": {
    "name": "ipython",
    "version": 3
   },
   "file_extension": ".py",
   "mimetype": "text/x-python",
   "name": "python",
   "nbconvert_exporter": "python",
   "pygments_lexer": "ipython3",
   "version": "3.9.12"
  }
 },
 "nbformat": 4,
 "nbformat_minor": 5
}
