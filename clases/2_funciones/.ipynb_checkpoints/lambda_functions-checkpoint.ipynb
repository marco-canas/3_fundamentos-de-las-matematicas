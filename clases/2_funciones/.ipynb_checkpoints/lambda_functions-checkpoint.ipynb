{
 "cells": [
  {
   "cell_type": "markdown",
   "id": "d624df46",
   "metadata": {},
   "source": []
  },
  {
   "cell_type": "markdown",
   "id": "e482dfab",
   "metadata": {},
   "source": [
    "# ¿Cómo crear funciones anónimas de Python"
   ]
  },
  {
   "cell_type": "markdown",
   "id": "8656fb61",
   "metadata": {},
   "source": [
    "# [How to Use Python Lambda Functions](https://realpython.com/python-lambda/)"
   ]
  },
  {
   "cell_type": "markdown",
   "id": "5daa5f2c",
   "metadata": {},
   "source": [
    "\n",
    "\n",
    "Table of Contents\n",
    "\n",
    "* Lambda Calculus\n",
    "  - History\n",
    "  - First Example\n",
    "* Anonymous Functions\n",
    "    Python Lambda and Regular Functions\n",
    "        Functions\n",
    "        Traceback\n",
    "        Syntax\n",
    "        Arguments\n",
    "        Decorators\n",
    "        Closure\n",
    "        Evaluation Time\n",
    "        Testing Lambdas\n",
    "    Lambda Expression Abuses\n",
    "        Raising an Exception\n",
    "        Cryptic Style\n",
    "        Python Classes\n",
    "    Appropriate Uses of Lambda Expressions\n",
    "        Classic Functional Constructs\n",
    "        Key Functions\n",
    "        UI Frameworks\n",
    "        Python Interpreter\n",
    "        timeit\n",
    "        Monkey Patching\n",
    "    Alternatives to Lambdas\n",
    "        Map\n",
    "        Filter\n",
    "        Reduce\n",
    "    Are Lambdas Pythonic or Not?\n",
    "    Conclusion\n",
    "\n"
   ]
  },
  {
   "cell_type": "code",
   "execution_count": null,
   "id": "50f981ad",
   "metadata": {},
   "outputs": [],
   "source": []
  },
  {
   "cell_type": "code",
   "execution_count": null,
   "id": "1e824cfc",
   "metadata": {},
   "outputs": [],
   "source": []
  },
  {
   "cell_type": "code",
   "execution_count": null,
   "id": "beecb439",
   "metadata": {},
   "outputs": [],
   "source": []
  },
  {
   "cell_type": "code",
   "execution_count": null,
   "id": "c158fd18",
   "metadata": {},
   "outputs": [],
   "source": []
  },
  {
   "cell_type": "code",
   "execution_count": null,
   "id": "1188ef6e",
   "metadata": {},
   "outputs": [],
   "source": []
  },
  {
   "cell_type": "code",
   "execution_count": null,
   "id": "872931b0",
   "metadata": {},
   "outputs": [],
   "source": []
  },
  {
   "cell_type": "code",
   "execution_count": null,
   "id": "9e8bfba0",
   "metadata": {},
   "outputs": [],
   "source": []
  },
  {
   "cell_type": "code",
   "execution_count": null,
   "id": "5b74f5d6",
   "metadata": {},
   "outputs": [],
   "source": []
  },
  {
   "cell_type": "code",
   "execution_count": null,
   "id": "dcfc84fd",
   "metadata": {},
   "outputs": [],
   "source": []
  }
 ],
 "metadata": {
  "kernelspec": {
   "display_name": "Python 3 (ipykernel)",
   "language": "python",
   "name": "python3"
  },
  "language_info": {
   "codemirror_mode": {
    "name": "ipython",
    "version": 3
   },
   "file_extension": ".py",
   "mimetype": "text/x-python",
   "name": "python",
   "nbconvert_exporter": "python",
   "pygments_lexer": "ipython3",
   "version": "3.9.12"
  }
 },
 "nbformat": 4,
 "nbformat_minor": 5
}
