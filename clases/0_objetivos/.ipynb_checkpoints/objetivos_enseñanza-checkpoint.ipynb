{
 "cells": [
  {
   "cell_type": "markdown",
   "id": "5f98d3ca",
   "metadata": {
    "slideshow": {
     "slide_type": "slide"
    }
   },
   "source": [
    "<table align=\"left\">\n",
    "  <td>\n",
    "<a href=\"https://colab.research.google.com/github/marco-canas/fundamentos-de-las-matematicas/blob/main/clases/modelado.ipynb\" target=\"_parent\"><img src=\"https://colab.research.google.com/assets/colab-badge.svg\" alt=\"Open In Colab\"/></a>\n",
    " </td>\n",
    "</table>"
   ]
  },
  {
   "cell_type": "markdown",
   "id": "c3dc449f",
   "metadata": {
    "slideshow": {
     "slide_type": "slide"
    }
   },
   "source": [
    "## [Video de apoyo a la lectura interactiva y experimental de este cuaderno](https://www.youtube.com/watch?v=OvgYCUsbsLk)"
   ]
  },
  {
   "cell_type": "markdown",
   "id": "125796e7",
   "metadata": {
    "slideshow": {
     "slide_type": "slide"
    }
   },
   "source": [
    "# Objetivos de formación para la Unidad didáctica de Fundamentos de las matemáticas"
   ]
  },
  {
   "cell_type": "markdown",
   "id": "eaa96a75",
   "metadata": {
    "slideshow": {
     "slide_type": "slide"
    }
   },
   "source": [
    "UNIVERSIDAD DE ANTIOQUIA\n",
    "FACULTAD DE EDUCACIÓN\n",
    "LICENCIATURA EN MATEMÁTICAS"
   ]
  },
  {
   "cell_type": "markdown",
   "id": "1e6cf2d3",
   "metadata": {
    "slideshow": {
     "slide_type": "slide"
    }
   },
   "source": [
    "### NÚCLEO DE PENSAMIENTO VARIACIONAL"
   ]
  },
  {
   "cell_type": "markdown",
   "id": "ae18731a",
   "metadata": {
    "slideshow": {
     "slide_type": "slide"
    }
   },
   "source": [
    "# Propuestas de objetivo general"
   ]
  },
  {
   "cell_type": "markdown",
   "id": "f5289339",
   "metadata": {
    "slideshow": {
     "slide_type": "slide"
    }
   },
   "source": [
    "Favorecer el desarrollo de competencias de tipo analítico y sintético, operativo, interpretativo y gráfico, que deben alcanzar los maestros en formación, en los temas propios de las matemáticas y el cálculo."
   ]
  },
  {
   "cell_type": "markdown",
   "id": "399070ed",
   "metadata": {
    "slideshow": {
     "slide_type": "slide"
    }
   },
   "source": [
    "Brindar elementos conceptuales, procedimentales y aplicativos, encaminados al fortalecimiento de conocimientos teóricos y metodológicos en matemáticas o cálculo, para el desarrollo de ideas científicas, necesarias y suficientes, propias de la labor docente."
   ]
  },
  {
   "cell_type": "markdown",
   "id": "675cd275",
   "metadata": {
    "slideshow": {
     "slide_type": "slide"
    }
   },
   "source": [
    "*Para tener presente\n",
    "\n",
    "# Fundamentos de Matemáticas.\n",
    "\n",
    "El curso se desarrolla alrededor de la pregunta \n",
    "\n",
    "**¿Cuáles son los conceptos de la matemática básica que un futuro profesor debe estudiar durante su formación inicial para desarrollar las ideas científicas, necesarias y suficientes, propias de su labor docente?**\n",
    "\n",
    "A través del tiempo del desarrollo del curso se tratan múltiples situaciones y problemas que conducen a los estudiantes a encontrar respuestas propias a la pregunta inicial."
   ]
  },
  {
   "cell_type": "markdown",
   "id": "606505ad",
   "metadata": {
    "slideshow": {
     "slide_type": "slide"
    }
   },
   "source": [
    "### Cálculo Diferencial.  \n",
    "\n",
    "Brindar los elementos conceptuales encaminados a fortalecer los conocimientos teóricos en matemáticas y a encontrar relaciones entre tales conocimientos y fenómenos naturales determinísticos en los cuales se presentan **cambios y variación**."
   ]
  },
  {
   "cell_type": "markdown",
   "id": "8b573a56",
   "metadata": {
    "slideshow": {
     "slide_type": "slide"
    }
   },
   "source": [
    "### Cálculo Integral.  \n",
    "\n",
    "Favorecer el desarrollo de competencias de tipo analítico y sintético, operativo, interpretativo y gráfico que deben alcanzar los maestros en formación, en los temas propios del cálculo infinitesimal, particularmente del cálculo integral."
   ]
  },
  {
   "cell_type": "markdown",
   "id": "6560f50d",
   "metadata": {
    "slideshow": {
     "slide_type": "slide"
    }
   },
   "source": [
    "### Cálculo en varias variables.    \n",
    "\n",
    "Desarrollar en el estudiante competencias de tipo analítica y sintética, operativa, interpretativa y gráfica en diversos tópicos del cálculo infinitesimal relacionados con los conceptos de función multivariada, límites de funciones multivariadas, diferenciación parcial y total, integración múltiple, y ecuaciones diferenciales, motivados por el análisis de problemas que modelan fenómenos del mundo real."
   ]
  },
  {
   "cell_type": "markdown",
   "id": "ef455e1a",
   "metadata": {
    "slideshow": {
     "slide_type": "slide"
    }
   },
   "source": [
    "### Didáctica del álgebra.  \n",
    "\n",
    "Construir unos referentes teóricos y metodológicos básicos que posibiliten el diseño de situaciones didácticas para su uso en el aula y contribuyan a la reflexión sobre el desarrollo de pensamiento algebraico escolar en diferentes contextos."
   ]
  },
  {
   "cell_type": "markdown",
   "id": "4f1c9762",
   "metadata": {
    "slideshow": {
     "slide_type": "slide"
    }
   },
   "source": [
    "### Geometría vectorial y álgebra lineal."
   ]
  },
  {
   "cell_type": "markdown",
   "id": "0b24d5ac",
   "metadata": {
    "slideshow": {
     "slide_type": "slide"
    }
   },
   "source": [
    "* Promover en los docentes en formación el desarrollo de aspectos conceptuales, procedimentales y aplicativos propios de la geometría y el álgebra.  \n",
    "* Potenciar en los estudiantes las capacidades de abstracción y deducción a través de los problemas y aplicaciones propias de la Geometría Vectorial y del Álgebra Lineal.\n",
    "* Enfatizar en el uso de las herramientas matemáticas por su eficacia para describir cuantitativa y cualitativamente, mediante procedimientos geométricos y algebraicos, las magnitudes correspondientes a diferentes fenómenos físicos."
   ]
  },
  {
   "cell_type": "code",
   "execution_count": null,
   "id": "5739ab9c",
   "metadata": {
    "slideshow": {
     "slide_type": "slide"
    }
   },
   "outputs": [],
   "source": []
  },
  {
   "cell_type": "code",
   "execution_count": null,
   "id": "c51a028d",
   "metadata": {
    "slideshow": {
     "slide_type": "slide"
    }
   },
   "outputs": [],
   "source": []
  },
  {
   "cell_type": "markdown",
   "id": "e06a956b",
   "metadata": {
    "slideshow": {
     "slide_type": "slide"
    }
   },
   "source": [
    "# Principios de resolución de problemas"
   ]
  },
  {
   "cell_type": "markdown",
   "id": "beac2a15",
   "metadata": {
    "slideshow": {
     "slide_type": "slide"
    }
   },
   "source": [
    "La capacidad de resolver problemas es una habilidad muy apreciada en muchos aspectos de nuestras vidas, es sin duda una parte importante de cualquier curso de matemáticas. "
   ]
  },
  {
   "cell_type": "markdown",
   "id": "634d43df",
   "metadata": {
    "slideshow": {
     "slide_type": "slide"
    }
   },
   "source": [
    "No hay reglas duras y rápidas que aseguren el éxito en la solución de problemas. "
   ]
  },
  {
   "cell_type": "markdown",
   "id": "edd129d1",
   "metadata": {
    "slideshow": {
     "slide_type": "slide"
    }
   },
   "source": [
    "Sin embargo, en este prólogo se proponen una serie de pasos generales en el proceso de resolución de problemas y le damos los principios que son útiles en la solución de ciertos problemas. Estas\n",
    "medidas y principios hacen explícito el sentido común. Se han adaptado del perspicaz libro\n",
    "de George Polya *How To Solve It*."
   ]
  },
  {
   "cell_type": "markdown",
   "id": "2bc075c5",
   "metadata": {
    "slideshow": {
     "slide_type": "slide"
    }
   },
   "source": [
    "1. Entender el problema\n",
    "El primer paso es leer el problema y asegurarse de que usted lo entiende. Hágase las siguientes\n",
    "preguntas:\n",
    "¿Qué es lo desconocido?\n",
    "¿Cuáles son las cantidades que se señalan?\n",
    "¿Cuáles son las condiciones dadas?\n",
    "Para muchos problemas, es útil\n",
    "dibujar un diagrama\n",
    "e identifi car las cantidades que se requieren en el diagrama. Por lo general, es necesario\n",
    "introducir notación adecuada\n",
    "en la elección de los símbolos para las cantidades desconocidas, a menudo usamos letras\n",
    "como a, b, c, m, n, x, y y, aunque en algunos casos, ayuda utilizar las iniciales como símbolos\n",
    "sugerentes, por ejemplo, para el volumen V o t para el tiempo.\n",
    "2. Piense en un plan\n",
    "Encuentre una conexión entre la información dada y la desconocida que le permita calcular\n",
    "la incógnita. A menudo es útil preguntarse a sí mismo de forma explícita: “¿Cómo puedo\n",
    "relacionar lo conocido y lo desconocido?” Si usted no puede ver una conexión inmediata,\n",
    "las siguientes ideas pueden ser útiles en la elaboración de un plan.\n",
    "\u0002 Trate de reconocer algo familiar\n",
    "Relacione la situación dada con los conocimientos previos. Observe la incógnita y trate de\n",
    "recordar un problema más familiar que tenga una incógnita similar.\n",
    "P R Ó L O G O PRINCIPIOS DE RESOLUCIÓN DE PROBLEMAS\n",
    "GEORGE POLYA (1887-1985) es famoso\n",
    "entre los matemáticos por sus ideas sobre\n",
    "resolución de problemas. Sus conferencias\n",
    "sobre este tema en la Universidad\n",
    "de Stanford atraían a multitudes\n",
    "a las cuales él llevó al borde de sus\n",
    "asientos, conduciéndolos a descubrir\n",
    "las soluciones por sí mismos. Él era capaz\n",
    "de hacer esto debido a su profundo\n",
    "conocimiento de la psicología\n",
    "de la resolución de problemas. Su conocido\n",
    "libro How to solve it ha sido traducido\n",
    "a 15 idiomas. Dijo que Euler\n",
    "(véase la página 266) fue el único\n",
    "grande entre los matemáticos, porque\n",
    "explicó cómo encontraba sus resultados.\n",
    "Polya dice a menudo a sus alumnos\n",
    "y colegas: \"Sí, veo que la demostración\n",
    "es correcta, pero ¿cómo lo\n",
    "descubrió?\" En el prefacio de How to\n",
    "solve it, Pólya escribe: \"Un gran descubrimiento\n",
    "resuelve un gran problema,\n",
    "pero es un grano de descubrimiento\n",
    "en la solución de cualquier problema.\n",
    "Usted puede ser modesto, pero si desafía\n",
    "su curiosidad y pone en juego sus\n",
    "facultades inventivas, y si lo resuelve\n",
    "por sus propios medios, puede experimentar\n",
    "la tensión y disfrutar el triunfo\n",
    "del descubrimiento. \"\n",
    "Chuck Painter/Stanford News Service\n",
    "P1\n",
    "P2 Prólogo\n",
    "\u0002 Trate de reconocer patrones\n",
    "Ciertos problemas se resuelven mediante el reconocimiento de algún tipo de patrón que está\n",
    "ocurriendo. El patrón puede ser geométrico, numérico o algebraico. Si usted puede ver la\n",
    "regularidad o repetición en un problema, entonces podría ser capaz de adivinar cuál es el\n",
    "patrón y luego probarlo.\n",
    "\u0002 Use analogías\n",
    "Trate de pensar en un problema análogo, es decir, un problema similar o relacionado, pero\n",
    "que es más fácil que el original. Si puede resolver el problema similar, más simple, entonces\n",
    "le puede dar las pistas que necesita para resolver el original, más difícil. Por ejemplo, si un\n",
    "problema implica un número muy grande, usted puede en primer lugar intentar resolver\n",
    "un problema similar con un número menor. O si el problema está en la geometría tridimensional,\n",
    "se podría buscar algo similar en la geometría de dos dimensiones. O si el problema\n",
    "inicial es de carácter general, primero se podría tratar un caso especial.\n",
    "\u0002 I n t roduzca algo adicional\n",
    "A veces podría ser necesario introducir algo nuevo, \"una ayuda extra\", para hacer la conexión\n",
    "entre lo conocido y lo desconocido. Por ejemplo, en un problema para el cual\n",
    "un diagrama es útil, la ayuda podría ser una nueva línea dibujada en el diagrama. En un\n",
    "problema más algebraico la ayuda podría ser una nueva incógnita que se relaciona con la\n",
    "incógnita original.\n",
    "\u0002 Tome casos\n",
    "A veces puede tener que dividir un problema en varios casos y dar un argumento diferente\n",
    "para cada caso. Por ejemplo, a menudo tenemos que utilizar esta estrategia para hacer frente\n",
    "a un valor absoluto.\n",
    "\u0002 Trabaje hacia atrás\n",
    "A veces es útil imaginar que su problema está resuelto y trabajar hacia atrás, paso a paso,\n",
    "hasta llegar a los datos proporcionados. Entonces usted podría ser capaz de revertir sus\n",
    "pasos y así construir una solución al problema original. Este procedimiento se utiliza comúnmente\n",
    "en la resolución de ecuaciones. Por ejemplo, en la solución de la ecuación 3x – 5\n",
    "= 7, suponga que x es un número que satisface 3x – 5 = 7 y trabaje hacia atrás. Sume 5 a\n",
    "cada lado de la ecuación y luego divida ambos lados entre 3 para obtener x = 4. Como cada\n",
    "uno de estos pasos se puede revertir, ha resuelto el problema.\n",
    "\u0002 Establezca metas secundarias\n",
    "En un problema complejo a menudo es útil establecer objetivos parciales (en los que la situación\n",
    "deseada se cumple sólo parcialmente). Si usted puede lograr o alcanzar estos objetivos\n",
    "parciales, entonces usted podría ser capaz de construir sobre ellos para alcanzar su\n",
    "meta fi nal.\n",
    "\u0002 Razonamiento indirecto\n",
    "A veces es apropiado para atacar un problema indirectamente. En el uso de la prueba por\n",
    "contradicción para probar que P implica Q, se supone que P es cierta y Q es falsa y se trata\n",
    "de ver por qué esto no puede suceder. De alguna manera tenemos que utilizar esta información\n",
    "y llegar a una contradicción a lo que sabemos que es verdad absoluta.\n",
    "\u0002 La inducción matemática\n",
    "Para probar las declaraciones que implican un entero positivo n, a menudo es útil utilizar el\n",
    "Principio de inducción matemática, que se discute en la sección 12.5.\n",
    "3. Lleve a cabo el plan\n",
    "En el paso 2, se ideó un plan. Para llevar a cabo ese plan, usted debe comprobar cada etapa\n",
    "del plan y escribir los detalles que demuestran que cada etapa es la correcta.\n",
    "Prólogo P3\n",
    "4. Mire hacia atrás\n",
    "Después de haber completado la solución, es conveniente mirar hacia atrás sobre ella, en\n",
    "parte para ver si se han cometido errores y en parte para ver si se puede descubrir una manera\n",
    "más fácil de resolver el problema. Mirar hacia atrás también le ayudará a familiarizarse\n",
    "con el método de solución, que puede ser útil para resolver un problema en el futuro. Descartes\n",
    "dijo: \"Cada problema que resolví se convirtió en una regla que sirvió después para\n",
    "resolver otros problemas.\"\n",
    "Ilustraremos algunos de estos principios de resolución de problemas con un ejemplo."
   ]
  },
  {
   "cell_type": "code",
   "execution_count": null,
   "id": "7dd64e8c",
   "metadata": {
    "slideshow": {
     "slide_type": "slide"
    }
   },
   "outputs": [],
   "source": []
  },
  {
   "cell_type": "code",
   "execution_count": null,
   "id": "08cfed45",
   "metadata": {
    "slideshow": {
     "slide_type": "slide"
    }
   },
   "outputs": [],
   "source": []
  },
  {
   "cell_type": "markdown",
   "id": "b3f91f4e",
   "metadata": {
    "slideshow": {
     "slide_type": "slide"
    }
   },
   "source": [
    "## Referentes  \n",
    "\n",
    "* Stewart"
   ]
  },
  {
   "cell_type": "code",
   "execution_count": null,
   "id": "76295b60",
   "metadata": {},
   "outputs": [],
   "source": []
  }
 ],
 "metadata": {
  "celltoolbar": "Slideshow",
  "kernelspec": {
   "display_name": "Python 3 (ipykernel)",
   "language": "python",
   "name": "python3"
  },
  "language_info": {
   "codemirror_mode": {
    "name": "ipython",
    "version": 3
   },
   "file_extension": ".py",
   "mimetype": "text/x-python",
   "name": "python",
   "nbconvert_exporter": "python",
   "pygments_lexer": "ipython3",
   "version": "3.9.12"
  }
 },
 "nbformat": 4,
 "nbformat_minor": 5
}
