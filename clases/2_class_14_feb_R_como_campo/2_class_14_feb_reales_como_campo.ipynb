{
 "cells": [
  {
   "cell_type": "markdown",
   "id": "841b7dd1",
   "metadata": {
    "slideshow": {
     "slide_type": "slide"
    }
   },
   "source": [
    "<table align=\"left\">\n",
    "  <td>\n",
    "    <a href=\"https://colab.research.google.com/github/marco-canas/fundamentos-de-las-matematicas/blob/main/clases/2_class_14_feb_R_como_campo/2_class_14_feb_reales_como_campo.ipynb\" target=\"_parent\"><img src=\"https://colab.research.google.com/assets/colab-badge.svg\" alt=\"Open In Colab\"/></a>\n",
    "  </td>\n",
    "</table>"
   ]
  },
  {
   "cell_type": "markdown",
   "id": "e92ad292",
   "metadata": {
    "slideshow": {
     "slide_type": "slide"
    }
   },
   "source": [
    "## [Video de apoyo]() "
   ]
  },
  {
   "cell_type": "markdown",
   "id": "81fd4620",
   "metadata": {
    "slideshow": {
     "slide_type": "slide"
    }
   },
   "source": [
    "# Clase 2. Febrero 14 Martes\n",
    "\n",
    "## El campo de los números reales  \n",
    "\n",
    " \n",
    "\n"
   ]
  },
  {
   "cell_type": "markdown",
   "id": "61414f41",
   "metadata": {
    "slideshow": {
     "slide_type": "slide"
    }
   },
   "source": [
    "# Objetivos generales del núcleo:"
   ]
  },
  {
   "cell_type": "markdown",
   "id": "0cff9e1e",
   "metadata": {
    "slideshow": {
     "slide_type": "slide"
    }
   },
   "source": [
    "1. Desarrollar competencias analíticas, sintéticas, operativas, interpretativas y gráficas, en el estudio de temas propios de las matemáticas y el cálculo."
   ]
  },
  {
   "cell_type": "markdown",
   "id": "f6f08e3b",
   "metadata": {
    "slideshow": {
     "slide_type": "slide"
    }
   },
   "source": [
    "2. Discutir situaciones contextuales, fenómenos, problemas intra o extramatemáticos, de naturaleza variacional, que favorezcan la comprensión y utilización de conceptos y representaciones matemáticas variacionales que los modelen."
   ]
  },
  {
   "cell_type": "markdown",
   "id": "57ca9a45",
   "metadata": {
    "slideshow": {
     "slide_type": "slide"
    }
   },
   "source": [
    "## Propuesta de evaluación"
   ]
  },
  {
   "cell_type": "markdown",
   "id": "9ceda1b3",
   "metadata": {
    "slideshow": {
     "slide_type": "slide"
    }
   },
   "source": [
    "* Parciales: 60% (3 o 4, dependiendo del curso).\n",
    "* Seguimiento: 15% (quices, pruebas cortas, tareas, trabajos, talleres, participación, pequeña presentación).\n",
    "* Trabajo final: 20% (video explicando alguna aplicación o ejercicio, ensayo sobre artículo en inglés, exposición, trabajo sobre uso de herramienta digital…)."
   ]
  },
  {
   "cell_type": "markdown",
   "id": "3a96a1f9",
   "metadata": {
    "slideshow": {
     "slide_type": "slide"
    }
   },
   "source": [
    "# [Los números reales desde sympy](https://claudiovz.github.io/scipy-lecture-notes-ES/packages/sympy.html)"
   ]
  },
  {
   "cell_type": "markdown",
   "id": "e6173c04",
   "metadata": {},
   "source": [
    "$(\\mathbb{R}, +,  \\cdot)$ R como campo. "
   ]
  },
  {
   "cell_type": "code",
   "execution_count": 2,
   "id": "3c816f22",
   "metadata": {},
   "outputs": [],
   "source": [
    "def suma(a,b):\n",
    "    '''el operación binaria porque toma de a dos números'''\n",
    "    return a + b"
   ]
  },
  {
   "cell_type": "code",
   "execution_count": 3,
   "id": "525c4503",
   "metadata": {},
   "outputs": [
    {
     "data": {
      "text/plain": [
       "7"
      ]
     },
     "execution_count": 3,
     "metadata": {},
     "output_type": "execute_result"
    }
   ],
   "source": [
    "suma(5,2)"
   ]
  },
  {
   "cell_type": "code",
   "execution_count": null,
   "id": "64bbea67",
   "metadata": {},
   "outputs": [],
   "source": [
    "def raiz_cuadrada(a):\n",
    "    return a**(1/2)"
   ]
  },
  {
   "cell_type": "markdown",
   "id": "efc32721",
   "metadata": {
    "slideshow": {
     "slide_type": "slide"
    }
   },
   "source": [
    "Objetivos\n",
    "\n",
    "* Evaluar expresiones con precisión arbitraria.\n",
    "* Ejecutar manipulaciones algebráicas en expresiones simbólicas.\n",
    "* Ejecutar tareas básicas de cálculo (límites, diferenciación e integración) con expresiones simbólicas.\n",
    "* Resolver ecuaciones polinómicas y transcendentales.\n",
    "    Resolver algunas ecuaciones diferenciales.\n",
    "\n"
   ]
  },
  {
   "cell_type": "markdown",
   "id": "bc736683",
   "metadata": {
    "slideshow": {
     "slide_type": "slide"
    }
   },
   "source": [
    "# ¿Qué es SymPy? "
   ]
  },
  {
   "cell_type": "markdown",
   "id": "240f8024",
   "metadata": {
    "slideshow": {
     "slide_type": "slide"
    }
   },
   "source": [
    "SymPy es una biblioteca Python para matemática simbólica. Su propósito es convertirse en un completo sistema de álgebra computacional que pueda competir directamente con alternativas comerciales (Mathematica, Maple) manteniendo, a la vez, el código tan simple como sea posible para hacerlo extensible de manera fácil e integral. SymPy está escrito completamente en Python y no necesita usar otras bibliotecas."
   ]
  },
  {
   "cell_type": "code",
   "execution_count": 7,
   "id": "07aeb8c3",
   "metadata": {
    "slideshow": {
     "slide_type": "slide"
    }
   },
   "outputs": [],
   "source": [
    "from sympy import * "
   ]
  },
  {
   "cell_type": "markdown",
   "id": "61cd8ed6",
   "metadata": {
    "slideshow": {
     "slide_type": "slide"
    }
   },
   "source": [
    "Usando sympy como calculadora"
   ]
  },
  {
   "cell_type": "code",
   "execution_count": 8,
   "id": "9aa3344f",
   "metadata": {
    "slideshow": {
     "slide_type": "slide"
    }
   },
   "outputs": [],
   "source": [
    "a = Rational(1,2) "
   ]
  },
  {
   "cell_type": "code",
   "execution_count": 9,
   "id": "ffc44898",
   "metadata": {
    "slideshow": {
     "slide_type": "slide"
    }
   },
   "outputs": [
    {
     "data": {
      "text/latex": [
       "$\\displaystyle \\frac{1}{2}$"
      ],
      "text/plain": [
       "1/2"
      ]
     },
     "execution_count": 9,
     "metadata": {},
     "output_type": "execute_result"
    }
   ],
   "source": [
    "a "
   ]
  },
  {
   "cell_type": "code",
   "execution_count": 10,
   "id": "c89e0643",
   "metadata": {
    "slideshow": {
     "slide_type": "slide"
    }
   },
   "outputs": [
    {
     "data": {
      "text/latex": [
       "$\\displaystyle 1$"
      ],
      "text/plain": [
       "1"
      ]
     },
     "execution_count": 10,
     "metadata": {},
     "output_type": "execute_result"
    }
   ],
   "source": [
    "a*2"
   ]
  },
  {
   "cell_type": "code",
   "execution_count": 11,
   "id": "829359a1",
   "metadata": {
    "slideshow": {
     "slide_type": "slide"
    }
   },
   "outputs": [],
   "source": [
    "b = Rational(2,4)"
   ]
  },
  {
   "cell_type": "code",
   "execution_count": 12,
   "id": "66a745a7",
   "metadata": {
    "slideshow": {
     "slide_type": "slide"
    }
   },
   "outputs": [
    {
     "data": {
      "text/latex": [
       "$\\displaystyle 0$"
      ],
      "text/plain": [
       "0"
      ]
     },
     "execution_count": 12,
     "metadata": {},
     "output_type": "execute_result"
    }
   ],
   "source": [
    "a-b "
   ]
  },
  {
   "cell_type": "markdown",
   "id": "e6738a17",
   "metadata": {
    "slideshow": {
     "slide_type": "slide"
    }
   },
   "source": [
    "## [Primer video de apoyo para el estudio de los números racionales](https://www.youtube.com/watch?v=BAFDvhlXooc)"
   ]
  },
  {
   "cell_type": "code",
   "execution_count": null,
   "id": "75be9439",
   "metadata": {
    "slideshow": {
     "slide_type": "slide"
    }
   },
   "outputs": [],
   "source": []
  },
  {
   "cell_type": "code",
   "execution_count": null,
   "id": "25b876e0",
   "metadata": {
    "slideshow": {
     "slide_type": "slide"
    }
   },
   "outputs": [],
   "source": []
  },
  {
   "cell_type": "code",
   "execution_count": null,
   "id": "56e3e9c0",
   "metadata": {},
   "outputs": [],
   "source": []
  },
  {
   "cell_type": "code",
   "execution_count": null,
   "id": "e836f730",
   "metadata": {},
   "outputs": [],
   "source": []
  },
  {
   "cell_type": "code",
   "execution_count": null,
   "id": "2c0af24f",
   "metadata": {},
   "outputs": [],
   "source": []
  },
  {
   "cell_type": "markdown",
   "id": "ad3669c0",
   "metadata": {
    "slideshow": {
     "slide_type": "slide"
    }
   },
   "source": [
    "# Funciones"
   ]
  },
  {
   "cell_type": "markdown",
   "id": "9df562ea",
   "metadata": {
    "slideshow": {
     "slide_type": "slide"
    }
   },
   "source": [
    "Consideraciones teóricas y prácticas\n",
    "*\tConcepto de función.\n",
    "*\tDominio, codominio y rango de funciones, criterio de igualdad entre funciones.\n",
    "*\tFunciones: polinómicas, racionales, inversas, logarítmicas, exponenciales, trigonométricas, composición de funciones, funciones inyectivas, biyectivas, sobreyectivas, simetrías de funciones, función inversa, algebraicas, trascendentes, especiales: valor Absoluto, parte entera, segmentada o por tramos.\n",
    "*\tGráficas de funciones, transformación de gráficas de funciones.\n",
    "\n"
   ]
  },
  {
   "cell_type": "markdown",
   "id": "c61424c9",
   "metadata": {
    "slideshow": {
     "slide_type": "slide"
    }
   },
   "source": [
    "# Las funciones polinómicas"
   ]
  },
  {
   "cell_type": "markdown",
   "id": "8b02ce86",
   "metadata": {
    "slideshow": {
     "slide_type": "slide"
    }
   },
   "source": [
    "Consideraciones teóricas y prácticas  \n",
    "\n",
    "* Definiciones básicas.\n",
    "* Operaciones con polinomios.\n",
    "* Criterios de divisibilidad de polinomios.  \n",
    "* Algoritmo de la división y teorema del residuo.\n",
    "* Teorema fundamental del álgebra.\n",
    "* Ecuaciones, lineales y cuadráticas, y sistemas de ecuaciones.\n",
    "* Inecuaciones\n"
   ]
  },
  {
   "cell_type": "code",
   "execution_count": 5,
   "id": "ff7c0a2d",
   "metadata": {
    "slideshow": {
     "slide_type": "slide"
    }
   },
   "outputs": [],
   "source": [
    "import numpy as np \n",
    "import matplotlib.pyplot as plt  \n",
    "\n",
    "from ipywidgets import interact \n",
    "# grafico de las potencias de x\n",
    "dominio = np.arange(-3,4)\n",
    "\n",
    "n = 2 # potencia\n"
   ]
  },
  {
   "cell_type": "markdown",
   "id": "98cb960a",
   "metadata": {
    "slideshow": {
     "slide_type": "slide"
    }
   },
   "source": [
    "## Tareas de fijación de conceptos y adquisición de habilidades"
   ]
  },
  {
   "cell_type": "markdown",
   "id": "384cf541",
   "metadata": {},
   "source": []
  },
  {
   "cell_type": "markdown",
   "id": "c9ea2d61",
   "metadata": {
    "slideshow": {
     "slide_type": "slide"
    }
   },
   "source": [
    "## Posibles preguntas de quiz o parcial "
   ]
  },
  {
   "cell_type": "markdown",
   "id": "43c6c552",
   "metadata": {},
   "source": [
    "¿Cómo se grafican en diagrama de ven los números decimales?"
   ]
  },
  {
   "cell_type": "markdown",
   "id": "2c765770",
   "metadata": {},
   "source": [
    "Escriba la jerarquia de las operaciones "
   ]
  },
  {
   "cell_type": "markdown",
   "id": "bc3fd620",
   "metadata": {
    "slideshow": {
     "slide_type": "slide"
    }
   },
   "source": [
    "¿Quien es primero o tiene prelación: la división o la multiplicacion?"
   ]
  },
  {
   "cell_type": "markdown",
   "id": "e9b87c87",
   "metadata": {
    "slideshow": {
     "slide_type": "slide"
    }
   },
   "source": [
    "## [Video sobre asociatividad de la multiplicación y la división](https://www.youtube.com/watch?v=lEYPv9rH__Q)"
   ]
  },
  {
   "cell_type": "code",
   "execution_count": 12,
   "id": "ce43b2f5",
   "metadata": {
    "slideshow": {
     "slide_type": "slide"
    }
   },
   "outputs": [
    {
     "data": {
      "text/plain": [
       "4.0"
      ]
     },
     "execution_count": 12,
     "metadata": {},
     "output_type": "execute_result"
    }
   ],
   "source": [
    "8*2/4"
   ]
  },
  {
   "cell_type": "code",
   "execution_count": 13,
   "id": "2b1d7287",
   "metadata": {
    "slideshow": {
     "slide_type": "slide"
    }
   },
   "outputs": [
    {
     "data": {
      "text/plain": [
       "4.0"
      ]
     },
     "execution_count": 13,
     "metadata": {},
     "output_type": "execute_result"
    }
   ],
   "source": [
    "(8*2)/4"
   ]
  },
  {
   "cell_type": "code",
   "execution_count": 14,
   "id": "b5b652b8",
   "metadata": {
    "slideshow": {
     "slide_type": "slide"
    }
   },
   "outputs": [
    {
     "data": {
      "text/plain": [
       "4.0"
      ]
     },
     "execution_count": 14,
     "metadata": {},
     "output_type": "execute_result"
    }
   ],
   "source": [
    "8*(2/4)"
   ]
  },
  {
   "cell_type": "code",
   "execution_count": 15,
   "id": "dfe323ca",
   "metadata": {
    "slideshow": {
     "slide_type": "slide"
    }
   },
   "outputs": [
    {
     "data": {
      "text/plain": [
       "16.0"
      ]
     },
     "execution_count": 15,
     "metadata": {},
     "output_type": "execute_result"
    }
   ],
   "source": [
    "8/2*4"
   ]
  },
  {
   "cell_type": "code",
   "execution_count": 16,
   "id": "d8d41350",
   "metadata": {},
   "outputs": [
    {
     "data": {
      "text/plain": [
       "16.0"
      ]
     },
     "execution_count": 16,
     "metadata": {},
     "output_type": "execute_result"
    }
   ],
   "source": [
    "(8/2)*4"
   ]
  },
  {
   "cell_type": "code",
   "execution_count": 17,
   "id": "9a794258",
   "metadata": {},
   "outputs": [
    {
     "data": {
      "text/plain": [
       "1.0"
      ]
     },
     "execution_count": 17,
     "metadata": {},
     "output_type": "execute_result"
    }
   ],
   "source": [
    "8/(2*4)"
   ]
  },
  {
   "cell_type": "code",
   "execution_count": 19,
   "id": "a02065a3",
   "metadata": {
    "slideshow": {
     "slide_type": "slide"
    }
   },
   "outputs": [
    {
     "data": {
      "text/plain": [
       "False"
      ]
     },
     "execution_count": 19,
     "metadata": {},
     "output_type": "execute_result"
    }
   ],
   "source": [
    "8/(2*4) == 8*(0.5)*4"
   ]
  },
  {
   "cell_type": "code",
   "execution_count": 20,
   "id": "c457be92",
   "metadata": {
    "slideshow": {
     "slide_type": "slide"
    }
   },
   "outputs": [
    {
     "data": {
      "text/plain": [
       "True"
      ]
     },
     "execution_count": 20,
     "metadata": {},
     "output_type": "execute_result"
    }
   ],
   "source": [
    "(8*(0.5))*4 == 8*(0.5*4)"
   ]
  },
  {
   "cell_type": "markdown",
   "id": "09b793f4",
   "metadata": {
    "slideshow": {
     "slide_type": "slide"
    }
   },
   "source": [
    "## Referentes\n",
    "\n",
    "* Sympy: Matemáticas simbólicas en Python"
   ]
  },
  {
   "cell_type": "code",
   "execution_count": null,
   "id": "6062f094",
   "metadata": {},
   "outputs": [],
   "source": []
  }
 ],
 "metadata": {
  "celltoolbar": "Slideshow",
  "kernelspec": {
   "display_name": "Python 3 (ipykernel)",
   "language": "python",
   "name": "python3"
  },
  "language_info": {
   "codemirror_mode": {
    "name": "ipython",
    "version": 3
   },
   "file_extension": ".py",
   "mimetype": "text/x-python",
   "name": "python",
   "nbconvert_exporter": "python",
   "pygments_lexer": "ipython3",
   "version": "3.9.13"
  }
 },
 "nbformat": 4,
 "nbformat_minor": 5
}
