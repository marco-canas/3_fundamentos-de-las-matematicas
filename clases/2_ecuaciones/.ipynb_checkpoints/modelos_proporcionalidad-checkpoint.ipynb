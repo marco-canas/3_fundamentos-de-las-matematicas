{
 "cells": [
  {
   "cell_type": "markdown",
   "id": "30fc55d2",
   "metadata": {
    "slideshow": {
     "slide_type": "slide"
    }
   },
   "source": []
  },
  {
   "cell_type": "markdown",
   "id": "3f5bfe67",
   "metadata": {
    "slideshow": {
     "slide_type": "slide"
    }
   },
   "source": [
    "# 1.11 MODELOS CON EL USO DE VARIACIONES\n",
    "\n",
    "James Stewart \n",
    "\n",
    "Página 119 del precálculo edición 6. "
   ]
  },
  {
   "cell_type": "markdown",
   "id": "4de8970a",
   "metadata": {
    "slideshow": {
     "slide_type": "slide"
    }
   },
   "source": [
    "## Variación directa, variación inversa y variación conjunta"
   ]
  },
  {
   "cell_type": "markdown",
   "id": "b2e8681d",
   "metadata": {
    "slideshow": {
     "slide_type": "slide"
    }
   },
   "source": [
    "Cuando los científicos hablan de un modelo matemático para un fenómeno real, con frecuencia se refieren a una ecuación que describe la relación entre dos cantidades. "
   ]
  },
  {
   "cell_type": "markdown",
   "id": "379867aa",
   "metadata": {
    "slideshow": {
     "slide_type": "slide"
    }
   },
   "source": [
    "Por ejemplo, el modelo podría describir la forma en que la población de una especie animal varía con el tiempo, o el modo en que la presión de un gas varía a medida que cambia la temperatura."
   ]
  },
  {
   "cell_type": "markdown",
   "id": "c09e5f76",
   "metadata": {
    "slideshow": {
     "slide_type": "slide"
    }
   },
   "source": [
    "En esta sección estudiamos una clase de modelado llamado variación."
   ]
  },
  {
   "cell_type": "markdown",
   "id": "0e2d5e76",
   "metadata": {
    "slideshow": {
     "slide_type": "slide"
    }
   },
   "source": [
    "# Variación directa"
   ]
  },
  {
   "cell_type": "markdown",
   "id": "4701849f",
   "metadata": {
    "slideshow": {
     "slide_type": "slide"
    }
   },
   "source": [
    "Dos tipos de modelos matemáticos se presentan con tanta frecuencia que se les dan nombres especiales. "
   ]
  },
  {
   "cell_type": "markdown",
   "id": "ac7f074e",
   "metadata": {
    "slideshow": {
     "slide_type": "slide"
    }
   },
   "source": [
    "El primero de ellos se llama variación directa y ocurre cuando una cantidad es un múltiplo constante de la otra, de modo que usamos una ecuación de la forma $y = kx$ para modelar esta dependencia."
   ]
  },
  {
   "cell_type": "code",
   "execution_count": null,
   "id": "0194ad2b",
   "metadata": {
    "slideshow": {
     "slide_type": "slide"
    }
   },
   "outputs": [],
   "source": []
  },
  {
   "cell_type": "code",
   "execution_count": null,
   "id": "a0e921f7",
   "metadata": {},
   "outputs": [],
   "source": []
  },
  {
   "cell_type": "code",
   "execution_count": null,
   "id": "ac6490a3",
   "metadata": {},
   "outputs": [],
   "source": []
  },
  {
   "cell_type": "code",
   "execution_count": null,
   "id": "e474f5b3",
   "metadata": {},
   "outputs": [],
   "source": []
  },
  {
   "cell_type": "code",
   "execution_count": null,
   "id": "b5f9b5ce",
   "metadata": {},
   "outputs": [],
   "source": []
  },
  {
   "cell_type": "code",
   "execution_count": null,
   "id": "449f7df1",
   "metadata": {},
   "outputs": [],
   "source": []
  },
  {
   "cell_type": "code",
   "execution_count": null,
   "id": "312f44e4",
   "metadata": {},
   "outputs": [],
   "source": []
  },
  {
   "cell_type": "code",
   "execution_count": null,
   "id": "1db63a96",
   "metadata": {},
   "outputs": [],
   "source": []
  },
  {
   "cell_type": "code",
   "execution_count": null,
   "id": "3dcbab02",
   "metadata": {},
   "outputs": [],
   "source": []
  },
  {
   "cell_type": "code",
   "execution_count": null,
   "id": "cf65c9b4",
   "metadata": {},
   "outputs": [],
   "source": []
  },
  {
   "cell_type": "code",
   "execution_count": null,
   "id": "8c38f116",
   "metadata": {},
   "outputs": [],
   "source": []
  }
 ],
 "metadata": {
  "celltoolbar": "Slideshow",
  "kernelspec": {
   "display_name": "Python 3 (ipykernel)",
   "language": "python",
   "name": "python3"
  },
  "language_info": {
   "codemirror_mode": {
    "name": "ipython",
    "version": 3
   },
   "file_extension": ".py",
   "mimetype": "text/x-python",
   "name": "python",
   "nbconvert_exporter": "python",
   "pygments_lexer": "ipython3",
   "version": "3.9.12"
  }
 },
 "nbformat": 4,
 "nbformat_minor": 5
}
