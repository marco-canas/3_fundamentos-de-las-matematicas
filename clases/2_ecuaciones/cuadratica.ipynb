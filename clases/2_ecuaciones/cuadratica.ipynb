{
 "cells": [
  {
   "cell_type": "markdown",
   "id": "6a59ed56",
   "metadata": {
    "slideshow": {
     "slide_type": "slide"
    }
   },
   "source": [
    "<a href=\"https://colab.research.google.com/github/marco-canas/taca/blob/main/visualizacion_con_matplotlib.ipynb\" target=\"_parent\"><img src=\"https://colab.research.google.com/assets/colab-badge.svg\" alt=\"Open In Colab\"/></a>"
   ]
  },
  {
   "cell_type": "markdown",
   "id": "91290d22",
   "metadata": {
    "slideshow": {
     "slide_type": "slide"
    }
   },
   "source": [
    "## [Video de apoyo a la lectura, edición y experimentación de los presentado en este cuaderno]()"
   ]
  },
  {
   "cell_type": "markdown",
   "id": "00f9bd9d",
   "metadata": {
    "slideshow": {
     "slide_type": "slide"
    }
   },
   "source": [
    "# [La ecuación cuadrática resuelta con Python y de dos modos: Factorizando y utilizando la fórmula general.](https://jorgedelossantos.github.io/apuntes-python/SymPy.html)"
   ]
  },
  {
   "cell_type": "code",
   "execution_count": null,
   "id": "9f2ae3ac",
   "metadata": {
    "slideshow": {
     "slide_type": "slide"
    }
   },
   "outputs": [],
   "source": [
    "from sympy import *"
   ]
  },
  {
   "cell_type": "markdown",
   "id": "b9d68614",
   "metadata": {
    "slideshow": {
     "slide_type": "slide"
    }
   },
   "source": [
    "Adicionalmente dentro del entorno de Jupyter podemos ejecutar la siguiente instrucción que permite renderizar las expresiones resultantes."
   ]
  },
  {
   "cell_type": "code",
   "execution_count": 15,
   "id": "ca2df538",
   "metadata": {
    "slideshow": {
     "slide_type": "slide"
    }
   },
   "outputs": [],
   "source": [
    "from sympy import init_printing, symbols, factor\n",
    "init_printing() "
   ]
  },
  {
   "cell_type": "markdown",
   "id": "643c069e",
   "metadata": {
    "slideshow": {
     "slide_type": "slide"
    }
   },
   "source": [
    "## 12.1. Variables simbólicas"
   ]
  },
  {
   "cell_type": "markdown",
   "id": "fb780b66",
   "metadata": {
    "slideshow": {
     "slide_type": "slide"
    }
   },
   "source": [
    "Las variables simbólicas son el alma de SymPy, todas las operaciones de álgebra simbólica se basan en estas. A una variable simbólica se le asigna un símbolo que la representa mediante la función symbols:"
   ]
  },
  {
   "cell_type": "code",
   "execution_count": 8,
   "id": "dc428b41",
   "metadata": {
    "slideshow": {
     "slide_type": "slide"
    }
   },
   "outputs": [
    {
     "name": "stdout",
     "output_type": "stream",
     "text": [
      "<class 'sympy.core.symbol.Symbol'>\n"
     ]
    }
   ],
   "source": [
    "x = symbols(\"x\")\n",
    "print(type(x))"
   ]
  },
  {
   "cell_type": "markdown",
   "id": "0b23d904",
   "metadata": {
    "slideshow": {
     "slide_type": "slide"
    }
   },
   "source": [
    "Con la función `symbols` se define una nueva variable simbólica que se guarda en `x`, se verifica que se crea un objeto de la clase `Symbol`. Con la variable `x` ya definida se puede comenzar a formar expresiones algebraicas y manipular matemáticamente."
   ]
  },
  {
   "cell_type": "code",
   "execution_count": 9,
   "id": "2fb605ba",
   "metadata": {
    "slideshow": {
     "slide_type": "slide"
    }
   },
   "outputs": [
    {
     "data": {
      "image/png": "[encoded data removed]",
      "text/latex": [
       "$\\displaystyle x + 2$"
      ],
      "text/plain": [
       "x + 2"
      ]
     },
     "execution_count": 9,
     "metadata": {},
     "output_type": "execute_result"
    }
   ],
   "source": [
    "x+2"
   ]
  },
  {
   "cell_type": "code",
   "execution_count": 10,
   "id": "9bc82041",
   "metadata": {
    "slideshow": {
     "slide_type": "slide"
    }
   },
   "outputs": [
    {
     "data": {
      "image/png": "[encoded data removed]",
      "text/latex": [
       "$\\displaystyle x^{2} - 2 x - 10$"
      ],
      "text/plain": [
       " 2           \n",
       "x  - 2⋅x - 10"
      ]
     },
     "execution_count": 10,
     "metadata": {},
     "output_type": "execute_result"
    }
   ],
   "source": [
    "x**2 - 2*x - 10 # Una ecuación cuadrática"
   ]
  },
  {
   "cell_type": "markdown",
   "id": "de000915",
   "metadata": {},
   "source": [
    "## 12.2. Manipulación algebraica\n",
    "\n",
    "SymPy es una poderosa herramienta de manipulación y simplificación algebraica, en lo subsiguiente se revisarán algunos casos elementales y se describirá el uso de las herramientas (funciones) que proporciona.\n",
    "\n",
    "En primera instancia se definen algunas variables simbólicas a utilizar:"
   ]
  },
  {
   "cell_type": "markdown",
   "id": "d6797074",
   "metadata": {
    "slideshow": {
     "slide_type": "slide"
    }
   },
   "source": [
    "Para las expresiones algebraicas formadas en SymPy por default se evalúan y simplifican los términos semejantes. Vea los siguientes casos:"
   ]
  },
  {
   "cell_type": "code",
   "execution_count": 11,
   "id": "38617cd4",
   "metadata": {
    "slideshow": {
     "slide_type": "slide"
    }
   },
   "outputs": [
    {
     "data": {
      "image/png": "[encoded data removed]",
      "text/latex": [
       "$\\displaystyle 5 x^{3} - 9 x^{2} - 5 x - 10$"
      ],
      "text/plain": [
       "   3      2           \n",
       "5⋅x  - 9⋅x  - 5⋅x - 10"
      ]
     },
     "execution_count": 11,
     "metadata": {},
     "output_type": "execute_result"
    }
   ],
   "source": [
    "x**2 + 5*x**3 - 10*x**2 + 5*x - 10*(x + 1)"
   ]
  },
  {
   "cell_type": "code",
   "execution_count": 13,
   "id": "e6ec96f6",
   "metadata": {
    "slideshow": {
     "slide_type": "slide"
    }
   },
   "outputs": [
    {
     "data": {
      "image/png": "[encoded data removed]",
      "text/latex": [
       "$\\displaystyle - 6 a b + c d + \\frac{x}{y}$"
      ],
      "text/plain": [
       "               x\n",
       "-6⋅a⋅b + c⋅d + ─\n",
       "               y"
      ]
     },
     "execution_count": 13,
     "metadata": {},
     "output_type": "execute_result"
    }
   ],
   "source": [
    "from sympy.abc import a,b,c,d,y\n",
    "a*b + c*d + x/y - 7*a*b"
   ]
  },
  {
   "cell_type": "markdown",
   "id": "ec804f76",
   "metadata": {
    "slideshow": {
     "slide_type": "slide"
    }
   },
   "source": [
    "Naturalmente para simplificaciones y operaciones un poco menos obvias, habrá que especificarle lo que se requiere.\n",
    "\n",
    "Una de las operaciones elementales de simplificación en álgebra es la factorización, SymPy dispone de la función factor, la cual toma una expresión algebraica y la factoriza conforme sea posible. Por ejemplo, suponiendo que se tiene la expresión ab+ac\n",
    ", es sencillo identificar que se puede\n",
    "factorizar como a(b+c), SymPy hace lo mismo sin sobresalto alguno."
   ]
  },
  {
   "cell_type": "code",
   "execution_count": 16,
   "id": "95716781",
   "metadata": {
    "slideshow": {
     "slide_type": "slide"
    }
   },
   "outputs": [
    {
     "data": {
      "image/png": "[encoded data removed]",
      "text/latex": [
       "$\\displaystyle a \\left(b + c\\right)$"
      ],
      "text/plain": [
       "a⋅(b + c)"
      ]
     },
     "execution_count": 16,
     "metadata": {},
     "output_type": "execute_result"
    }
   ],
   "source": [
    "factor(a*b + a*c)"
   ]
  },
  {
   "cell_type": "markdown",
   "id": "ffda6ad7",
   "metadata": {
    "slideshow": {
     "slide_type": "slide"
    }
   },
   "source": [
    "Así, para un binomio al cuadrado se sabe que, (a+b)(a+b) es la factorización de una expresión del tipo $a^{2}+2ab+b^{2}$."
   ]
  },
  {
   "cell_type": "code",
   "execution_count": 17,
   "id": "0c6985d7",
   "metadata": {},
   "outputs": [
    {
     "data": {
      "image/png": "[encoded data removed]",
      "text/latex": [
       "$\\displaystyle \\left(a + b\\right)^{2}$"
      ],
      "text/plain": [
       "       2\n",
       "(a + b) "
      ]
     },
     "execution_count": 17,
     "metadata": {},
     "output_type": "execute_result"
    }
   ],
   "source": [
    "factor(a**2+2*a*b + b**2)"
   ]
  },
  {
   "cell_type": "markdown",
   "id": "e03de8c9",
   "metadata": {},
   "source": [
    "¿Se puede hacer el proceso inverso, es decir, dados dos factores obtener su expresión expandida? Por supuesto, para ello se hace uso de la función expand."
   ]
  },
  {
   "cell_type": "code",
   "execution_count": 19,
   "id": "f2ff1b0a",
   "metadata": {
    "slideshow": {
     "slide_type": "slide"
    }
   },
   "outputs": [
    {
     "data": {
      "image/png": "[encoded data removed]",
      "text/latex": [
       "$\\displaystyle a^{2} + 2 a b + b^{2}$"
      ],
      "text/plain": [
       " 2            2\n",
       "a  + 2⋅a⋅b + b "
      ]
     },
     "execution_count": 19,
     "metadata": {},
     "output_type": "execute_result"
    }
   ],
   "source": [
    "from sympy import * \n",
    "expand((a+b)**2)"
   ]
  },
  {
   "cell_type": "markdown",
   "id": "78b75218",
   "metadata": {
    "slideshow": {
     "slide_type": "slide"
    }
   },
   "source": [
    "De manera general, si requiere simplificar una expresión algebraica SymPy dispone de una función más o menos universal que funcionará en la mayoría de los casos: simplify. Por ejemplo, suponiendo que se tiene la siguiente expresión algebraica racional y se requiere reducir lo más posible:"
   ]
  },
  {
   "cell_type": "code",
   "execution_count": null,
   "id": "61751244",
   "metadata": {
    "slideshow": {
     "slide_type": "slide"
    }
   },
   "outputs": [],
   "source": []
  },
  {
   "cell_type": "code",
   "execution_count": null,
   "id": "16e5e856",
   "metadata": {
    "slideshow": {
     "slide_type": "slide"
    }
   },
   "outputs": [],
   "source": []
  },
  {
   "cell_type": "code",
   "execution_count": null,
   "id": "556d13b5",
   "metadata": {},
   "outputs": [],
   "source": []
  },
  {
   "cell_type": "code",
   "execution_count": null,
   "id": "e7314419",
   "metadata": {},
   "outputs": [],
   "source": []
  },
  {
   "cell_type": "code",
   "execution_count": null,
   "id": "7de003c1",
   "metadata": {},
   "outputs": [],
   "source": []
  },
  {
   "cell_type": "markdown",
   "id": "ad6d4148",
   "metadata": {},
   "source": [
    "## Referentes  \n",
    "\n",
    "* sympy como calculadora simbólica: https://jorgedelossantos.github.io/apuntes-python/SymPy.html"
   ]
  },
  {
   "cell_type": "code",
   "execution_count": null,
   "id": "5db7a3f3",
   "metadata": {},
   "outputs": [],
   "source": []
  }
 ],
 "metadata": {
  "celltoolbar": "Slideshow",
  "kernelspec": {
   "display_name": "Python 3 (ipykernel)",
   "language": "python",
   "name": "python3"
  },
  "language_info": {
   "codemirror_mode": {
    "name": "ipython",
    "version": 3
   },
   "file_extension": ".py",
   "mimetype": "text/x-python",
   "name": "python",
   "nbconvert_exporter": "python",
   "pygments_lexer": "ipython3",
   "version": "3.9.12"
  },
  "rise": {
   "theme": "sky"
  }
 },
 "nbformat": 4,
 "nbformat_minor": 5
}
