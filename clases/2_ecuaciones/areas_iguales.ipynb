{
 "cells": [
  {
   "cell_type": "markdown",
   "id": "45408dcb",
   "metadata": {
    "id": "45408dcb",
    "slideshow": {
     "slide_type": "slide"
    }
   },
   "source": [
    "<table align=\"left\">\n",
    "  <td>\n",
    "<a href=\"https://colab.research.google.com/github/marco-canas/fundamentos-de-las-matematicas/blob/main/clases/modelado.ipynb\" target=\"_parent\"><img src=\"https://colab.research.google.com/assets/colab-badge.svg\" alt=\"Open In Colab\"/></a>\n",
    " </td>\n",
    "</table>"
   ]
  },
  {
   "cell_type": "markdown",
   "id": "ad17bade",
   "metadata": {
    "id": "ad17bade",
    "slideshow": {
     "slide_type": "slide"
    }
   },
   "source": [
    "## [Video de apoyo a la lectura interactiva y experimental de este cuaderno](https://www.youtube.com/watch?v=co0tUON9Yj0)"
   ]
  },
  {
   "cell_type": "markdown",
   "id": "248ab81f",
   "metadata": {
    "id": "248ab81f",
    "slideshow": {
     "slide_type": "slide"
    }
   },
   "source": [
    "# Modelado mediante ecuaciones"
   ]
  },
  {
   "cell_type": "markdown",
   "id": "87d105f8",
   "metadata": {
    "id": "87d105f8",
    "slideshow": {
     "slide_type": "slide"
    }
   },
   "source": [
    "Muchos de los problemas de las ciencias, economía, finanzas, medicina y otros numerosos campos se pueden traducir a problemas de álgebra. "
   ]
  },
  {
   "cell_type": "markdown",
   "id": "6ee74a8b",
   "metadata": {
    "id": "6ee74a8b",
    "slideshow": {
     "slide_type": "slide"
    }
   },
   "source": [
    "Ésta es una razón por la que el álgebra es tan útil. "
   ]
  },
  {
   "cell_type": "markdown",
   "id": "c7c1d1f3",
   "metadata": {
    "id": "c7c1d1f3",
    "slideshow": {
     "slide_type": "slide"
    }
   },
   "source": [
    "En esta sección usamos las ecuaciones como modelos matemáticos para resolver problemas de la vida cotidiana."
   ]
  },
  {
   "cell_type": "markdown",
   "id": "82901d18",
   "metadata": {
    "id": "82901d18",
    "slideshow": {
     "slide_type": "slide"
    }
   },
   "source": [
    "# Criterios para modelar con ecuaciones"
   ]
  },
  {
   "cell_type": "markdown",
   "id": "3fe9b3f3",
   "metadata": {
    "id": "3fe9b3f3",
    "slideshow": {
     "slide_type": "slide"
    }
   },
   "source": [
    "Se aplican los siguientes criterios para plantear ecuaciones que modelen situaciones formuladas en palabras. "
   ]
  },
  {
   "cell_type": "markdown",
   "id": "c6fb218b",
   "metadata": {
    "id": "c6fb218b"
   },
   "source": [
    "# Criterios para modelar con ecuaciones"
   ]
  },
  {
   "cell_type": "markdown",
   "id": "c7fce106",
   "metadata": {
    "id": "c7fce106"
   },
   "source": [
    "1. Identificar la variable. Identifique la cantidad que el problema le pide determinar. Por lo regular, esta cantidad se puede determinar por medio de una lectura cuidadosa de la pregunta planteada al final del problema. Entonces introduzca la notación para la variable (llámela x o cualquier otro nombre)."
   ]
  },
  {
   "cell_type": "markdown",
   "id": "219969a4",
   "metadata": {
    "id": "219969a4",
    "slideshow": {
     "slide_type": "slide"
    }
   },
   "source": [
    "2. Expresar todas las incógnitas en términos de la variable. Lea una vez\n",
    "más cada oración del problema, y exprese todas las cantidades mencionadas\n",
    "en el problema en términos de la variable que definió en el paso 1. Para organizar\n",
    "esta información, a veces es útil dibujar un esquema o elaborar\n",
    "una tabla."
   ]
  },
  {
   "cell_type": "markdown",
   "id": "b6ed3ccb",
   "metadata": {
    "id": "b6ed3ccb",
    "slideshow": {
     "slide_type": "slide"
    }
   },
   "source": [
    "3. Plantear el modelo. Encuentre el hecho decisivo en el problema que relaciona las expresiones que usted listó en el paso 2. Plantee una ecuación o modelo, que exprese esta relación."
   ]
  },
  {
   "cell_type": "markdown",
   "id": "a4c9d05a",
   "metadata": {
    "id": "a4c9d05a",
    "slideshow": {
     "slide_type": "slide"
    }
   },
   "source": [
    "4. Resuelva la ecuación y compruebe su respuesta. Resuelva la ecuación, verifique la respuesta y exprésela como una oración que responde a la pregunta hecha en el problema."
   ]
  },
  {
   "cell_type": "markdown",
   "id": "05fd5837",
   "metadata": {
    "id": "05fd5837"
   },
   "source": [
    "El ejemplo siguiente ilustra la manera en que estos criterios se aplican para traducir el enunciado de un problema al lenguaje del álgebra."
   ]
  },
  {
   "cell_type": "markdown",
   "id": "8fb4d51c",
   "metadata": {
    "id": "8fb4d51c"
   },
   "source": [
    "# Ejemplo 1 Renta de un automóvil"
   ]
  },
  {
   "cell_type": "markdown",
   "id": "20340245",
   "metadata": {
    "id": "20340245",
    "slideshow": {
     "slide_type": "slide"
    }
   },
   "source": [
    "Una compañía que renta automóviles cobra 30 dólares al día más 15 centavos de dólar por milla al rentar un automóvil. Helen renta un automóvil por dos días y su cuenta es de 108 dólares. ¿Cuántas millas recorrió?"
   ]
  },
  {
   "cell_type": "markdown",
   "id": "36d0b69a",
   "metadata": {
    "id": "36d0b69a",
    "slideshow": {
     "slide_type": "slide"
    }
   },
   "source": [
    "### Solución:"
   ]
  },
  {
   "cell_type": "markdown",
   "id": "5746b8ae",
   "metadata": {
    "id": "5746b8ae",
    "slideshow": {
     "slide_type": "slide"
    }
   },
   "source": [
    "#### Identifique la variable "
   ]
  },
  {
   "cell_type": "markdown",
   "id": "2bbe0564",
   "metadata": {
    "id": "2bbe0564",
    "slideshow": {
     "slide_type": "slide"
    }
   },
   "source": [
    "Se pide determinar la cantidad de millas que Helen recorrió. Entonces\n",
    "sea\n",
    "x \u0002 cantidad de millas recorridas\n",
    "Luego traducimos toda la información del problema al lenguaje del álgebra."
   ]
  },
  {
   "cell_type": "code",
   "execution_count": null,
   "id": "c8dedb82",
   "metadata": {
    "id": "c8dedb82",
    "slideshow": {
     "slide_type": "slide"
    }
   },
   "outputs": [],
   "source": []
  },
  {
   "cell_type": "markdown",
   "id": "3d03c4a1",
   "metadata": {
    "id": "3d03c4a1",
    "slideshow": {
     "slide_type": "slide"
    }
   },
   "source": [
    "# Problema sobre igualdad de área y diferencia de perímetro"
   ]
  },
  {
   "cell_type": "markdown",
   "id": "3ae90e1a",
   "metadata": {
    "id": "3ae90e1a",
    "slideshow": {
     "slide_type": "slide"
    }
   },
   "source": [
    "Un alambre de 100 metros de largo se corta en dos partes.   \n",
    "\n",
    "Con una parte se forma un cuadrado y con la otra un círculo.   \n",
    "Si las dos figuras tienen la misma área, ¿cuánto miden de largo los dos trozos de alambre?   \n",
    "\n",
    "Exprese los resultados a la décima más cercana de un metro."
   ]
  },
  {
   "cell_type": "code",
   "execution_count": null,
   "id": "778e67ee",
   "metadata": {
    "id": "778e67ee",
    "outputId": "5193ec23-e32c-41be-fd25-fc2799b02ee8",
    "slideshow": {
     "slide_type": "slide"
    }
   },
   "outputs": [
    {
     "data": {
      "image/png": "[encoded data removed]",
      "text/plain": [
       "<Figure size 432x288 with 2 Axes>"
      ]
     },
     "metadata": {
      "needs_background": "light"
     },
     "output_type": "display_data"
    }
   ],
   "source": [
    "import numpy as np \n",
    "import matplotlib.pyplot as plt \n",
    "theta = np.linspace(0,2*np.pi)\n",
    "\n",
    "x = np.cos(theta)\n",
    "y = np.sin(theta)\n",
    "\n",
    "plt.subplot(1,2,1)\n",
    "plt.plot(x,y)\n",
    "plt.axis('equal')\n",
    "plt.grid(alpha = 0.3)\n",
    "\n",
    "plt.subplot(1,2,2)\n",
    "plt.plot([0,1,1,0,0],[0,0,1,1,0])\n",
    "plt.axis('equal')\n",
    "plt.grid(alpha = 0.3)\n",
    "\n",
    "\n",
    "plt.savefig('circulo_cuadrado.jpg')\n",
    "\n",
    "plt.show()"
   ]
  },
  {
   "cell_type": "markdown",
   "id": "b9ba205c",
   "metadata": {
    "id": "b9ba205c",
    "slideshow": {
     "slide_type": "slide"
    }
   },
   "source": [
    "Sea $r$ el radio de la circunferencia y $l$ el lado del cuadrado. "
   ]
  },
  {
   "cell_type": "markdown",
   "id": "l3h0w8HinoTi",
   "metadata": {
    "id": "l3h0w8HinoTi",
    "slideshow": {
     "slide_type": "slide"
    }
   },
   "source": [
    "# Construyamos un modelo propio"
   ]
  },
  {
   "cell_type": "markdown",
   "id": "eO0R2m6wnsEZ",
   "metadata": {
    "id": "eO0R2m6wnsEZ",
    "slideshow": {
     "slide_type": "slide"
    }
   },
   "source": [
    "# El problema isoperimétrico\n",
    "\n",
    "$$ x = \\frac{-b \\pm \\sqrt{b^{2} - 4ac}}{2a} $$"
   ]
  },
  {
   "cell_type": "markdown",
   "id": "pP7EJiaCns6f",
   "metadata": {
    "id": "pP7EJiaCns6f",
    "slideshow": {
     "slide_type": "slide"
    }
   },
   "source": [
    "Tenemos un circulo y un cuadrado de igual perímetro y tal perímetro es de 1000 metros. ¿Será que tienen la misma área?"
   ]
  },
  {
   "cell_type": "markdown",
   "id": "9awrphpInvK-",
   "metadata": {
    "id": "9awrphpInvK-",
    "slideshow": {
     "slide_type": "slide"
    }
   },
   "source": [
    "el modelo\n",
    "$$ 2\\pi r = 4l = 1000 $$\n",
    "\n"
   ]
  },
  {
   "cell_type": "markdown",
   "id": "ABNBdwZssqtE",
   "metadata": {
    "id": "ABNBdwZssqtE",
    "slideshow": {
     "slide_type": "slide"
    }
   },
   "source": [
    "$$ 2\\pi r = 1000 $$\n",
    "$$ 4l = 1000 $$\n",
    "\n",
    "$$ area-circular = \\pi \\left( \\frac{1000}{2\\pi} \\right)^{2} $$\n",
    "\n",
    "$$ area-cuadrado = l^{2} = 250^{2} $$"
   ]
  },
  {
   "cell_type": "code",
   "execution_count": 18,
   "id": "PIuZ6UFtt4ag",
   "metadata": {
    "colab": {
     "base_uri": "https://localhost:8080/"
    },
    "id": "PIuZ6UFtt4ag",
    "outputId": "7390a861-99ee-4028-e0e3-800ad29f2f0e",
    "slideshow": {
     "slide_type": "slide"
    }
   },
   "outputs": [
    {
     "name": "stdout",
     "output_type": "stream",
     "text": [
      "área corral circular es:  79577.4715459477 El área del terreno cuadrado es:  62500\n"
     ]
    }
   ],
   "source": [
    "from sympy import *  \n",
    "area_circular = pi*(1000/(2*pi))**2\n",
    "area_cuadrado = 250**2\n",
    "print('área corral circular es: ', area_circular.evalf(), 'El área del terreno cuadrado es: ', area_cuadrado) "
   ]
  },
  {
   "cell_type": "markdown",
   "id": "BXsfZ9ehvTmP",
   "metadata": {
    "id": "BXsfZ9ehvTmP",
    "slideshow": {
     "slide_type": "slide"
    }
   },
   "source": [
    "### Conclusión:\n",
    "\n",
    "los dos terrenos no tienen la misma área, de hecho el área del corral cuircular es mucho más grande que el área del corral cuadrado. \n",
    "\n",
    "Pero, la construcción de correles ciuadrado es más fácil. "
   ]
  },
  {
   "cell_type": "code",
   "execution_count": 12,
   "id": "WVcFdMOunx_2",
   "metadata": {
    "colab": {
     "base_uri": "https://localhost:8080/",
     "height": 37
    },
    "id": "WVcFdMOunx_2",
    "outputId": "d53104b7-5c6b-4d2e-d313-9a9d87fe1680"
   },
   "outputs": [
    {
     "data": {
      "text/latex": [
       "$\\displaystyle -5$"
      ],
      "text/plain": [
       "-5"
      ]
     },
     "execution_count": 12,
     "metadata": {},
     "output_type": "execute_result"
    }
   ],
   "source": [
    "from sympy import *     # llama a la librería que resuelve ecuación \n",
    "x= var('x')             # define la variable del modelo \n",
    "ecuacion = Eq(x+5,0)    # entrega la ecuación \n",
    "solve(ecuacion, x)[0]   # le pide a sympy que resuelva la ecuación. \n",
    "\n"
   ]
  },
  {
   "cell_type": "markdown",
   "id": "12cc8efc",
   "metadata": {
    "id": "12cc8efc",
    "slideshow": {
     "slide_type": "slide"
    }
   },
   "source": [
    "# 54. Problema de mezclas   \n",
    "\n",
    "Un olla contiene 6 litros de salmuera a una concentración de 120 g/L.   \n",
    "¿Cuánta agua se debe evaporar por ebullición para que la concentración sea de 200 g/L?"
   ]
  },
  {
   "cell_type": "markdown",
   "id": "de5cc318",
   "metadata": {
    "id": "de5cc318",
    "slideshow": {
     "slide_type": "slide"
    }
   },
   "source": [
    "## Representación gráfica del problema"
   ]
  },
  {
   "cell_type": "markdown",
   "id": "263878a2",
   "metadata": {
    "id": "263878a2",
    "slideshow": {
     "slide_type": "slide"
    }
   },
   "source": [
    "## Identificación de conceptos asociados al problema"
   ]
  },
  {
   "cell_type": "markdown",
   "id": "d306e562",
   "metadata": {
    "id": "d306e562",
    "slideshow": {
     "slide_type": "slide"
    }
   },
   "source": [
    "* Definición de concentración de un soluto en un solvente"
   ]
  },
  {
   "cell_type": "code",
   "execution_count": null,
   "id": "91b1dd41",
   "metadata": {
    "id": "91b1dd41",
    "slideshow": {
     "slide_type": "slide"
    }
   },
   "outputs": [],
   "source": []
  },
  {
   "cell_type": "code",
   "execution_count": 2,
   "id": "c2875238",
   "metadata": {
    "id": "c2875238",
    "slideshow": {
     "slide_type": "slide"
    }
   },
   "outputs": [
    {
     "data": {
      "text/latex": [
       "$\\displaystyle 12.4136642713985$"
      ],
      "text/plain": [
       "12.4136642713985"
      ]
     },
     "execution_count": 2,
     "metadata": {},
     "output_type": "execute_result"
    }
   ],
   "source": [
    "from sympy import * \n",
    "100/(2*pi+ sqrt(pi)).evalf()"
   ]
  },
  {
   "cell_type": "markdown",
   "id": "6a14f41d",
   "metadata": {
    "slideshow": {
     "slide_type": "slide"
    }
   },
   "source": [
    "# El módulo Solvers de SymPy"
   ]
  },
  {
   "cell_type": "markdown",
   "id": "3491fc20",
   "metadata": {
    "id": "3491fc20",
    "slideshow": {
     "slide_type": "slide"
    }
   },
   "source": [
    "# Solvers\n",
    "\n",
    "El módulo `solvers` en SymPy implementa métodos para resolver ecuaciones."
   ]
  },
  {
   "cell_type": "markdown",
   "id": "3ed27a0c",
   "metadata": {
    "id": "a8fb0f75",
    "slideshow": {
     "slide_type": "slide"
    }
   },
   "source": [
    "## Note\n",
    "\n",
    "`solve()` es una función general más antigua y madura para resolver muchos tipos de ecuaciones."
   ]
  },
  {
   "cell_type": "markdown",
   "id": "a8fb0f75",
   "metadata": {
    "id": "a8fb0f75",
    "slideshow": {
     "slide_type": "slide"
    }
   },
   "source": [
    "`solve()` tiene muchas opciones y usa diferentes métodos internamente para determinar qué tipo de ecuaciones le pasas, así que si sabes con qué tipo de ecuación estás tratando,   \n",
    "* quizás quieras usar el nuevo `solveset()` que resuelve univariado ecuaciones, \n",
    "* `linsolve()` que resuelve sistemas de ecuaciones lineales y \n",
    "* `nonlinsolve()` que resuelve sistemas de ecuaciones no lineales."
   ]
  },
  {
   "cell_type": "markdown",
   "id": "c50b0f8e",
   "metadata": {
    "id": "c50b0f8e",
    "slideshow": {
     "slide_type": "slide"
    }
   },
   "source": [
    "## Algebraic equations"
   ]
  },
  {
   "cell_type": "markdown",
   "id": "ae546f69",
   "metadata": {
    "id": "8f60d6cd",
    "slideshow": {
     "slide_type": "slide"
    }
   },
   "source": [
    "Use `solve()` to solve algebraic equations. "
   ]
  },
  {
   "cell_type": "markdown",
   "id": "8f60d6cd",
   "metadata": {
    "id": "8f60d6cd",
    "slideshow": {
     "slide_type": "slide"
    }
   },
   "source": [
    "Suponemos que todas las ecuaciones están igualadas a 0, por lo que resolver $x^{2} = 1$ se traduce en el siguiente código:"
   ]
  },
  {
   "cell_type": "code",
   "execution_count": null,
   "id": "40bb8db9",
   "metadata": {
    "id": "40bb8db9",
    "outputId": "47a5827a-4546-4bb7-ec26-404dd44e31f9",
    "slideshow": {
     "slide_type": "slide"
    }
   },
   "outputs": [
    {
     "data": {
      "text/plain": [
       "[-1, 1]"
      ]
     },
     "execution_count": 1,
     "metadata": {},
     "output_type": "execute_result"
    }
   ],
   "source": [
    "from sympy.solvers import solve\n",
    "\n",
    "from sympy import Symbol\n",
    "\n",
    "x = Symbol('x')\n",
    "\n",
    "solve(x**2 - 1, x)"
   ]
  },
  {
   "cell_type": "markdown",
   "id": "7bf8b356",
   "metadata": {
    "id": "348f5cc8",
    "slideshow": {
     "slide_type": "slide"
    }
   },
   "source": [
    "El primer argumento para `solve()` es una ecuación (igual a cero) y el segundo argumento es el símbolo para el que queremos resolver la ecuación."
   ]
  },
  {
   "cell_type": "markdown",
   "id": "544de869",
   "metadata": {
    "id": "348f5cc8",
    "slideshow": {
     "slide_type": "slide"
    }
   },
   "source": [
    "`sympy.solvers.solvers.solve(f, *symbols, **flags)`"
   ]
  },
  {
   "cell_type": "markdown",
   "id": "5aa10eef",
   "metadata": {
    "id": "348f5cc8",
    "slideshow": {
     "slide_type": "slide"
    }
   },
   "source": [
    "Algebraically solves equations and systems of equations."
   ]
  },
  {
   "cell_type": "markdown",
   "id": "348f5cc8",
   "metadata": {
    "id": "348f5cc8",
    "slideshow": {
     "slide_type": "slide"
    }
   },
   "source": [
    "## Parameters:\n",
    "\n",
    "    f :\n",
    "\n",
    "            a single Expr or Poly that must be zero\n",
    "\n",
    "            an Equality\n",
    "\n",
    "            a Relational expression\n",
    "\n",
    "            a Boolean\n",
    "\n",
    "            iterable of one or more of the above\n",
    "\n",
    "    symbols : (object(s) to solve for) specified as\n",
    "\n",
    "            none given (other non-numeric objects will be used)\n",
    "\n",
    "            single symbol\n",
    "\n",
    "            denested list of symbols (e.g., solve(f, x, y))\n",
    "\n",
    "            ordered iterable of symbols (e.g., solve(f, [x, y]))\n",
    "\n",
    "    flags :\n",
    "\n",
    "        dict=True (default is False)\n",
    "\n",
    "            Return list (perhaps empty) of solution mappings.\n",
    "        set=True (default is False)\n",
    "\n",
    "            Return list of symbols and set of tuple(s) of solution(s).\n",
    "        exclude=[] (default)\n",
    "\n",
    "            Do not try to solve for any of the free symbols in exclude; if expressions are given, the free symbols in them will be extracted automatically.\n",
    "        check=True (default)\n",
    "\n",
    "            If False, do not do any testing of solutions. This can be useful if you want to include solutions that make any denominator zero.\n",
    "        numerical=True (default)\n",
    "\n",
    "            Do a fast numerical check if f has only one symbol.\n",
    "        minimal=True (default is False)\n",
    "\n",
    "            A very fast, minimal testing.\n",
    "        warn=True (default is False)\n",
    "\n",
    "            Show a warning if checksol() could not conclude.\n",
    "        simplify=True (default)\n",
    "\n",
    "            Simplify all but polynomials of order 3 or greater before returning them and (if check is not False) use the general simplify function on the solutions and the expression obtained when they are substituted into the function which should be zero.\n",
    "        force=True (default is False)\n",
    "\n",
    "            Make positive all symbols without assumptions regarding sign.\n",
    "        rational=True (default)\n",
    "\n",
    "            Recast Floats as Rational; if this option is not used, the system containing Floats may fail to solve because of issues with polys. If rational=None, Floats will be recast as rationals but the answer will be recast as Floats. If the flag is False then nothing will be done to the Floats.\n",
    "        manual=True (default is False)\n",
    "\n",
    "            Do not use the polys/matrix method to solve a system of equations, solve them one at a time as you might “manually.”\n",
    "        implicit=True (default is False)\n",
    "\n",
    "            Allows solve to return a solution for a pattern in terms of other functions that contain that pattern; this is only needed if the pattern is inside of some invertible function like cos, exp, ect.\n",
    "        particular=True (default is False)\n",
    "\n",
    "            Instructs solve to try to find a particular solution to a linear system with as many zeros as possible; this is very expensive.\n",
    "        quick=True (default is False; particular must be True)\n",
    "\n",
    "            Selects a fast heuristic to find a solution with many zeros whereas a value of False uses the very slow method guaranteed to find the largest number of zeros possible.\n",
    "        cubics=True (default)\n",
    "\n",
    "            Return explicit solutions when cubic expressions are encountered. When False, quartics and quintics are disabled, too.\n",
    "        quartics=True (default)\n",
    "\n",
    "            Return explicit solutions when quartic expressions are encountered. When False, quintics are disabled, too.\n",
    "        quintics=True (default)\n",
    "\n",
    "            Return explicit solutions (if possible) when quintic expressions are encountered.\n",
    "\n",
    "Explanation\n",
    "\n",
    "Currently supported:\n",
    "\n",
    "        polynomial\n",
    "\n",
    "        transcendental\n",
    "\n",
    "        piecewise combinations of the above\n",
    "\n",
    "        systems of linear and polynomial equations\n",
    "\n",
    "        systems containing relational expressions\n",
    "\n",
    "Examples\n",
    "\n",
    "The output varies according to the input and can be seen by example:"
   ]
  },
  {
   "cell_type": "code",
   "execution_count": null,
   "id": "4d311030",
   "metadata": {
    "id": "4d311030",
    "slideshow": {
     "slide_type": "slide"
    }
   },
   "outputs": [],
   "source": []
  },
  {
   "cell_type": "code",
   "execution_count": null,
   "id": "53cec172",
   "metadata": {},
   "outputs": [],
   "source": []
  },
  {
   "cell_type": "code",
   "execution_count": null,
   "id": "2a1c7b80",
   "metadata": {},
   "outputs": [],
   "source": []
  },
  {
   "cell_type": "code",
   "execution_count": null,
   "id": "5d5aa2bb",
   "metadata": {},
   "outputs": [],
   "source": []
  },
  {
   "cell_type": "markdown",
   "id": "c6133849",
   "metadata": {
    "id": "c6133849"
   },
   "source": [
    "## Referentes  \n",
    "\n",
    "* El módulo solvers de sympy: https://docs.sympy.org/latest/modules/solvers/solvers.html\n",
    "\n",
    "* vinculo para descargar google colab para android, es decir, para tú celular: https://apkcombo.com/es/google-colab-android-view/com.WeDevelopinPk.colabandroidwebview/\n",
    "\n",
    "\n",
    "* Vinculo en GitHub de este cuaderno: https://github.com/marco-canas/fundamentos-de-las-matematicas/blob/main/clases/modelado.ipynb"
   ]
  },
  {
   "cell_type": "code",
   "execution_count": null,
   "id": "b7957f2d",
   "metadata": {
    "id": "b7957f2d"
   },
   "outputs": [],
   "source": []
  }
 ],
 "metadata": {
  "celltoolbar": "Slideshow",
  "colab": {
   "provenance": []
  },
  "kernelspec": {
   "display_name": "Python 3 (ipykernel)",
   "language": "python",
   "name": "python3"
  },
  "language_info": {
   "codemirror_mode": {
    "name": "ipython",
    "version": 3
   },
   "file_extension": ".py",
   "mimetype": "text/x-python",
   "name": "python",
   "nbconvert_exporter": "python",
   "pygments_lexer": "ipython3",
   "version": "3.9.12"
  },
  "rise": {
   "theme": "sky"
  }
 },
 "nbformat": 4,
 "nbformat_minor": 5
}
