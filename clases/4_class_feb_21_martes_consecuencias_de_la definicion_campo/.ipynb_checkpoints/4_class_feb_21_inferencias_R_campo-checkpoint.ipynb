{
 "cells": [
  {
   "cell_type": "markdown",
   "id": "3f82e5da",
   "metadata": {
    "slideshow": {
     "slide_type": "subslide"
    }
   },
   "source": []
  },
  {
   "cell_type": "markdown",
   "id": "55e067e3",
   "metadata": {
    "slideshow": {
     "slide_type": "slide"
    }
   },
   "source": []
  },
  {
   "cell_type": "markdown",
   "id": "f8a46d40",
   "metadata": {
    "slideshow": {
     "slide_type": "slide"
    }
   },
   "source": [
    "# Inferencias de ver a R como estructura de campo\n"
   ]
  },
  {
   "cell_type": "markdown",
   "id": "bbc7d56c",
   "metadata": {
    "slideshow": {
     "slide_type": "slide"
    }
   },
   "source": [
    "## Objetivo\n",
    "Objetivos generales del núcleo:\n",
    "1. Desarrollar competencias analíticas, sintéticas, operativas, interpretativas y gráficas, en el estudio de temas propios de las matemáticas y el cálculo.\n",
    "2. Discutir situaciones contextuales, fenómenos, problemas intra o extramatemáticos, de naturaleza variacional, que favorezcan la comprensión y utilización de conceptos y representaciones matemáticas variacionales que los modelen.\n",
    "\n",
    "Propuesta de evaluación\n",
    "Parciales: 60% (3 o 4, dependiendo del curso).\n",
    "Seguimiento: 15% (quices, pruebas cortas, tareas, trabajos, talleres, participación, pequeña presentación).\n",
    "Trabajo final: 20% (video explicando alguna aplicación o ejercicio, ensayo sobre artículo en inglés, exposición, trabajo sobre uso de herramienta digital…).\n"
   ]
  },
  {
   "cell_type": "markdown",
   "id": "09533dee",
   "metadata": {
    "slideshow": {
     "slide_type": "slide"
    }
   },
   "source": [
    "# Modelos lineales y ritmos o velocidades de cambio\n"
   ]
  },
  {
   "cell_type": "markdown",
   "id": "486f7d15",
   "metadata": {
    "slideshow": {
     "slide_type": "slide"
    }
   },
   "source": [
    "* Encontrar la pendiente de una recta que pasa por dos puntos.  \n",
    "* Escribir la ecuación de una recta dados un punto y su pendiente.  \n",
    "* Interpretar la pendiente como razón o ritmo en aplicaciones cotidianas.  \n",
    "* Trazar la gráfica de una ecuación lineal en la forma pendiente-intersección.  \n",
    "* Escribir las ecuaciones de rectas que son paralelas o perpendiculares a una recta dada.\n"
   ]
  },
  {
   "cell_type": "markdown",
   "id": "e7ce9dc9",
   "metadata": {
    "slideshow": {
     "slide_type": "slide"
    }
   },
   "source": [
    "# La pendiente de una recta  \n",
    "\n",
    "La pendiente de una recta no vertical es una medida del número de unidades que la recta asciende (o desciende) verticalmente por cada unidad de variación horizontal de izquierda a derecha. Considerar los dos puntos $(x1, y1)$ y $(x2, y2)$ de la recta de la figura P.12.   "
   ]
  },
  {
   "cell_type": "markdown",
   "id": "d798d02c",
   "metadata": {
    "slideshow": {
     "slide_type": "slide"
    }
   },
   "source": [
    "Al desplazarse de izquierda a derecha por la recta, se produce una variación vertical de  \n",
    "\n",
    "\n",
    "$$\\Delta y = y_{2} - y_{1} \\ \\ \\ \\text{cambio en} \\ y$$ Cambio en y.  \n",
    "\n",
    "unidades por cada variación horizontal de  \n",
    "\n",
    "$$ \\Delta x = x_{2} - x_{1}\\ \\ \\ \\text{Cambio en }\\  x. $$\n",
    "\n",
    "unidades. ($\\Delta$ es la letra griega delta mayúscula y los símbolos $\\Delta y$ y $\\Delta x$ se leen “delta de $y$” \n",
    "y “delta de $x$”.)"
   ]
  },
  {
   "cell_type": "markdown",
   "id": "6850f677",
   "metadata": {
    "slideshow": {
     "slide_type": "slide"
    }
   },
   "source": [
    "# Ecuaciones de las rectas"
   ]
  },
  {
   "cell_type": "markdown",
   "id": "880692d3",
   "metadata": {
    "slideshow": {
     "slide_type": "slide"
    }
   },
   "source": [
    "Para calcular la pendiente de una recta pueden utilizarse dos de sus puntos cualesquiera. Esto puede verificarse con ayuda de los triángulos semejantes de la figura P.14. (Recordar que los cocientes de los lados correspondientes de dos triángulos semejantes son todos iguales.)"
   ]
  },
  {
   "cell_type": "markdown",
   "id": "15e6eedc",
   "metadata": {
    "slideshow": {
     "slide_type": "slide"
    }
   },
   "source": [
    "# EXPLORACIÓN"
   ]
  },
  {
   "cell_type": "markdown",
   "id": "582864e7",
   "metadata": {
    "slideshow": {
     "slide_type": "slide"
    }
   },
   "source": [
    "## Estudio de ecuaciones de rectas"
   ]
  },
  {
   "cell_type": "markdown",
   "id": "5203d9ac",
   "metadata": {
    "slideshow": {
     "slide_type": "slide"
    }
   },
   "source": [
    "Utilizar una herramienta de graficación para dibujar cada una de las siguientes ecuaciones lineales.   \n",
    "\n",
    "¿Qué punto es común a las siete rectas?   \n",
    "\n",
    "¿Qué número determina la pendiente de la recta en cada ecuación?  \n",
    "\n",
    " a) $y-4 = -2(x + 1)$\n",
    " b) $y - 4 = -1(x+1)$  \n",
    " c)   \n",
    " d)   \n",
    " e)   \n",
    " f)   \n",
    " g)    \n",
    " \n",
    "Utilizar los resultados para construir la ecuación de una recta que pase por $(-1, 4)$ con una pendiente de $m$. "
   ]
  },
  {
   "cell_type": "code",
   "execution_count": 14,
   "id": "379b4de0",
   "metadata": {
    "slideshow": {
     "slide_type": "slide"
    }
   },
   "outputs": [
    {
     "data": {
      "application/vnd.jupyter.widget-view+json": {
       "model_id": "becfa379ecab4a59932e0ecdc4193d3e",
       "version_major": 2,
       "version_minor": 0
      },
      "text/plain": [
       "interactive(children=(IntSlider(value=0, description='m', max=3, min=-3), Output()), _dom_classes=('widget-int…"
      ]
     },
     "metadata": {},
     "output_type": "display_data"
    }
   ],
   "source": [
    "import numpy as np \n",
    "import matplotlib.pyplot as plt   \n",
    "\n",
    "from ipywidgets import interact \n",
    "a,b = 6, 12\n",
    "h,k = 0,0\n",
    "\n",
    "def visualizar_pendiente(m = 0):\n",
    "    plt.figure(figsize = (6,6))\n",
    "    plt.axis([-5,5,-12,12])\n",
    "    plt.grid(alpha = 0.4)\n",
    "    x = np.arange(-4,5, 4)\n",
    "    y = m*(x-h) + k\n",
    "    plt.plot(x,y, color = 'red')\n",
    "    plt.plot([-a,a], [0,0], 'g-', alpha = 0.3) # eje horizontal \n",
    "    \n",
    "    \n",
    "interact(visualizar_pendiente, m = (-3,3)) \n",
    "\n",
    "plt.show() \n"
   ]
  },
  {
   "cell_type": "code",
   "execution_count": null,
   "id": "a65085a1",
   "metadata": {
    "slideshow": {
     "slide_type": "slide"
    }
   },
   "outputs": [],
   "source": []
  },
  {
   "cell_type": "code",
   "execution_count": null,
   "id": "5f22e03d",
   "metadata": {
    "slideshow": {
     "slide_type": "slide"
    }
   },
   "outputs": [],
   "source": []
  },
  {
   "cell_type": "code",
   "execution_count": null,
   "id": "addc4023",
   "metadata": {},
   "outputs": [],
   "source": []
  },
  {
   "cell_type": "code",
   "execution_count": null,
   "id": "eef4e73d",
   "metadata": {},
   "outputs": [],
   "source": []
  },
  {
   "cell_type": "code",
   "execution_count": null,
   "id": "9b5773e6",
   "metadata": {},
   "outputs": [],
   "source": []
  },
  {
   "cell_type": "code",
   "execution_count": null,
   "id": "f560ddfd",
   "metadata": {},
   "outputs": [],
   "source": []
  },
  {
   "cell_type": "code",
   "execution_count": null,
   "id": "9e327fbd",
   "metadata": {},
   "outputs": [],
   "source": []
  },
  {
   "cell_type": "code",
   "execution_count": null,
   "id": "8caa2c22",
   "metadata": {},
   "outputs": [],
   "source": []
  },
  {
   "cell_type": "code",
   "execution_count": null,
   "id": "ff50340b",
   "metadata": {},
   "outputs": [],
   "source": []
  }
 ],
 "metadata": {
  "celltoolbar": "Slideshow",
  "kernelspec": {
   "display_name": "Python 3 (ipykernel)",
   "language": "python",
   "name": "python3"
  },
  "language_info": {
   "codemirror_mode": {
    "name": "ipython",
    "version": 3
   },
   "file_extension": ".py",
   "mimetype": "text/x-python",
   "name": "python",
   "nbconvert_exporter": "python",
   "pygments_lexer": "ipython3",
   "version": "3.9.13"
  }
 },
 "nbformat": 4,
 "nbformat_minor": 5
}
