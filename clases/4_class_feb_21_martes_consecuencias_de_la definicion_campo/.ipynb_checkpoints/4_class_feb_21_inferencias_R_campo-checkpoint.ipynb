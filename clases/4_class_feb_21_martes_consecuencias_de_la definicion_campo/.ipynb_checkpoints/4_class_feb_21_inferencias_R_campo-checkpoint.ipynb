{
 "cells": [
  {
   "cell_type": "markdown",
   "id": "4b1bc174",
   "metadata": {
    "slideshow": {
     "slide_type": "subslide"
    }
   },
   "source": []
  },
  {
   "cell_type": "markdown",
   "id": "923111c2",
   "metadata": {
    "slideshow": {
     "slide_type": "slide"
    }
   },
   "source": []
  },
  {
   "cell_type": "markdown",
   "id": "ee5319c0",
   "metadata": {
    "slideshow": {
     "slide_type": "slide"
    }
   },
   "source": [
    "# Inferencias de ver a R como estructura de campo\n"
   ]
  },
  {
   "cell_type": "markdown",
   "id": "c9adce81",
   "metadata": {
    "slideshow": {
     "slide_type": "slide"
    }
   },
   "source": [
    "## Objetivo\n",
    "Objetivos generales del núcleo:\n",
    "1. Desarrollar competencias analíticas, sintéticas, operativas, interpretativas y gráficas, en el estudio de temas propios de las matemáticas y el cálculo.\n",
    "2. Discutir situaciones contextuales, fenómenos, problemas intra o extramatemáticos, de naturaleza variacional, que favorezcan la comprensión y utilización de conceptos y representaciones matemáticas variacionales que los modelen.\n",
    "\n",
    "Propuesta de evaluación\n",
    "Parciales: 60% (3 o 4, dependiendo del curso).\n",
    "Seguimiento: 15% (quices, pruebas cortas, tareas, trabajos, talleres, participación, pequeña presentación).\n",
    "Trabajo final: 20% (video explicando alguna aplicación o ejercicio, ensayo sobre artículo en inglés, exposición, trabajo sobre uso de herramienta digital…).\n"
   ]
  },
  {
   "cell_type": "markdown",
   "id": "30d06343",
   "metadata": {
    "slideshow": {
     "slide_type": "slide"
    }
   },
   "source": [
    "# Modelos lineales y ritmos o velocidades de cambio\n"
   ]
  },
  {
   "cell_type": "markdown",
   "id": "18aafe2e",
   "metadata": {
    "slideshow": {
     "slide_type": "slide"
    }
   },
   "source": [
    "* Encontrar la pendiente de una recta que pasa por dos puntos.  \n",
    "* Escribir la ecuación de una recta dados un punto y su pendiente.  \n",
    "* Interpretar la pendiente como razón o ritmo en aplicaciones cotidianas.  \n",
    "* Trazar la gráfica de una ecuación lineal en la forma pendiente-intersección.  \n",
    "* Escribir las ecuaciones de rectas que son paralelas o perpendiculares a una recta dada.\n"
   ]
  },
  {
   "cell_type": "markdown",
   "id": "8d937e80",
   "metadata": {
    "slideshow": {
     "slide_type": "slide"
    }
   },
   "source": [
    "# La pendiente de una recta  \n",
    "\n",
    "La pendiente de una recta no vertical es una medida del número de unidades que la recta asciende (o desciende) verticalmente por cada unidad de variación horizontal de izquierda a derecha. Considerar los dos puntos $(x1, y1)$ y $(x2, y2)$ de la recta de la figura P.12.   "
   ]
  },
  {
   "cell_type": "markdown",
   "id": "a75a6324",
   "metadata": {
    "slideshow": {
     "slide_type": "slide"
    }
   },
   "source": [
    "Al desplazarse de izquierda a derecha por la recta, se produce una variación vertical de\n",
    "$$\\Delta y = y_{2} - y_{1} \\ \\ \\ \\text{cambio en} \\ y$$ Cambio en y.  \n",
    "\n",
    "unidades por cada variación horizontal de  \n",
    "\n",
    "$$ \\Delta x = x_{2} - x_{1}\\ \\ \\ \\text{Cambio en }\\  x. $$\n",
    "\n",
    "unidades. ($ es la letra griega delta mayúscula y los símbolos $y y $x se leen “delta de y” \n",
    "y “delta de x”.)"
   ]
  },
  {
   "cell_type": "code",
   "execution_count": null,
   "id": "0032595d",
   "metadata": {
    "slideshow": {
     "slide_type": "slide"
    }
   },
   "outputs": [],
   "source": []
  },
  {
   "cell_type": "code",
   "execution_count": null,
   "id": "a45b8f1d",
   "metadata": {},
   "outputs": [],
   "source": []
  },
  {
   "cell_type": "code",
   "execution_count": null,
   "id": "6a771224",
   "metadata": {},
   "outputs": [],
   "source": []
  },
  {
   "cell_type": "code",
   "execution_count": null,
   "id": "9e30a5a9",
   "metadata": {},
   "outputs": [],
   "source": []
  },
  {
   "cell_type": "code",
   "execution_count": null,
   "id": "c0c0fd00",
   "metadata": {},
   "outputs": [],
   "source": []
  },
  {
   "cell_type": "code",
   "execution_count": null,
   "id": "a62b34ab",
   "metadata": {},
   "outputs": [],
   "source": []
  },
  {
   "cell_type": "code",
   "execution_count": null,
   "id": "7b645aa2",
   "metadata": {},
   "outputs": [],
   "source": []
  },
  {
   "cell_type": "code",
   "execution_count": null,
   "id": "9ab791fe",
   "metadata": {},
   "outputs": [],
   "source": []
  },
  {
   "cell_type": "code",
   "execution_count": null,
   "id": "c93ee984",
   "metadata": {},
   "outputs": [],
   "source": []
  },
  {
   "cell_type": "code",
   "execution_count": null,
   "id": "c042975a",
   "metadata": {},
   "outputs": [],
   "source": []
  },
  {
   "cell_type": "code",
   "execution_count": null,
   "id": "b5d59219",
   "metadata": {},
   "outputs": [],
   "source": []
  },
  {
   "cell_type": "code",
   "execution_count": null,
   "id": "87dcc599",
   "metadata": {},
   "outputs": [],
   "source": []
  }
 ],
 "metadata": {
  "celltoolbar": "Slideshow",
  "kernelspec": {
   "display_name": "Python 3 (ipykernel)",
   "language": "python",
   "name": "python3"
  },
  "language_info": {
   "codemirror_mode": {
    "name": "ipython",
    "version": 3
   },
   "file_extension": ".py",
   "mimetype": "text/x-python",
   "name": "python",
   "nbconvert_exporter": "python",
   "pygments_lexer": "ipython3",
   "version": "3.9.13"
  }
 },
 "nbformat": 4,
 "nbformat_minor": 5
}
