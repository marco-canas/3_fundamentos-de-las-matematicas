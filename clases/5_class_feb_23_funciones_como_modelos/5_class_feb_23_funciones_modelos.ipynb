{
 "cells": [
  {
   "cell_type": "markdown",
   "id": "2c378409",
   "metadata": {
    "slideshow": {
     "slide_type": "slide"
    }
   },
   "source": [
    "<table align=\"left\">\n",
    "  <td>\n",
    "    <a href=\"https://colab.research.google.com/github/marco-canas/3_fundamentos-de-las-matematicas/blob/main/clases/5_class_feb_23_funciones_como_modelos/5_class_feb_23_funciones_modelos.ipynb\" target=\"_parent\"><img src=\"https://colab.research.google.com/assets/colab-badge.svg\" alt=\"Open In Colab\"/></a>\n",
    "  </td>\n",
    "</table>"
   ]
  },
  {
   "cell_type": "markdown",
   "id": "684edbb4",
   "metadata": {
    "slideshow": {
     "slide_type": "slide"
    }
   },
   "source": [
    "## [Video de apoyo a la lectura interactiva y experimental de este cuaderno dentro del modelo de Aula invertida]() "
   ]
  },
  {
   "cell_type": "markdown",
   "id": "ff278bf6",
   "metadata": {
    "slideshow": {
     "slide_type": "slide"
    }
   },
   "source": [
    "Leer el [stewart]() en la página 40 "
   ]
  },
  {
   "cell_type": "markdown",
   "id": "2e108289",
   "metadata": {
    "slideshow": {
     "slide_type": "slide"
    }
   },
   "source": [
    "La existencia de [chatGPT](https://openai.com/blog/chatgpt/) tal vez nos sugiera centrarnos en formar para:\n",
    "\n",
    "* convivir\n",
    "* tomar decisiones\n",
    "\n",
    "* aprender a convencer y a participar en grupos de trabajo.\n",
    "\n",
    "* aprender a participar comunitariamente y políticamente. "
   ]
  },
  {
   "cell_type": "markdown",
   "id": "00a6f940",
   "metadata": {
    "slideshow": {
     "slide_type": "slide"
    }
   },
   "source": [
    "## Situación problemática de funciones y modelos"
   ]
  },
  {
   "cell_type": "markdown",
   "id": "ce54e84b",
   "metadata": {
    "slideshow": {
     "slide_type": "slide"
    }
   },
   "source": [
    "Stewart, página 40"
   ]
  },
  {
   "cell_type": "markdown",
   "id": "25732bbf",
   "metadata": {
    "slideshow": {
     "slide_type": "slide"
    }
   },
   "source": [
    "<img src = 'https://github.com/marco-canas/3_fundamentos-de-las-matematicas/blob/main/clases/5_class_feb_23_funciones_como_modelos/ejer_24_pagina_52_stawart.png?raw=true'>\n",
    "\n",
    "ejercicio 24 de la página 52 del stewart. "
   ]
  },
  {
   "cell_type": "code",
   "execution_count": 7,
   "id": "38d2e519",
   "metadata": {
    "slideshow": {
     "slide_type": "slide"
    }
   },
   "outputs": [],
   "source": [
    "import pandas as pd "
   ]
  },
  {
   "cell_type": "code",
   "execution_count": 2,
   "id": "01f2841b",
   "metadata": {
    "slideshow": {
     "slide_type": "slide"
    }
   },
   "outputs": [],
   "source": [
    "t = [0, 0.2, 0.5, 0.75, 1.0, 1.25, 1.5, 1.75, 2.0, 2.25, 2.5, 3.0, 3.5, 4.0 ]\n",
    "bac = [0, 0.25, 0.41, 0.40, 0.33, 0.29, 0.24, 0.22, 0.18, 0.15, 0.12, 0.07, 0.03, 0.01]"
   ]
  },
  {
   "cell_type": "code",
   "execution_count": 5,
   "id": "da214f31",
   "metadata": {},
   "outputs": [],
   "source": [
    "diccionario = {'tiempo(horas)': t, 'BAC':bac}"
   ]
  },
  {
   "cell_type": "code",
   "execution_count": 8,
   "id": "fe4860b4",
   "metadata": {},
   "outputs": [],
   "source": [
    "tabla = pd.DataFrame(diccionario)"
   ]
  },
  {
   "cell_type": "code",
   "execution_count": 9,
   "id": "2f349693",
   "metadata": {},
   "outputs": [
    {
     "data": {
      "text/html": [
       "<div>\n",
       "<style scoped>\n",
       "    .dataframe tbody tr th:only-of-type {\n",
       "        vertical-align: middle;\n",
       "    }\n",
       "\n",
       "    .dataframe tbody tr th {\n",
       "        vertical-align: top;\n",
       "    }\n",
       "\n",
       "    .dataframe thead th {\n",
       "        text-align: right;\n",
       "    }\n",
       "</style>\n",
       "<table border=\"1\" class=\"dataframe\">\n",
       "  <thead>\n",
       "    <tr style=\"text-align: right;\">\n",
       "      <th></th>\n",
       "      <th>tiempo(horas)</th>\n",
       "      <th>BAC</th>\n",
       "    </tr>\n",
       "  </thead>\n",
       "  <tbody>\n",
       "    <tr>\n",
       "      <th>0</th>\n",
       "      <td>0.00</td>\n",
       "      <td>0.00</td>\n",
       "    </tr>\n",
       "    <tr>\n",
       "      <th>1</th>\n",
       "      <td>0.20</td>\n",
       "      <td>0.25</td>\n",
       "    </tr>\n",
       "    <tr>\n",
       "      <th>2</th>\n",
       "      <td>0.50</td>\n",
       "      <td>0.41</td>\n",
       "    </tr>\n",
       "    <tr>\n",
       "      <th>3</th>\n",
       "      <td>0.75</td>\n",
       "      <td>0.40</td>\n",
       "    </tr>\n",
       "    <tr>\n",
       "      <th>4</th>\n",
       "      <td>1.00</td>\n",
       "      <td>0.33</td>\n",
       "    </tr>\n",
       "    <tr>\n",
       "      <th>5</th>\n",
       "      <td>1.25</td>\n",
       "      <td>0.29</td>\n",
       "    </tr>\n",
       "    <tr>\n",
       "      <th>6</th>\n",
       "      <td>1.50</td>\n",
       "      <td>0.24</td>\n",
       "    </tr>\n",
       "    <tr>\n",
       "      <th>7</th>\n",
       "      <td>1.75</td>\n",
       "      <td>0.22</td>\n",
       "    </tr>\n",
       "    <tr>\n",
       "      <th>8</th>\n",
       "      <td>2.00</td>\n",
       "      <td>0.18</td>\n",
       "    </tr>\n",
       "    <tr>\n",
       "      <th>9</th>\n",
       "      <td>2.25</td>\n",
       "      <td>0.15</td>\n",
       "    </tr>\n",
       "    <tr>\n",
       "      <th>10</th>\n",
       "      <td>2.50</td>\n",
       "      <td>0.12</td>\n",
       "    </tr>\n",
       "    <tr>\n",
       "      <th>11</th>\n",
       "      <td>3.00</td>\n",
       "      <td>0.07</td>\n",
       "    </tr>\n",
       "    <tr>\n",
       "      <th>12</th>\n",
       "      <td>3.50</td>\n",
       "      <td>0.03</td>\n",
       "    </tr>\n",
       "    <tr>\n",
       "      <th>13</th>\n",
       "      <td>4.00</td>\n",
       "      <td>0.01</td>\n",
       "    </tr>\n",
       "  </tbody>\n",
       "</table>\n",
       "</div>"
      ],
      "text/plain": [
       "    tiempo(horas)   BAC\n",
       "0            0.00  0.00\n",
       "1            0.20  0.25\n",
       "2            0.50  0.41\n",
       "3            0.75  0.40\n",
       "4            1.00  0.33\n",
       "5            1.25  0.29\n",
       "6            1.50  0.24\n",
       "7            1.75  0.22\n",
       "8            2.00  0.18\n",
       "9            2.25  0.15\n",
       "10           2.50  0.12\n",
       "11           3.00  0.07\n",
       "12           3.50  0.03\n",
       "13           4.00  0.01"
      ]
     },
     "execution_count": 9,
     "metadata": {},
     "output_type": "execute_result"
    }
   ],
   "source": [
    "tabla "
   ]
  },
  {
   "cell_type": "code",
   "execution_count": 3,
   "id": "624d4bdf",
   "metadata": {
    "slideshow": {
     "slide_type": "slide"
    }
   },
   "outputs": [
    {
     "data": {
      "text/plain": [
       "True"
      ]
     },
     "execution_count": 3,
     "metadata": {},
     "output_type": "execute_result"
    }
   ],
   "source": [
    "len(t)==len(bac)"
   ]
  },
  {
   "cell_type": "code",
   "execution_count": 11,
   "id": "c4d0446d",
   "metadata": {},
   "outputs": [
    {
     "data": {
      "image/png": "[encoded data removed]",
      "text/plain": [
       "<Figure size 640x480 with 1 Axes>"
      ]
     },
     "metadata": {},
     "output_type": "display_data"
    }
   ],
   "source": [
    "import matplotlib.pyplot as plt\n",
    "\n",
    "plt.scatter(t, bac)\n",
    "\n",
    "plt.savefig('alcohol_tiempo.jpg')"
   ]
  },
  {
   "cell_type": "markdown",
   "id": "d76979bd",
   "metadata": {},
   "source": [
    "## Descripción verbal de que pasa con la concentración de alcohol en la sangre a medida que el tiempo pasa. "
   ]
  },
  {
   "cell_type": "markdown",
   "id": "06134fc1",
   "metadata": {},
   "source": []
  },
  {
   "cell_type": "code",
   "execution_count": null,
   "id": "c54d91e7",
   "metadata": {},
   "outputs": [],
   "source": []
  },
  {
   "cell_type": "code",
   "execution_count": null,
   "id": "61a583dd",
   "metadata": {},
   "outputs": [],
   "source": []
  },
  {
   "cell_type": "code",
   "execution_count": null,
   "id": "b185ccfc",
   "metadata": {},
   "outputs": [],
   "source": []
  },
  {
   "cell_type": "markdown",
   "id": "d8343525",
   "metadata": {
    "slideshow": {
     "slide_type": "slide"
    }
   },
   "source": [
    "## Referentes\n",
    "\n",
    "* chatGPT: https://openai.com/blog/chatgpt/\n",
    "\n",
    "* Stewart. Cálculo. página 40"
   ]
  },
  {
   "cell_type": "code",
   "execution_count": null,
   "id": "677c38a0",
   "metadata": {},
   "outputs": [],
   "source": []
  }
 ],
 "metadata": {
  "celltoolbar": "Slideshow",
  "kernelspec": {
   "display_name": "Python 3 (ipykernel)",
   "language": "python",
   "name": "python3"
  },
  "language_info": {
   "codemirror_mode": {
    "name": "ipython",
    "version": 3
   },
   "file_extension": ".py",
   "mimetype": "text/x-python",
   "name": "python",
   "nbconvert_exporter": "python",
   "pygments_lexer": "ipython3",
   "version": "3.9.13"
  }
 },
 "nbformat": 4,
 "nbformat_minor": 5
}
