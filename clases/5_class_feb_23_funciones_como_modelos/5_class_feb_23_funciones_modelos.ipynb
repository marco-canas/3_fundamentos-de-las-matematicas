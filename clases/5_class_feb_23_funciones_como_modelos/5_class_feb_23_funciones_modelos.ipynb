{
 "cells": [
  {
   "cell_type": "markdown",
   "id": "70a129f5",
   "metadata": {
    "slideshow": {
     "slide_type": "slide"
    }
   },
   "source": [
    "<table align=\"left\">\n",
    "  <td>\n",
    "    <a href=\"https://colab.research.google.com/github/marco-canas/algebra/blob/main/classes/ciencia_datos/1_class/1_class.ipynb\" target=\"_parent\"><img src=\"https://colab.research.google.com/assets/colab-badge.svg\" alt=\"Open In Colab\"/></a>\n",
    "  </td>\n",
    "</table>"
   ]
  },
  {
   "cell_type": "markdown",
   "id": "bc05ce0c",
   "metadata": {
    "slideshow": {
     "slide_type": "slide"
    }
   },
   "source": [
    "## [Video de apoyo a la lectura interactiva y experimental de este cuaderno dentro del modelo de Aula invertida]() "
   ]
  },
  {
   "cell_type": "markdown",
   "id": "a8fc2aba",
   "metadata": {
    "slideshow": {
     "slide_type": "slide"
    }
   },
   "source": []
  },
  {
   "cell_type": "markdown",
   "id": "60cbf795",
   "metadata": {
    "slideshow": {
     "slide_type": "slide"
    }
   },
   "source": [
    "La existencia de [chatGPT](https://openai.com/blog/chatgpt/) tal vez nos sugiera centrarnos en formar para:\n",
    "\n",
    "* convivir\n",
    "* tomar decisiones\n",
    "\n",
    "* aprender a convencer y a participar en grupos de trabajo.\n",
    "\n",
    "* aprender a participar comunitariamente y políticamente. "
   ]
  },
  {
   "cell_type": "markdown",
   "id": "024aa567",
   "metadata": {
    "slideshow": {
     "slide_type": "slide"
    }
   },
   "source": [
    "## Situación problemática de funciones y modelos"
   ]
  },
  {
   "cell_type": "markdown",
   "id": "ca2e279a",
   "metadata": {
    "slideshow": {
     "slide_type": "slide"
    }
   },
   "source": [
    "Stewart, página 40"
   ]
  },
  {
   "cell_type": "code",
   "execution_count": null,
   "id": "be6494da",
   "metadata": {},
   "outputs": [],
   "source": []
  },
  {
   "cell_type": "code",
   "execution_count": null,
   "id": "e427405b",
   "metadata": {},
   "outputs": [],
   "source": []
  },
  {
   "cell_type": "code",
   "execution_count": null,
   "id": "af0fc07c",
   "metadata": {},
   "outputs": [],
   "source": []
  },
  {
   "cell_type": "code",
   "execution_count": null,
   "id": "5ee135bc",
   "metadata": {
    "slideshow": {
     "slide_type": "slide"
    }
   },
   "outputs": [],
   "source": []
  },
  {
   "cell_type": "markdown",
   "id": "53637b5b",
   "metadata": {},
   "source": [
    "## Referentes\n",
    "\n",
    "* chatGPT: https://openai.com/blog/chatgpt/\n",
    "\n",
    "* Stewart. Cálculo. página 40"
   ]
  },
  {
   "cell_type": "code",
   "execution_count": null,
   "id": "0dd9da4e",
   "metadata": {},
   "outputs": [],
   "source": []
  }
 ],
 "metadata": {
  "celltoolbar": "Slideshow",
  "kernelspec": {
   "display_name": "Python 3 (ipykernel)",
   "language": "python",
   "name": "python3"
  },
  "language_info": {
   "codemirror_mode": {
    "name": "ipython",
    "version": 3
   },
   "file_extension": ".py",
   "mimetype": "text/x-python",
   "name": "python",
   "nbconvert_exporter": "python",
   "pygments_lexer": "ipython3",
   "version": "3.9.13"
  }
 },
 "nbformat": 4,
 "nbformat_minor": 5
}
