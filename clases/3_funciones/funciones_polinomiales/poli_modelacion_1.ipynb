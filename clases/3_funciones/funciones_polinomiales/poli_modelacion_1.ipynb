{
 "cells": [
  {
   "cell_type": "markdown",
   "metadata": {},
   "source": [
    "<table align=\"left\">\n",
    "  <td>\n",
    "    <a href=\"https://colab.research.google.com/github/marco-canas/fundamentos-de-las-matematicas/blob/main/clases/3_funciones/funciones_polinomiales/poli_modelacion_1.ipynb\" target=\"_parent\"><img src=\"https://colab.research.google.com/assets/colab-badge.svg\" alt=\"Open In Colab\"/></a>\n",
    "  </td>\n",
    "</table>"
   ]
  },
  {
   "cell_type": "markdown",
   "metadata": {},
   "source": [
    "[Primer video de la lista de reproducción](https://www.youtube.com/watch?v=kBElPk4zVUE)"
   ]
  },
  {
   "cell_type": "markdown",
   "metadata": {},
   "source": [
    "## [Video 2 de apoyo](https://www.youtube.com/watch?v=TEPwBfG_q-o&ab_channel=DiMathData)"
   ]
  },
  {
   "cell_type": "markdown",
   "metadata": {},
   "source": [
    "# Modelación con Funciones polinomiales y racionales"
   ]
  },
  {
   "cell_type": "markdown",
   "metadata": {},
   "source": [
    "## Agenda  \n",
    "\n",
    "3.1 Funciones polinomiales y sus gráficas  \n",
    "3.2 División de polinomios  \n",
    "3.3 Ceros reales de polinomios  \n",
    "3.4 Números complejos  \n",
    "3.5 Ceros complejos y el teorema fundamental del álgebra  \n",
    "3.6 Funciones racionales  "
   ]
  },
  {
   "cell_type": "markdown",
   "metadata": {},
   "source": [
    "### Esquema del capítulo\n"
   ]
  },
  {
   "cell_type": "markdown",
   "metadata": {},
   "source": [
    "Las funciones definidas por expresiones polinomiales se llaman funciones polinomiales. Por ejemplo,\n",
    "\n",
    "$$P(x) = 2x^{3} - x + 1 $$\n",
    "\n",
    "es una función polinomial. Las funciones polinomiales son fáciles de evaluar porque están definidas con sólo suma, resta y multiplicación. Esta propiedad hace que sean las funciones más útiles en matemáticas.\n"
   ]
  },
  {
   "cell_type": "markdown",
   "metadata": {},
   "source": [
    "Las gráficas de funciones polinomiales pueden aumentar y disminuir varias veces. Por esta razón son útiles para modelar muchas situaciones del mundo real. Por\n",
    "ejemplo, el dueño de una fábrica nota que si incrementa el número de trabajadores,\n",
    "se incrementa la productividad, pero si hay demasiados trabajadores, la productividad comienza a disminuir. Esta situación se modela mediante una función polinomial de grado 2 (un polinomio cuadrático). En muchas especies animales los jóvenes\n",
    "experimentan un crecimiento acelerado inicial, seguido de un periodo de crecimiento lento, seguido de otro crecimiento acelerado. Este fenómeno se modela mediante\n",
    "una función polinomial de grado 3 (un polinomio cúbico)."
   ]
  },
  {
   "cell_type": "code",
   "execution_count": 27,
   "metadata": {},
   "outputs": [
    {
     "data": {
      "image/png": "[encoded data removed]",
      "text/plain": [
       "<Figure size 1152x432 with 2 Axes>"
      ]
     },
     "metadata": {
      "needs_background": "light"
     },
     "output_type": "display_data"
    }
   ],
   "source": [
    "import numpy as np \n",
    "import matplotlib.pyplot as plt \n",
    "\n",
    "fig, ax = plt.subplots(1,2, figsize = (16, 6)) \n",
    "# ojo, debes especificar las dimensiones del arreglo matricial de graficos\n",
    "x = np.linspace(0,4)\n",
    "\n",
    "ax[0].plot(x, -(0.2*x-1)**2 + 400, 'r-')\n",
    "ax[0].set(xlabel = 'Número de trabajadores', ylabel = 'Productividad', \\\n",
    "    xticks = np.arange(1,11))\n",
    "ax[0].grid()\n",
    "\n",
    "\n",
    "# segundo gráfico \n",
    "ax[1].plot(x,(0.1*(3*x-5))**3, 'g-') \n",
    "ax[1].set(xlabel = 'años (edad)', ylabel = 'Estatura')\n",
    "ax[1].grid() \n",
    "\n",
    "\n",
    "plt.savefig('cuadratica_cubica.jpg')\n",
    "\n",
    "plt.show() "
   ]
  },
  {
   "cell_type": "markdown",
   "metadata": {},
   "source": [
    "## Inferencias e interpretaciones de los dos gráficos\n",
    "\n",
    "### Izquierda.\n",
    "\n",
    "* La productividad es creciente en el intervalo $[0, 5]$  \n",
    "\n",
    "* La productividad disminuye en el intervalo $[5, 10]$. \n",
    "\n",
    "\n",
    "### Derecha\n",
    "\n",
    "* La funcion es de crecimiento rápido en el intervalo $[0,4]$\n",
    "* La función es de crecimiento lento casi cero en el intervalo $[4,6]$\n",
    "* Luego de los 6 años, la velocidad de variación de la longitud crece. "
   ]
  },
  {
   "cell_type": "markdown",
   "metadata": {},
   "source": [
    "La productividad se modela con un polinomio de grado 2.   \n",
    "\n",
    "El crecimiento se modela con un polinomio de grado 3.   \n",
    "\n",
    "Las gráficas de funciones polinomiales son hermosas curvas lisas que se emplean en procesos de diseño. Por ejemplo, los constructores de botes juntan porciones de gráficas de diferentes funciones cúbicas (llamadas splines cúbicos) con el fin de diseñar las curvas naturales para el casco del bote."
   ]
  },
  {
   "cell_type": "markdown",
   "metadata": {},
   "source": [
    "En este capítulo se estudian funciones racionales, que son cocientes de funciones polinomiales. Se verá que las funciones racionales también tienen muchas aplicaciones útiles."
   ]
  },
  {
   "cell_type": "markdown",
   "metadata": {},
   "source": [
    "## Disfrutar de graficar las potencias de x "
   ]
  },
  {
   "cell_type": "code",
   "execution_count": 28,
   "metadata": {},
   "outputs": [
    {
     "data": {
      "application/vnd.jupyter.widget-view+json": {
       "model_id": "31dc7cfdee594717937a4f3015b3b964",
       "version_major": 2,
       "version_minor": 0
      },
      "text/plain": [
       "interactive(children=(IntSlider(value=0, description='n', max=10), Output()), _dom_classes=('widget-interact',…"
      ]
     },
     "metadata": {},
     "output_type": "display_data"
    },
    {
     "data": {
      "text/plain": [
       "<function __main__.graficar(n=0)>"
      ]
     },
     "execution_count": 28,
     "metadata": {},
     "output_type": "execute_result"
    }
   ],
   "source": [
    "import numpy as np \n",
    "import matplotlib.pyplot as plt \n",
    "\n",
    "from ipywidgets import interact \n",
    "\n",
    "def graficar(n = 0): \n",
    "    x = np.linspace(-20,21, 200) # el dominio\n",
    "    p = x**n # regla de asignación \n",
    "    plt.plot(x, p, color = 'red')\n",
    "    plt.grid() \n",
    "    \n",
    "interact(graficar, n = (0,10)) "
   ]
  },
  {
   "cell_type": "markdown",
   "metadata": {},
   "source": [
    "## Inferencias de la lectura al gráfico interactivo anterior"
   ]
  },
  {
   "cell_type": "markdown",
   "metadata": {},
   "source": []
  },
  {
   "cell_type": "markdown",
   "metadata": {},
   "source": [
    "## Modelación con funciones polinómicas "
   ]
  },
  {
   "cell_type": "markdown",
   "metadata": {},
   "source": [
    "### Enfoque en el modelado\n",
    "#### Ajuste de curvas polinomiales a datos  \n",
    "\n",
    "Página 356 del stewart quinta edición. "
   ]
  },
  {
   "cell_type": "markdown",
   "metadata": {},
   "source": [
    "Se ha aprendido cómo ajustar una línea a datos (véase Enfoque en el modelado, página 239 del stewart sexta edición: Precálculo).  "
   ]
  },
  {
   "cell_type": "markdown",
   "metadata": {},
   "source": [
    "La recta modela la tendencia creciente o decreciente en los datos. "
   ]
  },
  {
   "cell_type": "markdown",
   "metadata": {},
   "source": [
    "Si los\n",
    "datos exhiben más variabilidad, un incremento seguido de una disminución, entonces\n",
    "para modelar los datos es necesario usar una curva en vez de una recta. En la figura\n",
    "1 se muestra un diagrama de dispersión con tres posibles modelos que al parecer se\n",
    "ajustan a los datos. ¿Qué modelo se ajusta mejor a los datos?"
   ]
  },
  {
   "cell_type": "markdown",
   "metadata": {},
   "source": [
    "<img src = 'https://github.com/marco-canas/fundamentos-de-las-matematicas/blob/main/clases/3_funciones/funciones_polinomiales/fig_1_fun_polinomiales.png?raw=true'>"
   ]
  },
  {
   "cell_type": "markdown",
   "metadata": {},
   "source": [
    "## Funciones polinomiales como modelos  \n"
   ]
  },
  {
   "cell_type": "markdown",
   "metadata": {},
   "source": [
    "\n",
    "Las funciones polinomiales son ideales para modelar datos donde el diagrama de dispersión tiene picos o valles (es decir, máximos o mínimos locales). "
   ]
  },
  {
   "cell_type": "markdown",
   "metadata": {},
   "source": [
    "Por ejemplo, si los datos tienen un solo pico como en la figura 2(a), entonces podría ser apropiado usar un polinomio cuadrático para modelar los datos. Mientras más picos o valles exhiban los datos, mayor es el grado del polinomio necesario para modelar los datos (véase la figura 2)."
   ]
  },
  {
   "cell_type": "markdown",
   "metadata": {},
   "source": [
    "<img src = 'https://github.com/marco-canas/fundamentos-de-las-matematicas/blob/main/clases/3_funciones/funciones_polinomiales/fig_2_modelos_polinomiales.png?raw=true'>"
   ]
  },
  {
   "cell_type": "markdown",
   "metadata": {},
   "source": [
    "Las calculadoras de graficación están programadas para hallar el polinomio del mejor ajuste de un grado especificado. Como en el caso de las rectas (véanse las páginas 239-240), un polinomio de un grado dado se ajusta a los datos mejor si se reduce al mínimo la suma de los cuadrados de las distancias entre la gráfica del polinomio y los puntos de datos."
   ]
  },
  {
   "cell_type": "markdown",
   "metadata": {},
   "source": [
    "### Ejemplo 1 Lluvia y rendimiento del cultivo  \n"
   ]
  },
  {
   "cell_type": "markdown",
   "metadata": {},
   "source": [
    "\n",
    "La lluvia es esencial para que crezcan los cultivos, pero demasiada lluvia puede disminuir el rendimiento. Los datos proporcionan la cantidad de lluvia y el rendimiento de algodón por acre durante varias estaciones en cierto país.    \n",
    "a) Construya un diagrama de dispersión de los datos. ¿Qué grado polinomial al parecer es apropiado para modelar los datos?  \n",
    "b) Use una calculadora de graficación para hallar el polinomio del mejor ajuste. Grafique el polinomio en el diagrama de dispersión.  \n",
    "c) Use el modelo que encontró para estimar el rendimiento si hay 25 pulg de lluvia.  "
   ]
  },
  {
   "cell_type": "markdown",
   "metadata": {},
   "source": [
    "<img src = 'https://github.com/marco-canas/fundamentos-de-las-matematicas/blob/main/clases/3_funciones/funciones_polinomiales/fig_3_tabla_relacion_.png?raw=true'>"
   ]
  },
  {
   "cell_type": "code",
   "execution_count": 29,
   "metadata": {},
   "outputs": [],
   "source": [
    "import numpy as np \n",
    "\n",
    "import pandas as pd "
   ]
  },
  {
   "cell_type": "code",
   "execution_count": 50,
   "metadata": {},
   "outputs": [],
   "source": [
    "L = np.array([23.3, 20.1, 18.1, 12.5, 30.9, 33.6, 35.8, 15.5, 27.6, 34.5]) "
   ]
  },
  {
   "cell_type": "code",
   "execution_count": 52,
   "metadata": {},
   "outputs": [
    {
     "data": {
      "text/plain": [
       "array([23.3, 20.1, 18.1, 12.5, 30.9, 33.6, 35.8, 15.5, 27.6, 34.5])"
      ]
     },
     "execution_count": 52,
     "metadata": {},
     "output_type": "execute_result"
    }
   ],
   "source": [
    "L "
   ]
  },
  {
   "cell_type": "code",
   "execution_count": 48,
   "metadata": {},
   "outputs": [],
   "source": [
    "L2 = L.copy() "
   ]
  },
  {
   "cell_type": "code",
   "execution_count": 53,
   "metadata": {},
   "outputs": [
    {
     "data": {
      "text/plain": [
       "array([[23.3],\n",
       "       [20.1],\n",
       "       [18.1],\n",
       "       [12.5],\n",
       "       [30.9],\n",
       "       [33.6],\n",
       "       [35.8],\n",
       "       [15.5],\n",
       "       [27.6],\n",
       "       [34.5]])"
      ]
     },
     "execution_count": 53,
     "metadata": {},
     "output_type": "execute_result"
    }
   ],
   "source": [
    "L2"
   ]
  },
  {
   "cell_type": "code",
   "execution_count": 40,
   "metadata": {},
   "outputs": [
    {
     "data": {
      "text/plain": [
       "2"
      ]
     },
     "execution_count": 40,
     "metadata": {},
     "output_type": "execute_result"
    }
   ],
   "source": [
    "L.ndim "
   ]
  },
  {
   "cell_type": "code",
   "execution_count": 41,
   "metadata": {},
   "outputs": [
    {
     "data": {
      "text/plain": [
       "array([[23.3],\n",
       "       [20.1],\n",
       "       [18.1],\n",
       "       [12.5],\n",
       "       [30.9],\n",
       "       [33.6],\n",
       "       [35.8],\n",
       "       [15.5],\n",
       "       [27.6],\n",
       "       [34.5]])"
      ]
     },
     "execution_count": 41,
     "metadata": {},
     "output_type": "execute_result"
    }
   ],
   "source": [
    "L  "
   ]
  },
  {
   "cell_type": "code",
   "execution_count": 42,
   "metadata": {},
   "outputs": [],
   "source": [
    "R = np.array([5311, 4382, 3950, 3137, 5113, 4814, 3540, 3850, 5071, 3881])"
   ]
  },
  {
   "cell_type": "code",
   "execution_count": 43,
   "metadata": {},
   "outputs": [
    {
     "data": {
      "text/plain": [
       "1"
      ]
     },
     "execution_count": 43,
     "metadata": {},
     "output_type": "execute_result"
    }
   ],
   "source": [
    "R.ndim "
   ]
  },
  {
   "cell_type": "code",
   "execution_count": 44,
   "metadata": {},
   "outputs": [
    {
     "data": {
      "text/plain": [
       "array([5311, 4382, 3950, 3137, 5113, 4814, 3540, 3850, 5071, 3881])"
      ]
     },
     "execution_count": 44,
     "metadata": {},
     "output_type": "execute_result"
    }
   ],
   "source": [
    "R "
   ]
  },
  {
   "cell_type": "code",
   "execution_count": 54,
   "metadata": {},
   "outputs": [],
   "source": [
    "diccionario = {'Lluvia (pulg)': L, 'Rendimiento (Kg/acre)': R} "
   ]
  },
  {
   "cell_type": "code",
   "execution_count": 55,
   "metadata": {},
   "outputs": [
    {
     "data": {
      "text/html": [
       "<div>\n",
       "<style scoped>\n",
       "    .dataframe tbody tr th:only-of-type {\n",
       "        vertical-align: middle;\n",
       "    }\n",
       "\n",
       "    .dataframe tbody tr th {\n",
       "        vertical-align: top;\n",
       "    }\n",
       "\n",
       "    .dataframe thead th {\n",
       "        text-align: right;\n",
       "    }\n",
       "</style>\n",
       "<table border=\"1\" class=\"dataframe\">\n",
       "  <thead>\n",
       "    <tr style=\"text-align: right;\">\n",
       "      <th></th>\n",
       "      <th>Lluvia (pulg)</th>\n",
       "      <th>Rendimiento (Kg/acre)</th>\n",
       "    </tr>\n",
       "  </thead>\n",
       "  <tbody>\n",
       "    <tr>\n",
       "      <th>0</th>\n",
       "      <td>23.3</td>\n",
       "      <td>5311</td>\n",
       "    </tr>\n",
       "    <tr>\n",
       "      <th>1</th>\n",
       "      <td>20.1</td>\n",
       "      <td>4382</td>\n",
       "    </tr>\n",
       "    <tr>\n",
       "      <th>2</th>\n",
       "      <td>18.1</td>\n",
       "      <td>3950</td>\n",
       "    </tr>\n",
       "    <tr>\n",
       "      <th>3</th>\n",
       "      <td>12.5</td>\n",
       "      <td>3137</td>\n",
       "    </tr>\n",
       "    <tr>\n",
       "      <th>4</th>\n",
       "      <td>30.9</td>\n",
       "      <td>5113</td>\n",
       "    </tr>\n",
       "    <tr>\n",
       "      <th>5</th>\n",
       "      <td>33.6</td>\n",
       "      <td>4814</td>\n",
       "    </tr>\n",
       "    <tr>\n",
       "      <th>6</th>\n",
       "      <td>35.8</td>\n",
       "      <td>3540</td>\n",
       "    </tr>\n",
       "    <tr>\n",
       "      <th>7</th>\n",
       "      <td>15.5</td>\n",
       "      <td>3850</td>\n",
       "    </tr>\n",
       "    <tr>\n",
       "      <th>8</th>\n",
       "      <td>27.6</td>\n",
       "      <td>5071</td>\n",
       "    </tr>\n",
       "    <tr>\n",
       "      <th>9</th>\n",
       "      <td>34.5</td>\n",
       "      <td>3881</td>\n",
       "    </tr>\n",
       "  </tbody>\n",
       "</table>\n",
       "</div>"
      ],
      "text/plain": [
       "   Lluvia (pulg)  Rendimiento (Kg/acre)\n",
       "0           23.3                   5311\n",
       "1           20.1                   4382\n",
       "2           18.1                   3950\n",
       "3           12.5                   3137\n",
       "4           30.9                   5113\n",
       "5           33.6                   4814\n",
       "6           35.8                   3540\n",
       "7           15.5                   3850\n",
       "8           27.6                   5071\n",
       "9           34.5                   3881"
      ]
     },
     "execution_count": 55,
     "metadata": {},
     "output_type": "execute_result"
    }
   ],
   "source": [
    "import pandas as pd \n",
    "tabla = pd.DataFrame(diccionario) \n",
    "tabla "
   ]
  },
  {
   "cell_type": "markdown",
   "metadata": {},
   "source": [
    "## Solución del item a) Digrama de dispersión y determinación del grado del polinomio que mejor ajusta los datos"
   ]
  },
  {
   "cell_type": "code",
   "execution_count": 56,
   "metadata": {},
   "outputs": [
    {
     "data": {
      "image/png": "[encoded data removed]",
      "text/plain": [
       "<Figure size 432x288 with 1 Axes>"
      ]
     },
     "metadata": {
      "needs_background": "light"
     },
     "output_type": "display_data"
    }
   ],
   "source": [
    "import matplotlib.pyplot as plt \n",
    "\n",
    "plt.scatter(L,R, color = 'red')\n",
    "\n",
    "plt.xlabel('Lluvia (pulgadas)')\n",
    "plt.ylabel('Rendimiento (Kg/acre)') \n",
    "\n",
    "plt.xticks(np.arange(12, 40, 2))\n",
    "plt.yticks(np.arange(3000, 6000, 200))\n",
    "\n",
    "plt.grid(alpha = 0.4) "
   ]
  },
  {
   "cell_type": "markdown",
   "metadata": {},
   "source": [
    "## Inferencias e interpretaciones derivadas de la lectura del gráfico de dispersión anterior "
   ]
  },
  {
   "cell_type": "markdown",
   "metadata": {},
   "source": [
    "1. el gráfico no es lineal, porque si así lo fuera, siempre a mayor cantidad de lluvia, mayor rendimiento y eso no es cierto. \n",
    "2. Hay un nivel de lluvia o´ptimo, es decir, un nivel de lluvia que maximiza el rendimiento y ese se puede estimar en el pico de la gráfica: El rendimiento es de aproximadamente 5200 Kg/acre cuendo el nivel de lluvia es de 24 pulgadas. \n",
    "3. En los intervalos de lluvia entre 24 y 32 pulgadas , el rendimiento es mayor a 5000. \n",
    "\n",
    "4. A menos lluvia, menor rendimiento en el intervalo de lluvia de 12 a 14 pulgadas. \n",
    "5. A partir de 32 pulgadas de lluvia, el rendimiento decae.  "
   ]
  },
  {
   "cell_type": "markdown",
   "metadata": {},
   "source": [
    "Como los datos tienen solo un maximo local, entonces el polinomio que mejor ajusta estos datos es uno de grado 2:\n",
    "\n",
    "$$ P_{2}(x)  = ax^{2} + bx + c$$"
   ]
  },
  {
   "cell_type": "markdown",
   "metadata": {},
   "source": [
    "# Preprocesamiento de datos "
   ]
  },
  {
   "cell_type": "code",
   "execution_count": 57,
   "metadata": {},
   "outputs": [
    {
     "data": {
      "text/plain": [
       "(23.3, array([ 23.3 , 542.89]))"
      ]
     },
     "execution_count": 57,
     "metadata": {},
     "output_type": "execute_result"
    }
   ],
   "source": [
    "from sklearn.preprocessing import PolynomialFeatures\n",
    "poly_features = PolynomialFeatures(degree=2, include_bias=False)\n",
    "L_poly = poly_features.fit_transform(L2)\n",
    "L[0], L_poly[0]"
   ]
  },
  {
   "cell_type": "code",
   "execution_count": null,
   "metadata": {},
   "outputs": [
    {
     "data": {
      "text/plain": [
       "array([ 23.3 , 542.89])"
      ]
     },
     "execution_count": 21,
     "metadata": {},
     "output_type": "execute_result"
    }
   ],
   "source": [
    "X_poly[0]"
   ]
  },
  {
   "cell_type": "code",
   "execution_count": null,
   "metadata": {},
   "outputs": [
    {
     "data": {
      "text/plain": [
       "542.89"
      ]
     },
     "execution_count": 22,
     "metadata": {},
     "output_type": "execute_result"
    }
   ],
   "source": [
    "23.3**2"
   ]
  },
  {
   "cell_type": "code",
   "execution_count": 58,
   "metadata": {},
   "outputs": [],
   "source": [
    "from sklearn.linear_model import LinearRegression"
   ]
  },
  {
   "cell_type": "code",
   "execution_count": 59,
   "metadata": {},
   "outputs": [
    {
     "data": {
      "text/html": [
       "<style>#sk-container-id-1 {color: black;background-color: white;}#sk-container-id-1 pre{padding: 0;}#sk-container-id-1 div.sk-toggleable {background-color: white;}#sk-container-id-1 label.sk-toggleable__label {cursor: pointer;display: block;width: 100%;margin-bottom: 0;padding: 0.3em;box-sizing: border-box;text-align: center;}#sk-container-id-1 label.sk-toggleable__label-arrow:before {content: \"▸\";float: left;margin-right: 0.25em;color: #696969;}#sk-container-id-1 label.sk-toggleable__label-arrow:hover:before {color: black;}#sk-container-id-1 div.sk-estimator:hover label.sk-toggleable__label-arrow:before {color: black;}#sk-container-id-1 div.sk-toggleable__content {max-height: 0;max-width: 0;overflow: hidden;text-align: left;background-color: #f0f8ff;}#sk-container-id-1 div.sk-toggleable__content pre {margin: 0.2em;color: black;border-radius: 0.25em;background-color: #f0f8ff;}#sk-container-id-1 input.sk-toggleable__control:checked~div.sk-toggleable__content {max-height: 200px;max-width: 100%;overflow: auto;}#sk-container-id-1 input.sk-toggleable__control:checked~label.sk-toggleable__label-arrow:before {content: \"▾\";}#sk-container-id-1 div.sk-estimator input.sk-toggleable__control:checked~label.sk-toggleable__label {background-color: #d4ebff;}#sk-container-id-1 div.sk-label input.sk-toggleable__control:checked~label.sk-toggleable__label {background-color: #d4ebff;}#sk-container-id-1 input.sk-hidden--visually {border: 0;clip: rect(1px 1px 1px 1px);clip: rect(1px, 1px, 1px, 1px);height: 1px;margin: -1px;overflow: hidden;padding: 0;position: absolute;width: 1px;}#sk-container-id-1 div.sk-estimator {font-family: monospace;background-color: #f0f8ff;border: 1px dotted black;border-radius: 0.25em;box-sizing: border-box;margin-bottom: 0.5em;}#sk-container-id-1 div.sk-estimator:hover {background-color: #d4ebff;}#sk-container-id-1 div.sk-parallel-item::after {content: \"\";width: 100%;border-bottom: 1px solid gray;flex-grow: 1;}#sk-container-id-1 div.sk-label:hover label.sk-toggleable__label {background-color: #d4ebff;}#sk-container-id-1 div.sk-serial::before {content: \"\";position: absolute;border-left: 1px solid gray;box-sizing: border-box;top: 0;bottom: 0;left: 50%;z-index: 0;}#sk-container-id-1 div.sk-serial {display: flex;flex-direction: column;align-items: center;background-color: white;padding-right: 0.2em;padding-left: 0.2em;position: relative;}#sk-container-id-1 div.sk-item {position: relative;z-index: 1;}#sk-container-id-1 div.sk-parallel {display: flex;align-items: stretch;justify-content: center;background-color: white;position: relative;}#sk-container-id-1 div.sk-item::before, #sk-container-id-1 div.sk-parallel-item::before {content: \"\";position: absolute;border-left: 1px solid gray;box-sizing: border-box;top: 0;bottom: 0;left: 50%;z-index: -1;}#sk-container-id-1 div.sk-parallel-item {display: flex;flex-direction: column;z-index: 1;position: relative;background-color: white;}#sk-container-id-1 div.sk-parallel-item:first-child::after {align-self: flex-end;width: 50%;}#sk-container-id-1 div.sk-parallel-item:last-child::after {align-self: flex-start;width: 50%;}#sk-container-id-1 div.sk-parallel-item:only-child::after {width: 0;}#sk-container-id-1 div.sk-dashed-wrapped {border: 1px dashed gray;margin: 0 0.4em 0.5em 0.4em;box-sizing: border-box;padding-bottom: 0.4em;background-color: white;}#sk-container-id-1 div.sk-label label {font-family: monospace;font-weight: bold;display: inline-block;line-height: 1.2em;}#sk-container-id-1 div.sk-label-container {text-align: center;}#sk-container-id-1 div.sk-container {/* jupyter's `normalize.less` sets `[hidden] { display: none; }` but bootstrap.min.css set `[hidden] { display: none !important; }` so we also need the `!important` here to be able to override the default hidden behavior on the sphinx rendered scikit-learn.org. See: https://github.com/scikit-learn/scikit-learn/issues/21755 */display: inline-block !important;position: relative;}#sk-container-id-1 div.sk-text-repr-fallback {display: none;}</style><div id=\"sk-container-id-1\" class=\"sk-top-container\"><div class=\"sk-text-repr-fallback\"><pre>LinearRegression()</pre><b>In a Jupyter environment, please rerun this cell to show the HTML representation or trust the notebook. <br />On GitHub, the HTML representation is unable to render, please try loading this page with nbviewer.org.</b></div><div class=\"sk-container\" hidden><div class=\"sk-item\"><div class=\"sk-estimator sk-toggleable\"><input class=\"sk-toggleable__control sk-hidden--visually\" id=\"sk-estimator-id-1\" type=\"checkbox\" checked><label for=\"sk-estimator-id-1\" class=\"sk-toggleable__label sk-toggleable__label-arrow\">LinearRegression</label><div class=\"sk-toggleable__content\"><pre>LinearRegression()</pre></div></div></div></div></div>"
      ],
      "text/plain": [
       "LinearRegression()"
      ]
     },
     "execution_count": 59,
     "metadata": {},
     "output_type": "execute_result"
    }
   ],
   "source": [
    "lin_reg = LinearRegression()\n",
    "lin_reg.fit(L_poly, R)   # Genera el modelo que mejor ajusta los datos \n"
   ]
  },
  {
   "cell_type": "markdown",
   "metadata": {},
   "source": [
    "# Digame la parábola que mejor predice "
   ]
  },
  {
   "cell_type": "code",
   "execution_count": 60,
   "metadata": {},
   "outputs": [],
   "source": [
    " c,b,a = lin_reg.intercept_, lin_reg.coef_[0], lin_reg.coef_[1],  # ax^{2} + bx + c"
   ]
  },
  {
   "cell_type": "code",
   "execution_count": 61,
   "metadata": {},
   "outputs": [
    {
     "data": {
      "text/plain": [
       "-12.627174499534236"
      ]
     },
     "execution_count": 61,
     "metadata": {},
     "output_type": "execute_result"
    }
   ],
   "source": [
    "a"
   ]
  },
  {
   "cell_type": "code",
   "execution_count": 62,
   "metadata": {},
   "outputs": [
    {
     "data": {
      "text/plain": [
       "651.5470392405462"
      ]
     },
     "execution_count": 62,
     "metadata": {},
     "output_type": "execute_result"
    }
   ],
   "source": [
    "b"
   ]
  },
  {
   "cell_type": "code",
   "execution_count": 63,
   "metadata": {},
   "outputs": [
    {
     "data": {
      "text/plain": [
       "-3283.1574096913555"
      ]
     },
     "execution_count": 63,
     "metadata": {},
     "output_type": "execute_result"
    }
   ],
   "source": [
    "c "
   ]
  },
  {
   "cell_type": "markdown",
   "metadata": {},
   "source": [
    "# Gráfico del modelo y de los datos\n",
    "\n"
   ]
  },
  {
   "cell_type": "code",
   "execution_count": 66,
   "metadata": {},
   "outputs": [
    {
     "data": {
      "image/png": "[encoded data removed]",
      "text/plain": [
       "<Figure size 432x288 with 1 Axes>"
      ]
     },
     "metadata": {
      "needs_background": "light"
     },
     "output_type": "display_data"
    }
   ],
   "source": [
    "X_new = np.linspace(min(L) -0.2, max(L) + 0.2) # Dominio de graficación\n",
    "\n",
    "y_new = a*X_new**2 + b*X_new + c\n",
    "\n",
    "plt.plot(X_new, y_new, 'b-', label = 'Modelo cuadrático $R = -12.71l^{2} + 664.97l -3313.27$') \n",
    "\n",
    "plt.plot(L,R, 'ro')\n",
    "\n",
    "plt.xlabel('Lluvia (pulgadas)')\n",
    "plt.ylabel('Rendimiento (Kg/acre)') \n",
    "\n",
    "plt.xticks(np.arange(12, 40, 2))\n",
    "plt.yticks(np.arange(3000, 6000, 200))\n",
    "\n",
    "plt.grid(alpha = 0.4) \n",
    "\n",
    "plt.legend()\n",
    "\n",
    "plt.savefig('datos_lluvia_vs_rendimiento_modelados.jpg')\n",
    "\n",
    "plt.show() \n",
    "\n",
    "\n",
    "\n"
   ]
  },
  {
   "cell_type": "code",
   "execution_count": 68,
   "metadata": {},
   "outputs": [],
   "source": [
    "def modelo_cuadratico(l):\n",
    "    return a*l**2+b*l + c"
   ]
  },
  {
   "cell_type": "code",
   "execution_count": 69,
   "metadata": {},
   "outputs": [
    {
     "data": {
      "text/plain": [
       "5113.5345091134"
      ]
     },
     "execution_count": 69,
     "metadata": {},
     "output_type": "execute_result"
    }
   ],
   "source": [
    "modelo_cuadratico(25) "
   ]
  },
  {
   "cell_type": "markdown",
   "metadata": {},
   "source": [
    "## Conclusión\n",
    "\n"
   ]
  },
  {
   "cell_type": "markdown",
   "metadata": {},
   "source": [
    "# Medida de desempeño "
   ]
  },
  {
   "cell_type": "code",
   "execution_count": 72,
   "metadata": {},
   "outputs": [],
   "source": [
    "from sklearn.metrics import mean_squared_error"
   ]
  },
  {
   "cell_type": "code",
   "execution_count": 74,
   "metadata": {},
   "outputs": [],
   "source": [
    "rendimiento_que_tengo = R \n",
    "\n",
    "rendimiento_predicho = modelo_cuadratico(L)"
   ]
  },
  {
   "cell_type": "code",
   "execution_count": 75,
   "metadata": {},
   "outputs": [
    {
     "data": {
      "text/plain": [
       "(array([5311, 4382, 3950, 3137, 5113, 4814, 3540, 3850, 5071, 3881]),\n",
       " array([5042.72184056, 4711.43330949, 4373.05536277, 2888.18456526,\n",
       "        4793.09361894, 4353.2481858 , 3858.73466954, 3782.14302502,\n",
       "        5080.66442658, 4165.72099604]))"
      ]
     },
     "execution_count": 75,
     "metadata": {},
     "output_type": "execute_result"
    }
   ],
   "source": [
    "rendimiento_que_tengo, rendimiento_predicho"
   ]
  },
  {
   "cell_type": "code",
   "execution_count": 77,
   "metadata": {},
   "outputs": [
    {
     "data": {
      "text/plain": [
       "303.8704607295575"
      ]
     },
     "execution_count": 77,
     "metadata": {},
     "output_type": "execute_result"
    }
   ],
   "source": [
    "np.sqrt(mean_squared_error(rendimiento_que_tengo,rendimiento_predicho)) "
   ]
  },
  {
   "cell_type": "markdown",
   "metadata": {},
   "source": [
    "## Ejercicios recomendados para alcanzar la fijación en el aprendizaje de la modelación con funciones polinómicas\n",
    "\n",
    "1. Realice todos los ejercicios de la página 298 de la sección 3.1 del precálculo de Stewart quinta edición. \n",
    "2. Realice todos los ejercicios de la página 306 de la sección 3.2 del precálculo de Stewart quinta edición: ejercicios sobre *el algoritmo de división de polinomios larga*."
   ]
  },
  {
   "cell_type": "code",
   "execution_count": null,
   "metadata": {},
   "outputs": [],
   "source": []
  },
  {
   "cell_type": "code",
   "execution_count": null,
   "metadata": {},
   "outputs": [],
   "source": []
  },
  {
   "cell_type": "markdown",
   "metadata": {},
   "source": [
    "## Referentes \n",
    "\n",
    "* Stewart, Precálculo sexta edición. \n",
    "\n",
    "* https://jhonyvilla.wordpress.com/\n",
    "\n",
    "* Computational Thinking in Mathematical Modeling Projects. A Case Study with Future Mathematics Teachers. https://link.springer.com/chapter/10.1007/978-3-030-96293-7_38    \n",
    "\n",
    "* Ejemplo de regresión polinomial dado por Aurelien Geron en su texto Hands on Machine Learning en el cuarto capítulo: https://github.com/ageron/handson-ml/blob/master/04_training_linear_models.ipynb  \n",
    "\n",
    "* Capítulo 4 de Geron sobre modelos de regresión polinomial: https://github.com/ageron/handson-ml/blob/master/04_training_linear_models.ipynb\n",
    "\n"
   ]
  },
  {
   "cell_type": "markdown",
   "metadata": {},
   "source": []
  }
 ],
 "metadata": {
  "kernelspec": {
   "display_name": "Python 3.9.12 ('base')",
   "language": "python",
   "name": "python3"
  },
  "language_info": {
   "codemirror_mode": {
    "name": "ipython",
    "version": 3
   },
   "file_extension": ".py",
   "mimetype": "text/x-python",
   "name": "python",
   "nbconvert_exporter": "python",
   "pygments_lexer": "ipython3",
   "version": "3.9.12"
  },
  "orig_nbformat": 4,
  "vscode": {
   "interpreter": {
    "hash": "4872d8d3c2bbc685ce63036ae2af19b2205f6c9572f817ece472ff4ae51ff82f"
   }
  }
 },
 "nbformat": 4,
 "nbformat_minor": 2
}
