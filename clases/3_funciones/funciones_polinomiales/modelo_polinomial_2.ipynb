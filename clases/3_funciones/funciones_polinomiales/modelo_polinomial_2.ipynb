{
 "cells": [
  {
   "cell_type": "markdown",
   "metadata": {},
   "source": [
    "# Aplicación de la matemática a la vida real"
   ]
  },
  {
   "cell_type": "markdown",
   "metadata": {},
   "source": [
    "## Planteamiento del problema"
   ]
  },
  {
   "cell_type": "markdown",
   "metadata": {},
   "source": [
    "### ¿Demasiadas plantas de maíz por acre?   \n",
    "\n",
    "Mientras más plantas por acre siembre un campesino, mayor es la producción que puede esperar, pero sólo hasta cierto punto.\n",
    "\n",
    "\n",
    "Demasiadas plantas por acre pueden causar sobrepoblación y reducir la producción. Los\n",
    "datos dan el rendimiento del cultivo por acre para varias densidades de plantaciones de\n",
    "maíz, según los hallazgos de investigadores en una granja de prueba de la universidad.\n",
    "a) Encuentre el polinomio cuadrático que mejor ajusta los datos.\n",
    "b) Dibuje una gráfica del polinomio del inciso a) junto con un diagrama de dispersión\n",
    "de los datos.\n",
    "c) Use el resultado del inciso b) para estimar la producción para 37 000 plantas \n",
    "por acre."
   ]
  },
  {
   "cell_type": "markdown",
   "metadata": {},
   "source": [
    "# Elaboración de la tabla "
   ]
  },
  {
   "cell_type": "markdown",
   "metadata": {},
   "source": []
  },
  {
   "cell_type": "markdown",
   "metadata": {},
   "source": [
    "# Elaboración del diagrama de dispersion"
   ]
  },
  {
   "cell_type": "markdown",
   "metadata": {},
   "source": [
    "# "
   ]
  }
 ],
 "metadata": {
  "kernelspec": {
   "display_name": "Python 3.9.12 ('base')",
   "language": "python",
   "name": "python3"
  },
  "language_info": {
   "name": "python",
   "version": "3.9.12"
  },
  "orig_nbformat": 4,
  "vscode": {
   "interpreter": {
    "hash": "4872d8d3c2bbc685ce63036ae2af19b2205f6c9572f817ece472ff4ae51ff82f"
   }
  }
 },
 "nbformat": 4,
 "nbformat_minor": 2
}
