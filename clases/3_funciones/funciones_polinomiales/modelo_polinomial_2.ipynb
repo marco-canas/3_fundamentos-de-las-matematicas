{
 "cells": [
  {
   "cell_type": "markdown",
   "metadata": {},
   "source": [
    "<table align=\"left\">\n",
    "  <td>\n",
    "    <a href=\"https://colab.research.google.com/github/marco-canas/fundamentos-de-las-matematicas/blob/main/clases/3_funciones/funciones_polinomiales/modelo_polinomial_2.ipynb\" target=\"_parent\"><img src=\"https://colab.research.google.com/assets/colab-badge.svg\" alt=\"Open In Colab\"/></a>\n",
    "  </td>\n",
    "</table>"
   ]
  },
  {
   "cell_type": "markdown",
   "metadata": {},
   "source": [
    "# Aplicación de la matemática a la vida real"
   ]
  },
  {
   "cell_type": "markdown",
   "metadata": {},
   "source": [
    "## Planteamiento del problema"
   ]
  },
  {
   "cell_type": "markdown",
   "metadata": {},
   "source": [
    "### ¿Demasiadas plantas de maíz por acre?   \n",
    "\n",
    "Mientras más plantas por acre siembre un campesino, mayor es la producción que puede esperar, pero sólo hasta cierto punto.\n",
    "\n",
    "\n",
    "Demasiadas plantas por acre pueden causar sobrepoblación y reducir la producción. Los datos dan el rendimiento del cultivo por acre para varias densidades de plantaciones de maíz, según los hallazgos de investigadores en una granja de prueba de la universidad.  \n",
    "\n",
    "\n",
    "a) Encuentre el polinomio cuadrático que mejor ajusta los datos.  \n",
    "\n",
    "b) Dibuje una gráfica del polinomio del inciso a) junto con un diagrama de dispersión de los datos.    \n",
    "\n",
    "c) Use el resultado del inciso b) para estimar la producción para 37 000 plantas por acre.  "
   ]
  },
  {
   "cell_type": "markdown",
   "metadata": {},
   "source": [
    "# Elaboración de la tabla "
   ]
  },
  {
   "cell_type": "code",
   "execution_count": 29,
   "metadata": {},
   "outputs": [
    {
     "data": {
      "text/html": [
       "<div>\n",
       "<style scoped>\n",
       "    .dataframe tbody tr th:only-of-type {\n",
       "        vertical-align: middle;\n",
       "    }\n",
       "\n",
       "    .dataframe tbody tr th {\n",
       "        vertical-align: top;\n",
       "    }\n",
       "\n",
       "    .dataframe thead th {\n",
       "        text-align: right;\n",
       "    }\n",
       "</style>\n",
       "<table border=\"1\" class=\"dataframe\">\n",
       "  <thead>\n",
       "    <tr style=\"text-align: right;\">\n",
       "      <th></th>\n",
       "      <th>Densidad</th>\n",
       "      <th>Rendimiento</th>\n",
       "    </tr>\n",
       "  </thead>\n",
       "  <tbody>\n",
       "    <tr>\n",
       "      <th>0</th>\n",
       "      <td>15000</td>\n",
       "      <td>43</td>\n",
       "    </tr>\n",
       "    <tr>\n",
       "      <th>1</th>\n",
       "      <td>20000</td>\n",
       "      <td>98</td>\n",
       "    </tr>\n",
       "    <tr>\n",
       "      <th>2</th>\n",
       "      <td>25000</td>\n",
       "      <td>118</td>\n",
       "    </tr>\n",
       "    <tr>\n",
       "      <th>3</th>\n",
       "      <td>30000</td>\n",
       "      <td>140</td>\n",
       "    </tr>\n",
       "    <tr>\n",
       "      <th>4</th>\n",
       "      <td>35000</td>\n",
       "      <td>142</td>\n",
       "    </tr>\n",
       "    <tr>\n",
       "      <th>5</th>\n",
       "      <td>40000</td>\n",
       "      <td>122</td>\n",
       "    </tr>\n",
       "    <tr>\n",
       "      <th>6</th>\n",
       "      <td>45000</td>\n",
       "      <td>93</td>\n",
       "    </tr>\n",
       "    <tr>\n",
       "      <th>7</th>\n",
       "      <td>50000</td>\n",
       "      <td>67</td>\n",
       "    </tr>\n",
       "  </tbody>\n",
       "</table>\n",
       "</div>"
      ],
      "text/plain": [
       "   Densidad  Rendimiento\n",
       "0     15000           43\n",
       "1     20000           98\n",
       "2     25000          118\n",
       "3     30000          140\n",
       "4     35000          142\n",
       "5     40000          122\n",
       "6     45000           93\n",
       "7     50000           67"
      ]
     },
     "execution_count": 29,
     "metadata": {},
     "output_type": "execute_result"
    }
   ],
   "source": [
    "import numpy as np \n",
    "\n",
    "import pandas as pd \n",
    "\n",
    "d = np.array([15_000, 20_000, 25_000, 30_000, 35_000, 40_000, 45_000, 50_000]) \n",
    "R = np.array([43, 98, 118, 140, 142, 122, 93, 67])\n",
    "diccionario = {'Densidad': d, 'Rendimiento': R} \n",
    "import pandas as pd \n",
    "tabla = pd.DataFrame(diccionario) \n",
    "tabla "
   ]
  },
  {
   "cell_type": "markdown",
   "metadata": {},
   "source": [
    "# Elaboración del diagrama de dispersion"
   ]
  },
  {
   "cell_type": "code",
   "execution_count": 30,
   "metadata": {},
   "outputs": [
    {
     "data": {
      "image/png": "[encoded data removed]",
      "text/plain": [
       "<Figure size 720x360 with 1 Axes>"
      ]
     },
     "metadata": {
      "needs_background": "light"
     },
     "output_type": "display_data"
    }
   ],
   "source": [
    "import numpy as np \n",
    "\n",
    "import matplotlib.pyplot as plt \n",
    "\n",
    "plt.figure(figsize = (10,5))\n",
    "\n",
    "plt.scatter(d, R, color = 'red', label = 'datos producción') \n",
    "\n",
    "plt.title(\"Este es un diagrama de dispersión o scatterplot \")\n",
    "\n",
    "plt.xlabel('Densidad de siembra')\n",
    "plt.ylabel('Rendimiento')\n",
    "\n",
    "plt.grid(alpha = 0.4) \n",
    "\n",
    "plt.legend()  \n",
    "\n",
    "\n",
    "\n",
    "plt.savefig('datos_producción_vs_densidad.jpg')\n",
    "\n",
    "plt.show() \n",
    "\n"
   ]
  },
  {
   "cell_type": "markdown",
   "metadata": {},
   "source": [
    "# Determinar el modelo cuadrático"
   ]
  },
  {
   "cell_type": "code",
   "execution_count": 31,
   "metadata": {},
   "outputs": [],
   "source": [
    "from sklearn.preprocessing import PolynomialFeatures\n",
    "poly_features = PolynomialFeatures(degree=2, include_bias=False)\n",
    "d_poly = poly_features.fit_transform(d.reshape(-1,1))\n",
    "from sklearn.linear_model import LinearRegression\n",
    "lin_reg = LinearRegression()\n",
    "lin_reg.fit(d_poly, R)   # Genera el modelo que mejor ajusta los datos \n",
    "c,b,a = round(lin_reg.intercept_, 2), lin_reg.coef_[0], lin_reg.coef_[1],  # ax^{2} + bx + c"
   ]
  },
  {
   "cell_type": "code",
   "execution_count": 23,
   "metadata": {},
   "outputs": [
    {
     "data": {
      "text/latex": [
       "$\\displaystyle \\operatorname{R_{}}{\\left(d_{} \\right)} = - 2.78 \\cdot 10^{-7} d_{}^{2} + 0.02 d_{} - 166.73$"
      ],
      "text/plain": [
       "Eq(R_(d_), -2.78e-7*d_**2 + 0.02*d_ - 166.73)"
      ]
     },
     "execution_count": 23,
     "metadata": {},
     "output_type": "execute_result"
    }
   ],
   "source": [
    "from sympy import * \n",
    "\n",
    "a_, b_, c_, R_, d_ = var('a_, b_, c_, R_, d_')\n",
    "c_,b_,a_ = round(lin_reg.intercept_, 2), round(lin_reg.coef_[0],2), round(lin_reg.coef_[1],9),  \n",
    "# ax^{2} + bx + c\n",
    "R_ = Function('R_')\n",
    "modelo = Eq(R_(d_), a_*d_**2 + b_*d_ + c_)\n",
    "modelo \n"
   ]
  },
  {
   "cell_type": "markdown",
   "metadata": {},
   "source": [
    "# Graficar los datos con el modelo"
   ]
  },
  {
   "cell_type": "code",
   "execution_count": 32,
   "metadata": {},
   "outputs": [
    {
     "data": {
      "image/png": "[encoded data removed]",
      "text/plain": [
       "<Figure size 720x360 with 1 Axes>"
      ]
     },
     "metadata": {
      "needs_background": "light"
     },
     "output_type": "display_data"
    }
   ],
   "source": [
    "plt.figure(figsize = (10,5))\n",
    "\n",
    "\n",
    "dominio = np.linspace(min(d), max(d), 100)\n",
    "rango = a*dominio**2+b*dominio + c\n",
    "\n",
    "plt.plot(dominio, rango, label = 'Modelo cuadrático') \n",
    "\n",
    "\n",
    "plt.scatter(d, R, color = 'red', label = 'datos producción') \n",
    "\n",
    "plt.title(\"Este es un diagrama de dispersión o scatterplot \")\n",
    "\n",
    "plt.xlabel('Densidad de siembra')\n",
    "plt.ylabel('Rendimiento')\n",
    "\n",
    "plt.grid(alpha = 0.4)\n",
    "\n",
    "plt.legend()  \n",
    "\n",
    "\n",
    "\n",
    "plt.savefig('datos_producción_vs_densidad_con_modelo.jpg')\n",
    "\n",
    "plt.show() "
   ]
  },
  {
   "cell_type": "code",
   "execution_count": null,
   "metadata": {},
   "outputs": [],
   "source": []
  },
  {
   "cell_type": "markdown",
   "metadata": {},
   "source": [
    "# Utilice el modelo para predecir"
   ]
  },
  {
   "cell_type": "code",
   "execution_count": 28,
   "metadata": {},
   "outputs": [
    {
     "data": {
      "text/plain": [
       "array([135.45214286])"
      ]
     },
     "execution_count": 28,
     "metadata": {},
     "output_type": "execute_result"
    }
   ],
   "source": [
    "lin_reg.predict([[37_000, 37000**2]])"
   ]
  },
  {
   "cell_type": "markdown",
   "metadata": {},
   "source": [
    "## Conclusiones derivadas de la predicción  \n",
    "\n",
    "1.  \n",
    "2.  \n",
    "\n"
   ]
  },
  {
   "cell_type": "markdown",
   "metadata": {},
   "source": [
    "# Grafique la predicción con el modelo y los datos. "
   ]
  },
  {
   "cell_type": "markdown",
   "metadata": {},
   "source": []
  }
 ],
 "metadata": {
  "kernelspec": {
   "display_name": "Python 3.9.12 ('base')",
   "language": "python",
   "name": "python3"
  },
  "language_info": {
   "codemirror_mode": {
    "name": "ipython",
    "version": 3
   },
   "file_extension": ".py",
   "mimetype": "text/x-python",
   "name": "python",
   "nbconvert_exporter": "python",
   "pygments_lexer": "ipython3",
   "version": "3.9.12"
  },
  "orig_nbformat": 4,
  "vscode": {
   "interpreter": {
    "hash": "4872d8d3c2bbc685ce63036ae2af19b2205f6c9572f817ece472ff4ae51ff82f"
   }
  }
 },
 "nbformat": 4,
 "nbformat_minor": 2
}
