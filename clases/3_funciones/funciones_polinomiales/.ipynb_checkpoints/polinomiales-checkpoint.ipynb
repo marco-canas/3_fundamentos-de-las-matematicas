{
 "cells": [
  {
   "cell_type": "markdown",
   "id": "f0a80a43",
   "metadata": {
    "slideshow": {
     "slide_type": "slide"
    }
   },
   "source": [
    "<table align=\"left\">\n",
    "  <td>\n",
    "<a href=\"https://colab.research.google.com/github/marco-canas/fundamentos-de-las-matematicas/blob/main/clasificacion_de_funciones.ipynb\" target=\"_parent\"><img src=\"https://colab.research.google.com/assets/colab-badge.svg\" alt=\"Open In Colab\"/></a>\n",
    " </td>\n",
    "</table>     "
   ]
  },
  {
   "cell_type": "markdown",
   "id": "5c01afa9",
   "metadata": {
    "slideshow": {
     "slide_type": "slide"
    }
   },
   "source": [
    "# Funciones polinomiales "
   ]
  },
  {
   "cell_type": "markdown",
   "id": "819fd57c",
   "metadata": {
    "slideshow": {
     "slide_type": "slide"
    }
   },
   "source": [
    "## Esquema del capítulo  "
   ]
  },
  {
   "cell_type": "markdown",
   "id": "a80f859d",
   "metadata": {
    "slideshow": {
     "slide_type": "slide"
    }
   },
   "source": [
    "Las funciones definidas por expresiones polinomiales se llaman funciones polinomiales."
   ]
  },
  {
   "cell_type": "markdown",
   "id": "d119b30f",
   "metadata": {
    "slideshow": {
     "slide_type": "slide"
    }
   },
   "source": [
    "Por ejemplo, es una función polinomial. "
   ]
  },
  {
   "cell_type": "markdown",
   "id": "e4b1501c",
   "metadata": {
    "slideshow": {
     "slide_type": "slide"
    }
   },
   "source": [
    "Las funciones polinomiales son fáciles de evaluar porque están definidas con sólo suma, resta y multiplicación. "
   ]
  },
  {
   "cell_type": "markdown",
   "id": "4df7273d",
   "metadata": {
    "slideshow": {
     "slide_type": "slide"
    }
   },
   "source": [
    "Esta propiedad hace que sean las funciones más útiles en matemáticas."
   ]
  },
  {
   "cell_type": "markdown",
   "id": "e29fc776",
   "metadata": {
    "slideshow": {
     "slide_type": "slide"
    }
   },
   "source": [
    "Las gráficas de funciones polinomiales pueden aumentar y disminuir varias veces."
   ]
  },
  {
   "cell_type": "markdown",
   "id": "7c02cb5f",
   "metadata": {
    "slideshow": {
     "slide_type": "slide"
    }
   },
   "source": [
    "Por esta razón son útiles para modelar muchas situaciones del mundo real. "
   ]
  },
  {
   "cell_type": "markdown",
   "id": "51934189",
   "metadata": {
    "slideshow": {
     "slide_type": "slide"
    }
   },
   "source": [
    "Por ejemplo, el dueño de una fábrica nota que si incrementa el número de trabajadores, se incrementa la productividad, pero si hay demasiados trabajadores, la productividad comienza a disminuir. "
   ]
  },
  {
   "cell_type": "markdown",
   "id": "4555abf8",
   "metadata": {
    "slideshow": {
     "slide_type": "slide"
    }
   },
   "source": [
    "Esta situación se modela mediante una función polinomial de grado 2 (un polinomio cuadrático). "
   ]
  },
  {
   "cell_type": "markdown",
   "id": "b6a944c4",
   "metadata": {
    "slideshow": {
     "slide_type": "slide"
    }
   },
   "source": [
    "En muchas especies animales los jóvenes experimentan un crecimiento acelerado inicial, seguido de un periodo de crecimiento lento, seguido de otro crecimiento acelerado. "
   ]
  },
  {
   "cell_type": "markdown",
   "id": "0dbb5a2a",
   "metadata": {
    "slideshow": {
     "slide_type": "slide"
    }
   },
   "source": [
    "Este fenómeno se modela mediante una función polinomial de grado 3 (un polinomio cúbico)."
   ]
  },
  {
   "cell_type": "markdown",
   "id": "a99a1aa1",
   "metadata": {
    "slideshow": {
     "slide_type": "slide"
    }
   },
   "source": [
    "Las gráficas de funciones polinomiales son hermosas curvas lisas que se emplean en procesos de diseño. "
   ]
  },
  {
   "cell_type": "markdown",
   "id": "4979260d",
   "metadata": {
    "slideshow": {
     "slide_type": "slide"
    }
   },
   "source": [
    "Por ejemplo, los constructores de botes juntan porciones de gráficas de diferentes funciones cúbicas (llamadas splines cúbicos) con el fin de diseñar las curvas naturales para el casco del bote."
   ]
  },
  {
   "cell_type": "markdown",
   "id": "aa9d7719",
   "metadata": {
    "slideshow": {
     "slide_type": "slide"
    }
   },
   "source": [
    "En este capítulo se estudian funciones racionales, que son cocientes de funciones polinomiales. "
   ]
  },
  {
   "cell_type": "markdown",
   "id": "dc2ef21c",
   "metadata": {
    "slideshow": {
     "slide_type": "slide"
    }
   },
   "source": [
    "Se verá que las funciones racionales también tienen muchas aplicaciones útiles"
   ]
  },
  {
   "cell_type": "markdown",
   "id": "95d01a91",
   "metadata": {
    "slideshow": {
     "slide_type": "slide"
    }
   },
   "source": [
    "# Las funciones polinómicas más simples "
   ]
  },
  {
   "cell_type": "code",
   "execution_count": 3,
   "id": "ab665afd",
   "metadata": {
    "slideshow": {
     "slide_type": "slide"
    }
   },
   "outputs": [
    {
     "data": {
      "application/vnd.jupyter.widget-view+json": {
       "model_id": "13d520d675604754abaa188165570536",
       "version_major": 2,
       "version_minor": 0
      },
      "text/plain": [
       "interactive(children=(Dropdown(description='n', options=(0, 1, 2, 3, 4, 5), value=0), Output()), _dom_classes=…"
      ]
     },
     "metadata": {},
     "output_type": "display_data"
    },
    {
     "data": {
      "text/plain": [
       "<function __main__.potencia(n=0)>"
      ]
     },
     "execution_count": 3,
     "metadata": {},
     "output_type": "execute_result"
    }
   ],
   "source": [
    "import numpy as np \n",
    "from matplotlib import pyplot as plt \n",
    "\n",
    "from ipywidgets import interact \n",
    "\n",
    "def potencia(n = 0):\n",
    "    plt.figure(figsize = (10,5))\n",
    "    X = np.arange(-3,4)\n",
    "    Y = X**n\n",
    "    plt.plot(X,Y)\n",
    "    plt.grid(alpha = 0.4)\n",
    "    \n",
    "\n",
    "interact(potencia, n = (np.arange(0,6)))"
   ]
  },
  {
   "cell_type": "code",
   "execution_count": null,
   "id": "8b4fbcd8",
   "metadata": {
    "slideshow": {
     "slide_type": "slide"
    }
   },
   "outputs": [],
   "source": []
  },
  {
   "cell_type": "code",
   "execution_count": null,
   "id": "324fe3a1",
   "metadata": {
    "slideshow": {
     "slide_type": "slide"
    }
   },
   "outputs": [],
   "source": []
  },
  {
   "cell_type": "code",
   "execution_count": null,
   "id": "1706312a",
   "metadata": {
    "slideshow": {
     "slide_type": "slide"
    }
   },
   "outputs": [],
   "source": []
  },
  {
   "cell_type": "code",
   "execution_count": null,
   "id": "9cbdb494",
   "metadata": {
    "slideshow": {
     "slide_type": "slide"
    }
   },
   "outputs": [],
   "source": []
  },
  {
   "cell_type": "code",
   "execution_count": null,
   "id": "5647e252",
   "metadata": {
    "slideshow": {
     "slide_type": "slide"
    }
   },
   "outputs": [],
   "source": []
  },
  {
   "cell_type": "code",
   "execution_count": null,
   "id": "ac85b5a1",
   "metadata": {},
   "outputs": [],
   "source": []
  },
  {
   "cell_type": "code",
   "execution_count": null,
   "id": "9afe3180",
   "metadata": {},
   "outputs": [],
   "source": []
  },
  {
   "cell_type": "code",
   "execution_count": null,
   "id": "2a686344",
   "metadata": {},
   "outputs": [],
   "source": []
  },
  {
   "cell_type": "code",
   "execution_count": null,
   "id": "509f6881",
   "metadata": {},
   "outputs": [],
   "source": []
  },
  {
   "cell_type": "code",
   "execution_count": null,
   "id": "adac4701",
   "metadata": {},
   "outputs": [],
   "source": []
  },
  {
   "cell_type": "code",
   "execution_count": null,
   "id": "88828fd1",
   "metadata": {},
   "outputs": [],
   "source": []
  },
  {
   "cell_type": "code",
   "execution_count": null,
   "id": "a93aab2c",
   "metadata": {},
   "outputs": [],
   "source": []
  },
  {
   "cell_type": "markdown",
   "id": "f0eceb29",
   "metadata": {},
   "source": [
    "## Referentes  \n",
    "\n",
    "* Precálculo Stewart: Página  "
   ]
  }
 ],
 "metadata": {
  "celltoolbar": "Slideshow",
  "kernelspec": {
   "display_name": "Python 3 (ipykernel)",
   "language": "python",
   "name": "python3"
  },
  "language_info": {
   "codemirror_mode": {
    "name": "ipython",
    "version": 3
   },
   "file_extension": ".py",
   "mimetype": "text/x-python",
   "name": "python",
   "nbconvert_exporter": "python",
   "pygments_lexer": "ipython3",
   "version": "3.9.12"
  }
 },
 "nbformat": 4,
 "nbformat_minor": 5
}
