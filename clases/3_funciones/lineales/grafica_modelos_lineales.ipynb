{
 "cells": [
  {
   "cell_type": "markdown",
   "id": "4372bff5",
   "metadata": {},
   "source": [
    "<table align=\"left\">\n",
    "  <td>\n",
    "    <a href=\"https://colab.research.google.com/github/marco-canas/fundamentos-de-las-matematicas/blob/main/clases/3_funciones/modelacion_ganancias/ganancias.ipynb\" target=\"_parent\"><img src=\"https://colab.research.google.com/assets/colab-badge.svg\" alt=\"Open In Colab\"/></a>\n",
    "  </td>\n",
    "</table>"
   ]
  },
  {
   "cell_type": "markdown",
   "id": "83224230",
   "metadata": {},
   "source": [
    "## [Video de apoyo a la lectura interactiva y experimental de este cuaderno]()"
   ]
  },
  {
   "cell_type": "markdown",
   "id": "c0c8fe95",
   "metadata": {},
   "source": [
    "# Conocer los modelos lineales "
   ]
  },
  {
   "cell_type": "code",
   "execution_count": 19,
   "id": "ff36cca9",
   "metadata": {},
   "outputs": [
    {
     "data": {
      "application/vnd.jupyter.widget-view+json": {
       "model_id": "ec4d4ce2b21741c1bb9b9759a1474e15",
       "version_major": 2,
       "version_minor": 0
      },
      "text/plain": [
       "interactive(children=(IntSlider(value=-4, description='m', max=4, min=-4), IntSlider(value=-4, description='b'…"
      ]
     },
     "metadata": {},
     "output_type": "display_data"
    },
    {
     "data": {
      "text/plain": [
       "<function __main__.trace_rectas(m=-4, b=-4)>"
      ]
     },
     "execution_count": 19,
     "metadata": {},
     "output_type": "execute_result"
    }
   ],
   "source": [
    "import numpy as np \n",
    "\n",
    "import matplotlib.pyplot as plt \n",
    "\n",
    "from ipywidgets import interact \n",
    "\n",
    "def trace_rectas(m=-4, b=-4):\n",
    "    plt.figure()\n",
    "    plt.title('Um modelo lineal $y = f(x) = mx+b$')\n",
    "    plt.grid()\n",
    "    plt.xlabel('eje de las abscisas $x$')\n",
    "    plt.ylabel('eje de las ordenadas $y$')\n",
    "    X = np.array([-4,4])\n",
    "    Y =  m*X + b\n",
    "    plt.plot(X,Y)\n",
    "    plt.plot([0,0], [-20,20], color = 'green') \n",
    "    plt.plot([-4,4], [0,0], color = 'green') \n",
    "        \n",
    "    \n",
    "    \n",
    "interact(trace_rectas, m = (-4,4), b = (-4,4))    "
   ]
  },
  {
   "cell_type": "markdown",
   "id": "cd046aa5",
   "metadata": {},
   "source": [
    "# El modelo para cambio de escala de temperatura"
   ]
  },
  {
   "cell_type": "code",
   "execution_count": null,
   "id": "123840ed",
   "metadata": {},
   "outputs": [],
   "source": []
  },
  {
   "cell_type": "code",
   "execution_count": null,
   "id": "5799db2a",
   "metadata": {},
   "outputs": [],
   "source": []
  },
  {
   "cell_type": "code",
   "execution_count": null,
   "id": "540f7978",
   "metadata": {},
   "outputs": [],
   "source": []
  },
  {
   "cell_type": "code",
   "execution_count": null,
   "id": "eccbc237",
   "metadata": {},
   "outputs": [],
   "source": []
  },
  {
   "cell_type": "code",
   "execution_count": null,
   "id": "720686ee",
   "metadata": {},
   "outputs": [],
   "source": []
  },
  {
   "cell_type": "code",
   "execution_count": null,
   "id": "8e7eb281",
   "metadata": {},
   "outputs": [],
   "source": []
  },
  {
   "cell_type": "code",
   "execution_count": null,
   "id": "c604211e",
   "metadata": {},
   "outputs": [],
   "source": []
  },
  {
   "cell_type": "code",
   "execution_count": null,
   "id": "db8924a7",
   "metadata": {},
   "outputs": [],
   "source": []
  },
  {
   "cell_type": "code",
   "execution_count": null,
   "id": "59b8962c",
   "metadata": {},
   "outputs": [],
   "source": []
  }
 ],
 "metadata": {
  "kernelspec": {
   "display_name": "Python 3.9.12 ('base')",
   "language": "python",
   "name": "python3"
  },
  "language_info": {
   "codemirror_mode": {
    "name": "ipython",
    "version": 3
   },
   "file_extension": ".py",
   "mimetype": "text/x-python",
   "name": "python",
   "nbconvert_exporter": "python",
   "pygments_lexer": "ipython3",
   "version": "3.9.12"
  },
  "vscode": {
   "interpreter": {
    "hash": "4872d8d3c2bbc685ce63036ae2af19b2205f6c9572f817ece472ff4ae51ff82f"
   }
  }
 },
 "nbformat": 4,
 "nbformat_minor": 5
}
