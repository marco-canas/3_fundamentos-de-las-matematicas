{
 "cells": [
  {
   "cell_type": "markdown",
   "metadata": {},
   "source": []
  },
  {
   "cell_type": "markdown",
   "metadata": {},
   "source": [
    "## [Video de apoyo a la lectura interactiva y experimental de este cuaderno]()"
   ]
  },
  {
   "cell_type": "markdown",
   "metadata": {},
   "source": [
    "# Modelación Presión  "
   ]
  },
  {
   "cell_type": "markdown",
   "metadata": {},
   "source": [
    "69. Presión y profundidad En la superficie del mar, la presión del agua es la misma que la presión del aire por arriba del agua, 15 lb/pulg2 . Abajo de la superficie, la presión del agua aumenta 4.34 lb/pulg2 por cada 10 pies que se descienden.  \n",
    "\n",
    "\n",
    "\n",
    "a) Determine una ecuación para la relación entre presión y profundidad abajo de la superficie del mar. \n",
    "\n",
    "\n",
    "b) Trace una gráfica de esta ecuación lineal.  \n",
    "\n",
    "\n",
    "c) ¿Qué representan la pendiente y la ordenada en el origen de la gráfica   \n",
    "\n",
    "\n",
    "\n",
    "Tomado de la página 158 de la sexta versión del Precálculo de Stewart. "
   ]
  },
  {
   "cell_type": "markdown",
   "metadata": {},
   "source": [
    "## Solución: "
   ]
  },
  {
   "cell_type": "markdown",
   "metadata": {},
   "source": [
    "## Representación tabular del modelo "
   ]
  },
  {
   "cell_type": "code",
   "execution_count": 5,
   "metadata": {},
   "outputs": [],
   "source": [
    "import pandas as pd \n",
    "import numpy as np \n",
    "profundidades = []\n",
    "presiones = []\n",
    "\n",
    "dic = {'profundidad':profundidades, 'presión':presiones}\n",
    "\n",
    "tabla = pd.DataFrame(dic)# construir tabla a partir de un diccionario \n",
    "\n"
   ]
  },
  {
   "cell_type": "markdown",
   "metadata": {},
   "source": [
    "# Representación gráfica del modelo"
   ]
  },
  {
   "cell_type": "code",
   "execution_count": null,
   "metadata": {},
   "outputs": [],
   "source": []
  },
  {
   "cell_type": "markdown",
   "metadata": {},
   "source": [
    "# Representación algebraica del modelo"
   ]
  },
  {
   "cell_type": "code",
   "execution_count": null,
   "metadata": {},
   "outputs": [],
   "source": []
  },
  {
   "cell_type": "markdown",
   "metadata": {},
   "source": [
    "# Respuestas a las preguntas utilizando las representaciones del modelo"
   ]
  },
  {
   "cell_type": "markdown",
   "metadata": {},
   "source": [
    "## Respuesta a la primera pregunta: a) Determine una ecuación para la relación entre presión y profundidad abajo de la superficie del mar. "
   ]
  },
  {
   "cell_type": "code",
   "execution_count": null,
   "metadata": {},
   "outputs": [],
   "source": []
  }
 ],
 "metadata": {
  "kernelspec": {
   "display_name": "Python 3.10.7 64-bit",
   "language": "python",
   "name": "python3"
  },
  "language_info": {
   "codemirror_mode": {
    "name": "ipython",
    "version": 3
   },
   "file_extension": ".py",
   "mimetype": "text/x-python",
   "name": "python",
   "nbconvert_exporter": "python",
   "pygments_lexer": "ipython3",
   "version": "3.10.7"
  },
  "orig_nbformat": 4,
  "vscode": {
   "interpreter": {
    "hash": "af153e239d61b5c0d363f35fe8a0509d492506f382d017c98fa3fb49fce70a72"
   }
  }
 },
 "nbformat": 4,
 "nbformat_minor": 2
}
