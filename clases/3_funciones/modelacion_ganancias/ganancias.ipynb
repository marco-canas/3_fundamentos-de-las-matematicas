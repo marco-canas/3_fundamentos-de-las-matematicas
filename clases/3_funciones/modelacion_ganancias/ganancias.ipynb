{
 "cells": [
  {
   "cell_type": "markdown",
   "metadata": {},
   "source": [
    "# Modelación de una situación probemática sobre ganancias en una empresa"
   ]
  },
  {
   "cell_type": "markdown",
   "metadata": {},
   "source": [
    "## Planteamiento de la situación"
   ]
  },
  {
   "cell_type": "markdown",
   "metadata": {},
   "source": [
    "### Aplicaciones\n"
   ]
  },
  {
   "cell_type": "markdown",
   "metadata": {},
   "source": [
    "### 58. Ganancia estimada \n",
    "\n",
    "Un fabricante de electrodomésticos estima que la ganancia $y$ en dólares que genera la producción $x$ de ollas por mes se determina mediante la ecuación\n",
    "\n",
    "$$ y = 10x + 0.5x^{2} - 0.001x^{3} - 5000 $$\n",
    "\n",
    "donde $ 0 \\leq x \\leq 450 $.\n",
    "\n",
    "a) Grafique la ecuación.  \n",
    "b) ¿Cuántas ollas se tienen que fabricar para empezar a generar ganancias?  \n",
    "c) ¿Para qué valores de $x$ la ganancia de la compañía es mayor que $15 000$ dólares?"
   ]
  },
  {
   "cell_type": "markdown",
   "metadata": {},
   "source": [
    "# Solución del problema "
   ]
  },
  {
   "cell_type": "markdown",
   "metadata": {},
   "source": [
    "a) Grafiquemos la función polinómica dada "
   ]
  },
  {
   "cell_type": "code",
   "execution_count": 4,
   "metadata": {},
   "outputs": [],
   "source": [
    "y = lambda x: 10*x + 0.5*x**2 - 0.001*x**3 - 5000 "
   ]
  },
  {
   "cell_type": "code",
   "execution_count": 23,
   "metadata": {},
   "outputs": [
    {
     "data": {
      "text/plain": [
       "15048.0"
      ]
     },
     "execution_count": 23,
     "metadata": {},
     "output_type": "execute_result"
    }
   ],
   "source": [
    "y(280) "
   ]
  },
  {
   "cell_type": "code",
   "execution_count": 26,
   "metadata": {},
   "outputs": [
    {
     "data": {
      "image/png": "[encoded data removed]",
      "text/plain": [
       "<Figure size 432x432 with 1 Axes>"
      ]
     },
     "metadata": {
      "needs_background": "light"
     },
     "output_type": "display_data"
    }
   ],
   "source": [
    "import numpy as np \n",
    "\n",
    "import matplotlib.pyplot as plt \n",
    "\n",
    "plt.figure(figsize = (6,6))\n",
    "\n",
    "plt.title('Gráfico de la función de ganancia')\n",
    "\n",
    "plt.xlabel('Número de ollas vendidas $x$')\n",
    "plt.ylabel('Ganancia $y$') \n",
    "\n",
    "a, b = 0, 300  # dominio de graficación\n",
    "\n",
    "plt.axis([a,b, y(a), y(b) ]) # rectángulo de visualización\n",
    "\n",
    "plt.grid()  # hoja cuadriculada\n",
    "\n",
    "X = np.linspace(a,b, 20) \n",
    "\n",
    "Y = [y(x) for x in X]\n",
    "\n",
    "plt.plot(X, Y, 'r-')\n",
    "\n",
    "plt.plot([0, b], [0, 0], 'g-')\n",
    "\n",
    "plt.plot([0, b], [15000, 15000], 'b-')\n",
    "\n",
    "plt.xticks(np.arange(0, b, 20))\n",
    "\n",
    "plt.savefig('grafico_funcion_polinomial.jpg')\n",
    "\n",
    "plt.show() \n"
   ]
  },
  {
   "cell_type": "markdown",
   "metadata": {},
   "source": [
    "## Interpretaciones o inferencias derivadas de la lectura del gráfico"
   ]
  },
  {
   "cell_type": "markdown",
   "metadata": {},
   "source": [
    "* Los gráficos se leen de izquierda a derecha. \n",
    "\n",
    "* La relación entre las variables es creciente porque el gráfico comienza en la parte inferior izquierda y termina en la parte superior derecha. \n",
    "\n",
    "* Esto quiere decir que a mayor número de olas vendidas, mayor será la ganancia. "
   ]
  },
  {
   "cell_type": "markdown",
   "metadata": {},
   "source": [
    "b) ¿Cuántas ollas se tienen que fabricar para empezar a generar ganancias? \n",
    "\n",
    "El número de ollas $x$ que se deben vender para sacar ganancias debe ser mayor que 100.  Porque para $x > 100$, el grpafico de la función está por encima del nivel cero de ganancias. "
   ]
  },
  {
   "cell_type": "markdown",
   "metadata": {},
   "source": [
    "c) ¿Para qué valores de $x$ la ganancia de la compañía es mayor que $15 000$ dólares?\n",
    "\n",
    "para un número de ollas mayor a 280, podemos obtener una ganancia mayor a 15 mil dolares. "
   ]
  },
  {
   "cell_type": "code",
   "execution_count": null,
   "metadata": {},
   "outputs": [],
   "source": []
  },
  {
   "cell_type": "code",
   "execution_count": null,
   "metadata": {},
   "outputs": [],
   "source": []
  },
  {
   "cell_type": "code",
   "execution_count": null,
   "metadata": {},
   "outputs": [],
   "source": []
  },
  {
   "cell_type": "code",
   "execution_count": null,
   "metadata": {},
   "outputs": [],
   "source": []
  },
  {
   "cell_type": "code",
   "execution_count": null,
   "metadata": {},
   "outputs": [],
   "source": []
  },
  {
   "cell_type": "code",
   "execution_count": null,
   "metadata": {},
   "outputs": [],
   "source": []
  },
  {
   "cell_type": "code",
   "execution_count": null,
   "metadata": {},
   "outputs": [],
   "source": []
  }
 ],
 "metadata": {
  "kernelspec": {
   "display_name": "Python 3.10.7 64-bit",
   "language": "python",
   "name": "python3"
  },
  "language_info": {
   "codemirror_mode": {
    "name": "ipython",
    "version": 3
   },
   "file_extension": ".py",
   "mimetype": "text/x-python",
   "name": "python",
   "nbconvert_exporter": "python",
   "pygments_lexer": "ipython3",
   "version": "3.10.7"
  },
  "orig_nbformat": 4,
  "vscode": {
   "interpreter": {
    "hash": "af153e239d61b5c0d363f35fe8a0509d492506f382d017c98fa3fb49fce70a72"
   }
  }
 },
 "nbformat": 4,
 "nbformat_minor": 2
}
