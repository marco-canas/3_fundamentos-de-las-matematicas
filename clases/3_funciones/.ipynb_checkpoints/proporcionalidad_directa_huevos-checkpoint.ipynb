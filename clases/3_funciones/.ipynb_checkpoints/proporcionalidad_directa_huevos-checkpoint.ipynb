{
 "cells": [
  {
   "cell_type": "markdown",
   "id": "22a081f7",
   "metadata": {
    "slideshow": {
     "slide_type": "slide"
    }
   },
   "source": [
    "<table align=\"left\">\n",
    "  <td>\n",
    "<a href=\"https://colab.research.google.com/github/marco-canas/fundamentos-de-las-matematicas/blob/main/clasificacion_de_funciones.ipynb\" target=\"_parent\"><img src=\"https://colab.research.google.com/assets/colab-badge.svg\" alt=\"Open In Colab\"/></a>\n",
    " </td>\n",
    "</table>     "
   ]
  },
  {
   "cell_type": "markdown",
   "id": "a6c86f60",
   "metadata": {
    "slideshow": {
     "slide_type": "slide"
    }
   },
   "source": [
    "## [Video de apoyo a la lectura de este cuaderno]()"
   ]
  },
  {
   "cell_type": "markdown",
   "id": "fe473f65",
   "metadata": {
    "slideshow": {
     "slide_type": "slide"
    }
   },
   "source": [
    "# Proporcionalidad directa"
   ]
  },
  {
   "cell_type": "markdown",
   "id": "646baaff",
   "metadata": {
    "slideshow": {
     "slide_type": "slide"
    }
   },
   "source": [
    "Toda relación lineal creciente que pase por el origen es una relación de proporcionalidad directa. Y por tanto, para ella aplica la regla de tres directa. "
   ]
  },
  {
   "cell_type": "markdown",
   "id": "3717fe78",
   "metadata": {
    "slideshow": {
     "slide_type": "slide"
    }
   },
   "source": [
    "## Ejemplo ilustrativo"
   ]
  },
  {
   "cell_type": "markdown",
   "id": "c47b12d0",
   "metadata": {
    "slideshow": {
     "slide_type": "slide"
    }
   },
   "source": [
    "El precio $p$ de una cantidad $h$ de huevos es una relación de proporcionalidad directa, porque al doble le corresponde el doble.  "
   ]
  },
  {
   "cell_type": "markdown",
   "id": "816ce32e",
   "metadata": {
    "slideshow": {
     "slide_type": "slide"
    }
   },
   "source": [
    "# Empecemos con la representación tabular"
   ]
  },
  {
   "cell_type": "code",
   "execution_count": 17,
   "id": "4a79bf46",
   "metadata": {
    "slideshow": {
     "slide_type": "slide"
    }
   },
   "outputs": [
    {
     "data": {
      "text/html": [
       "<div>\n",
       "<style scoped>\n",
       "    .dataframe tbody tr th:only-of-type {\n",
       "        vertical-align: middle;\n",
       "    }\n",
       "\n",
       "    .dataframe tbody tr th {\n",
       "        vertical-align: top;\n",
       "    }\n",
       "\n",
       "    .dataframe thead th {\n",
       "        text-align: right;\n",
       "    }\n",
       "</style>\n",
       "<table border=\"1\" class=\"dataframe\">\n",
       "  <thead>\n",
       "    <tr style=\"text-align: right;\">\n",
       "      <th></th>\n",
       "      <th>número de huevos $h$ comprados</th>\n",
       "      <th>valor $p$ a pagar</th>\n",
       "    </tr>\n",
       "  </thead>\n",
       "  <tbody>\n",
       "    <tr>\n",
       "      <th>1</th>\n",
       "      <td>1</td>\n",
       "      <td>600</td>\n",
       "    </tr>\n",
       "    <tr>\n",
       "      <th>2</th>\n",
       "      <td>2</td>\n",
       "      <td>1200</td>\n",
       "    </tr>\n",
       "    <tr>\n",
       "      <th>3</th>\n",
       "      <td>3</td>\n",
       "      <td>1800</td>\n",
       "    </tr>\n",
       "  </tbody>\n",
       "</table>\n",
       "</div>"
      ],
      "text/plain": [
       "   número de huevos $h$ comprados  valor $p$ a pagar\n",
       "1                               1                600\n",
       "2                               2               1200\n",
       "3                               3               1800"
      ]
     },
     "execution_count": 17,
     "metadata": {},
     "output_type": "execute_result"
    }
   ],
   "source": [
    "import numpy as np \n",
    "import pandas as pd \n",
    "h = np.array([[1],[2],[3]])\n",
    "p = np.array([[600], [1200], [1800]]) \n",
    "dic = {'número de huevos $h$ comprados':h.ravel(), 'valor $p$ a pagar':p.ravel()}\n",
    "df = pd.DataFrame(dic, index = np.arange(1,4))\n",
    "df "
   ]
  },
  {
   "cell_type": "markdown",
   "id": "f887f0be",
   "metadata": {
    "slideshow": {
     "slide_type": "slide"
    }
   },
   "source": [
    "## Trazo del diagrama de dispersión"
   ]
  },
  {
   "cell_type": "code",
   "execution_count": 21,
   "id": "73b79db5",
   "metadata": {
    "slideshow": {
     "slide_type": "slide"
    }
   },
   "outputs": [
    {
     "data": {
      "image/png": "[encoded data removed]",
      "text/plain": [
       "<Figure size 432x288 with 1 Axes>"
      ]
     },
     "metadata": {
      "needs_background": "light"
     },
     "output_type": "display_data"
    }
   ],
   "source": [
    "import matplotlib.pyplot as plt \n",
    "\n",
    "plt.plot([-1,4], [0,0], 'b-') # trazo del eje x\n",
    "plt.plot([0,0], [0,1900], 'b-') # trazo del eje y\n",
    "\n",
    "plt.scatter(h, p, color = 'red')\n",
    "\n",
    "plt.plot(np.r_[np.array([[0]]),h], np.r_[np.array([[0]]),p], color = 'green')\n",
    "\n",
    "\n",
    "\n",
    "plt.grid(alpha = 0.4)\n",
    "\n",
    "plt.savefig('datos_huevos.jpg') \n",
    "\n",
    "plt.show()\n"
   ]
  },
  {
   "cell_type": "markdown",
   "id": "e9fd3997",
   "metadata": {
    "slideshow": {
     "slide_type": "slide"
    }
   },
   "source": [
    "## Inferencias que se derivan del gráfico \n",
    "\n",
    "* La relación entre las variables es lineal, creciente y pasa por el origen, por tanto, la relación entre las variables es de proporcionalidad directa. "
   ]
  },
  {
   "cell_type": "code",
   "execution_count": 35,
   "id": "e2fc824a",
   "metadata": {
    "slideshow": {
     "slide_type": "slide"
    }
   },
   "outputs": [
    {
     "data": {
      "image/png": "[encoded data removed]",
      "text/plain": [
       "<Figure size 432x288 with 1 Axes>"
      ]
     },
     "metadata": {
      "needs_background": "light"
     },
     "output_type": "display_data"
    }
   ],
   "source": [
    "from sklearn.linear_model import LinearRegression \n",
    "\n",
    "modelo_lineal = LinearRegression()\n",
    "\n",
    "modelo_lineal.fit(h,p)\n",
    "\n",
    "m,b = modelo_lineal.coef_[0][0], modelo_lineal.intercept_  \n",
    "# recuerde que .coef_ devuelve un arreglo de numpy 2D\n",
    "\n",
    "#rectangulo de visualizacion\n",
    "rectangulo = [-1, 4, -1*m+b, 4*m+b ]\n",
    "\n",
    "plt.axis(rectangulo) \n",
    "\n",
    "plt.plot([-1,4], [0,0], 'b-') # trazo del eje x\n",
    "plt.plot([0,0], [0,1900], 'b-') # trazo del eje y\n",
    "\n",
    "# gráfica de los datos\n",
    "plt.scatter(h, p, color = 'red')\n",
    "\n",
    "plt.plot(np.r_[np.array([[0]]),h], np.r_[np.array([[0]]),p], color = 'green')\n",
    "\n",
    "plt.plot([-1,4], [-1*m+b, 4*m + b]) # grafica del modelo\n",
    "\n",
    "plt.grid(alpha = 0.4)\n",
    "\n",
    "plt.savefig('datos_modelo.jpg')\n",
    "\n",
    "plt.show()\n",
    "\n"
   ]
  },
  {
   "cell_type": "markdown",
   "id": "0145b37b",
   "metadata": {
    "slideshow": {
     "slide_type": "slide"
    }
   },
   "source": [
    "## Prediccion y Conclusión "
   ]
  },
  {
   "cell_type": "code",
   "execution_count": null,
   "id": "7626ef32",
   "metadata": {
    "slideshow": {
     "slide_type": "slide"
    }
   },
   "outputs": [],
   "source": []
  },
  {
   "cell_type": "code",
   "execution_count": null,
   "id": "16802f45",
   "metadata": {
    "slideshow": {
     "slide_type": "slide"
    }
   },
   "outputs": [],
   "source": []
  },
  {
   "cell_type": "code",
   "execution_count": null,
   "id": "6df7dee6",
   "metadata": {
    "slideshow": {
     "slide_type": "slide"
    }
   },
   "outputs": [],
   "source": []
  }
 ],
 "metadata": {
  "celltoolbar": "Slideshow",
  "kernelspec": {
   "display_name": "Python 3 (ipykernel)",
   "language": "python",
   "name": "python3"
  },
  "language_info": {
   "codemirror_mode": {
    "name": "ipython",
    "version": 3
   },
   "file_extension": ".py",
   "mimetype": "text/x-python",
   "name": "python",
   "nbconvert_exporter": "python",
   "pygments_lexer": "ipython3",
   "version": "3.9.12"
  },
  "rise": {
   "scroll": true,
   "theme": "serif"
  }
 },
 "nbformat": 4,
 "nbformat_minor": 5
}
