{
 "cells": [
  {
   "cell_type": "markdown",
   "id": "4afc87f1",
   "metadata": {
    "slideshow": {
     "slide_type": "slide"
    }
   },
   "source": [
    "<table align=\"left\">\n",
    "  <td>\n",
    "<a href=\"https://colab.research.google.com/github/marco-canas/fundamentos-de-las-matematicas/blob/main/clases/3_funciones/proporcionalidad_directa_huevos.ipynb\" target=\"_parent\"><img src=\"https://colab.research.google.com/assets/colab-badge.svg\" alt=\"Open In Colab\"/></a>\n",
    " </td>\n",
    "</table>     "
   ]
  },
  {
   "cell_type": "markdown",
   "id": "195dfb12",
   "metadata": {
    "slideshow": {
     "slide_type": "slide"
    }
   },
   "source": [
    "## [Video de apoyo a la lectura de este cuaderno]()"
   ]
  },
  {
   "cell_type": "markdown",
   "id": "fe473f65",
   "metadata": {
    "slideshow": {
     "slide_type": "slide"
    }
   },
   "source": [
    "# Proporcionalidad directa"
   ]
  },
  {
   "cell_type": "markdown",
   "id": "7c36f671",
   "metadata": {
    "slideshow": {
     "slide_type": "slide"
    }
   },
   "source": [
    "Toda relación lineal creciente que pase por el origen es una relación de proporcionalidad directa. Y por tanto, para ella aplica la regla de tres directa. "
   ]
  },
  {
   "cell_type": "markdown",
   "id": "3717fe78",
   "metadata": {
    "slideshow": {
     "slide_type": "slide"
    }
   },
   "source": [
    "## Ejemplo ilustrativo"
   ]
  },
  {
   "cell_type": "markdown",
   "id": "c47b12d0",
   "metadata": {
    "slideshow": {
     "slide_type": "slide"
    }
   },
   "source": [
    "El precio $p$ de una cantidad $h$ de huevos es una relación de proporcionalidad directa, porque al doble le corresponde el doble.  "
   ]
  },
  {
   "cell_type": "markdown",
   "id": "688c8e1a",
   "metadata": {
    "slideshow": {
     "slide_type": "slide"
    }
   },
   "source": [
    "# Empecemos con la representación tabular"
   ]
  },
  {
   "cell_type": "code",
   "execution_count": 18,
   "id": "4a79bf46",
   "metadata": {
    "slideshow": {
     "slide_type": "slide"
    }
   },
   "outputs": [
    {
     "data": {
      "text/html": [
       "<div>\n",
       "<style scoped>\n",
       "    .dataframe tbody tr th:only-of-type {\n",
       "        vertical-align: middle;\n",
       "    }\n",
       "\n",
       "    .dataframe tbody tr th {\n",
       "        vertical-align: top;\n",
       "    }\n",
       "\n",
       "    .dataframe thead th {\n",
       "        text-align: right;\n",
       "    }\n",
       "</style>\n",
       "<table border=\"1\" class=\"dataframe\">\n",
       "  <thead>\n",
       "    <tr style=\"text-align: right;\">\n",
       "      <th></th>\n",
       "      <th>número de huevos $h$ comprados</th>\n",
       "      <th>valor $p$ a pagar</th>\n",
       "    </tr>\n",
       "  </thead>\n",
       "  <tbody>\n",
       "    <tr>\n",
       "      <th>1</th>\n",
       "      <td>1</td>\n",
       "      <td>600</td>\n",
       "    </tr>\n",
       "    <tr>\n",
       "      <th>2</th>\n",
       "      <td>2</td>\n",
       "      <td>1200</td>\n",
       "    </tr>\n",
       "    <tr>\n",
       "      <th>3</th>\n",
       "      <td>3</td>\n",
       "      <td>1800</td>\n",
       "    </tr>\n",
       "  </tbody>\n",
       "</table>\n",
       "</div>"
      ],
      "text/plain": [
       "   número de huevos $h$ comprados  valor $p$ a pagar\n",
       "1                               1                600\n",
       "2                               2               1200\n",
       "3                               3               1800"
      ]
     },
     "execution_count": 18,
     "metadata": {},
     "output_type": "execute_result"
    }
   ],
   "source": [
    "import numpy as np \n",
    "import pandas as pd \n",
    "h = np.array([[1],[2],[3]])\n",
    "p = np.array([[600], [1200], [1800]]) \n",
    "dic = {'número de huevos $h$ comprados':h.ravel(), 'valor $p$ a pagar':p.ravel()}\n",
    "df = pd.DataFrame(dic, index = np.arange(1,4))\n",
    "df "
   ]
  },
  {
   "cell_type": "markdown",
   "id": "765e0514",
   "metadata": {
    "slideshow": {
     "slide_type": "slide"
    }
   },
   "source": [
    "## Trazo del diagrama de dispersión"
   ]
  },
  {
   "cell_type": "code",
   "execution_count": 19,
   "id": "73b79db5",
   "metadata": {
    "slideshow": {
     "slide_type": "slide"
    }
   },
   "outputs": [
    {
     "data": {
      "image/png": "[encoded data removed]",
      "text/plain": [
       "<Figure size 576x576 with 1 Axes>"
      ]
     },
     "metadata": {
      "needs_background": "light"
     },
     "output_type": "display_data"
    }
   ],
   "source": [
    "import matplotlib.pyplot as plt \n",
    "\n",
    "plt.figure(figsize = (8,8))\n",
    "plt.title('Modelo predictor de precio de huevos')\n",
    "plt.xlabel('Número de Huevos $h$')\n",
    "plt.ylabel('Precio de un número de huevos $p(h)$')\n",
    "\n",
    "plt.plot([-1,4], [0,0], 'b-') # trazo del eje x\n",
    "plt.plot([0,0], [0,1900], 'b-') # trazo del eje y\n",
    "\n",
    "plt.scatter(h, p, color = 'red')\n",
    "\n",
    "# plt.plot(np.r_[np.array([[0]]),h], np.r_[np.array([[0]]),p], color = 'green')\n",
    "\n",
    "\n",
    "\n",
    "plt.grid(alpha = 0.4)\n",
    "\n",
    "plt.savefig('datos_huevos.jpg') \n",
    "\n",
    "plt.show()\n"
   ]
  },
  {
   "cell_type": "markdown",
   "id": "28f53b68",
   "metadata": {
    "slideshow": {
     "slide_type": "slide"
    }
   },
   "source": [
    "## Inferencias que se derivan del gráfico \n",
    "\n",
    "* La relación entre las variables es lineal, creciente y pasa por el origen, por tanto, la relación entre las variables es de proporcionalidad directa. Es decir, el modelo para esta situación tiene la forma estándar:\n",
    "\n",
    "\n",
    "$$ y = kx $$\n",
    "\n",
    "donde $k$ es la constante de proporcionalidad. \n"
   ]
  },
  {
   "cell_type": "markdown",
   "id": "f55bb3dd",
   "metadata": {
    "slideshow": {
     "slide_type": "slide"
    }
   },
   "source": [
    "Con el uso de uno de los puntos de datos podemos estimar la constante de proporcionalidad, por ejemplo, utilicemos el primer punto, es decir, utilicemos el par ordenado $(1,600)$.\n",
    "\n",
    "$$ \\frac{p}{h} = k = \\frac{600}{1} $$\n",
    "\n",
    "de donde $k$ es 600 pesos por huevo, es decir, la constante de proporcionalidad tiene significado real como el precio por unidad. "
   ]
  },
  {
   "cell_type": "markdown",
   "id": "01d8efc2",
   "metadata": {
    "slideshow": {
     "slide_type": "slide"
    }
   },
   "source": [
    "# El modelo de la situación problemática planteada. Es decir, la función que permite predecir el valor pagado por llevar una cantidad de huevos $h$:\n",
    "\n",
    "$$ p = 600h $$"
   ]
  },
  {
   "cell_type": "markdown",
   "id": "4a9fd1c7",
   "metadata": {
    "slideshow": {
     "slide_type": "slide"
    }
   },
   "source": [
    "Note entonces, que nuestro modelo predictor es una función lineal de pendiente 600 y de intersecto en el origen $b = 0$. "
   ]
  },
  {
   "cell_type": "code",
   "execution_count": 22,
   "id": "1dceb393",
   "metadata": {
    "scrolled": true,
    "slideshow": {
     "slide_type": "slide"
    }
   },
   "outputs": [
    {
     "name": "stderr",
     "output_type": "stream",
     "text": [
      "C:\\Users\\Marco\\anaconda3\\lib\\site-packages\\numpy\\core\\shape_base.py:65: VisibleDeprecationWarning: Creating an ndarray from ragged nested sequences (which is a list-or-tuple of lists-or-tuples-or ndarrays with different lengths or shapes) is deprecated. If you meant to do this, you must specify 'dtype=object' when creating the ndarray.\n",
      "  ary = asanyarray(ary)\n"
     ]
    },
    {
     "data": {
      "image/png": "[encoded data removed]",
      "text/plain": [
       "<Figure size 432x288 with 1 Axes>"
      ]
     },
     "metadata": {
      "needs_background": "light"
     },
     "output_type": "display_data"
    }
   ],
   "source": [
    "from sklearn.linear_model import LinearRegression \n",
    "\n",
    "modelo_lineal = LinearRegression()\n",
    "\n",
    "modelo_lineal.fit(h,p)\n",
    "\n",
    "m,b = modelo_lineal.coef_[0][0], modelo_lineal.intercept_  \n",
    "# recuerde que .coef_ devuelve un arreglo de numpy 2D\n",
    "\n",
    "# dominio\n",
    "c,d = -1,7\n",
    "\n",
    "\n",
    "#rectangulo de visualizacion\n",
    "rectangulo = [c, d, c*m+b, d*m+b ]\n",
    "\n",
    "plt.axis(rectangulo) \n",
    "\n",
    "plt.plot([c,d], [0,0], 'b-') # trazo del eje x\n",
    "plt.xlabel('Número de huevos $h$')\n",
    "plt.plot([0,0], [0,d*m+b], 'b-')    # trazo del eje y\n",
    "plt.ylabel('Precio $p$ de un Número de huevos $h$')\n",
    "plt.yticks(np.arange(0, 4000, 600))  # metrizamos el eje y cada 600\n",
    "\n",
    "\n",
    "# gráfica de los datos\n",
    "plt.scatter(h, p, color = 'red')\n",
    "\n",
    "plt.plot(np.r_[np.array([[0]]),h], np.r_[np.array([[0]]),p], color = 'green') # unión de los datos con segmentos rectilíneos\n",
    "\n",
    "plt.plot([c,d], [c*m+b, d*m + b], color = 'green')     # gráfica del modelo\n",
    "\n",
    "plt.grid(alpha = 0.4)\n",
    "\n",
    "plt.savefig('datos_modelo.jpg')\n",
    "\n",
    "plt.show()\n",
    "\n"
   ]
  },
  {
   "cell_type": "markdown",
   "id": "69cfcffb",
   "metadata": {},
   "source": [
    "# Función predictora como función de Python"
   ]
  },
  {
   "cell_type": "code",
   "execution_count": 24,
   "id": "bf0cd4ee",
   "metadata": {},
   "outputs": [],
   "source": [
    "def p(h):\n",
    "    return 600*h"
   ]
  },
  {
   "cell_type": "code",
   "execution_count": 25,
   "id": "374d7ec3",
   "metadata": {},
   "outputs": [
    {
     "data": {
      "text/plain": [
       "2400"
      ]
     },
     "execution_count": 25,
     "metadata": {},
     "output_type": "execute_result"
    }
   ],
   "source": [
    "p(4)"
   ]
  },
  {
   "cell_type": "markdown",
   "id": "40624ca8",
   "metadata": {
    "slideshow": {
     "slide_type": "slide"
    }
   },
   "source": [
    "## Prediccion y Conclusión "
   ]
  },
  {
   "cell_type": "markdown",
   "id": "2e7e933c",
   "metadata": {
    "slideshow": {
     "slide_type": "slide"
    }
   },
   "source": [
    "* Podemos predecir que el valor de 4 huevos es 2400 utilizando el modelo en representación algebraica o en modelo en representación gráfica. "
   ]
  },
  {
   "cell_type": "code",
   "execution_count": null,
   "id": "6580060b",
   "metadata": {
    "slideshow": {
     "slide_type": "slide"
    }
   },
   "outputs": [],
   "source": []
  },
  {
   "cell_type": "code",
   "execution_count": null,
   "id": "63a3cd21",
   "metadata": {
    "slideshow": {
     "slide_type": "slide"
    }
   },
   "outputs": [],
   "source": []
  }
 ],
 "metadata": {
  "celltoolbar": "Slideshow",
  "kernelspec": {
   "display_name": "Python 3 (ipykernel)",
   "language": "python",
   "name": "python3"
  },
  "language_info": {
   "codemirror_mode": {
    "name": "ipython",
    "version": 3
   },
   "file_extension": ".py",
   "mimetype": "text/x-python",
   "name": "python",
   "nbconvert_exporter": "python",
   "pygments_lexer": "ipython3",
   "version": "3.9.12"
  },
  "rise": {
   "scroll": true,
   "theme": "serif"
  }
 },
 "nbformat": 4,
 "nbformat_minor": 5
}
