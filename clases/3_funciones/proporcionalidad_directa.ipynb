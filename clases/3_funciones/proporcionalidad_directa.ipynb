{
 "cells": [
  {
   "cell_type": "markdown",
   "id": "7ec8dba0",
   "metadata": {},
   "source": [
    "# Actuemos cómo científicos para predecir el valor pagado de cuerdo al número de huevos que lleve"
   ]
  },
  {
   "cell_type": "markdown",
   "id": "10f815d5",
   "metadata": {},
   "source": [
    " Y cómo empezamos ??????"
   ]
  },
  {
   "cell_type": "markdown",
   "id": "6b6b01a9",
   "metadata": {},
   "source": [
    "Voy a la tienda y tomo datos "
   ]
  },
  {
   "cell_type": "code",
   "execution_count": null,
   "id": "70bea7b2",
   "metadata": {},
   "outputs": [],
   "source": [
    "import pandas as pd \n",
    "\n",
    "import numpy as np \n",
    "\n",
    "n_huevos = \n",
    "precio = "
   ]
  },
  {
   "cell_type": "code",
   "execution_count": null,
   "id": "a1b0fab0",
   "metadata": {},
   "outputs": [],
   "source": []
  },
  {
   "cell_type": "markdown",
   "id": "a19375d8",
   "metadata": {},
   "source": [
    "Después de elaborar la tabla, que hago????\n"
   ]
  },
  {
   "cell_type": "code",
   "execution_count": null,
   "id": "1c5840db",
   "metadata": {},
   "outputs": [],
   "source": [
    "import matplolib.pyplot as plt \n",
    "\n",
    "\n"
   ]
  },
  {
   "cell_type": "code",
   "execution_count": null,
   "id": "df0da3ae",
   "metadata": {},
   "outputs": [],
   "source": []
  },
  {
   "cell_type": "code",
   "execution_count": null,
   "id": "d721d10d",
   "metadata": {},
   "outputs": [],
   "source": []
  },
  {
   "cell_type": "code",
   "execution_count": null,
   "id": "46e5c452",
   "metadata": {},
   "outputs": [],
   "source": []
  },
  {
   "cell_type": "code",
   "execution_count": null,
   "id": "2ba9601f",
   "metadata": {},
   "outputs": [],
   "source": []
  }
 ],
 "metadata": {
  "kernelspec": {
   "display_name": "Python 3 (ipykernel)",
   "language": "python",
   "name": "python3"
  },
  "language_info": {
   "codemirror_mode": {
    "name": "ipython",
    "version": 3
   },
   "file_extension": ".py",
   "mimetype": "text/x-python",
   "name": "python",
   "nbconvert_exporter": "python",
   "pygments_lexer": "ipython3",
   "version": "3.9.12"
  }
 },
 "nbformat": 4,
 "nbformat_minor": 5
}
