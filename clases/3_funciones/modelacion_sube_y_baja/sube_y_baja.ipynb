{
 "cells": [
  {
   "cell_type": "markdown",
   "metadata": {},
   "source": [
    "<table align=\"left\">\n",
    "  <td>\n",
    "<a href=\"https://colab.research.google.com/github/marco-canas/fundamentos-de-las-matematicas/blob/main/clases/3_funciones/modelacion_sube_y_baja/sube_y_baja.ipynb\" target=\"_parent\"><img src=\"https://colab.research.google.com/assets/colab-badge.svg\" alt=\"Open In Colab\"/></a>\n",
    " </td>\n",
    "</table>     "
   ]
  },
  {
   "cell_type": "markdown",
   "metadata": {},
   "source": [
    "## [Video de apoyo a la lectura interactiva y experimental de este cuaderno]()"
   ]
  },
  {
   "cell_type": "markdown",
   "metadata": {},
   "source": [
    "# Modelación de la situción del sube y baja "
   ]
  },
  {
   "cell_type": "markdown",
   "metadata": {},
   "source": [
    "## Planteamiento del problema "
   ]
  },
  {
   "cell_type": "markdown",
   "metadata": {},
   "source": [
    "Una mamá y su niño están jugando en el sube y baja del parque de su barrio.   \n",
    "\n",
    "La mamá pesa 60 kilos y se sentó a 2 metros del fulcro. El hijo pesa 30 kilos. \n",
    "¿A qué distancia se debe sentar el hijo para que el sube y baja quede en equilibrio?"
   ]
  },
  {
   "cell_type": "markdown",
   "metadata": {},
   "source": [
    "<img src = 'https://upload.wikimedia.org/wikipedia/commons/thumb/f/f2/Palanca-ejemplo.jpg/360px-Palanca-ejemplo.jpg'>"
   ]
  },
  {
   "cell_type": "markdown",
   "metadata": {},
   "source": [
    "## Solución"
   ]
  },
  {
   "cell_type": "markdown",
   "metadata": {},
   "source": [
    "Las variables importantes en este problema son: distancia y masa. \n",
    "\n",
    "La incognita es la distancia a la que se debe sentar el niño para que el sube y baja entre en equilibrio. \n",
    "\n",
    "Coloquemos la variable masa en términos de la inclognita (distancia) $d$. "
   ]
  },
  {
   "cell_type": "markdown",
   "metadata": {},
   "source": [
    "Establezcamos para ello la relación entre masa $m$ y distancia $d$. "
   ]
  },
  {
   "cell_type": "markdown",
   "metadata": {},
   "source": [
    "## Representación tabular de la relación entre distancia y masa"
   ]
  },
  {
   "cell_type": "code",
   "execution_count": 1,
   "metadata": {},
   "outputs": [
    {
     "data": {
      "text/html": [
       "<div>\n",
       "<style scoped>\n",
       "    .dataframe tbody tr th:only-of-type {\n",
       "        vertical-align: middle;\n",
       "    }\n",
       "\n",
       "    .dataframe tbody tr th {\n",
       "        vertical-align: top;\n",
       "    }\n",
       "\n",
       "    .dataframe thead th {\n",
       "        text-align: right;\n",
       "    }\n",
       "</style>\n",
       "<table border=\"1\" class=\"dataframe\">\n",
       "  <thead>\n",
       "    <tr style=\"text-align: right;\">\n",
       "      <th></th>\n",
       "      <th>distancia</th>\n",
       "      <th>masa</th>\n",
       "    </tr>\n",
       "  </thead>\n",
       "  <tbody>\n",
       "    <tr>\n",
       "      <th>0</th>\n",
       "      <td>2</td>\n",
       "      <td>60</td>\n",
       "    </tr>\n",
       "    <tr>\n",
       "      <th>1</th>\n",
       "      <td>x</td>\n",
       "      <td>30</td>\n",
       "    </tr>\n",
       "  </tbody>\n",
       "</table>\n",
       "</div>"
      ],
      "text/plain": [
       "  distancia  masa\n",
       "0         2    60\n",
       "1         x    30"
      ]
     },
     "execution_count": 1,
     "metadata": {},
     "output_type": "execute_result"
    }
   ],
   "source": [
    "import pandas # pandas es una librería que sirve para sintetizar la información de manera tabular. \n",
    "from sympy import *\n",
    "import pandas as pd \n",
    "\n",
    "x = var('x') \n",
    "\n",
    "distancias = [2, x]\n",
    "masas = [60, 30]\n",
    "\n",
    "tabla = pd.DataFrame({'distancia': distancias, 'masa': masas})\n",
    "tabla "
   ]
  },
  {
   "cell_type": "markdown",
   "metadata": {},
   "source": [
    "Como el que pesa más tiene que estar más cerca, entonces la relación entre estas variables es decreciente. Porque cuando aumenta la una, la otrra diminuye. \n",
    "\n",
    "¿Será que la relación es de proporcionalidad inversa?. \n",
    "\n",
    "Si, porque si diuplicamos el peso, la distancia debe ser la mitad para que el equibrio permanezca. "
   ]
  },
  {
   "cell_type": "markdown",
   "metadata": {},
   "source": [
    "$$ d \\ \\ \\alpha \\ \\  \\frac{1}{m} $$"
   ]
  },
  {
   "cell_type": "markdown",
   "metadata": {},
   "source": [
    "$$ d = k \\frac{1}{m} \\ \\ \\ \\ \\ \\text{forma general de nuestro modelo} $$\n",
    "\n",
    "donde $k$ es la constante de proporcionalidad. "
   ]
  },
  {
   "cell_type": "markdown",
   "metadata": {},
   "source": [
    "Como en esta situación $k = 60(2) = 120$, entonces el modelo para esta situación real es:\n",
    "\n",
    "\n",
    "$$ d = 120 \\cdot \\frac{1}{m}  \\ \\ \\ \\ \\text{Este es el modelo que representa nuestra situación real}$$ "
   ]
  },
  {
   "cell_type": "markdown",
   "metadata": {},
   "source": [
    "Luego, si $m = 30$, entonces $d$ es\n",
    "\n",
    "\n",
    "$$d = \\frac{120}{30} = \\frac{12}{3} = 4 $$"
   ]
  },
  {
   "cell_type": "markdown",
   "metadata": {},
   "source": [
    "### Conclusión:  \n",
    "\n",
    "\n",
    "El niño debe setarse a 4 metros del fucro para que este se equilibre. Y pueda así jagar con su mamá feliz. "
   ]
  },
  {
   "cell_type": "markdown",
   "metadata": {},
   "source": [
    "Pero también, de la lectura de la tabla podemos reafirmar que la relación entre estas dos variables es de proporcionalidad inversa, y cuando esto pasa aplica el esquema de regla de tres inversa (los productos horizontales son iguales), de donde sale la ecuación que es también un modelo de esta situación real y también resuelve la pregunta:\n",
    "\n",
    "\n",
    "$$ 2(60) = 30x $$\n"
   ]
  },
  {
   "cell_type": "markdown",
   "metadata": {},
   "source": [
    "$$ \\frac{120}{30} = x = 4 $$\n",
    "\n",
    "de donde el niño debe sentarse a 4 metros del fulcro para estar en equilibrio con la mamá. "
   ]
  },
  {
   "cell_type": "markdown",
   "metadata": {},
   "source": [
    "####  Notas aclaratorias  \n",
    "\n",
    "* Una relación es **decreciente** si cuando la una aumenta, la otra disminuye.  \n",
    "* Y una relación es de **proporcionalidad inversa** cuando al duplicar una de las variables, la otra se reduce a la mitad.  "
   ]
  },
  {
   "cell_type": "markdown",
   "metadata": {},
   "source": [
    "# Representación gráfica del modelo \n",
    "\n",
    "\n"
   ]
  },
  {
   "cell_type": "code",
   "execution_count": 5,
   "metadata": {},
   "outputs": [
    {
     "data": {
      "image/png": "[encoded data removed]",
      "text/plain": [
       "<Figure size 720x720 with 1 Axes>"
      ]
     },
     "metadata": {
      "needs_background": "light"
     },
     "output_type": "display_data"
    }
   ],
   "source": [
    "\n",
    "import numpy as np \n",
    "import matplotlib.pyplot as plt \n",
    "\n",
    "plt.figure(figsize=(10,10))                                         # crea una figura o espacio para trazar el gráfico\n",
    "\n",
    "plt.title('Gráfico de una relación de proporcionalidad inversa')    # le damos título\n",
    "plt.xlabel('masa (kg)')    # variable independiente \n",
    "plt.ylabel('distancia (m)') # variable dependiente \n",
    "\n",
    "m = np.arange(20, 61)  # \n",
    "d = 120/m\n",
    "plt.plot(m, d) \n",
    "\n",
    "plt.grid() \n",
    "\n",
    "plt.yticks(np.arange(0,8, 2))\n",
    "\n",
    "plt.savefig('grafico_relacion_proporcionalidad_inversa.jpg') \n",
    "\n",
    "plt.show() "
   ]
  },
  {
   "cell_type": "markdown",
   "metadata": {},
   "source": [
    "## Interpretaciones de la lectura del gráfico anterior\n",
    "\n",
    "* El gráfico de una relación se lee de izquierda a derecha y haciendolo así, vemos que la distancia decrece con la masa. \n",
    "\n",
    "* Vemos que a medida que la masa crece de 20 a 60, la distancia decrece de 6 a 2. \n",
    "\n",
    "* Una relación de proporcionalidad inversa es una relación no lineal decreciente. \n",
    "\n",
    "* Lo que quiere decir que la distancia decrece con la masa. \n",
    "\n",
    "* Este gráfico es una hipérbola. \n",
    "\n"
   ]
  },
  {
   "cell_type": "markdown",
   "metadata": {},
   "source": [
    "## Referentes \n",
    "\n",
    "* Duval, Raymond: Semiosis y pensamiento humano. \n",
    "* Villa-Ochoa Jhony Alexander. \n",
    "* Suwart, \n"
   ]
  },
  {
   "cell_type": "markdown",
   "metadata": {},
   "source": []
  }
 ],
 "metadata": {
  "kernelspec": {
   "display_name": "Python 3.10.7 64-bit",
   "language": "python",
   "name": "python3"
  },
  "language_info": {
   "codemirror_mode": {
    "name": "ipython",
    "version": 3
   },
   "file_extension": ".py",
   "mimetype": "text/x-python",
   "name": "python",
   "nbconvert_exporter": "python",
   "pygments_lexer": "ipython3",
   "version": "3.10.7"
  },
  "orig_nbformat": 4,
  "vscode": {
   "interpreter": {
    "hash": "af153e239d61b5c0d363f35fe8a0509d492506f382d017c98fa3fb49fce70a72"
   }
  }
 },
 "nbformat": 4,
 "nbformat_minor": 2
}
