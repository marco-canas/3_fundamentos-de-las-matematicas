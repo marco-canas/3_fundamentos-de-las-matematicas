{
 "cells": [
  {
   "cell_type": "markdown",
   "metadata": {},
   "source": [
    "<table align=\"left\">\n",
    "  <td>\n",
    "<a href=\"https://colab.research.google.com/github/marco-canas/fundamentos-de-las-matematicas/blob/main/clases/3_funciones/modelacion_sube_y_baja/sube_y_baja.ipynb\" target=\"_parent\"><img src=\"https://colab.research.google.com/assets/colab-badge.svg\" alt=\"Open In Colab\"/></a>\n",
    " </td>\n",
    "</table>     "
   ]
  },
  {
   "cell_type": "markdown",
   "metadata": {},
   "source": [
    "# Modelación de la situción del sube y baja "
   ]
  },
  {
   "cell_type": "markdown",
   "metadata": {},
   "source": [
    "## Planteamiento del problema "
   ]
  },
  {
   "cell_type": "markdown",
   "metadata": {},
   "source": [
    "Una mamá y su niño están jugando en el sube y baja del parque de su barrio.   \n",
    "\n",
    "La mamá pesa 60 kilos y se sentó a 2 metros del fulcro. El hijo pesa 30 kilos. A qué distancia se debe sentar el hijo para que el sube y baja quede en equilibrio."
   ]
  },
  {
   "cell_type": "markdown",
   "metadata": {},
   "source": [
    "<img src = 'https://upload.wikimedia.org/wikipedia/commons/thumb/f/f2/Palanca-ejemplo.jpg/360px-Palanca-ejemplo.jpg'>"
   ]
  },
  {
   "cell_type": "markdown",
   "metadata": {},
   "source": [
    "## Solución"
   ]
  },
  {
   "cell_type": "markdown",
   "metadata": {},
   "source": [
    "Las variables importantes en este problema son: distancia y masa. \n",
    "\n",
    "La incognita es la distancia a la que se debe sentar el niño para que el sube y baja entre en equilibrio. \n",
    "\n",
    "Coloquemos la variable masa en términos de la inclognita (distancia) $d$. "
   ]
  },
  {
   "cell_type": "markdown",
   "metadata": {},
   "source": [
    "Establezcamos para ello la relación entre masa $m$ y distancia $d$. "
   ]
  },
  {
   "cell_type": "markdown",
   "metadata": {},
   "source": [
    "Como el que pesa más tiene que estar más cerca, entonces la relación entre estas variables es decreciente. Porque cuando aumenta la una, la otrra diminuye. \n",
    "\n",
    "¿Será que la relación es de proporcionalidad inversa?. \n",
    "\n",
    "Si, porque si diuplicamos el peso, la distancia debe ser la mitad para que el equibrio permanezca. "
   ]
  },
  {
   "cell_type": "markdown",
   "metadata": {},
   "source": [
    "$$ d \\ \\ \\alpha \\ \\  \\frac{1}{m} $$"
   ]
  },
  {
   "cell_type": "markdown",
   "metadata": {},
   "source": [
    "$$ d = k \\frac{1}{m} $$\n",
    "\n",
    "donde $k$ es la constante de proporcionalidad. "
   ]
  },
  {
   "cell_type": "markdown",
   "metadata": {},
   "source": [
    "Como en esta situación $k = 60(2) = 120$, entonces el modelo para esta situación real es:\n",
    "\n",
    "\n",
    "$$ d = 120 \\cdot \\frac{1}{m} $$"
   ]
  },
  {
   "cell_type": "markdown",
   "metadata": {},
   "source": [
    "Luego, si $m = 30$, entonces $d$ es\n",
    "\n",
    "\n",
    "$$d = \\frac{120}{30} = \\frac{12}{3} = 4 $$"
   ]
  },
  {
   "cell_type": "markdown",
   "metadata": {},
   "source": [
    "### Conclusión:  \n",
    "\n",
    "\n",
    "El niño debe setarse a 4 metros del fucro para que este se equilibre. Y pueda así jagar con su mamá feliz. "
   ]
  },
  {
   "cell_type": "markdown",
   "metadata": {},
   "source": [
    "####  Notas aclaratorias  \n",
    "\n",
    "Una relación es decrieciente si a mayor peso menor distancia. "
   ]
  },
  {
   "cell_type": "markdown",
   "metadata": {},
   "source": [
    "# Representación gráfica del modelo \n",
    "\n",
    "\n"
   ]
  },
  {
   "cell_type": "code",
   "execution_count": 6,
   "metadata": {},
   "outputs": [
    {
     "data": {
      "image/png": "[encoded data removed]",
      "text/plain": [
       "<Figure size 432x288 with 1 Axes>"
      ]
     },
     "metadata": {
      "needs_background": "light"
     },
     "output_type": "display_data"
    }
   ],
   "source": [
    "from re import M\n",
    "import numpy as np \n",
    "import matplotlib.pyplot as plt \n",
    "\n",
    "plt.figure() \n",
    "\n",
    "plt.title('Gráfico de una relación de proporcionalidad inversa')\n",
    "plt.xlabel('masa')\n",
    "plt.ylabel('distancia')\n",
    "\n",
    "m = np.arange(1, 51)\n",
    "d = 120/m\n",
    "plt.plot(m, d) \n",
    "\n",
    "plt.show() "
   ]
  },
  {
   "cell_type": "markdown",
   "metadata": {},
   "source": [
    "* Lo que quiere decir que la distancia decrece con la masa. \n",
    "\n",
    "* Este gráfico es una hipérbola. \n",
    "\n"
   ]
  },
  {
   "cell_type": "markdown",
   "metadata": {},
   "source": []
  }
 ],
 "metadata": {
  "kernelspec": {
   "display_name": "Python 3.10.7 64-bit",
   "language": "python",
   "name": "python3"
  },
  "language_info": {
   "codemirror_mode": {
    "name": "ipython",
    "version": 3
   },
   "file_extension": ".py",
   "mimetype": "text/x-python",
   "name": "python",
   "nbconvert_exporter": "python",
   "pygments_lexer": "ipython3",
   "version": "3.10.7"
  },
  "orig_nbformat": 4,
  "vscode": {
   "interpreter": {
    "hash": "af153e239d61b5c0d363f35fe8a0509d492506f382d017c98fa3fb49fce70a72"
   }
  }
 },
 "nbformat": 4,
 "nbformat_minor": 2
}
