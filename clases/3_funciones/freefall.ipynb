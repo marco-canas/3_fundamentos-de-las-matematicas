{
 "cells": [
  {
   "cell_type": "markdown",
   "id": "175f0a7e",
   "metadata": {
    "slideshow": {
     "slide_type": "slide"
    }
   },
   "source": [
    "<table align=\"left\">\n",
    "  <td>\n",
    "    <a href=\"https://colab.research.google.com/github/marco-canas/didactica_ciencia_datos/blob/main/propu/unidad_didac/0_python/numpy.ipynb\" target=\"_parent\"><img src=\"https://colab.research.google.com/assets/colab-badge.svg\" alt=\"Open In Colab\"/></a>\n",
    "  </td>\n",
    "</table>"
   ]
  },
  {
   "cell_type": "markdown",
   "id": "0f1e98b2",
   "metadata": {
    "slideshow": {
     "slide_type": "slide"
    }
   },
   "source": [
    "## [Video de apoyo a la lectura experimental e interactiva de este cuaderno]() "
   ]
  },
  {
   "cell_type": "markdown",
   "id": "8095a703",
   "metadata": {
    "slideshow": {
     "slide_type": "slide"
    }
   },
   "source": [
    "# Modelación del fenómeno de caida libre"
   ]
  },
  {
   "cell_type": "markdown",
   "id": "5e99cafc",
   "metadata": {
    "slideshow": {
     "slide_type": "slide"
    }
   },
   "source": [
    "Página 147 de la quinta edición de Stewart  \n",
    "\n",
    "Quizá la idea matemática más útil para modelar el mundo real es el concepto de función, que se estudia en este capítulo. Para entender qué es una función, veremos un\n",
    "ejemplo."
   ]
  },
  {
   "cell_type": "markdown",
   "id": "00121897",
   "metadata": {
    "slideshow": {
     "slide_type": "slide"
    }
   },
   "source": [
    "Si un escalador de rocas deja caer una piedra desde un acantilado alto, ¿qué sucede con la piedra? Por supuesto la piedra cae; qué tanto ha caído en determinado momento depende del tiempo que ha estado descendiendo. Ésta es una descripción\n",
    "general, pero no indica de manera exacta cuándo la piedra choca con el suelo."
   ]
  },
  {
   "cell_type": "markdown",
   "id": "fc42da52",
   "metadata": {
    "slideshow": {
     "slide_type": "slide"
    }
   },
   "source": [
    "https://es.symbolab.com/solver/step-by-step/4.9t%5E%7B2%7D%2C%20t%3E%3D%200?or=input"
   ]
  },
  {
   "cell_type": "markdown",
   "id": "11ba2454",
   "metadata": {
    "slideshow": {
     "slide_type": "slide"
    }
   },
   "source": [
    "## Modelo de caida libre\n",
    "\n",
    "$$ d(t) = 4.9t^{2} $$\n",
    "\n",
    "modelo polinomial de grado 2, o modelo cuadrático de gráfico parabólico que parte del origen. "
   ]
  },
  {
   "cell_type": "markdown",
   "id": "ce47b00e",
   "metadata": {
    "slideshow": {
     "slide_type": "slide"
    }
   },
   "source": [
    "## Representación tabular de este modelo"
   ]
  },
  {
   "cell_type": "code",
   "execution_count": 2,
   "id": "bfe82d10",
   "metadata": {
    "slideshow": {
     "slide_type": "slide"
    }
   },
   "outputs": [
    {
     "data": {
      "text/html": [
       "<div>\n",
       "<style scoped>\n",
       "    .dataframe tbody tr th:only-of-type {\n",
       "        vertical-align: middle;\n",
       "    }\n",
       "\n",
       "    .dataframe tbody tr th {\n",
       "        vertical-align: top;\n",
       "    }\n",
       "\n",
       "    .dataframe thead th {\n",
       "        text-align: right;\n",
       "    }\n",
       "</style>\n",
       "<table border=\"1\" class=\"dataframe\">\n",
       "  <thead>\n",
       "    <tr style=\"text-align: right;\">\n",
       "      <th></th>\n",
       "      <th>Tiempo de caida $t$</th>\n",
       "      <th>distancia $d(t)$ recorrida al caer durante un tiempo $t$</th>\n",
       "    </tr>\n",
       "  </thead>\n",
       "  <tbody>\n",
       "    <tr>\n",
       "      <th>0</th>\n",
       "      <td>0</td>\n",
       "      <td>0.0</td>\n",
       "    </tr>\n",
       "    <tr>\n",
       "      <th>1</th>\n",
       "      <td>1</td>\n",
       "      <td>4.9</td>\n",
       "    </tr>\n",
       "    <tr>\n",
       "      <th>2</th>\n",
       "      <td>2</td>\n",
       "      <td>19.6</td>\n",
       "    </tr>\n",
       "    <tr>\n",
       "      <th>3</th>\n",
       "      <td>3</td>\n",
       "      <td>44.1</td>\n",
       "    </tr>\n",
       "    <tr>\n",
       "      <th>4</th>\n",
       "      <td>4</td>\n",
       "      <td>78.4</td>\n",
       "    </tr>\n",
       "  </tbody>\n",
       "</table>\n",
       "</div>"
      ],
      "text/plain": [
       "   Tiempo de caida $t$  \\\n",
       "0                    0   \n",
       "1                    1   \n",
       "2                    2   \n",
       "3                    3   \n",
       "4                    4   \n",
       "\n",
       "   distancia $d(t)$ recorrida al caer durante un tiempo $t$  \n",
       "0                                                0.0         \n",
       "1                                                4.9         \n",
       "2                                               19.6         \n",
       "3                                               44.1         \n",
       "4                                               78.4         "
      ]
     },
     "execution_count": 2,
     "metadata": {},
     "output_type": "execute_result"
    }
   ],
   "source": [
    "import numpy as np \n",
    "import pandas as pd\n",
    "\n",
    "T = np.arange(0,5)\n",
    "D = 4.9*T**2\n",
    "tabla = pd.DataFrame({'Tiempo de caida $t$':T, 'distancia $d(t)$ recorrida al caer durante un tiempo $t$': D})\n",
    "tabla "
   ]
  },
  {
   "cell_type": "markdown",
   "id": "2bb0c5a7",
   "metadata": {
    "slideshow": {
     "slide_type": "slide"
    }
   },
   "source": [
    "# Representación gráfica del modelo de caída libre dado\n"
   ]
  },
  {
   "cell_type": "code",
   "execution_count": 4,
   "id": "91e09709",
   "metadata": {
    "slideshow": {
     "slide_type": "slide"
    }
   },
   "outputs": [
    {
     "data": {
      "image/png": "[encoded data removed]",
      "text/plain": [
       "<Figure size 576x576 with 1 Axes>"
      ]
     },
     "metadata": {
      "needs_background": "light"
     },
     "output_type": "display_data"
    }
   ],
   "source": [
    "import matplotlib.pyplot as plt \n",
    "\n",
    "plt.figure(figsize = (8,8))\n",
    "plt.title('Gráfica de modelo de caída libre') \n",
    "\n",
    "\n",
    "plt.savefig('freefall.jpg') \n",
    "\n",
    "plt.show()"
   ]
  },
  {
   "cell_type": "code",
   "execution_count": null,
   "id": "aac021dd",
   "metadata": {
    "slideshow": {
     "slide_type": "slide"
    }
   },
   "outputs": [],
   "source": []
  },
  {
   "cell_type": "code",
   "execution_count": null,
   "id": "a3782bda",
   "metadata": {},
   "outputs": [],
   "source": []
  },
  {
   "cell_type": "markdown",
   "id": "279f8bf2",
   "metadata": {
    "slideshow": {
     "slide_type": "slide"
    }
   },
   "source": [
    "# Logros alcanzados en el trabajo de aula de hoy"
   ]
  },
  {
   "cell_type": "markdown",
   "id": "1da40e8f",
   "metadata": {
    "slideshow": {
     "slide_type": "slide"
    }
   },
   "source": [
    "* La participación ctiva de todos los estudiantes\n",
    "* Darnos cuenta de las potencialidades y debilidades de las representyaciones tabular y gráfica de una función. "
   ]
  },
  {
   "cell_type": "code",
   "execution_count": null,
   "id": "5c5a7bad",
   "metadata": {
    "slideshow": {
     "slide_type": "slide"
    }
   },
   "outputs": [],
   "source": []
  },
  {
   "cell_type": "markdown",
   "id": "8905dbd3",
   "metadata": {
    "slideshow": {
     "slide_type": "slide"
    }
   },
   "source": [
    "## Tareas y retos para la próxima clase"
   ]
  },
  {
   "cell_type": "markdown",
   "id": "cd4e5136",
   "metadata": {
    "slideshow": {
     "slide_type": "slide"
    }
   },
   "source": [
    "Leer y desarrollar en cuadernos Jupyter:  Enfoque en el modelado: Ajuste de líneas a datos.  Este tema está en la página 239 de la quinta edición del Precálculo de Stewart.  "
   ]
  },
  {
   "cell_type": "markdown",
   "id": "0a5f685c",
   "metadata": {
    "slideshow": {
     "slide_type": "slide"
    }
   },
   "source": [
    "Un modelo es una representación de un objeto o proceso. "
   ]
  },
  {
   "cell_type": "markdown",
   "id": "0d74e510",
   "metadata": {
    "slideshow": {
     "slide_type": "slide"
    }
   },
   "source": [
    "Por ejemplo, un juguete Ferrari es un modelo del automóvil real; un mapa urbano es un modelo de las calles y autopistas de una ciudad. "
   ]
  },
  {
   "cell_type": "markdown",
   "id": "026737ae",
   "metadata": {
    "slideshow": {
     "slide_type": "slide"
    }
   },
   "source": [
    "Un modelo representa por lo común sólo un aspecto del objeto original. "
   ]
  },
  {
   "cell_type": "markdown",
   "id": "f0cee0ab",
   "metadata": {
    "slideshow": {
     "slide_type": "slide"
    }
   },
   "source": [
    "El juguete Ferrari no es un automóvil real, pero representa lo que se parece a un Ferrari real; un mapa de carreteras no contiene las calles reales de una ciudad, pero representa la relación de las calles entre sí."
   ]
  },
  {
   "cell_type": "markdown",
   "id": "57524c32",
   "metadata": {
    "slideshow": {
     "slide_type": "slide"
    }
   },
   "source": [
    "Un modelo matemático es una representación matemática de un objeto o proceso."
   ]
  },
  {
   "cell_type": "markdown",
   "id": "dc184491",
   "metadata": {
    "slideshow": {
     "slide_type": "slide"
    }
   },
   "source": [
    "Con frecuencia un modelo matemático es una función que describe cierto fenómeno."
   ]
  },
  {
   "cell_type": "markdown",
   "id": "1a314d05",
   "metadata": {
    "slideshow": {
     "slide_type": "slide"
    }
   },
   "source": [
    "En el ejemplo 12 de la sección 1.10 se encontró que la función T\u0002\u000410h \u0003\n",
    "20 modela la temperatura atmosférica T a la altura h. Después se utilizó esta función\n",
    "para predecir la temperatura a cierta altura. En la figura siguiente se ilustra el proceso\n",
    "de modelado matemático."
   ]
  },
  {
   "cell_type": "markdown",
   "id": "a06e04b8",
   "metadata": {
    "slideshow": {
     "slide_type": "slide"
    }
   },
   "source": [
    "<img src = ''>"
   ]
  },
  {
   "cell_type": "code",
   "execution_count": null,
   "id": "16d0e521",
   "metadata": {},
   "outputs": [],
   "source": []
  },
  {
   "cell_type": "code",
   "execution_count": null,
   "id": "370de6a5",
   "metadata": {},
   "outputs": [],
   "source": []
  },
  {
   "cell_type": "markdown",
   "id": "f93059c9",
   "metadata": {
    "slideshow": {
     "slide_type": "slide"
    }
   },
   "source": [
    "## Referentes  \n",
    "\n",
    "* Stewart. Precálculo Página 147: FreeFall. Quinta edición. "
   ]
  },
  {
   "cell_type": "code",
   "execution_count": null,
   "id": "76541e56",
   "metadata": {},
   "outputs": [],
   "source": []
  }
 ],
 "metadata": {
  "celltoolbar": "Slideshow",
  "kernelspec": {
   "display_name": "Python 3 (ipykernel)",
   "language": "python",
   "name": "python3"
  },
  "language_info": {
   "codemirror_mode": {
    "name": "ipython",
    "version": 3
   },
   "file_extension": ".py",
   "mimetype": "text/x-python",
   "name": "python",
   "nbconvert_exporter": "python",
   "pygments_lexer": "ipython3",
   "version": "3.9.12"
  }
 },
 "nbformat": 4,
 "nbformat_minor": 5
}
