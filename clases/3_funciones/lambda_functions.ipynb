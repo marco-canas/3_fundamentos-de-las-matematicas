{
 "cells": [
  {
   "cell_type": "markdown",
   "id": "6ce6ffe9",
   "metadata": {
    "slideshow": {
     "slide_type": "slide"
    }
   },
   "source": [
    "<table align=\"left\">\n",
    "  <td>\n",
    "<a href=\"https://colab.research.google.com/github/marco-canas/fundamentos-de-las-matematicas/blob/main/clases/3_funciones/peces.ipynb\" target=\"_parent\"><img src=\"https://colab.research.google.com/assets/colab-badge.svg\" alt=\"Open In Colab\"/></a>\n",
    " </td>\n",
    "</table>"
   ]
  },
  {
   "cell_type": "markdown",
   "id": "709be0d0",
   "metadata": {
    "slideshow": {
     "slide_type": "slide"
    }
   },
   "source": [
    "# ¿Cómo crear funciones anónimas de Python"
   ]
  },
  {
   "cell_type": "markdown",
   "id": "b06517c2",
   "metadata": {
    "slideshow": {
     "slide_type": "slide"
    }
   },
   "source": [
    "# [How to Use Python Lambda Functions](https://realpython.com/python-lambda/)"
   ]
  },
  {
   "cell_type": "markdown",
   "id": "81101b76",
   "metadata": {
    "slideshow": {
     "slide_type": "slide"
    }
   },
   "source": [
    "\n",
    "\n",
    "Table of Contents\n",
    "\n",
    "* Lambda Calculus\n",
    "  - History\n",
    "  - First Example\n",
    "* Anonymous Functions\n",
    "    Python Lambda and Regular Functions\n",
    "        Functions\n",
    "        Traceback\n",
    "        Syntax\n",
    "        Arguments\n",
    "        Decorators\n",
    "        Closure\n",
    "        Evaluation Time\n",
    "        Testing Lambdas\n",
    "    Lambda Expression Abuses\n",
    "        Raising an Exception\n",
    "        Cryptic Style\n",
    "        Python Classes\n",
    "    Appropriate Uses of Lambda Expressions\n",
    "        Classic Functional Constructs\n",
    "        Key Functions\n",
    "        UI Frameworks\n",
    "        Python Interpreter\n",
    "        timeit\n",
    "        Monkey Patching\n",
    "    Alternatives to Lambdas\n",
    "        Map\n",
    "        Filter\n",
    "        Reduce\n",
    "    Are Lambdas Pythonic or Not?\n",
    "    Conclusion\n",
    "\n"
   ]
  },
  {
   "cell_type": "code",
   "execution_count": null,
   "id": "a6296eee",
   "metadata": {},
   "outputs": [],
   "source": []
  },
  {
   "cell_type": "code",
   "execution_count": null,
   "id": "275bfcc4",
   "metadata": {},
   "outputs": [],
   "source": []
  },
  {
   "cell_type": "code",
   "execution_count": null,
   "id": "1c8a7a72",
   "metadata": {},
   "outputs": [],
   "source": []
  },
  {
   "cell_type": "code",
   "execution_count": null,
   "id": "405f5a05",
   "metadata": {},
   "outputs": [],
   "source": []
  },
  {
   "cell_type": "code",
   "execution_count": null,
   "id": "5ecc67d2",
   "metadata": {},
   "outputs": [],
   "source": []
  },
  {
   "cell_type": "code",
   "execution_count": null,
   "id": "8e8cd099",
   "metadata": {},
   "outputs": [],
   "source": []
  },
  {
   "cell_type": "code",
   "execution_count": null,
   "id": "5049731e",
   "metadata": {},
   "outputs": [],
   "source": []
  },
  {
   "cell_type": "code",
   "execution_count": null,
   "id": "951aab58",
   "metadata": {},
   "outputs": [],
   "source": []
  },
  {
   "cell_type": "code",
   "execution_count": null,
   "id": "a88950a4",
   "metadata": {},
   "outputs": [],
   "source": []
  }
 ],
 "metadata": {
  "celltoolbar": "Slideshow",
  "kernelspec": {
   "display_name": "Python 3 (ipykernel)",
   "language": "python",
   "name": "python3"
  },
  "language_info": {
   "codemirror_mode": {
    "name": "ipython",
    "version": 3
   },
   "file_extension": ".py",
   "mimetype": "text/x-python",
   "name": "python",
   "nbconvert_exporter": "python",
   "pygments_lexer": "ipython3",
   "version": "3.9.12"
  }
 },
 "nbformat": 4,
 "nbformat_minor": 5
}
