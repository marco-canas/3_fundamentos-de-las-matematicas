{
 "cells": [
  {
   "cell_type": "markdown",
   "id": "95642b23",
   "metadata": {
    "slideshow": {
     "slide_type": "slide"
    }
   },
   "source": [
    "<table align=\"left\">\n",
    "  <td>\n",
    "<a href=\"https://colab.research.google.com/github/marco-canas/fundamentos-de-las-matematicas/blob/main/clases/3_funciones/peces.ipynb\" target=\"_parent\"><img src=\"https://colab.research.google.com/assets/colab-badge.svg\" alt=\"Open In Colab\"/></a>\n",
    " </td>\n",
    "</table>"
   ]
  },
  {
   "cell_type": "markdown",
   "id": "89b72b50",
   "metadata": {
    "slideshow": {
     "slide_type": "slide"
    }
   },
   "source": [
    "# Modelo 1 con funciones"
   ]
  },
  {
   "cell_type": "markdown",
   "id": "be2c9c40",
   "metadata": {
    "slideshow": {
     "slide_type": "slide"
    }
   },
   "source": [
    "## GUÍA PARA MODELAR CON FUNCIONES  "
   ]
  },
  {
   "cell_type": "markdown",
   "id": "62abf9eb",
   "metadata": {
    "slideshow": {
     "slide_type": "slide"
    }
   },
   "source": [
    "1. Expresar verbalmente el problema. Identifi car la cantidad que se desea\n",
    "modelar y expresarla, verbalmente, como función de las otras cantidades del\n",
    "problema.\n",
    "2. Escoger la variable. Identifi car todas las variables que se usan para expresar\n",
    "la función del Paso 1. Asignar un símbolo, por ejemplo x, a una variable, y expresar\n",
    "las otras variables en términos de este símbolo.\n",
    "3. Establecer el modelo. Expresar la función en el lenguaje de álgebra al escribirla\n",
    "como función de la variable única escogida en el Paso 2.\n",
    "4. Usar el modelo. Usar la función para contestar las preguntas planteadas en\n",
    "el problema. (Para hallar un máximo o un mínimo, usar los métodos descritos\n",
    "en la Sección 3.3.)"
   ]
  },
  {
   "cell_type": "code",
   "execution_count": 1,
   "id": "4c9be927",
   "metadata": {
    "slideshow": {
     "slide_type": "slide"
    }
   },
   "outputs": [
    {
     "data": {
      "text/plain": [
       "224"
      ]
     },
     "execution_count": 1,
     "metadata": {},
     "output_type": "execute_result"
    }
   ],
   "source": [
    "32+192"
   ]
  },
  {
   "cell_type": "code",
   "execution_count": 2,
   "id": "3aade55b",
   "metadata": {
    "slideshow": {
     "slide_type": "slide"
    }
   },
   "outputs": [
    {
     "data": {
      "text/plain": [
       "168"
      ]
     },
     "execution_count": 2,
     "metadata": {},
     "output_type": "execute_result"
    }
   ],
   "source": [
    "200-32"
   ]
  },
  {
   "cell_type": "code",
   "execution_count": 3,
   "id": "138b4371",
   "metadata": {
    "slideshow": {
     "slide_type": "slide"
    }
   },
   "outputs": [
    {
     "data": {
      "text/plain": [
       "676"
      ]
     },
     "execution_count": 3,
     "metadata": {},
     "output_type": "execute_result"
    }
   ],
   "source": [
    "708-32"
   ]
  },
  {
   "cell_type": "code",
   "execution_count": null,
   "id": "234774e0",
   "metadata": {
    "slideshow": {
     "slide_type": "slide"
    }
   },
   "outputs": [],
   "source": []
  },
  {
   "cell_type": "code",
   "execution_count": null,
   "id": "1b8f8450",
   "metadata": {
    "slideshow": {
     "slide_type": "slide"
    }
   },
   "outputs": [],
   "source": []
  },
  {
   "cell_type": "code",
   "execution_count": null,
   "id": "5554443a",
   "metadata": {
    "slideshow": {
     "slide_type": "slide"
    }
   },
   "outputs": [],
   "source": []
  },
  {
   "cell_type": "code",
   "execution_count": null,
   "id": "b6c7e3de",
   "metadata": {
    "slideshow": {
     "slide_type": "slide"
    }
   },
   "outputs": [],
   "source": []
  },
  {
   "cell_type": "code",
   "execution_count": null,
   "id": "69835162",
   "metadata": {
    "slideshow": {
     "slide_type": "slide"
    }
   },
   "outputs": [],
   "source": []
  },
  {
   "cell_type": "markdown",
   "id": "53bf7839",
   "metadata": {
    "slideshow": {
     "slide_type": "slide"
    }
   },
   "source": [
    "## Referentes \n",
    "\n",
    "* Precálculo de Stewart: Página 215. "
   ]
  },
  {
   "cell_type": "code",
   "execution_count": null,
   "id": "8ade36af",
   "metadata": {},
   "outputs": [],
   "source": []
  }
 ],
 "metadata": {
  "celltoolbar": "Slideshow",
  "kernelspec": {
   "display_name": "Python 3 (ipykernel)",
   "language": "python",
   "name": "python3"
  },
  "language_info": {
   "codemirror_mode": {
    "name": "ipython",
    "version": 3
   },
   "file_extension": ".py",
   "mimetype": "text/x-python",
   "name": "python",
   "nbconvert_exporter": "python",
   "pygments_lexer": "ipython3",
   "version": "3.9.12"
  }
 },
 "nbformat": 4,
 "nbformat_minor": 5
}
