{
 "cells": [
  {
   "cell_type": "code",
   "execution_count": null,
   "id": "87d036f1",
   "metadata": {},
   "outputs": [],
   "source": []
  },
  {
   "cell_type": "markdown",
   "id": "fe473f65",
   "metadata": {},
   "source": [
    "# Proporcionalidad directa"
   ]
  },
  {
   "cell_type": "code",
   "execution_count": null,
   "id": "857d6bc7",
   "metadata": {},
   "outputs": [],
   "source": []
  },
  {
   "cell_type": "markdown",
   "id": "3717fe78",
   "metadata": {},
   "source": [
    "## Ejemplo ilustrativo"
   ]
  },
  {
   "cell_type": "markdown",
   "id": "c47b12d0",
   "metadata": {},
   "source": [
    "El precio $p$ de una cantidad $h$ de huevos es una relación de proporcionalidad directa, porque al doble le corresponde el doble.  "
   ]
  },
  {
   "cell_type": "code",
   "execution_count": null,
   "id": "4092caf1",
   "metadata": {},
   "outputs": [],
   "source": []
  },
  {
   "cell_type": "code",
   "execution_count": null,
   "id": "4a79bf46",
   "metadata": {},
   "outputs": [],
   "source": []
  },
  {
   "cell_type": "code",
   "execution_count": null,
   "id": "3f0b02b6",
   "metadata": {},
   "outputs": [],
   "source": []
  },
  {
   "cell_type": "code",
   "execution_count": null,
   "id": "73b79db5",
   "metadata": {},
   "outputs": [],
   "source": []
  },
  {
   "cell_type": "code",
   "execution_count": null,
   "id": "bdb09c8e",
   "metadata": {},
   "outputs": [],
   "source": []
  }
 ],
 "metadata": {
  "kernelspec": {
   "display_name": "Python 3 (ipykernel)",
   "language": "python",
   "name": "python3"
  },
  "language_info": {
   "codemirror_mode": {
    "name": "ipython",
    "version": 3
   },
   "file_extension": ".py",
   "mimetype": "text/x-python",
   "name": "python",
   "nbconvert_exporter": "python",
   "pygments_lexer": "ipython3",
   "version": "3.9.12"
  }
 },
 "nbformat": 4,
 "nbformat_minor": 5
}
