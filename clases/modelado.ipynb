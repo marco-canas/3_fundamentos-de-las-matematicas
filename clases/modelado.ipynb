{
 "cells": [
  {
   "cell_type": "markdown",
   "id": "eb33f4c1",
   "metadata": {
    "slideshow": {
     "slide_type": "slide"
    }
   },
   "source": []
  },
  {
   "cell_type": "markdown",
   "id": "867f4f79",
   "metadata": {
    "slideshow": {
     "slide_type": "slide"
    }
   },
   "source": [
    "# Modelado mediante ecuaciones"
   ]
  },
  {
   "cell_type": "markdown",
   "id": "f1856d54",
   "metadata": {
    "slideshow": {
     "slide_type": "slide"
    }
   },
   "source": [
    "Muchos de los problemas de las ciencias, economía, finanzas, medicina y otros numerosos campos se pueden traducir a problemas de álgebra. "
   ]
  },
  {
   "cell_type": "markdown",
   "id": "030f6ae8",
   "metadata": {
    "slideshow": {
     "slide_type": "slide"
    }
   },
   "source": [
    "Ésta es una razón por la que el álgebra es tan útil. "
   ]
  },
  {
   "cell_type": "markdown",
   "id": "514e8d42",
   "metadata": {
    "slideshow": {
     "slide_type": "slide"
    }
   },
   "source": [
    "En esta sección usamos las ecuaciones como modelos matemáticos para resolver problemas de la vida cotidiana."
   ]
  },
  {
   "cell_type": "markdown",
   "id": "9cb874a7",
   "metadata": {
    "slideshow": {
     "slide_type": "slide"
    }
   },
   "source": [
    "# Criterios para modelar con ecuaciones"
   ]
  },
  {
   "cell_type": "markdown",
   "id": "e7f9cfc0",
   "metadata": {
    "slideshow": {
     "slide_type": "slide"
    }
   },
   "source": [
    "Se aplican los siguientes criterios para plantear ecuaciones que modelen situaciones formuladas en palabras. "
   ]
  },
  {
   "cell_type": "markdown",
   "id": "d283f1fc",
   "metadata": {
    "slideshow": {
     "slide_type": "slide"
    }
   },
   "source": [
    "Para mostrar la manera en que los criterios pueden ayudar a plantear las ecuaciones, anotamos al margen cuándo funciona cada ejemplo de esta sección."
   ]
  },
  {
   "cell_type": "markdown",
   "id": "63ba4fec",
   "metadata": {
    "slideshow": {
     "slide_type": "slide"
    }
   },
   "source": [
    "# Criterios para modelar con ecuaciones"
   ]
  },
  {
   "cell_type": "markdown",
   "id": "1a389acf",
   "metadata": {
    "slideshow": {
     "slide_type": "slide"
    }
   },
   "source": [
    "1. Identificar la variable. Identifique la cantidad que el problema le pide determinar. Por lo regular, esta cantidad se puede determinar por medio de una lectura cuidadosa de la pregunta planteada al final del problema. Entonces introduzca la notación para la variable (llámela x o cualquier otro nombre)."
   ]
  },
  {
   "cell_type": "markdown",
   "id": "cb1ad15c",
   "metadata": {
    "slideshow": {
     "slide_type": "slide"
    }
   },
   "source": [
    "2. Expresar todas las incógnitas en términos de la variable. Lea una vez\n",
    "más cada oración del problema, y exprese todas las cantidades mencionadas\n",
    "en el problema en términos de la variable que definió en el paso 1. Para organizar\n",
    "esta información, a veces es útil dibujar un esquema o elaborar\n",
    "una tabla."
   ]
  },
  {
   "cell_type": "markdown",
   "id": "e98096f6",
   "metadata": {
    "slideshow": {
     "slide_type": "slide"
    }
   },
   "source": [
    "3. Plantear el modelo. Encuentre el hecho decisivo en el problema que relaciona\n",
    "las expresiones que usted listó en el paso 2. Plantee una ecuación o\n",
    "modelo, que exprese esta relación."
   ]
  },
  {
   "cell_type": "markdown",
   "id": "06d4dfc1",
   "metadata": {
    "slideshow": {
     "slide_type": "slide"
    }
   },
   "source": [
    "4. Resuelva la ecuación y compruebe su respuesta. Resuelva la ecuación,\n",
    "verifique la respuesta y exprésela como una oración que responde a la pregunta\n",
    "hecha en el problema."
   ]
  },
  {
   "cell_type": "markdown",
   "id": "f61b43b6",
   "metadata": {
    "slideshow": {
     "slide_type": "slide"
    }
   },
   "source": [
    "El ejemplo siguiente ilustra la manera en que estos criterios se aplican para traducir el enunciado de un problema al lenguaje del álgebra."
   ]
  },
  {
   "cell_type": "markdown",
   "id": "37637d8f",
   "metadata": {
    "slideshow": {
     "slide_type": "slide"
    }
   },
   "source": []
  },
  {
   "cell_type": "code",
   "execution_count": null,
   "id": "63d4f514",
   "metadata": {
    "slideshow": {
     "slide_type": "slide"
    }
   },
   "outputs": [],
   "source": []
  },
  {
   "cell_type": "code",
   "execution_count": null,
   "id": "9a6c25e8",
   "metadata": {},
   "outputs": [],
   "source": []
  },
  {
   "cell_type": "code",
   "execution_count": null,
   "id": "31c9827a",
   "metadata": {},
   "outputs": [],
   "source": []
  },
  {
   "cell_type": "code",
   "execution_count": null,
   "id": "36ec20eb",
   "metadata": {},
   "outputs": [],
   "source": []
  },
  {
   "cell_type": "code",
   "execution_count": null,
   "id": "1e342404",
   "metadata": {
    "slideshow": {
     "slide_type": "slide"
    }
   },
   "outputs": [],
   "source": []
  },
  {
   "cell_type": "code",
   "execution_count": null,
   "id": "83d44572",
   "metadata": {
    "slideshow": {
     "slide_type": "slide"
    }
   },
   "outputs": [],
   "source": []
  }
 ],
 "metadata": {
  "celltoolbar": "Slideshow",
  "kernelspec": {
   "display_name": "Python 3 (ipykernel)",
   "language": "python",
   "name": "python3"
  },
  "language_info": {
   "codemirror_mode": {
    "name": "ipython",
    "version": 3
   },
   "file_extension": ".py",
   "mimetype": "text/x-python",
   "name": "python",
   "nbconvert_exporter": "python",
   "pygments_lexer": "ipython3",
   "version": "3.9.12"
  }
 },
 "nbformat": 4,
 "nbformat_minor": 5
}
