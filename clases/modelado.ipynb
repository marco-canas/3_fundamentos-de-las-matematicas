{
 "cells": [
  {
   "cell_type": "markdown",
   "id": "45408dcb",
   "metadata": {
    "slideshow": {
     "slide_type": "slide"
    }
   },
   "source": []
  },
  {
   "cell_type": "markdown",
   "id": "248ab81f",
   "metadata": {
    "slideshow": {
     "slide_type": "slide"
    }
   },
   "source": [
    "# Modelado mediante ecuaciones"
   ]
  },
  {
   "cell_type": "markdown",
   "id": "87d105f8",
   "metadata": {
    "slideshow": {
     "slide_type": "slide"
    }
   },
   "source": [
    "Muchos de los problemas de las ciencias, economía, finanzas, medicina y otros numerosos campos se pueden traducir a problemas de álgebra. "
   ]
  },
  {
   "cell_type": "markdown",
   "id": "6ee74a8b",
   "metadata": {
    "slideshow": {
     "slide_type": "slide"
    }
   },
   "source": [
    "Ésta es una razón por la que el álgebra es tan útil. "
   ]
  },
  {
   "cell_type": "markdown",
   "id": "c7c1d1f3",
   "metadata": {
    "slideshow": {
     "slide_type": "slide"
    }
   },
   "source": [
    "En esta sección usamos las ecuaciones como modelos matemáticos para resolver problemas de la vida cotidiana."
   ]
  },
  {
   "cell_type": "markdown",
   "id": "82901d18",
   "metadata": {
    "slideshow": {
     "slide_type": "slide"
    }
   },
   "source": [
    "# Criterios para modelar con ecuaciones"
   ]
  },
  {
   "cell_type": "markdown",
   "id": "3fe9b3f3",
   "metadata": {
    "slideshow": {
     "slide_type": "slide"
    }
   },
   "source": [
    "Se aplican los siguientes criterios para plantear ecuaciones que modelen situaciones formuladas en palabras. "
   ]
  },
  {
   "cell_type": "markdown",
   "id": "b629da15",
   "metadata": {
    "slideshow": {
     "slide_type": "slide"
    }
   },
   "source": [
    "Para mostrar la manera en que los criterios pueden ayudar a plantear las ecuaciones, anotamos al margen cuándo funciona cada ejemplo de esta sección."
   ]
  },
  {
   "cell_type": "markdown",
   "id": "c6fb218b",
   "metadata": {
    "slideshow": {
     "slide_type": "slide"
    }
   },
   "source": [
    "# Criterios para modelar con ecuaciones"
   ]
  },
  {
   "cell_type": "markdown",
   "id": "c7fce106",
   "metadata": {
    "slideshow": {
     "slide_type": "slide"
    }
   },
   "source": [
    "1. Identificar la variable. Identifique la cantidad que el problema le pide determinar. Por lo regular, esta cantidad se puede determinar por medio de una lectura cuidadosa de la pregunta planteada al final del problema. Entonces introduzca la notación para la variable (llámela x o cualquier otro nombre)."
   ]
  },
  {
   "cell_type": "markdown",
   "id": "219969a4",
   "metadata": {
    "slideshow": {
     "slide_type": "slide"
    }
   },
   "source": [
    "2. Expresar todas las incógnitas en términos de la variable. Lea una vez\n",
    "más cada oración del problema, y exprese todas las cantidades mencionadas\n",
    "en el problema en términos de la variable que definió en el paso 1. Para organizar\n",
    "esta información, a veces es útil dibujar un esquema o elaborar\n",
    "una tabla."
   ]
  },
  {
   "cell_type": "markdown",
   "id": "b6ed3ccb",
   "metadata": {
    "slideshow": {
     "slide_type": "slide"
    }
   },
   "source": [
    "3. Plantear el modelo. Encuentre el hecho decisivo en el problema que relaciona las expresiones que usted listó en el paso 2. Plantee una ecuación o modelo, que exprese esta relación."
   ]
  },
  {
   "cell_type": "markdown",
   "id": "a4c9d05a",
   "metadata": {
    "slideshow": {
     "slide_type": "slide"
    }
   },
   "source": [
    "4. Resuelva la ecuación y compruebe su respuesta. Resuelva la ecuación, verifique la respuesta y exprésela como una oración que responde a la pregunta hecha en el problema."
   ]
  },
  {
   "cell_type": "markdown",
   "id": "05fd5837",
   "metadata": {
    "slideshow": {
     "slide_type": "slide"
    }
   },
   "source": [
    "El ejemplo siguiente ilustra la manera en que estos criterios se aplican para traducir el enunciado de un problema al lenguaje del álgebra."
   ]
  },
  {
   "cell_type": "markdown",
   "id": "8fb4d51c",
   "metadata": {
    "slideshow": {
     "slide_type": "slide"
    }
   },
   "source": [
    "# Ejemplo 1 Renta de un automóvil"
   ]
  },
  {
   "cell_type": "markdown",
   "id": "20340245",
   "metadata": {
    "slideshow": {
     "slide_type": "slide"
    }
   },
   "source": [
    "Una compañía que renta automóviles cobra 30 dólares al día más 15 centavos de dólar por milla al rentar un automóvil. Helen renta un automóvil por dos días y su cuenta es de 108 dólares. ¿Cuántas millas recorrió?"
   ]
  },
  {
   "cell_type": "markdown",
   "id": "36d0b69a",
   "metadata": {
    "slideshow": {
     "slide_type": "slide"
    }
   },
   "source": [
    "### Solución:"
   ]
  },
  {
   "cell_type": "markdown",
   "id": "5746b8ae",
   "metadata": {
    "slideshow": {
     "slide_type": "slide"
    }
   },
   "source": [
    "#### Identifique la variable "
   ]
  },
  {
   "cell_type": "markdown",
   "id": "2bbe0564",
   "metadata": {
    "slideshow": {
     "slide_type": "slide"
    }
   },
   "source": [
    "Se pide determinar la cantidad de millas que Helen recorrió. Entonces\n",
    "sea\n",
    "x \u0002 cantidad de millas recorridas\n",
    "Luego traducimos toda la información del problema al lenguaje del álgebra."
   ]
  },
  {
   "cell_type": "code",
   "execution_count": null,
   "id": "c8dedb82",
   "metadata": {
    "slideshow": {
     "slide_type": "slide"
    }
   },
   "outputs": [],
   "source": []
  },
  {
   "cell_type": "code",
   "execution_count": null,
   "id": "3a2ca037",
   "metadata": {},
   "outputs": [],
   "source": []
  },
  {
   "cell_type": "code",
   "execution_count": null,
   "id": "4d64a233",
   "metadata": {},
   "outputs": [],
   "source": []
  },
  {
   "cell_type": "code",
   "execution_count": null,
   "id": "778e67ee",
   "metadata": {},
   "outputs": [],
   "source": []
  },
  {
   "cell_type": "code",
   "execution_count": null,
   "id": "c2875238",
   "metadata": {
    "slideshow": {
     "slide_type": "slide"
    }
   },
   "outputs": [],
   "source": []
  },
  {
   "cell_type": "code",
   "execution_count": null,
   "id": "92365127",
   "metadata": {
    "slideshow": {
     "slide_type": "slide"
    }
   },
   "outputs": [],
   "source": []
  }
 ],
 "metadata": {
  "celltoolbar": "Slideshow",
  "kernelspec": {
   "display_name": "Python 3 (ipykernel)",
   "language": "python",
   "name": "python3"
  },
  "language_info": {
   "codemirror_mode": {
    "name": "ipython",
    "version": 3
   },
   "file_extension": ".py",
   "mimetype": "text/x-python",
   "name": "python",
   "nbconvert_exporter": "python",
   "pygments_lexer": "ipython3",
   "version": "3.9.12"
  }
 },
 "nbformat": 4,
 "nbformat_minor": 5
}
