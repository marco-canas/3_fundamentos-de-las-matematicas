{
 "cells": [
  {
   "cell_type": "markdown",
   "id": "dac0e702",
   "metadata": {
    "slideshow": {
     "slide_type": "slide"
    }
   },
   "source": [
    "<table align=\"left\">\n",
    "  <td>\n",
    "    <a href=\"https://colab.research.google.com/github/marco-canas/didactica_ciencia_datos/blob/main/referentes/geron/part_1/c_3/c_3.ipynb\" target=\"_parent\"><img src=\"https://colab.research.google.com/assets/colab-badge.svg\" alt=\"Open In Colab\"/></a>\n",
    "  </td>\n",
    "</table>"
   ]
  },
  {
   "cell_type": "markdown",
   "id": "fd99379a",
   "metadata": {
    "slideshow": {
     "slide_type": "slide"
    }
   },
   "source": [
    "# El campo de los números reales "
   ]
  },
  {
   "cell_type": "markdown",
   "id": "cc42e35a",
   "metadata": {
    "slideshow": {
     "slide_type": "slide"
    }
   },
   "source": [
    "Definición de raíz cuadrada de un número real positivo $a$. "
   ]
  },
  {
   "cell_type": "markdown",
   "id": "7fe3a61e",
   "metadata": {
    "slideshow": {
     "slide_type": "slide"
    }
   },
   "source": [
    "## Raiz de 2 no es un número racional"
   ]
  },
  {
   "cell_type": "markdown",
   "id": "8deba29c",
   "metadata": {
    "slideshow": {
     "slide_type": "slide"
    }
   },
   "source": [
    "### Demostración"
   ]
  },
  {
   "cell_type": "markdown",
   "id": "31aebd33",
   "metadata": {
    "slideshow": {
     "slide_type": "slide"
    }
   },
   "source": [
    "Razonemos por reducción al absurdo, es decir, supogamos que $\\sqrt{2}$ es un número racional. "
   ]
  },
  {
   "cell_type": "markdown",
   "id": "fc9fd9a7",
   "metadata": {
    "slideshow": {
     "slide_type": "slide"
    }
   },
   "source": [
    "Es decir, supongamos que existe un par de números enteros $a$ y $b \\neq 0$, tales que $mcd(a,b) = 1$ y \n",
    "\n",
    "$$ \\sqrt{2} = \\frac{a}{b} $$\n"
   ]
  },
  {
   "cell_type": "markdown",
   "id": "cf95dbb6",
   "metadata": {
    "slideshow": {
     "slide_type": "slide"
    }
   },
   "source": [
    "$$ 2 = \\frac{a^{2}}{b^{2}} $$"
   ]
  },
  {
   "cell_type": "markdown",
   "id": "51042809",
   "metadata": {
    "slideshow": {
     "slide_type": "slide"
    }
   },
   "source": [
    "$$ 2b^{2} = a^{2} $$"
   ]
  },
  {
   "cell_type": "markdown",
   "id": "0f311df9",
   "metadata": {
    "slideshow": {
     "slide_type": "slide"
    }
   },
   "source": [
    "$a$ es par. Es decir, existe $n \\in \\mathbb{Z}$, tal que \n",
    "\n",
    "$$ a = 2n $$\n"
   ]
  },
  {
   "cell_type": "markdown",
   "id": "83015dcb",
   "metadata": {
    "slideshow": {
     "slide_type": "slide"
    }
   },
   "source": [
    "$$ 2b^{2} = 4n^{2} $$"
   ]
  },
  {
   "cell_type": "markdown",
   "id": "88e88bea",
   "metadata": {
    "slideshow": {
     "slide_type": "slide"
    }
   },
   "source": [
    "$$ b^{2} = 2n^{2} $$"
   ]
  },
  {
   "cell_type": "markdown",
   "id": "90137714",
   "metadata": {
    "slideshow": {
     "slide_type": "slide"
    }
   },
   "source": [
    "$b$ es par. "
   ]
  },
  {
   "cell_type": "markdown",
   "id": "a9a6a8dd",
   "metadata": {
    "slideshow": {
     "slide_type": "slide"
    }
   },
   "source": [
    "Entonces $mcd(a,b) \\geq 2$. "
   ]
  },
  {
   "cell_type": "code",
   "execution_count": null,
   "id": "8158091b",
   "metadata": {
    "slideshow": {
     "slide_type": "slide"
    }
   },
   "outputs": [],
   "source": []
  },
  {
   "cell_type": "code",
   "execution_count": null,
   "id": "059c2ed7",
   "metadata": {
    "slideshow": {
     "slide_type": "slide"
    }
   },
   "outputs": [],
   "source": []
  },
  {
   "cell_type": "code",
   "execution_count": null,
   "id": "7703bca9",
   "metadata": {
    "slideshow": {
     "slide_type": "slide"
    }
   },
   "outputs": [],
   "source": []
  },
  {
   "cell_type": "code",
   "execution_count": null,
   "id": "402143e8",
   "metadata": {
    "slideshow": {
     "slide_type": "slide"
    }
   },
   "outputs": [],
   "source": []
  },
  {
   "cell_type": "code",
   "execution_count": null,
   "id": "7a4f78f9",
   "metadata": {
    "slideshow": {
     "slide_type": "slide"
    }
   },
   "outputs": [],
   "source": []
  },
  {
   "cell_type": "code",
   "execution_count": null,
   "id": "8e28a2d3",
   "metadata": {
    "slideshow": {
     "slide_type": "slide"
    }
   },
   "outputs": [],
   "source": []
  },
  {
   "cell_type": "code",
   "execution_count": null,
   "id": "bfeae055",
   "metadata": {},
   "outputs": [],
   "source": []
  }
 ],
 "metadata": {
  "celltoolbar": "Slideshow",
  "kernelspec": {
   "display_name": "Python 3 (ipykernel)",
   "language": "python",
   "name": "python3"
  },
  "language_info": {
   "codemirror_mode": {
    "name": "ipython",
    "version": 3
   },
   "file_extension": ".py",
   "mimetype": "text/x-python",
   "name": "python",
   "nbconvert_exporter": "python",
   "pygments_lexer": "ipython3",
   "version": "3.9.12"
  }
 },
 "nbformat": 4,
 "nbformat_minor": 5
}
