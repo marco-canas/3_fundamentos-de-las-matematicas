{
 "cells": [
  {
   "cell_type": "code",
   "execution_count": null,
   "id": "e588a91c",
   "metadata": {},
   "outputs": [],
   "source": []
  },
  {
   "cell_type": "code",
   "execution_count": null,
   "id": "2c524bea",
   "metadata": {},
   "outputs": [],
   "source": []
  },
  {
   "cell_type": "markdown",
   "id": "cea41678",
   "metadata": {},
   "source": [
    "# Clase 9 del 9 de marzo. ohhhh qué casualidad. "
   ]
  },
  {
   "cell_type": "markdown",
   "id": "b280b2c8",
   "metadata": {},
   "source": [
    "## Acuerdo evaluativo\n",
    "\n",
    "En el primer parcial se evalun las clase 1 a 5.  Se realiza el 9 de marzo y dura 1.5 horas(duración 1:30). "
   ]
  },
  {
   "cell_type": "code",
   "execution_count": null,
   "id": "52d543d9",
   "metadata": {},
   "outputs": [],
   "source": []
  },
  {
   "cell_type": "code",
   "execution_count": null,
   "id": "3353d943",
   "metadata": {},
   "outputs": [],
   "source": []
  },
  {
   "cell_type": "code",
   "execution_count": null,
   "id": "5d40f991",
   "metadata": {},
   "outputs": [],
   "source": []
  }
 ],
 "metadata": {
  "kernelspec": {
   "display_name": "Python 3 (ipykernel)",
   "language": "python",
   "name": "python3"
  },
  "language_info": {
   "codemirror_mode": {
    "name": "ipython",
    "version": 3
   },
   "file_extension": ".py",
   "mimetype": "text/x-python",
   "name": "python",
   "nbconvert_exporter": "python",
   "pygments_lexer": "ipython3",
   "version": "3.9.13"
  }
 },
 "nbformat": 4,
 "nbformat_minor": 5
}
