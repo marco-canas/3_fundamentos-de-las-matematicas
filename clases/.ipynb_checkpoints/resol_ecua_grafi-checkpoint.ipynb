{
 "cells": [
  {
   "cell_type": "markdown",
   "id": "9a45b340",
   "metadata": {
    "slideshow": {
     "slide_type": "slide"
    }
   },
   "source": [
    "<table align=\"center\">\n",
    "  <td>\n",
    "    <a href=\"https://colab.research.google.com/github/marco-canas/didactica_ciencia_datos/blob/main/referentes/geron/part_1/c_4/c_4.ipynb\" target=\"_parent\"><img src=\"https://colab.research.google.com/assets/colab-badge.svg\" alt=\"Open In Colab\"/></a>\n",
    "  </td>\n",
    "</table>"
   ]
  },
  {
   "cell_type": "markdown",
   "id": "8dcfe648",
   "metadata": {
    "slideshow": {
     "slide_type": "slide"
    }
   },
   "source": [
    "## [Video de apoyo a la lectura experimental e interactiva]()"
   ]
  },
  {
   "cell_type": "markdown",
   "id": "67742c79",
   "metadata": {
    "slideshow": {
     "slide_type": "slide"
    }
   },
   "source": [
    "# Resolución de ecuaciones y desigualdades por métodos gráficos"
   ]
  },
  {
   "cell_type": "markdown",
   "id": "e57db68d",
   "metadata": {
    "slideshow": {
     "slide_type": "slide"
    }
   },
   "source": [
    "# Uso de celular o computador para graficar"
   ]
  },
  {
   "cell_type": "markdown",
   "id": "4c380de4",
   "metadata": {},
   "source": [
    "Una calculadora para elaborar gráficas o una computadora muestran, una parte de la\n",
    "gráfica de una ecuación en un rectángulo de la pantalla, llamado rectángulo de visión.\n",
    "La pantalla que aparece automáticamente proporciona una imagen incompleta\n",
    "o engañosa, de modo que es importante elegir con cuidado el rectángulo de visión.\n",
    "Si elegimos que los valores de x varíen desde un valor mínimo de Xmin \u0002 a a\n",
    "un valor máximo de Xmax \u0002 b y que los valores de y varíen de un valor mínimo de\n",
    "Ymin \u0002 c a un valor máximo de Ymax \u0002 d, entonces la parte que se muestra queda\n",
    "en el rectángulo\n",
    "como se ilustra en la figura 1. Nos referimos a él como el rectángulo de visión\n",
    "por .\n",
    "Los dispositivos para graficar trazan la gráfica de una ecuación tal como usted lo\n",
    "podría hacer. Localizan los puntos de la forma (x, y) para un cierto número de valores\n",
    "de x, igualmente separados entre a y b. Si la ecuación no está definida para un\n",
    "valor de x o si el valor correspondiente de y queda fuera del rectángulo de visión, el\n",
    "dispositivo ignora este valor y pasa al siguiente valor de x. La máquina une cada uno\n",
    "de los puntos con el graficado anteriormente para generar una representación de la\n",
    "gráfica de la ecuación."
   ]
  },
  {
   "cell_type": "code",
   "execution_count": null,
   "id": "a87115a7",
   "metadata": {},
   "outputs": [],
   "source": []
  },
  {
   "cell_type": "code",
   "execution_count": null,
   "id": "df00ab4c",
   "metadata": {},
   "outputs": [],
   "source": []
  },
  {
   "cell_type": "code",
   "execution_count": null,
   "id": "3683446e",
   "metadata": {},
   "outputs": [],
   "source": []
  },
  {
   "cell_type": "markdown",
   "id": "5541a7e7",
   "metadata": {},
   "source": [
    "## Referentes \n",
    "\n",
    "* Steward, J., Redlin, L., & Watson, S. (2001). Precálculo. Colombia: Thomson Editores S.A.\n"
   ]
  },
  {
   "cell_type": "code",
   "execution_count": null,
   "id": "bccac13d",
   "metadata": {},
   "outputs": [],
   "source": []
  }
 ],
 "metadata": {
  "celltoolbar": "Slideshow",
  "kernelspec": {
   "display_name": "Python 3 (ipykernel)",
   "language": "python",
   "name": "python3"
  },
  "language_info": {
   "codemirror_mode": {
    "name": "ipython",
    "version": 3
   },
   "file_extension": ".py",
   "mimetype": "text/x-python",
   "name": "python",
   "nbconvert_exporter": "python",
   "pygments_lexer": "ipython3",
   "version": "3.9.12"
  },
  "rise": {
   "theme": "sky"
  }
 },
 "nbformat": 4,
 "nbformat_minor": 5
}
