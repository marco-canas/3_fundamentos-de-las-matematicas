{
 "cells": [
  {
   "cell_type": "markdown",
   "id": "dac0e702",
   "metadata": {
    "slideshow": {
     "slide_type": "slide"
    }
   },
   "source": [
    "<table align=\"left\">\n",
    "  <td>\n",
    "    <a href=\"https://colab.research.google.com/github/marco-canas/fundamentos-de-las-matematicas/blob/main/clases/reales.ipynb\" target=\"_parent\"><img src=\"https://colab.research.google.com/assets/colab-badge.svg\" alt=\"Open In Colab\"/></a>\n",
    "  </td>\n",
    "</table>"
   ]
  },
  {
   "cell_type": "markdown",
   "id": "fd99379a",
   "metadata": {
    "slideshow": {
     "slide_type": "slide"
    }
   },
   "source": [
    "# El campo de los números reales "
   ]
  },
  {
   "cell_type": "markdown",
   "id": "302a0e80",
   "metadata": {
    "slideshow": {
     "slide_type": "slide"
    }
   },
   "source": [
    "Definición de raíz cuadrada de un número real positivo $a$. "
   ]
  },
  {
   "cell_type": "markdown",
   "id": "f871fc62",
   "metadata": {
    "slideshow": {
     "slide_type": "slide"
    }
   },
   "source": [
    "## Raiz de 2 no es un número racional"
   ]
  },
  {
   "cell_type": "markdown",
   "id": "ccd91687",
   "metadata": {
    "slideshow": {
     "slide_type": "slide"
    }
   },
   "source": [
    "### Demostración"
   ]
  },
  {
   "cell_type": "markdown",
   "id": "692d8e01",
   "metadata": {
    "slideshow": {
     "slide_type": "slide"
    }
   },
   "source": [
    "Razonemos por reducción al absurdo, es decir, supogamos que $\\sqrt{2}$ es un número racional. "
   ]
  },
  {
   "cell_type": "markdown",
   "id": "40edab15",
   "metadata": {
    "slideshow": {
     "slide_type": "slide"
    }
   },
   "source": [
    "Es decir, supongamos que existe un par de números enteros $a$ y $b \\neq 0$, tales que $mcd(a,b) = 1$ y \n",
    "\n",
    "$$ \\sqrt{2} = \\frac{a}{b} $$\n"
   ]
  },
  {
   "cell_type": "markdown",
   "id": "3c8205ff",
   "metadata": {
    "slideshow": {
     "slide_type": "slide"
    }
   },
   "source": [
    "$$ 2 = \\frac{a^{2}}{b^{2}} $$"
   ]
  },
  {
   "cell_type": "markdown",
   "id": "3c1471ab",
   "metadata": {
    "slideshow": {
     "slide_type": "slide"
    }
   },
   "source": [
    "$$ 2b^{2} = a^{2} $$"
   ]
  },
  {
   "cell_type": "markdown",
   "id": "e8ffccf1",
   "metadata": {
    "slideshow": {
     "slide_type": "slide"
    }
   },
   "source": [
    "$a$ es par. Es decir, existe $n \\in \\mathbb{Z}$, tal que \n",
    "\n",
    "$$ a = 2n $$\n"
   ]
  },
  {
   "cell_type": "markdown",
   "id": "0b7a6093",
   "metadata": {
    "slideshow": {
     "slide_type": "slide"
    }
   },
   "source": [
    "$$ 2b^{2} = 4n^{2} $$"
   ]
  },
  {
   "cell_type": "markdown",
   "id": "d72d8e8a",
   "metadata": {
    "slideshow": {
     "slide_type": "slide"
    }
   },
   "source": [
    "$$ b^{2} = 2n^{2} $$"
   ]
  },
  {
   "cell_type": "markdown",
   "id": "b0543301",
   "metadata": {
    "slideshow": {
     "slide_type": "slide"
    }
   },
   "source": [
    "$b$ es par. "
   ]
  },
  {
   "cell_type": "markdown",
   "id": "6a92e34b",
   "metadata": {
    "slideshow": {
     "slide_type": "slide"
    }
   },
   "source": [
    "Entonces $mcd(a,b) \\geq 2$. "
   ]
  },
  {
   "cell_type": "code",
   "execution_count": null,
   "id": "3f16867d",
   "metadata": {
    "slideshow": {
     "slide_type": "slide"
    }
   },
   "outputs": [],
   "source": []
  },
  {
   "cell_type": "code",
   "execution_count": null,
   "id": "d2b29fef",
   "metadata": {
    "slideshow": {
     "slide_type": "slide"
    }
   },
   "outputs": [],
   "source": []
  },
  {
   "cell_type": "code",
   "execution_count": null,
   "id": "66bfaee5",
   "metadata": {
    "slideshow": {
     "slide_type": "slide"
    }
   },
   "outputs": [],
   "source": []
  },
  {
   "cell_type": "code",
   "execution_count": null,
   "id": "e7ffd4c6",
   "metadata": {
    "slideshow": {
     "slide_type": "slide"
    }
   },
   "outputs": [],
   "source": []
  },
  {
   "cell_type": "code",
   "execution_count": null,
   "id": "f8ae533f",
   "metadata": {
    "slideshow": {
     "slide_type": "slide"
    }
   },
   "outputs": [],
   "source": []
  },
  {
   "cell_type": "code",
   "execution_count": null,
   "id": "2cccb4f2",
   "metadata": {
    "slideshow": {
     "slide_type": "slide"
    }
   },
   "outputs": [],
   "source": []
  },
  {
   "cell_type": "code",
   "execution_count": null,
   "id": "bfeae055",
   "metadata": {},
   "outputs": [],
   "source": []
  }
 ],
 "metadata": {
  "celltoolbar": "Slideshow",
  "kernelspec": {
   "display_name": "Python 3 (ipykernel)",
   "language": "python",
   "name": "python3"
  },
  "language_info": {
   "codemirror_mode": {
    "name": "ipython",
    "version": 3
   },
   "file_extension": ".py",
   "mimetype": "text/x-python",
   "name": "python",
   "nbconvert_exporter": "python",
   "pygments_lexer": "ipython3",
   "version": "3.9.12"
  }
 },
 "nbformat": 4,
 "nbformat_minor": 5
}
