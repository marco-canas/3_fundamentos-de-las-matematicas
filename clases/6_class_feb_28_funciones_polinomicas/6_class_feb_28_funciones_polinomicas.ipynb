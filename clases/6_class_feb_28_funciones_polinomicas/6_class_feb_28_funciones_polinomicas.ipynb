{
 "cells": [
  {
   "cell_type": "markdown",
   "id": "7407e220",
   "metadata": {
    "slideshow": {
     "slide_type": "slide"
    }
   },
   "source": [
    "<table align=\"left\">\n",
    "  <td>\n",
    "    <a href=\"https://colab.research.google.com/github/marco-canas/3_fundamentos-de-las-matematicas/blob/main/clases/5_class_feb_23_funciones_como_modelos/5_class_feb_23_funciones_modelos.ipynb\" target=\"_parent\"><img src=\"https://colab.research.google.com/assets/colab-badge.svg\" alt=\"Open In Colab\"/></a>\n",
    "  </td>\n",
    "</table>"
   ]
  },
  {
   "cell_type": "markdown",
   "id": "483f4d9f",
   "metadata": {
    "slideshow": {
     "slide_type": "slide"
    }
   },
   "source": [
    "## [Video de apoyo]()"
   ]
  },
  {
   "cell_type": "markdown",
   "id": "feb6557f",
   "metadata": {
    "slideshow": {
     "slide_type": "slide"
    }
   },
   "source": [
    "# Clase 6 de Febrero 28 Funciones polinómicas"
   ]
  },
  {
   "cell_type": "markdown",
   "id": "2086134d",
   "metadata": {},
   "source": [
    "[Programa del curso de Fundamentos de las matemáticas]()"
   ]
  },
  {
   "cell_type": "markdown",
   "id": "9e28b97b",
   "metadata": {},
   "source": [
    "Eje 2. Generalizando el pensamiento científico.\n",
    "\n",
    "Preguntas orientadoras\n",
    "\n",
    "•\t¿Necesitamos calcular el aumento (o decrecimiento) de bacterias en un cultivo pasado un lapso?, ¿Cómo generalizamos nuestros cálculos?\n",
    "•\t¿Cuáles fenómenos cotidianos pueden expresarse mediante una ecuación? \n",
    "•\t¿Cómo se pueden usar algunos conceptos matemáticos en la descripción de problemas o situaciones cotidianas? \n"
   ]
  },
  {
   "cell_type": "markdown",
   "id": "c9036c5b",
   "metadata": {
    "slideshow": {
     "slide_type": "slide"
    }
   },
   "source": [
    "Modelo pedagógico de enseñanza: [Aula invertida]()\n",
    "\n"
   ]
  },
  {
   "cell_type": "markdown",
   "id": "2c446c41",
   "metadata": {
    "slideshow": {
     "slide_type": "slide"
    }
   },
   "source": [
    "## Objetivo de aprendizaje\n",
    "\n",
    "* aprender a construir modelos sencillos \n",
    "\n"
   ]
  },
  {
   "cell_type": "markdown",
   "id": "15e4fcec",
   "metadata": {
    "slideshow": {
     "slide_type": "slide"
    }
   },
   "source": []
  },
  {
   "cell_type": "code",
   "execution_count": null,
   "id": "b401c646",
   "metadata": {
    "slideshow": {
     "slide_type": "slide"
    }
   },
   "outputs": [],
   "source": []
  },
  {
   "cell_type": "code",
   "execution_count": null,
   "id": "dee5af0d",
   "metadata": {
    "slideshow": {
     "slide_type": "slide"
    }
   },
   "outputs": [],
   "source": []
  },
  {
   "cell_type": "code",
   "execution_count": null,
   "id": "3eabb2fd",
   "metadata": {
    "slideshow": {
     "slide_type": "slide"
    }
   },
   "outputs": [],
   "source": []
  },
  {
   "cell_type": "markdown",
   "id": "6cb0099e",
   "metadata": {
    "slideshow": {
     "slide_type": "slide"
    }
   },
   "source": [
    "## Tareas para realizar en clase\n"
   ]
  },
  {
   "cell_type": "code",
   "execution_count": null,
   "id": "1a8844cf",
   "metadata": {
    "slideshow": {
     "slide_type": "slide"
    }
   },
   "outputs": [],
   "source": []
  },
  {
   "cell_type": "markdown",
   "id": "9dfd611f",
   "metadata": {},
   "source": [
    "## Tareas para realizar por fuera de clase"
   ]
  },
  {
   "cell_type": "code",
   "execution_count": null,
   "id": "b774ccc6",
   "metadata": {
    "slideshow": {
     "slide_type": "slide"
    }
   },
   "outputs": [],
   "source": []
  },
  {
   "cell_type": "markdown",
   "id": "6e8e76c2",
   "metadata": {
    "slideshow": {
     "slide_type": "slide"
    }
   },
   "source": [
    "## Evaluación (Puntos posibles para quiz o parcial)"
   ]
  },
  {
   "cell_type": "code",
   "execution_count": null,
   "id": "f55d71f3",
   "metadata": {
    "slideshow": {
     "slide_type": "slide"
    }
   },
   "outputs": [],
   "source": []
  },
  {
   "cell_type": "markdown",
   "id": "e8039be9",
   "metadata": {
    "slideshow": {
     "slide_type": "slide"
    }
   },
   "source": [
    "## Referentes  \n",
    "\n",
    "* [stewart]()"
   ]
  },
  {
   "cell_type": "code",
   "execution_count": null,
   "id": "d4990095",
   "metadata": {},
   "outputs": [],
   "source": []
  }
 ],
 "metadata": {
  "celltoolbar": "Slideshow",
  "kernelspec": {
   "display_name": "Python 3 (ipykernel)",
   "language": "python",
   "name": "python3"
  },
  "language_info": {
   "codemirror_mode": {
    "name": "ipython",
    "version": 3
   },
   "file_extension": ".py",
   "mimetype": "text/x-python",
   "name": "python",
   "nbconvert_exporter": "python",
   "pygments_lexer": "ipython3",
   "version": "3.9.13"
  }
 },
 "nbformat": 4,
 "nbformat_minor": 5
}
