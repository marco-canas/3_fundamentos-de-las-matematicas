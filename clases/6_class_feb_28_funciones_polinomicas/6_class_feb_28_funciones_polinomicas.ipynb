{
 "cells": [
  {
   "cell_type": "markdown",
   "id": "7407e220",
   "metadata": {
    "slideshow": {
     "slide_type": "slide"
    }
   },
   "source": [
    "<table align=\"left\">\n",
    "  <td>\n",
    "    <a href=\"https://colab.research.google.com/github/marco-canas/3_fundamentos-de-las-matematicas/blob/main/clases/6_class_feb_28_funciones_polinomicas/6_class_feb_28_funciones_polinomicas.ipynb\" target=\"_parent\"><img src=\"https://colab.research.google.com/assets/colab-badge.svg\" alt=\"Open In Colab\"/></a>\n",
    "  </td>\n",
    "</table>"
   ]
  },
  {
   "cell_type": "markdown",
   "id": "483f4d9f",
   "metadata": {
    "slideshow": {
     "slide_type": "slide"
    }
   },
   "source": [
    "## [Video de apoyo]()"
   ]
  },
  {
   "cell_type": "markdown",
   "id": "feb6557f",
   "metadata": {
    "slideshow": {
     "slide_type": "slide"
    }
   },
   "source": [
    "# Clase 6 de Febrero 28 Funciones polinómicas"
   ]
  },
  {
   "cell_type": "markdown",
   "id": "fbbbb5d4",
   "metadata": {
    "slideshow": {
     "slide_type": "slide"
    }
   },
   "source": [
    "[Programa del curso de Fundamentos de las matemáticas]()"
   ]
  },
  {
   "cell_type": "markdown",
   "id": "b6f36f8f",
   "metadata": {},
   "source": [
    "Eje 2. Generalizando el pensamiento científico.\n",
    "\n",
    "Preguntas orientadoras\n",
    "\n",
    "•\t¿Necesitamos calcular el aumento (o decrecimiento) de bacterias en un cultivo pasado un lapso?, ¿Cómo generalizamos nuestros cálculos?\n",
    "•\t¿Cuáles fenómenos cotidianos pueden expresarse mediante una ecuación? \n",
    "•\t¿Cómo se pueden usar algunos conceptos matemáticos en la descripción de problemas o situaciones cotidianas? \n"
   ]
  },
  {
   "cell_type": "markdown",
   "id": "c9036c5b",
   "metadata": {
    "slideshow": {
     "slide_type": "slide"
    }
   },
   "source": [
    "Modelo pedagógico de enseñanza: [Aula invertida](https://www3.gobiernodecanarias.org/medusa/ecoescuela/pedagotic/files/2018/11/flipped-classroom.pdf)\n",
    "\n"
   ]
  },
  {
   "cell_type": "markdown",
   "id": "aaaefbf7",
   "metadata": {
    "slideshow": {
     "slide_type": "slide"
    }
   },
   "source": [
    "## ¿Qué es?  \n",
    "\n",
    "Flipped Classroom o clase invertida es un enfoque pedagógico en el que la instrucción directa se\n",
    "realiza fuera del aula y se utiliza el tiempo de clase para llevar a cabo actividades que impliquen el\n",
    "desarrollo de procesos cognitivos de mayor\n",
    "complejidad, en las que son necesarias la ayuda y la\n",
    "experiencia del/la docente."
   ]
  },
  {
   "cell_type": "markdown",
   "id": "8e0a6e73",
   "metadata": {
    "slideshow": {
     "slide_type": "slide"
    }
   },
   "source": [
    "## Objetivo de aprendizaje\n",
    "\n",
    "* aprender a construir modelos sencillos \n",
    "* resolver problemas cotidianos con funciones como modelos. \n",
    "\n"
   ]
  },
  {
   "cell_type": "markdown",
   "id": "3dd99574",
   "metadata": {
    "slideshow": {
     "slide_type": "slide"
    }
   },
   "source": [
    "# El concepto de función según Stewart"
   ]
  },
  {
   "cell_type": "markdown",
   "id": "c0dd3259",
   "metadata": {
    "slideshow": {
     "slide_type": "slide"
    }
   },
   "source": [
    "Es útil pensar en una función como una máquina (véase la figura 2). "
   ]
  },
  {
   "cell_type": "markdown",
   "id": "e8a019b0",
   "metadata": {
    "slideshow": {
     "slide_type": "slide"
    }
   },
   "source": [
    "\n",
    "<img src = ''>\n",
    "figura 2"
   ]
  },
  {
   "cell_type": "markdown",
   "id": "2a476472",
   "metadata": {
    "slideshow": {
     "slide_type": "slide"
    }
   },
   "source": [
    "Si $x$ está en el dominio de la función $f$, cuando $x$ entra en la máquina, esta la acepta como una entrada apropiada y produce una salida $f(x)$ de acuerdo con la regla de la función. "
   ]
  },
  {
   "cell_type": "markdown",
   "id": "2f0aa5a4",
   "metadata": {
    "slideshow": {
     "slide_type": "slide"
    }
   },
   "source": [
    "Así, puede pensar el dominio como el conjunto de todas las posibles entradas, y en el rango como el \n",
    "conjunto de todas las posibles salidas."
   ]
  },
  {
   "cell_type": "markdown",
   "id": "f17cf22d",
   "metadata": {
    "slideshow": {
     "slide_type": "slide"
    }
   },
   "source": [
    "Las funciones preprogramadas en una calculadora son ejemplos de una función como \n",
    "una máquina. Por ejemplo, la tecla raíz cuadrada en la calculadora calcula esa función. \n",
    "Oprima la tecla etiquetada s (o sx ) e introduzca la entrada x; si x , 0, entonces x no \n",
    "está en el dominio de esta función; es decir, x no es una entrada aceptable, y la calculadora indicará un error. Si x > 0, entonces se presentará una aproximación a sx en la \n",
    "pantalla. "
   ]
  },
  {
   "cell_type": "markdown",
   "id": "3c453fce",
   "metadata": {
    "slideshow": {
     "slide_type": "slide"
    }
   },
   "source": [
    "Así, la tecla sx en la calculadora no es exactamente lo mismo que la función \n",
    "matemática f definida por f (x) 5 sx .\n",
    "Otra forma de imaginar una función es con un diagrama de flechas como en la \u001fgura 3. \n",
    "Cada \u001e",
    "echa conecta un elemento de D con un elemento de E. La \u001e",
    "echa indica que f(x) \n",
    "está asociada con x, f(a) está asociada con a, y así sucesivamente.\n",
    "El método más común para visualizar una función es su grá\u001fca. Si f es una función \n",
    "con dominio D, entonces su grá\u001e",
    "ca es el conjunto de pares ordenados"
   ]
  },
  {
   "cell_type": "code",
   "execution_count": null,
   "id": "cd875a6f",
   "metadata": {
    "slideshow": {
     "slide_type": "slide"
    }
   },
   "outputs": [],
   "source": []
  },
  {
   "cell_type": "markdown",
   "id": "d361257f",
   "metadata": {
    "slideshow": {
     "slide_type": "slide"
    }
   },
   "source": [
    "<img src = 'https://github.com/marco-canas/3_fundamentos-de-las-matematicas/blob/main/clases/6_class_feb_28_funciones_polinomicas/fig_4_y_5_significado_de_la_imagen_en_un_punto.png?raw=true'>"
   ]
  },
  {
   "cell_type": "markdown",
   "id": "a4292f86",
   "metadata": {
    "slideshow": {
     "slide_type": "slide"
    }
   },
   "source": [
    "## Situación problemática"
   ]
  },
  {
   "cell_type": "markdown",
   "id": "7d423a20",
   "metadata": {
    "slideshow": {
     "slide_type": "slide"
    }
   },
   "source": [
    "EJEMPLO 5 Un contenedor rectangular sin tapa tiene un volumen de 10 m3\n",
    ". La lon\u0002gitud de su base es dos veces su ancho. El material para la base cuesta $10 por metro \n",
    "cuadrado, y el material para los lados cuesta $6 por metro cuadrado. Exprese el costo \n",
    "de los materiales como una función del ancho de la base."
   ]
  },
  {
   "cell_type": "markdown",
   "id": "b0f21736",
   "metadata": {
    "slideshow": {
     "slide_type": "slide"
    }
   },
   "source": [
    "## Solución Construcción del modelo"
   ]
  },
  {
   "cell_type": "markdown",
   "id": "923c96a0",
   "metadata": {
    "slideshow": {
     "slide_type": "slide"
    }
   },
   "source": [
    "$$ c(a)  = \\frac{180}{a} + 20a^{2}$$"
   ]
  },
  {
   "cell_type": "code",
   "execution_count": null,
   "id": "63779fc3",
   "metadata": {},
   "outputs": [],
   "source": []
  },
  {
   "cell_type": "code",
   "execution_count": null,
   "id": "8c92a66d",
   "metadata": {},
   "outputs": [],
   "source": []
  },
  {
   "cell_type": "markdown",
   "id": "b2054b89",
   "metadata": {
    "slideshow": {
     "slide_type": "slide"
    }
   },
   "source": [
    "## Tareas para realizar en clase\n"
   ]
  },
  {
   "cell_type": "code",
   "execution_count": null,
   "id": "1a8844cf",
   "metadata": {
    "slideshow": {
     "slide_type": "slide"
    }
   },
   "outputs": [],
   "source": []
  },
  {
   "cell_type": "markdown",
   "id": "b0ffb1ea",
   "metadata": {},
   "source": [
    "## Tareas para realizar por fuera de clase"
   ]
  },
  {
   "cell_type": "markdown",
   "id": "ad48d148",
   "metadata": {
    "slideshow": {
     "slide_type": "slide"
    }
   },
   "source": [
    "* Observación\n",
    "* memorización\n",
    "\n",
    "Suma de términos semejantes\n",
    "Multiplicación de polinomios\n",
    "altua en inglés: \n",
    "\n",
    "* sitetizar\n",
    "\n",
    "Y para estas tareas tenemos los videos de apoyo y los cuadernos en el repositorio Fundamentos de las matemáticas. "
   ]
  },
  {
   "cell_type": "markdown",
   "id": "b37cc5fe",
   "metadata": {},
   "source": [
    "* Aprenderse la definición de términos semejantes\n",
    "* Realizar la lista de ejercicios 7 de la página 9 del álgebra de baldor. "
   ]
  },
  {
   "cell_type": "markdown",
   "id": "b828aa42",
   "metadata": {
    "slideshow": {
     "slide_type": "slide"
    }
   },
   "source": [
    "## Evaluación (Puntos posibles para quiz o parcial)"
   ]
  },
  {
   "cell_type": "markdown",
   "id": "393304fa",
   "metadata": {
    "slideshow": {
     "slide_type": "slide"
    }
   },
   "source": []
  },
  {
   "cell_type": "markdown",
   "id": "edae581b",
   "metadata": {
    "slideshow": {
     "slide_type": "slide"
    }
   },
   "source": [
    "## Referentes  \n",
    "\n",
    "* [stewart](https://udeaeduco-my.sharepoint.com/:b:/g/personal/marco_canas_udea_edu_co/EZgXZjAp8QxPqOAim2hs6LcBNPLGjSHf-xwYnUVYkwa04w?e=z1TOmD) Página 42 "
   ]
  },
  {
   "cell_type": "markdown",
   "id": "5e4bb2ec",
   "metadata": {
    "slideshow": {
     "slide_type": "slide"
    }
   },
   "source": [
    "## [Evaluación de la clase del profesor Marco Cañas](https://forms.office.com/Pages/ResponsePage.aspx?id=IefhmYRxjkmK_7KtTlPBwkanXIs1i1FEujpsZgO6dXpUREJPV1kxUk1JV1ozTFJIQVNIQjY5WEY3US4u)"
   ]
  },
  {
   "cell_type": "code",
   "execution_count": null,
   "id": "1b26f143",
   "metadata": {},
   "outputs": [],
   "source": []
  }
 ],
 "metadata": {
  "celltoolbar": "Slideshow",
  "kernelspec": {
   "display_name": "Python 3 (ipykernel)",
   "language": "python",
   "name": "python3"
  },
  "language_info": {
   "codemirror_mode": {
    "name": "ipython",
    "version": 3
   },
   "file_extension": ".py",
   "mimetype": "text/x-python",
   "name": "python",
   "nbconvert_exporter": "python",
   "pygments_lexer": "ipython3",
   "version": "3.9.13"
  }
 },
 "nbformat": 4,
 "nbformat_minor": 5
}
