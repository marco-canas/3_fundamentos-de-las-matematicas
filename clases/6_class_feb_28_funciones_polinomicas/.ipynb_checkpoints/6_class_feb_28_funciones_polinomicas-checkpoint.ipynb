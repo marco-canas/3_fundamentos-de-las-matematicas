{
 "cells": [
  {
   "cell_type": "markdown",
   "id": "7407e220",
   "metadata": {
    "slideshow": {
     "slide_type": "slide"
    }
   },
   "source": [
    "<table align=\"left\">\n",
    "  <td>\n",
    "    <a href=\"https://colab.research.google.com/github/marco-canas/3_fundamentos-de-las-matematicas/blob/main/clases/5_class_feb_23_funciones_como_modelos/5_class_feb_23_funciones_modelos.ipynb\" target=\"_parent\"><img src=\"https://colab.research.google.com/assets/colab-badge.svg\" alt=\"Open In Colab\"/></a>\n",
    "  </td>\n",
    "</table>"
   ]
  },
  {
   "cell_type": "markdown",
   "id": "483f4d9f",
   "metadata": {
    "slideshow": {
     "slide_type": "slide"
    }
   },
   "source": [
    "## [Video de apoyo]()"
   ]
  },
  {
   "cell_type": "markdown",
   "id": "feb6557f",
   "metadata": {
    "slideshow": {
     "slide_type": "slide"
    }
   },
   "source": [
    "# Clase 6 de Febrero 28 Funciones polinómicas"
   ]
  },
  {
   "cell_type": "markdown",
   "id": "5625a248",
   "metadata": {},
   "source": [
    "[Programa del curso de Fundamentos de las matemáticas]()"
   ]
  },
  {
   "cell_type": "markdown",
   "id": "a0ce0f19",
   "metadata": {},
   "source": [
    "Eje 2. Generalizando el pensamiento científico.\n",
    "\n",
    "Preguntas orientadoras\n",
    "\n",
    "•\t¿Necesitamos calcular el aumento (o decrecimiento) de bacterias en un cultivo pasado un lapso?, ¿Cómo generalizamos nuestros cálculos?\n",
    "•\t¿Cuáles fenómenos cotidianos pueden expresarse mediante una ecuación? \n",
    "•\t¿Cómo se pueden usar algunos conceptos matemáticos en la descripción de problemas o situaciones cotidianas? \n"
   ]
  },
  {
   "cell_type": "markdown",
   "id": "c9036c5b",
   "metadata": {
    "slideshow": {
     "slide_type": "slide"
    }
   },
   "source": [
    "Modelo pedagógico de enseñanza: [Aula invertida]()\n",
    "\n"
   ]
  },
  {
   "cell_type": "markdown",
   "id": "45ad23c0",
   "metadata": {
    "slideshow": {
     "slide_type": "slide"
    }
   },
   "source": [
    "## Objetivo de aprendizaje\n",
    "\n",
    "* aprender a construir modelos sencillos \n",
    "\n"
   ]
  },
  {
   "cell_type": "code",
   "execution_count": null,
   "id": "90f5c482",
   "metadata": {
    "slideshow": {
     "slide_type": "slide"
    }
   },
   "outputs": [],
   "source": []
  },
  {
   "cell_type": "code",
   "execution_count": null,
   "id": "5f1dfc6e",
   "metadata": {
    "slideshow": {
     "slide_type": "slide"
    }
   },
   "outputs": [],
   "source": []
  },
  {
   "cell_type": "code",
   "execution_count": null,
   "id": "410e24d4",
   "metadata": {
    "slideshow": {
     "slide_type": "slide"
    }
   },
   "outputs": [],
   "source": []
  },
  {
   "cell_type": "code",
   "execution_count": null,
   "id": "c07319b7",
   "metadata": {
    "slideshow": {
     "slide_type": "slide"
    }
   },
   "outputs": [],
   "source": []
  },
  {
   "cell_type": "markdown",
   "id": "e3c3c81f",
   "metadata": {
    "slideshow": {
     "slide_type": "slide"
    }
   },
   "source": [
    "## Tareas para realizar en clase\n"
   ]
  },
  {
   "cell_type": "code",
   "execution_count": null,
   "id": "1a8844cf",
   "metadata": {
    "slideshow": {
     "slide_type": "slide"
    }
   },
   "outputs": [],
   "source": []
  },
  {
   "cell_type": "markdown",
   "id": "1b7bc18a",
   "metadata": {},
   "source": [
    "## Tareas para realizar por fuera de clase"
   ]
  },
  {
   "cell_type": "code",
   "execution_count": null,
   "id": "e3108053",
   "metadata": {
    "slideshow": {
     "slide_type": "slide"
    }
   },
   "outputs": [],
   "source": []
  },
  {
   "cell_type": "markdown",
   "id": "7aaf0fe7",
   "metadata": {
    "slideshow": {
     "slide_type": "slide"
    }
   },
   "source": [
    "## Evaluación (Puntos posibles para quiz o parcial)"
   ]
  },
  {
   "cell_type": "code",
   "execution_count": null,
   "id": "5dac6e8b",
   "metadata": {
    "slideshow": {
     "slide_type": "slide"
    }
   },
   "outputs": [],
   "source": []
  },
  {
   "cell_type": "markdown",
   "id": "29c8bfaf",
   "metadata": {
    "slideshow": {
     "slide_type": "slide"
    }
   },
   "source": [
    "## Referentes  \n",
    "\n",
    "* [stewart]()"
   ]
  },
  {
   "cell_type": "code",
   "execution_count": null,
   "id": "759dc6d9",
   "metadata": {},
   "outputs": [],
   "source": []
  }
 ],
 "metadata": {
  "celltoolbar": "Slideshow",
  "kernelspec": {
   "display_name": "Python 3 (ipykernel)",
   "language": "python",
   "name": "python3"
  },
  "language_info": {
   "codemirror_mode": {
    "name": "ipython",
    "version": 3
   },
   "file_extension": ".py",
   "mimetype": "text/x-python",
   "name": "python",
   "nbconvert_exporter": "python",
   "pygments_lexer": "ipython3",
   "version": "3.9.13"
  }
 },
 "nbformat": 4,
 "nbformat_minor": 5
}
