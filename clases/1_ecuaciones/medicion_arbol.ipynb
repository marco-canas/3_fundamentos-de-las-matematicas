{
 "cells": [
  {
   "cell_type": "markdown",
   "id": "6f582bf7",
   "metadata": {
    "slideshow": {
     "slide_type": "slide"
    }
   },
   "source": []
  },
  {
   "cell_type": "markdown",
   "id": "ef87461b",
   "metadata": {
    "slideshow": {
     "slide_type": "slide"
    }
   },
   "source": [
    "# Medición de la altura de un arbol alto"
   ]
  },
  {
   "cell_type": "markdown",
   "id": "2e2818d9",
   "metadata": {
    "slideshow": {
     "slide_type": "slide"
    }
   },
   "source": [
    "## Planteamiento del problema"
   ]
  },
  {
   "cell_type": "markdown",
   "id": "e89cc53a",
   "metadata": {
    "slideshow": {
     "slide_type": "slide"
    }
   },
   "source": [
    "## Visualización de la situación problemática \n",
    "\n",
    "<img src = ''>\n"
   ]
  },
  {
   "cell_type": "code",
   "execution_count": null,
   "id": "c6b3d2fb",
   "metadata": {
    "slideshow": {
     "slide_type": "slide"
    }
   },
   "outputs": [],
   "source": []
  },
  {
   "cell_type": "markdown",
   "id": "2ba64b8e",
   "metadata": {
    "slideshow": {
     "slide_type": "slide"
    }
   },
   "source": [
    "## Solución"
   ]
  },
  {
   "cell_type": "markdown",
   "id": "892c7f61",
   "metadata": {
    "slideshow": {
     "slide_type": "slide"
    }
   },
   "source": [
    "Como los áreboles determinan tres segmentos paralelos verticales y el suelo y la visual determinan transversales a estas paralelas, entonces el resultado teórico aplicable es el de el teorema de Tales sobre la proporcionalidad de los segmentos entre paralelas. "
   ]
  },
  {
   "cell_type": "markdown",
   "id": "a9148695",
   "metadata": {
    "slideshow": {
     "slide_type": "slide"
    }
   },
   "source": [
    "**Si en un triángulo se traza una paralela a uno de sus lados, entonces esta paralela determina triángulos semejantes**  \n",
    "\n",
    "**Y triángulos semejantes determinan lados respectivos proporcionales** "
   ]
  },
  {
   "cell_type": "markdown",
   "id": "f68ed9f9",
   "metadata": {
    "slideshow": {
     "slide_type": "slide"
    }
   },
   "source": [
    "# Modelo \n",
    "\n",
    "\n",
    "$$ \\frac{5}{20} = \\frac{x}{25+x}  $$\n"
   ]
  },
  {
   "cell_type": "markdown",
   "id": "0b04a249",
   "metadata": {
    "slideshow": {
     "slide_type": "slide"
    }
   },
   "source": [
    "$$ \\frac{h}{20} = \\frac{15+x}{25+x} $$"
   ]
  },
  {
   "cell_type": "markdown",
   "id": "19a3fdcb",
   "metadata": {
    "slideshow": {
     "slide_type": "slide"
    }
   },
   "source": [
    "# Solución del modelo utilizando SymPy"
   ]
  },
  {
   "cell_type": "code",
   "execution_count": 17,
   "id": "b100fcd0",
   "metadata": {
    "slideshow": {
     "slide_type": "slide"
    }
   },
   "outputs": [],
   "source": [
    "from sympy import * # \n",
    "x, h = var('x h') \n",
    "ecuacion_1 = Eq(5/20, x/(25+x))\n",
    "ecuacion_2 = Eq(h/20, (150+x)/(25+x))"
   ]
  },
  {
   "cell_type": "code",
   "execution_count": 18,
   "id": "7e9b5287",
   "metadata": {
    "slideshow": {
     "slide_type": "slide"
    }
   },
   "outputs": [
    {
     "data": {
      "text/latex": [
       "$\\displaystyle 8.33333333333333$"
      ],
      "text/plain": [
       "8.33333333333333"
      ]
     },
     "execution_count": 18,
     "metadata": {},
     "output_type": "execute_result"
    }
   ],
   "source": [
    "x_ = solve(ecuacion_1, x)[0] \n",
    "x_ "
   ]
  },
  {
   "cell_type": "code",
   "execution_count": 19,
   "id": "05a5b2a6",
   "metadata": {
    "slideshow": {
     "slide_type": "slide"
    }
   },
   "outputs": [
    {
     "data": {
      "text/latex": [
       "$\\displaystyle 95.0$"
      ],
      "text/plain": [
       "95.0000000000000"
      ]
     },
     "execution_count": 19,
     "metadata": {},
     "output_type": "execute_result"
    }
   ],
   "source": [
    "h = solve(ecuacion_2, h)\n",
    "h[0].subs(x,x_)"
   ]
  },
  {
   "cell_type": "markdown",
   "id": "158a95ac",
   "metadata": {
    "slideshow": {
     "slide_type": "slide"
    }
   },
   "source": [
    "### Conclusión\n",
    "\n",
    "\n",
    "* el arbol grande tiene una altura estumada de 95 pies. "
   ]
  },
  {
   "cell_type": "code",
   "execution_count": 26,
   "id": "8c254833",
   "metadata": {},
   "outputs": [
    {
     "data": {
      "text/plain": [
       "(0.0, 0.6, 0.0, 0.6)"
      ]
     },
     "execution_count": 26,
     "metadata": {},
     "output_type": "execute_result"
    },
    {
     "data": {
      "image/png": "[encoded data removed]",
      "text/plain": [
       "<Figure size 432x288 with 1 Axes>"
      ]
     },
     "metadata": {
      "needs_background": "light"
     },
     "output_type": "display_data"
    }
   ],
   "source": [
    "import numpy as np \n",
    "import matplotlib.pyplot as plt \n",
    "\n",
    "plt.figure() \n",
    "plt.title('Solución deterministica')\n",
    "\n",
    "plt.xlabel('tiempo')\n",
    "plt.ylabel('$I(t)$')\n",
    "\n",
    "plt.axis([0,0.6,0,0.6]) \n",
    "\n",
    "def sigmoide(t):\n",
    "    return 1/(1+np.exp(-t))\n",
    "\n",
    "X = np.linspace()\n"
   ]
  },
  {
   "cell_type": "code",
   "execution_count": null,
   "id": "87bbbfcd",
   "metadata": {},
   "outputs": [],
   "source": []
  }
 ],
 "metadata": {
  "celltoolbar": "Slideshow",
  "kernelspec": {
   "display_name": "Python 3 (ipykernel)",
   "language": "python",
   "name": "python3"
  },
  "language_info": {
   "codemirror_mode": {
    "name": "ipython",
    "version": 3
   },
   "file_extension": ".py",
   "mimetype": "text/x-python",
   "name": "python",
   "nbconvert_exporter": "python",
   "pygments_lexer": "ipython3",
   "version": "3.9.12"
  }
 },
 "nbformat": 4,
 "nbformat_minor": 5
}
