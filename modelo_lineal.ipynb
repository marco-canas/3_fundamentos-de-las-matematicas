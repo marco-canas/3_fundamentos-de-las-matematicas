{
  "nbformat": 4,
  "nbformat_minor": 0,
  "metadata": {
    "colab": {
      "provenance": [],
      "collapsed_sections": [],
      "include_colab_link": true
    },
    "kernelspec": {
      "name": "python3",
      "display_name": "Python 3"
    },
    "language_info": {
      "name": "python"
    }
  },
  "cells": [
    {
      "cell_type": "markdown",
      "metadata": {
        "id": "view-in-github",
        "colab_type": "text"
      },
      "source": [
        "<a href=\"https://colab.research.google.com/github/marco-canas/fundamentos-de-las-matematicas/blob/main/modelo_lineal.ipynb\" target=\"_parent\"><img src=\"https://colab.research.google.com/assets/colab-badge.svg\" alt=\"Open In Colab\"/></a>"
      ]
    },
    {
      "cell_type": "code",
      "execution_count": null,
      "metadata": {
        "id": "PlQrJUDyitIH"
      },
      "outputs": [],
      "source": []
    },
    {
      "cell_type": "markdown",
      "source": [
        "# Modelación: Regresión lineal "
      ],
      "metadata": {
        "id": "aaU_0GfKi4Bt"
      }
    },
    {
      "cell_type": "markdown",
      "source": [
        "## planteamiento del problema  \n",
        "\n",
        "Los datos de la tabla 1 se obtuvieron midiendo la presión a varias profundidades en\n",
        "el océano. En la tabla se observa que la presión se incrementa con la profundidad.\n",
        "Para ver mejor esta tendencia, se construye una gráfica de dispersión como en la\n",
        "figura 1. Al parecer los datos yacen más o menos a lo largo de una recta. Se puede intentar\n",
        "ajustar una recta en forma visual para aproximar los puntos en la gráfica de dispersión (véase fiura 2), pero este método no es exacto. Así que, ¿cómo se encuentra\n",
        "la recta que ajusta los datos lo mejor posible?\n",
        "Parece razonable elegir la recta que se acerca lo más posible a todos los puntos.\n",
        "Esta es la recta para la cual la suma de las distancias desde los puntos de datos a la\n",
        "recta es tan pequeña como sea posible (véase figura 3). Por razones técnicas es mejor\n",
        "hallar la recta donde la suma de los cuadrados de estas distancias es la más\n",
        "pequeña. La recta resultante se llama recta de regresión. La fórmula para la recta de\n",
        "regresión se encuentra por medio del cálculo. Por fortuna, esta fórmula se programa\n",
        "en la mayor parte de las calculadoras de graficación. Con una calculadora (véase\n",
        "figura 4(a)), se encuentra que la recta de regresión para los datos de profundidad-presión\n",
        "en la tabla 1 es"
      ],
      "metadata": {
        "id": "cxCaAE10jijP"
      }
    },
    {
      "cell_type": "code",
      "source": [
        "import pandas as pd \n",
        "\n",
        "import numpy as np \n",
        "\n",
        "# d: profundidad\n",
        "# P: presión\n",
        "d = np.array([5, 8, 12, 15, 18, 22, 25, 30])\n",
        "\n",
        "P = np.array([15.5, 20.3, 20.7, 20.8, 23.2, 23.8, 24.9, 29.3])\n",
        "\n",
        "representacion_tabular = pd.DataFrame({'Profundidad': d, 'Presión':P}) \n",
        "\n",
        "representacion_tabular"
      ],
      "metadata": {
        "colab": {
          "base_uri": "https://localhost:8080/",
          "height": 278
        },
        "id": "eDlNcaoJi8hD",
        "outputId": "31083770-9b6b-4680-e6e2-017a93cc4dfb"
      },
      "execution_count": 5,
      "outputs": [
        {
          "output_type": "execute_result",
          "data": {
            "text/plain": [
              "   Profundidad  Presión\n",
              "0            5     15.5\n",
              "1            8     20.3\n",
              "2           12     20.7\n",
              "3           15     20.8\n",
              "4           18     23.2\n",
              "5           22     23.8\n",
              "6           25     24.9\n",
              "7           30     29.3"
            ],
            "text/html": [
              "\n",
              "  <div id=\"df-b578c7a1-affb-4327-bdbf-871fca637192\">\n",
              "    <div class=\"colab-df-container\">\n",
              "      <div>\n",
              "<style scoped>\n",
              "    .dataframe tbody tr th:only-of-type {\n",
              "        vertical-align: middle;\n",
              "    }\n",
              "\n",
              "    .dataframe tbody tr th {\n",
              "        vertical-align: top;\n",
              "    }\n",
              "\n",
              "    .dataframe thead th {\n",
              "        text-align: right;\n",
              "    }\n",
              "</style>\n",
              "<table border=\"1\" class=\"dataframe\">\n",
              "  <thead>\n",
              "    <tr style=\"text-align: right;\">\n",
              "      <th></th>\n",
              "      <th>Profundidad</th>\n",
              "      <th>Presión</th>\n",
              "    </tr>\n",
              "  </thead>\n",
              "  <tbody>\n",
              "    <tr>\n",
              "      <th>0</th>\n",
              "      <td>5</td>\n",
              "      <td>15.5</td>\n",
              "    </tr>\n",
              "    <tr>\n",
              "      <th>1</th>\n",
              "      <td>8</td>\n",
              "      <td>20.3</td>\n",
              "    </tr>\n",
              "    <tr>\n",
              "      <th>2</th>\n",
              "      <td>12</td>\n",
              "      <td>20.7</td>\n",
              "    </tr>\n",
              "    <tr>\n",
              "      <th>3</th>\n",
              "      <td>15</td>\n",
              "      <td>20.8</td>\n",
              "    </tr>\n",
              "    <tr>\n",
              "      <th>4</th>\n",
              "      <td>18</td>\n",
              "      <td>23.2</td>\n",
              "    </tr>\n",
              "    <tr>\n",
              "      <th>5</th>\n",
              "      <td>22</td>\n",
              "      <td>23.8</td>\n",
              "    </tr>\n",
              "    <tr>\n",
              "      <th>6</th>\n",
              "      <td>25</td>\n",
              "      <td>24.9</td>\n",
              "    </tr>\n",
              "    <tr>\n",
              "      <th>7</th>\n",
              "      <td>30</td>\n",
              "      <td>29.3</td>\n",
              "    </tr>\n",
              "  </tbody>\n",
              "</table>\n",
              "</div>\n",
              "      <button class=\"colab-df-convert\" onclick=\"convertToInteractive('df-b578c7a1-affb-4327-bdbf-871fca637192')\"\n",
              "              title=\"Convert this dataframe to an interactive table.\"\n",
              "              style=\"display:none;\">\n",
              "        \n",
              "  <svg xmlns=\"http://www.w3.org/2000/svg\" height=\"24px\"viewBox=\"0 0 24 24\"\n",
              "       width=\"24px\">\n",
              "    <path d=\"M0 0h24v24H0V0z\" fill=\"none\"/>\n",
              "    <path d=\"M18.56 5.44l.94 2.06.94-2.06 2.06-.94-2.06-.94-.94-2.06-.94 2.06-2.06.94zm-11 1L8.5 8.5l.94-2.06 2.06-.94-2.06-.94L8.5 2.5l-.94 2.06-2.06.94zm10 10l.94 2.06.94-2.06 2.06-.94-2.06-.94-.94-2.06-.94 2.06-2.06.94z\"/><path d=\"M17.41 7.96l-1.37-1.37c-.4-.4-.92-.59-1.43-.59-.52 0-1.04.2-1.43.59L10.3 9.45l-7.72 7.72c-.78.78-.78 2.05 0 2.83L4 21.41c.39.39.9.59 1.41.59.51 0 1.02-.2 1.41-.59l7.78-7.78 2.81-2.81c.8-.78.8-2.07 0-2.86zM5.41 20L4 18.59l7.72-7.72 1.47 1.35L5.41 20z\"/>\n",
              "  </svg>\n",
              "      </button>\n",
              "      \n",
              "  <style>\n",
              "    .colab-df-container {\n",
              "      display:flex;\n",
              "      flex-wrap:wrap;\n",
              "      gap: 12px;\n",
              "    }\n",
              "\n",
              "    .colab-df-convert {\n",
              "      background-color: #E8F0FE;\n",
              "      border: none;\n",
              "      border-radius: 50%;\n",
              "      cursor: pointer;\n",
              "      display: none;\n",
              "      fill: #1967D2;\n",
              "      height: 32px;\n",
              "      padding: 0 0 0 0;\n",
              "      width: 32px;\n",
              "    }\n",
              "\n",
              "    .colab-df-convert:hover {\n",
              "      background-color: #E2EBFA;\n",
              "      box-shadow: 0px 1px 2px rgba(60, 64, 67, 0.3), 0px 1px 3px 1px rgba(60, 64, 67, 0.15);\n",
              "      fill: #174EA6;\n",
              "    }\n",
              "\n",
              "    [theme=dark] .colab-df-convert {\n",
              "      background-color: #3B4455;\n",
              "      fill: #D2E3FC;\n",
              "    }\n",
              "\n",
              "    [theme=dark] .colab-df-convert:hover {\n",
              "      background-color: #434B5C;\n",
              "      box-shadow: 0px 1px 3px 1px rgba(0, 0, 0, 0.15);\n",
              "      filter: drop-shadow(0px 1px 2px rgba(0, 0, 0, 0.3));\n",
              "      fill: #FFFFFF;\n",
              "    }\n",
              "  </style>\n",
              "\n",
              "      <script>\n",
              "        const buttonEl =\n",
              "          document.querySelector('#df-b578c7a1-affb-4327-bdbf-871fca637192 button.colab-df-convert');\n",
              "        buttonEl.style.display =\n",
              "          google.colab.kernel.accessAllowed ? 'block' : 'none';\n",
              "\n",
              "        async function convertToInteractive(key) {\n",
              "          const element = document.querySelector('#df-b578c7a1-affb-4327-bdbf-871fca637192');\n",
              "          const dataTable =\n",
              "            await google.colab.kernel.invokeFunction('convertToInteractive',\n",
              "                                                     [key], {});\n",
              "          if (!dataTable) return;\n",
              "\n",
              "          const docLinkHtml = 'Like what you see? Visit the ' +\n",
              "            '<a target=\"_blank\" href=https://colab.research.google.com/notebooks/data_table.ipynb>data table notebook</a>'\n",
              "            + ' to learn more about interactive tables.';\n",
              "          element.innerHTML = '';\n",
              "          dataTable['output_type'] = 'display_data';\n",
              "          await google.colab.output.renderOutput(dataTable, element);\n",
              "          const docLink = document.createElement('div');\n",
              "          docLink.innerHTML = docLinkHtml;\n",
              "          element.appendChild(docLink);\n",
              "        }\n",
              "      </script>\n",
              "    </div>\n",
              "  </div>\n",
              "  "
            ]
          },
          "metadata": {},
          "execution_count": 5
        }
      ]
    },
    {
      "cell_type": "markdown",
      "source": [
        "## Inferencias o interpretaciones de la lectura a la representación tabular de la relación entre $d$ y $P$. \n",
        "\n",
        "* A medida que la profundidad crece la presión también lo hace.\n",
        "Luego la relación entre estas dos variables es creciente.\n",
        "* La profundidad está medida en números enteros.\n",
        "* La presión requiere más precisión para describirla, y por eso requiere de número no enteros, es decir, decimales. "
      ],
      "metadata": {
        "id": "hx8OJhAwmuFy"
      }
    },
    {
      "cell_type": "markdown",
      "source": [
        "# Representación de la relación entre presión y profundidad con un diagrama de dispersión"
      ],
      "metadata": {
        "id": "VcpUkKJvpyuV"
      }
    },
    {
      "cell_type": "code",
      "source": [
        "import matplotlib.pyplot as plt \n",
        "\n",
        "plt.title ('Representación en diagrama de dispersión de la relación funcional entre presión y profundidad')\n",
        "plt.scatter(d, P)\n",
        "plt.xlabel('Profundidad $d$')\n",
        "plt.ylabel('Presión $P$')\n",
        "\n",
        "plt.show() \n",
        "\n"
      ],
      "metadata": {
        "id": "8M0FhWFYlg-y",
        "colab": {
          "base_uri": "https://localhost:8080/",
          "height": 297
        },
        "outputId": "175ac45b-5466-4f56-fffa-ca1cff8fd96c"
      },
      "execution_count": 11,
      "outputs": [
        {
          "output_type": "display_data",
          "data": {
            "text/plain": [
              "<Figure size 432x288 with 1 Axes>"
            ],
            "image/png": "[encoded data removed]"
          },
          "metadata": {
            "needs_background": "light"
          }
        }
      ]
    },
    {
      "cell_type": "markdown",
      "source": [
        "## interpretaciones o inferencias que se derivan de la lectura del gráfico de dipersión\n",
        "\n",
        "\n",
        "* "
      ],
      "metadata": {
        "id": "FSH7VJoGsFjO"
      }
    },
    {
      "cell_type": "code",
      "source": [],
      "metadata": {
        "id": "lgeVLq3kq1HU"
      },
      "execution_count": null,
      "outputs": []
    }
  ]
}